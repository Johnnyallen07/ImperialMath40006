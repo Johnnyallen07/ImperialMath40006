{
 "cells": [
  {
   "cell_type": "code",
   "execution_count": 27,
   "id": "5f5fc3bb",
   "metadata": {},
   "outputs": [],
   "source": [
    "from autograder_term2week8 import *\n",
    "_globals = globals()\n",
    "import math\n",
    "from copy import copy\n",
    "import pickle"
   ]
  },
  {
   "cell_type": "markdown",
   "id": "5f613ded",
   "metadata": {
    "nbgrader": {
     "grade": false,
     "grade_id": "cell-e530836b0256fc73",
     "locked": true,
     "schema_version": 3,
     "solution": false,
     "task": false
    }
   },
   "source": [
    "# <center> Introduction to Mathematical Computing </center>\n",
    "### <center>Phil Ramsden, Boumediene Hamzi, Sam Brzezicki, Matt Woolway</center>\n",
    "\n",
    "# <center> Worksheet 12: Sets, Frozensets, Dictionaries, Files</center>"
   ]
  },
  {
   "cell_type": "markdown",
   "id": "edc64fd3",
   "metadata": {
    "nbgrader": {
     "grade": false,
     "grade_id": "cell-9e645d3b2cda3c62",
     "locked": true,
     "schema_version": 3,
     "solution": false,
     "task": false
    }
   },
   "source": [
    "## Question 0: don't miss this bit!\n",
    "\n",
    "In the file called `my_username.txt`, type your <b>short-form College user name</b> (this will usually be one or more letters followed by three or more figures, such as qk4019). Don't use quote marks. Then save the file."
   ]
  },
  {
   "cell_type": "code",
   "execution_count": 28,
   "id": "81aefeb2",
   "metadata": {
    "nbgrader": {
     "grade": true,
     "grade_id": "cell-da7dc1d6c8be001a",
     "locked": true,
     "points": 5,
     "schema_version": 3,
     "solution": false,
     "task": false
    }
   },
   "outputs": [
    {
     "name": "stdout",
     "output_type": "stream",
     "text": [
      "You've changed the contents of the file; thank you!\n",
      "Your username has been recognised; thank you!\n",
      "\n",
      "5 out of 5 marks\n"
     ]
    },
    {
     "data": {
      "text/plain": "5"
     },
     "execution_count": 28,
     "metadata": {},
     "output_type": "execute_result"
    }
   ],
   "source": [
    "# 5 Marks\n",
    "# Do not try to delete this cell\n",
    "# Run this cell for grading of Question 0\n",
    "_globals = globals()\n",
    "question0(_globals)"
   ]
  },
  {
   "cell_type": "markdown",
   "id": "243df48a",
   "metadata": {
    "nbgrader": {
     "grade": false,
     "grade_id": "cell-15a4fdea8e29d5af",
     "locked": true,
     "schema_version": 3,
     "solution": false,
     "task": false
    }
   },
   "source": [
    "## Question 1\n",
    "\n",
    "### (i)\n",
    "\n",
    "(a) Create a list, a tuple, a set and a frozenset, each containing the odd integers between 13 and 103 inclusive."
   ]
  },
  {
   "cell_type": "code",
   "execution_count": 29,
   "id": "013463fa",
   "metadata": {
    "nbgrader": {
     "grade": false,
     "grade_id": "cell-5bad39258340d53f",
     "locked": false,
     "schema_version": 3,
     "solution": true,
     "task": false
    }
   },
   "outputs": [
    {
     "name": "stdout",
     "output_type": "stream",
     "text": [
      "[13, 15, 17, 19, 21, 23, 25, 27, 29, 31, 33, 35, 37, 39, 41, 43, 45, 47, 49, 51, 53, 55, 57, 59, 61, 63, 65, 67, 69, 71, 73, 75, 77, 79, 81, 83, 85, 87, 89, 91, 93, 95, 97, 99, 101, 103]\n",
      "(13, 15, 17, 19, 21, 23, 25, 27, 29, 31, 33, 35, 37, 39, 41, 43, 45, 47, 49, 51, 53, 55, 57, 59, 61, 63, 65, 67, 69, 71, 73, 75, 77, 79, 81, 83, 85, 87, 89, 91, 93, 95, 97, 99, 101, 103)\n",
      "{13, 15, 17, 19, 21, 23, 25, 27, 29, 31, 33, 35, 37, 39, 41, 43, 45, 47, 49, 51, 53, 55, 57, 59, 61, 63, 65, 67, 69, 71, 73, 75, 77, 79, 81, 83, 85, 87, 89, 91, 93, 95, 97, 99, 101, 103}\n",
      "frozenset({13, 15, 17, 19, 21, 23, 25, 27, 29, 31, 33, 35, 37, 39, 41, 43, 45, 47, 49, 51, 53, 55, 57, 59, 61, 63, 65, 67, 69, 71, 73, 75, 77, 79, 81, 83, 85, 87, 89, 91, 93, 95, 97, 99, 101, 103})\n"
     ]
    }
   ],
   "source": [
    "### BEGIN SOLUTION\n",
    "list1 = list(range(13,104,2))\n",
    "tuple1 = tuple(range(13,104,2))\n",
    "set1 = set(range(13,104,2))\n",
    "fs1 = frozenset(range(13,104,2))\n",
    "### END SOLUTION\n",
    "\n",
    "print(list1)\n",
    "print(tuple1)\n",
    "print(set1)\n",
    "print(fs1)"
   ]
  },
  {
   "cell_type": "code",
   "execution_count": 30,
   "id": "98c433e6",
   "metadata": {
    "nbgrader": {
     "grade": true,
     "grade_id": "cell-985d45de372b4792",
     "locked": true,
     "points": 2,
     "schema_version": 3,
     "solution": false,
     "task": false
    }
   },
   "outputs": [
    {
     "name": "stdout",
     "output_type": "stream",
     "text": [
      "list1 contains the correct data\n",
      "tuple1 contains the correct data\n",
      "set1 contains the correct data\n",
      "fs1 contains the correct data\n",
      "\n",
      "list1 is a list\n",
      "tuple1 is a tuple\n",
      "set1 is a set\n",
      "fs1 is a frozenset\n",
      "\n",
      "2 out of 2\n"
     ]
    },
    {
     "data": {
      "text/plain": "2"
     },
     "execution_count": 30,
     "metadata": {},
     "output_type": "execute_result"
    }
   ],
   "source": [
    "# 2 Marks\n",
    "# Do not try to delete this cell\n",
    "# Run this cell for grading\n",
    "_globals = globals()\n",
    "question1ia(_globals)"
   ]
  },
  {
   "cell_type": "markdown",
   "id": "aa749ead",
   "metadata": {
    "nbgrader": {
     "grade": false,
     "grade_id": "cell-9c6eb76015336018",
     "locked": true,
     "schema_version": 3,
     "solution": false,
     "task": false
    }
   },
   "source": [
    "(b) Set up `list2`, identically equal to `list1`, and `list3`, a copy of `list1` created using the `copy` function.\n",
    "Also set up `set2`, identically equal to `set1`, and `set3`, a copy of `set1` created using the `copy` function."
   ]
  },
  {
   "cell_type": "code",
   "execution_count": 31,
   "id": "de88eb87",
   "metadata": {
    "nbgrader": {
     "grade": false,
     "grade_id": "cell-2c5a79c99b279f52",
     "locked": false,
     "schema_version": 3,
     "solution": true,
     "task": false
    }
   },
   "outputs": [
    {
     "name": "stdout",
     "output_type": "stream",
     "text": [
      "[13, 15, 17, 19, 21, 23, 25, 27, 29, 31, 33, 35, 37, 39, 41, 43, 45, 47, 49, 51, 53, 55, 57, 59, 61, 63, 65, 67, 69, 71, 73, 75, 77, 79, 81, 83, 85, 87, 89, 91, 93, 95, 97, 99, 101, 103]\n",
      "[13, 15, 17, 19, 21, 23, 25, 27, 29, 31, 33, 35, 37, 39, 41, 43, 45, 47, 49, 51, 53, 55, 57, 59, 61, 63, 65, 67, 69, 71, 73, 75, 77, 79, 81, 83, 85, 87, 89, 91, 93, 95, 97, 99, 101, 103]\n",
      "{13, 15, 17, 19, 21, 23, 25, 27, 29, 31, 33, 35, 37, 39, 41, 43, 45, 47, 49, 51, 53, 55, 57, 59, 61, 63, 65, 67, 69, 71, 73, 75, 77, 79, 81, 83, 85, 87, 89, 91, 93, 95, 97, 99, 101, 103}\n",
      "{13, 15, 17, 19, 21, 23, 25, 27, 29, 31, 33, 35, 37, 39, 41, 43, 45, 47, 49, 51, 53, 55, 57, 59, 61, 63, 65, 67, 69, 71, 73, 75, 77, 79, 81, 83, 85, 87, 89, 91, 93, 95, 97, 99, 101, 103}\n"
     ]
    }
   ],
   "source": [
    "### BEGIN SOLUTION\n",
    "list2 = list1\n",
    "list3 = copy(list1)\n",
    "set2 = set1\n",
    "set3 = copy(set1)\n",
    "### END SOLUTION\n",
    "\n",
    "print(list2)\n",
    "print(list3)\n",
    "print(set2)\n",
    "print(set3)"
   ]
  },
  {
   "cell_type": "code",
   "execution_count": 32,
   "id": "2a5c7169",
   "metadata": {
    "nbgrader": {
     "grade": true,
     "grade_id": "cell-e2dc6aa11630389b",
     "locked": true,
     "points": 4,
     "schema_version": 3,
     "solution": false,
     "task": false
    }
   },
   "outputs": [
    {
     "name": "stdout",
     "output_type": "stream",
     "text": [
      "list2 contains the same elements as list1\n",
      "list2 is the same object as list1, which is correct\n",
      "\n",
      "list3 contains the same elements as list1\n",
      "list3 is not the same object as list1, which is correct\n",
      "\n",
      "set2 contains the same elements as set2\n",
      "set2 is the same object as set1, which is correct\n",
      "\n",
      "set3 contains the same elements as set1\n",
      "set3 is not the same object as set1, which is correct\n",
      "\n",
      "4 out of 4\n"
     ]
    },
    {
     "data": {
      "text/plain": "4"
     },
     "execution_count": 32,
     "metadata": {},
     "output_type": "execute_result"
    }
   ],
   "source": [
    "# 4 Marks\n",
    "# Do not try to delete this cell\n",
    "# Run this cell for grading\n",
    "_globals = globals()\n",
    "question1ib(_globals)"
   ]
  },
  {
   "cell_type": "markdown",
   "id": "5c6eb959",
   "metadata": {
    "nbgrader": {
     "grade": false,
     "grade_id": "cell-c776f2bff06a399c",
     "locked": true,
     "schema_version": 3,
     "solution": false,
     "task": false
    }
   },
   "source": [
    "(c) Introduce the element 105 to `list1` using the `append` method, and introduce the element 105 to `set1` using the `add` method. "
   ]
  },
  {
   "cell_type": "code",
   "execution_count": 33,
   "id": "83e5c93f",
   "metadata": {
    "nbgrader": {
     "grade": false,
     "grade_id": "cell-db56a67357ca11dd",
     "locked": false,
     "schema_version": 3,
     "solution": true,
     "task": false
    }
   },
   "outputs": [
    {
     "name": "stdout",
     "output_type": "stream",
     "text": [
      "[13, 15, 17, 19, 21, 23, 25, 27, 29, 31, 33, 35, 37, 39, 41, 43, 45, 47, 49, 51, 53, 55, 57, 59, 61, 63, 65, 67, 69, 71, 73, 75, 77, 79, 81, 83, 85, 87, 89, 91, 93, 95, 97, 99, 101, 103, 105]\n",
      "{13, 15, 17, 19, 21, 23, 25, 27, 29, 31, 33, 35, 37, 39, 41, 43, 45, 47, 49, 51, 53, 55, 57, 59, 61, 63, 65, 67, 69, 71, 73, 75, 77, 79, 81, 83, 85, 87, 89, 91, 93, 95, 97, 99, 101, 103, 105}\n"
     ]
    }
   ],
   "source": [
    "### BEGIN SOLUTION\n",
    "list1.append(105)\n",
    "set1.add(105)\n",
    "### END SOLUTION\n",
    "\n",
    "print(list1)\n",
    "print(set1)"
   ]
  },
  {
   "cell_type": "code",
   "execution_count": 34,
   "id": "a37ebacc",
   "metadata": {
    "nbgrader": {
     "grade": true,
     "grade_id": "cell-6dcd5a8637a9e567",
     "locked": true,
     "points": 2,
     "schema_version": 3,
     "solution": false,
     "task": false
    }
   },
   "outputs": [
    {
     "name": "stdout",
     "output_type": "stream",
     "text": [
      "list1 is correct\n",
      "set1 is correct\n",
      "2 out of 2\n"
     ]
    },
    {
     "data": {
      "text/plain": "2"
     },
     "execution_count": 34,
     "metadata": {},
     "output_type": "execute_result"
    }
   ],
   "source": [
    "# 2 Marks\n",
    "# Do not try to delete this cell\n",
    "# Run this cell for grading\n",
    "_globals = globals()\n",
    "question1ic(_globals)"
   ]
  },
  {
   "cell_type": "markdown",
   "id": "0ed9410b",
   "metadata": {
    "nbgrader": {
     "grade": false,
     "grade_id": "cell-7d2d3d37364f39ba",
     "locked": true,
     "schema_version": 3,
     "solution": false,
     "task": false
    }
   },
   "source": [
    "(d) Check the values of `list2`, `list3`, `set2` and `set3`. Which of the following is true?\n",
    "\n",
    "<ol>\n",
    "    <li>The values of <code>list2</code>, <code>list3</code>, <code>set2</code> and <code>set3</code> have all changed.</li>\n",
    "    <li>The values of <code>list2</code>, <code>list3</code>, <code>set2</code> and <code>set3</code> have all stayed the same.</li>\n",
    "    <li>The values of <code>list2</code> and <code>set2</code> have changed, but the values of <code>list3</code> and <code>set3</code> have stayed the same.</li>\n",
    "    <li>The values of <code>list3</code> and <code>set3</code> have changed, but the values of <code>list2</code> and <code>set2</code> have stayed the same.</li>\n",
    "    <li>Only<code>list2</code> has changed; the rest have have stayed the same.</li>\n",
    "    <li>Only<code>set2</code> has changed; the rest have have stayed the same.</li>\n",
    "</ol>"
   ]
  },
  {
   "cell_type": "code",
   "execution_count": 35,
   "id": "4fb32148",
   "metadata": {
    "nbgrader": {
     "grade": false,
     "grade_id": "cell-6db2e1ccdd6aed11",
     "locked": false,
     "schema_version": 3,
     "solution": true,
     "task": false
    }
   },
   "outputs": [
    {
     "name": "stdout",
     "output_type": "stream",
     "text": [
      "[13, 15, 17, 19, 21, 23, 25, 27, 29, 31, 33, 35, 37, 39, 41, 43, 45, 47, 49, 51, 53, 55, 57, 59, 61, 63, 65, 67, 69, 71, 73, 75, 77, 79, 81, 83, 85, 87, 89, 91, 93, 95, 97, 99, 101, 103, 105]\n",
      "[13, 15, 17, 19, 21, 23, 25, 27, 29, 31, 33, 35, 37, 39, 41, 43, 45, 47, 49, 51, 53, 55, 57, 59, 61, 63, 65, 67, 69, 71, 73, 75, 77, 79, 81, 83, 85, 87, 89, 91, 93, 95, 97, 99, 101, 103]\n",
      "{13, 15, 17, 19, 21, 23, 25, 27, 29, 31, 33, 35, 37, 39, 41, 43, 45, 47, 49, 51, 53, 55, 57, 59, 61, 63, 65, 67, 69, 71, 73, 75, 77, 79, 81, 83, 85, 87, 89, 91, 93, 95, 97, 99, 101, 103, 105}\n",
      "{13, 15, 17, 19, 21, 23, 25, 27, 29, 31, 33, 35, 37, 39, 41, 43, 45, 47, 49, 51, 53, 55, 57, 59, 61, 63, 65, 67, 69, 71, 73, 75, 77, 79, 81, 83, 85, 87, 89, 91, 93, 95, 97, 99, 101, 103}\n"
     ]
    }
   ],
   "source": [
    "print(list2)\n",
    "print(list3)\n",
    "print(set2)\n",
    "print(set3)\n",
    "\n",
    "### BEGIN SOLUTION\n",
    "question1id_answer = 3\n",
    "### END SOLUTION"
   ]
  },
  {
   "cell_type": "code",
   "execution_count": 36,
   "id": "3e54a704",
   "metadata": {
    "nbgrader": {
     "grade": true,
     "grade_id": "cell-79f6b308a520727c",
     "locked": true,
     "points": 1,
     "schema_version": 3,
     "solution": false,
     "task": false
    }
   },
   "outputs": [
    {
     "name": "stdout",
     "output_type": "stream",
     "text": [
      "test case passed!\n"
     ]
    }
   ],
   "source": [
    "# 1 Mark\n",
    "assert(question1id_answer == question1id())\n",
    "print('test case passed!')"
   ]
  },
  {
   "cell_type": "markdown",
   "id": "bbdea651",
   "metadata": {
    "nbgrader": {
     "grade": false,
     "grade_id": "cell-d7b037ff997517ab",
     "locked": true,
     "schema_version": 3,
     "solution": false,
     "task": false
    }
   },
   "source": [
    "(e) Again, introduce the element 105 to `list1` using the `append` method, and introduce the element 105 to `set1` using the `add` method."
   ]
  },
  {
   "cell_type": "code",
   "execution_count": 37,
   "id": "b5c523f1",
   "metadata": {
    "nbgrader": {
     "grade": false,
     "grade_id": "cell-53dbb31f38cee238",
     "locked": false,
     "schema_version": 3,
     "solution": true,
     "task": false
    }
   },
   "outputs": [
    {
     "name": "stdout",
     "output_type": "stream",
     "text": [
      "[13, 15, 17, 19, 21, 23, 25, 27, 29, 31, 33, 35, 37, 39, 41, 43, 45, 47, 49, 51, 53, 55, 57, 59, 61, 63, 65, 67, 69, 71, 73, 75, 77, 79, 81, 83, 85, 87, 89, 91, 93, 95, 97, 99, 101, 103, 105, 105]\n",
      "{13, 15, 17, 19, 21, 23, 25, 27, 29, 31, 33, 35, 37, 39, 41, 43, 45, 47, 49, 51, 53, 55, 57, 59, 61, 63, 65, 67, 69, 71, 73, 75, 77, 79, 81, 83, 85, 87, 89, 91, 93, 95, 97, 99, 101, 103, 105}\n"
     ]
    }
   ],
   "source": [
    "### BEGIN SOLUTION\n",
    "list1.append(105)\n",
    "set1.add(105)\n",
    "### END SOLUTION\n",
    "\n",
    "print(list1)\n",
    "print(set1)"
   ]
  },
  {
   "cell_type": "code",
   "execution_count": 38,
   "id": "c5f043a1",
   "metadata": {
    "nbgrader": {
     "grade": true,
     "grade_id": "cell-2b3879d9477c0181",
     "locked": true,
     "points": 2,
     "schema_version": 3,
     "solution": false,
     "task": false
    }
   },
   "outputs": [
    {
     "name": "stdout",
     "output_type": "stream",
     "text": [
      "list1 is correct\n",
      "set1 is correct\n",
      "2 out of 2\n"
     ]
    },
    {
     "data": {
      "text/plain": "2"
     },
     "execution_count": 38,
     "metadata": {},
     "output_type": "execute_result"
    }
   ],
   "source": [
    "# 2 Marks\n",
    "# Do not try to delete this cell\n",
    "# Run this cell for grading\n",
    "_globals = globals()\n",
    "question1ie(_globals)"
   ]
  },
  {
   "cell_type": "markdown",
   "id": "c8a774af",
   "metadata": {
    "nbgrader": {
     "grade": false,
     "grade_id": "cell-2ca37bff4def768c",
     "locked": true,
     "schema_version": 3,
     "solution": false,
     "task": false
    }
   },
   "source": [
    "(f) Once more, check the values of `list2`, `list3`, `set2` and `set3`. Which of the following is true?\n",
    "\n",
    "<ol>\n",
    "    <li>The values of <code>list2</code>, <code>list3</code>, <code>set2</code> and <code>set3</code> have all changed.</li>\n",
    "    <li>The values of <code>list2</code>, <code>list3</code>, <code>set2</code> and <code>set3</code> have all stayed the same.</li>\n",
    "    <li>The values of <code>list2</code> and <code>set2</code> have changed, but the values of <code>list3</code> and <code>set3</code> have stayed the same.</li>\n",
    "    <li>The values of <code>list3</code> and <code>set3</code> have changed, but the values of <code>list2</code> and <code>set2</code> have stayed the same.</li>\n",
    "    <li>Only<code>list2</code> has changed; the rest have have stayed the same.</li>\n",
    "    <li>Only<code>set2</code> has changed; the rest have have stayed the same.</li>\n",
    "</ol>"
   ]
  },
  {
   "cell_type": "code",
   "execution_count": 39,
   "id": "3286ca6f",
   "metadata": {
    "nbgrader": {
     "grade": false,
     "grade_id": "cell-27214580e10d517e",
     "locked": false,
     "schema_version": 3,
     "solution": true,
     "task": false
    }
   },
   "outputs": [
    {
     "name": "stdout",
     "output_type": "stream",
     "text": [
      "[13, 15, 17, 19, 21, 23, 25, 27, 29, 31, 33, 35, 37, 39, 41, 43, 45, 47, 49, 51, 53, 55, 57, 59, 61, 63, 65, 67, 69, 71, 73, 75, 77, 79, 81, 83, 85, 87, 89, 91, 93, 95, 97, 99, 101, 103, 105, 105]\n",
      "[13, 15, 17, 19, 21, 23, 25, 27, 29, 31, 33, 35, 37, 39, 41, 43, 45, 47, 49, 51, 53, 55, 57, 59, 61, 63, 65, 67, 69, 71, 73, 75, 77, 79, 81, 83, 85, 87, 89, 91, 93, 95, 97, 99, 101, 103]\n",
      "{13, 15, 17, 19, 21, 23, 25, 27, 29, 31, 33, 35, 37, 39, 41, 43, 45, 47, 49, 51, 53, 55, 57, 59, 61, 63, 65, 67, 69, 71, 73, 75, 77, 79, 81, 83, 85, 87, 89, 91, 93, 95, 97, 99, 101, 103, 105}\n",
      "{13, 15, 17, 19, 21, 23, 25, 27, 29, 31, 33, 35, 37, 39, 41, 43, 45, 47, 49, 51, 53, 55, 57, 59, 61, 63, 65, 67, 69, 71, 73, 75, 77, 79, 81, 83, 85, 87, 89, 91, 93, 95, 97, 99, 101, 103}\n"
     ]
    }
   ],
   "source": [
    "print(list2)\n",
    "print(list3)\n",
    "print(set2)\n",
    "print(set3)\n",
    "\n",
    "### BEGIN SOLUTION\n",
    "question1if_answer = 5\n",
    "### END SOLUTION"
   ]
  },
  {
   "cell_type": "code",
   "execution_count": 40,
   "id": "ba04de67",
   "metadata": {
    "nbgrader": {
     "grade": true,
     "grade_id": "cell-bcc127bfac5cdadc",
     "locked": true,
     "points": 1,
     "schema_version": 3,
     "solution": false,
     "task": false
    }
   },
   "outputs": [
    {
     "name": "stdout",
     "output_type": "stream",
     "text": [
      "test case passed!\n"
     ]
    }
   ],
   "source": [
    "# 1 Mark\n",
    "assert(question1if_answer == question1if())\n",
    "print('test case passed!')"
   ]
  },
  {
   "cell_type": "markdown",
   "id": "a7ac8e3f",
   "metadata": {
    "nbgrader": {
     "grade": false,
     "grade_id": "cell-1e88e3393cb313b4",
     "locked": true,
     "schema_version": 3,
     "solution": false,
     "task": false
    }
   },
   "source": [
    "(g) Redefine `list1` as the list of multiples of 5 between 1005 and 1305 inclusive, and redefine `set1` as the set of multiples of 5 between 1005 and 1305 inclusive."
   ]
  },
  {
   "cell_type": "code",
   "execution_count": 41,
   "id": "d9a6e1d3",
   "metadata": {
    "nbgrader": {
     "grade": false,
     "grade_id": "cell-b4e82724652a1d66",
     "locked": false,
     "schema_version": 3,
     "solution": true,
     "task": false
    }
   },
   "outputs": [
    {
     "name": "stdout",
     "output_type": "stream",
     "text": [
      "[1005, 1010, 1015, 1020, 1025, 1030, 1035, 1040, 1045, 1050, 1055, 1060, 1065, 1070, 1075, 1080, 1085, 1090, 1095, 1100, 1105, 1110, 1115, 1120, 1125, 1130, 1135, 1140, 1145, 1150, 1155, 1160, 1165, 1170, 1175, 1180, 1185, 1190, 1195, 1200, 1205, 1210, 1215, 1220, 1225, 1230, 1235, 1240, 1245, 1250, 1255, 1260, 1265, 1270, 1275, 1280, 1285, 1290, 1295, 1300, 1305]\n",
      "{1280, 1025, 1155, 1285, 1030, 1160, 1290, 1035, 1165, 1295, 1040, 1170, 1300, 1045, 1175, 1305, 1050, 1180, 1055, 1185, 1060, 1190, 1065, 1195, 1070, 1200, 1075, 1205, 1080, 1210, 1085, 1215, 1090, 1220, 1095, 1225, 1100, 1230, 1105, 1235, 1110, 1240, 1115, 1245, 1120, 1250, 1125, 1255, 1130, 1260, 1005, 1135, 1265, 1010, 1140, 1270, 1015, 1145, 1275, 1020, 1150}\n"
     ]
    }
   ],
   "source": [
    "### BEGIN SOLUTION\n",
    "list1 = list(range(1005,1310,5))\n",
    "set1 = set(range(1005,1310,5))\n",
    "### END SOLUTION\n",
    "\n",
    "print(list1)\n",
    "print(set1)"
   ]
  },
  {
   "cell_type": "code",
   "execution_count": 42,
   "id": "0b8f27b9",
   "metadata": {
    "nbgrader": {
     "grade": true,
     "grade_id": "cell-352b4f20ea015272",
     "locked": true,
     "points": 2,
     "schema_version": 3,
     "solution": false,
     "task": false
    }
   },
   "outputs": [
    {
     "name": "stdout",
     "output_type": "stream",
     "text": [
      "list1 is correct\n",
      "set1 is correct\n",
      "2 out of 2\n"
     ]
    },
    {
     "data": {
      "text/plain": "2"
     },
     "execution_count": 42,
     "metadata": {},
     "output_type": "execute_result"
    }
   ],
   "source": [
    "# 2 Marks\n",
    "# Do not try to delete this cell\n",
    "# Run this cell for grading\n",
    "_globals = globals()\n",
    "question1ig(_globals)"
   ]
  },
  {
   "cell_type": "markdown",
   "id": "5032b8ef",
   "metadata": {
    "nbgrader": {
     "grade": false,
     "grade_id": "cell-b1641ca376a4fe60",
     "locked": true,
     "schema_version": 3,
     "solution": false,
     "task": false
    }
   },
   "source": [
    "(h) For a third time, check the values of `list2`, `list3`, `set2` and `set3`. Which of the following is true?\n",
    "\n",
    "<ol>\n",
    "    <li>The values of <code>list2</code>, <code>list3</code>, <code>set2</code> and <code>set3</code> have all changed.</li>\n",
    "    <li>The values of <code>list2</code>, <code>list3</code>, <code>set2</code> and <code>set3</code> have all stayed the same.</li>\n",
    "    <li>The values of <code>list2</code> and <code>set2</code> have changed, but the values of <code>list3</code> and <code>set3</code> have stayed the same.</li>\n",
    "    <li>The values of <code>list3</code> and <code>set3</code> have changed, but the values of <code>list2</code> and <code>set2</code> have stayed the same.</li>\n",
    "    <li>Only<code>list2</code> has changed; the rest have have stayed the same.</li>\n",
    "    <li>Only<code>set2</code> has changed; the rest have have stayed the same.</li>\n",
    "</ol>"
   ]
  },
  {
   "cell_type": "code",
   "execution_count": 43,
   "id": "aa4e66df",
   "metadata": {
    "nbgrader": {
     "grade": false,
     "grade_id": "cell-f483f5b86d2c05d2",
     "locked": false,
     "schema_version": 3,
     "solution": true,
     "task": false
    }
   },
   "outputs": [
    {
     "name": "stdout",
     "output_type": "stream",
     "text": [
      "[13, 15, 17, 19, 21, 23, 25, 27, 29, 31, 33, 35, 37, 39, 41, 43, 45, 47, 49, 51, 53, 55, 57, 59, 61, 63, 65, 67, 69, 71, 73, 75, 77, 79, 81, 83, 85, 87, 89, 91, 93, 95, 97, 99, 101, 103, 105, 105]\n",
      "[13, 15, 17, 19, 21, 23, 25, 27, 29, 31, 33, 35, 37, 39, 41, 43, 45, 47, 49, 51, 53, 55, 57, 59, 61, 63, 65, 67, 69, 71, 73, 75, 77, 79, 81, 83, 85, 87, 89, 91, 93, 95, 97, 99, 101, 103]\n",
      "{13, 15, 17, 19, 21, 23, 25, 27, 29, 31, 33, 35, 37, 39, 41, 43, 45, 47, 49, 51, 53, 55, 57, 59, 61, 63, 65, 67, 69, 71, 73, 75, 77, 79, 81, 83, 85, 87, 89, 91, 93, 95, 97, 99, 101, 103, 105}\n",
      "{13, 15, 17, 19, 21, 23, 25, 27, 29, 31, 33, 35, 37, 39, 41, 43, 45, 47, 49, 51, 53, 55, 57, 59, 61, 63, 65, 67, 69, 71, 73, 75, 77, 79, 81, 83, 85, 87, 89, 91, 93, 95, 97, 99, 101, 103}\n"
     ]
    }
   ],
   "source": [
    "print(list2)\n",
    "print(list3)\n",
    "print(set2)\n",
    "print(set3)\n",
    "\n",
    "### BEGIN SOLUTION\n",
    "question1ih_answer = 2\n",
    "### END SOLUTION"
   ]
  },
  {
   "cell_type": "code",
   "execution_count": 44,
   "id": "09249fb8",
   "metadata": {
    "nbgrader": {
     "grade": true,
     "grade_id": "cell-881cc6b1f89ed9af",
     "locked": true,
     "points": 1,
     "schema_version": 3,
     "solution": false,
     "task": false
    }
   },
   "outputs": [
    {
     "name": "stdout",
     "output_type": "stream",
     "text": [
      "test case passed!\n"
     ]
    }
   ],
   "source": [
    "# 1 Mark\n",
    "assert(question1ih_answer == question1ih())\n",
    "print('test case passed!')"
   ]
  },
  {
   "cell_type": "markdown",
   "id": "d2f5e1da",
   "metadata": {
    "nbgrader": {
     "grade": false,
     "grade_id": "cell-f69c9e20c2644684",
     "locked": true,
     "schema_version": 3,
     "solution": false,
     "task": false
    }
   },
   "source": [
    "### (ii)\n",
    "\n",
    "(a) Define `row1` as `[1, 3, 5]`, `row2` as `[1, 4, 7]` and `row3` as `[1, 5, 9]`, and define `list_of_lists1` as `[row1, row2, row3]`.\n",
    "\n",
    "Set up `list_of_lists2` as identical to `list_of_lists1`, and `list_of_lists3` as a copy of it."
   ]
  },
  {
   "cell_type": "code",
   "execution_count": 45,
   "id": "e54f93b1",
   "metadata": {
    "nbgrader": {
     "grade": false,
     "grade_id": "cell-3385361e6bb5e74d",
     "locked": false,
     "schema_version": 3,
     "solution": true,
     "task": false
    }
   },
   "outputs": [
    {
     "name": "stdout",
     "output_type": "stream",
     "text": [
      "[[1, 3, 5], [1, 4, 7], [1, 5, 9]]\n",
      "[[1, 3, 5], [1, 4, 7], [1, 5, 9]]\n",
      "[[1, 3, 5], [1, 4, 7], [1, 5, 9]]\n"
     ]
    }
   ],
   "source": [
    "### BEGIN SOLUTION\n",
    "row1 = [1, 3, 5]\n",
    "row2 = [1, 4, 7]\n",
    "row3 = [1, 5, 9]\n",
    "\n",
    "list_of_lists1 = [row1, row2, row3]\n",
    "list_of_lists2 = list_of_lists1\n",
    "list_of_lists3 = copy(list_of_lists1)\n",
    "### END SOLUTION\n",
    "\n",
    "print(list_of_lists1)\n",
    "print(list_of_lists2)\n",
    "print(list_of_lists3)"
   ]
  },
  {
   "cell_type": "code",
   "execution_count": 46,
   "id": "1fad2607",
   "metadata": {
    "nbgrader": {
     "grade": true,
     "grade_id": "cell-5ed214164dad5d2a",
     "locked": true,
     "points": 3,
     "schema_version": 3,
     "solution": false,
     "task": false
    }
   },
   "outputs": [
    {
     "name": "stdout",
     "output_type": "stream",
     "text": [
      "list_of_lists1 contains the right values\n",
      "\n",
      "list_of_lists2 contains the right values\n",
      "list_of_lists2 is the same object as list_of_lists1, which is correct\n",
      "\n",
      "list_of_lists3 contains the right values\n",
      "list_of_lists3 is not the same object as list_of_lists1, which is correct\n",
      "\n",
      "3 out of 3\n"
     ]
    },
    {
     "data": {
      "text/plain": "3"
     },
     "execution_count": 46,
     "metadata": {},
     "output_type": "execute_result"
    }
   ],
   "source": [
    "# 3 Marks\n",
    "# Do not try to delete this cell\n",
    "# Run this cell for grading\n",
    "_globals = globals()\n",
    "question1iia(_globals)"
   ]
  },
  {
   "cell_type": "markdown",
   "id": "c64b8084",
   "metadata": {
    "nbgrader": {
     "grade": false,
     "grade_id": "cell-66f03d4d7c66a961",
     "locked": true,
     "schema_version": 3,
     "solution": false,
     "task": false
    }
   },
   "source": [
    "(b) Type \n",
    "```python\n",
    "list_of_lists1[1][1] = 400\n",
    "```\n",
    "\n",
    "Check the values of `list_of_lists2` and `list_of_lists3`. Which of the following is true?\n",
    "\n",
    "<ol>\n",
    "    <li>The values of <code>list_of_lists2</code> and <code>list_of_lists3</code> have both changed.</li>\n",
    "    <li>The values of <code>list_of_lists2</code> and <code>list_of_lists3</code> have both stayed the same.</li>\n",
    "    <li>The value of <code>list_of_lists2</code> has changed, but that of <code>list_of_lists3</code> has stayed the same.</li>\n",
    "    <li>The value of <code>list_of_lists3</code> has changed, but that of <code>list_of_lists2</code> has stayed the same.</li>\n",
    "</ol>"
   ]
  },
  {
   "cell_type": "code",
   "execution_count": 47,
   "id": "70e50f27",
   "metadata": {
    "nbgrader": {
     "grade": false,
     "grade_id": "cell-24d681b71db986bf",
     "locked": false,
     "schema_version": 3,
     "solution": true,
     "task": false
    }
   },
   "outputs": [
    {
     "name": "stdout",
     "output_type": "stream",
     "text": [
      "[[1, 3, 5], [1, 400, 7], [1, 5, 9]]\n",
      "[[1, 3, 5], [1, 400, 7], [1, 5, 9]]\n",
      "[[1, 3, 5], [1, 400, 7], [1, 5, 9]]\n"
     ]
    }
   ],
   "source": [
    "### BEGIN SOLUTION\n",
    "list_of_lists1[1][1] = 400\n",
    "\n",
    "print(list_of_lists1)\n",
    "print(list_of_lists2)\n",
    "print(list_of_lists3)\n",
    "\n",
    "question1iib_answer = 1\n",
    "### END SOLUTION"
   ]
  },
  {
   "cell_type": "code",
   "execution_count": 48,
   "id": "e406abc4",
   "metadata": {
    "nbgrader": {
     "grade": true,
     "grade_id": "cell-cf69c20d7081cea7",
     "locked": true,
     "points": 1,
     "schema_version": 3,
     "solution": false,
     "task": false
    }
   },
   "outputs": [
    {
     "name": "stdout",
     "output_type": "stream",
     "text": [
      "test case passed!\n"
     ]
    }
   ],
   "source": [
    "# 1 Mark\n",
    "assert(question1iib_answer == question1iib())\n",
    "print('test case passed!')"
   ]
  },
  {
   "cell_type": "markdown",
   "id": "58ed728c",
   "metadata": {
    "nbgrader": {
     "grade": false,
     "grade_id": "cell-0c1fde0b8feb9ef3",
     "locked": true,
     "schema_version": 3,
     "solution": false,
     "task": false
    }
   },
   "source": [
    "(c) Redefine `row1`, `row2`, `row3` and `list_of_lists1` as in (a) above. \n",
    "\n",
    "Create an object, `list_of_lists4`, that is a <b>deep</b> copy of `list_of_lists1`: that is, not only is it itself a copy, but all three of the elements that make it up are copies of the corresponding elements of `list_of_lists1`. It should remain the same in the face of changes to any of the numbers that form part of `list_of_lists1`.\n",
    "\n",
    "<b>Note</b>: don't do this just by repeating the definition of `list_of_lists1`; find a smarter way! There are at least two ways of doing this task. One uses a comprehension, and the other uses another function from the `copy` module, whose name you might be able to guess (and which is in any case available on the Internet...)"
   ]
  },
  {
   "cell_type": "code",
   "execution_count": 49,
   "id": "116a1fd2",
   "metadata": {
    "nbgrader": {
     "grade": false,
     "grade_id": "cell-49d7b1d42a394359",
     "locked": false,
     "schema_version": 3,
     "solution": true,
     "task": false
    }
   },
   "outputs": [
    {
     "name": "stdout",
     "output_type": "stream",
     "text": [
      "[[1, 3, 5], [1, 4, 7], [1, 5, 9]]\n",
      "[[1, 3, 5], [1, 4, 7], [1, 5, 9]]\n"
     ]
    }
   ],
   "source": [
    "### BEGIN SOLUTION\n",
    "row1 = [1, 3, 5]\n",
    "row2 = [1, 4, 7]\n",
    "row3 = [1, 5, 9]\n",
    "\n",
    "list_of_lists1 = [row1, row2, row3]\n",
    "from copy import deepcopy\n",
    "list_of_lists4 = deepcopy(list_of_lists1)\n",
    "### END SOLUTION\n",
    "\n",
    "print(list_of_lists1)\n",
    "print(list_of_lists4)"
   ]
  },
  {
   "cell_type": "code",
   "execution_count": 50,
   "id": "ba09f33c",
   "metadata": {
    "nbgrader": {
     "grade": true,
     "grade_id": "cell-9d44c0503ab37154",
     "locked": true,
     "points": 4,
     "schema_version": 3,
     "solution": false,
     "task": false
    }
   },
   "outputs": [
    {
     "name": "stdout",
     "output_type": "stream",
     "text": [
      "list_of_lists1 contains the right values\n",
      "\n",
      "list_of_lists4 contains the right values\n",
      "\n",
      "list_of_lists4 is not the same object as list_of_lists1, which is correct\n",
      "\n",
      "list_of_lists4 is a deep copy: its rows are separate objects from those of list_of_lists1\n",
      "\n",
      "4 out of 4\n"
     ]
    },
    {
     "data": {
      "text/plain": "4"
     },
     "execution_count": 50,
     "metadata": {},
     "output_type": "execute_result"
    }
   ],
   "source": [
    "# 4 Marks\n",
    "# Do not try to delete this cell\n",
    "# Run this cell for grading\n",
    "_globals = globals()\n",
    "question1iic(_globals)"
   ]
  },
  {
   "cell_type": "markdown",
   "id": "61bdb914",
   "metadata": {
    "nbgrader": {
     "grade": false,
     "grade_id": "cell-47dbbcf3caa94a49",
     "locked": true,
     "schema_version": 3,
     "solution": false,
     "task": false
    }
   },
   "source": [
    "(d) Can you find the other method, calling your second deep copy `list_of_lists5?` (Autograding won't be able to tell if you've \"cheated\" here by doing the same thing twice; but you'll know!)"
   ]
  },
  {
   "cell_type": "code",
   "execution_count": 51,
   "id": "a0a560c8",
   "metadata": {
    "nbgrader": {
     "grade": false,
     "grade_id": "cell-8797c7cf90bbc928",
     "locked": false,
     "schema_version": 3,
     "solution": true,
     "task": false
    }
   },
   "outputs": [
    {
     "name": "stdout",
     "output_type": "stream",
     "text": [
      "[[1, 3, 5], [1, 4, 7], [1, 5, 9]]\n",
      "[[1, 3, 5], [1, 4, 7], [1, 5, 9]]\n"
     ]
    }
   ],
   "source": [
    "### BEGIN SOLUTION\n",
    "row1 = [1, 3, 5]\n",
    "row2 = [1, 4, 7]\n",
    "row3 = [1, 5, 9]\n",
    "\n",
    "list_of_lists1 = [row1, row2, row3]\n",
    "list_of_lists5 = [copy(row) for row in list_of_lists1]\n",
    "### END SOLUTION\n",
    "\n",
    "print(list_of_lists1)\n",
    "print(list_of_lists5)"
   ]
  },
  {
   "cell_type": "code",
   "execution_count": 52,
   "id": "2e3e5bf8",
   "metadata": {
    "nbgrader": {
     "grade": true,
     "grade_id": "cell-4e03943b224f0325",
     "locked": true,
     "points": 4,
     "schema_version": 3,
     "solution": false,
     "task": false
    }
   },
   "outputs": [
    {
     "name": "stdout",
     "output_type": "stream",
     "text": [
      "list_of_lists1 contains the right values\n",
      "\n",
      "list_of_lists5 contains the right values\n",
      "\n",
      "list_of_lists5 is not the same object as list_of_lists1, which is correct\n",
      "\n",
      "list_of_lists5 is a deep copy: its rows are separate objects from those of list_of_lists1\n",
      "\n",
      "4 out of 4\n"
     ]
    },
    {
     "data": {
      "text/plain": "4"
     },
     "execution_count": 52,
     "metadata": {},
     "output_type": "execute_result"
    }
   ],
   "source": [
    "# 4 Marks\n",
    "# Do not try to delete this cell\n",
    "# Run this cell for grading\n",
    "_globals = globals()\n",
    "question1iid(_globals)"
   ]
  },
  {
   "cell_type": "markdown",
   "id": "1d998503",
   "metadata": {
    "nbgrader": {
     "grade": false,
     "grade_id": "cell-0abfbe0905767bc4",
     "locked": true,
     "schema_version": 3,
     "solution": false,
     "task": false
    }
   },
   "source": [
    "(e) Type \n",
    "```python\n",
    "list_of_lists1[1][1] = 400\n",
    "```\n",
    "\n",
    "Check the value of `list_of_lists4`. Which of the following is true?\n",
    "\n",
    "<ol>\n",
    "    <li>The value of <code>list_of_lists4</code> has changed.</li>\n",
    "    <li>The value of <code>list_of_lists4</code> has stayed the same.</li>\n",
    "</ol>"
   ]
  },
  {
   "cell_type": "code",
   "execution_count": 53,
   "id": "2a4e26b4",
   "metadata": {
    "nbgrader": {
     "grade": false,
     "grade_id": "cell-dab59ec93525e1ad",
     "locked": false,
     "schema_version": 3,
     "solution": true,
     "task": false
    }
   },
   "outputs": [
    {
     "name": "stdout",
     "output_type": "stream",
     "text": [
      "[[1, 3, 5], [1, 400, 7], [1, 5, 9]]\n",
      "[[1, 3, 5], [1, 4, 7], [1, 5, 9]]\n"
     ]
    }
   ],
   "source": [
    "### BEGIN SOLUTION\n",
    "list_of_lists1[1][1] = 400\n",
    "\n",
    "print(list_of_lists1)\n",
    "print(list_of_lists4)\n",
    "\n",
    "question1iie_answer = 2\n",
    "### END SOLUTION"
   ]
  },
  {
   "cell_type": "code",
   "execution_count": 54,
   "id": "fa48441c",
   "metadata": {
    "nbgrader": {
     "grade": true,
     "grade_id": "cell-e2827ff5f8f3b898",
     "locked": true,
     "points": 1,
     "schema_version": 3,
     "solution": false,
     "task": false
    }
   },
   "outputs": [
    {
     "name": "stdout",
     "output_type": "stream",
     "text": [
      "test case passed!\n"
     ]
    }
   ],
   "source": [
    "# 1 Mark\n",
    "assert(question1iie_answer == question1iie())\n",
    "print('test case passed!')"
   ]
  },
  {
   "cell_type": "markdown",
   "id": "514733cf",
   "metadata": {
    "nbgrader": {
     "grade": false,
     "grade_id": "cell-221bc9193be12a80",
     "locked": true,
     "schema_version": 3,
     "solution": false,
     "task": false
    }
   },
   "source": [
    "## Question 2\n",
    "\n",
    "### (i)\n",
    "\n",
    "The following data consists of:\n",
    "<ul>\n",
    "    <li>Eight dictionaries, each with the same three keys: <code>'radius'</code>,  <code>'mass'</code> and <code>'escape_velocity'</code>; the value associated with each key is a float.</li>\n",
    "    <li>One \"master dictionary\", consisting of eight keys corresponding to the names of the planets in our solar system; the value associated with each key is a dictionary.</li>\n",
    "</ul>"
   ]
  },
  {
   "cell_type": "code",
   "execution_count": 55,
   "id": "f0cfc701",
   "metadata": {
    "nbgrader": {
     "grade": false,
     "grade_id": "cell-1f0d6373a702142b",
     "locked": true,
     "schema_version": 3,
     "solution": false,
     "task": false
    }
   },
   "outputs": [],
   "source": [
    "mercury_data = {'radius' : 2.4e6, 'mass' : 3.3e23, \n",
    "    'escape_velocity' : 4.3e3}\n",
    "venus_data = {'radius' : 6.1e6, 'mass' : 4.9e24, \n",
    "    'escape_velocity' : 1.0e4}\n",
    "earth_data = {'radius' : 6.3e6, 'mass' : 6.0e24, \n",
    "    'escape_velocity' : 1.1e4}\n",
    "mars_data = {'radius' : 3.4e6, 'mass' : 6.4e23, \n",
    "    'escape_velocity' : 5.0e3}\n",
    "jupiter_data = {'radius' : 6.9e7, 'mass' : 1.9e27, \n",
    "    'escape_velocity' : 6.0e4}\n",
    "saturn_data = {'radius' : 5.7e7, 'mass' : 5.6e26, \n",
    "    'escape_velocity' : 3.6e4}\n",
    "uranus_data = {'radius' : 2.5e7, 'mass' : 8.7e25, \n",
    "    'escape_velocity' : 2.2e4}\n",
    "neptune_data = {'radius' : 2.5e7, 'mass' : 1.0e26, \n",
    "    'escape_velocity' : 2.4e4}\n",
    "planet_data = {\n",
    "    'mercury': mercury_data,\n",
    "    'venus': venus_data,\n",
    "    'earth': earth_data,\n",
    "    'mars': mars_data,\n",
    "    'jupiter': jupiter_data,\n",
    "    'saturn': saturn_data,\n",
    "    'uranus': uranus_data,\n",
    "    'neptune': neptune_data,\n",
    "}"
   ]
  },
  {
   "cell_type": "markdown",
   "id": "ac9bd01c",
   "metadata": {
    "nbgrader": {
     "grade": false,
     "grade_id": "cell-b822e63b69238f72",
     "locked": true,
     "schema_version": 3,
     "solution": false,
     "task": false
    }
   },
   "source": [
    "(a) Using a comprehension, create a <b>list</b> `radius_list` containing all the planetary radii."
   ]
  },
  {
   "cell_type": "code",
   "execution_count": 56,
   "id": "d219c0d6",
   "metadata": {
    "nbgrader": {
     "grade": false,
     "grade_id": "cell-feef8e594c7c7108",
     "locked": false,
     "schema_version": 3,
     "solution": true,
     "task": false
    }
   },
   "outputs": [
    {
     "name": "stdout",
     "output_type": "stream",
     "text": [
      "[2400000.0, 6100000.0, 6300000.0, 3400000.0, 69000000.0, 57000000.0, 25000000.0, 25000000.0]\n"
     ]
    }
   ],
   "source": [
    "### BEGIN SOLUTION\n",
    "radius_list = [x['radius'] for x in planet_data.values()]\n",
    "### END SOLUTION\n",
    "\n",
    "print(radius_list)"
   ]
  },
  {
   "cell_type": "code",
   "execution_count": 57,
   "id": "1672cb3f",
   "metadata": {
    "nbgrader": {
     "grade": true,
     "grade_id": "cell-b930ad8d3f909ab9",
     "locked": true,
     "points": 1,
     "schema_version": 3,
     "solution": false,
     "task": false
    }
   },
   "outputs": [
    {
     "name": "stdout",
     "output_type": "stream",
     "text": [
      "radius_list is correct\n",
      "Test passed!\n"
     ]
    },
    {
     "data": {
      "text/plain": "1"
     },
     "execution_count": 57,
     "metadata": {},
     "output_type": "execute_result"
    }
   ],
   "source": [
    "# 1 Mark\n",
    "# Do not try to delete this cell\n",
    "# Run this cell for grading\n",
    "_globals = globals()\n",
    "question2ia(_globals)"
   ]
  },
  {
   "cell_type": "markdown",
   "id": "1245178e",
   "metadata": {
    "nbgrader": {
     "grade": false,
     "grade_id": "cell-c8ed6a2921a5f9ac",
     "locked": true,
     "schema_version": 3,
     "solution": false,
     "task": false
    }
   },
   "source": [
    "(b) Using a comprehension, create a <b>set</b> `mass_set` containing all the planetary masses."
   ]
  },
  {
   "cell_type": "code",
   "execution_count": 58,
   "id": "04191601",
   "metadata": {
    "nbgrader": {
     "grade": false,
     "grade_id": "cell-d57b551cbb142ba2",
     "locked": false,
     "schema_version": 3,
     "solution": true,
     "task": false
    }
   },
   "outputs": [
    {
     "name": "stdout",
     "output_type": "stream",
     "text": [
      "{6e+24, 5.6e+26, 3.3e+23, 4.9e+24, 1.9e+27, 6.4e+23, 1e+26, 8.7e+25}\n"
     ]
    }
   ],
   "source": [
    "### BEGIN SOLUTION\n",
    "mass_set = {x['mass'] for x in planet_data.values()}\n",
    "### END SOLUTION\n",
    "\n",
    "print(mass_set)"
   ]
  },
  {
   "cell_type": "code",
   "execution_count": 59,
   "id": "56536baa",
   "metadata": {
    "nbgrader": {
     "grade": true,
     "grade_id": "cell-ab71aab9394ec18c",
     "locked": true,
     "points": 1,
     "schema_version": 3,
     "solution": false,
     "task": false
    }
   },
   "outputs": [
    {
     "name": "stdout",
     "output_type": "stream",
     "text": [
      "mass_set is correct\n",
      "Test passed!\n"
     ]
    },
    {
     "data": {
      "text/plain": "1"
     },
     "execution_count": 59,
     "metadata": {},
     "output_type": "execute_result"
    }
   ],
   "source": [
    "# 1 Mark\n",
    "# Do not try to delete this cell\n",
    "# Run this cell for grading\n",
    "_globals = globals()\n",
    "question2ib(_globals)"
   ]
  },
  {
   "cell_type": "markdown",
   "id": "26c5775b",
   "metadata": {
    "nbgrader": {
     "grade": false,
     "grade_id": "cell-9a0a34c1781ac172",
     "locked": true,
     "schema_version": 3,
     "solution": false,
     "task": false
    }
   },
   "source": [
    "(c) Create a <b>set</b> `name_set` containing all the names of the planets; this can be done without using a comprehension."
   ]
  },
  {
   "cell_type": "code",
   "execution_count": 60,
   "id": "cec06bf6",
   "metadata": {
    "nbgrader": {
     "grade": false,
     "grade_id": "cell-121cbc171d4dbdbe",
     "locked": false,
     "schema_version": 3,
     "solution": true,
     "task": false
    }
   },
   "outputs": [
    {
     "name": "stdout",
     "output_type": "stream",
     "text": [
      "{'uranus', 'earth', 'saturn', 'venus', 'mercury', 'mars', 'neptune', 'jupiter'}\n"
     ]
    }
   ],
   "source": [
    "### BEGIN SOLUTION\n",
    "name_set = set(planet_data)\n",
    "### END SOLUTION\n",
    "\n",
    "print(name_set)"
   ]
  },
  {
   "cell_type": "code",
   "execution_count": 61,
   "id": "1a24abb0",
   "metadata": {
    "nbgrader": {
     "grade": true,
     "grade_id": "cell-487b52adfcefaaf2",
     "locked": true,
     "points": 1,
     "schema_version": 3,
     "solution": false,
     "task": false
    }
   },
   "outputs": [
    {
     "name": "stdout",
     "output_type": "stream",
     "text": [
      "name_set is correct\n",
      "Test passed!\n"
     ]
    },
    {
     "data": {
      "text/plain": "1"
     },
     "execution_count": 61,
     "metadata": {},
     "output_type": "execute_result"
    }
   ],
   "source": [
    "# 1 Mark\n",
    "# Do not try to delete this cell\n",
    "# Run this cell for grading\n",
    "_globals = globals()\n",
    "question2ic(_globals)"
   ]
  },
  {
   "cell_type": "markdown",
   "id": "d81a9db6",
   "metadata": {
    "nbgrader": {
     "grade": false,
     "grade_id": "cell-9e2077d9a80f1188",
     "locked": true,
     "schema_version": 3,
     "solution": false,
     "task": false
    }
   },
   "source": [
    "(d) Using a comprehension, create a <b>dictionary</b> `ev_dict`, the keys of which are the names of the planets and the associated values of which are the escape velocities."
   ]
  },
  {
   "cell_type": "code",
   "execution_count": 62,
   "id": "0b9e2c2d",
   "metadata": {
    "nbgrader": {
     "grade": false,
     "grade_id": "cell-c7f53923a0d38513",
     "locked": false,
     "schema_version": 3,
     "solution": true,
     "task": false
    }
   },
   "outputs": [
    {
     "name": "stdout",
     "output_type": "stream",
     "text": [
      "{'mercury': 4300.0, 'venus': 10000.0, 'earth': 11000.0, 'mars': 5000.0, 'jupiter': 60000.0, 'saturn': 36000.0, 'uranus': 22000.0, 'neptune': 24000.0}\n"
     ]
    }
   ],
   "source": [
    "### BEGIN SOLUTION\n",
    "ev_dict = {planet:data['escape_velocity'] \n",
    "           for planet, data in planet_data.items()}\n",
    "### END SOLUTION\n",
    "\n",
    "print(ev_dict)"
   ]
  },
  {
   "cell_type": "code",
   "execution_count": 63,
   "id": "d75413e5",
   "metadata": {
    "nbgrader": {
     "grade": true,
     "grade_id": "cell-0ceb196e018d19cc",
     "locked": true,
     "points": 1,
     "schema_version": 3,
     "solution": false,
     "task": false
    }
   },
   "outputs": [
    {
     "name": "stdout",
     "output_type": "stream",
     "text": [
      "ev_dict is correct\n",
      "Test passed!\n"
     ]
    },
    {
     "data": {
      "text/plain": "1"
     },
     "execution_count": 63,
     "metadata": {},
     "output_type": "execute_result"
    }
   ],
   "source": [
    "# 1 Mark\n",
    "# Do not try to delete this cell\n",
    "# Run this cell for grading\n",
    "_globals = globals()\n",
    "question2id(_globals)"
   ]
  },
  {
   "cell_type": "markdown",
   "id": "df1c15fb",
   "metadata": {
    "nbgrader": {
     "grade": false,
     "grade_id": "cell-39ff7dc68a6572b7",
     "locked": true,
     "schema_version": 3,
     "solution": false,
     "task": false
    }
   },
   "source": [
    "### (ii)\n",
    "\n",
    "The following is an attempt to set up a little dictionary linking the IUPAC systematic and preferred designations of the isomers of xylene (dimethylbenzene). "
   ]
  },
  {
   "cell_type": "code",
   "execution_count": 64,
   "id": "6c73d045",
   "metadata": {
    "nbgrader": {
     "grade": false,
     "grade_id": "cell-5ddbc0c2f19ba205",
     "locked": true,
     "schema_version": 3,
     "solution": false,
     "task": false
    }
   },
   "outputs": [
    {
     "ename": "TypeError",
     "evalue": "unhashable type: 'list'",
     "output_type": "error",
     "traceback": [
      "\u001B[1;31m---------------------------------------------------------------------------\u001B[0m",
      "\u001B[1;31mTypeError\u001B[0m                                 Traceback (most recent call last)",
      "Cell \u001B[1;32mIn[64], line 1\u001B[0m\n\u001B[1;32m----> 1\u001B[0m xylene_isomers \u001B[38;5;241m=\u001B[39m {\n\u001B[0;32m      2\u001B[0m     [\u001B[38;5;241m1\u001B[39m, \u001B[38;5;241m2\u001B[39m] : \u001B[38;5;124m'\u001B[39m\u001B[38;5;124morthoxylene\u001B[39m\u001B[38;5;124m'\u001B[39m, \n\u001B[0;32m      3\u001B[0m     [\u001B[38;5;241m1\u001B[39m, \u001B[38;5;241m3\u001B[39m] : \u001B[38;5;124m'\u001B[39m\u001B[38;5;124mmetaxylene\u001B[39m\u001B[38;5;124m'\u001B[39m,\n\u001B[0;32m      4\u001B[0m     [\u001B[38;5;241m1\u001B[39m, \u001B[38;5;241m4\u001B[39m] : \u001B[38;5;124m'\u001B[39m\u001B[38;5;124mparaxylene\u001B[39m\u001B[38;5;124m'\u001B[39m}\n",
      "\u001B[1;31mTypeError\u001B[0m: unhashable type: 'list'"
     ]
    }
   ],
   "source": [
    "xylene_isomers = {\n",
    "    [1, 2] : 'orthoxylene', \n",
    "    [1, 3] : 'metaxylene',\n",
    "    [1, 4] : 'paraxylene'}"
   ]
  },
  {
   "cell_type": "markdown",
   "id": "c592dc1b",
   "metadata": {
    "nbgrader": {
     "grade": false,
     "grade_id": "cell-33e24c85931a2abb",
     "locked": true,
     "schema_version": 3,
     "solution": false,
     "task": false
    }
   },
   "source": [
    "The way it's meant to work is that since, for example, 1,2-dimethylbenzene is also known as orthoxylene, I can type\n",
    "```python\n",
    "xylene_isomers([1, 2])\n",
    "```\n",
    "and get the output `'orthoxylene'`.\n",
    "\n",
    "(a) However, it doesn't work. Fix it! Write a new version of `xylene_isomers` in which the keys are data structures (don't use strings or ints for example), but ones that work."
   ]
  },
  {
   "cell_type": "code",
   "execution_count": null,
   "id": "b4d525e2",
   "metadata": {
    "nbgrader": {
     "grade": false,
     "grade_id": "cell-45514ee84187b5cb",
     "locked": false,
     "schema_version": 3,
     "solution": true,
     "task": false
    }
   },
   "outputs": [],
   "source": [
    "### BEGIN SOLUTION\n",
    "xylene_isomers = {\n",
    "    (1, 2) : 'orthoxylene', \n",
    "    (1, 3) : 'metaxylene',\n",
    "    (1, 4) : 'paraxylene'}\n",
    "### END SOLUTION\n",
    "\n",
    "print(xylene_isomers)"
   ]
  },
  {
   "cell_type": "code",
   "execution_count": null,
   "id": "ff22c99e",
   "metadata": {
    "nbgrader": {
     "grade": true,
     "grade_id": "cell-bfe12f7e0d2af965",
     "locked": true,
     "points": 4,
     "schema_version": 3,
     "solution": false,
     "task": false
    }
   },
   "outputs": [],
   "source": [
    "# 4 Marks\n",
    "# Do not try to delete this cell\n",
    "# Run this cell for grading\n",
    "_globals = globals()\n",
    "question2iia(_globals)"
   ]
  },
  {
   "cell_type": "markdown",
   "id": "14721e48",
   "metadata": {
    "nbgrader": {
     "grade": false,
     "grade_id": "cell-d7db084f35dcedad",
     "locked": true,
     "schema_version": 3,
     "solution": false,
     "task": false
    }
   },
   "source": [
    "(b) Which of the following data types and data structures can serve as the keys in a dictionary? Type your answer as a set.\n",
    "\n",
    "<ol>\n",
    "    <li>floats;</li>\n",
    "    <li>ints;</li>\n",
    "    <li>complexes;</li>\n",
    "    <li>strings;</li>\n",
    "    <li>lists;</li>\n",
    "    <li>tuples;</li>\n",
    "    <li>NumPy arrays;</li>\n",
    "    <li>sets;</li>\n",
    "    <li>frozensets;</li>\n",
    "    <li>dictionaries.</li>\n",
    "</ol>"
   ]
  },
  {
   "cell_type": "code",
   "execution_count": null,
   "id": "0fccb8f3",
   "metadata": {
    "nbgrader": {
     "grade": false,
     "grade_id": "cell-dda9e8f6cee7e834",
     "locked": false,
     "schema_version": 3,
     "solution": true,
     "task": false
    }
   },
   "outputs": [],
   "source": [
    "### BEGIN SOLUTION\n",
    "question2iib_answer = {1,2,3,4,6,9}\n",
    "### END SOLUTION"
   ]
  },
  {
   "cell_type": "code",
   "execution_count": null,
   "id": "343ddc8a",
   "metadata": {
    "nbgrader": {
     "grade": true,
     "grade_id": "cell-d38702d62a5b38d6",
     "locked": true,
     "points": 1,
     "schema_version": 3,
     "solution": false,
     "task": false
    }
   },
   "outputs": [],
   "source": [
    "# 1 Mark\n",
    "assert(question2iib_answer == question2iib())\n",
    "print('test case passed!')"
   ]
  },
  {
   "cell_type": "markdown",
   "id": "437e738b",
   "metadata": {
    "nbgrader": {
     "grade": false,
     "grade_id": "cell-10fcbad9965fec82",
     "locked": true,
     "schema_version": 3,
     "solution": false,
     "task": false
    }
   },
   "source": [
    "(c) Which of the following data types and data structures can serve as the values in a dictionary? Type your answer as a set.\n",
    "\n",
    "<ol>\n",
    "    <li>floats;</li>\n",
    "    <li>ints;</li>\n",
    "    <li>complexes;</li>\n",
    "    <li>strings;</li>\n",
    "    <li>lists;</li>\n",
    "    <li>tuples;</li>\n",
    "    <li>NumPy arrays;</li>\n",
    "    <li>sets;</li>\n",
    "    <li>frozensets;</li>\n",
    "    <li>dictionaries.</li>\n",
    "</ol>"
   ]
  },
  {
   "cell_type": "code",
   "execution_count": null,
   "id": "1631d523",
   "metadata": {
    "nbgrader": {
     "grade": false,
     "grade_id": "cell-2d4bd5bb56172f4b",
     "locked": false,
     "schema_version": 3,
     "solution": true,
     "task": false
    }
   },
   "outputs": [],
   "source": [
    "### BEGIN SOLUTION\n",
    "question2iic_answer = {1,2,3,4,5,6,7,8,9,10}\n",
    "### END SOLUTION\n",
    "\n",
    "question2iic_answer = # insert a set of ints"
   ]
  },
  {
   "cell_type": "code",
   "execution_count": null,
   "id": "c23f1ca9",
   "metadata": {
    "nbgrader": {
     "grade": true,
     "grade_id": "cell-164cdda160462d87",
     "locked": true,
     "points": 1,
     "schema_version": 3,
     "solution": false,
     "task": false
    }
   },
   "outputs": [],
   "source": [
    "# 1 Mark\n",
    "assert(question2iic_answer == question2iic())\n",
    "print('test case passed!')"
   ]
  },
  {
   "cell_type": "markdown",
   "id": "a808ba68",
   "metadata": {
    "nbgrader": {
     "grade": false,
     "grade_id": "cell-23cbd7a149530c71",
     "locked": true,
     "schema_version": 3,
     "solution": false,
     "task": false
    }
   },
   "source": [
    "## Question 3\n",
    "\n",
    "Write and test a function called `power_set` which takes as its argument a set, and returns the set of that set's subsets (each subset being represented as a frozenset). So, for example, \n",
    "```python\n",
    "power_set({0,1})\n",
    "```\n",
    "should return `{frozenset(), frozenset({1}), frozenset({0}), frozenset({0, 1})}`.\n",
    "\n",
    "(I think this is a naturally <b>recursive</b> task. I also think this is quite tricky.)\n",
    "\n",
    "Note that the empty set is represented in Python by `set()` rather than by `{}`, which represents the empty dictionary."
   ]
  },
  {
   "cell_type": "code",
   "execution_count": null,
   "id": "4012f494",
   "metadata": {
    "nbgrader": {
     "grade": false,
     "grade_id": "cell-7fc4f6ccc3b3f268",
     "locked": false,
     "schema_version": 3,
     "solution": true,
     "task": false
    }
   },
   "outputs": [],
   "source": [
    "def power_set(this_set):\n",
    "    ### BEGIN SOLUTION\n",
    "    \"\"\"\n",
    "    Returns the power set of this_set, the various subsets being\n",
    "    represented as frozensets\n",
    "    \"\"\"\n",
    "    # base case\n",
    "    if this_set == set():\n",
    "        return {frozenset()}\n",
    "    # recursion st\n",
    "    else:        \n",
    "        # remove an element\n",
    "        el = this_set.pop()\n",
    "        \n",
    "        # power set of that set\n",
    "        short_power_set = power_set(this_set)\n",
    "        \n",
    "        # copy with the last element appended to each\n",
    "        short_power_set2 = {subset | frozenset({el}) for subset in short_power_set}\n",
    "        \n",
    "        # union of the two is returned\n",
    "        return short_power_set | short_power_set2\n",
    "    ### END SOLUTION"
   ]
  },
  {
   "cell_type": "code",
   "execution_count": null,
   "id": "b157fed7",
   "metadata": {
    "nbgrader": {
     "grade": true,
     "grade_id": "cell-18689f9543ab4e90",
     "locked": true,
     "points": 4,
     "schema_version": 3,
     "solution": false,
     "task": false
    }
   },
   "outputs": [],
   "source": [
    "# 4 Marks\n",
    "# Do not try to delete this cell\n",
    "# Run this cell for grading\n",
    "_globals = globals()\n",
    "question3(_globals)"
   ]
  },
  {
   "cell_type": "markdown",
   "id": "f7e883d3",
   "metadata": {
    "nbgrader": {
     "grade": false,
     "grade_id": "cell-6793af10fb8d978a",
     "locked": true,
     "schema_version": 3,
     "solution": false,
     "task": false
    }
   },
   "source": [
    "## Question 4\n",
    "(a) Take your `xylene_isomers` dictionary, as corrected, and convert it into a string, `xylene_isomers_string`."
   ]
  },
  {
   "cell_type": "code",
   "execution_count": null,
   "id": "bf023591",
   "metadata": {
    "nbgrader": {
     "grade": false,
     "grade_id": "cell-de31117e983b3356",
     "locked": false,
     "schema_version": 3,
     "solution": true,
     "task": false
    }
   },
   "outputs": [],
   "source": [
    "### BEGIN SOLUTION\n",
    "xylene_isomers_string = str(xylene_isomers)\n",
    "### END SOLUTION\n",
    "\n",
    "print(xylene_isomers_string)"
   ]
  },
  {
   "cell_type": "code",
   "execution_count": null,
   "id": "07fd8e98",
   "metadata": {
    "nbgrader": {
     "grade": true,
     "grade_id": "cell-a2b91a558fe53dbb",
     "locked": true,
     "points": 1,
     "schema_version": 3,
     "solution": false,
     "task": false
    }
   },
   "outputs": [],
   "source": [
    "# 1 Mark\n",
    "# Do not try to delete this cell\n",
    "# Run this cell for grading\n",
    "_globals = globals()\n",
    "question4a(_globals)"
   ]
  },
  {
   "cell_type": "markdown",
   "id": "a24fa0d2",
   "metadata": {
    "nbgrader": {
     "grade": false,
     "grade_id": "cell-2176742dffbbb23f",
     "locked": true,
     "schema_version": 3,
     "solution": false,
     "task": false
    }
   },
   "source": [
    "(b) Write this string to an external file called `xylene_isomers.txt`. Autograding can't help you here!"
   ]
  },
  {
   "cell_type": "code",
   "execution_count": null,
   "id": "e7dd6307",
   "metadata": {
    "nbgrader": {
     "grade": false,
     "grade_id": "cell-0ed1707326f6838b",
     "locked": false,
     "schema_version": 3,
     "solution": true,
     "task": false
    }
   },
   "outputs": [],
   "source": [
    "### BEGIN SOLUTION\n",
    "fo = open('xylene_isomers.txt','w')\n",
    "fo.write(xylene_isomers_string)\n",
    "fo.close()\n",
    "### END SOLUTION"
   ]
  },
  {
   "cell_type": "markdown",
   "id": "ce39d0b3",
   "metadata": {
    "nbgrader": {
     "grade": false,
     "grade_id": "cell-ebd5f0421cbcf5b0",
     "locked": true,
     "schema_version": 3,
     "solution": false,
     "task": false
    }
   },
   "source": [
    "(c) Read in your external file as a string, `xylene_isomers_string2`."
   ]
  },
  {
   "cell_type": "code",
   "execution_count": null,
   "id": "f58de9d4",
   "metadata": {
    "nbgrader": {
     "grade": false,
     "grade_id": "cell-23cccfc73b453766",
     "locked": false,
     "schema_version": 3,
     "solution": true,
     "task": false
    }
   },
   "outputs": [],
   "source": [
    "### BEGIN SOLUTION\n",
    "fo = open('xylene_isomers.txt', 'r')\n",
    "xylene_isomers_string2 = fo.read()\n",
    "fo.close\n",
    "### END SOLUTION\n",
    "\n",
    "print(xylene_isomers_string2)"
   ]
  },
  {
   "cell_type": "code",
   "execution_count": null,
   "id": "fdd2a22d",
   "metadata": {
    "nbgrader": {
     "grade": true,
     "grade_id": "cell-d7d9639e634f1bbc",
     "locked": true,
     "points": 1,
     "schema_version": 3,
     "solution": false,
     "task": false
    }
   },
   "outputs": [],
   "source": [
    "# 1 Mark\n",
    "# Do not try to delete this cell\n",
    "# Run this cell for grading\n",
    "_globals = globals()\n",
    "question4c(_globals)"
   ]
  },
  {
   "cell_type": "markdown",
   "id": "d02b1c32",
   "metadata": {
    "nbgrader": {
     "grade": false,
     "grade_id": "cell-41d22d4d4f22758e",
     "locked": true,
     "schema_version": 3,
     "solution": false,
     "task": false
    }
   },
   "source": [
    "(d) Convert this string back into a dictionary, `xylene_isomers2`."
   ]
  },
  {
   "cell_type": "code",
   "execution_count": null,
   "id": "2f0359dd",
   "metadata": {
    "nbgrader": {
     "grade": false,
     "grade_id": "cell-a35bcdc8e815203b",
     "locked": false,
     "schema_version": 3,
     "solution": true,
     "task": false
    }
   },
   "outputs": [],
   "source": [
    "### BEGIN SOLUTION\n",
    "xylene_isomers2 = eval(xylene_isomers_string2)\n",
    "### END SOLUTION\n",
    "print(xylene_isomers2)"
   ]
  },
  {
   "cell_type": "code",
   "execution_count": null,
   "id": "3c577e91",
   "metadata": {
    "nbgrader": {
     "grade": true,
     "grade_id": "cell-2646ba379df0ad0b",
     "locked": true,
     "points": 1,
     "schema_version": 3,
     "solution": false,
     "task": false
    }
   },
   "outputs": [],
   "source": [
    "# 1 Mark\n",
    "# Do not try to delete this cell\n",
    "# Run this cell for grading\n",
    "_globals = globals()\n",
    "question4d(_globals)"
   ]
  },
  {
   "cell_type": "markdown",
   "id": "06587568",
   "metadata": {
    "nbgrader": {
     "grade": false,
     "grade_id": "cell-a661f76b861537d2",
     "locked": true,
     "schema_version": 3,
     "solution": false,
     "task": false
    }
   },
   "source": [
    "(e) Take your `xylene_isomers` dictionary, as corrected, and pickle it as `xylene_isomers.pickle`. Autograding can't help here!"
   ]
  },
  {
   "cell_type": "code",
   "execution_count": null,
   "id": "ce215049",
   "metadata": {
    "nbgrader": {
     "grade": false,
     "grade_id": "cell-44ce9d96abd7ed04",
     "locked": false,
     "schema_version": 3,
     "solution": true,
     "task": false
    }
   },
   "outputs": [],
   "source": [
    "### BEGIN SOLUTION\n",
    "po = open('xylene_isomers.pickle', 'wb')\n",
    "pickle.dump(xylene_isomers, po)\n",
    "po.close()\n",
    "### END SOLUTION"
   ]
  },
  {
   "cell_type": "markdown",
   "id": "95c44abb",
   "metadata": {
    "nbgrader": {
     "grade": false,
     "grade_id": "cell-eb0eaf44d08a78bf",
     "locked": true,
     "schema_version": 3,
     "solution": false,
     "task": false
    }
   },
   "source": [
    "(f) Unpickle this file as `xylene_isomers3`."
   ]
  },
  {
   "cell_type": "code",
   "execution_count": null,
   "id": "0ad078a3",
   "metadata": {
    "nbgrader": {
     "grade": false,
     "grade_id": "cell-dde568c125cd5488",
     "locked": false,
     "schema_version": 3,
     "solution": true,
     "task": false
    }
   },
   "outputs": [],
   "source": [
    "### BEGIN SOLUTION\n",
    "po = open('xylene_isomers.pickle', 'rb')\n",
    "xylene_isomers3 = pickle.load(po)\n",
    "po.close()\n",
    "### END SOLUTION\n",
    "\n",
    "xylene_isomers3"
   ]
  },
  {
   "cell_type": "code",
   "execution_count": null,
   "id": "c822c4f4",
   "metadata": {
    "nbgrader": {
     "grade": true,
     "grade_id": "cell-72571ecba9ebed63",
     "locked": true,
     "points": 1,
     "schema_version": 3,
     "solution": false,
     "task": false
    }
   },
   "outputs": [],
   "source": [
    "# 1 Mark\n",
    "# Do not try to delete this cell\n",
    "# Run this cell for grading\n",
    "_globals = globals()\n",
    "question4f(_globals)"
   ]
  },
  {
   "cell_type": "markdown",
   "id": "ffae111b",
   "metadata": {
    "nbgrader": {
     "grade": false,
     "grade_id": "cell-14c498f4fa1372ac",
     "locked": true,
     "schema_version": 3,
     "solution": false,
     "task": false
    }
   },
   "source": [
    "(g) Pickle the `cos` function from `math`, and unpickle it as `new_cos`. Test it."
   ]
  },
  {
   "cell_type": "code",
   "execution_count": null,
   "id": "25864c11",
   "metadata": {
    "nbgrader": {
     "grade": false,
     "grade_id": "cell-b67b7fd7dda67d98",
     "locked": false,
     "schema_version": 3,
     "solution": true,
     "task": false
    }
   },
   "outputs": [],
   "source": [
    "### BEGIN SOLUTION\n",
    "po = open('cos.pickle', 'wb')\n",
    "pickle.dump(math.cos, po)\n",
    "po.close()\n",
    "\n",
    "po = open('cos.pickle', 'rb')\n",
    "new_cos = pickle.load(po)\n",
    "po.close()\n",
    "### END SOLUTION\n",
    "\n",
    "print(new_cos(math.pi))"
   ]
  },
  {
   "cell_type": "code",
   "execution_count": null,
   "id": "d5cd4795",
   "metadata": {
    "nbgrader": {
     "grade": true,
     "grade_id": "cell-581fb821b12fb1c7",
     "locked": true,
     "points": 1,
     "schema_version": 3,
     "solution": false,
     "task": false
    }
   },
   "outputs": [],
   "source": [
    "# 1 Mark\n",
    "# Do not try to delete this cell\n",
    "# Run this cell for grading\n",
    "_globals = globals()\n",
    "question4g(_globals)"
   ]
  },
  {
   "cell_type": "markdown",
   "id": "5e996f9b",
   "metadata": {
    "nbgrader": {
     "grade": false,
     "grade_id": "cell-aaa1a259a8df0858",
     "locked": true,
     "schema_version": 3,
     "solution": false,
     "task": false
    }
   },
   "source": [
    "(h) Pickle your `power_set` function, and unpickle it as `new_power_set`. Test it."
   ]
  },
  {
   "cell_type": "code",
   "execution_count": null,
   "id": "241366fa",
   "metadata": {
    "nbgrader": {
     "grade": false,
     "grade_id": "cell-b05283bfcdf07066",
     "locked": false,
     "schema_version": 3,
     "solution": true,
     "task": false
    }
   },
   "outputs": [],
   "source": [
    "### BEGIN SOLUTION\n",
    "po = open('power_set.pickle', 'wb')\n",
    "pickle.dump(power_set, po)\n",
    "po.close()\n",
    "\n",
    "po = open('power_set.pickle', 'rb')\n",
    "new_power_set = pickle.load(po)\n",
    "po.close()\n",
    "### END SOLUTION\n",
    "\n",
    "print(new_power_set({0, 1, 2}))"
   ]
  },
  {
   "cell_type": "code",
   "execution_count": null,
   "id": "fbadd159",
   "metadata": {
    "nbgrader": {
     "grade": true,
     "grade_id": "cell-e2b127a78684912f",
     "locked": true,
     "points": 1,
     "schema_version": 3,
     "solution": false,
     "task": false
    }
   },
   "outputs": [],
   "source": [
    "# 1 Mark\n",
    "# Do not try to delete this cell\n",
    "# Run this cell for grading\n",
    "_globals = globals()\n",
    "question4h(_globals)"
   ]
  },
  {
   "cell_type": "code",
   "execution_count": null,
   "id": "9419ec4b",
   "metadata": {},
   "outputs": [],
   "source": []
  }
 ],
 "metadata": {
  "celltoolbar": "Create Assignment",
  "kernelspec": {
   "display_name": "Python 3 (ipykernel)",
   "language": "python",
   "name": "python3"
  },
  "language_info": {
   "codemirror_mode": {
    "name": "ipython",
    "version": 3
   },
   "file_extension": ".py",
   "mimetype": "text/x-python",
   "name": "python",
   "nbconvert_exporter": "python",
   "pygments_lexer": "ipython3",
   "version": "3.11.4"
  }
 },
 "nbformat": 4,
 "nbformat_minor": 5
}
