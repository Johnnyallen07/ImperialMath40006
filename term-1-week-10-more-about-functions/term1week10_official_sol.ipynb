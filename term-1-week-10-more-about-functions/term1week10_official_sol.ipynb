{
 "cells": [
  {
   "cell_type": "code",
   "execution_count": 1,
   "metadata": {},
   "outputs": [
    {
     "name": "stdout",
     "output_type": "stream",
     "text": [
      "Autograder loaded successfully!\n",
      "Remember to always restart and run all from the Kernel menu before submitting!\n"
     ]
    }
   ],
   "source": [
    "from autograder_term1week10 import *\n",
    "_globals = globals()"
   ]
  },
  {
   "cell_type": "markdown",
   "metadata": {
    "nbgrader": {
     "grade": false,
     "grade_id": "cell-21cb00ee9730bb45",
     "locked": true,
     "schema_version": 3,
     "solution": false
    }
   },
   "source": [
    "# <center> Introduction to Mathematical Computing </center>\n",
    "### <center>Phil Ramsden, Boumediene Hamzi, Sam Brzezicki</center>\n",
    "\n",
    "# <center> Worksheet 6: More About Functions</center>\n",
    "\n",
    "**NOTE:** When answering a question, remember to remove the `raise NotImplementedError()` line.\n",
    "\n",
    "Don't forget: online Python documentation is at <a href='https://docs.python.org'>docs.python.org</a> and <a href='https://www.w3schools.com/python/'>www.w3schools.com/python/</a>."
   ]
  },
  {
   "cell_type": "markdown",
   "metadata": {
    "nbgrader": {
     "grade": false,
     "grade_id": "cell-cfe39fa1dff8d980",
     "locked": true,
     "schema_version": 3,
     "solution": false,
     "task": false
    }
   },
   "source": [
    "## Question 0: don't miss this bit!\n",
    "\n",
    "In the file called `my_username.txt`, type your <b>short-form College user name</b> (this will usually be one or more letters followed by three or more figures, such as qk4019). Don't use quote marks. Then save the file."
   ]
  },
  {
   "cell_type": "code",
   "execution_count": 2,
   "metadata": {
    "nbgrader": {
     "grade": true,
     "grade_id": "cell-568a0b8879ff2f43",
     "locked": true,
     "points": 5,
     "schema_version": 3,
     "solution": false,
     "task": false
    }
   },
   "outputs": [
    {
     "name": "stdout",
     "output_type": "stream",
     "text": [
      "You've changed the contents of the file; thank you!\n",
      "Your username has been recognised; thank you!\n",
      "\n",
      "5 out of 5 marks\n"
     ]
    },
    {
     "data": {
      "text/plain": "5"
     },
     "execution_count": 2,
     "metadata": {},
     "output_type": "execute_result"
    }
   ],
   "source": [
    "# 5 Marks\n",
    "# Do not try to delete this cell\n",
    "# Run this cell for grading of Question 0\n",
    "_globals = globals()\n",
    "question0(_globals)"
   ]
  },
  {
   "cell_type": "markdown",
   "metadata": {
    "nbgrader": {
     "grade": false,
     "grade_id": "cell-91a340b279326c4c",
     "locked": true,
     "schema_version": 3,
     "solution": false
    }
   },
   "source": [
    "## Question 1\n",
    "\n",
    "For a planet or comet, the <b>mean anomaly</b>, $M$, is the time since the closest approach to the Sun, divided by the length of the year, multiplied by $2\\pi$ (so for example if one-quarter of the year has gone by, $M=\\pi/2$). The <b>eccentric anomaly</b>, $E$, is a quantity we use to locate the planet or comet on its orbit. \n",
    "    \n",
    "<b>Kepler's Equation</b> links the two. If the <b>orbital eccentricity</b> is $e$, then Kepler's Equation is\n",
    "$$M=E-e\\,\\sin E.$$\n",
    "\n",
    "(a) For a comet, the eccentricity $e$ can be quite large. Setting $e=0.95$ and $M=\\pi/2$, estimate the value of $E$ by iterating the function\n",
    "$$M+e\\,\\sin E$$\n",
    "10 times, starting from the value $E=M$, and <em>making sure to use a lambda-expression</em>.\n",
    "\n",
    "The function `nestlist` from the notes will be useful, and is supplied. Call your list of 11 iterates `Elist1`."
   ]
  },
  {
   "cell_type": "code",
   "execution_count": 3,
   "metadata": {
    "nbgrader": {
     "grade": false,
     "grade_id": "cell-f80e92e0900ca624",
     "locked": false,
     "schema_version": 3,
     "solution": true
    }
   },
   "outputs": [
    {
     "name": "stdout",
     "output_type": "stream",
     "text": [
      "[1.5707963267948966, 2.5207963267948967, 2.1233952617855856, 2.379401380369645, 2.2267790252052713, 2.3236228059783635, 2.264067672197098, 2.301497907757926, 2.2782673649466303, 2.292803843066782, 2.283752791950874]\n"
     ]
    }
   ],
   "source": [
    "from math import pi, sin, cos\n",
    "\n",
    "def nestlist(f, x0, n):\n",
    "    \"Returns iterates of x = f(x), x0, x1, ... xn\"\n",
    "    \n",
    "    x = x0\n",
    "    xlist = [x0]\n",
    "    \n",
    "    # for loop\n",
    "    for r in range(n):\n",
    "        x = f(x)\n",
    "        xlist.append(x)\n",
    "    \n",
    "    return xlist\n",
    "\n",
    "M, e = pi/2, 0.95\n",
    "\n",
    "### BEGIN SOLUTION\n",
    "Elist1 = nestlist(lambda E: M + e*sin(E), M, 10)\n",
    "### END SOLUTION\n",
    "print(Elist1)"
   ]
  },
  {
   "cell_type": "code",
   "execution_count": 4,
   "metadata": {
    "nbgrader": {
     "grade": true,
     "grade_id": "cell-53518b4701ec028d",
     "locked": true,
     "points": 1,
     "schema_version": 3,
     "solution": false
    }
   },
   "outputs": [
    {
     "name": "stdout",
     "output_type": "stream",
     "text": [
      "Test passed!\n"
     ]
    },
    {
     "data": {
      "text/plain": "1"
     },
     "execution_count": 4,
     "metadata": {},
     "output_type": "execute_result"
    }
   ],
   "source": [
    "# 1 Mark\n",
    "# Do not try to delete this cell\n",
    "# Run this cell for grading\n",
    "_globals = globals()\n",
    "question1a(_globals)"
   ]
  },
  {
   "cell_type": "markdown",
   "metadata": {
    "nbgrader": {
     "grade": false,
     "grade_id": "cell-2aeedec375c28434",
     "locked": true,
     "schema_version": 3,
     "solution": false
    }
   },
   "source": [
    "(b) Estimate the mean anomaly again, but this time by instead iterating\n",
    "$$\\frac{M+e\\,\\sin E + E}{2}$$\n",
    "10 times. Use the same eccentricity, $e=0.95$, the same mean anomaly, $M=\\pi/2$ and the same starting value, $E=M$. Once more, use a lambda-expression in your call to `nestlist`. This time, call the list of 11 iterates `Elist2`."
   ]
  },
  {
   "cell_type": "code",
   "execution_count": 5,
   "metadata": {
    "nbgrader": {
     "grade": false,
     "grade_id": "cell-f976fa3495d05ab2",
     "locked": false,
     "schema_version": 3,
     "solution": true
    }
   },
   "outputs": [
    {
     "name": "stdout",
     "output_type": "stream",
     "text": [
      "[1.5707963267948966, 2.0457963267948966, 2.2307103695659016, 2.2760246901225174, 2.285105692211478, 2.286835289752431, 2.2871613522757923, 2.28722270121186, 2.2872342398078462, 2.287236409852908, 2.2872368179644407]\n"
     ]
    }
   ],
   "source": [
    "M, e = pi/2, 0.95\n",
    "### BEGIN SOLUTION\n",
    "Elist2 = nestlist(lambda E: (M + e*sin(E) + E)/2, M, 10)\n",
    "### END SOLUTION\n",
    "print(Elist2)"
   ]
  },
  {
   "cell_type": "code",
   "execution_count": 6,
   "metadata": {
    "nbgrader": {
     "grade": true,
     "grade_id": "cell-6b2f0edf42d38cab",
     "locked": true,
     "points": 1,
     "schema_version": 3,
     "solution": false,
     "task": false
    }
   },
   "outputs": [
    {
     "name": "stdout",
     "output_type": "stream",
     "text": [
      "Test passed!\n"
     ]
    },
    {
     "data": {
      "text/plain": "1"
     },
     "execution_count": 6,
     "metadata": {},
     "output_type": "execute_result"
    }
   ],
   "source": [
    "# 1 Mark\n",
    "# Do not try to delete this cell\n",
    "# Run this cell for grading\n",
    "_globals = globals()\n",
    "question1b(_globals)"
   ]
  },
  {
   "cell_type": "markdown",
   "metadata": {
    "nbgrader": {
     "grade": false,
     "grade_id": "cell-06d6a82d4903ba7a",
     "locked": true,
     "schema_version": 3,
     "solution": false
    }
   },
   "source": [
    "(c) Estimate the mean anomaly a third time, but this time by instead iterating\n",
    "$$\\frac{M+e\\,\\sin E - E\\,e\\,\\cos E}{1- e\\,\\cos E}$$\n",
    "10 times. Use the same eccentricity, $e=0.95$, the same mean anomaly, $M=\\pi/2$ and the same starting value, $E=M$. Once more, use a lambda-expression in your call to `nestlist`. This time, call the list of 11 iterates `Elist3`."
   ]
  },
  {
   "cell_type": "code",
   "execution_count": 7,
   "metadata": {
    "nbgrader": {
     "grade": false,
     "grade_id": "cell-014d16016afd87ab",
     "locked": false,
     "schema_version": 3,
     "solution": true
    }
   },
   "outputs": [
    {
     "name": "stdout",
     "output_type": "stream",
     "text": [
      "[1.5707963267948966, 2.520796326794897, 2.296623574573425, 2.287256163407903, 2.287236912575581, 2.28723691249383, 2.28723691249383, 2.28723691249383, 2.28723691249383, 2.28723691249383, 2.28723691249383]\n"
     ]
    }
   ],
   "source": [
    "M, e = pi/2, 0.95\n",
    "### BEGIN SOLUTION\n",
    "Elist3 = nestlist(lambda E: (M + e*sin(E) - E*e*cos(E))/(1-e*cos(E)), M, 10)\n",
    "### END SOLUTION\n",
    "print(Elist3)"
   ]
  },
  {
   "cell_type": "code",
   "execution_count": 8,
   "metadata": {
    "nbgrader": {
     "grade": true,
     "grade_id": "cell-f304b70d40d75159",
     "locked": true,
     "points": 1,
     "schema_version": 3,
     "solution": false,
     "task": false
    }
   },
   "outputs": [
    {
     "name": "stdout",
     "output_type": "stream",
     "text": [
      "Test passed!\n"
     ]
    },
    {
     "data": {
      "text/plain": "1"
     },
     "execution_count": 8,
     "metadata": {},
     "output_type": "execute_result"
    }
   ],
   "source": [
    "# 1 Mark\n",
    "# Do not try to delete this cell\n",
    "# Run this cell for grading\n",
    "_globals = globals()\n",
    "question1c(_globals)"
   ]
  },
  {
   "cell_type": "markdown",
   "metadata": {
    "nbgrader": {
     "grade": false,
     "grade_id": "cell-11dfed6f53956a3b",
     "locked": true,
     "schema_version": 3,
     "solution": false
    }
   },
   "source": [
    "(d) Write and test a function called `eccentric_anomaly`, which takes as its arguments floats $M$ and $e$, and a non-negative integer $M$, and returns, as a float, an estimate for the eccentric anomaly associated with mean anomaly $M$ and eccentricity $e$. This should be obtained from Kepler's equation by iterating $n$ times, starting with $E=M$, using the most rapidly converging of the three iterations above. You may assume that $0\\le e < 1$."
   ]
  },
  {
   "cell_type": "code",
   "execution_count": 9,
   "metadata": {
    "nbgrader": {
     "grade": false,
     "grade_id": "cell-0edaadf7edf15359",
     "locked": false,
     "schema_version": 3,
     "solution": true
    }
   },
   "outputs": [],
   "source": [
    "def eccentric_anomaly(M, e, n):\n",
    "    from math import pi, sin, cos\n",
    "    \"\"\"\n",
    "    Returns an estimate for the eccentric anomaly associated\n",
    "    with mean anomaly M, and eccentricity e, obtained by n\n",
    "    iterations of a rapidly converging sequence\n",
    "    \"\"\"\n",
    "    ### BEGIN SOLUTION\n",
    "    E = M\n",
    "    \n",
    "    for r in range(n):\n",
    "        E = (M + e*sin(E) - E*e*cos(E))/(1-e*cos(E))\n",
    "    \n",
    "    return E\n",
    "    ### END SOLUTION"
   ]
  },
  {
   "cell_type": "code",
   "execution_count": 10,
   "metadata": {
    "nbgrader": {
     "grade": true,
     "grade_id": "cell-4c4e58d7e8c3d46e",
     "locked": true,
     "points": 2,
     "schema_version": 3,
     "solution": false
    }
   },
   "outputs": [
    {
     "name": "stdout",
     "output_type": "stream",
     "text": [
      "Testing: typical case\n",
      "eccentric_anomaly(pi/2, 0.95, 5) returned the correct output\n",
      "\n",
      "Testing: edge cases\n",
      "eccentric_anomaly(pi/2, 0.95, 0) returned the correct output\n",
      "eccentric_anomaly(pi/2, 0, 5) returned the correct output\n",
      "\n",
      "Question 1d: 2 out of 2\n"
     ]
    },
    {
     "data": {
      "text/plain": "2"
     },
     "execution_count": 10,
     "metadata": {},
     "output_type": "execute_result"
    }
   ],
   "source": [
    "# 2 Marks\n",
    "# Do not try to delete this cell\n",
    "# Run this cell for grading\n",
    "_globals = globals()\n",
    "question1d(_globals)"
   ]
  },
  {
   "cell_type": "markdown",
   "metadata": {
    "nbgrader": {
     "grade": false,
     "grade_id": "cell-213e319a58ca71f2",
     "locked": true,
     "schema_version": 3,
     "solution": false
    }
   },
   "source": [
    "## Question 2\n",
    "\n",
    "(a) Write a function called <code>integer_digits</code>, which takes as its arguments <code>number</code> (an int greater than or equal to 0) and <code>base</code> (an int greater than 1), and returns, as a list, the digits of <code>number</code> in base <code>base</code>. \n",
    "\n",
    "Test your function: the commands <code>integer_digits(347, 10)</code> and <code>integer_digits(347, 2)</code> should return, respectively, <code>[3, 4, 7]</code> and <code>[1, 0, 1, 0, 1, 1, 0, 1, 1]</code>. If <code>number</code> is equal to zero, an empty list should be returned.\n",
    "\n",
    "Make sure your code also works if you call it using <b>keywords</b>: for example,\n",
    "\n",
    "```python\n",
    "integer_digits(number = 347, base = 10)\n",
    "```"
   ]
  },
  {
   "cell_type": "code",
   "execution_count": 11,
   "metadata": {
    "nbgrader": {
     "grade": false,
     "grade_id": "cell-6c432b941e2929af",
     "locked": false,
     "schema_version": 3,
     "solution": true
    }
   },
   "outputs": [],
   "source": [
    "def integer_digits(number, base):\n",
    "    ### BEGIN SOLUTION\n",
    "    digit_list = []\n",
    "    \n",
    "    while number > 0:\n",
    "        # insert last digit\n",
    "        digit_list.insert(0, number % base)\n",
    "        # throw away last digit from number\n",
    "        number //= base\n",
    "        \n",
    "    return digit_list\n",
    "    ### END SOLUTION"
   ]
  },
  {
   "cell_type": "code",
   "execution_count": 12,
   "metadata": {
    "nbgrader": {
     "grade": true,
     "grade_id": "cell-f96bf7f1f098f4a6",
     "locked": true,
     "points": 0,
     "schema_version": 3,
     "solution": false
    }
   },
   "outputs": [
    {
     "name": "stdout",
     "output_type": "stream",
     "text": [
      "Unit test passed! Run some of your own tests, making sure to try a variety of cases.\n"
     ]
    }
   ],
   "source": [
    "# Run this test cell to check your code\n",
    "# Unit test\n",
    "# 0 Marks\n",
    "assert(integer_digits(347,2) == [1, 0, 1, 0, 1, 1, 0, 1, 1])\n",
    "print('Unit test passed! Run some of your own tests, making sure to try a variety of cases.')"
   ]
  },
  {
   "cell_type": "code",
   "execution_count": 13,
   "metadata": {
    "nbgrader": {
     "grade": true,
     "grade_id": "cell-5922f55d871755cd",
     "locked": true,
     "points": 3,
     "schema_version": 3,
     "solution": false
    }
   },
   "outputs": [
    {
     "name": "stdout",
     "output_type": "stream",
     "text": [
      "Testing: arguments by position\n",
      "integer_digits(6,2) returned the correct output\n",
      "integer_digits(347,2) returned the correct output\n",
      "integer_digits(347,10) returned the correct output\n",
      "\n",
      "Testing: arguments by keyword\n",
      "integer_digits(number=6,base=2) returned the correct output\n",
      "integer_digits(base=2,number=347) returned the correct output\n",
      "integer_digits(number=347,base=10) returned the correct output\n",
      "\n",
      "Testing: edge cases\n",
      "integer_digits(1,2) returned the correct output\n",
      "integer_digits(base=7,number=1) returned the correct output\n",
      "integer_digits(0,10) returned the correct output\n",
      "\n",
      "Question 2a: 3 out of 3\n"
     ]
    },
    {
     "data": {
      "text/plain": "3"
     },
     "execution_count": 13,
     "metadata": {},
     "output_type": "execute_result"
    }
   ],
   "source": [
    "# 3 Marks\n",
    "# Do not try to delete this cell\n",
    "# Run this cell for grading\n",
    "_globals = globals()\n",
    "question2a(_globals)"
   ]
  },
  {
   "cell_type": "markdown",
   "metadata": {
    "nbgrader": {
     "grade": false,
     "grade_id": "cell-34d7c7eda0219df8",
     "locked": true,
     "schema_version": 3,
     "solution": false
    }
   },
   "source": [
    "(b) Adapt your <code>integer_digits</code> function so that the default value of <code>base</code> is 10. \n",
    "\n",
    "Test. If you've done it right, \n",
    "\n",
    "```python\n",
    "integer_digits(347, 10)\n",
    "integer_digits(347, 2)\n",
    "integer_digits(number = 347, base = 10)\n",
    "```\n",
    "\n",
    "and\n",
    "\n",
    "```python\n",
    "integer_digits(base = 10, number = 347)\n",
    "```\n",
    "should all still work, but in addition, \n",
    "\n",
    "```python\n",
    "integer_digits(347)\n",
    "```\n",
    "\n",
    "and \n",
    "\n",
    "```python\n",
    "integer_digits(number = 347)\n",
    "```\n",
    "\n",
    "should both return <code>[3, 4, 7]</code>."
   ]
  },
  {
   "cell_type": "code",
   "execution_count": 14,
   "metadata": {
    "nbgrader": {
     "grade": false,
     "grade_id": "cell-b2b38ba00344d53d",
     "locked": false,
     "schema_version": 3,
     "solution": true
    }
   },
   "outputs": [],
   "source": [
    "### BEGIN SOLUTION\n",
    "def integer_digits(number, base=10):\n",
    "    digit_list = []\n",
    "    \n",
    "    while number > 0:\n",
    "        # insert last digit\n",
    "        digit_list.insert(0, number % base)\n",
    "        # throw away last digit from number\n",
    "        number //= base\n",
    "        \n",
    "    return digit_list\n",
    "### END SOLUTION"
   ]
  },
  {
   "cell_type": "code",
   "execution_count": 15,
   "metadata": {
    "nbgrader": {
     "grade": true,
     "grade_id": "cell-a503a65776131ce2",
     "locked": true,
     "points": 0,
     "schema_version": 3,
     "solution": false
    }
   },
   "outputs": [
    {
     "name": "stdout",
     "output_type": "stream",
     "text": [
      "Unit test passed! Run some of your own tests, making sure to try a variety of cases.\n"
     ]
    }
   ],
   "source": [
    "# Run this test cell to check your code\n",
    "# Unit test\n",
    "# 0 Marks\n",
    "assert(integer_digits(347) == [3,4,7])\n",
    "print('Unit test passed! Run some of your own tests, making sure to try a variety of cases.')"
   ]
  },
  {
   "cell_type": "code",
   "execution_count": 16,
   "metadata": {
    "nbgrader": {
     "grade": true,
     "grade_id": "cell-3a23b2de29ebc595",
     "locked": true,
     "points": 4,
     "schema_version": 3,
     "solution": false
    }
   },
   "outputs": [
    {
     "name": "stdout",
     "output_type": "stream",
     "text": [
      "Testing: arguments by position\n",
      "integer_digits(6,2) returned the correct output\n",
      "integer_digits(347,2) returned the correct output\n",
      "integer_digits(347,10) returned the correct output\n",
      "\n",
      "Testing: arguments by keyword\n",
      "integer_digits(number=6,base=2) returned the correct output\n",
      "integer_digits(base=2,number=347) returned the correct output\n",
      "integer_digits(number=347,base=10) returned the correct output\n",
      "\n",
      "Testing: edge cases\n",
      "integer_digits(1,2) returned the correct output\n",
      "integer_digits(base=7,number=1) returned the correct output\n",
      "integer_digits(0,10) returned the correct output\n",
      "\n",
      "Testing: default value\n",
      "integer_digits(347) returned the correct output\n",
      "integer_digits(number=347) returned the correct output\n",
      "integer_digits(number=0) returned the correct output\n",
      "\n",
      "Question 2b: 4 out of 4\n"
     ]
    },
    {
     "data": {
      "text/plain": "4"
     },
     "execution_count": 16,
     "metadata": {},
     "output_type": "execute_result"
    }
   ],
   "source": [
    "# 4 Marks\n",
    "# Do not try to delete this cell\n",
    "# Run this cell for grading\n",
    "_globals = globals()\n",
    "question2b(_globals)"
   ]
  },
  {
   "cell_type": "markdown",
   "metadata": {
    "nbgrader": {
     "grade": false,
     "grade_id": "cell-7390568762b9bccf",
     "locked": true,
     "schema_version": 3,
     "solution": false
    }
   },
   "source": [
    "(c) Adapt your code further so that <code>base</code> is only accepted as a keyword argument, but <code>number</code> can be positional or keyword.\n",
    "\n",
    "If you've done it right, the following should work:\n",
    "\n",
    "```python\n",
    "integer_digits(347)\n",
    "integer_digits(number = 347)\n",
    "integer_digits(347, base = 2)\n",
    "integer_digits(number = 347, base = 2)\n",
    "integer_digits(base = 2, number = 347)\n",
    "```\n",
    "\n",
    "but \n",
    "\n",
    "```python\n",
    "integer_digits(347, 2)\n",
    "```\n",
    "\n",
    "should no longer work.\n",
    "\n",
    "Can you think of an advantage of this arrangement?"
   ]
  },
  {
   "cell_type": "code",
   "execution_count": 17,
   "metadata": {
    "nbgrader": {
     "grade": false,
     "grade_id": "cell-fda6ae637f58982c",
     "locked": false,
     "schema_version": 3,
     "solution": true
    }
   },
   "outputs": [],
   "source": [
    "## BEGIN SOLUTION\n",
    "def integer_digits(number, *, base=10):\n",
    "    digit_list = []\n",
    "    \n",
    "    while number > 0:\n",
    "        # insert last digit\n",
    "        digit_list.insert(0, number % base)\n",
    "        # throw away last digit from number\n",
    "        number //= base\n",
    "        \n",
    "    return digit_list\n",
    "## END SOLUTION"
   ]
  },
  {
   "cell_type": "code",
   "execution_count": 18,
   "metadata": {
    "nbgrader": {
     "grade": true,
     "grade_id": "cell-70f2ba6cc7659b0a",
     "locked": true,
     "points": 2,
     "schema_version": 3,
     "solution": false
    }
   },
   "outputs": [
    {
     "name": "stdout",
     "output_type": "stream",
     "text": [
      "Testing: these should all work\n",
      "integer_digits(347) returned the correct output\n",
      "integer_digits(number=347) returned the correct output\n",
      "integer_digits(347,base=2) returned the correct output\n",
      "integer_digits(number=347,base=2) returned the correct output\n",
      "integer_digits(base=2,number=347) returned the correct output\n",
      "\n",
      "Testing: this one should fail\n",
      "integer_digits(347,2) failed, as it should have\n",
      "\n",
      "Question 2c: 2 out of 2\n"
     ]
    },
    {
     "data": {
      "text/plain": "2"
     },
     "execution_count": 18,
     "metadata": {},
     "output_type": "execute_result"
    }
   ],
   "source": [
    "# 2 Marks\n",
    "# Do not try to delete this cell\n",
    "# Run this cell for grading\n",
    "_globals = globals()\n",
    "question2c(_globals)"
   ]
  },
  {
   "cell_type": "markdown",
   "metadata": {
    "nbgrader": {
     "grade": false,
     "grade_id": "cell-0a15838b7d4d3f2a",
     "locked": true,
     "schema_version": 3,
     "solution": false
    }
   },
   "source": [
    "## Question 3\n",
    "(a) Write and test a hailstone sequence function which uses the infinite loop\n",
    "\n",
    "```\n",
    "    while True:\n",
    "```\n",
    "\n",
    "instead of a loop with a terminating condition. This function should terminate at the first occurrence of 1. \n",
    "\n",
    "An <code>hailstone_step</code> function is provided for you below.\n",
    "\n",
    "Note: autograding won't be able to tell whether you've used <code>while True</code>, but please do try."
   ]
  },
  {
   "cell_type": "code",
   "execution_count": 19,
   "metadata": {
    "nbgrader": {
     "grade": false,
     "grade_id": "cell-74b97b68f8c335a0",
     "locked": false,
     "schema_version": 3,
     "solution": true
    }
   },
   "outputs": [],
   "source": [
    "def hailstone_step(a):\n",
    "    if a % 2 == 0:\n",
    "        return a//2\n",
    "    else:\n",
    "        return 3*a+1\n",
    "\n",
    "def hailstone_sequence(a):\n",
    "    ### BEGIN SOLUTION\n",
    "    alist = [a]\n",
    "    if a==1:\n",
    "        return [1]\n",
    "    while True:\n",
    "        a = hailstone_step(a)\n",
    "        alist.append(a)\n",
    "        # if sequence should now terminate, return alist and stop\n",
    "        if a==1:\n",
    "            return alist\n",
    "    ### END SOLUTION"
   ]
  },
  {
   "cell_type": "code",
   "execution_count": 20,
   "metadata": {
    "nbgrader": {
     "grade": true,
     "grade_id": "cell-1f24b08e62f943b4",
     "locked": true,
     "points": 2,
     "schema_version": 3,
     "solution": false
    }
   },
   "outputs": [
    {
     "name": "stdout",
     "output_type": "stream",
     "text": [
      "Testing: typical case\n",
      "hailstone_sequence(11) returned the correct output\n",
      "\n",
      "Testing: edge case\n",
      "hailstone_sequence(1) returned the correct output\n",
      "\n",
      "Question 3a: 2 out of 2\n"
     ]
    },
    {
     "data": {
      "text/plain": "2"
     },
     "execution_count": 20,
     "metadata": {},
     "output_type": "execute_result"
    }
   ],
   "source": [
    "# 2 Marks\n",
    "# Do not try to delete this cell\n",
    "# Run this cell for grading\n",
    "_globals = globals()\n",
    "question3a(_globals)"
   ]
  },
  {
   "cell_type": "markdown",
   "metadata": {
    "nbgrader": {
     "grade": false,
     "grade_id": "cell-29c5f4414e004b05",
     "locked": true,
     "schema_version": 3,
     "solution": false
    }
   },
   "source": [
    "(b) Write and test an <code>aliquot_chain</code> function, called <code>aliquot_chain</code> which uses the infinite loop\n",
    "\n",
    "```\n",
    "    while True:\n",
    "```\n",
    "\n",
    "instead of a loop with a terminating condition. It should terminate at the first occurrence of a number that has already been seen. You may want to reuse your <code>factor_sum</code> function from earlier in the module."
   ]
  },
  {
   "cell_type": "code",
   "execution_count": 21,
   "metadata": {
    "nbgrader": {
     "grade": false,
     "grade_id": "cell-3d6fc02febf86f32",
     "locked": false,
     "schema_version": 3,
     "solution": true
    }
   },
   "outputs": [],
   "source": [
    "def factor_sum(a):\n",
    "    ### BEGIN SOLUTION\n",
    "    from math import floor, sqrt\n",
    "    fsum = 0\n",
    "    sqrta = floor(sqrt(a))\n",
    "    \n",
    "    for r in range(1,sqrta+1):\n",
    "        if a%r == 0:\n",
    "            fsum += r + a//r\n",
    "            \n",
    "    # adjust for perfect squares\n",
    "    if sqrta ** 2 == a:\n",
    "        fsum -= sqrta\n",
    "    return fsum\n",
    "    ### END SOLUTION\n",
    "\n",
    "def aliquot_chain(a):\n",
    "    ### BEGIN SOLUTION\n",
    "    alist = [a]\n",
    "    while True:\n",
    "        a = factor_sum(a)-a\n",
    "        alist.append(a)\n",
    "        # if number has already occurred, return alist and stop\n",
    "        if a in alist[:-1]:\n",
    "            return alist\n",
    "    ### END SOLUTION"
   ]
  },
  {
   "cell_type": "code",
   "execution_count": 22,
   "metadata": {
    "nbgrader": {
     "grade": true,
     "grade_id": "cell-547043decd0b74d6",
     "locked": true,
     "points": 4,
     "schema_version": 3,
     "solution": false
    }
   },
   "outputs": [
    {
     "name": "stdout",
     "output_type": "stream",
     "text": [
      "Testing: typical case\n",
      "aliquot_chain(282) returned the correct output\n",
      "\n",
      "Testing: edge case\n",
      "aliquot_chain(0) returned the correct output\n",
      "\n",
      "Testing: perfect number\n",
      "aliquot_chain(28) returned the correct output\n",
      "\n",
      "Testing: amicable pair\n",
      "aliquot_chain(284) returned the correct output\n",
      "\n",
      "Question 3b: 4 out of 4\n"
     ]
    },
    {
     "data": {
      "text/plain": "4"
     },
     "execution_count": 22,
     "metadata": {},
     "output_type": "execute_result"
    }
   ],
   "source": [
    "# 4 Marks\n",
    "# Do not try to delete this cell\n",
    "# Run this cell for grading\n",
    "_globals = globals()\n",
    "question3b(_globals)"
   ]
  },
  {
   "cell_type": "markdown",
   "metadata": {
    "nbgrader": {
     "grade": false,
     "grade_id": "cell-e630564553dbeb4e",
     "locked": true,
     "schema_version": 3,
     "solution": false
    }
   },
   "source": [
    "(c) The following code is for a function called <code>power_of_two_divisor1</code>, which takes as its argument <code>n</code>, assumed to be a positive integer, and returns the highest value of <code>r</code> such that $2^r$ divides $n$; so for example\n",
    "\n",
    "```python\n",
    "power_of_two_divisor1(24)\n",
    "```\n",
    "\n",
    "returns 3, because $2^3$ divides 24."
   ]
  },
  {
   "cell_type": "code",
   "execution_count": 23,
   "metadata": {
    "nbgrader": {
     "grade": false,
     "grade_id": "cell-aaba81fd4e87358b",
     "locked": true,
     "schema_version": 3,
     "solution": false
    }
   },
   "outputs": [],
   "source": [
    "def power_of_two_divisor1(n):\n",
    "    r = 0\n",
    "    \n",
    "    # while loop, terminating when n becomes odd\n",
    "    while n % 2 == 0:\n",
    "        # increment n\n",
    "        r += 1\n",
    "        # divide n by 2\n",
    "        n = n // 2\n",
    "    \n",
    "    return r"
   ]
  },
  {
   "cell_type": "markdown",
   "metadata": {
    "nbgrader": {
     "grade": false,
     "grade_id": "cell-5f73c8ec66d9c796",
     "locked": true,
     "schema_version": 3,
     "solution": false
    }
   },
   "source": [
    "Test this function.\n",
    "\n",
    "Then, write and test a version of it called <code>power_of_two_divisor2</code> that doesn't use a while loop at all, but instead uses the infinite loop\n",
    "\n",
    "```\n",
    "for r in count()\n",
    "```\n",
    "\n",
    "An outline is provided below."
   ]
  },
  {
   "cell_type": "code",
   "execution_count": 24,
   "metadata": {
    "nbgrader": {
     "grade": false,
     "grade_id": "cell-7ca2fe4de8b88de3",
     "locked": false,
     "schema_version": 3,
     "solution": true
    }
   },
   "outputs": [],
   "source": [
    "def power_of_two_divisor2(n):\n",
    "    from itertools import count\n",
    "    # infinite for loop\n",
    "    for r in count():\n",
    "        ### BEGIN SOLUTION\n",
    "        # if n is odd return latest value of r\n",
    "        if not(n % 2 == 0):\n",
    "            return r\n",
    "            \n",
    "        # otherwise, divide n by 2\n",
    "        else:\n",
    "            n = n // 2\n",
    "        ### END SOLUTION"
   ]
  },
  {
   "cell_type": "code",
   "execution_count": 25,
   "metadata": {
    "nbgrader": {
     "grade": true,
     "grade_id": "cell-b763bf1de9d34a56",
     "locked": true,
     "points": 4,
     "schema_version": 3,
     "solution": false
    }
   },
   "outputs": [
    {
     "name": "stdout",
     "output_type": "stream",
     "text": [
      "Testing: small even number\n",
      "power_of_two_divisor2(24) returned the correct output\n",
      "\n",
      "Testing: small odd number\n",
      "power_of_two_divisor2(23) returned the correct output\n",
      "\n",
      "Testing: large even number\n",
      "power_of_two_divisor2(2**103*3**89) returned the correct output\n",
      "\n",
      "Testing: large odd number\n",
      "power_of_two_divisor2(5**103*3**89) returned the correct output\n",
      "\n",
      "Question 3c: 4 out of 4\n"
     ]
    },
    {
     "data": {
      "text/plain": "4"
     },
     "execution_count": 25,
     "metadata": {},
     "output_type": "execute_result"
    }
   ],
   "source": [
    "# 4 Marks\n",
    "# Do not try to delete this cell\n",
    "# Run this cell for grading\n",
    "_globals = globals()\n",
    "question3c(_globals)"
   ]
  },
  {
   "cell_type": "markdown",
   "metadata": {
    "nbgrader": {
     "grade": false,
     "grade_id": "cell-3b1f99c73f3a9ca3",
     "locked": true,
     "schema_version": 3,
     "solution": false
    }
   },
   "source": [
    "## Question 4\n",
    "\n",
    "(a) Complete the following factorial function, <code>my_factorial</code>, which works using <b>recursion</b>: that is, by calling itself. Test your function."
   ]
  },
  {
   "cell_type": "code",
   "execution_count": 26,
   "metadata": {
    "nbgrader": {
     "grade": false,
     "grade_id": "cell-8e24c72afd376c6e",
     "locked": false,
     "schema_version": 3,
     "solution": true
    }
   },
   "outputs": [],
   "source": [
    "def my_factorial(n):\n",
    "    # base case\n",
    "    if n==1 or n==0:\n",
    "        return 1\n",
    "    # recursion step\n",
    "    else:\n",
    "        ### BEGIN SOLUTION\n",
    "        return n * my_factorial(n - 1)\n",
    "        ### END SOLUTION"
   ]
  },
  {
   "cell_type": "code",
   "execution_count": 27,
   "metadata": {
    "nbgrader": {
     "grade": true,
     "grade_id": "cell-d8620df67910e0fb",
     "locked": true,
     "points": 2,
     "schema_version": 3,
     "solution": false
    }
   },
   "outputs": [
    {
     "name": "stdout",
     "output_type": "stream",
     "text": [
      "Testing: typical cases\n",
      "my_factorial(10) returned the correct output\n",
      "my_factorial(100) returned the correct output\n",
      "\n",
      "Testing: edge cases\n",
      "my_factorial(1) returned the correct output\n",
      "my_factorial(0) returned the correct output\n",
      "\n",
      "Question 4a: 2 out of 2\n"
     ]
    },
    {
     "data": {
      "text/plain": "2"
     },
     "execution_count": 27,
     "metadata": {},
     "output_type": "execute_result"
    }
   ],
   "source": [
    "# 2 Marks\n",
    "# Do not try to delete this cell\n",
    "# Run this cell for grading\n",
    "_globals = globals()\n",
    "question4a(_globals)"
   ]
  },
  {
   "cell_type": "markdown",
   "metadata": {
    "nbgrader": {
     "grade": false,
     "grade_id": "cell-5b84cb31d48b0155",
     "locked": true,
     "schema_version": 3,
     "solution": false
    }
   },
   "source": [
    "(b) Write and test a recursive version of your <code>hailstone_sequence</code> function, called <code>hailstone_sequence2</code>, which should work by calling itself instead of by a loop, and which should terminate at the first occurence of $1$. \n",
    "\n",
    "Autograding can't tell whether you've used recursion, but please do try!"
   ]
  },
  {
   "cell_type": "code",
   "execution_count": 28,
   "metadata": {
    "nbgrader": {
     "grade": false,
     "grade_id": "cell-483675ae72e172f2",
     "locked": false,
     "schema_version": 3,
     "solution": true
    }
   },
   "outputs": [],
   "source": [
    "def hailstone_step(a):\n",
    "    if a % 2 == 0:\n",
    "        return a//2\n",
    "    else:\n",
    "        return 3*a+1\n",
    "\n",
    "def hailstone_sequence2(a):\n",
    "    ### BEGIN SOLUTION\n",
    "    # base case\n",
    "    if a==1:\n",
    "        return [1]\n",
    "    # recursion step\n",
    "    else:\n",
    "        return [a] + hailstone_sequence2(hailstone_step(a))\n",
    "    ### END SOLUTION"
   ]
  },
  {
   "cell_type": "code",
   "execution_count": 29,
   "metadata": {
    "nbgrader": {
     "grade": true,
     "grade_id": "cell-5b9dff1d06c22cb3",
     "locked": true,
     "points": 2,
     "schema_version": 3,
     "solution": false
    }
   },
   "outputs": [
    {
     "name": "stdout",
     "output_type": "stream",
     "text": [
      "Testing: typical case\n",
      "hailstone_sequence2(11) returned the correct output\n",
      "\n",
      "Testing: edge case\n",
      "hailstone_sequence2(1) returned the correct output\n",
      "\n",
      "Question 4b: 2 out of 2\n"
     ]
    },
    {
     "data": {
      "text/plain": "2"
     },
     "execution_count": 29,
     "metadata": {},
     "output_type": "execute_result"
    }
   ],
   "source": [
    "# 2 Marks\n",
    "# Do not try to delete this cell\n",
    "# Run this cell for grading\n",
    "_globals = globals()\n",
    "question4b(_globals)"
   ]
  },
  {
   "cell_type": "markdown",
   "metadata": {
    "nbgrader": {
     "grade": false,
     "grade_id": "cell-90bb23841ea077aa",
     "locked": true,
     "schema_version": 3,
     "solution": false
    }
   },
   "source": [
    "(c) The following code defines an iterative function called <code>fibonacci</code>:"
   ]
  },
  {
   "cell_type": "code",
   "execution_count": 30,
   "metadata": {
    "nbgrader": {
     "grade": false,
     "grade_id": "cell-5904603ea61036b8",
     "locked": true,
     "schema_version": 3,
     "solution": false
    }
   },
   "outputs": [],
   "source": [
    "def fibonacci(n):\n",
    "    # initialize a and b\n",
    "    a, b = 1, 1\n",
    "    # the cases 1 and 2\n",
    "    if n==1 or n==2:\n",
    "        return 1\n",
    "    else:\n",
    "        for r in range(3,n+1):\n",
    "            a, b = b, a + b\n",
    "        return b"
   ]
  },
  {
   "cell_type": "markdown",
   "metadata": {
    "nbgrader": {
     "grade": false,
     "grade_id": "cell-d273461e9ed41671",
     "locked": true,
     "schema_version": 3,
     "solution": false
    }
   },
   "source": [
    "The following is an alternative, recursive version:"
   ]
  },
  {
   "cell_type": "code",
   "execution_count": 31,
   "metadata": {
    "nbgrader": {
     "grade": false,
     "grade_id": "cell-7abb16853428d1ad",
     "locked": true,
     "schema_version": 3,
     "solution": false
    }
   },
   "outputs": [],
   "source": [
    "def fibonacci2(n):\n",
    "    # base case\n",
    "    if n==1 or n==2:\n",
    "        return 1\n",
    "    # recursion step\n",
    "    else:\n",
    "        return fibonacci2(n-1) + fibonacci2(n-2)"
   ]
  },
  {
   "cell_type": "markdown",
   "metadata": {
    "nbgrader": {
     "grade": false,
     "grade_id": "cell-d633358bbde7ec0f",
     "locked": true,
     "schema_version": 3,
     "solution": false
    }
   },
   "source": [
    "Test that these two functions return the same arguments for $n=1, 2, 3, \\dots, 10$.\n",
    "\n",
    "Autograding can't tell whether you've done that or not, but please do!\n",
    "\n",
    "Calculate the 35th Fibonacci number using each of these two functions, then choose one of the following options:\n",
    "\n",
    "1. Both functions give the same output for $n=35$, in about the same time.\n",
    "2. Both functions give the same output for $n=35$, but <code>fibonacci</code> is the more efficient.\n",
    "3. Both functions give the same output for $n=35$, but <code>fibonacci2</code> is the more efficient.\n",
    "4. The two functions give different outputs for $n=35$, suggesting at least one of them has a bug."
   ]
  },
  {
   "cell_type": "code",
   "execution_count": 32,
   "metadata": {
    "nbgrader": {
     "grade": false,
     "grade_id": "cell-fe4c35facb2ba712",
     "locked": false,
     "schema_version": 3,
     "solution": true
    }
   },
   "outputs": [],
   "source": [
    "### BEGIN SOLUTION\n",
    "question4c_answer = 2\n",
    "### END SOLUTION"
   ]
  },
  {
   "cell_type": "code",
   "execution_count": 33,
   "metadata": {
    "nbgrader": {
     "grade": true,
     "grade_id": "cell-1b5a4c306b8824ef",
     "locked": true,
     "points": 1,
     "schema_version": 3,
     "solution": false
    }
   },
   "outputs": [
    {
     "name": "stdout",
     "output_type": "stream",
     "text": [
      "test case passed!\n"
     ]
    }
   ],
   "source": [
    "# 1 Mark\n",
    "assert(question4c_answer == question4_c())\n",
    "print('test case passed!')"
   ]
  },
  {
   "cell_type": "markdown",
   "metadata": {
    "nbgrader": {
     "grade": false,
     "grade_id": "cell-6dbdc908791ca337",
     "locked": true,
     "schema_version": 3,
     "solution": false
    }
   },
   "source": [
    "(d) Write and test a recursive function called <code>fibonacci_recpair</code> which takes as its argument <code>n</code>, assumed to be an integer greater than 1, and returns, as a 2-tuple, the $(n-1)$th and $n$th Fibonacci numbers. So, for example, \n",
    "\n",
    "```python\n",
    "fibonacci_recpair(10)\n",
    "```\n",
    "\n",
    "should return <code>(34, 55)</code>."
   ]
  },
  {
   "cell_type": "code",
   "execution_count": 34,
   "metadata": {
    "nbgrader": {
     "grade": false,
     "grade_id": "cell-4e6a39f259575fb1",
     "locked": false,
     "schema_version": 3,
     "solution": true
    }
   },
   "outputs": [],
   "source": [
    "def fibonacci_recpair(n):\n",
    "    ### BEGIN SOLUTION\n",
    "    # base case\n",
    "    if n==2:\n",
    "        return (1, 1)\n",
    "    # recursion step\n",
    "    else:\n",
    "        previous = fibonacci_recpair(n-1)\n",
    "        return (previous[1], previous[0]+previous[1])\n",
    "    ### END SOLUTION"
   ]
  },
  {
   "cell_type": "code",
   "execution_count": 35,
   "metadata": {
    "nbgrader": {
     "grade": true,
     "grade_id": "cell-dc17b901d6f3b7f6",
     "locked": true,
     "points": 2,
     "schema_version": 3,
     "solution": false
    }
   },
   "outputs": [
    {
     "name": "stdout",
     "output_type": "stream",
     "text": [
      "Testing: typical case\n",
      "fibonacci_recpair(10) returned the correct output\n",
      "\n",
      "Testing: edge case\n",
      "fibonacci_recpair(2) returned the correct output\n",
      "\n",
      "Question 4d: 2 out of 2\n"
     ]
    },
    {
     "data": {
      "text/plain": "2"
     },
     "execution_count": 35,
     "metadata": {},
     "output_type": "execute_result"
    }
   ],
   "source": [
    "# 2 Marks\n",
    "# Do not try to delete this cell\n",
    "# Run this cell for grading\n",
    "_globals = globals()\n",
    "question4d(_globals)"
   ]
  },
  {
   "cell_type": "markdown",
   "metadata": {
    "nbgrader": {
     "grade": false,
     "grade_id": "cell-56c8ba0b99c10e61",
     "locked": true,
     "schema_version": 3,
     "solution": false
    }
   },
   "source": [
    "(e) Write and test a function called <code>fibonacci3</code> which, by calling <code>fibonacci_recpair</code>, calculates the $n$th Fibonacci number. (This won't work for $n=1$, so you'll need to make a special case of that.)"
   ]
  },
  {
   "cell_type": "code",
   "execution_count": 36,
   "metadata": {
    "nbgrader": {
     "grade": false,
     "grade_id": "cell-2b18346684193918",
     "locked": false,
     "schema_version": 3,
     "solution": true
    }
   },
   "outputs": [],
   "source": [
    "def fibonacci3(n):\n",
    "    ### BEGIN SOLUTION\n",
    "    if n==1:\n",
    "        return 1\n",
    "    else:\n",
    "        return fibonacci_recpair(n)[1]\n",
    "    ### END SOLUTION"
   ]
  },
  {
   "cell_type": "code",
   "execution_count": 37,
   "metadata": {
    "nbgrader": {
     "grade": true,
     "grade_id": "cell-e258528bc9ebe868",
     "locked": true,
     "points": 2,
     "schema_version": 3,
     "solution": false
    }
   },
   "outputs": [
    {
     "name": "stdout",
     "output_type": "stream",
     "text": [
      "Testing: typical cases\n",
      "fibonacci3(10) returned the correct output\n",
      "fibonacci3(35) returned the correct output\n",
      "\n",
      "Testing: edge cases\n",
      "fibonacci3(2) returned the correct output\n",
      "fibonacci3(1) returned the correct output\n",
      "\n",
      "Question 4e: 2 out of 2\n"
     ]
    },
    {
     "data": {
      "text/plain": "2"
     },
     "execution_count": 37,
     "metadata": {},
     "output_type": "execute_result"
    }
   ],
   "source": [
    "# 2 Marks\n",
    "# Do not try to delete this cell\n",
    "# Run this cell for grading\n",
    "_globals = globals()\n",
    "question4e(_globals)"
   ]
  },
  {
   "cell_type": "markdown",
   "metadata": {
    "nbgrader": {
     "grade": false,
     "grade_id": "cell-2c23420508ee7382",
     "locked": true,
     "schema_version": 3,
     "solution": false,
     "task": false
    }
   },
   "source": [
    "The \"inner-and-outer\" trick is one way of dealing with the problem of slow execution time; another is the use of default values. \n",
    "\n",
    "(f) Write and test a function, `fibonacci4`, which has the optional keyword-only argument `return_pair`, with default value `False`. If `return_pair` is set to `True`, it should behave in the same way as `fibonacci_recpair`; if it's set to `False`, it should return the $n$th Fibonacci number. There should be no inner/outer structure; your function should call itself."
   ]
  },
  {
   "cell_type": "code",
   "execution_count": 38,
   "metadata": {
    "nbgrader": {
     "grade": false,
     "grade_id": "cell-ee6fc54b7a866f6c",
     "locked": false,
     "schema_version": 3,
     "solution": true,
     "task": false
    }
   },
   "outputs": [],
   "source": [
    "def fibonacci4(n,*,return_pair=False):\n",
    "    ### BEGIN SOLUTION\n",
    "    if n==1:\n",
    "        return 1\n",
    "    if return_pair:\n",
    "        if n==2:\n",
    "            return (1,1)\n",
    "        else:\n",
    "            previous = fibonacci4(n-1,return_pair=True)\n",
    "            return (previous[1],previous[0]+previous[1])\n",
    "    else:\n",
    "        return fibonacci4(n,return_pair=True)[1]\n",
    "    ### END SOLUTION"
   ]
  },
  {
   "cell_type": "code",
   "execution_count": 39,
   "metadata": {
    "nbgrader": {
     "grade": true,
     "grade_id": "cell-f7c893862f5146fe",
     "locked": true,
     "points": 4,
     "schema_version": 3,
     "solution": false,
     "task": false
    }
   },
   "outputs": [
    {
     "name": "stdout",
     "output_type": "stream",
     "text": [
      "Testing: typical case, pair\n",
      "fibonacci4(10,return_pair=True) returned the correct output\n",
      "\n",
      "Testing: edge case,pair\n",
      "fibonacci4(2,return_pair=True) returned the correct output\n",
      "Testing: typical cases,single value\n",
      "fibonacci4(10) returned the correct output\n",
      "fibonacci4(35) returned the correct output\n",
      "\n",
      "Testing: edge cases, single value\n",
      "fibonacci4(2) returned the correct output\n",
      "fibonacci4(1) returned the correct output\n",
      "\n",
      "Question 4f: 4 out of 4\n"
     ]
    },
    {
     "data": {
      "text/plain": "4"
     },
     "execution_count": 39,
     "metadata": {},
     "output_type": "execute_result"
    }
   ],
   "source": [
    "# 4 Marks\n",
    "# Do not try to delete this cell\n",
    "# Run this cell for grading\n",
    "_globals = globals()\n",
    "question4f(_globals)"
   ]
  },
  {
   "cell_type": "markdown",
   "metadata": {
    "nbgrader": {
     "grade": false,
     "grade_id": "cell-a73e4c38efd4ec23",
     "locked": true,
     "schema_version": 3,
     "solution": false,
     "task": false
    }
   },
   "source": [
    "(g) A third way to deal with the explosion of execution time in recursion is by using <b>caching</b>: storing values of the function as you go along so they don't need to be recalculated.\n",
    "\n",
    "Copy and paste the code for `fibonacci2`, but this time place the following two lines immediately before it:\n",
    "```\n",
    "from functools import cache\n",
    "@cache\n",
    "```\n",
    "(The second of these two lines, with the `@` character, is an example of what we call <b>decoration</b>; more about that when we look at object-oriented programming next term).\n",
    "\n",
    "Test `fibonacci2` under these conditions, including for reasonably big values of $n$."
   ]
  },
  {
   "cell_type": "code",
   "execution_count": 40,
   "metadata": {
    "nbgrader": {
     "grade": false,
     "grade_id": "cell-f2f88b45178a8a63",
     "locked": false,
     "schema_version": 3,
     "solution": true,
     "task": false
    }
   },
   "outputs": [],
   "source": [
    "from functools import cache\n",
    "@cache\n",
    "def fibonacci2(n):\n",
    "    if n==1 or n==2:\n",
    "        return 1\n",
    "    else:\n",
    "        return fibonacci2(n-1) + fibonacci2(n-2)"
   ]
  },
  {
   "cell_type": "code",
   "execution_count": 41,
   "metadata": {
    "nbgrader": {
     "grade": true,
     "grade_id": "cell-4115a5039352bf19",
     "locked": true,
     "points": 2,
     "schema_version": 3,
     "solution": false,
     "task": false
    }
   },
   "outputs": [
    {
     "name": "stdout",
     "output_type": "stream",
     "text": [
      "Testing: typical cases\n",
      "fibonacci2(10) returned the correct output\n",
      "fibonacci2(35) returned the correct output\n",
      "\n",
      "Testing: edge cases\n",
      "fibonacci2(2) returned the correct output\n",
      "fibonacci2(1) returned the correct output\n",
      "\n",
      "Question 4g: 2 out of 2\n"
     ]
    },
    {
     "data": {
      "text/plain": "2"
     },
     "execution_count": 41,
     "metadata": {},
     "output_type": "execute_result"
    }
   ],
   "source": [
    "# 2 Marks\n",
    "# Do not try to delete this cell\n",
    "# Run this cell for grading\n",
    "_globals = globals()\n",
    "question4g(_globals)"
   ]
  },
  {
   "cell_type": "markdown",
   "metadata": {
    "nbgrader": {
     "grade": false,
     "grade_id": "cell-0eddc693d578232b",
     "locked": true,
     "schema_version": 3,
     "solution": false
    }
   },
   "source": [
    "(h) Test your code from parts (e), (f) and (g) on $n=35$, and perhaps on higher values, and then choose one of the following:\n",
    "\n",
    "1. Recursion can throw up problems with execution time when a function calls itself more than once; these problems can't generally be solved.\n",
    "2. Recursion can throw up problems with execution time when a function calls itself more than once, but it can be possible to find a work-around using inner and outer functions, default values or caching.\n",
    "3. Recursion doesn't generally throw up problems with execution time at all."
   ]
  },
  {
   "cell_type": "code",
   "execution_count": 42,
   "metadata": {
    "nbgrader": {
     "grade": false,
     "grade_id": "cell-0ce7f31ea1a61fcb",
     "locked": false,
     "schema_version": 3,
     "solution": true
    }
   },
   "outputs": [],
   "source": [
    "### BEGIN SOLUTION\n",
    "question4h_answer = 2\n",
    "### END SOLUTION"
   ]
  },
  {
   "cell_type": "code",
   "execution_count": 43,
   "metadata": {
    "nbgrader": {
     "grade": true,
     "grade_id": "cell-b0e5af91705dd496",
     "locked": true,
     "points": 1,
     "schema_version": 3,
     "solution": false
    }
   },
   "outputs": [
    {
     "name": "stdout",
     "output_type": "stream",
     "text": [
      "test case passed!\n"
     ]
    }
   ],
   "source": [
    "# 1 Mark\n",
    "assert(question4h_answer == question4_h())\n",
    "print('test case passed!')"
   ]
  },
  {
   "cell_type": "markdown",
   "metadata": {
    "nbgrader": {
     "grade": false,
     "grade_id": "cell-de6bcc529800b449",
     "locked": true,
     "schema_version": 3,
     "solution": false
    }
   },
   "source": [
    "(j) Write and test a recursive implementation of your aliquot chain function, <code>aliquot_chain2</code>, which should terminate at the first occurrence of a number that has occurred before. You're likely to need your <code>factor_sum</code> function again.\n",
    "\n",
    "Do this by writing, as with part (e), a recursive \"inner\" function and an \"outer\" function that simply calls it. In this case, the \"inner\" function would need to take as its argument not a single value but a list of values; in this way, it has access to information concerning what numbers have already occurred."
   ]
  },
  {
   "cell_type": "code",
   "execution_count": 44,
   "metadata": {
    "nbgrader": {
     "grade": false,
     "grade_id": "cell-717274c920b3892e",
     "locked": false,
     "schema_version": 3,
     "solution": true
    }
   },
   "outputs": [],
   "source": [
    "def factor_sum(a):\n",
    "    ### BEGIN SOLUTION\n",
    "    from math import floor, sqrt\n",
    "    fsum = 0\n",
    "    sqrta = floor(sqrt(a))\n",
    "    \n",
    "    for r in range(1,sqrta+1):\n",
    "        if a%r == 0:\n",
    "            fsum += r + a//r\n",
    "            \n",
    "    # adjust for perfect squares\n",
    "    if sqrta ** 2 == a:\n",
    "        fsum -= sqrta\n",
    "    return fsum\n",
    "    ### END SOLUTION\n",
    "\n",
    "def aliquot_chain_inner(list_so_far):\n",
    "    ### BEGIN SOLUTION\n",
    "    # last in list so far\n",
    "    last_a = list_so_far[-1]\n",
    "    # base case: number has occurred before\n",
    "    if last_a in list_so_far[0:-1]:\n",
    "        return list_so_far\n",
    "    # recursion step\n",
    "    else:\n",
    "        next_a = factor_sum(last_a) - last_a\n",
    "        return aliquot_chain_inner(list_so_far + [next_a])\n",
    "    ### END SOLUTION\n",
    "\n",
    "def aliquot_chain2(a):\n",
    "    ### BEGIN SOLUTION\n",
    "    return aliquot_chain_inner([a])\n",
    "    ### END SOLUTION"
   ]
  },
  {
   "cell_type": "code",
   "execution_count": 45,
   "metadata": {
    "nbgrader": {
     "grade": true,
     "grade_id": "cell-58522f35705ee5d9",
     "locked": true,
     "points": 4,
     "schema_version": 3,
     "solution": false
    }
   },
   "outputs": [
    {
     "name": "stdout",
     "output_type": "stream",
     "text": [
      "Testing: typical case\n",
      "aliquot_chain_inner([282,294,390]) returned the correct output\n",
      "aliquot_chain2(282) returned the correct output\n",
      "\n",
      "Testing: edge case\n",
      "aliquot_chain_inner([0]) returned the correct output\n",
      "aliquot_chain2(0) returned the correct output\n",
      "\n",
      "Testing: perfect number\n",
      "aliquot_chain_inner([28]) returned the correct output\n",
      "aliquot_chain2(28) returned the correct output\n",
      "\n",
      "Testing: amicable pair\n",
      "aliquot_chain_inner([284,220]) returned the correct output\n",
      "aliquot_chain2(284) returned the correct output\n",
      "\n",
      "Question 4j: 4 out of 4\n"
     ]
    },
    {
     "data": {
      "text/plain": "4"
     },
     "execution_count": 45,
     "metadata": {},
     "output_type": "execute_result"
    }
   ],
   "source": [
    "# 4 Marks\n",
    "# Do not try to delete this cell\n",
    "# Run this cell for grading\n",
    "_globals = globals()\n",
    "question4j(_globals)"
   ]
  },
  {
   "cell_type": "markdown",
   "metadata": {
    "nbgrader": {
     "grade": false,
     "grade_id": "cell-1164160e5af0ff5e",
     "locked": true,
     "schema_version": 3,
     "solution": false,
     "task": false
    }
   },
   "source": [
    "(k) Write and test a recursive implementation of your aliquot chain function, <code>aliquot_chain3</code>, which should terminate at the first occurrence of a number that has occurred before. You're likely to need your <code>factor_sum</code> function again.\n",
    "\n",
    "Do this by writing, as with part (f), a single function with an optional keyword-only argument. In this case, it should be called `list_so_far`, and should have default value `[]`."
   ]
  },
  {
   "cell_type": "code",
   "execution_count": 46,
   "metadata": {
    "nbgrader": {
     "grade": false,
     "grade_id": "cell-f0ab0704e8399efd",
     "locked": false,
     "schema_version": 3,
     "solution": true,
     "task": false
    }
   },
   "outputs": [],
   "source": [
    "def factor_sum(a):\n",
    "    ### BEGIN SOLUTION\n",
    "    from math import floor, sqrt\n",
    "    fsum = 0\n",
    "    sqrta = floor(sqrt(a))\n",
    "    \n",
    "    for r in range(1,sqrta+1):\n",
    "        if a%r == 0:\n",
    "            fsum += r + a//r\n",
    "            \n",
    "    # adjust for perfect squares\n",
    "    if sqrta ** 2 == a:\n",
    "        fsum -= sqrta\n",
    "        \n",
    "    return fsum\n",
    "    ### END SOLUTION\n",
    "\n",
    "def aliquot_chain3(a,*,list_so_far=[]):\n",
    "    ### BEGIN SOLUTION\n",
    "    if a in list_so_far:\n",
    "        return list_so_far+[a]\n",
    "    else:\n",
    "        next_a = factor_sum(a) - a\n",
    "        return aliquot_chain3(next_a, list_so_far=list_so_far+[a])\n",
    "    ### END SOLUTION"
   ]
  },
  {
   "cell_type": "code",
   "execution_count": 47,
   "metadata": {
    "nbgrader": {
     "grade": true,
     "grade_id": "cell-e807deef12f5101f",
     "locked": true,
     "points": 4,
     "schema_version": 3,
     "solution": false,
     "task": false
    }
   },
   "outputs": [
    {
     "name": "stdout",
     "output_type": "stream",
     "text": [
      "Testing: typical case\n",
      "aliquot_chain3(390,list_so_far=[282,294]) returned the correct output\n",
      "aliquot_chain3(282) returned the correct output\n",
      "\n",
      "Testing: edge case\n",
      "aliquot_chain3(0,list_so_far=[0]) returned the correct output\n",
      "aliquot_chain3(0) returned the correct output\n",
      "\n",
      "Testing: perfect number\n",
      "aliquot_chain3(28,list_so_far=[]) returned the correct output\n",
      "aliquot_chain3(28) returned the correct output\n",
      "\n",
      "Testing: amicable pair\n",
      "aliquot_chain3(220,list_so_far=[284]) returned the correct output\n",
      "aliquot_chain3(284) returned the correct output\n",
      "\n",
      "Question 4k: 4 out of 4\n"
     ]
    },
    {
     "data": {
      "text/plain": "4"
     },
     "execution_count": 47,
     "metadata": {},
     "output_type": "execute_result"
    }
   ],
   "source": [
    "# 4 Marks\n",
    "# Do not try to delete this cell\n",
    "# Run this cell for grading\n",
    "_globals = globals()\n",
    "question4k(_globals)"
   ]
  },
  {
   "cell_type": "markdown",
   "metadata": {
    "nbgrader": {
     "grade": false,
     "grade_id": "cell-15d0b71249bf041d",
     "locked": true,
     "schema_version": 3,
     "solution": false,
     "task": false
    }
   },
   "source": [
    "## Question 5 (Bonus Question)\n",
    "\n",
    "The prime 41, can be written as the sum of six consecutive primes:\n",
    "$$\n",
    "41 = 2 + 3 + 5 + 7 + 11 + 13\n",
    "$$\n",
    "This is the longest sum of consecutive primes that adds to a prime below one hundred. The longest list of consecutive primes below one thousand that adds to a prime contains 21 terms and its sum is 953 (unlike the above example, it doesn't begin with 2).\n",
    "\n",
    "Write a function which takes an integer `n` and finds the longest chain of consecutive primes whose sum is a prime less than or equal to `n`, and returns (i) the value of this sum and (ii) the length of this chain of primes. For example, if `n = 100`, then the function should return `(41, 6)`.\n",
    "\n",
    "Sometimes, there will be more than one list of maximum length whose sum is prime; in those circumstances, your code should ideally return the largest of these prime sums (though the autograder will be forgiving if it doesn't!)\n",
    "\n",
    "**Hint:** Use the sieving method we developed for finding primes. For maximum execution speed (e.g. to try to pass the final, most challenging time test), see if you can develop a numpy version. It is possible, on Phil's now fairly aged laptop, to sieve so quickly that the last test is passed in under half a second!\n",
    "\n",
    "**Note:** The time limits for the varying sized inputs."
   ]
  },
  {
   "cell_type": "code",
   "execution_count": 48,
   "metadata": {
    "nbgrader": {
     "grade": false,
     "grade_id": "cell-746a820ef58a23b4",
     "locked": false,
     "schema_version": 3,
     "solution": true,
     "task": false
    }
   },
   "outputs": [],
   "source": [
    "import numpy as np\n",
    "def prime_chain(n):    \n",
    "    \"\"\"\n",
    "    For a given n, seeks the longest list of consecutive primes whose sum \n",
    "    is a prime less than or equal to n, returning the length of the list\n",
    "    and the value of the sum\n",
    "    \"\"\"\n",
    "    ### BEGIN SOLUTION\n",
    "    # calculate primes less than or equal to n\n",
    "    prime_list = primes(n)\n",
    "    nprimes = len(prime_list)\n",
    "    \n",
    "    # initialize for upper bound calculation\n",
    "    tot = 0\n",
    "    counter = 0\n",
    "    \n",
    "    # upper bound calculation: find length of longest chain beginning with 2\n",
    "    # whose sum is less than or equal to n\n",
    "    while tot <= n:\n",
    "        tot += prime_list[counter]\n",
    "        counter += 1\n",
    "    length_upper_bound = counter - 1\n",
    "    \n",
    "    # largest possible total (before testing for primality)\n",
    "    start_tot = tot - prime_list[counter-1]\n",
    "    \n",
    "    # loop backwards over chain lengths, starting with the upper bound\n",
    "    for chain_length in range(length_upper_bound,0,-1):\n",
    "        # initialize total\n",
    "        tot = start_tot\n",
    "        # loop backwards over all possible starting values\n",
    "        for start in range(length_upper_bound-chain_length,-1,-1):\n",
    "            # if it's in our list of primes, return it and the corresponding chain length\n",
    "            if tot in prime_list:\n",
    "                return(tot, chain_length)\n",
    "            # adjust value of tot, dropping the end value and adding the previous\n",
    "            tot -= prime_list[chain_length+start-1]\n",
    "            tot += prime_list[start-1]\n",
    "        # adjust starting total, removing first value\n",
    "        start_tot -= prime_list[length_upper_bound-chain_length]\n",
    "    \n",
    "\n",
    "def primes(n):\n",
    "    \"\"\"\n",
    "    Uses the Sieve of Eratosthenes to return a list of the primes\n",
    "    less than or equal to n\n",
    "    \"\"\"\n",
    "    \n",
    "    # initialize: logical array of True\n",
    "    prime_position_array = np.ones(n+1,dtype=bool)\n",
    "    \n",
    "    # values 0 and 1 are False\n",
    "    prime_position_array[0:2] = False\n",
    "    \n",
    "    # iterate up to square root\n",
    "    for i in range(2,int(np.ceil(np.sqrt(n+1)))+1):\n",
    "        # if position i is labelled True (the number in this position is prime)...\n",
    "        if prime_position_array[i]:\n",
    "            # ... label positions i**2, i**2+i, i**2+2i etc as False (\"graying out\")\n",
    "            prime_position_array[i*i:n+1:i] = False\n",
    "     \n",
    "    # uncomment the line below to print out the logical array that we end up with\n",
    "    #print(prime_position_array)\n",
    "    \n",
    "    # return numbers corresponding to the value True\n",
    "    #return np.arange(n+1)[prime_position_array]\n",
    "    return np.where(prime_position_array)[0]\n",
    "\n",
    "### END SOLUTION"
   ]
  },
  {
   "cell_type": "code",
   "execution_count": 49,
   "metadata": {
    "nbgrader": {
     "grade": true,
     "grade_id": "cell-677337a3ba85db4b",
     "locked": true,
     "points": 1,
     "schema_version": 3,
     "solution": false,
     "task": false
    }
   },
   "outputs": [
    {
     "name": "stdout",
     "output_type": "stream",
     "text": [
      "All Tests Passed!!!\n"
     ]
    }
   ],
   "source": [
    "# Run this test cell to check your code\n",
    "# Do not delete this cell\n",
    "# unit test\n",
    "# 1 Mark\n",
    "\n",
    "assert(41 == prime_chain(100)[0])\n",
    "assert(6 == prime_chain(100)[1])\n",
    "print('All Tests Passed!!!')\n"
   ]
  },
  {
   "cell_type": "code",
   "execution_count": 50,
   "metadata": {
    "nbgrader": {
     "grade": true,
     "grade_id": "cell-809ccc45c2022063",
     "locked": true,
     "points": 1,
     "schema_version": 3,
     "solution": false,
     "task": false
    }
   },
   "outputs": [
    {
     "name": "stdout",
     "output_type": "stream",
     "text": [
      "All Tests Passed!!!\n"
     ]
    }
   ],
   "source": [
    "# Run this test cell to check your code\n",
    "# Do not delete this cell\n",
    "# small input\n",
    "# 1 Marks\n",
    "\n",
    "assert(953 == prime_chain(1000)[0])\n",
    "assert(21 == prime_chain(1000)[1])\n",
    "print('All Tests Passed!!!')"
   ]
  },
  {
   "cell_type": "code",
   "execution_count": 51,
   "metadata": {
    "nbgrader": {
     "grade": true,
     "grade_id": "cell-18ec81e49e89b4ec",
     "locked": true,
     "points": 1,
     "schema_version": 3,
     "solution": false,
     "task": false
    }
   },
   "outputs": [
    {
     "name": "stdout",
     "output_type": "stream",
     "text": [
      "All Tests Passed!!!\n"
     ]
    }
   ],
   "source": [
    "# Run this test cell to check your code\n",
    "# Do not delete this cell\n",
    "# medium input\n",
    "#--------------------------\n",
    "# 15 second time limit\n",
    "#--------------------------\n",
    "# 1 Mark\n",
    "import time\n",
    "start      = time.time()\n",
    "time_limit = 15\n",
    "\n",
    "assert((9521, 65) == prime_chain(10000))\n",
    "if abs(time.time() - start) < time_limit:\n",
    "    print('All Tests Passed!!!')\n",
    "else:\n",
    "    raise AssertionError('Program Too Slow!!!')\n",
    " "
   ]
  },
  {
   "cell_type": "code",
   "execution_count": 52,
   "metadata": {
    "nbgrader": {
     "grade": true,
     "grade_id": "cell-d3223e3d75e6b1b6",
     "locked": true,
     "points": 1,
     "schema_version": 3,
     "solution": false,
     "task": false
    }
   },
   "outputs": [
    {
     "name": "stdout",
     "output_type": "stream",
     "text": [
      "All Tests Passed!!!\n"
     ]
    }
   ],
   "source": [
    "# Run this test cell to check your code\n",
    "# Do not delete this cell\n",
    "# large inputs\n",
    "#--------------------------\n",
    "# 30 second time limit\n",
    "#--------------------------\n",
    "# 1 Mark\n",
    "\n",
    "start      = time.time()\n",
    "time_limit = 30\n",
    "\n",
    "assert((92951, 183) == prime_chain(100000))\n",
    "if abs(time.time() - start) < time_limit:\n",
    "    print('All Tests Passed!!!')\n",
    "else:\n",
    "    raise AssertionError('Program Too Slow!!!')\n"
   ]
  },
  {
   "cell_type": "code",
   "execution_count": 53,
   "metadata": {
    "nbgrader": {
     "grade": true,
     "grade_id": "cell-5257d126ea8742c1",
     "locked": true,
     "points": 1,
     "schema_version": 3,
     "solution": false,
     "task": false
    }
   },
   "outputs": [
    {
     "name": "stdout",
     "output_type": "stream",
     "text": [
      "All Tests Passed!!!\n"
     ]
    }
   ],
   "source": [
    "# Run this test cell to check your code\n",
    "# Do not delete this cell\n",
    "# large inputs\n",
    "#--------------------------\n",
    "# 60 second time limit\n",
    "#--------------------------\n",
    "# 1 Mark\n",
    "\n",
    "start      = time.time()\n",
    "time_limit = 60\n",
    "\n",
    "assert((997651, 543) == prime_chain(1000000))\n",
    "if abs(time.time() - start) < time_limit:\n",
    "    print('All Tests Passed!!!')\n",
    "else:\n",
    "    raise AssertionError('Program Too Slow!!!')\n"
   ]
  },
  {
   "cell_type": "code",
   "execution_count": 54,
   "metadata": {
    "nbgrader": {
     "grade": true,
     "grade_id": "cell-41ef14b1d6c0a03e",
     "locked": true,
     "points": 1,
     "schema_version": 3,
     "solution": false,
     "task": false
    }
   },
   "outputs": [
    {
     "name": "stdout",
     "output_type": "stream",
     "text": [
      "All Tests Passed!!!\n"
     ]
    }
   ],
   "source": [
    "# Run this test cell to check your code\n",
    "# Do not delete this cell\n",
    "#--------------------------\n",
    "# 60 second time limit\n",
    "#--------------------------\n",
    "# huge inputs\n",
    "# 2 Marks\n",
    "\n",
    "start      = time.time()\n",
    "time_limit = 60\n",
    "pc = prime_chain(10000000) \n",
    "assert((9951191, 1587) == pc or (9964597, 1587) == pc)\n",
    "if abs(time.time() - start) < time_limit:\n",
    "    print('All Tests Passed!!!')\n",
    "else:\n",
    "    raise AssertionError('Program Too Slow!!!')\n"
   ]
  },
  {
   "cell_type": "code",
   "execution_count": 54,
   "metadata": {},
   "outputs": [],
   "source": []
  }
 ],
 "metadata": {
  "celltoolbar": "Create Assignment",
  "kernelspec": {
   "display_name": "Python 3 (ipykernel)",
   "language": "python",
   "name": "python3"
  },
  "language_info": {
   "codemirror_mode": {
    "name": "ipython",
    "version": 3
   },
   "file_extension": ".py",
   "mimetype": "text/x-python",
   "name": "python",
   "nbconvert_exporter": "python",
   "pygments_lexer": "ipython3",
   "version": "3.11.4"
  }
 },
 "nbformat": 4,
 "nbformat_minor": 4
}
