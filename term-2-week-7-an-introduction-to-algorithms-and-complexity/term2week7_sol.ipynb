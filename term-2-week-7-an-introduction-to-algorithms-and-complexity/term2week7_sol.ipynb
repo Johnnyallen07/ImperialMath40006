{
 "cells": [
  {
   "cell_type": "code",
   "execution_count": 1,
   "id": "9a2bae10",
   "metadata": {},
   "outputs": [
    {
     "name": "stdout",
     "output_type": "stream",
     "text": [
      "Autograder loaded successfully!\n",
      "Remember to always restart and run all from the Kernel menu before submitting!\n"
     ]
    }
   ],
   "source": [
    "from autograder_term2week7 import *\n",
    "\n",
    "_globals = globals()\n",
    "from copy import copy\n",
    "import matplotlib.pyplot as plt\n",
    "%matplotlib inline"
   ]
  },
  {
   "cell_type": "markdown",
   "id": "4c694582",
   "metadata": {
    "deletable": false,
    "editable": false,
    "nbgrader": {
     "cell_type": "markdown",
     "checksum": "5690351842c4e6a8ec0f91c4b22f1b9a",
     "grade": false,
     "grade_id": "cell-627f2ce548e7c535",
     "locked": true,
     "schema_version": 3,
     "solution": false,
     "task": false
    }
   },
   "source": [
    "# <center> Introduction to Mathematical Computing </center>\n",
    "### <center>Phil Ramsden, Boumediene Hamzi, Sam Brzezicki, Matt Woolway</center>\n",
    "\n",
    "# <center> Worksheet 11: An Introduction to Algorithms and Complexity</center>\n",
    "\n",
    "**NOTE:** When answering a question, remember to remove the `raise NotImplementedError()` line."
   ]
  },
  {
   "cell_type": "markdown",
   "id": "f936bd75",
   "metadata": {
    "deletable": false,
    "editable": false,
    "nbgrader": {
     "cell_type": "markdown",
     "checksum": "ed1dfa6e018b921680ee5efc4d1c09e9",
     "grade": false,
     "grade_id": "cell-da2b26434377de37",
     "locked": true,
     "schema_version": 3,
     "solution": false,
     "task": false
    }
   },
   "source": [
    "This worksheet is all about different ways of sorting data. Often, we will be using the reference data list"
   ]
  },
  {
   "cell_type": "code",
   "execution_count": 2,
   "id": "08b674bc",
   "metadata": {
    "deletable": false,
    "editable": false,
    "nbgrader": {
     "cell_type": "code",
     "checksum": "01767a216cc1f3f8410949600c74cb33",
     "grade": false,
     "grade_id": "cell-356d6b612b68d527",
     "locked": true,
     "schema_version": 3,
     "solution": false,
     "task": false
    }
   },
   "outputs": [],
   "source": [
    "masterList = [3, 34, 12, 22, 27, 17, 31, 29, 40, 24, 21, 19, 7, 18, 26, 5]"
   ]
  },
  {
   "cell_type": "markdown",
   "id": "bbe3f794",
   "metadata": {
    "deletable": false,
    "editable": false,
    "nbgrader": {
     "cell_type": "markdown",
     "checksum": "0b87c03ba85010e941e3f442d98d0ad7",
     "grade": false,
     "grade_id": "cell-8363bbcbafd27416",
     "locked": true,
     "schema_version": 3,
     "solution": false,
     "task": false
    }
   },
   "source": [
    "of length 16.\n",
    "\n",
    "We'll be measuring <b>complexity</b> by counting, for each algorithm, the number of <b>comparisons between data items</b>. This is an imperfect measure, because sorting algorithms also include other things, such as moving data around! But the details of that can be language-dependent, whereas the number of comparisons is what it is, and is independent of language."
   ]
  },
  {
   "cell_type": "markdown",
   "id": "753c2a32",
   "metadata": {
    "deletable": false,
    "editable": false,
    "nbgrader": {
     "cell_type": "markdown",
     "checksum": "d0d779cee1cb2708c8d4bf7328593e5e",
     "grade": false,
     "grade_id": "cell-230c95d0a9454437",
     "locked": true,
     "schema_version": 3,
     "solution": false,
     "task": false
    }
   },
   "source": [
    "## Question 0: don't miss this bit!\n",
    "\n",
    "In the file called `my_username.txt`, type your <b>short-form College user name</b> (this will usually be one or more letters followed by three or more figures, such as qk4019). Don't use quote marks. Then save the file."
   ]
  },
  {
   "cell_type": "code",
   "execution_count": 3,
   "id": "9b751db4",
   "metadata": {
    "deletable": false,
    "editable": false,
    "nbgrader": {
     "cell_type": "code",
     "checksum": "1c7cc336d3190cadc9676be986864aab",
     "grade": true,
     "grade_id": "cell-506f15a8841d4f5c",
     "locked": true,
     "points": 5,
     "schema_version": 3,
     "solution": false,
     "task": false
    }
   },
   "outputs": [
    {
     "name": "stdout",
     "output_type": "stream",
     "text": [
      "You've changed the contents of the file; thank you!\n",
      "Your username has been recognised; thank you!\n",
      "\n",
      "5 out of 5 marks\n"
     ]
    },
    {
     "data": {
      "text/plain": "5"
     },
     "execution_count": 3,
     "metadata": {},
     "output_type": "execute_result"
    }
   ],
   "source": [
    "# 5 Marks\n",
    "# Do not try to delete this cell\n",
    "# Run this cell for grading of Question 0\n",
    "_globals = globals()\n",
    "question0(_globals)"
   ]
  },
  {
   "cell_type": "markdown",
   "id": "978138e6",
   "metadata": {
    "deletable": false,
    "editable": false,
    "nbgrader": {
     "cell_type": "markdown",
     "checksum": "27b074ef58ccc62f83dda2dd8e82042f",
     "grade": false,
     "grade_id": "cell-b1ee373382158447",
     "locked": true,
     "schema_version": 3,
     "solution": false,
     "task": false
    }
   },
   "source": [
    "## Question 1\n",
    "\n",
    "This question is about <b>bubble sort</b>, one of the simplest sorting algorithms of all. For a data list of length 16, bubble sort proceeds as follows:\n",
    "<ul>\n",
    "    <li>Compare items 0 and 1, and if necessary swap them. Then compare items 1 and 2, again swapping if necessary; then 2 and 3, and so on up to 14 and 15. You can now guarantee the maximum element is in the 15 position.</li>\n",
    "    <li>Compare items 0 and 1, and if necessary swap them. Then compare items 1 and 2, again swapping if necessary; then 2 and 3, and so on up to 13 and 14. You can now guarantee the maximum element is in the 14 position.</li>\n",
    "    <li>...</li>\n",
    "    <li>Compare items 0 and 1, and if necessary swap them. Then compare items 1 and 2, again swapping if necessary.</li>\n",
    "    <li>Compare items 0 and 1, and if necessary swap them.</li>\n",
    "</ul>\n",
    "\n",
    "Animations are available to view on Blackboard."
   ]
  },
  {
   "cell_type": "markdown",
   "id": "678bc3aa",
   "metadata": {
    "deletable": false,
    "editable": false,
    "nbgrader": {
     "cell_type": "markdown",
     "checksum": "d1399e8e93499192510522b90b07027a",
     "grade": false,
     "grade_id": "cell-e3249117b3ac43e1",
     "locked": true,
     "schema_version": 3,
     "solution": false,
     "task": false
    }
   },
   "source": [
    "### (i) \n",
    "\n",
    "Here is a listing of a simple bubble sort function."
   ]
  },
  {
   "cell_type": "code",
   "execution_count": 4,
   "id": "842c46a3",
   "metadata": {
    "deletable": false,
    "editable": false,
    "nbgrader": {
     "cell_type": "code",
     "checksum": "e7db511fd6af28f90a420ae870d45fb6",
     "grade": false,
     "grade_id": "cell-d35eba78357c07f8",
     "locked": true,
     "schema_version": 3,
     "solution": false,
     "task": false
    }
   },
   "outputs": [],
   "source": [
    "def bubble_sort_simple(data):\n",
    "    \"\"\"\n",
    "    Sorts data using the bubble sort algorithm, with no tracking\n",
    "    of orderedness\n",
    "    \"\"\"\n",
    "\n",
    "    ndata = len(data)\n",
    "\n",
    "    for end_index in range(ndata, 1, -1):\n",
    "\n",
    "        for comparison_index in range(0, end_index - 1):\n",
    "\n",
    "            if data[comparison_index] > data[comparison_index + 1]:\n",
    "                data[comparison_index], data[comparison_index + 1] = \\\n",
    "                    data[comparison_index + 1], data[comparison_index]"
   ]
  },
  {
   "cell_type": "markdown",
   "id": "b3ddc51b",
   "metadata": {
    "deletable": false,
    "editable": false,
    "nbgrader": {
     "cell_type": "markdown",
     "checksum": "38b6b0a984e5292c4e12f785b84ced7f",
     "grade": false,
     "grade_id": "cell-d17b7cb88614a1ac",
     "locked": true,
     "schema_version": 3,
     "solution": false,
     "task": false
    }
   },
   "source": [
    "The function sorts data <em>in place</em>: that is, it returns nothing, but has the side-effect of sorting the list given to it as its argument."
   ]
  },
  {
   "cell_type": "markdown",
   "id": "b189bfc0",
   "metadata": {
    "deletable": false,
    "editable": false,
    "nbgrader": {
     "cell_type": "markdown",
     "checksum": "c650b7e10d9dfa97820351573eb69fe4",
     "grade": false,
     "grade_id": "cell-a91609a91cd26541",
     "locked": true,
     "schema_version": 3,
     "solution": false,
     "task": false
    }
   },
   "source": [
    "(a) Use `copy`, imported above from the `copy` module, to create a copy of `masterList` called `data`. (We'll explore `copy` more systematically next week.)"
   ]
  },
  {
   "cell_type": "code",
   "execution_count": 5,
   "id": "bc52918f",
   "metadata": {
    "deletable": false,
    "nbgrader": {
     "cell_type": "code",
     "checksum": "54efa468cf2fec1837fe853587c0598b",
     "grade": false,
     "grade_id": "cell-7f9747d7b626e328",
     "locked": false,
     "schema_version": 3,
     "solution": true,
     "task": false
    }
   },
   "outputs": [
    {
     "name": "stdout",
     "output_type": "stream",
     "text": [
      "[3, 34, 12, 22, 27, 17, 31, 29, 40, 24, 21, 19, 7, 18, 26, 5]\n"
     ]
    }
   ],
   "source": [
    "# YOUR CODE HERE\n",
    "data = copy(masterList)\n",
    "print(data)"
   ]
  },
  {
   "cell_type": "code",
   "execution_count": 6,
   "id": "42493053",
   "metadata": {
    "deletable": false,
    "editable": false,
    "nbgrader": {
     "cell_type": "code",
     "checksum": "34e7caaee9efe6c25b55fb6da1c0c195",
     "grade": true,
     "grade_id": "cell-5897e6f73013494c",
     "locked": true,
     "points": 2,
     "schema_version": 3,
     "solution": false,
     "task": false
    }
   },
   "outputs": [
    {
     "name": "stdout",
     "output_type": "stream",
     "text": [
      "data consists of the correct list\n",
      "data is a separate object from masterList, which is correct\n",
      "2 out of 2\n"
     ]
    },
    {
     "data": {
      "text/plain": "2"
     },
     "execution_count": 6,
     "metadata": {},
     "output_type": "execute_result"
    }
   ],
   "source": [
    "# 2 Marks\n",
    "# Do not try to delete this cell\n",
    "# Run this cell for grading\n",
    "_globals = globals()\n",
    "question1ia(_globals)"
   ]
  },
  {
   "cell_type": "markdown",
   "id": "572d05de",
   "metadata": {
    "deletable": false,
    "editable": false,
    "nbgrader": {
     "cell_type": "markdown",
     "checksum": "cff7a6f36df5e7e7913ab489c2780fbd",
     "grade": false,
     "grade_id": "cell-b510277fd8442c87",
     "locked": true,
     "schema_version": 3,
     "solution": false,
     "task": false
    }
   },
   "source": [
    "(b) Test `bubble_sort_simple` by sorting `data`."
   ]
  },
  {
   "cell_type": "code",
   "execution_count": 7,
   "id": "e280ddf8",
   "metadata": {
    "deletable": false,
    "nbgrader": {
     "cell_type": "code",
     "checksum": "1ba30e1b2b9fb2b491a59d3c77e6b51e",
     "grade": false,
     "grade_id": "cell-d9492ddc080ee000",
     "locked": false,
     "schema_version": 3,
     "solution": true,
     "task": false
    }
   },
   "outputs": [
    {
     "name": "stdout",
     "output_type": "stream",
     "text": [
      "[3, 5, 7, 12, 17, 18, 19, 21, 22, 24, 26, 27, 29, 31, 34, 40]\n"
     ]
    }
   ],
   "source": [
    "# YOUR CODE HERE\n",
    "bubble_sort_simple(data)\n",
    "\n",
    "print(data)"
   ]
  },
  {
   "cell_type": "code",
   "execution_count": 8,
   "id": "e56d6b93",
   "metadata": {
    "deletable": false,
    "editable": false,
    "nbgrader": {
     "cell_type": "code",
     "checksum": "2424fbfdfbf77d72dae2b6b7be44a7f3",
     "grade": true,
     "grade_id": "cell-33a351855e2a8177",
     "locked": true,
     "points": 1,
     "schema_version": 3,
     "solution": false,
     "task": false
    }
   },
   "outputs": [
    {
     "name": "stdout",
     "output_type": "stream",
     "text": [
      "data has been sorted correctly\n",
      "Test passed!\n"
     ]
    },
    {
     "data": {
      "text/plain": "1"
     },
     "execution_count": 8,
     "metadata": {},
     "output_type": "execute_result"
    }
   ],
   "source": [
    "# 1 Mark\n",
    "# Do not try to delete this cell\n",
    "# Run this cell for grading\n",
    "_globals = globals()\n",
    "question1ib(_globals)"
   ]
  },
  {
   "cell_type": "markdown",
   "id": "5a432138",
   "metadata": {
    "deletable": false,
    "editable": false,
    "nbgrader": {
     "cell_type": "markdown",
     "checksum": "083898674c2f055bc108ecdaa5a1b179",
     "grade": false,
     "grade_id": "cell-596b463edec1ae30",
     "locked": true,
     "schema_version": 3,
     "solution": false,
     "task": false
    }
   },
   "source": [
    "Here is a listing of `bubble_sort_simple` to which a global variable called `comparison_count` has been added, which increments by 1 every time a comparison is made."
   ]
  },
  {
   "cell_type": "code",
   "execution_count": 9,
   "id": "be3337d3",
   "metadata": {
    "deletable": false,
    "editable": false,
    "nbgrader": {
     "cell_type": "code",
     "checksum": "4ea4429895e6d38f047a35b9b4e2efae",
     "grade": false,
     "grade_id": "cell-c3846241a472bac9",
     "locked": true,
     "schema_version": 3,
     "solution": false,
     "task": false
    }
   },
   "outputs": [],
   "source": [
    "def bubble_sort_simple(data):\n",
    "    \"\"\"\n",
    "    Sorts data using the bubble sort algorithm, with no tracking\n",
    "    of orderedness\n",
    "    \"\"\"\n",
    "\n",
    "    global comparison_count\n",
    "\n",
    "    ndata = len(data)\n",
    "\n",
    "\n",
    "    for end_index in range(ndata, 1, -1):\n",
    "\n",
    "        for comparison_index in range(0, end_index - 1):\n",
    "\n",
    "            comparison_count += 1\n",
    "            if data[comparison_index] > data[comparison_index + 1]:\n",
    "                data[comparison_index], data[comparison_index + 1] = \\\n",
    "                    data[comparison_index + 1], data[comparison_index]"
   ]
  },
  {
   "cell_type": "markdown",
   "id": "ec82cf8c",
   "metadata": {
    "deletable": false,
    "editable": false,
    "nbgrader": {
     "cell_type": "markdown",
     "checksum": "9228eac5c0241236515a9d818e42e5ef",
     "grade": false,
     "grade_id": "cell-9cd71d5849df01e7",
     "locked": true,
     "schema_version": 3,
     "solution": false,
     "task": false
    }
   },
   "source": [
    "(c) Define `data` as a copy of `masterList` again. Then set `comparison_count` to 0, and run `bubble_sort_simple`. Finally, check the new value of `comparison_count`."
   ]
  },
  {
   "cell_type": "code",
   "execution_count": 10,
   "id": "cf4f6825",
   "metadata": {
    "deletable": false,
    "nbgrader": {
     "cell_type": "code",
     "checksum": "b0655790dfefa16bdf940094017e32e3",
     "grade": false,
     "grade_id": "cell-3f0ba9a511d2657a",
     "locked": false,
     "schema_version": 3,
     "solution": true,
     "task": false
    }
   },
   "outputs": [
    {
     "name": "stdout",
     "output_type": "stream",
     "text": [
      "[3, 5, 7, 12, 17, 18, 19, 21, 22, 24, 26, 27, 29, 31, 34, 40]\n",
      "120\n"
     ]
    }
   ],
   "source": [
    "# YOUR CODE HERE\n",
    "data = copy(masterList)\n",
    "comparison_count = 0\n",
    "bubble_sort_simple(data)\n",
    "\n",
    "print(data)\n",
    "print(comparison_count)"
   ]
  },
  {
   "cell_type": "code",
   "execution_count": 11,
   "id": "fd97a132",
   "metadata": {
    "deletable": false,
    "editable": false,
    "nbgrader": {
     "cell_type": "code",
     "checksum": "841b5ee86f14edc97a732f2afb8ff2fd",
     "grade": true,
     "grade_id": "cell-9745abfd9ac67e65",
     "locked": true,
     "points": 2,
     "schema_version": 3,
     "solution": false,
     "task": false
    }
   },
   "outputs": [
    {
     "name": "stdout",
     "output_type": "stream",
     "text": [
      "data has been sorted correctly\n",
      "comparison_count is correct\n",
      "2 out of 2\n"
     ]
    },
    {
     "data": {
      "text/plain": "2"
     },
     "execution_count": 11,
     "metadata": {},
     "output_type": "execute_result"
    }
   ],
   "source": [
    "# 2 Marks\n",
    "# Do not try to delete this cell\n",
    "# Run this cell for grading\n",
    "_globals = globals()\n",
    "question1ic(_globals)"
   ]
  },
  {
   "cell_type": "markdown",
   "id": "5c53a548",
   "metadata": {
    "deletable": false,
    "editable": false,
    "nbgrader": {
     "cell_type": "markdown",
     "checksum": "30ab3979cddabf553ce660fd42eca096",
     "grade": false,
     "grade_id": "cell-9e5ed87729b763ec",
     "locked": true,
     "schema_version": 3,
     "solution": false,
     "task": false
    }
   },
   "source": [
    "(d) Experiment with sorting other data sets of length 16. If the value of `comparison_count` starts at zero each time, what is its final value?\n",
    "\n",
    "<ol>\n",
    "    <li>With a data set of length 16, the final value of <code>comparison_count</code> is always exactly 120.</li>\n",
    "    <li>With a data set of length 16, the final value of <code>comparison_count</code> is always at least 120, and sometimes more than that.</li>\n",
    "    <li>With a data set of length 16, the final value of <code>comparison_count</code> is always at most 120, and sometimes less than that.</li>\n",
    "    <li>With a data set of length 16, the final value of <code>comparison_count</code> is sometimes less than 120, sometimes more than 120, and sometimes exactly 120.</li>\n",
    "</ol>"
   ]
  },
  {
   "cell_type": "code",
   "execution_count": 12,
   "id": "38c047e3",
   "metadata": {
    "deletable": false,
    "nbgrader": {
     "cell_type": "code",
     "checksum": "58609f0395b99538f4aaf79a1134827f",
     "grade": false,
     "grade_id": "cell-f8040985612b2374",
     "locked": false,
     "schema_version": 3,
     "solution": true,
     "task": false
    }
   },
   "outputs": [],
   "source": [
    "# YOUR CODE HERE\n",
    "\n",
    "\n",
    "q1id_answer = 1  # insert one of 1, 2, 3 or 4"
   ]
  },
  {
   "cell_type": "code",
   "execution_count": 13,
   "id": "95961eed",
   "metadata": {
    "deletable": false,
    "editable": false,
    "nbgrader": {
     "cell_type": "code",
     "checksum": "92f8690e134d4f569ac691a6b6e02a39",
     "grade": true,
     "grade_id": "cell-69343024e1dfbe39",
     "locked": true,
     "points": 1,
     "schema_version": 3,
     "solution": false,
     "task": false
    }
   },
   "outputs": [
    {
     "name": "stdout",
     "output_type": "stream",
     "text": [
      "test case passed!\n"
     ]
    }
   ],
   "source": [
    "# 1 Mark\n",
    "assert (q1id_answer == question1id())\n",
    "print('test case passed!')"
   ]
  },
  {
   "cell_type": "markdown",
   "id": "608817c3",
   "metadata": {
    "deletable": false,
    "editable": false,
    "nbgrader": {
     "cell_type": "markdown",
     "checksum": "b991152ff7b85e856817363f0aae2864",
     "grade": false,
     "grade_id": "cell-9289baa650c0a61d",
     "locked": true,
     "schema_version": 3,
     "solution": false,
     "task": false
    }
   },
   "source": [
    "(e) Experiment with data sets of different lengths.\n",
    "\n",
    "Then, in the form of lambda-expressions, state the maximum and minimum number of comparisons carried out by `bubble_sort_simple` when the data set is of length `n`. So, for example, if you think the maximum number of comparisons is $n^2+4$ and the minimum is $n$, you'd type\n",
    "```python\n",
    "bubble_sort_simple_max = lambda n: n**2+4\n",
    "bubble_sort_simple_min = lambda n: n\n",
    "```\n",
    "Try to make sure the output from each of your lambda-expressions is always an int."
   ]
  },
  {
   "cell_type": "code",
   "execution_count": 14,
   "id": "510d99d3",
   "metadata": {
    "deletable": false,
    "nbgrader": {
     "cell_type": "code",
     "checksum": "3f5e42071ba4d710829eda446f274363",
     "grade": false,
     "grade_id": "cell-4a32972f7163af8d",
     "locked": false,
     "schema_version": 3,
     "solution": true,
     "task": false
    }
   },
   "outputs": [
    {
     "name": "stdout",
     "output_type": "stream",
     "text": [
      "120.0\n",
      "120.0\n"
     ]
    }
   ],
   "source": [
    "# YOUR CODE HERE\n",
    "bubble_sort_simple_max = lambda n: n * (n - 1) / 2\n",
    "bubble_sort_simple_min = lambda n: n * (n - 1) / 2\n",
    "\n",
    "# quick test\n",
    "print(bubble_sort_simple_max(16))\n",
    "print(bubble_sort_simple_min(16))"
   ]
  },
  {
   "cell_type": "code",
   "execution_count": 15,
   "id": "7c6bdfaa",
   "metadata": {
    "deletable": false,
    "editable": false,
    "nbgrader": {
     "cell_type": "code",
     "checksum": "b1d76355f409e40678ab2fbbdd08c2e7",
     "grade": true,
     "grade_id": "cell-0f48fb8a641a5cec",
     "locked": true,
     "points": 2,
     "schema_version": 3,
     "solution": false,
     "task": false
    }
   },
   "outputs": [
    {
     "name": "stdout",
     "output_type": "stream",
     "text": [
      "The lambda-expression bubble_sort_simple_max seems to return the correct numbers\n",
      "The lambda-expression bubble_sort_simple_max seems to return ints\n",
      "The lambda-expression bubble_sort_simple_min seems to return the correct numbers\n",
      "The lambda-expression bubble_sort_simple_min seems to return ints\n",
      "2 out of 2\n"
     ]
    },
    {
     "data": {
      "text/plain": "2"
     },
     "execution_count": 15,
     "metadata": {},
     "output_type": "execute_result"
    }
   ],
   "source": [
    "# 2 Marks\n",
    "# Do not try to delete this cell\n",
    "# Run this cell for grading\n",
    "_globals = globals()\n",
    "question1ie(_globals)"
   ]
  },
  {
   "cell_type": "markdown",
   "id": "cc469bd0",
   "metadata": {
    "deletable": false,
    "editable": false,
    "nbgrader": {
     "cell_type": "markdown",
     "checksum": "596fb754c0b3a7532e3a5183e1c34b7d",
     "grade": false,
     "grade_id": "cell-5b70dc47fee88781",
     "locked": true,
     "schema_version": 3,
     "solution": false,
     "task": false
    }
   },
   "source": [
    "(f) Which of the following is true?\n",
    "\n",
    "<ol>\n",
    "    <li><code>bubble_sort_simple</code> is $O(n^2)$ and $\\Omega(n^2)$ and is therefore $\\Theta(n^2)$;</li>\n",
    "    <li><code>bubble_sort_simple</code> is $O(n^2)$ but not $\\Omega(n^2)$;</li>\n",
    "    <li><code>bubble_sort_simple</code> is $\\Omega(n^2)$ but not $O(n^2)$;</li>\n",
    "    <li><code>bubble_sort_simple</code> is neither $O(n^2)$ nor $\\Omega(n^2)$.</li>\n",
    "</ol>"
   ]
  },
  {
   "cell_type": "code",
   "execution_count": 16,
   "id": "9612dc87",
   "metadata": {
    "deletable": false,
    "nbgrader": {
     "cell_type": "code",
     "checksum": "5249df5e3cb0c72a28d9cb826ef0428c",
     "grade": false,
     "grade_id": "cell-08fd347e97ef866c",
     "locked": false,
     "schema_version": 3,
     "solution": true,
     "task": false
    }
   },
   "outputs": [],
   "source": [
    "# YOUR CODE HERE\n",
    "\n",
    "\n",
    "q1if_answer = 1"
   ]
  },
  {
   "cell_type": "code",
   "execution_count": 17,
   "id": "c687abff",
   "metadata": {
    "deletable": false,
    "editable": false,
    "nbgrader": {
     "cell_type": "code",
     "checksum": "650e4a27f3cfddd57609a53a20a0d343",
     "grade": true,
     "grade_id": "cell-382e7382c2787323",
     "locked": true,
     "points": 1,
     "schema_version": 3,
     "solution": false,
     "task": false
    }
   },
   "outputs": [
    {
     "name": "stdout",
     "output_type": "stream",
     "text": [
      "test case passed!\n"
     ]
    }
   ],
   "source": [
    "# 1 Mark\n",
    "assert (q1if_answer == question1if())\n",
    "print('test case passed!')"
   ]
  },
  {
   "cell_type": "markdown",
   "id": "7c597cbf",
   "metadata": {
    "deletable": false,
    "editable": false,
    "nbgrader": {
     "cell_type": "markdown",
     "checksum": "26b1fb92174250997406d3c804e9b030",
     "grade": false,
     "grade_id": "cell-7b704ca8a8998eea",
     "locked": true,
     "schema_version": 3,
     "solution": false,
     "task": false
    }
   },
   "source": [
    "### (ii)\n",
    "\n",
    "(a) Write a function called `bubble_sort_enhanced` that also sorts data in place using bubble sort, but with the following additional feature. \n",
    "\n",
    "On each pass through the data (that is, on each turn of the outer `for` loop), a record is kept of whether any swaps were necessary; if not, the data is regarded as sorted, and the process stops. (So if `data` were already sorted, only one pass would be necessary.)\n",
    "\n",
    "Make sure to give your function a global variable called `comparison_count` that goes up by 1 every time a comparison is made."
   ]
  },
  {
   "cell_type": "code",
   "execution_count": 18,
   "id": "42fdfea3",
   "metadata": {
    "deletable": false,
    "nbgrader": {
     "cell_type": "code",
     "checksum": "d5ebd5ce1284314071afd143c8e07e90",
     "grade": false,
     "grade_id": "cell-2296e52df6b80511",
     "locked": false,
     "schema_version": 3,
     "solution": true,
     "task": false
    }
   },
   "outputs": [],
   "source": [
    "def bubble_sort_enhanced(data):\n",
    "    '''FUCK'''\n",
    "    global comparison_count\n",
    "    n = len(data)\n",
    "    for i in range(n):\n",
    "        swapped = False\n",
    "        for j in range(0, n - i - 1):\n",
    "            comparison_count += 1\n",
    "            if data[j] > data[j + 1]:\n",
    "                data[j], data[j + 1] = data[j + 1], data[j]\n",
    "                swapped = True\n",
    "        if not swapped:\n",
    "            break\n"
   ]
  },
  {
   "cell_type": "code",
   "execution_count": 19,
   "id": "5d0267a3",
   "metadata": {
    "deletable": false,
    "editable": false,
    "nbgrader": {
     "cell_type": "code",
     "checksum": "6981691dd7a34c928287f85ee4985bf9",
     "grade": true,
     "grade_id": "cell-1d764dd6ddc55bd5",
     "locked": true,
     "points": 3,
     "schema_version": 3,
     "solution": false,
     "task": false
    }
   },
   "outputs": [
    {
     "name": "stdout",
     "output_type": "stream",
     "text": [
      "bubble_sort_enhanced seems to sort lists correctly\n",
      "Your function requires exactly the same number of comparisons as ours\n",
      "Your function seems to have a docstring\n",
      "3 out of 3\n"
     ]
    },
    {
     "data": {
      "text/plain": "3"
     },
     "execution_count": 19,
     "metadata": {},
     "output_type": "execute_result"
    }
   ],
   "source": [
    "# 3 Marks\n",
    "# Do not try to delete this cell\n",
    "# Run this cell for grading\n",
    "_globals = globals()\n",
    "question1iia(_globals)"
   ]
  },
  {
   "cell_type": "markdown",
   "id": "47bc3f68",
   "metadata": {
    "deletable": false,
    "editable": false,
    "nbgrader": {
     "cell_type": "markdown",
     "checksum": "9aaf4badbd2fd678c0b1565b232cef44",
     "grade": false,
     "grade_id": "cell-c7c049a909de9aef",
     "locked": true,
     "schema_version": 3,
     "solution": false,
     "task": false
    }
   },
   "source": [
    "(b) Test your function on a copy of `masterList`."
   ]
  },
  {
   "cell_type": "code",
   "execution_count": 76,
   "id": "0252dfed",
   "metadata": {
    "deletable": false,
    "nbgrader": {
     "cell_type": "code",
     "checksum": "56185d92822e4cc8b8501ac3248b9c3d",
     "grade": false,
     "grade_id": "cell-66a9f56a544610a1",
     "locked": false,
     "schema_version": 3,
     "solution": true,
     "task": false
    }
   },
   "outputs": [
    {
     "name": "stdout",
     "output_type": "stream",
     "text": [
      "[3, 5, 7, 12, 17, 18, 19, 21, 22, 24, 26, 27, 29, 31, 34, 40]\n",
      "120\n"
     ]
    }
   ],
   "source": [
    "# YOUR CODE HERE\n",
    "data = copy(masterList)\n",
    "comparison_count = 0\n",
    "bubble_sort_enhanced(data)\n",
    "print(data)\n",
    "print(comparison_count)"
   ]
  },
  {
   "cell_type": "code",
   "execution_count": 77,
   "id": "6e94b5fe",
   "metadata": {
    "deletable": false,
    "editable": false,
    "nbgrader": {
     "cell_type": "code",
     "checksum": "9999cd7904c267ab8dc4b1b75ef57aa3",
     "grade": true,
     "grade_id": "cell-78f4dc871de0fc7a",
     "locked": true,
     "points": 2,
     "schema_version": 3,
     "solution": false,
     "task": false
    }
   },
   "outputs": [
    {
     "name": "stdout",
     "output_type": "stream",
     "text": [
      "data has been sorted correctly\n",
      "Your function requires exactly the same number of comparisons as ours\n",
      "2 out of 2\n"
     ]
    },
    {
     "data": {
      "text/plain": "2"
     },
     "execution_count": 77,
     "metadata": {},
     "output_type": "execute_result"
    }
   ],
   "source": [
    "# 2 Marks\n",
    "# Do not try to delete this cell\n",
    "# Run this cell for grading\n",
    "_globals = globals()\n",
    "question1iib(_globals)"
   ]
  },
  {
   "cell_type": "markdown",
   "id": "fffb00f6",
   "metadata": {
    "deletable": false,
    "editable": false,
    "nbgrader": {
     "cell_type": "markdown",
     "checksum": "8c095a2c26c85ee4f3d9865ddca0a9d1",
     "grade": false,
     "grade_id": "cell-d4613a3594559eb8",
     "locked": true,
     "schema_version": 3,
     "solution": false,
     "task": false
    }
   },
   "source": [
    "(c) Experiment with your new function, using data sets of length 16. If the value of `comparison_count` starts at zero each time, what is its final value?\n",
    "\n",
    "<ol>\n",
    "    <li>With a data set of length 16, the final value of <code>comparison_count</code> is always exactly 120.</li>\n",
    "    <li>With a data set of length 16, the final value of <code>comparison_count</code> is always at least 120, and sometimes more than that.</li>\n",
    "    <li>With a data set of length 16, the final value of <code>comparison_count</code> is always at most 120, and sometimes less than that.</li>\n",
    "    <li>With a data set of length 16, the final value of <code>comparison_count</code> is sometimes less than 120, sometimes more than 120, and sometimes exactly 120.</li>\n",
    "</ol>"
   ]
  },
  {
   "cell_type": "code",
   "execution_count": 22,
   "id": "b17fdabc",
   "metadata": {
    "deletable": false,
    "nbgrader": {
     "cell_type": "code",
     "checksum": "b2f33c6aa1576218db4c3ceb340dc54f",
     "grade": false,
     "grade_id": "cell-e4e02775dd44384c",
     "locked": false,
     "schema_version": 3,
     "solution": true,
     "task": false
    }
   },
   "outputs": [],
   "source": [
    "q1iic_answer = 3"
   ]
  },
  {
   "cell_type": "code",
   "execution_count": 23,
   "id": "306887a6",
   "metadata": {
    "deletable": false,
    "editable": false,
    "nbgrader": {
     "cell_type": "code",
     "checksum": "50028e459b185a573bfc3d54a21d329e",
     "grade": true,
     "grade_id": "cell-3015963ad8f74893",
     "locked": true,
     "points": 1,
     "schema_version": 3,
     "solution": false,
     "task": false
    }
   },
   "outputs": [
    {
     "name": "stdout",
     "output_type": "stream",
     "text": [
      "test case passed!\n"
     ]
    }
   ],
   "source": [
    "# 1 Mark\n",
    "assert (q1iic_answer == question1iic())\n",
    "print('test case passed!')"
   ]
  },
  {
   "cell_type": "markdown",
   "id": "92c0e2a9",
   "metadata": {
    "deletable": false,
    "editable": false,
    "nbgrader": {
     "cell_type": "markdown",
     "checksum": "8093f5b04c49f4828e9f7bd28e6194aa",
     "grade": false,
     "grade_id": "cell-2e537324f71713c1",
     "locked": true,
     "schema_version": 3,
     "solution": false,
     "task": false
    }
   },
   "source": [
    "(d) Experiment with data sets of different lengths. Then, in the form of lambda-expressions, state the maximum and minimum number of comparisons carried out by `bubble_sort_enhanced` when the data set is of length `n`. So, for example, if you think the maximum number of comparisons is $n^2+4$ and the minimum is $n$, you'd type\n",
    "```python\n",
    "bubble_sort_enhanced_max = lambda n: n**2+4\n",
    "bubble_sort_enhanced_min = lambda n: n\n",
    "```"
   ]
  },
  {
   "cell_type": "code",
   "execution_count": 24,
   "id": "325dd41e",
   "metadata": {
    "deletable": false,
    "nbgrader": {
     "cell_type": "code",
     "checksum": "dcb9e6d0812e9570a5784cb01d460bf0",
     "grade": false,
     "grade_id": "cell-8393bed1a818446e",
     "locked": false,
     "schema_version": 3,
     "solution": true,
     "task": false
    }
   },
   "outputs": [
    {
     "name": "stdout",
     "output_type": "stream",
     "text": [
      "120.0\n",
      "15\n"
     ]
    }
   ],
   "source": [
    "bubble_sort_enhanced_max = lambda n: n * (n - 1) / 2\n",
    "bubble_sort_enhanced_min = lambda n: n - 1\n",
    "\n",
    "# quick test\n",
    "print(bubble_sort_enhanced_max(16))\n",
    "print(bubble_sort_enhanced_min(16))"
   ]
  },
  {
   "cell_type": "code",
   "execution_count": 25,
   "id": "15d55a9f",
   "metadata": {
    "deletable": false,
    "editable": false,
    "nbgrader": {
     "cell_type": "code",
     "checksum": "830818c40c304820a59eef5deef4b141",
     "grade": true,
     "grade_id": "cell-e34997ca4e968f1c",
     "locked": true,
     "points": 2,
     "schema_version": 3,
     "solution": false,
     "task": false
    }
   },
   "outputs": [
    {
     "name": "stdout",
     "output_type": "stream",
     "text": [
      "The lambda-expression bubble_sort_enhanced_max seems to return the correct numbers\n",
      "The lambda-expression bubble_sort_enhanced_max seems to return ints\n",
      "The lambda-expression bubble_sort_enhanced_min seems to return the correct numbers\n",
      "The lambda-expression bubble_sort_enhanced_min seems to return ints\n",
      "2 out of 2\n"
     ]
    },
    {
     "data": {
      "text/plain": "2"
     },
     "execution_count": 25,
     "metadata": {},
     "output_type": "execute_result"
    }
   ],
   "source": [
    "# 2 Marks\n",
    "# Do not try to delete this cell\n",
    "# Run this cell for grading\n",
    "_globals = globals()\n",
    "question1iid(_globals)"
   ]
  },
  {
   "cell_type": "markdown",
   "id": "8058583b",
   "metadata": {
    "deletable": false,
    "editable": false,
    "nbgrader": {
     "cell_type": "markdown",
     "checksum": "d497308fe7100315c20382bb6f1ac2ed",
     "grade": false,
     "grade_id": "cell-82d2c5e109b2bb25",
     "locked": true,
     "schema_version": 3,
     "solution": false,
     "task": false
    }
   },
   "source": [
    "(e) Which of the following is true?\n",
    "\n",
    "<ol>\n",
    "    <li><code>bubble_sort_enhanced</code> is $O(n^2)$ and $\\Omega(n^2)$ and is therefore $\\Theta(n^2)$;</li>\n",
    "    <li><code>bubble_sort_enhanced</code> is $O(n^2)$ but not $\\Omega(n^2)$;</li>\n",
    "    <li><code>bubble_sort_enhanced</code> is $\\Omega(n^2)$ but not $O(n^2)$;</li>\n",
    "    <li><code>bubble_sort_enhanced</code> is neither $O(n^2)$ nor $\\Omega(n^2)$.</li>\n",
    "</ol>"
   ]
  },
  {
   "cell_type": "code",
   "execution_count": 26,
   "id": "cebaf903",
   "metadata": {
    "deletable": false,
    "nbgrader": {
     "cell_type": "code",
     "checksum": "f3d3948bd7acf3b60eee0748003bb846",
     "grade": false,
     "grade_id": "cell-e3da7eed97a107a2",
     "locked": false,
     "schema_version": 3,
     "solution": true,
     "task": false
    }
   },
   "outputs": [],
   "source": [
    "q1iie_answer = 2"
   ]
  },
  {
   "cell_type": "code",
   "execution_count": 27,
   "id": "0168b19b",
   "metadata": {
    "deletable": false,
    "editable": false,
    "nbgrader": {
     "cell_type": "code",
     "checksum": "0ccf96f94e7c48fbed2dd1f870e92319",
     "grade": true,
     "grade_id": "cell-8345e676a61b091f",
     "locked": true,
     "points": 1,
     "schema_version": 3,
     "solution": false,
     "task": false
    }
   },
   "outputs": [
    {
     "name": "stdout",
     "output_type": "stream",
     "text": [
      "test case passed!\n"
     ]
    }
   ],
   "source": [
    "# 1 Mk\n",
    "assert (q1iie_answer == question1iie())\n",
    "print('test case passed!')"
   ]
  },
  {
   "cell_type": "markdown",
   "id": "53863095",
   "metadata": {
    "deletable": false,
    "editable": false,
    "nbgrader": {
     "cell_type": "markdown",
     "checksum": "f335b45bb94755e8a8f9cd7533d24226",
     "grade": false,
     "grade_id": "cell-b64867d10f67526b",
     "locked": true,
     "schema_version": 3,
     "solution": false,
     "task": false
    }
   },
   "source": [
    "## Question 2\n",
    "\n",
    "This question is about <b>insertion sort</b>, which proceeds as follows.\n",
    "\n",
    "At every stage, think of $a_0$ as the item in position 0, $a_1$ the item in position 1, and so on; the values of these $a$'s may change.\n",
    "\n",
    "<ul>\n",
    "    <li>Compare $a_1$ with $a_0$. If $a_1 \\ge a_0$, do nothing; the pass is finished. \n",
    "        \n",
    "Otherwise, insert $a_1$ in position $0$ and shift $a_0$ along to position 1. \n",
    "\n",
    "The list is now sorted from position 0 to position 1.</li>\n",
    "    <li>Compare $a_2$ with (the possibly new) $a_1$. If $a_2 \\ge a_1$, do nothing. Otherwise, compare $a_2$ with $a_0$. \n",
    "    \n",
    "If $a_2 \\ge a_0$, insert $a_2$ in position 1 and shift $a_1$ along to position 2; otherwise, insert $a_2$ in position 0 and shift $a_0$ and $a_1$ along to positions 1 and 2 respectively.  \n",
    "\n",
    "The list is now sorted from position 0 to position 2.</li>\n",
    "    <li>Compare $a_3$ with (the possibly new) $a_2$. If $a_3 \\ge a_2$, do nothing. Otherwise, compare $a_3$ with $a_1$. \n",
    "    \n",
    "If $a_3 \\ge a_1$, insert $a_3$ in position 2 and shift $a_2$ along to position 3; otherwise, compare $a_3$ with $a_0$. \n",
    "\n",
    "If $a_3 \\ge a_0$, insert $a_3$ in position 1 and shift $a_1$ and $a_2$ along to positions 2 and 3; otherwise, insert $a_3$ in position 0 and shift $a_0$, $a_1$ and $a_2$ along to positions 1, 2 and 3.  \n",
    "\n",
    "The list is now sorted from position 0 to position 3.</li>\n",
    "    <li>And so on: on each pass, compare $a_n$ with $a_{n-1}$, then with $a_{n-2}$, etc, until the correct position for $a_n$ is found; then insert it there, moving as many items to the right as necessary to make room for it.\n",
    "\n",
    "The list will then be sorted from position 0 to position $n$.\n",
    "\n",
    "Keep going until the final element.</li>\n",
    "</ul>\n",
    "\n",
    "You can view animations on Blackboard."
   ]
  },
  {
   "cell_type": "markdown",
   "id": "1aa02c45",
   "metadata": {
    "deletable": false,
    "editable": false,
    "nbgrader": {
     "cell_type": "markdown",
     "checksum": "652930522f7cbb0ed882407754ca8b5d",
     "grade": false,
     "grade_id": "cell-ab6279826f98fdeb",
     "locked": true,
     "schema_version": 3,
     "solution": false,
     "task": false
    }
   },
   "source": [
    "(a) Write a function called `insertion_pass` which should take two arguments: a list, `data`, and a positive integer representing the length of the already sorted sublist, `already_sorted`. It should then make one pass of insertion sort, inserting the next element in the correct position and increasing the length of the already sorted sublist by one.\n",
    "\n",
    "Thus for example\n",
    "```python\n",
    "data = [3, 5, 9, 4, 7, 2, 1, 6]\n",
    "insertion_pass(data, 3)\n",
    "print(data)\n",
    "```\n",
    "should give `[3, 4, 5, 9, 7, 2, 1, 6]`.\n",
    "\n",
    "Take care that your function only performs such comparisons as are necessary, stopping as soon as it can. Do not at this stage keep a comparison count, though."
   ]
  },
  {
   "cell_type": "code",
   "execution_count": 28,
   "id": "64e8b6eb",
   "metadata": {
    "deletable": false,
    "nbgrader": {
     "cell_type": "code",
     "checksum": "f61468f626fb77313bce886929c2b8e1",
     "grade": false,
     "grade_id": "cell-03416a7da53b1633",
     "locked": false,
     "schema_version": 3,
     "solution": true,
     "task": false
    }
   },
   "outputs": [
    {
     "name": "stdout",
     "output_type": "stream",
     "text": [
      "[1, 2, 3, 4, 5, 6, 7, 9]\n"
     ]
    }
   ],
   "source": [
    "def insertion_pass(data, already_sorted):\n",
    "    '''Sorry'''\n",
    "    for i in range(1, already_sorted + 1):\n",
    "        key = data[i]\n",
    "        j = i - 1\n",
    "        while j >= 0 and data[j] > key:\n",
    "            data[j + 1] = data[j]\n",
    "            j -= 1\n",
    "        data[j + 1] = key\n",
    "\n",
    "\n",
    "# quick test\n",
    "data = [3, 5, 9, 4, 7, 2, 1, 6]\n",
    "insertion_pass(data, len(data) - 1)\n",
    "print(data)"
   ]
  },
  {
   "cell_type": "code",
   "execution_count": 29,
   "id": "4d854cc1",
   "metadata": {
    "deletable": false,
    "editable": false,
    "nbgrader": {
     "cell_type": "code",
     "checksum": "3d29b52eea9242c1d8762568fd0e3a08",
     "grade": true,
     "grade_id": "cell-d29ef87c4e42e6f8",
     "locked": true,
     "points": 2,
     "schema_version": 3,
     "solution": false,
     "task": false
    }
   },
   "outputs": [
    {
     "name": "stdout",
     "output_type": "stream",
     "text": [
      "insertion_pass seems be working correctly\n",
      "Your function seems to have a docstring\n",
      "2 out of 2\n"
     ]
    },
    {
     "data": {
      "text/plain": "2"
     },
     "execution_count": 29,
     "metadata": {},
     "output_type": "execute_result"
    }
   ],
   "source": [
    "# 2 Marks\n",
    "# Do not try to delete this cell\n",
    "# Run this cell for grading\n",
    "_globals = globals()\n",
    "question2a(_globals)"
   ]
  },
  {
   "cell_type": "markdown",
   "id": "5074f484",
   "metadata": {
    "deletable": false,
    "editable": false,
    "nbgrader": {
     "cell_type": "markdown",
     "checksum": "5019fd8526a672eb77f59600400410b8",
     "grade": false,
     "grade_id": "cell-005d279c98f7fd25",
     "locked": true,
     "schema_version": 3,
     "solution": false,
     "task": false
    }
   },
   "source": [
    "(b) Hence, write a function called `insertion_sort`, which sorts `data` in place using insertion sort."
   ]
  },
  {
   "cell_type": "code",
   "execution_count": 30,
   "id": "1ac2e931",
   "metadata": {
    "deletable": false,
    "nbgrader": {
     "cell_type": "code",
     "checksum": "c948438796887fad0232e74a43bb588c",
     "grade": false,
     "grade_id": "cell-39fc3085c2b00537",
     "locked": false,
     "schema_version": 3,
     "solution": true,
     "task": false
    }
   },
   "outputs": [],
   "source": [
    "def insertion_sort(data):\n",
    "    '''The insertion sort should carry the remaining data from the end'''\n",
    "\n",
    "    insertion_pass(data, len(data) - 1)\n",
    "\n",
    "    # for i in range(ndata):\n",
    "    #     value = data[i]\n",
    "    #     j = 0\n",
    "    #     while value > data[j]:\n",
    "    #         j += 1\n",
    "    #     for k in range(i - 1, j - 1, -1):\n",
    "    #         data[k + 1] = data[k]\n",
    "    #     data[j] = value\n",
    "\n",
    "\n"
   ]
  },
  {
   "cell_type": "code",
   "execution_count": 31,
   "id": "7ae61e4f",
   "metadata": {
    "deletable": false,
    "editable": false,
    "nbgrader": {
     "cell_type": "code",
     "checksum": "156c25e6998683eab72105e3344c5ea1",
     "grade": true,
     "grade_id": "cell-70e6a78021d7268b",
     "locked": true,
     "points": 2,
     "schema_version": 3,
     "solution": false,
     "task": false
    }
   },
   "outputs": [
    {
     "name": "stdout",
     "output_type": "stream",
     "text": [
      "insertion_sort seems to sort lists correctly\n",
      "Your function seems to have a docstring\n",
      "2 out of 2\n"
     ]
    },
    {
     "data": {
      "text/plain": "2"
     },
     "execution_count": 31,
     "metadata": {},
     "output_type": "execute_result"
    }
   ],
   "source": [
    "# 2 Marks\n",
    "# Do not try to delete this cell\n",
    "# Run this cell for grading\n",
    "_globals = globals()\n",
    "question2b(_globals)"
   ]
  },
  {
   "cell_type": "markdown",
   "id": "51b0a7bd",
   "metadata": {
    "deletable": false,
    "editable": false,
    "nbgrader": {
     "cell_type": "markdown",
     "checksum": "64d33cfaa0ed7efe8dc206213ec4189d",
     "grade": false,
     "grade_id": "cell-b70350533e82809d",
     "locked": true,
     "schema_version": 3,
     "solution": false,
     "task": false
    }
   },
   "source": [
    "(c) Test your new function on `data`, which should be a copy of `masterList`."
   ]
  },
  {
   "cell_type": "code",
   "execution_count": 32,
   "id": "1a003077",
   "metadata": {
    "deletable": false,
    "nbgrader": {
     "cell_type": "code",
     "checksum": "3398df99682ddd2a04d0152e810a28f4",
     "grade": false,
     "grade_id": "cell-db412796a141c807",
     "locked": false,
     "schema_version": 3,
     "solution": true,
     "task": false
    }
   },
   "outputs": [
    {
     "name": "stdout",
     "output_type": "stream",
     "text": [
      "[3, 5, 7, 12, 17, 18, 19, 21, 22, 24, 26, 27, 29, 31, 34, 40]\n"
     ]
    }
   ],
   "source": [
    "data = copy(masterList)\n",
    "insertion_sort(data)\n",
    "print(data)\n"
   ]
  },
  {
   "cell_type": "code",
   "execution_count": 33,
   "id": "ff5811ba",
   "metadata": {
    "deletable": false,
    "editable": false,
    "nbgrader": {
     "cell_type": "code",
     "checksum": "722186f4f07e7dcc80eec52b06bb8a17",
     "grade": true,
     "grade_id": "cell-44dd959ce673b63d",
     "locked": true,
     "points": 1,
     "schema_version": 3,
     "solution": false,
     "task": false
    }
   },
   "outputs": [
    {
     "name": "stdout",
     "output_type": "stream",
     "text": [
      "data has been sorted correctly\n",
      "Test passed!\n"
     ]
    },
    {
     "data": {
      "text/plain": "1"
     },
     "execution_count": 33,
     "metadata": {},
     "output_type": "execute_result"
    }
   ],
   "source": [
    "# 1 Mark\n",
    "# Do not try to delete this cell\n",
    "# Run this cell for grading\n",
    "_globals = globals()\n",
    "question2c(_globals)"
   ]
  },
  {
   "cell_type": "markdown",
   "id": "d7c95660",
   "metadata": {
    "deletable": false,
    "editable": false,
    "nbgrader": {
     "cell_type": "markdown",
     "checksum": "d05ee092f1f830843a2ac29388ecb6c8",
     "grade": false,
     "grade_id": "cell-f8553df23164a3ce",
     "locked": true,
     "schema_version": 3,
     "solution": false,
     "task": false
    }
   },
   "source": [
    "(d) Try to think this through from first principles! With a data list of length 16, what is the maximum number of comparisons that are necessary for insertion sort, if on every pass it's necessary to compare $a_n$ with $a_{n-1}$, $a_{n-2}$, all the way down to $a_0$?"
   ]
  },
  {
   "cell_type": "code",
   "execution_count": 34,
   "id": "24cbe7db",
   "metadata": {
    "deletable": false,
    "nbgrader": {
     "cell_type": "code",
     "checksum": "83251a9ba3d6b0399b18bb1d99c4c661",
     "grade": false,
     "grade_id": "cell-a0106c641a3c6e1f",
     "locked": false,
     "schema_version": 3,
     "solution": true,
     "task": false
    }
   },
   "outputs": [],
   "source": [
    "\n",
    "\n",
    "q2d_answer = 120"
   ]
  },
  {
   "cell_type": "code",
   "execution_count": 35,
   "id": "5084bf3d",
   "metadata": {
    "deletable": false,
    "editable": false,
    "nbgrader": {
     "cell_type": "code",
     "checksum": "a7dfc953da8457ce0556d8eebf2c8c4d",
     "grade": true,
     "grade_id": "cell-841d490288aa8680",
     "locked": true,
     "points": 1,
     "schema_version": 3,
     "solution": false,
     "task": false
    }
   },
   "outputs": [
    {
     "name": "stdout",
     "output_type": "stream",
     "text": [
      "test case passed!\n"
     ]
    }
   ],
   "source": [
    "# 1 Mark\n",
    "assert (q2d_answer == question2d())\n",
    "print('test case passed!')"
   ]
  },
  {
   "cell_type": "markdown",
   "id": "7cabcaae",
   "metadata": {
    "deletable": false,
    "editable": false,
    "nbgrader": {
     "cell_type": "markdown",
     "checksum": "c5a47e1a7cad1cf027c6ba73c8082d23",
     "grade": false,
     "grade_id": "cell-fffa911c2f14f62b",
     "locked": true,
     "schema_version": 3,
     "solution": false,
     "task": false
    }
   },
   "source": [
    "(e) Give an example of a \"worst case\" data list of length 16 for which this many comparisons are necessary."
   ]
  },
  {
   "cell_type": "code",
   "execution_count": 36,
   "id": "1ea82766",
   "metadata": {
    "deletable": false,
    "nbgrader": {
     "cell_type": "code",
     "checksum": "861a161cb60473e25eadb8e41f93448f",
     "grade": false,
     "grade_id": "cell-cdbd5264310c1038",
     "locked": false,
     "schema_version": 3,
     "solution": true,
     "task": false
    }
   },
   "outputs": [],
   "source": [
    "insertion_sort_length16_worstcase = list(range(16, 0, -1))"
   ]
  },
  {
   "cell_type": "code",
   "execution_count": 36,
   "outputs": [],
   "source": [],
   "metadata": {
    "collapsed": false
   }
  },
  {
   "cell_type": "code",
   "execution_count": 37,
   "id": "b5b5a88e",
   "metadata": {
    "deletable": false,
    "editable": false,
    "nbgrader": {
     "cell_type": "code",
     "checksum": "e0320ce8076c660c0ebca8243b14970a",
     "grade": true,
     "grade_id": "cell-31776121b072bf85",
     "locked": true,
     "points": 1,
     "schema_version": 3,
     "solution": false,
     "task": false
    }
   },
   "outputs": [
    {
     "name": "stdout",
     "output_type": "stream",
     "text": [
      "We agree: this seems to be a good 'worst case'\n",
      "Test passed!\n"
     ]
    },
    {
     "data": {
      "text/plain": "1"
     },
     "execution_count": 37,
     "metadata": {},
     "output_type": "execute_result"
    }
   ],
   "source": [
    "# 1 Mark\n",
    "# Do not try to delete this cell\n",
    "# Run this cell for grading\n",
    "_globals = globals()\n",
    "question2e(_globals)"
   ]
  },
  {
   "cell_type": "markdown",
   "id": "a90ce5ad",
   "metadata": {
    "deletable": false,
    "editable": false,
    "nbgrader": {
     "cell_type": "markdown",
     "checksum": "1e5bd4e02b5c71748ab806ded0de6bd2",
     "grade": false,
     "grade_id": "cell-795ac284b1d0827f",
     "locked": true,
     "schema_version": 3,
     "solution": false,
     "task": false
    }
   },
   "source": [
    "(f) Try to think this through from first principles! With a data list of length 16, what is the minimum number of comparisons that are necessary for insertion sort, if on every pass it's only necessary to compare $a_n$ with $a_{n-1}$?"
   ]
  },
  {
   "cell_type": "code",
   "execution_count": 38,
   "id": "d7dee123",
   "metadata": {
    "deletable": false,
    "nbgrader": {
     "cell_type": "code",
     "checksum": "1985f39150da849ac420862cb8274d35",
     "grade": false,
     "grade_id": "cell-691ac8cf4516f2c7",
     "locked": false,
     "schema_version": 3,
     "solution": true,
     "task": false
    }
   },
   "outputs": [],
   "source": [
    "q2f_answer = 15"
   ]
  },
  {
   "cell_type": "code",
   "execution_count": 39,
   "id": "c962ba4a",
   "metadata": {
    "deletable": false,
    "editable": false,
    "nbgrader": {
     "cell_type": "code",
     "checksum": "9f10daa29468bb09916a155b2b9ee699",
     "grade": true,
     "grade_id": "cell-b566cccf4417a613",
     "locked": true,
     "points": 1,
     "schema_version": 3,
     "solution": false,
     "task": false
    }
   },
   "outputs": [
    {
     "name": "stdout",
     "output_type": "stream",
     "text": [
      "test case passed!\n"
     ]
    }
   ],
   "source": [
    "# 1 Mark\n",
    "assert (q2f_answer == question2f())\n",
    "print('test case passed!')"
   ]
  },
  {
   "cell_type": "markdown",
   "id": "8e95731e",
   "metadata": {
    "deletable": false,
    "editable": false,
    "nbgrader": {
     "cell_type": "markdown",
     "checksum": "649b4521d74648090a7c3d00009201e4",
     "grade": false,
     "grade_id": "cell-33127564d0c73479",
     "locked": true,
     "schema_version": 3,
     "solution": false,
     "task": false
    }
   },
   "source": [
    "(g) Give an example of a \"best case\" data list of length 16 for which this many comparisons are necessary."
   ]
  },
  {
   "cell_type": "code",
   "execution_count": 40,
   "id": "8f8e0171",
   "metadata": {
    "deletable": false,
    "nbgrader": {
     "cell_type": "code",
     "checksum": "dd6856ccbd4fa2114662b738a7e856c7",
     "grade": false,
     "grade_id": "cell-db849fdbc2093719",
     "locked": false,
     "schema_version": 3,
     "solution": true,
     "task": false
    }
   },
   "outputs": [],
   "source": [
    "insertion_sort_length16_bestcase = list(range(16))"
   ]
  },
  {
   "cell_type": "code",
   "execution_count": 41,
   "id": "731193ba",
   "metadata": {
    "deletable": false,
    "editable": false,
    "nbgrader": {
     "cell_type": "code",
     "checksum": "3dff4e04c6a5f992971a2907ac694927",
     "grade": true,
     "grade_id": "cell-1ea7a4fe94aef220",
     "locked": true,
     "points": 1,
     "schema_version": 3,
     "solution": false,
     "task": false
    }
   },
   "outputs": [
    {
     "name": "stdout",
     "output_type": "stream",
     "text": [
      "We agree: this seems to be a good 'best case'\n",
      "Test passed!\n"
     ]
    },
    {
     "data": {
      "text/plain": "1"
     },
     "execution_count": 41,
     "metadata": {},
     "output_type": "execute_result"
    }
   ],
   "source": [
    "# 1 Mark\n",
    "# Do not try to delete this cell\n",
    "# Run this cell for grading\n",
    "_globals = globals()\n",
    "question2g(_globals)"
   ]
  },
  {
   "cell_type": "markdown",
   "id": "fbbf4d36",
   "metadata": {
    "deletable": false,
    "editable": false,
    "nbgrader": {
     "cell_type": "markdown",
     "checksum": "31d0892cabd7ba7fbafd05deb5d0c9c6",
     "grade": false,
     "grade_id": "cell-64496bea95c1ce2d",
     "locked": true,
     "schema_version": 3,
     "solution": false,
     "task": false
    }
   },
   "source": [
    "(h) Introduce a global variable called `comparison_count` into your `insertion_pass` function, which should go up by 1 for each comparison it makes. (This might need some thought; depending on how your program works, it could be quite tricky.) \n",
    "\n",
    "Once you've done this, you will have no need to make any changes to `insertion_sort`; the count of comparisons will happen automatically.\n",
    "\n",
    "Use this feature to test your answers to (c), (d), (e) and (f).\n",
    "\n",
    "Test this feature too on a copy of `masterList`."
   ]
  },
  {
   "cell_type": "code",
   "execution_count": 42,
   "id": "4c70b62e",
   "metadata": {
    "deletable": false,
    "nbgrader": {
     "cell_type": "code",
     "checksum": "1685e88a58921ef2ef3517e556b0257e",
     "grade": false,
     "grade_id": "cell-d60f031ae23949de",
     "locked": false,
     "schema_version": 3,
     "solution": true,
     "task": false
    }
   },
   "outputs": [],
   "source": [
    "# Cell for defining your function\n",
    "\n",
    "def insertion_pass(data, already_sorted):\n",
    "    '''Sorry'''\n",
    "    global comparison_count\n",
    "    for i in range(1, already_sorted + 1):\n",
    "        key = data[i]\n",
    "        j = i - 1\n",
    "        while j >= 0 and data[j] > key:\n",
    "            comparison_count += 1\n",
    "            data[j + 1] = data[j]\n",
    "            j -= 1\n",
    "        data[j + 1] = key\n"
   ]
  },
  {
   "cell_type": "code",
   "execution_count": 43,
   "id": "8fda34c6",
   "metadata": {
    "deletable": false,
    "editable": false,
    "nbgrader": {
     "cell_type": "code",
     "checksum": "24e7c87dee8ecf0cd1f03e3b4d7f3e5e",
     "grade": true,
     "grade_id": "cell-0c5de2505f5a39ea",
     "locked": true,
     "points": 3,
     "schema_version": 3,
     "solution": false,
     "task": false
    }
   },
   "outputs": [
    {
     "name": "stdout",
     "output_type": "stream",
     "text": [
      "insertion_sort seems to sort lists correctly\n",
      "Your function seems to require fewer comparisons than ours; very well done if so! It's worth double-checking that you're counting them all, though.\n",
      "Your function seems to have a docstring\n",
      "3 out of 3\n"
     ]
    },
    {
     "data": {
      "text/plain": "3"
     },
     "execution_count": 43,
     "metadata": {},
     "output_type": "execute_result"
    }
   ],
   "source": [
    "# 3 Marks\n",
    "# Do not try to delete this cell\n",
    "# Run this cell for grading\n",
    "_globals = globals()\n",
    "question2hfunc(_globals)"
   ]
  },
  {
   "cell_type": "code",
   "execution_count": 44,
   "id": "8f3eb9f9",
   "metadata": {
    "deletable": false,
    "nbgrader": {
     "cell_type": "code",
     "checksum": "35ed9f052ee5f42944b24503e1f247f7",
     "grade": false,
     "grade_id": "cell-07bb149de176d2bf",
     "locked": false,
     "schema_version": 3,
     "solution": true,
     "task": false
    }
   },
   "outputs": [
    {
     "name": "stdout",
     "output_type": "stream",
     "text": [
      "[3, 5, 7, 12, 17, 18, 19, 21, 22, 24, 26, 27, 29, 31, 34, 40]\n",
      "68\n"
     ]
    }
   ],
   "source": [
    "# cell for testing on a copy of masterList\n",
    "\n",
    "# YOUR CODE HERE\n",
    "data = copy(masterList)\n",
    "comparison_count = 0\n",
    "insertion_sort(data)\n",
    "print(data)\n",
    "print(comparison_count)"
   ]
  },
  {
   "cell_type": "code",
   "execution_count": 45,
   "id": "46c79792",
   "metadata": {
    "deletable": false,
    "editable": false,
    "nbgrader": {
     "cell_type": "code",
     "checksum": "f4124adc19a6e64a47ec609406f4d046",
     "grade": true,
     "grade_id": "cell-e0a8eaee2d129964",
     "locked": true,
     "points": 2,
     "schema_version": 3,
     "solution": false,
     "task": false
    }
   },
   "outputs": [
    {
     "name": "stdout",
     "output_type": "stream",
     "text": [
      "data has been sorted correctly\n",
      "Your function seems to require fewer comparisons than ours; very well done if so! It's worth double-checking that you're counting them all, though.\n",
      "2 out of 2\n"
     ]
    },
    {
     "data": {
      "text/plain": "2"
     },
     "execution_count": 45,
     "metadata": {},
     "output_type": "execute_result"
    }
   ],
   "source": [
    "# 3 Marks\n",
    "# Do not try to delete this cell\n",
    "# Run this cell for grading\n",
    "_globals = globals()\n",
    "\n",
    "# The test case is wrong: change 'globals' to '_globals'\n",
    "question2htest(_globals)"
   ]
  },
  {
   "cell_type": "markdown",
   "id": "715db7e4",
   "metadata": {
    "deletable": false,
    "editable": false,
    "nbgrader": {
     "cell_type": "markdown",
     "checksum": "352df51f33def47a11109b3166e7e795",
     "grade": false,
     "grade_id": "cell-d852ae35b85ac501",
     "locked": true,
     "schema_version": 3,
     "solution": false,
     "task": false
    }
   },
   "source": [
    "(j) Experiment. Which of the following seems to be true?\n",
    "\n",
    "<ol>\n",
    "    <li>Insertion sort outperforms bubble sort in the worst case and the best case, and seems to outperform it in the typical case.</li>\n",
    "    <li>Insertion sort outperforms bubble sort in the worst case, and seems to outperform it in the typical case, but performs exactly as well in the best case.</li>\n",
    "    <li>Insertion sort outperforms bubble sort in the best case, and seems to outperform it in the typical case, but performs exactly as well in the worst case.</li>\n",
    "    <li>Insertion sort seems to outperform bubble sort in the typical case, but performs exactly as well in the worst case and best case.</li>\n",
    "    <li>Insertion sort performs exactly as well as bubble sort in the worst case and best case, and roughly as well in the typical case.</li>\n",
    "</ol>"
   ]
  },
  {
   "cell_type": "code",
   "execution_count": 46,
   "id": "39526c80",
   "metadata": {
    "deletable": false,
    "nbgrader": {
     "cell_type": "code",
     "checksum": "849cd2224638684aa1033625b282438d",
     "grade": false,
     "grade_id": "cell-e6188a6359fa00ca",
     "locked": false,
     "schema_version": 3,
     "solution": true,
     "task": false
    }
   },
   "outputs": [],
   "source": [
    "q2j_answer = 4"
   ]
  },
  {
   "cell_type": "code",
   "execution_count": 47,
   "id": "c7ee8246",
   "metadata": {
    "deletable": false,
    "editable": false,
    "nbgrader": {
     "cell_type": "code",
     "checksum": "c3c355f09cff2ed5490ce5473a365c67",
     "grade": true,
     "grade_id": "cell-99c353404a5c658e",
     "locked": true,
     "points": 1,
     "schema_version": 3,
     "solution": false,
     "task": false
    }
   },
   "outputs": [
    {
     "name": "stdout",
     "output_type": "stream",
     "text": [
      "test case passed!\n"
     ]
    }
   ],
   "source": [
    "# 1 Mark\n",
    "assert (q2j_answer == question2j())\n",
    "print('test case passed!')"
   ]
  },
  {
   "cell_type": "markdown",
   "id": "20f408ca",
   "metadata": {
    "deletable": false,
    "editable": false,
    "nbgrader": {
     "cell_type": "markdown",
     "checksum": "dc5613c1931881d2d9c0eef382b02a2a",
     "grade": false,
     "grade_id": "cell-ae4bdc93780638cd",
     "locked": true,
     "schema_version": 3,
     "solution": false,
     "task": false
    }
   },
   "source": [
    "## Question 3\n",
    "\n",
    "This question is about <b>merge sort</b>, which is a more sophisticated sorting algorithm than selection sort, bubble sort or insertion sort.\n",
    "\n",
    "### (i)\n",
    "\n",
    "At its core is the idea of merging the contents of two <b>buffers</b>, each of which is assumed to be itself already sorted. Before we get on to how the sort itself works, let's consider this merging operation.\n",
    "\n",
    "We start with two lists of length 3 and 4 respectively, which we'll call `left_buffer` and `right_buffer`, and a destination list called `data`, of length 7. Now, `data` can have any old junk in it as far as the merge operation is concerned, so let's fill it with zeros. So we start off like this:\n",
    "\n",
    "`left_buffer`: 3, 7, 8\n",
    "\n",
    "`right_buffer`: 2, 5, 9, 10\n",
    "\n",
    "`data`: 0, 0, 0, 0, 0, 0, 0\n",
    "\n",
    "Notice that `left_buffer` and `right_buffer` are already sorted.\n",
    "\n",
    "Our first move is to compare the position 0 elements of the two buffers: 3 and 2. The smaller is 2, so we choose that one, and place it in position 0 of data:\n",
    "\n",
    "`left_buffer`: 3, 7, 8\n",
    "\n",
    "`right_buffer`: <font color='gray'>2</font>, 5, 9, 10\n",
    "\n",
    "`data`: 2, 0, 0, 0, 0, 0, 0\n",
    "\n",
    "I've \"grayed out\" 2, as it's been used.\n",
    "\n",
    "Now we compare the position 0 element of `left_buffer` with the position 1 element of the partially used-up `right_buffer`: 3 and 5. The smaller is 3, so we use that:\n",
    "\n",
    "`left_buffer`: <font color='gray'>3</font>, 7, 8\n",
    "\n",
    "`right_buffer`: <font color='gray'>2</font>, 5, 9, 10\n",
    "\n",
    "`data`: 2, 3, 0, 0, 0, 0, 0\n",
    "\n",
    "Now we compare the position 1 elements in each buffer: 5 and 7. This gives\n",
    "\n",
    "`left_buffer`: <font color='gray'>3</font>, 7, 8\n",
    "\n",
    "`right_buffer`: <font color='gray'>2</font>, <font color='gray'>5</font>, 9, 10\n",
    "\n",
    "`data`: 2, 3, 5, 0, 0, 0, 0\n",
    "\n",
    "And so on. We eventually get to this situation:\n",
    "\n",
    "`left_buffer`: <font color='gray'>3</font>, <font color='gray'>7</font>, <font color='gray'>8</font>\n",
    "\n",
    "`right_buffer`: <font color='gray'>2</font>, <font color='gray'>5</font>, 9, 10\n",
    "\n",
    "`data`: 2, 3, 5, 7, 8, 0, 0\n",
    "\n",
    "At this point, with one of the buffers used up, we're done, and we can fill in the remaining data:\n",
    "\n",
    "`left_buffer`: <font color='gray'>3</font>, <font color='gray'>7</font>, <font color='gray'>8</font>\n",
    "\n",
    "`right_buffer`: <font color='gray'>2</font>, <font color='gray'>5</font>, <font color='gray'>9</font>, <font color='gray'>10</font>\n",
    "\n",
    "`data`: 2, 3, 5, 7, 8, 9, 10\n"
   ]
  },
  {
   "cell_type": "markdown",
   "id": "964dffab",
   "metadata": {
    "deletable": false,
    "editable": false,
    "nbgrader": {
     "cell_type": "markdown",
     "checksum": "13a09737f81d4d558494953596fab902",
     "grade": false,
     "grade_id": "cell-6a6a76c9cb3d43d8",
     "locked": true,
     "schema_version": 3,
     "solution": false,
     "task": false
    }
   },
   "source": [
    "(a) Write a function called `merge`, which takes as its arguments three lists, `left_buffer`, `right_buffer` and `data`, and merges `left_buffer` and `right_buffer` into `data` in place (that is, as a side-effect; it should return no output).\n",
    "\n",
    "Try to make sure you carry out only such comparisons as are necessary, but don't at this stage include a comparison count.\n",
    "\n",
    "Test it: the following code\n",
    "```python\n",
    "left_buffer = [3, 7, 8]\n",
    "right_buffer = [2, 5, 9, 10]\n",
    "data = [0, 0, 0, 0, 0, 0, 0]\n",
    "merge(left_buffer, right_buffer, data)\n",
    "print(data)\n",
    "```\n",
    "\n",
    "should give `[2, 3, 5, 7, 8, 9, 10]`"
   ]
  },
  {
   "cell_type": "code",
   "execution_count": 48,
   "id": "61388697",
   "metadata": {
    "deletable": false,
    "nbgrader": {
     "cell_type": "code",
     "checksum": "7ed4ba971386eb71b106eddf6e8a64b2",
     "grade": false,
     "grade_id": "cell-5e22b2fe4863815c",
     "locked": false,
     "schema_version": 3,
     "solution": true,
     "task": false
    }
   },
   "outputs": [
    {
     "name": "stdout",
     "output_type": "stream",
     "text": [
      "[1, 4]\n"
     ]
    }
   ],
   "source": [
    "def merge(left_buffer, right_buffer, data):\n",
    "    '''...'''\n",
    "    left_len = len(left_buffer)\n",
    "    right_len = len(right_buffer)\n",
    "    left_idx, right_idx = 0, 0\n",
    "\n",
    "    while left_idx < left_len or right_idx < right_len:\n",
    "        length = left_idx + right_idx\n",
    "        if left_idx >= left_len:\n",
    "            data[length] = right_buffer[right_idx]\n",
    "            right_idx += 1\n",
    "        elif right_idx >= right_len:\n",
    "            data[length] = left_buffer[left_idx]\n",
    "            left_idx += 1\n",
    "        else:\n",
    "            if left_buffer[left_idx] > right_buffer[right_idx]:\n",
    "                data[length] = right_buffer[right_idx]\n",
    "                right_idx += 1\n",
    "            else:\n",
    "                data[length] = left_buffer[left_idx]\n",
    "                left_idx += 1\n",
    "\n",
    "\n",
    "# quick test\n",
    "left_buffer = [4]\n",
    "right_buffer = [1]\n",
    "data = [4, 1]\n",
    "merge(left_buffer, right_buffer, data)\n",
    "print(data)"
   ]
  },
  {
   "cell_type": "code",
   "execution_count": 49,
   "id": "02022ed8",
   "metadata": {
    "deletable": false,
    "editable": false,
    "nbgrader": {
     "cell_type": "code",
     "checksum": "ddfc01e03de8c0cf11bef3f76e4a1557",
     "grade": true,
     "grade_id": "cell-02a6bb6d95db6df1",
     "locked": true,
     "points": 2,
     "schema_version": 3,
     "solution": false,
     "task": false
    }
   },
   "outputs": [
    {
     "name": "stdout",
     "output_type": "stream",
     "text": [
      "merge seems to be working correctly\n",
      "Your function seems to have a docstring\n",
      "2 out of 2\n"
     ]
    },
    {
     "data": {
      "text/plain": "2"
     },
     "execution_count": 49,
     "metadata": {},
     "output_type": "execute_result"
    }
   ],
   "source": [
    "# 2 Marks\n",
    "# Do not try to delete this cell\n",
    "# Run this cell for grading\n",
    "_globals = globals()\n",
    "question3ia(_globals)"
   ]
  },
  {
   "cell_type": "markdown",
   "id": "3b667c3a",
   "metadata": {
    "deletable": false,
    "editable": false,
    "nbgrader": {
     "cell_type": "markdown",
     "checksum": "e95aeb1341dc09c23735475f429a182c",
     "grade": false,
     "grade_id": "cell-ca431ffaa503e965",
     "locked": true,
     "schema_version": 3,
     "solution": false,
     "task": false
    }
   },
   "source": [
    "(b) What is the least number of comparisons necessary in order to merge two sorted buffers of length 8 into a data list of length 16?"
   ]
  },
  {
   "cell_type": "code",
   "execution_count": 50,
   "id": "26070269",
   "metadata": {
    "deletable": false,
    "nbgrader": {
     "cell_type": "code",
     "checksum": "0469074628d865ec0e62df28e0942f9a",
     "grade": false,
     "grade_id": "cell-8ed0c9720cee139e",
     "locked": false,
     "schema_version": 3,
     "solution": true,
     "task": false
    }
   },
   "outputs": [],
   "source": [
    "q3ib_answer = 8"
   ]
  },
  {
   "cell_type": "code",
   "execution_count": 51,
   "id": "8ceff662",
   "metadata": {
    "deletable": false,
    "editable": false,
    "nbgrader": {
     "cell_type": "code",
     "checksum": "e1b2ba0f83d53a8972b64cf35850f57e",
     "grade": true,
     "grade_id": "cell-433aefcb80f0a160",
     "locked": true,
     "points": 1,
     "schema_version": 3,
     "solution": false,
     "task": false
    }
   },
   "outputs": [
    {
     "name": "stdout",
     "output_type": "stream",
     "text": [
      "test case passed!\n"
     ]
    }
   ],
   "source": [
    "# 1 Mark\n",
    "assert (q3ib_answer == question3ib())\n",
    "print('test case passed!')"
   ]
  },
  {
   "cell_type": "markdown",
   "id": "0a5f9d11",
   "metadata": {},
   "source": [
    "(c) What is the greatest number of comparisons necessary in order to merge two sorted buffers of length 8 into a data list of length 16?"
   ]
  },
  {
   "cell_type": "code",
   "execution_count": 52,
   "id": "44f9168d",
   "metadata": {
    "deletable": false,
    "nbgrader": {
     "cell_type": "code",
     "checksum": "fa760c6afd3c8260aace7b5f6e09f71f",
     "grade": false,
     "grade_id": "cell-724c6fa937558218",
     "locked": false,
     "schema_version": 3,
     "solution": true,
     "task": false
    }
   },
   "outputs": [],
   "source": [
    "q3ic_answer = 15"
   ]
  },
  {
   "cell_type": "code",
   "execution_count": 53,
   "id": "4694310f",
   "metadata": {
    "deletable": false,
    "editable": false,
    "nbgrader": {
     "cell_type": "code",
     "checksum": "24a5212fe9c28948a02e80db3bfd429b",
     "grade": true,
     "grade_id": "cell-c4cd301632439d83",
     "locked": true,
     "points": 1,
     "schema_version": 3,
     "solution": false,
     "task": false
    }
   },
   "outputs": [
    {
     "name": "stdout",
     "output_type": "stream",
     "text": [
      "test case passed!\n"
     ]
    }
   ],
   "source": [
    "# 1 Mark\n",
    "assert (q3ic_answer == question3ic())\n",
    "print('test case passed!')"
   ]
  },
  {
   "cell_type": "markdown",
   "id": "941febc5",
   "metadata": {
    "deletable": false,
    "editable": false,
    "nbgrader": {
     "cell_type": "markdown",
     "checksum": "cde396564fcc9f26433f9fc9bab97cb1",
     "grade": false,
     "grade_id": "cell-3eea479b25ee8b53",
     "locked": true,
     "schema_version": 3,
     "solution": false,
     "task": false
    }
   },
   "source": [
    "### (ii) \n",
    "\n",
    "One way to implement merge sort itself is <b>recursively</b>. The algorithm goes like this.\n",
    "\n",
    "To merge sort `data`:\n",
    "\n",
    "If `data` consists of only one element, do nothing. Otherwise,\n",
    "\n",
    "<ul>\n",
    "    <li>Let <code>half_length</code> be half the length of <code>data</code> (or just less than this if the length is odd).</li>\n",
    "    <li>Let <code>left_half</code> be <code>data[0:half_length]</code> and <code>right_half</code> the rest.</li>\n",
    "    <li>Merge sort <code>left_half</code>.</li>\n",
    "    <li>Merge sort <code>right_half</code>.</li>    \n",
    "    <li>Merge <code>left_half</code> and <code>right_half</code> into <code>data</code>.</li>\n",
    "</ul>\n",
    "\n",
    "(a) Write a function called `merge_sort` based on the above description, and test it on a variety of data lists."
   ]
  },
  {
   "cell_type": "code",
   "execution_count": 54,
   "id": "b298a5d4",
   "metadata": {
    "deletable": false,
    "nbgrader": {
     "cell_type": "code",
     "checksum": "69d3ed11e65d716f7c2cea46c96490ae",
     "grade": false,
     "grade_id": "cell-0a0b52801a29d664",
     "locked": false,
     "schema_version": 3,
     "solution": true,
     "task": false
    }
   },
   "outputs": [
    {
     "name": "stdout",
     "output_type": "stream",
     "text": [
      "[1 2 3 4 5 7]\n"
     ]
    }
   ],
   "source": [
    "def merge_sort(data):\n",
    "    '''Need to Copy'''\n",
    "    mid = int(len(data) / 2)\n",
    "    if mid == 0:\n",
    "        return\n",
    "    left = copy(data[:mid])\n",
    "    right = copy(data[mid:])\n",
    "    merge_sort(left)\n",
    "    merge_sort(right)\n",
    "    merge(left, right, data)\n",
    "\n",
    "\n",
    "data = np.array([3, 4, 1, 2, 5, 7])\n",
    "merge_sort(data)\n",
    "print(data)\n"
   ]
  },
  {
   "cell_type": "code",
   "execution_count": 55,
   "id": "7957e9b0",
   "metadata": {
    "deletable": false,
    "editable": false,
    "nbgrader": {
     "cell_type": "code",
     "checksum": "45ef9dbc9270bbaac375e98bc2b3f2e8",
     "grade": true,
     "grade_id": "cell-048ab5d080208523",
     "locked": true,
     "points": 2,
     "schema_version": 3,
     "solution": false,
     "task": false
    }
   },
   "outputs": [
    {
     "name": "stdout",
     "output_type": "stream",
     "text": [
      "merge_sort seems to sort lists correctly\n",
      "Your function seems to have a docstring\n",
      "2 out of 2\n"
     ]
    },
    {
     "data": {
      "text/plain": "2"
     },
     "execution_count": 55,
     "metadata": {},
     "output_type": "execute_result"
    }
   ],
   "source": [
    "# 2 Marks\n",
    "# Do not try to delete this cell\n",
    "# Run this cell for grading\n",
    "_globals = globals()\n",
    "question3iia(_globals)"
   ]
  },
  {
   "cell_type": "markdown",
   "id": "3f9d6126",
   "metadata": {
    "deletable": false,
    "editable": false,
    "nbgrader": {
     "cell_type": "markdown",
     "checksum": "52819e1f26781fe85350cea465513e8c",
     "grade": false,
     "grade_id": "cell-a46ea7887ba74ff4",
     "locked": true,
     "schema_version": 3,
     "solution": false,
     "task": false
    }
   },
   "source": [
    "To merge sort a list of length 16, you must first merge sort two lists of length 8, then merge them; each list of length 8 has been created from two merge-sorted lists of length 4, and so on.\n",
    "\n",
    "(b) In the best case, how many comparisons are necessary in order to merge sort a list of length 16?"
   ]
  },
  {
   "cell_type": "code",
   "execution_count": 56,
   "id": "8e830d02",
   "metadata": {
    "deletable": false,
    "nbgrader": {
     "cell_type": "code",
     "checksum": "0e435e9258edeb1b56a499ad3f02bf2c",
     "grade": false,
     "grade_id": "cell-1f6f920745570a96",
     "locked": false,
     "schema_version": 3,
     "solution": true,
     "task": false
    }
   },
   "outputs": [],
   "source": [
    "q3iib_answer = 32"
   ]
  },
  {
   "cell_type": "code",
   "execution_count": 57,
   "id": "c5c82301",
   "metadata": {
    "deletable": false,
    "editable": false,
    "nbgrader": {
     "cell_type": "code",
     "checksum": "53be168c5ce638d23ca69fa8e5470bfe",
     "grade": true,
     "grade_id": "cell-af5fbf8fd5ab73e9",
     "locked": true,
     "points": 1,
     "schema_version": 3,
     "solution": false,
     "task": false
    }
   },
   "outputs": [
    {
     "name": "stdout",
     "output_type": "stream",
     "text": [
      "test case passed!\n"
     ]
    }
   ],
   "source": [
    "# 1 Mark\n",
    "assert (q3iib_answer == question3iib())\n",
    "print('test case passed!')"
   ]
  },
  {
   "cell_type": "markdown",
   "id": "75ee5e63",
   "metadata": {},
   "source": [
    "(c) In the worst case, how many comparisons are necessary in order to merge sort a list of length 16?"
   ]
  },
  {
   "cell_type": "code",
   "execution_count": 58,
   "id": "74136cd2",
   "metadata": {
    "deletable": false,
    "nbgrader": {
     "cell_type": "code",
     "checksum": "e4bec53f1cdb79e14a248a1c51733d48",
     "grade": false,
     "grade_id": "cell-fce1317ba6e870b5",
     "locked": false,
     "schema_version": 3,
     "solution": true,
     "task": false
    }
   },
   "outputs": [],
   "source": [
    "q3iic_answer = 49"
   ]
  },
  {
   "cell_type": "code",
   "execution_count": 59,
   "id": "9ffd4af7",
   "metadata": {
    "deletable": false,
    "editable": false,
    "nbgrader": {
     "cell_type": "code",
     "checksum": "58999205ecd4adc1336801544844dc13",
     "grade": true,
     "grade_id": "cell-5ffd72f11f725263",
     "locked": true,
     "points": 1,
     "schema_version": 3,
     "solution": false,
     "task": false
    }
   },
   "outputs": [
    {
     "name": "stdout",
     "output_type": "stream",
     "text": [
      "test case passed!\n"
     ]
    }
   ],
   "source": [
    "# 1 Mark\n",
    "assert (q3iic_answer == question3iic())\n",
    "print('test case passed!')"
   ]
  },
  {
   "cell_type": "markdown",
   "id": "a2d6e14f",
   "metadata": {
    "deletable": false,
    "editable": false,
    "nbgrader": {
     "cell_type": "markdown",
     "checksum": "84579b94dc48cfccbf713bf774990eb1",
     "grade": false,
     "grade_id": "cell-3cb2d67e1256268e",
     "locked": true,
     "schema_version": 3,
     "solution": false,
     "task": false
    }
   },
   "source": [
    "(d) <b>This is genuinely tricky</b>. In the best case, how many comparisons are necessary in order to merge sort a list of length $2^m$? Give your answer as a lambda-expression called `merge_sort_min`."
   ]
  },
  {
   "cell_type": "code",
   "execution_count": 60,
   "id": "1216ca4a",
   "metadata": {
    "deletable": false,
    "nbgrader": {
     "cell_type": "code",
     "checksum": "6ce790703661a1babb160873e1e5b0f0",
     "grade": false,
     "grade_id": "cell-6f326d0825f9f749",
     "locked": false,
     "schema_version": 3,
     "solution": true,
     "task": false
    }
   },
   "outputs": [
    {
     "name": "stdout",
     "output_type": "stream",
     "text": [
      "32\n"
     ]
    }
   ],
   "source": [
    "# YOUR CODE HERE\n",
    "\n",
    "merge_sort_min = lambda n: n * 2 ** (n - 1)\n",
    "\n",
    "# quick test\n",
    "print(merge_sort_min(4))"
   ]
  },
  {
   "cell_type": "code",
   "execution_count": 61,
   "id": "943dadb2",
   "metadata": {
    "deletable": false,
    "editable": false,
    "nbgrader": {
     "cell_type": "code",
     "checksum": "fe3e4a40104f9979623614ea33c5d040",
     "grade": true,
     "grade_id": "cell-69ef9e70d14bf4bc",
     "locked": true,
     "points": 1,
     "schema_version": 3,
     "solution": false,
     "task": false
    }
   },
   "outputs": [
    {
     "name": "stdout",
     "output_type": "stream",
     "text": [
      "The lambda-expression merge_sort_min seems to return the correct numbers\n",
      "The lambda-expression merge_sort_min seems to return ints\n",
      "Test passed!\n"
     ]
    },
    {
     "data": {
      "text/plain": "1"
     },
     "execution_count": 61,
     "metadata": {},
     "output_type": "execute_result"
    }
   ],
   "source": [
    "# 1 Mark\n",
    "# Do not try to delete this cell\n",
    "# Run this cell for grading\n",
    "_globals = globals()\n",
    "question3iid(_globals)"
   ]
  },
  {
   "cell_type": "markdown",
   "id": "9d23639c",
   "metadata": {
    "deletable": false,
    "editable": false,
    "nbgrader": {
     "cell_type": "markdown",
     "checksum": "2a7502ee5dcc5f86bf05136de403e360",
     "grade": false,
     "grade_id": "cell-369b0227cc7ca871",
     "locked": true,
     "schema_version": 3,
     "solution": false,
     "task": false
    }
   },
   "source": [
    "(e) <b>This is also genuinely tricky</b>. In the worst case, how many comparisons are necessary in order to merge sort a list of length $2^m$? Give your answer as a lambda-expression called `merge_sort_max`."
   ]
  },
  {
   "cell_type": "code",
   "execution_count": 62,
   "id": "e5049284",
   "metadata": {
    "deletable": false,
    "nbgrader": {
     "cell_type": "code",
     "checksum": "60f895cf1f0ed068e65900f82a31e545",
     "grade": false,
     "grade_id": "cell-bb524909efbae5a1",
     "locked": false,
     "schema_version": 3,
     "solution": true,
     "task": false
    }
   },
   "outputs": [
    {
     "name": "stdout",
     "output_type": "stream",
     "text": [
      "49\n"
     ]
    }
   ],
   "source": [
    "merge_sort_max = lambda m: (m - 1) * 2 ** m + 1\n",
    "# quick test\n",
    "print(merge_sort_max(4))"
   ]
  },
  {
   "cell_type": "code",
   "execution_count": 63,
   "id": "889c18ba",
   "metadata": {
    "deletable": false,
    "editable": false,
    "nbgrader": {
     "cell_type": "code",
     "checksum": "6bf7070ee8876200d4b034ec1d00849f",
     "grade": true,
     "grade_id": "cell-dfe1f9828a3d0f07",
     "locked": true,
     "points": 1,
     "schema_version": 3,
     "solution": false,
     "task": false
    }
   },
   "outputs": [
    {
     "name": "stdout",
     "output_type": "stream",
     "text": [
      "The lambda-expression merge_sort_max seems to return the correct numbers\n",
      "The lambda-expression merge_sort_max seems to return ints\n",
      "Test passed!\n"
     ]
    },
    {
     "data": {
      "text/plain": "1"
     },
     "execution_count": 63,
     "metadata": {},
     "output_type": "execute_result"
    }
   ],
   "source": [
    "# 1 Mark\n",
    "# Do not try to delete this cell\n",
    "# Run this cell for grading\n",
    "_globals = globals()\n",
    "question3iie(_globals)"
   ]
  },
  {
   "cell_type": "markdown",
   "id": "8a903b63",
   "metadata": {
    "deletable": false,
    "editable": false,
    "nbgrader": {
     "cell_type": "markdown",
     "checksum": "2665772d392faf4e1339eacc00f209bc",
     "grade": false,
     "grade_id": "cell-5c4ff0615fa70858",
     "locked": true,
     "schema_version": 3,
     "solution": false,
     "task": false
    }
   },
   "source": [
    "(f) Which of the following is true:\n",
    "\n",
    "<ol>\n",
    "    <li>Merge sort is $\\Theta(n)$.</li>\n",
    "    <li>Merge sort is $\\Theta(n\\,\\log n)$.</li>\n",
    "    <li>Merge sort is $\\Theta(n^2)$.</li>\n",
    "    <li>Merge sort is $\\Theta(2^n)$.</li>\n",
    "    <li>Merge sort is $\\Theta(n\\times2^n)$.</li>\n",
    "    <li>None of the above.</li>\n",
    "</ol>"
   ]
  },
  {
   "cell_type": "code",
   "execution_count": 64,
   "id": "9e6583f6",
   "metadata": {
    "deletable": false,
    "nbgrader": {
     "cell_type": "code",
     "checksum": "16d0186c81051f56c26d8f5742928338",
     "grade": false,
     "grade_id": "cell-06bca642bce2ff30",
     "locked": false,
     "schema_version": 3,
     "solution": true,
     "task": false
    }
   },
   "outputs": [],
   "source": [
    "q3iif_answer = 2"
   ]
  },
  {
   "cell_type": "code",
   "execution_count": 65,
   "id": "9726cd36",
   "metadata": {
    "deletable": false,
    "editable": false,
    "nbgrader": {
     "cell_type": "code",
     "checksum": "10c01c1183eea4ca2615dab22cfb8097",
     "grade": true,
     "grade_id": "cell-e4c65eaa0651265b",
     "locked": true,
     "points": 1,
     "schema_version": 3,
     "solution": false,
     "task": false
    }
   },
   "outputs": [
    {
     "name": "stdout",
     "output_type": "stream",
     "text": [
      "test case passed!\n"
     ]
    }
   ],
   "source": [
    "# 1 Mark\n",
    "assert (q3iif_answer == question3iif())\n",
    "print('test case passed!')"
   ]
  },
  {
   "cell_type": "markdown",
   "id": "2b3fcf6e",
   "metadata": {
    "deletable": false,
    "editable": false,
    "nbgrader": {
     "cell_type": "markdown",
     "checksum": "8c2119175867d8bf462c0c7c914f2e60",
     "grade": false,
     "grade_id": "cell-8fa478d7e948aa20",
     "locked": true,
     "schema_version": 3,
     "solution": false,
     "task": false
    }
   },
   "source": [
    "### (iii) \n",
    "\n",
    "(a) Introduce a `comparison_count` into your `merge` function, and use it to test your answers to (b), (c), (d), (e) and (f) above. (Autograding won't help with all that testing, sadly, but please do carry it out.)\n",
    "\n",
    "Be sure only to count actual comparisons of data items (and not, for example, index checks to test whether a buffer has been used up yet)."
   ]
  },
  {
   "cell_type": "code",
   "execution_count": 66,
   "id": "41129d28",
   "metadata": {
    "deletable": false,
    "nbgrader": {
     "cell_type": "code",
     "checksum": "bc4048ccf1418325c22ddaeec8b2ad93",
     "grade": false,
     "grade_id": "cell-5e783663f1cad858",
     "locked": false,
     "schema_version": 3,
     "solution": true,
     "task": false
    }
   },
   "outputs": [],
   "source": [
    "# cell for defining your function\n",
    "\n",
    "def merge(left_buffer, right_buffer, data):\n",
    "    '''...'''\n",
    "    left_len = len(left_buffer)\n",
    "    right_len = len(right_buffer)\n",
    "    left_idx, right_idx = 0, 0\n",
    "\n",
    "    global comparison_count\n",
    "\n",
    "    while left_idx < left_len or right_idx < right_len:\n",
    "        length = left_idx + right_idx\n",
    "\n",
    "        if left_idx >= left_len:\n",
    "            data[length] = right_buffer[right_idx]\n",
    "            right_idx += 1\n",
    "        elif right_idx >= right_len:\n",
    "            data[length] = left_buffer[left_idx]\n",
    "            left_idx += 1\n",
    "        else:\n",
    "            comparison_count += 1\n",
    "            if left_buffer[left_idx] > right_buffer[right_idx]:\n",
    "\n",
    "                data[length] = right_buffer[right_idx]\n",
    "                right_idx += 1\n",
    "            else:\n",
    "                data[length] = left_buffer[left_idx]\n",
    "                left_idx += 1\n",
    "\n"
   ]
  },
  {
   "cell_type": "code",
   "execution_count": 67,
   "id": "e3028987",
   "metadata": {
    "deletable": false,
    "editable": false,
    "nbgrader": {
     "cell_type": "code",
     "checksum": "8105abd7b8537b5754f5c00836fbbbd0",
     "grade": true,
     "grade_id": "cell-d4d6ef12e4d93202",
     "locked": true,
     "points": 3,
     "schema_version": 3,
     "solution": false,
     "task": false
    }
   },
   "outputs": [
    {
     "name": "stdout",
     "output_type": "stream",
     "text": [
      "merge_sort seems to sort lists correctly\n",
      "Your function requires exactly the same number of comparisons as ours\n",
      "Your function seems to have a docstring\n",
      "3 out of 3\n"
     ]
    },
    {
     "data": {
      "text/plain": "3"
     },
     "execution_count": 67,
     "metadata": {},
     "output_type": "execute_result"
    }
   ],
   "source": [
    "# 3 Marks\n",
    "# Do not try to delete this cell\n",
    "# Run this cell for grading\n",
    "_globals = globals()\n",
    "question3iiiafunc(_globals)"
   ]
  },
  {
   "cell_type": "code",
   "execution_count": 68,
   "id": "69dce250",
   "metadata": {
    "deletable": false,
    "nbgrader": {
     "cell_type": "code",
     "checksum": "95be4b14cd988d13e4ebd50f31fb1de5",
     "grade": false,
     "grade_id": "cell-9012d33cf5cfb424",
     "locked": false,
     "schema_version": 3,
     "solution": true,
     "task": false
    }
   },
   "outputs": [
    {
     "name": "stdout",
     "output_type": "stream",
     "text": [
      "[3, 34, 12, 22, 27, 17, 31, 29, 40, 24, 21, 19, 7, 18, 26, 5]\n",
      "[3, 5, 7, 12, 17, 18, 19, 21, 22, 24, 26, 27, 29, 31, 34, 40]\n",
      "47\n"
     ]
    }
   ],
   "source": [
    "data = copy(masterList)\n",
    "print(masterList)\n",
    "comparison_count = 0\n",
    "merge_sort(data)\n",
    "print(data)\n",
    "print(comparison_count)"
   ]
  },
  {
   "cell_type": "code",
   "execution_count": 69,
   "id": "43f0dfcf",
   "metadata": {
    "deletable": false,
    "editable": false,
    "nbgrader": {
     "cell_type": "code",
     "checksum": "fdaf3c8a986ab5ba4023417286233582",
     "grade": true,
     "grade_id": "cell-b751a3fcb95b26c5",
     "locked": true,
     "points": 2,
     "schema_version": 3,
     "solution": false,
     "task": false
    }
   },
   "outputs": [
    {
     "name": "stdout",
     "output_type": "stream",
     "text": [
      "data has been sorted correctly\n",
      "Your function requires exactly the same number of comparisons as ours\n",
      "2 out of 2\n"
     ]
    },
    {
     "data": {
      "text/plain": "2"
     },
     "execution_count": 69,
     "metadata": {},
     "output_type": "execute_result"
    }
   ],
   "source": [
    "# 2 Marks\n",
    "# Do not try to delete this cell\n",
    "# Run this cell for grading\n",
    "_globals = globals()\n",
    "question3iiiatest(_globals)"
   ]
  },
  {
   "cell_type": "markdown",
   "id": "85e2914c",
   "metadata": {
    "deletable": false,
    "editable": false,
    "nbgrader": {
     "cell_type": "markdown",
     "checksum": "be542b9d7f310b1d7147e5e9cd4f5594",
     "grade": false,
     "grade_id": "cell-2c99726261eb0287",
     "locked": true,
     "schema_version": 3,
     "solution": false,
     "task": false
    }
   },
   "source": [
    "(b) Find an example of a data list of length 16 that needs the fewest possible comparisons using merge sort."
   ]
  },
  {
   "cell_type": "code",
   "execution_count": 70,
   "id": "584763c3",
   "metadata": {
    "deletable": false,
    "nbgrader": {
     "cell_type": "code",
     "checksum": "d45753fdeb62d3d2609156bd268cfbeb",
     "grade": false,
     "grade_id": "cell-d88a0a548f05d8ab",
     "locked": false,
     "schema_version": 3,
     "solution": true,
     "task": false
    }
   },
   "outputs": [],
   "source": [
    "merge_sort_length16_bestcase = list(range(16))"
   ]
  },
  {
   "cell_type": "code",
   "execution_count": 71,
   "id": "bebde945",
   "metadata": {
    "deletable": false,
    "editable": false,
    "nbgrader": {
     "cell_type": "code",
     "checksum": "7c39d84a04788a6763cede6f67d3712d",
     "grade": true,
     "grade_id": "cell-dfed020fc8d336a2",
     "locked": true,
     "points": 1,
     "schema_version": 3,
     "solution": false,
     "task": false
    }
   },
   "outputs": [
    {
     "name": "stdout",
     "output_type": "stream",
     "text": [
      "We agree: this seems to be a good 'best case'\n",
      "Test passed!\n"
     ]
    },
    {
     "data": {
      "text/plain": "1"
     },
     "execution_count": 71,
     "metadata": {},
     "output_type": "execute_result"
    }
   ],
   "source": [
    "# 1 Mark\n",
    "# Do not try to delete this cell\n",
    "# Run this cell for grading\n",
    "_globals = globals()\n",
    "question3iiib(_globals)"
   ]
  },
  {
   "cell_type": "markdown",
   "id": "43b32a2a",
   "metadata": {
    "deletable": false,
    "editable": false,
    "nbgrader": {
     "cell_type": "markdown",
     "checksum": "35c7ceb7d1fa4e46bacdd25519e8b8da",
     "grade": false,
     "grade_id": "cell-29f2ce7c00ed4586",
     "locked": true,
     "schema_version": 3,
     "solution": false,
     "task": false
    }
   },
   "source": [
    "(c) <b>Yet another genuinely tricky one</b>: find an example of a data list of length 16 that needs the most possible comparisons using merge sort."
   ]
  },
  {
   "cell_type": "code",
   "execution_count": 72,
   "id": "3ba6b243",
   "metadata": {
    "deletable": false,
    "nbgrader": {
     "cell_type": "code",
     "checksum": "5462618dcb0e50891eb62886b1ed824f",
     "grade": false,
     "grade_id": "cell-df8754ecb97b3316",
     "locked": false,
     "schema_version": 3,
     "solution": true,
     "task": false
    }
   },
   "outputs": [],
   "source": [
    "# YOUR CODE HERE\n",
    "import math\n",
    "\n",
    "\n",
    "def worstCaseArrayOfSize(n):\n",
    "    if n == 1:\n",
    "        return [1]\n",
    "    else:\n",
    "        top = worstCaseArrayOfSize(int(math.floor(float(n) / 2)))\n",
    "        bottom = worstCaseArrayOfSize(int(math.ceil(float(n) / 2)))\n",
    "        return list(map(lambda x: x * 2, top)) + list(map(lambda x: x * 2 - 1, bottom))\n",
    "\n",
    "\n",
    "merge_sort_length16_worstcase = worstCaseArrayOfSize(16)"
   ]
  },
  {
   "cell_type": "markdown",
   "source": [],
   "metadata": {
    "collapsed": false
   }
  },
  {
   "cell_type": "code",
   "execution_count": 73,
   "id": "6a1610e8",
   "metadata": {
    "deletable": false,
    "editable": false,
    "nbgrader": {
     "cell_type": "code",
     "checksum": "915fe806733db7bf5d26fd8b84058784",
     "grade": true,
     "grade_id": "cell-2d52fecafa3bcf81",
     "locked": true,
     "points": 1,
     "schema_version": 3,
     "solution": false,
     "task": false
    }
   },
   "outputs": [
    {
     "name": "stdout",
     "output_type": "stream",
     "text": [
      "We agree: this seems to be a good 'worst case'\n",
      "Test passed!\n"
     ]
    },
    {
     "data": {
      "text/plain": "1"
     },
     "execution_count": 73,
     "metadata": {},
     "output_type": "execute_result"
    }
   ],
   "source": [
    "# 1 Mark\n",
    "# Do not try to delete this cell\n",
    "# Run this cell for grading\n",
    "_globals = globals()\n",
    "question3iiic(_globals)"
   ]
  },
  {
   "cell_type": "markdown",
   "id": "19fbc180",
   "metadata": {
    "deletable": false,
    "editable": false,
    "nbgrader": {
     "cell_type": "markdown",
     "checksum": "a01555bfe679f1ee8b387cbba311bfbe",
     "grade": false,
     "grade_id": "cell-60692bdf8d66e00f",
     "locked": true,
     "schema_version": 3,
     "solution": false,
     "task": false
    }
   },
   "source": [
    "## Question 4 (Bonus Question)\n",
    "\n",
    "This question refers back to the Bonus Question from Term 1, Week 7, which is on finding Pythagorean triples with a given total. Here are four listings, representing steadily better and better solutions to that challenge. This cell is editable."
   ]
  },
  {
   "cell_type": "code",
   "execution_count": 74,
   "id": "3c6d7f64",
   "metadata": {},
   "outputs": [],
   "source": [
    "def pyTriple0(total):\n",
    "    for a in range(1, total - 1):\n",
    "        for b in range(1, total - 1):\n",
    "            for c in range(1, total - 1):\n",
    "                if a + b + c == total and a ** 2 + b ** 2 == c ** 2:\n",
    "                    return a, b, c, a * b * c\n",
    "    return 'No pythagorean triple satisfies that total'\n",
    "\n",
    "\n",
    "def pyTriple1(total):\n",
    "    for c in range(5, total - 6):\n",
    "        for a in range(3, min(c - 1, (total - c) // 2)):\n",
    "            b = total - a - c\n",
    "            if a ** 2 + b ** 2 == c ** 2:\n",
    "                return a, b, c, a * b * c\n",
    "    return 'No pythagorean triple satisfies that total'\n",
    "\n",
    "\n",
    "def pyTriple2(total):\n",
    "    for r in range(2, total // 3, 2):\n",
    "        st = (r ** 2) // 2\n",
    "        facs = factors(st)\n",
    "        for facpair in facs:\n",
    "            s, t = facpair\n",
    "            a, b, c = r + s, r + t, r + s + t\n",
    "            if a + b + c == total:\n",
    "                return a, b, c, a * b * c\n",
    "    return 'No pythagorean triple satisfies that total'\n",
    "\n",
    "\n",
    "def factors(n):\n",
    "    from math import sqrt\n",
    "    facs = []\n",
    "    for i in range(1, int(sqrt(n)) + 1):\n",
    "        if n % i == 0:\n",
    "            facs.append((i, n // i))\n",
    "    return facs\n",
    "\n",
    "\n",
    "def pyTriple3(total):\n",
    "    from math import sqrt\n",
    "    for r in range(2, total // 3, 2):\n",
    "        discrim = r ** 2 - 6 * r * total + total ** 2\n",
    "        sd = int(sqrt(abs(discrim)))\n",
    "        if sd ** 2 != discrim:\n",
    "            continue\n",
    "        else:\n",
    "            s4, t4 = total - 3 * r - sd, total - 3 * r + sd\n",
    "            if t4 % 4 > 0 or s4 % 4 > 0:\n",
    "                continue\n",
    "            else:\n",
    "                s, t = s4 // 4, t4 // 4\n",
    "                a, b, c = r + s, r + t, r + s + t\n",
    "                return a, b, c, a * b * c\n",
    "    return 'No pythagorean triple satisfies that total'"
   ]
  },
  {
   "cell_type": "markdown",
   "id": "6393ef4b",
   "metadata": {
    "deletable": false,
    "editable": false,
    "nbgrader": {
     "cell_type": "markdown",
     "checksum": "81082e66c489457afbe27d750f9b8393",
     "grade": false,
     "grade_id": "cell-9bfeebd57cae9ae6",
     "locked": true,
     "schema_version": 3,
     "solution": false,
     "task": false
    }
   },
   "source": [
    "In the case of all four solutions, the worst case is usually the case where no Pythagorean triple exists; there may occasionally be \"worst case\" behaviour in which the triple is found right at the end of the iteration, but we can ignore these relatively rare examples for the purposes of our analysis.\n",
    "\n",
    "(a) For each solution, reasoning from first principles, find the \"big O\" dependence of the number of iterations performed by each algorithm on the given total, $n$. \n",
    "\n",
    "Give each as a lambda-expression in $n$, named respectively `pyTriple0_bigO`, `pyTriple1_bigO`, `pyTriple2_bigO` and `pyTriple3_bigO`; thus, if you thought `pyTriple0` was $O(n\\log n)$, you would type\n",
    "```python\n",
    "pyTriple0_bigO = lambda n: n * log(n)\n",
    "```"
   ]
  },
  {
   "cell_type": "code",
   "execution_count": 78,
   "id": "6a347ba2",
   "metadata": {
    "deletable": false,
    "nbgrader": {
     "cell_type": "code",
     "checksum": "0efa87fc9130e0a395bee1c6d3cfdd1b",
     "grade": false,
     "grade_id": "cell-f83f3044b8fd72da",
     "locked": false,
     "schema_version": 3,
     "solution": true,
     "task": false
    }
   },
   "outputs": [
    {
     "name": "stdout",
     "output_type": "stream",
     "text": [
      "[1, 8, 27, 64, 125, 216, 343, 512, 729]\n",
      "[1, 4, 9, 16, 25, 36, 49, 64, 81]\n",
      "[1, 4, 9, 16, 25, 36, 49, 64, 81]\n",
      "[1, 2, 3, 4, 5, 6, 7, 8, 9]\n"
     ]
    }
   ],
   "source": [
    "# YOUR CODE HERE\n",
    "pyTriple0_bigO = lambda n: n**3\n",
    "pyTriple1_bigO = lambda n: n**2\n",
    "pyTriple2_bigO = lambda n: n**2\n",
    "pyTriple3_bigO = lambda n: n\n",
    "\n",
    "print([pyTriple0_bigO(n) for n in range(1, 10)])\n",
    "print([pyTriple1_bigO(n) for n in range(1, 10)])\n",
    "print([pyTriple2_bigO(n) for n in range(1, 10)])\n",
    "print([pyTriple3_bigO(n) for n in range(1, 10)])"
   ]
  },
  {
   "cell_type": "code",
   "execution_count": 79,
   "id": "a0772823",
   "metadata": {
    "deletable": false,
    "editable": false,
    "nbgrader": {
     "cell_type": "code",
     "checksum": "f38387cee739ca3025432542df758fd0",
     "grade": true,
     "grade_id": "cell-6dc0da60640a783f",
     "locked": true,
     "points": 4,
     "schema_version": 3,
     "solution": false,
     "task": false
    }
   },
   "outputs": [
    {
     "name": "stdout",
     "output_type": "stream",
     "text": [
      "Your definition of pyTriple0_bigO works as a lambda-expression.\n",
      "Your definition of pyTriple0_bigO gives broadly the right big O dependence.\n",
      "You have given the big O dependence in as simple a form as possible; well done.\n",
      "Score for pyTriple0_bigO: 1\n",
      "\n",
      "Your definition of pyTriple1_bigO works as a lambda-expression.\n",
      "Your definition of pyTriple1_bigO gives broadly the right big O dependence.\n",
      "You have given the big O dependence in as simple a form as possible; well done.\n",
      "Score for pyTriple1_bigO: 1\n",
      "\n",
      "Your definition of pyTriple2_bigO works as a lambda-expression.\n",
      "Your definition of pyTriple2_bigO gives broadly the right big O dependence.\n",
      "You have given the big O dependence in as simple a form as possible; well done.\n",
      "Score for pyTriple2_bigO: 1\n",
      "\n",
      "Your definition of pyTriple3_bigO works as a lambda-expression.\n",
      "Your definition of pyTriple3_bigO gives broadly the right big O dependence.\n",
      "You have given the big O dependence in as simple a form as possible; well done.\n",
      "Score for pyTriple3_bigO: 1\n",
      "\n",
      "4 out of 4\n"
     ]
    },
    {
     "data": {
      "text/plain": "4"
     },
     "execution_count": 79,
     "metadata": {},
     "output_type": "execute_result"
    }
   ],
   "source": [
    "# 4 Marks\n",
    "# Do not try to delete this cell\n",
    "# Run this cell for grading\n",
    "_globals = globals()\n",
    "question4a(_globals)"
   ]
  },
  {
   "cell_type": "markdown",
   "id": "d7c13295",
   "metadata": {
    "deletable": false,
    "editable": false,
    "nbgrader": {
     "cell_type": "markdown",
     "checksum": "c1639f8c706801857d59d6a9b240d059",
     "grade": false,
     "grade_id": "cell-722e2158c1648481",
     "locked": true,
     "schema_version": 3,
     "solution": false,
     "task": false
    }
   },
   "source": [
    "(b) For values of $n$ between $12$ and $102$ inclusive, in steps of $2$, create two lists:\n",
    "<ul><li><code>n_values0</code>, consisting of all those values of the total $n$ for which <code>pyTriple0</code> finds no triple, and therefore exhibits worst-case behaviour;</li>\n",
    "<li><code>iteration_counts0</code>, consisting of all the corresponding iteration counts.</li>\n",
    "</ul>"
   ]
  },
  {
   "cell_type": "code",
   "execution_count": null,
   "id": "098f10b8",
   "metadata": {
    "deletable": false,
    "nbgrader": {
     "cell_type": "code",
     "checksum": "94e0adf863949fa9ee5befe34202553b",
     "grade": false,
     "grade_id": "cell-89c5a9d409a6ec94",
     "locked": false,
     "schema_version": 3,
     "solution": true,
     "task": false
    }
   },
   "outputs": [],
   "source": [
    "# YOUR CODE HERE\n",
    "raise NotImplementedError()\n",
    "print(n_values0)\n",
    "print(iteration_counts0)"
   ]
  },
  {
   "cell_type": "code",
   "execution_count": null,
   "id": "6455949a",
   "metadata": {
    "deletable": false,
    "editable": false,
    "nbgrader": {
     "cell_type": "code",
     "checksum": "f4ff76866e508abb4b300f6582b37c8f",
     "grade": true,
     "grade_id": "cell-343bdec2e462f10c",
     "locked": true,
     "points": 1,
     "schema_version": 3,
     "solution": false,
     "task": false
    }
   },
   "outputs": [],
   "source": [
    "# 1 Mark\n",
    "# Do not try to delete this cell\n",
    "# Run this cell for grading\n",
    "_globals = globals()\n",
    "question4b(_globals)"
   ]
  },
  {
   "cell_type": "markdown",
   "id": "c7336d54",
   "metadata": {
    "deletable": false,
    "editable": false,
    "nbgrader": {
     "cell_type": "markdown",
     "checksum": "19f1bfb2b51901c86b0bbb1fed2a4a46",
     "grade": false,
     "grade_id": "cell-ce9585a90c65d863",
     "locked": true,
     "schema_version": 3,
     "solution": false,
     "task": false
    }
   },
   "source": [
    "(c) Plot `log(iteration_counts0)` (on the vertical axis) against `log(n_values0)` (on the horizontal axis), and superimpose a plot of `3*log(n_values0)` against `log(n_values0)`. "
   ]
  },
  {
   "cell_type": "code",
   "execution_count": null,
   "id": "24ef525d",
   "metadata": {
    "deletable": false,
    "nbgrader": {
     "cell_type": "code",
     "checksum": "89914cd8cc8f87773116fbbc25b37071",
     "grade": false,
     "grade_id": "cell-c87ecbccdff828ab",
     "locked": false,
     "schema_version": 3,
     "solution": true,
     "task": false
    }
   },
   "outputs": [],
   "source": [
    "fig, ax = plt.subplots()\n",
    "# YOUR CODE HERE\n",
    "raise NotImplementedError()"
   ]
  },
  {
   "cell_type": "code",
   "execution_count": null,
   "id": "755db384",
   "metadata": {
    "deletable": false,
    "editable": false,
    "nbgrader": {
     "cell_type": "code",
     "checksum": "21809286a2db2f8241e2824197dc50d9",
     "grade": true,
     "grade_id": "cell-eff6d83b640d0d46",
     "locked": true,
     "points": 1,
     "schema_version": 3,
     "solution": false,
     "task": false
    }
   },
   "outputs": [],
   "source": [
    "# 1 Mark\n",
    "# Do not try to delete this cell\n",
    "# Run this cell for grading\n",
    "_globals = globals()\n",
    "question4c(_globals)"
   ]
  },
  {
   "cell_type": "markdown",
   "id": "42c7993d",
   "metadata": {
    "deletable": false,
    "editable": false,
    "nbgrader": {
     "cell_type": "markdown",
     "checksum": "67d3eb31c3826bd715994a731a29e7c8",
     "grade": false,
     "grade_id": "cell-7cfe5502b7d6f0f9",
     "locked": true,
     "schema_version": 3,
     "solution": false,
     "task": false
    }
   },
   "source": [
    "(d) Write a brief sentence explaining how this plot provides numerical evidence of the \"big-O\" dependence of `pyTriple0` on `n`. Autograder can't help here."
   ]
  },
  {
   "cell_type": "markdown",
   "id": "52da652b",
   "metadata": {
    "deletable": false,
    "nbgrader": {
     "cell_type": "markdown",
     "checksum": "5170dd8cdd2ee818cafd4bf475a26d66",
     "grade": true,
     "grade_id": "cell-b9eefe1ec2846de8",
     "locked": false,
     "points": 0,
     "schema_version": 3,
     "solution": true,
     "task": false
    }
   },
   "source": [
    "YOUR ANSWER HERE"
   ]
  },
  {
   "cell_type": "markdown",
   "id": "ca1af959",
   "metadata": {
    "deletable": false,
    "editable": false,
    "nbgrader": {
     "cell_type": "markdown",
     "checksum": "9b36405d81f75faad6732435724edda2",
     "grade": false,
     "grade_id": "cell-dd3932ed566aa6e0",
     "locked": true,
     "schema_version": 3,
     "solution": false,
     "task": false
    }
   },
   "source": [
    "(e) Perform similar analyses of the other three algorithms. In the case of `pyTriple1` and `pyTriple2`, use values of `n` between 102 and 1002 inclusive, in steps of 20. In the case of `pyTriple3`, use values of `n` between 1002 and 10002 inclusive, in steps of 200. Create log-log plots each time, and superimpose a suitable plot to illustrate the \"big O\" order."
   ]
  },
  {
   "cell_type": "code",
   "execution_count": null,
   "id": "6f27984f",
   "metadata": {
    "deletable": false,
    "nbgrader": {
     "cell_type": "code",
     "checksum": "d3ca5e166ea96ddda1708e74191116c7",
     "grade": false,
     "grade_id": "cell-8ddf43d900e200d3",
     "locked": false,
     "schema_version": 3,
     "solution": true,
     "task": false
    }
   },
   "outputs": [],
   "source": [
    "# Analysis of pyTriple1\n",
    "fig, ax = plt.subplots()\n",
    "# YOUR CODE HERE\n",
    "raise NotImplementedError()\n",
    "print(n_values1)\n",
    "print(iteration_counts1)"
   ]
  },
  {
   "cell_type": "code",
   "execution_count": null,
   "id": "7b39fedc",
   "metadata": {
    "deletable": false,
    "editable": false,
    "nbgrader": {
     "cell_type": "code",
     "checksum": "4ec3e8a40a933bb1ad3e0d4c2fb6b139",
     "grade": true,
     "grade_id": "cell-464136f0450c53fe",
     "locked": true,
     "points": 2,
     "schema_version": 3,
     "solution": false,
     "task": false
    }
   },
   "outputs": [],
   "source": [
    "# 2 Marks\n",
    "# Do not try to delete this cell\n",
    "# Run this cell for grading\n",
    "_globals = globals()\n",
    "question4e_1(_globals)"
   ]
  },
  {
   "cell_type": "code",
   "execution_count": null,
   "id": "ce4059d5",
   "metadata": {
    "deletable": false,
    "nbgrader": {
     "cell_type": "code",
     "checksum": "e914ab68b3717c0fe75f17db656e911c",
     "grade": false,
     "grade_id": "cell-80923571be3ac569",
     "locked": false,
     "schema_version": 3,
     "solution": true,
     "task": false
    }
   },
   "outputs": [],
   "source": [
    "# Analysis of pyTriple2\n",
    "fig, ax = plt.subplots()\n",
    "# YOUR CODE HERE\n",
    "raise NotImplementedError()\n",
    "print(n_values2)\n",
    "print(iteration_counts2)"
   ]
  },
  {
   "cell_type": "code",
   "execution_count": null,
   "id": "62d4aac6",
   "metadata": {
    "deletable": false,
    "editable": false,
    "nbgrader": {
     "cell_type": "code",
     "checksum": "4b369f90e2512f97c41479eda45a175e",
     "grade": true,
     "grade_id": "cell-ae095bda5f88984e",
     "locked": true,
     "points": 2,
     "schema_version": 3,
     "solution": false,
     "task": false
    }
   },
   "outputs": [],
   "source": [
    "# 2 Marks\n",
    "# Do not try to delete this cell\n",
    "# Run this cell for grading\n",
    "_globals = globals()\n",
    "question4e_2(_globals)"
   ]
  },
  {
   "cell_type": "code",
   "execution_count": null,
   "id": "2926f795",
   "metadata": {
    "deletable": false,
    "nbgrader": {
     "cell_type": "code",
     "checksum": "592b24584af4e5f612ffc79fd0c61ce0",
     "grade": false,
     "grade_id": "cell-4334cc27942bf81c",
     "locked": false,
     "schema_version": 3,
     "solution": true,
     "task": false
    }
   },
   "outputs": [],
   "source": [
    "# Analysis of pyTriple3\n",
    "fig, ax = plt.subplots()\n",
    "# YOUR CODE HERE\n",
    "raise NotImplementedError()\n",
    "print(n_values3)\n",
    "print(iteration_counts3)"
   ]
  },
  {
   "cell_type": "code",
   "execution_count": null,
   "id": "0171ea76",
   "metadata": {
    "deletable": false,
    "editable": false,
    "nbgrader": {
     "cell_type": "code",
     "checksum": "5bd6d59db441d6b9963bce55aecad6bd",
     "grade": true,
     "grade_id": "cell-d4bb8b90e190469a",
     "locked": true,
     "points": 2,
     "schema_version": 3,
     "solution": false,
     "task": false
    }
   },
   "outputs": [],
   "source": [
    "# 2 Marks\n",
    "# Do not try to delete this cell\n",
    "# Run this cell for grading\n",
    "_globals = globals()\n",
    "question4e_3(_globals)"
   ]
  },
  {
   "cell_type": "markdown",
   "id": "12d28c7b",
   "metadata": {
    "deletable": false,
    "editable": false,
    "nbgrader": {
     "cell_type": "markdown",
     "checksum": "1d531e80ce2acece60b1b1ec436366e7",
     "grade": false,
     "grade_id": "cell-ce1dd34b0f3efef9",
     "locked": true,
     "schema_version": 3,
     "solution": false,
     "task": false
    }
   },
   "source": [
    "## Additional stuff to do if you get time.\n",
    "\n",
    "Try out your three sorting algorithms, plus selection sort, on genuinely large data lists, such as 10000 randomly-generated floats.\n",
    "\n",
    "Investigate `quicksort` and `shellsort`, which you can also see animations of. In each case: how does the algorithm work, what is its best-case and worst-case performance, can you implement it?\n",
    "\n",
    "Find out about Python's sort algorithm, `timsort`."
   ]
  },
  {
   "cell_type": "code",
   "execution_count": null,
   "id": "d2bcb713",
   "metadata": {},
   "outputs": [],
   "source": []
  }
 ],
 "metadata": {
  "kernelspec": {
   "display_name": "Python 3 (ipykernel)",
   "language": "python",
   "name": "python3"
  },
  "language_info": {
   "codemirror_mode": {
    "name": "ipython",
    "version": 3
   },
   "file_extension": ".py",
   "mimetype": "text/x-python",
   "name": "python",
   "nbconvert_exporter": "python",
   "pygments_lexer": "ipython3",
   "version": "3.10.12"
  }
 },
 "nbformat": 4,
 "nbformat_minor": 5
}
