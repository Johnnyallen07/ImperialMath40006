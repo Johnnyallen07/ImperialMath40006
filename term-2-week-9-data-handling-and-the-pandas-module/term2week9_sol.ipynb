{
 "cells": [
  {
   "cell_type": "code",
   "execution_count": 3,
   "id": "organized-slovakia",
   "metadata": {},
   "outputs": [],
   "source": [
    "from autograder_term2week9 import *\n",
    "import pandas as pd\n",
    "import numpy as np\n",
    "from copy import copy\n",
    "%matplotlib inline"
   ]
  },
  {
   "cell_type": "markdown",
   "id": "proud-remains",
   "metadata": {
    "deletable": false,
    "editable": false,
    "nbgrader": {
     "cell_type": "markdown",
     "checksum": "8a9bedd751f90f009828d60264fabe07",
     "grade": false,
     "grade_id": "cell-80e4721082798cb7",
     "locked": true,
     "schema_version": 3,
     "solution": false,
     "task": false
    }
   },
   "source": [
    "# <center> Introduction to Mathematical Computing </center>\n",
    "### <center>Phil Ramsden, Boumediene Hamzi, Sam Brzezicki, Matt Woolway</center>\n",
    "\n",
    "# <center> Data Handling and the pandas Module</center>"
   ]
  },
  {
   "cell_type": "markdown",
   "id": "c923b940",
   "metadata": {
    "deletable": false,
    "editable": false,
    "nbgrader": {
     "cell_type": "markdown",
     "checksum": "5cbbed0fddb42e310121e26921a754f7",
     "grade": false,
     "grade_id": "cell-e7d89a384a3ac388",
     "locked": true,
     "schema_version": 3,
     "solution": false,
     "task": false
    }
   },
   "source": [
    "## Question 0: don't miss this bit!\n",
    "\n",
    "In the file called `my_username.txt`, type your <b>short-form College user name</b> (this will usually be one or more letters followed by three or more figures, such as qk4019). Don't use quote marks. Then save the file."
   ]
  },
  {
   "cell_type": "code",
   "execution_count": 4,
   "id": "ffe762e3",
   "metadata": {
    "deletable": false,
    "editable": false,
    "nbgrader": {
     "cell_type": "code",
     "checksum": "808282535d8112ddc31528f729a398fc",
     "grade": true,
     "grade_id": "cell-4a5f427535edcb49",
     "locked": true,
     "points": 5,
     "schema_version": 3,
     "solution": false,
     "task": false
    }
   },
   "outputs": [
    {
     "name": "stdout",
     "output_type": "stream",
     "text": [
      "You've changed the contents of the file; thank you!\n",
      "Your username has been recognised; thank you!\n",
      "\n",
      "5 out of 5 marks\n"
     ]
    },
    {
     "data": {
      "text/plain": "5"
     },
     "execution_count": 4,
     "metadata": {},
     "output_type": "execute_result"
    }
   ],
   "source": [
    "# 5 Marks\n",
    "# Do not try to delete this cell\n",
    "# Run this cell for grading of Question 0\n",
    "_globals = globals()\n",
    "question0(_globals)"
   ]
  },
  {
   "cell_type": "markdown",
   "id": "opponent-backup",
   "metadata": {
    "deletable": false,
    "editable": false,
    "nbgrader": {
     "cell_type": "markdown",
     "checksum": "00c3d996305276ae341af4d2aabdb193",
     "grade": false,
     "grade_id": "cell-e0f5426b004be2e9",
     "locked": true,
     "schema_version": 3,
     "solution": false,
     "task": false
    }
   },
   "source": [
    "## Question 1\n",
    "\n",
    "### (i)\n",
    "\n",
    "(a) Create a pandas `Series`, `ser1`, consisting of the cosines of the values of $x$ between $0$ and $2\\,\\pi$ in steps of $\\pi/12$. Use the default indexing."
   ]
  },
  {
   "cell_type": "code",
   "execution_count": 5,
   "id": "minute-coupon",
   "metadata": {
    "deletable": false,
    "nbgrader": {
     "cell_type": "code",
     "checksum": "de18f8563f649d7f3b058e3511a25e90",
     "grade": false,
     "grade_id": "cell-a4374ca8e5a180bf",
     "locked": false,
     "schema_version": 3,
     "solution": true,
     "task": false
    }
   },
   "outputs": [],
   "source": [
    "# YOUR CODE HERE\n",
    "x = np.arange(0, 2 * np.pi + np.pi / 12, np.pi / 12)\n",
    "# Calculate cosines of x\n",
    "cos_values = np.cos(x)\n",
    "# Create pandas Series\n",
    "ser1 = pd.Series(cos_values)"
   ]
  },
  {
   "cell_type": "code",
   "execution_count": 6,
   "id": "based-denver",
   "metadata": {
    "deletable": false,
    "editable": false,
    "nbgrader": {
     "cell_type": "code",
     "checksum": "96fb7e05a73948831ccb1f63ebff3e39",
     "grade": true,
     "grade_id": "cell-0e8c3d3e2a5b4e61",
     "locked": true,
     "points": 1,
     "schema_version": 3,
     "solution": false,
     "task": false
    }
   },
   "outputs": [
    {
     "name": "stdout",
     "output_type": "stream",
     "text": [
      "ser1 is defined correctly\n",
      "Test passed!\n"
     ]
    },
    {
     "data": {
      "text/plain": "1"
     },
     "execution_count": 6,
     "metadata": {},
     "output_type": "execute_result"
    }
   ],
   "source": [
    "# 1 Mark\n",
    "# Do not try to delete this cell\n",
    "# Run this cell for grading\n",
    "_globals = globals()\n",
    "question1ia(_globals)"
   ]
  },
  {
   "cell_type": "markdown",
   "id": "afraid-object",
   "metadata": {
    "deletable": false,
    "editable": false,
    "nbgrader": {
     "cell_type": "markdown",
     "checksum": "15c794775bcdb35e44f6265230ebee4a",
     "grade": false,
     "grade_id": "cell-b1075c475c3dfaa1",
     "locked": true,
     "schema_version": 3,
     "solution": false,
     "task": false
    }
   },
   "source": [
    "(b) Set a new index for `ser1`, consisting of the actual values of $x$ between $0$ and $2\\,\\pi$ in steps of $\\pi/12$."
   ]
  },
  {
   "cell_type": "code",
   "execution_count": 7,
   "id": "competent-dodge",
   "metadata": {
    "deletable": false,
    "nbgrader": {
     "cell_type": "code",
     "checksum": "eabae6a54dc9646e5400052043137da1",
     "grade": false,
     "grade_id": "cell-989c40d88a3ec607",
     "locked": false,
     "schema_version": 3,
     "solution": true,
     "task": false
    }
   },
   "outputs": [],
   "source": [
    "x = np.arange(0, 2 * np.pi + np.pi / 12, np.pi / 12)\n",
    "\n",
    "cos_values = np.cos(x)\n",
    "\n",
    "ser1 = pd.Series(cos_values, index=x)"
   ]
  },
  {
   "cell_type": "code",
   "execution_count": 8,
   "id": "changed-ancient",
   "metadata": {
    "deletable": false,
    "editable": false,
    "nbgrader": {
     "cell_type": "code",
     "checksum": "693ac187dd1e4b21ca92aec74475118d",
     "grade": true,
     "grade_id": "cell-6e1ff854eb57dfb4",
     "locked": true,
     "points": 1,
     "schema_version": 3,
     "solution": false,
     "task": false
    }
   },
   "outputs": [
    {
     "name": "stdout",
     "output_type": "stream",
     "text": [
      "ser1 is defined correctly\n",
      "Test passed!\n"
     ]
    },
    {
     "data": {
      "text/plain": "1"
     },
     "execution_count": 8,
     "metadata": {},
     "output_type": "execute_result"
    }
   ],
   "source": [
    "# 1 Mark\n",
    "# Do not try to delete this cell\n",
    "# Run this cell for grading\n",
    "_globals = globals()\n",
    "question1ib(_globals)"
   ]
  },
  {
   "cell_type": "markdown",
   "id": "characteristic-administration",
   "metadata": {
    "deletable": false,
    "editable": false,
    "nbgrader": {
     "cell_type": "markdown",
     "checksum": "c19d9d46478cadcab3d7cc8450516e74",
     "grade": false,
     "grade_id": "cell-62ab25705d346013",
     "locked": true,
     "schema_version": 3,
     "solution": false,
     "task": false
    }
   },
   "source": [
    "(c) Plot this series. Autograding won't be able to help here."
   ]
  },
  {
   "cell_type": "code",
   "execution_count": 9,
   "id": "fourth-feelings",
   "metadata": {
    "deletable": false,
    "nbgrader": {
     "cell_type": "code",
     "checksum": "ace9d46b6cb18b613211e0fb764a32b3",
     "grade": false,
     "grade_id": "cell-46e961a89c2945bf",
     "locked": false,
     "schema_version": 3,
     "solution": true,
     "task": false
    }
   },
   "outputs": [
    {
     "data": {
      "text/plain": "<Axes: >"
     },
     "execution_count": 9,
     "metadata": {},
     "output_type": "execute_result"
    },
    {
     "data": {
      "text/plain": "<Figure size 640x480 with 1 Axes>",
      "image/png": "[encoded data removed]"
     },
     "metadata": {},
     "output_type": "display_data"
    }
   ],
   "source": [
    "# YOUR CODE HERE\n",
    "# Plot the Series\n",
    "ser1.plot()"
   ]
  },
  {
   "cell_type": "markdown",
   "id": "mighty-queens",
   "metadata": {
    "deletable": false,
    "editable": false,
    "nbgrader": {
     "cell_type": "markdown",
     "checksum": "321e6587c4ac5e3f50889be9d3e5eacd",
     "grade": false,
     "grade_id": "cell-f7858bb1f1688328",
     "locked": true,
     "schema_version": 3,
     "solution": false,
     "task": false
    }
   },
   "source": [
    "(d) Create a pandas Series, `poly_ser`, out of the dictionary"
   ]
  },
  {
   "cell_type": "code",
   "execution_count": 10,
   "id": "sustained-sapphire",
   "metadata": {
    "deletable": false,
    "editable": false,
    "nbgrader": {
     "cell_type": "code",
     "checksum": "54517387554fc5e2b97b9adda7096e56",
     "grade": false,
     "grade_id": "cell-e17600d245444295",
     "locked": true,
     "schema_version": 3,
     "solution": false,
     "task": false
    }
   },
   "outputs": [],
   "source": [
    "polyhedra = {'platonic': 5, 'archimedean': 13, 'catalan': 13, 'johnson (simple)': 28, 'johnson': 92,\n",
    "             'kepler-poinsot': 4}"
   ]
  },
  {
   "cell_type": "code",
   "execution_count": 11,
   "id": "spread-dominican",
   "metadata": {
    "deletable": false,
    "nbgrader": {
     "cell_type": "code",
     "checksum": "8e52909d02281e22d8f2c68d738f340d",
     "grade": false,
     "grade_id": "cell-05ce8115491c970e",
     "locked": false,
     "schema_version": 3,
     "solution": true,
     "task": false
    }
   },
   "outputs": [
    {
     "data": {
      "text/plain": "platonic             5\narchimedean         13\ncatalan             13\njohnson (simple)    28\njohnson             92\nkepler-poinsot       4\ndtype: int64"
     },
     "execution_count": 11,
     "metadata": {},
     "output_type": "execute_result"
    }
   ],
   "source": [
    "# YOUR CODE HERE\n",
    "poly_ser = pd.Series(polyhedra)\n",
    "poly_ser"
   ]
  },
  {
   "cell_type": "code",
   "execution_count": 12,
   "id": "regulation-proceeding",
   "metadata": {
    "deletable": false,
    "editable": false,
    "nbgrader": {
     "cell_type": "code",
     "checksum": "28033e8cd80eb245ac51cc263292b06b",
     "grade": true,
     "grade_id": "cell-066385814922abf3",
     "locked": true,
     "points": 1,
     "schema_version": 3,
     "solution": false,
     "task": false
    }
   },
   "outputs": [
    {
     "name": "stdout",
     "output_type": "stream",
     "text": [
      "poly_ser is defined correctly\n",
      "Test passed!\n"
     ]
    },
    {
     "data": {
      "text/plain": "1"
     },
     "execution_count": 12,
     "metadata": {},
     "output_type": "execute_result"
    }
   ],
   "source": [
    "# 1 Mark\n",
    "# Do not try to delete this cell\n",
    "# Run this cell for grading\n",
    "_globals = globals()\n",
    "question1id(_globals)"
   ]
  },
  {
   "cell_type": "markdown",
   "id": "renewable-bullet",
   "metadata": {
    "deletable": false,
    "editable": false,
    "nbgrader": {
     "cell_type": "markdown",
     "checksum": "cf2081a57c99a38089403ab09bab6a21",
     "grade": false,
     "grade_id": "cell-b6f092345d123ffa",
     "locked": true,
     "schema_version": 3,
     "solution": false,
     "task": false
    }
   },
   "source": [
    "### (ii)\n",
    "\n",
    "(a) Create a DataFrame, `footballers_df`, from the dictionary"
   ]
  },
  {
   "cell_type": "code",
   "execution_count": 13,
   "id": "desirable-pakistan",
   "metadata": {
    "deletable": false,
    "editable": false,
    "nbgrader": {
     "cell_type": "code",
     "checksum": "d4cbd7b38bcb93c06eb3f05712bcdf7d",
     "grade": false,
     "grade_id": "cell-b41904da1ebe4354",
     "locked": true,
     "schema_version": 3,
     "solution": false,
     "task": false
    }
   },
   "outputs": [],
   "source": [
    "footballers_dict = {'Position': ('goalkeeper', 'left back', 'centre half'), 'Name': ('Aisha', 'Esme', 'Colin'),\n",
    "                    'Age': (15, 14, 15)}"
   ]
  },
  {
   "cell_type": "code",
   "execution_count": 14,
   "id": "outside-solution",
   "metadata": {
    "deletable": false,
    "nbgrader": {
     "cell_type": "code",
     "checksum": "71c4364324c9927243be4f1ca2478ca1",
     "grade": false,
     "grade_id": "cell-90fd1519cdc47c7c",
     "locked": false,
     "schema_version": 3,
     "solution": true,
     "task": false
    }
   },
   "outputs": [
    {
     "data": {
      "text/plain": "      Position   Name  Age\n0   goalkeeper  Aisha   15\n1    left back   Esme   14\n2  centre half  Colin   15",
      "text/html": "<div>\n<style scoped>\n    .dataframe tbody tr th:only-of-type {\n        vertical-align: middle;\n    }\n\n    .dataframe tbody tr th {\n        vertical-align: top;\n    }\n\n    .dataframe thead th {\n        text-align: right;\n    }\n</style>\n<table border=\"1\" class=\"dataframe\">\n  <thead>\n    <tr style=\"text-align: right;\">\n      <th></th>\n      <th>Position</th>\n      <th>Name</th>\n      <th>Age</th>\n    </tr>\n  </thead>\n  <tbody>\n    <tr>\n      <th>0</th>\n      <td>goalkeeper</td>\n      <td>Aisha</td>\n      <td>15</td>\n    </tr>\n    <tr>\n      <th>1</th>\n      <td>left back</td>\n      <td>Esme</td>\n      <td>14</td>\n    </tr>\n    <tr>\n      <th>2</th>\n      <td>centre half</td>\n      <td>Colin</td>\n      <td>15</td>\n    </tr>\n  </tbody>\n</table>\n</div>"
     },
     "execution_count": 14,
     "metadata": {},
     "output_type": "execute_result"
    }
   ],
   "source": [
    "# YOUR CODE HERE\n",
    "footballers_df = pd.DataFrame(footballers_dict)\n",
    "footballers_df"
   ]
  },
  {
   "cell_type": "code",
   "execution_count": 15,
   "id": "removable-drill",
   "metadata": {
    "deletable": false,
    "editable": false,
    "nbgrader": {
     "cell_type": "code",
     "checksum": "d35ac62b36472c8f4f306c205a6c539c",
     "grade": true,
     "grade_id": "cell-bd48a99d36d460a6",
     "locked": true,
     "points": 1,
     "schema_version": 3,
     "solution": false,
     "task": false
    }
   },
   "outputs": [
    {
     "name": "stdout",
     "output_type": "stream",
     "text": [
      "footballers_df is defined correctly\n",
      "Test passed!\n"
     ]
    },
    {
     "data": {
      "text/plain": "1"
     },
     "execution_count": 15,
     "metadata": {},
     "output_type": "execute_result"
    }
   ],
   "source": [
    "# 1 Mark\n",
    "# Do not try to delete this cell\n",
    "# Run this cell for grading\n",
    "_globals = globals()\n",
    "question1iia(_globals)"
   ]
  },
  {
   "cell_type": "markdown",
   "id": "advisory-document",
   "metadata": {
    "deletable": false,
    "editable": false,
    "nbgrader": {
     "cell_type": "markdown",
     "checksum": "7d07534bc7b8f8b8d481a978f4248193",
     "grade": false,
     "grade_id": "cell-7e7911021f866561",
     "locked": true,
     "schema_version": 3,
     "solution": false,
     "task": false
    }
   },
   "source": [
    "(b) Create a new DataFrame, `footballers_df2`, from `footballers_df`, in which the playing positions form not a column of data but the index."
   ]
  },
  {
   "cell_type": "code",
   "execution_count": 16,
   "id": "double-input",
   "metadata": {
    "deletable": false,
    "nbgrader": {
     "cell_type": "code",
     "checksum": "59bae54404f3f7c1deee70164359095c",
     "grade": false,
     "grade_id": "cell-4a96c8064a0a1bba",
     "locked": false,
     "schema_version": 3,
     "solution": true,
     "task": false
    }
   },
   "outputs": [
    {
     "data": {
      "text/plain": "              Name  Age\nPosition               \ngoalkeeper   Aisha   15\nleft back     Esme   14\ncentre half  Colin   15",
      "text/html": "<div>\n<style scoped>\n    .dataframe tbody tr th:only-of-type {\n        vertical-align: middle;\n    }\n\n    .dataframe tbody tr th {\n        vertical-align: top;\n    }\n\n    .dataframe thead th {\n        text-align: right;\n    }\n</style>\n<table border=\"1\" class=\"dataframe\">\n  <thead>\n    <tr style=\"text-align: right;\">\n      <th></th>\n      <th>Name</th>\n      <th>Age</th>\n    </tr>\n    <tr>\n      <th>Position</th>\n      <th></th>\n      <th></th>\n    </tr>\n  </thead>\n  <tbody>\n    <tr>\n      <th>goalkeeper</th>\n      <td>Aisha</td>\n      <td>15</td>\n    </tr>\n    <tr>\n      <th>left back</th>\n      <td>Esme</td>\n      <td>14</td>\n    </tr>\n    <tr>\n      <th>centre half</th>\n      <td>Colin</td>\n      <td>15</td>\n    </tr>\n  </tbody>\n</table>\n</div>"
     },
     "execution_count": 16,
     "metadata": {},
     "output_type": "execute_result"
    }
   ],
   "source": [
    "# YOUR CODE HERE\n",
    "footballers_df2 = footballers_df.set_index('Position')\n",
    "\n",
    "footballers_df2"
   ]
  },
  {
   "cell_type": "code",
   "execution_count": 17,
   "id": "requested-planning",
   "metadata": {
    "deletable": false,
    "editable": false,
    "nbgrader": {
     "cell_type": "code",
     "checksum": "1ee0236b8276562bf3e08c4861d5bfd2",
     "grade": true,
     "grade_id": "cell-1b7c991767e756d7",
     "locked": true,
     "points": 1,
     "schema_version": 3,
     "solution": false,
     "task": false
    }
   },
   "outputs": [
    {
     "name": "stdout",
     "output_type": "stream",
     "text": [
      "footballers_df2 is defined correctly\n",
      "Test passed!\n"
     ]
    },
    {
     "data": {
      "text/plain": "1"
     },
     "execution_count": 17,
     "metadata": {},
     "output_type": "execute_result"
    }
   ],
   "source": [
    "# 1 Mark\n",
    "# Do not try to delete this cell\n",
    "# Run this cell for grading\n",
    "_globals = globals()\n",
    "question1iib(_globals)"
   ]
  },
  {
   "cell_type": "markdown",
   "id": "qualified-buffalo",
   "metadata": {
    "deletable": false,
    "editable": false,
    "nbgrader": {
     "cell_type": "markdown",
     "checksum": "844b4ce0a2164caec51aaf25ba8835fb",
     "grade": false,
     "grade_id": "cell-feea536b620d0083",
     "locked": true,
     "schema_version": 3,
     "solution": false,
     "task": false
    }
   },
   "source": [
    "(c) Create a DataFrame, `footballers_df3`, from `footballers_df2`, in which the players are sorted by name."
   ]
  },
  {
   "cell_type": "code",
   "execution_count": 18,
   "id": "crazy-queen",
   "metadata": {
    "deletable": false,
    "nbgrader": {
     "cell_type": "code",
     "checksum": "5482bb215f1cbb26eabb0d437255e809",
     "grade": false,
     "grade_id": "cell-875a6e28334caa48",
     "locked": false,
     "schema_version": 3,
     "solution": true,
     "task": false
    }
   },
   "outputs": [
    {
     "data": {
      "text/plain": "              Name  Age\nPosition               \ngoalkeeper   Aisha   15\ncentre half  Colin   15\nleft back     Esme   14",
      "text/html": "<div>\n<style scoped>\n    .dataframe tbody tr th:only-of-type {\n        vertical-align: middle;\n    }\n\n    .dataframe tbody tr th {\n        vertical-align: top;\n    }\n\n    .dataframe thead th {\n        text-align: right;\n    }\n</style>\n<table border=\"1\" class=\"dataframe\">\n  <thead>\n    <tr style=\"text-align: right;\">\n      <th></th>\n      <th>Name</th>\n      <th>Age</th>\n    </tr>\n    <tr>\n      <th>Position</th>\n      <th></th>\n      <th></th>\n    </tr>\n  </thead>\n  <tbody>\n    <tr>\n      <th>goalkeeper</th>\n      <td>Aisha</td>\n      <td>15</td>\n    </tr>\n    <tr>\n      <th>centre half</th>\n      <td>Colin</td>\n      <td>15</td>\n    </tr>\n    <tr>\n      <th>left back</th>\n      <td>Esme</td>\n      <td>14</td>\n    </tr>\n  </tbody>\n</table>\n</div>"
     },
     "execution_count": 18,
     "metadata": {},
     "output_type": "execute_result"
    }
   ],
   "source": [
    "# YOUR CODE HERE\n",
    "footballers_df3 = footballers_df2.sort_values('Name')\n",
    "footballers_df3"
   ]
  },
  {
   "cell_type": "code",
   "execution_count": 19,
   "id": "opening-baker",
   "metadata": {
    "deletable": false,
    "editable": false,
    "nbgrader": {
     "cell_type": "code",
     "checksum": "79eafc6287f6b8a14a100f4983af333d",
     "grade": true,
     "grade_id": "cell-51482557b8315a92",
     "locked": true,
     "points": 1,
     "schema_version": 3,
     "solution": false,
     "task": false
    }
   },
   "outputs": [
    {
     "name": "stdout",
     "output_type": "stream",
     "text": [
      "footballers_df3 is defined correctly\n",
      "Test passed!\n"
     ]
    },
    {
     "data": {
      "text/plain": "1"
     },
     "execution_count": 19,
     "metadata": {},
     "output_type": "execute_result"
    }
   ],
   "source": [
    "# 1 Mark\n",
    "# Do not try to delete this cell\n",
    "# Run this cell for grading\n",
    "_globals = globals()\n",
    "question1iic(_globals)"
   ]
  },
  {
   "cell_type": "markdown",
   "id": "other-place",
   "metadata": {
    "deletable": false,
    "editable": false,
    "nbgrader": {
     "cell_type": "markdown",
     "checksum": "61849b1575126a32d50f80701651ecba",
     "grade": false,
     "grade_id": "cell-552751421445094b",
     "locked": true,
     "schema_version": 3,
     "solution": false,
     "task": false
    }
   },
   "source": [
    "## Question 2\n",
    "\n",
    "(a) Starting with the dictionaries"
   ]
  },
  {
   "cell_type": "code",
   "execution_count": 20,
   "id": "matched-renaissance",
   "metadata": {
    "deletable": false,
    "editable": false,
    "nbgrader": {
     "cell_type": "code",
     "checksum": "bbd057609f34a830163e5ccb7f333407",
     "grade": false,
     "grade_id": "cell-97c4925bb58bbffc",
     "locked": true,
     "schema_version": 3,
     "solution": false,
     "task": false
    }
   },
   "outputs": [],
   "source": [
    "mercury_data = {'radius': 2.4e6, 'mass': 3.3e23,\n",
    "                'escape_velocity': 4.3e3}\n",
    "venus_data = {'radius': 6.1e6, 'mass': 4.9e24,\n",
    "              'escape_velocity': 1.0e4}\n",
    "earth_data = {'radius': 6.3e6, 'mass': 6.0e24,\n",
    "              'escape_velocity': 1.1e4}\n",
    "mars_data = {'radius': 3.4e6, 'mass': 6.4e23,\n",
    "             'escape_velocity': 5.0e3}\n",
    "jupiter_data = {'radius': 6.9e7, 'mass': 1.9e27,\n",
    "                'escape_velocity': 6.0e4}\n",
    "saturn_data = {'radius': 5.7e7, 'mass': 5.6e26,\n",
    "               'escape_velocity': 3.6e4}\n",
    "uranus_data = {'radius': 2.5e7, 'mass': 8.7e25,\n",
    "               'escape_velocity': 2.2e4}\n",
    "neptune_data = {'radius': 2.5e7, 'mass': 1.0e26,\n",
    "                'escape_velocity': 2.4e4}\n",
    "planet_data = {\n",
    "    'mercury': mercury_data,\n",
    "    'venus': venus_data,\n",
    "    'earth': earth_data,\n",
    "    'mars': mars_data,\n",
    "    'jupiter': jupiter_data,\n",
    "    'saturn': saturn_data,\n",
    "    'uranus': uranus_data,\n",
    "    'neptune': neptune_data\n",
    "}"
   ]
  },
  {
   "cell_type": "markdown",
   "id": "residential-spencer",
   "metadata": {
    "deletable": false,
    "editable": false,
    "nbgrader": {
     "cell_type": "markdown",
     "checksum": "945b48c456ab6971a0eb678b864566e9",
     "grade": false,
     "grade_id": "cell-af07158e5679c621",
     "locked": true,
     "schema_version": 3,
     "solution": false,
     "task": false
    }
   },
   "source": [
    "create a DataFrame, `planet_df`, whose index consists of the names of the planets and whose column headings are `escape_velocity`, `mass` and `radius`, in that order."
   ]
  },
  {
   "cell_type": "code",
   "execution_count": 21,
   "id": "funky-jackson",
   "metadata": {
    "deletable": false,
    "nbgrader": {
     "cell_type": "code",
     "checksum": "6b7407de4c22dc3282c025aea2cc780e",
     "grade": false,
     "grade_id": "cell-b07f8b9efec1b066",
     "locked": false,
     "schema_version": 3,
     "solution": true,
     "task": false
    }
   },
   "outputs": [
    {
     "data": {
      "text/plain": "         escape_velocity          mass      radius\nmercury           4300.0  3.300000e+23   2400000.0\nvenus            10000.0  4.900000e+24   6100000.0\nearth            11000.0  6.000000e+24   6300000.0\nmars              5000.0  6.400000e+23   3400000.0\njupiter          60000.0  1.900000e+27  69000000.0\nsaturn           36000.0  5.600000e+26  57000000.0\nuranus           22000.0  8.700000e+25  25000000.0\nneptune          24000.0  1.000000e+26  25000000.0",
      "text/html": "<div>\n<style scoped>\n    .dataframe tbody tr th:only-of-type {\n        vertical-align: middle;\n    }\n\n    .dataframe tbody tr th {\n        vertical-align: top;\n    }\n\n    .dataframe thead th {\n        text-align: right;\n    }\n</style>\n<table border=\"1\" class=\"dataframe\">\n  <thead>\n    <tr style=\"text-align: right;\">\n      <th></th>\n      <th>escape_velocity</th>\n      <th>mass</th>\n      <th>radius</th>\n    </tr>\n  </thead>\n  <tbody>\n    <tr>\n      <th>mercury</th>\n      <td>4300.0</td>\n      <td>3.300000e+23</td>\n      <td>2400000.0</td>\n    </tr>\n    <tr>\n      <th>venus</th>\n      <td>10000.0</td>\n      <td>4.900000e+24</td>\n      <td>6100000.0</td>\n    </tr>\n    <tr>\n      <th>earth</th>\n      <td>11000.0</td>\n      <td>6.000000e+24</td>\n      <td>6300000.0</td>\n    </tr>\n    <tr>\n      <th>mars</th>\n      <td>5000.0</td>\n      <td>6.400000e+23</td>\n      <td>3400000.0</td>\n    </tr>\n    <tr>\n      <th>jupiter</th>\n      <td>60000.0</td>\n      <td>1.900000e+27</td>\n      <td>69000000.0</td>\n    </tr>\n    <tr>\n      <th>saturn</th>\n      <td>36000.0</td>\n      <td>5.600000e+26</td>\n      <td>57000000.0</td>\n    </tr>\n    <tr>\n      <th>uranus</th>\n      <td>22000.0</td>\n      <td>8.700000e+25</td>\n      <td>25000000.0</td>\n    </tr>\n    <tr>\n      <th>neptune</th>\n      <td>24000.0</td>\n      <td>1.000000e+26</td>\n      <td>25000000.0</td>\n    </tr>\n  </tbody>\n</table>\n</div>"
     },
     "execution_count": 21,
     "metadata": {},
     "output_type": "execute_result"
    }
   ],
   "source": [
    "# YOUR CODE HERE\n",
    "planet_df = pd.DataFrame.from_dict(planet_data, orient='index')\n",
    "\n",
    "# Reorder columns\n",
    "planet_df = planet_df[['escape_velocity', 'mass', 'radius']]\n",
    "planet_df"
   ]
  },
  {
   "cell_type": "code",
   "execution_count": 22,
   "id": "north-toronto",
   "metadata": {
    "deletable": false,
    "editable": false,
    "nbgrader": {
     "cell_type": "code",
     "checksum": "c2a7574c7df886c5d65f3993028c89b9",
     "grade": true,
     "grade_id": "cell-49a7ff38e8e05407",
     "locked": true,
     "points": 1,
     "schema_version": 3,
     "solution": false,
     "task": false
    }
   },
   "outputs": [
    {
     "name": "stdout",
     "output_type": "stream",
     "text": [
      "planet_df is defined correctly\n",
      "Test passed!\n"
     ]
    },
    {
     "data": {
      "text/plain": "1"
     },
     "execution_count": 22,
     "metadata": {},
     "output_type": "execute_result"
    }
   ],
   "source": [
    "# 1 Mark\n",
    "# Do not try to delete this cell\n",
    "# Run this cell for grading\n",
    "_globals = globals()\n",
    "question2a(_globals)"
   ]
  },
  {
   "cell_type": "markdown",
   "id": "studied-examination",
   "metadata": {
    "deletable": false,
    "editable": false,
    "nbgrader": {
     "cell_type": "markdown",
     "checksum": "50a93c68c67dfbf784ba662933292860",
     "grade": false,
     "grade_id": "cell-06baca6dc8ab3f56",
     "locked": true,
     "schema_version": 3,
     "solution": false,
     "task": false
    }
   },
   "source": [
    "(b) Create a new DataFrame, `planet_df2`, containing the same data, but sorted by descending order of mass."
   ]
  },
  {
   "cell_type": "code",
   "execution_count": 23,
   "id": "other-grove",
   "metadata": {
    "deletable": false,
    "nbgrader": {
     "cell_type": "code",
     "checksum": "aecc0878078bc5cee271b4afe13b89c4",
     "grade": false,
     "grade_id": "cell-8dc4ebcb88e17005",
     "locked": false,
     "schema_version": 3,
     "solution": true,
     "task": false
    }
   },
   "outputs": [
    {
     "data": {
      "text/plain": "         escape_velocity          mass      radius\njupiter          60000.0  1.900000e+27  69000000.0\nsaturn           36000.0  5.600000e+26  57000000.0\nneptune          24000.0  1.000000e+26  25000000.0\nuranus           22000.0  8.700000e+25  25000000.0\nearth            11000.0  6.000000e+24   6300000.0\nvenus            10000.0  4.900000e+24   6100000.0\nmars              5000.0  6.400000e+23   3400000.0\nmercury           4300.0  3.300000e+23   2400000.0",
      "text/html": "<div>\n<style scoped>\n    .dataframe tbody tr th:only-of-type {\n        vertical-align: middle;\n    }\n\n    .dataframe tbody tr th {\n        vertical-align: top;\n    }\n\n    .dataframe thead th {\n        text-align: right;\n    }\n</style>\n<table border=\"1\" class=\"dataframe\">\n  <thead>\n    <tr style=\"text-align: right;\">\n      <th></th>\n      <th>escape_velocity</th>\n      <th>mass</th>\n      <th>radius</th>\n    </tr>\n  </thead>\n  <tbody>\n    <tr>\n      <th>jupiter</th>\n      <td>60000.0</td>\n      <td>1.900000e+27</td>\n      <td>69000000.0</td>\n    </tr>\n    <tr>\n      <th>saturn</th>\n      <td>36000.0</td>\n      <td>5.600000e+26</td>\n      <td>57000000.0</td>\n    </tr>\n    <tr>\n      <th>neptune</th>\n      <td>24000.0</td>\n      <td>1.000000e+26</td>\n      <td>25000000.0</td>\n    </tr>\n    <tr>\n      <th>uranus</th>\n      <td>22000.0</td>\n      <td>8.700000e+25</td>\n      <td>25000000.0</td>\n    </tr>\n    <tr>\n      <th>earth</th>\n      <td>11000.0</td>\n      <td>6.000000e+24</td>\n      <td>6300000.0</td>\n    </tr>\n    <tr>\n      <th>venus</th>\n      <td>10000.0</td>\n      <td>4.900000e+24</td>\n      <td>6100000.0</td>\n    </tr>\n    <tr>\n      <th>mars</th>\n      <td>5000.0</td>\n      <td>6.400000e+23</td>\n      <td>3400000.0</td>\n    </tr>\n    <tr>\n      <th>mercury</th>\n      <td>4300.0</td>\n      <td>3.300000e+23</td>\n      <td>2400000.0</td>\n    </tr>\n  </tbody>\n</table>\n</div>"
     },
     "execution_count": 23,
     "metadata": {},
     "output_type": "execute_result"
    }
   ],
   "source": [
    "# YOUR CODE HERE\n",
    "planet_df2 = planet_df.sort_values('mass', ascending=False)\n",
    "# planet_df.sort_index()\n",
    "planet_df2"
   ]
  },
  {
   "cell_type": "code",
   "execution_count": 24,
   "id": "cathedral-transcription",
   "metadata": {
    "deletable": false,
    "editable": false,
    "nbgrader": {
     "cell_type": "code",
     "checksum": "55a2b94418a6af51031e88ce6f3b5a48",
     "grade": true,
     "grade_id": "cell-e79c7d1dfe3385db",
     "locked": true,
     "points": 1,
     "schema_version": 3,
     "solution": false,
     "task": false
    }
   },
   "outputs": [
    {
     "name": "stdout",
     "output_type": "stream",
     "text": [
      "planet_df2 is defined correctly\n",
      "Test passed!\n"
     ]
    },
    {
     "data": {
      "text/plain": "1"
     },
     "execution_count": 24,
     "metadata": {},
     "output_type": "execute_result"
    }
   ],
   "source": [
    "# 1 Mark\n",
    "# Do not try to delete this cell\n",
    "# Run this cell for grading\n",
    "_globals = globals()\n",
    "question2b(_globals)"
   ]
  },
  {
   "cell_type": "markdown",
   "id": "tracked-operator",
   "metadata": {
    "deletable": false,
    "editable": false,
    "nbgrader": {
     "cell_type": "markdown",
     "checksum": "69e740ce59a6e1a2ae62f186315e5a87",
     "grade": false,
     "grade_id": "cell-d74b46f64d5a653a",
     "locked": true,
     "schema_version": 3,
     "solution": false,
     "task": false
    }
   },
   "source": [
    "(c) Create a Series, `escape_vel_ser`, consisting of the escape velocities of `planet_df`, indexed by planet name."
   ]
  },
  {
   "cell_type": "code",
   "execution_count": 25,
   "outputs": [
    {
     "data": {
      "text/plain": "mercury     4300.0\nvenus      10000.0\nearth      11000.0\nmars        5000.0\njupiter    60000.0\nsaturn     36000.0\nuranus     22000.0\nneptune    24000.0\nName: escape_velocity, dtype: float64"
     },
     "execution_count": 25,
     "metadata": {},
     "output_type": "execute_result"
    }
   ],
   "source": [
    "# YOUR CODE HERE\n",
    "escape_vel_ser = planet_df['escape_velocity']\n",
    "escape_vel_ser"
   ],
   "metadata": {
    "collapsed": false
   }
  },
  {
   "cell_type": "code",
   "execution_count": 26,
   "id": "laughing-hobby",
   "metadata": {
    "deletable": false,
    "editable": false,
    "nbgrader": {
     "cell_type": "code",
     "checksum": "0b8ddeefc6dcf38793236eaa231fa073",
     "grade": true,
     "grade_id": "cell-179427882620c54e",
     "locked": true,
     "points": 1,
     "schema_version": 3,
     "solution": false,
     "task": false
    }
   },
   "outputs": [
    {
     "name": "stdout",
     "output_type": "stream",
     "text": [
      "escape_vel_ser is defined correctly\n",
      "Test passed!\n"
     ]
    },
    {
     "data": {
      "text/plain": "1"
     },
     "execution_count": 26,
     "metadata": {},
     "output_type": "execute_result"
    }
   ],
   "source": [
    "# 1 Mark\n",
    "# Do not try to delete this cell\n",
    "# Run this cell for grading\n",
    "_globals = globals()\n",
    "question2c(_globals)"
   ]
  },
  {
   "cell_type": "markdown",
   "id": "random-medline",
   "metadata": {
    "deletable": false,
    "editable": false,
    "nbgrader": {
     "cell_type": "markdown",
     "checksum": "53c296db89b8c36c24ffbcbfd2b7336a",
     "grade": false,
     "grade_id": "cell-259b8ccee56c6534",
     "locked": true,
     "schema_version": 3,
     "solution": false,
     "task": false
    }
   },
   "source": [
    "(d) Give `planet_df` a new column, `orbital_radius`, consisting of the following list of distances in Astronomical Units:"
   ]
  },
  {
   "cell_type": "code",
   "execution_count": 27,
   "id": "imported-treatment",
   "metadata": {
    "deletable": false,
    "editable": false,
    "nbgrader": {
     "cell_type": "code",
     "checksum": "abc3043d744daaaa5e1fc4c4dcb1d72e",
     "grade": false,
     "grade_id": "cell-f16d543f455cd20e",
     "locked": true,
     "schema_version": 3,
     "solution": false,
     "task": false
    }
   },
   "outputs": [],
   "source": [
    "orbital_radius_list = [0.39, 0.72, 1.0, 1.5, 5.2, 9.5, 19.0, 30.0]"
   ]
  },
  {
   "cell_type": "code",
   "execution_count": 28,
   "id": "independent-modern",
   "metadata": {
    "deletable": false,
    "nbgrader": {
     "cell_type": "code",
     "checksum": "0e092c85cb9f255e0d3cdaa2a0a63506",
     "grade": false,
     "grade_id": "cell-6e6863c07d933977",
     "locked": false,
     "schema_version": 3,
     "solution": true,
     "task": false
    }
   },
   "outputs": [
    {
     "data": {
      "text/plain": "         escape_velocity          mass      radius  orbital_radius\nmercury           4300.0  3.300000e+23   2400000.0            0.39\nvenus            10000.0  4.900000e+24   6100000.0            0.72\nearth            11000.0  6.000000e+24   6300000.0            1.00\nmars              5000.0  6.400000e+23   3400000.0            1.50\njupiter          60000.0  1.900000e+27  69000000.0            5.20\nsaturn           36000.0  5.600000e+26  57000000.0            9.50\nuranus           22000.0  8.700000e+25  25000000.0           19.00\nneptune          24000.0  1.000000e+26  25000000.0           30.00",
      "text/html": "<div>\n<style scoped>\n    .dataframe tbody tr th:only-of-type {\n        vertical-align: middle;\n    }\n\n    .dataframe tbody tr th {\n        vertical-align: top;\n    }\n\n    .dataframe thead th {\n        text-align: right;\n    }\n</style>\n<table border=\"1\" class=\"dataframe\">\n  <thead>\n    <tr style=\"text-align: right;\">\n      <th></th>\n      <th>escape_velocity</th>\n      <th>mass</th>\n      <th>radius</th>\n      <th>orbital_radius</th>\n    </tr>\n  </thead>\n  <tbody>\n    <tr>\n      <th>mercury</th>\n      <td>4300.0</td>\n      <td>3.300000e+23</td>\n      <td>2400000.0</td>\n      <td>0.39</td>\n    </tr>\n    <tr>\n      <th>venus</th>\n      <td>10000.0</td>\n      <td>4.900000e+24</td>\n      <td>6100000.0</td>\n      <td>0.72</td>\n    </tr>\n    <tr>\n      <th>earth</th>\n      <td>11000.0</td>\n      <td>6.000000e+24</td>\n      <td>6300000.0</td>\n      <td>1.00</td>\n    </tr>\n    <tr>\n      <th>mars</th>\n      <td>5000.0</td>\n      <td>6.400000e+23</td>\n      <td>3400000.0</td>\n      <td>1.50</td>\n    </tr>\n    <tr>\n      <th>jupiter</th>\n      <td>60000.0</td>\n      <td>1.900000e+27</td>\n      <td>69000000.0</td>\n      <td>5.20</td>\n    </tr>\n    <tr>\n      <th>saturn</th>\n      <td>36000.0</td>\n      <td>5.600000e+26</td>\n      <td>57000000.0</td>\n      <td>9.50</td>\n    </tr>\n    <tr>\n      <th>uranus</th>\n      <td>22000.0</td>\n      <td>8.700000e+25</td>\n      <td>25000000.0</td>\n      <td>19.00</td>\n    </tr>\n    <tr>\n      <th>neptune</th>\n      <td>24000.0</td>\n      <td>1.000000e+26</td>\n      <td>25000000.0</td>\n      <td>30.00</td>\n    </tr>\n  </tbody>\n</table>\n</div>"
     },
     "execution_count": 28,
     "metadata": {},
     "output_type": "execute_result"
    }
   ],
   "source": [
    "# YOUR CODE HERE\n",
    "planet_df['orbital_radius'] = orbital_radius_list\n",
    "planet_df"
   ]
  },
  {
   "cell_type": "code",
   "execution_count": 29,
   "id": "bibliographic-tragedy",
   "metadata": {
    "deletable": false,
    "editable": false,
    "nbgrader": {
     "cell_type": "code",
     "checksum": "70bf5ac2a2d01cb3294dcf168df7748f",
     "grade": true,
     "grade_id": "cell-8b7bac36e5e77dd3",
     "locked": true,
     "points": 1,
     "schema_version": 3,
     "solution": false,
     "task": false
    }
   },
   "outputs": [
    {
     "name": "stdout",
     "output_type": "stream",
     "text": [
      "planet_df is defined correctly\n",
      "Test passed!\n"
     ]
    },
    {
     "data": {
      "text/plain": "1"
     },
     "execution_count": 29,
     "metadata": {},
     "output_type": "execute_result"
    }
   ],
   "source": [
    "# 1 Mark\n",
    "# Do not try to delete this cell\n",
    "# Run this cell for grading\n",
    "_globals = globals()\n",
    "question2d(_globals)"
   ]
  },
  {
   "cell_type": "markdown",
   "id": "affecting-marking",
   "metadata": {
    "deletable": false,
    "editable": false,
    "nbgrader": {
     "cell_type": "markdown",
     "checksum": "6d3fc8e79e60cb686a78acc276406325",
     "grade": false,
     "grade_id": "cell-12cd78edd0961003",
     "locked": true,
     "schema_version": 3,
     "solution": false,
     "task": false
    }
   },
   "source": [
    "(e) One Astronomical Unit is $1.5\\times10^8$ metres. Convert the values for orbital radius to metres."
   ]
  },
  {
   "cell_type": "code",
   "execution_count": 30,
   "id": "posted-wrist",
   "metadata": {
    "deletable": false,
    "nbgrader": {
     "cell_type": "code",
     "checksum": "89273b3a8e2975c8dbed31a52bc3a3d0",
     "grade": false,
     "grade_id": "cell-7c062efcf9f55d1a",
     "locked": false,
     "schema_version": 3,
     "solution": true,
     "task": false
    }
   },
   "outputs": [
    {
     "data": {
      "text/plain": "         escape_velocity          mass      radius  orbital_radius\nmercury           4300.0  3.300000e+23   2400000.0    5.850000e+07\nvenus            10000.0  4.900000e+24   6100000.0    1.080000e+08\nearth            11000.0  6.000000e+24   6300000.0    1.500000e+08\nmars              5000.0  6.400000e+23   3400000.0    2.250000e+08\njupiter          60000.0  1.900000e+27  69000000.0    7.800000e+08\nsaturn           36000.0  5.600000e+26  57000000.0    1.425000e+09\nuranus           22000.0  8.700000e+25  25000000.0    2.850000e+09\nneptune          24000.0  1.000000e+26  25000000.0    4.500000e+09",
      "text/html": "<div>\n<style scoped>\n    .dataframe tbody tr th:only-of-type {\n        vertical-align: middle;\n    }\n\n    .dataframe tbody tr th {\n        vertical-align: top;\n    }\n\n    .dataframe thead th {\n        text-align: right;\n    }\n</style>\n<table border=\"1\" class=\"dataframe\">\n  <thead>\n    <tr style=\"text-align: right;\">\n      <th></th>\n      <th>escape_velocity</th>\n      <th>mass</th>\n      <th>radius</th>\n      <th>orbital_radius</th>\n    </tr>\n  </thead>\n  <tbody>\n    <tr>\n      <th>mercury</th>\n      <td>4300.0</td>\n      <td>3.300000e+23</td>\n      <td>2400000.0</td>\n      <td>5.850000e+07</td>\n    </tr>\n    <tr>\n      <th>venus</th>\n      <td>10000.0</td>\n      <td>4.900000e+24</td>\n      <td>6100000.0</td>\n      <td>1.080000e+08</td>\n    </tr>\n    <tr>\n      <th>earth</th>\n      <td>11000.0</td>\n      <td>6.000000e+24</td>\n      <td>6300000.0</td>\n      <td>1.500000e+08</td>\n    </tr>\n    <tr>\n      <th>mars</th>\n      <td>5000.0</td>\n      <td>6.400000e+23</td>\n      <td>3400000.0</td>\n      <td>2.250000e+08</td>\n    </tr>\n    <tr>\n      <th>jupiter</th>\n      <td>60000.0</td>\n      <td>1.900000e+27</td>\n      <td>69000000.0</td>\n      <td>7.800000e+08</td>\n    </tr>\n    <tr>\n      <th>saturn</th>\n      <td>36000.0</td>\n      <td>5.600000e+26</td>\n      <td>57000000.0</td>\n      <td>1.425000e+09</td>\n    </tr>\n    <tr>\n      <th>uranus</th>\n      <td>22000.0</td>\n      <td>8.700000e+25</td>\n      <td>25000000.0</td>\n      <td>2.850000e+09</td>\n    </tr>\n    <tr>\n      <th>neptune</th>\n      <td>24000.0</td>\n      <td>1.000000e+26</td>\n      <td>25000000.0</td>\n      <td>4.500000e+09</td>\n    </tr>\n  </tbody>\n</table>\n</div>"
     },
     "execution_count": 30,
     "metadata": {},
     "output_type": "execute_result"
    }
   ],
   "source": [
    "\n",
    "conversion_factor = 1.5e8\n",
    "\n",
    "# Convert the values for orbital radius to metres\n",
    "planet_df['orbital_radius'] *= conversion_factor\n",
    "\n",
    "planet_df"
   ]
  },
  {
   "cell_type": "code",
   "execution_count": 31,
   "id": "active-developer",
   "metadata": {
    "deletable": false,
    "editable": false,
    "nbgrader": {
     "cell_type": "code",
     "checksum": "500931b53db9382d815ee85f05616a10",
     "grade": true,
     "grade_id": "cell-c2b3304d2520730e",
     "locked": true,
     "points": 1,
     "schema_version": 3,
     "solution": false,
     "task": false
    }
   },
   "outputs": [
    {
     "name": "stdout",
     "output_type": "stream",
     "text": [
      "planet_df is defined correctly\n",
      "Test passed!\n"
     ]
    },
    {
     "data": {
      "text/plain": "1"
     },
     "execution_count": 31,
     "metadata": {},
     "output_type": "execute_result"
    }
   ],
   "source": [
    "# 1 Mark\n",
    "# Do not try to delete this cell\n",
    "# Run this cell for grading\n",
    "_globals = globals()\n",
    "question2e(_globals)"
   ]
  },
  {
   "cell_type": "markdown",
   "id": "saved-cheese",
   "metadata": {
    "deletable": false,
    "editable": false,
    "nbgrader": {
     "cell_type": "markdown",
     "checksum": "3ffab44e0a0d9f748b66837ab4657145",
     "grade": false,
     "grade_id": "cell-d0e4b965f87f90f2",
     "locked": true,
     "schema_version": 3,
     "solution": false,
     "task": false
    }
   },
   "source": [
    "(f) Calculate the covariance of mass and radius, calling this `mass_rad_cov`."
   ]
  },
  {
   "cell_type": "code",
   "execution_count": 32,
   "id": "directed-ordinance",
   "metadata": {
    "deletable": false,
    "nbgrader": {
     "cell_type": "code",
     "checksum": "a362f14056dc6c62d60fadeedd71edc1",
     "grade": false,
     "grade_id": "cell-ea9f1a41458f74c5",
     "locked": false,
     "schema_version": 3,
     "solution": true,
     "task": false
    }
   },
   "outputs": [
    {
     "data": {
      "text/plain": "1.4745941249999998e+34"
     },
     "execution_count": 32,
     "metadata": {},
     "output_type": "execute_result"
    }
   ],
   "source": [
    "mass_rad_cov = planet_df['mass'].cov(planet_df['radius'])\n",
    "mass_rad_cov"
   ]
  },
  {
   "cell_type": "code",
   "execution_count": 33,
   "id": "undefined-template",
   "metadata": {
    "deletable": false,
    "editable": false,
    "nbgrader": {
     "cell_type": "code",
     "checksum": "1b6e7d0959dff2d6628ba8d35140f57d",
     "grade": true,
     "grade_id": "cell-a871780f287ad9e4",
     "locked": true,
     "points": 1,
     "schema_version": 3,
     "solution": false,
     "task": false
    }
   },
   "outputs": [
    {
     "name": "stdout",
     "output_type": "stream",
     "text": [
      "mass_rad_cov has the correct value\n",
      "Test passed!\n"
     ]
    },
    {
     "data": {
      "text/plain": "1"
     },
     "execution_count": 33,
     "metadata": {},
     "output_type": "execute_result"
    }
   ],
   "source": [
    "# 1 Mark\n",
    "# Do not try to delete this cell\n",
    "# Run this cell for grading\n",
    "_globals = globals()\n",
    "question2f(_globals)"
   ]
  },
  {
   "cell_type": "markdown",
   "id": "defensive-walker",
   "metadata": {
    "deletable": false,
    "editable": false,
    "nbgrader": {
     "cell_type": "markdown",
     "checksum": "2503caa196a2edcbf5e52e0670ae297c",
     "grade": false,
     "grade_id": "cell-660fc543478bdd9e",
     "locked": true,
     "schema_version": 3,
     "solution": false,
     "task": false
    }
   },
   "source": [
    "(g) Calculate the correlation of mass and radius, calling this `mass_rad_corr`."
   ]
  },
  {
   "cell_type": "code",
   "execution_count": 34,
   "id": "homeless-analyst",
   "metadata": {
    "deletable": false,
    "nbgrader": {
     "cell_type": "code",
     "checksum": "b7189212f778c7187ba97a39fb38c253",
     "grade": false,
     "grade_id": "cell-d50940330c77e84b",
     "locked": false,
     "schema_version": 3,
     "solution": true,
     "task": false
    }
   },
   "outputs": [
    {
     "data": {
      "text/plain": "0.8666134506249494"
     },
     "execution_count": 34,
     "metadata": {},
     "output_type": "execute_result"
    }
   ],
   "source": [
    "# YOUR CODE HERE\n",
    "mass_rad_corr = planet_df['mass'].corr(planet_df['radius'])\n",
    "mass_rad_corr"
   ]
  },
  {
   "cell_type": "code",
   "execution_count": 35,
   "id": "married-steel",
   "metadata": {
    "deletable": false,
    "editable": false,
    "nbgrader": {
     "cell_type": "code",
     "checksum": "ecca5b88e85d1300b1f17e543e363137",
     "grade": true,
     "grade_id": "cell-f05d25deb78a4144",
     "locked": true,
     "points": 1,
     "schema_version": 3,
     "solution": false,
     "task": false
    }
   },
   "outputs": [
    {
     "name": "stdout",
     "output_type": "stream",
     "text": [
      "mass_rad_corr has the correct value\n",
      "Test passed!\n"
     ]
    },
    {
     "data": {
      "text/plain": "1"
     },
     "execution_count": 35,
     "metadata": {},
     "output_type": "execute_result"
    }
   ],
   "source": [
    "# 1 Mark\n",
    "# Do not try to delete this cell\n",
    "# Run this cell for grading\n",
    "_globals = globals()\n",
    "question2g(_globals)"
   ]
  },
  {
   "cell_type": "markdown",
   "id": "mental-mileage",
   "metadata": {
    "deletable": false,
    "editable": false,
    "nbgrader": {
     "cell_type": "markdown",
     "checksum": "6fa668d63d4f7642747cf773ede400b9",
     "grade": false,
     "grade_id": "cell-2b7fdb540432bed9",
     "locked": true,
     "schema_version": 3,
     "solution": false,
     "task": false
    }
   },
   "source": [
    "(h) Calculate a correlation matrix for the entire DataFrame, calling this `planet_df_corr`."
   ]
  },
  {
   "cell_type": "code",
   "execution_count": 36,
   "id": "binding-anger",
   "metadata": {
    "deletable": false,
    "nbgrader": {
     "cell_type": "code",
     "checksum": "15212cec7a439798e5794508531383c7",
     "grade": false,
     "grade_id": "cell-e56b5ed7f303e9cb",
     "locked": false,
     "schema_version": 3,
     "solution": true,
     "task": false
    }
   },
   "outputs": [
    {
     "data": {
      "text/plain": "                 escape_velocity      mass    radius  orbital_radius\nescape_velocity         1.000000  0.928443  0.972054        0.258358\nmass                    0.928443  1.000000  0.866613       -0.050203\nradius                  0.972054  0.866613  1.000000        0.261130\norbital_radius          0.258358 -0.050203  0.261130        1.000000",
      "text/html": "<div>\n<style scoped>\n    .dataframe tbody tr th:only-of-type {\n        vertical-align: middle;\n    }\n\n    .dataframe tbody tr th {\n        vertical-align: top;\n    }\n\n    .dataframe thead th {\n        text-align: right;\n    }\n</style>\n<table border=\"1\" class=\"dataframe\">\n  <thead>\n    <tr style=\"text-align: right;\">\n      <th></th>\n      <th>escape_velocity</th>\n      <th>mass</th>\n      <th>radius</th>\n      <th>orbital_radius</th>\n    </tr>\n  </thead>\n  <tbody>\n    <tr>\n      <th>escape_velocity</th>\n      <td>1.000000</td>\n      <td>0.928443</td>\n      <td>0.972054</td>\n      <td>0.258358</td>\n    </tr>\n    <tr>\n      <th>mass</th>\n      <td>0.928443</td>\n      <td>1.000000</td>\n      <td>0.866613</td>\n      <td>-0.050203</td>\n    </tr>\n    <tr>\n      <th>radius</th>\n      <td>0.972054</td>\n      <td>0.866613</td>\n      <td>1.000000</td>\n      <td>0.261130</td>\n    </tr>\n    <tr>\n      <th>orbital_radius</th>\n      <td>0.258358</td>\n      <td>-0.050203</td>\n      <td>0.261130</td>\n      <td>1.000000</td>\n    </tr>\n  </tbody>\n</table>\n</div>"
     },
     "execution_count": 36,
     "metadata": {},
     "output_type": "execute_result"
    }
   ],
   "source": [
    "# YOUR CODE HERE\n",
    "planet_df_corr = planet_df.corr()\n",
    "planet_df_corr"
   ]
  },
  {
   "cell_type": "code",
   "execution_count": 37,
   "id": "separated-origin",
   "metadata": {
    "deletable": false,
    "editable": false,
    "nbgrader": {
     "cell_type": "code",
     "checksum": "cdd4b7addbead5f62db2238e13e34817",
     "grade": true,
     "grade_id": "cell-a374457031e5afac",
     "locked": true,
     "points": 1,
     "schema_version": 3,
     "solution": false,
     "task": false
    }
   },
   "outputs": [
    {
     "name": "stdout",
     "output_type": "stream",
     "text": [
      "planet_df_corr is defined correctly\n",
      "Test passed!\n"
     ]
    },
    {
     "data": {
      "text/plain": "1"
     },
     "execution_count": 37,
     "metadata": {},
     "output_type": "execute_result"
    }
   ],
   "source": [
    "# 1 Mark\n",
    "# Do not try to delete this cell\n",
    "# Run this cell for grading\n",
    "_globals = globals()\n",
    "question2h(_globals)"
   ]
  },
  {
   "cell_type": "markdown",
   "id": "capital-heather",
   "metadata": {
    "deletable": false,
    "editable": false,
    "nbgrader": {
     "cell_type": "markdown",
     "checksum": "fd4bb6289db199e7f9490cdcf936d5ac",
     "grade": false,
     "grade_id": "cell-d8bbf65a585f3b91",
     "locked": true,
     "schema_version": 3,
     "solution": false,
     "task": false
    }
   },
   "source": [
    "(j) Group the planets by radius, showing the mean escape velocity and mass. Call this `planet_df_grouped`."
   ]
  },
  {
   "cell_type": "code",
   "execution_count": 38,
   "id": "stretch-belly",
   "metadata": {
    "deletable": false,
    "nbgrader": {
     "cell_type": "code",
     "checksum": "2101c5018029d8841b6adf6edf821c1f",
     "grade": false,
     "grade_id": "cell-5bdf4457f70dd169",
     "locked": false,
     "schema_version": 3,
     "solution": true,
     "task": false
    }
   },
   "outputs": [
    {
     "data": {
      "text/plain": "            escape_velocity          mass\nradius                                   \n2400000.0            4300.0  3.300000e+23\n3400000.0            5000.0  6.400000e+23\n6100000.0           10000.0  4.900000e+24\n6300000.0           11000.0  6.000000e+24\n25000000.0          23000.0  9.350000e+25\n57000000.0          36000.0  5.600000e+26\n69000000.0          60000.0  1.900000e+27",
      "text/html": "<div>\n<style scoped>\n    .dataframe tbody tr th:only-of-type {\n        vertical-align: middle;\n    }\n\n    .dataframe tbody tr th {\n        vertical-align: top;\n    }\n\n    .dataframe thead th {\n        text-align: right;\n    }\n</style>\n<table border=\"1\" class=\"dataframe\">\n  <thead>\n    <tr style=\"text-align: right;\">\n      <th></th>\n      <th>escape_velocity</th>\n      <th>mass</th>\n    </tr>\n    <tr>\n      <th>radius</th>\n      <th></th>\n      <th></th>\n    </tr>\n  </thead>\n  <tbody>\n    <tr>\n      <th>2400000.0</th>\n      <td>4300.0</td>\n      <td>3.300000e+23</td>\n    </tr>\n    <tr>\n      <th>3400000.0</th>\n      <td>5000.0</td>\n      <td>6.400000e+23</td>\n    </tr>\n    <tr>\n      <th>6100000.0</th>\n      <td>10000.0</td>\n      <td>4.900000e+24</td>\n    </tr>\n    <tr>\n      <th>6300000.0</th>\n      <td>11000.0</td>\n      <td>6.000000e+24</td>\n    </tr>\n    <tr>\n      <th>25000000.0</th>\n      <td>23000.0</td>\n      <td>9.350000e+25</td>\n    </tr>\n    <tr>\n      <th>57000000.0</th>\n      <td>36000.0</td>\n      <td>5.600000e+26</td>\n    </tr>\n    <tr>\n      <th>69000000.0</th>\n      <td>60000.0</td>\n      <td>1.900000e+27</td>\n    </tr>\n  </tbody>\n</table>\n</div>"
     },
     "execution_count": 38,
     "metadata": {},
     "output_type": "execute_result"
    }
   ],
   "source": [
    "planet_df_grouped = planet_df.groupby('radius').mean()\n",
    "# print(planet_df)\n",
    "planet_df_grouped = planet_df_grouped[['escape_velocity', 'mass']]\n",
    "planet_df_grouped"
   ]
  },
  {
   "cell_type": "code",
   "execution_count": 39,
   "id": "configured-sheffield",
   "metadata": {
    "deletable": false,
    "editable": false,
    "nbgrader": {
     "cell_type": "code",
     "checksum": "fc8db8ecc967575ba84bf2b7b436082d",
     "grade": true,
     "grade_id": "cell-3acb0d7b798ca5ce",
     "locked": true,
     "points": 1,
     "schema_version": 3,
     "solution": false,
     "task": false
    }
   },
   "outputs": [
    {
     "name": "stdout",
     "output_type": "stream",
     "text": [
      "planet_df_grouped is defined correctly\n",
      "Test passed!\n"
     ]
    },
    {
     "data": {
      "text/plain": "1"
     },
     "execution_count": 39,
     "metadata": {},
     "output_type": "execute_result"
    }
   ],
   "source": [
    "# 1 Mark\n",
    "# Do not try to delete this cell\n",
    "# Run this cell for grading\n",
    "_globals = globals()\n",
    "question2j(_globals)"
   ]
  },
  {
   "cell_type": "markdown",
   "id": "opponent-stick",
   "metadata": {
    "deletable": false,
    "editable": false,
    "nbgrader": {
     "cell_type": "markdown",
     "checksum": "bde519f48bfedec65b46d939ed0d0c7e",
     "grade": false,
     "grade_id": "cell-fadbb7d5caa5f9b7",
     "locked": true,
     "schema_version": 3,
     "solution": false,
     "task": false
    }
   },
   "source": [
    "## Question 3\n",
    "\n",
    "### (i)\n",
    "\n",
    "(a) Create a DataFrame called `stocks_df` by reading in the CSV file `'historical_stock_market.csv'` using `read_csv`. Use the default indexing."
   ]
  },
  {
   "cell_type": "code",
   "execution_count": 40,
   "id": "expensive-brunei",
   "metadata": {
    "deletable": false,
    "nbgrader": {
     "cell_type": "code",
     "checksum": "81985a353ec67fb7dacdd48008cd54c8",
     "grade": false,
     "grade_id": "cell-6100949c13ea053a",
     "locked": false,
     "schema_version": 3,
     "solution": true,
     "task": false
    }
   },
   "outputs": [
    {
     "data": {
      "text/plain": "         Date       Open       High        Low      Close  Adj Close  Volume\n0  2019-03-06  21.480000  21.480000  20.660000  20.780001  20.505596   94700\n1  2019-03-07  20.809999  20.809999  20.340000  20.570000  20.298367   95800\n2  2019-03-08  20.410000  21.100000  20.410000  20.990000  20.712820  138000\n3  2019-03-11  21.030001  21.100000  20.709999  20.889999  20.614141   74500\n4  2019-03-12  20.790001  20.910000  20.340000  20.370001  20.101009  101800",
      "text/html": "<div>\n<style scoped>\n    .dataframe tbody tr th:only-of-type {\n        vertical-align: middle;\n    }\n\n    .dataframe tbody tr th {\n        vertical-align: top;\n    }\n\n    .dataframe thead th {\n        text-align: right;\n    }\n</style>\n<table border=\"1\" class=\"dataframe\">\n  <thead>\n    <tr style=\"text-align: right;\">\n      <th></th>\n      <th>Date</th>\n      <th>Open</th>\n      <th>High</th>\n      <th>Low</th>\n      <th>Close</th>\n      <th>Adj Close</th>\n      <th>Volume</th>\n    </tr>\n  </thead>\n  <tbody>\n    <tr>\n      <th>0</th>\n      <td>2019-03-06</td>\n      <td>21.480000</td>\n      <td>21.480000</td>\n      <td>20.660000</td>\n      <td>20.780001</td>\n      <td>20.505596</td>\n      <td>94700</td>\n    </tr>\n    <tr>\n      <th>1</th>\n      <td>2019-03-07</td>\n      <td>20.809999</td>\n      <td>20.809999</td>\n      <td>20.340000</td>\n      <td>20.570000</td>\n      <td>20.298367</td>\n      <td>95800</td>\n    </tr>\n    <tr>\n      <th>2</th>\n      <td>2019-03-08</td>\n      <td>20.410000</td>\n      <td>21.100000</td>\n      <td>20.410000</td>\n      <td>20.990000</td>\n      <td>20.712820</td>\n      <td>138000</td>\n    </tr>\n    <tr>\n      <th>3</th>\n      <td>2019-03-11</td>\n      <td>21.030001</td>\n      <td>21.100000</td>\n      <td>20.709999</td>\n      <td>20.889999</td>\n      <td>20.614141</td>\n      <td>74500</td>\n    </tr>\n    <tr>\n      <th>4</th>\n      <td>2019-03-12</td>\n      <td>20.790001</td>\n      <td>20.910000</td>\n      <td>20.340000</td>\n      <td>20.370001</td>\n      <td>20.101009</td>\n      <td>101800</td>\n    </tr>\n  </tbody>\n</table>\n</div>"
     },
     "execution_count": 40,
     "metadata": {},
     "output_type": "execute_result"
    }
   ],
   "source": [
    "# YOUR CODE HERE\n",
    "path = 'historical_stock_market.csv'\n",
    "stocks_df = pd.read_csv(path)\n",
    "stocks_df.head()"
   ]
  },
  {
   "cell_type": "code",
   "execution_count": 41,
   "id": "caring-headquarters",
   "metadata": {
    "deletable": false,
    "editable": false,
    "nbgrader": {
     "cell_type": "code",
     "checksum": "fadbfddaee09ca88b9160097ed2c94ce",
     "grade": true,
     "grade_id": "cell-787345f9f8362bd9",
     "locked": true,
     "points": 1,
     "schema_version": 3,
     "solution": false,
     "task": false
    }
   },
   "outputs": [
    {
     "name": "stdout",
     "output_type": "stream",
     "text": [
      "stocks_df is defined correctly\n",
      "Test passed!\n"
     ]
    },
    {
     "data": {
      "text/plain": "1"
     },
     "execution_count": 41,
     "metadata": {},
     "output_type": "execute_result"
    }
   ],
   "source": [
    "# 1 Mark\n",
    "# Do not try to delete this cell\n",
    "# Run this cell for grading\n",
    "_globals = globals()\n",
    "question3ia(_globals)"
   ]
  },
  {
   "cell_type": "markdown",
   "id": "instrumental-disaster",
   "metadata": {
    "deletable": false,
    "editable": false,
    "nbgrader": {
     "cell_type": "markdown",
     "checksum": "bcd502ea87db13969f41a1471056401e",
     "grade": false,
     "grade_id": "cell-dd9444f7a711ea60",
     "locked": true,
     "schema_version": 3,
     "solution": false,
     "task": false
    }
   },
   "source": [
    "(b) Create a DataFrame called `stocks_df2` by reading in `'historical_stock_market.csv'` using `read_csv`, making the 'Date' column into the index."
   ]
  },
  {
   "cell_type": "code",
   "execution_count": 42,
   "id": "drawn-sacrifice",
   "metadata": {
    "deletable": false,
    "nbgrader": {
     "cell_type": "code",
     "checksum": "ede9cff7781da01da7b599cb57d3433e",
     "grade": false,
     "grade_id": "cell-0377451ae414cef7",
     "locked": false,
     "schema_version": 3,
     "solution": true,
     "task": false
    }
   },
   "outputs": [
    {
     "data": {
      "text/plain": "                 Open       High        Low      Close  Adj Close  Volume\nDate                                                                     \n2019-03-06  21.480000  21.480000  20.660000  20.780001  20.505596   94700\n2019-03-07  20.809999  20.809999  20.340000  20.570000  20.298367   95800\n2019-03-08  20.410000  21.100000  20.410000  20.990000  20.712820  138000\n2019-03-11  21.030001  21.100000  20.709999  20.889999  20.614141   74500\n2019-03-12  20.790001  20.910000  20.340000  20.370001  20.101009  101800",
      "text/html": "<div>\n<style scoped>\n    .dataframe tbody tr th:only-of-type {\n        vertical-align: middle;\n    }\n\n    .dataframe tbody tr th {\n        vertical-align: top;\n    }\n\n    .dataframe thead th {\n        text-align: right;\n    }\n</style>\n<table border=\"1\" class=\"dataframe\">\n  <thead>\n    <tr style=\"text-align: right;\">\n      <th></th>\n      <th>Open</th>\n      <th>High</th>\n      <th>Low</th>\n      <th>Close</th>\n      <th>Adj Close</th>\n      <th>Volume</th>\n    </tr>\n    <tr>\n      <th>Date</th>\n      <th></th>\n      <th></th>\n      <th></th>\n      <th></th>\n      <th></th>\n      <th></th>\n    </tr>\n  </thead>\n  <tbody>\n    <tr>\n      <th>2019-03-06</th>\n      <td>21.480000</td>\n      <td>21.480000</td>\n      <td>20.660000</td>\n      <td>20.780001</td>\n      <td>20.505596</td>\n      <td>94700</td>\n    </tr>\n    <tr>\n      <th>2019-03-07</th>\n      <td>20.809999</td>\n      <td>20.809999</td>\n      <td>20.340000</td>\n      <td>20.570000</td>\n      <td>20.298367</td>\n      <td>95800</td>\n    </tr>\n    <tr>\n      <th>2019-03-08</th>\n      <td>20.410000</td>\n      <td>21.100000</td>\n      <td>20.410000</td>\n      <td>20.990000</td>\n      <td>20.712820</td>\n      <td>138000</td>\n    </tr>\n    <tr>\n      <th>2019-03-11</th>\n      <td>21.030001</td>\n      <td>21.100000</td>\n      <td>20.709999</td>\n      <td>20.889999</td>\n      <td>20.614141</td>\n      <td>74500</td>\n    </tr>\n    <tr>\n      <th>2019-03-12</th>\n      <td>20.790001</td>\n      <td>20.910000</td>\n      <td>20.340000</td>\n      <td>20.370001</td>\n      <td>20.101009</td>\n      <td>101800</td>\n    </tr>\n  </tbody>\n</table>\n</div>"
     },
     "execution_count": 42,
     "metadata": {},
     "output_type": "execute_result"
    }
   ],
   "source": [
    "# YOUR CODE HERE\n",
    "stocks_df2 = pd.read_csv(path, index_col='Date')\n",
    "stocks_df2.head()"
   ]
  },
  {
   "cell_type": "code",
   "execution_count": 43,
   "id": "bearing-narrative",
   "metadata": {
    "deletable": false,
    "editable": false,
    "nbgrader": {
     "cell_type": "code",
     "checksum": "cc13b3c2218108c71f5ec1c9b632c95e",
     "grade": true,
     "grade_id": "cell-1d0daa2749fa0220",
     "locked": true,
     "points": 1,
     "schema_version": 3,
     "solution": false,
     "task": false
    }
   },
   "outputs": [
    {
     "name": "stdout",
     "output_type": "stream",
     "text": [
      "stocks_df2 is defined correctly\n",
      "Test passed!\n"
     ]
    },
    {
     "data": {
      "text/plain": "1"
     },
     "execution_count": 43,
     "metadata": {},
     "output_type": "execute_result"
    }
   ],
   "source": [
    "# 1 Mark\n",
    "# Do not try to delete this cell\n",
    "# Run this cell for grading\n",
    "_globals = globals()\n",
    "question3ib(_globals)"
   ]
  },
  {
   "cell_type": "markdown",
   "id": "pacific-sellers",
   "metadata": {
    "deletable": false,
    "editable": false,
    "nbgrader": {
     "cell_type": "markdown",
     "checksum": "22305865b430f5430b1c652b873790a1",
     "grade": false,
     "grade_id": "cell-c7c53fa415d9b0d2",
     "locked": true,
     "schema_version": 3,
     "solution": false,
     "task": false
    }
   },
   "source": [
    "(c) Using the `to_datetime` function, convert the index of `stocks_df2` from the default format to a DateTimeField."
   ]
  },
  {
   "cell_type": "code",
   "execution_count": 44,
   "id": "prompt-telephone",
   "metadata": {
    "deletable": false,
    "nbgrader": {
     "cell_type": "code",
     "checksum": "560132a849838c9e16964710d3f5de66",
     "grade": false,
     "grade_id": "cell-310f07b1f543ac1d",
     "locked": false,
     "schema_version": 3,
     "solution": true,
     "task": false
    }
   },
   "outputs": [
    {
     "data": {
      "text/plain": "                 Open       High        Low      Close  Adj Close  Volume\nDate                                                                     \n2019-03-06  21.480000  21.480000  20.660000  20.780001  20.505596   94700\n2019-03-07  20.809999  20.809999  20.340000  20.570000  20.298367   95800\n2019-03-08  20.410000  21.100000  20.410000  20.990000  20.712820  138000\n2019-03-11  21.030001  21.100000  20.709999  20.889999  20.614141   74500\n2019-03-12  20.790001  20.910000  20.340000  20.370001  20.101009  101800",
      "text/html": "<div>\n<style scoped>\n    .dataframe tbody tr th:only-of-type {\n        vertical-align: middle;\n    }\n\n    .dataframe tbody tr th {\n        vertical-align: top;\n    }\n\n    .dataframe thead th {\n        text-align: right;\n    }\n</style>\n<table border=\"1\" class=\"dataframe\">\n  <thead>\n    <tr style=\"text-align: right;\">\n      <th></th>\n      <th>Open</th>\n      <th>High</th>\n      <th>Low</th>\n      <th>Close</th>\n      <th>Adj Close</th>\n      <th>Volume</th>\n    </tr>\n    <tr>\n      <th>Date</th>\n      <th></th>\n      <th></th>\n      <th></th>\n      <th></th>\n      <th></th>\n      <th></th>\n    </tr>\n  </thead>\n  <tbody>\n    <tr>\n      <th>2019-03-06</th>\n      <td>21.480000</td>\n      <td>21.480000</td>\n      <td>20.660000</td>\n      <td>20.780001</td>\n      <td>20.505596</td>\n      <td>94700</td>\n    </tr>\n    <tr>\n      <th>2019-03-07</th>\n      <td>20.809999</td>\n      <td>20.809999</td>\n      <td>20.340000</td>\n      <td>20.570000</td>\n      <td>20.298367</td>\n      <td>95800</td>\n    </tr>\n    <tr>\n      <th>2019-03-08</th>\n      <td>20.410000</td>\n      <td>21.100000</td>\n      <td>20.410000</td>\n      <td>20.990000</td>\n      <td>20.712820</td>\n      <td>138000</td>\n    </tr>\n    <tr>\n      <th>2019-03-11</th>\n      <td>21.030001</td>\n      <td>21.100000</td>\n      <td>20.709999</td>\n      <td>20.889999</td>\n      <td>20.614141</td>\n      <td>74500</td>\n    </tr>\n    <tr>\n      <th>2019-03-12</th>\n      <td>20.790001</td>\n      <td>20.910000</td>\n      <td>20.340000</td>\n      <td>20.370001</td>\n      <td>20.101009</td>\n      <td>101800</td>\n    </tr>\n  </tbody>\n</table>\n</div>"
     },
     "execution_count": 44,
     "metadata": {},
     "output_type": "execute_result"
    }
   ],
   "source": [
    "# YOUR CODE HERE\n",
    "stocks_df2.index = pd.to_datetime(stocks_df2.index)\n",
    "stocks_df2.head()"
   ]
  },
  {
   "cell_type": "code",
   "execution_count": 45,
   "id": "scenic-green",
   "metadata": {
    "deletable": false,
    "editable": false,
    "nbgrader": {
     "cell_type": "code",
     "checksum": "268fadd0b0ac374411a44c1677825b24",
     "grade": true,
     "grade_id": "cell-2ca01e4a9433b11e",
     "locked": true,
     "points": 1,
     "schema_version": 3,
     "solution": false,
     "task": false
    }
   },
   "outputs": [
    {
     "name": "stdout",
     "output_type": "stream",
     "text": [
      "stocks_df2 is defined correctly\n",
      "Test passed!\n"
     ]
    },
    {
     "data": {
      "text/plain": "1"
     },
     "execution_count": 45,
     "metadata": {},
     "output_type": "execute_result"
    }
   ],
   "source": [
    "# 1 Mark\n",
    "# Do not try to delete this cell\n",
    "# Run this cell for grading\n",
    "_globals = globals()\n",
    "question3ic(_globals)"
   ]
  },
  {
   "cell_type": "markdown",
   "id": "numerous-holmes",
   "metadata": {
    "deletable": false,
    "editable": false,
    "nbgrader": {
     "cell_type": "markdown",
     "checksum": "fb70d08631a2fb84b6114cd4dfa34dba",
     "grade": false,
     "grade_id": "cell-679b216203e81981",
     "locked": true,
     "schema_version": 3,
     "solution": false,
     "task": false
    }
   },
   "source": [
    "(d) Create a DataFrame, `stocks_change`, of day-on-day percentage changes in all columns of `stocks_df2`. Convert each incidence of NaN into 0."
   ]
  },
  {
   "cell_type": "code",
   "execution_count": 46,
   "id": "medium-infrared",
   "metadata": {
    "deletable": false,
    "nbgrader": {
     "cell_type": "code",
     "checksum": "9fd282bd9a64312bb0182f291ca20c0e",
     "grade": false,
     "grade_id": "cell-85fad9cde7c57db1",
     "locked": false,
     "schema_version": 3,
     "solution": true,
     "task": false
    }
   },
   "outputs": [
    {
     "data": {
      "text/plain": "                Open      High       Low     Close  Adj Close    Volume\nDate                                                                   \n2019-03-06  0.000000  0.000000  0.000000  0.000000   0.000000  0.000000\n2019-03-07 -0.031192 -0.031192 -0.015489 -0.010106  -0.010106  0.011616\n2019-03-08 -0.019221  0.013936  0.003441  0.020418   0.020418  0.440501\n2019-03-11  0.030377  0.000000  0.014699 -0.004764  -0.004764 -0.460145\n2019-03-12 -0.011412 -0.009005 -0.017866 -0.024892  -0.024892  0.366443",
      "text/html": "<div>\n<style scoped>\n    .dataframe tbody tr th:only-of-type {\n        vertical-align: middle;\n    }\n\n    .dataframe tbody tr th {\n        vertical-align: top;\n    }\n\n    .dataframe thead th {\n        text-align: right;\n    }\n</style>\n<table border=\"1\" class=\"dataframe\">\n  <thead>\n    <tr style=\"text-align: right;\">\n      <th></th>\n      <th>Open</th>\n      <th>High</th>\n      <th>Low</th>\n      <th>Close</th>\n      <th>Adj Close</th>\n      <th>Volume</th>\n    </tr>\n    <tr>\n      <th>Date</th>\n      <th></th>\n      <th></th>\n      <th></th>\n      <th></th>\n      <th></th>\n      <th></th>\n    </tr>\n  </thead>\n  <tbody>\n    <tr>\n      <th>2019-03-06</th>\n      <td>0.000000</td>\n      <td>0.000000</td>\n      <td>0.000000</td>\n      <td>0.000000</td>\n      <td>0.000000</td>\n      <td>0.000000</td>\n    </tr>\n    <tr>\n      <th>2019-03-07</th>\n      <td>-0.031192</td>\n      <td>-0.031192</td>\n      <td>-0.015489</td>\n      <td>-0.010106</td>\n      <td>-0.010106</td>\n      <td>0.011616</td>\n    </tr>\n    <tr>\n      <th>2019-03-08</th>\n      <td>-0.019221</td>\n      <td>0.013936</td>\n      <td>0.003441</td>\n      <td>0.020418</td>\n      <td>0.020418</td>\n      <td>0.440501</td>\n    </tr>\n    <tr>\n      <th>2019-03-11</th>\n      <td>0.030377</td>\n      <td>0.000000</td>\n      <td>0.014699</td>\n      <td>-0.004764</td>\n      <td>-0.004764</td>\n      <td>-0.460145</td>\n    </tr>\n    <tr>\n      <th>2019-03-12</th>\n      <td>-0.011412</td>\n      <td>-0.009005</td>\n      <td>-0.017866</td>\n      <td>-0.024892</td>\n      <td>-0.024892</td>\n      <td>0.366443</td>\n    </tr>\n  </tbody>\n</table>\n</div>"
     },
     "execution_count": 46,
     "metadata": {},
     "output_type": "execute_result"
    }
   ],
   "source": [
    "# YOUR CODE HERE\n",
    "stocks_change = stocks_df2.pct_change()\n",
    "\n",
    "# Replace NaN with 0\n",
    "stocks_change.fillna(0, inplace=True)\n",
    "\n",
    "stocks_change.head()"
   ]
  },
  {
   "cell_type": "code",
   "execution_count": 47,
   "id": "solar-aruba",
   "metadata": {
    "deletable": false,
    "editable": false,
    "nbgrader": {
     "cell_type": "code",
     "checksum": "8aeb1ddb46aaab4bb17649981bb04811",
     "grade": true,
     "grade_id": "cell-9b95480b5c7555b8",
     "locked": true,
     "points": 1,
     "schema_version": 3,
     "solution": false,
     "task": false
    }
   },
   "outputs": [
    {
     "name": "stdout",
     "output_type": "stream",
     "text": [
      "stocks_change is defined correctly\n",
      "Test passed!\n"
     ]
    },
    {
     "data": {
      "text/plain": "1"
     },
     "execution_count": 47,
     "metadata": {},
     "output_type": "execute_result"
    }
   ],
   "source": [
    "# 1 Mark\n",
    "# Do not try to delete this cell\n",
    "# Run this cell for grading\n",
    "_globals = globals()\n",
    "question3id(_globals)"
   ]
  },
  {
   "cell_type": "markdown",
   "id": "fatty-chancellor",
   "metadata": {
    "deletable": false,
    "editable": false,
    "nbgrader": {
     "cell_type": "markdown",
     "checksum": "98ced96440523e74ddafe3989309bfd2",
     "grade": false,
     "grade_id": "cell-a13160cee31e8137",
     "locked": true,
     "schema_version": 3,
     "solution": false,
     "task": false
    }
   },
   "source": [
    "(e) Create a DataFrame, `stocks_rollingmeans`, of 3-day rolling means in all columns of `stocks_df2`. Leave the NaNs as they are!"
   ]
  },
  {
   "cell_type": "code",
   "execution_count": 48,
   "id": "printable-minority",
   "metadata": {
    "deletable": false,
    "nbgrader": {
     "cell_type": "code",
     "checksum": "5b40ee3e3a9e1289f40ab528a24c72ec",
     "grade": false,
     "grade_id": "cell-2f4a11780dcfd05e",
     "locked": false,
     "schema_version": 3,
     "solution": true,
     "task": false
    }
   },
   "outputs": [
    {
     "data": {
      "text/plain": "                 Open       High        Low      Close  Adj Close   \nDate                                                                \n2019-03-06        NaN        NaN        NaN        NaN        NaN  \\\n2019-03-07        NaN        NaN        NaN        NaN        NaN   \n2019-03-08  20.900000  21.130000  20.470000  20.780000  20.505594   \n2019-03-11  20.750000  21.003333  20.486666  20.816666  20.541776   \n2019-03-12  20.743334  21.036667  20.486666  20.750000  20.475990   \n2019-03-13  20.706667  20.780000  20.346666  20.453333  20.183241   \n2019-03-14  20.410000  20.473333  20.076667  20.140001  19.874046   \n2019-03-15  20.130000  20.190000  19.846667  19.913334  19.650373   \n2019-03-18  19.950000  20.099999  19.770000  19.883334  19.620769   \n2019-03-19  19.906667  20.149999  19.800000  19.930000  19.666819   \n2019-03-20  19.940000  20.146666  19.713333  19.843333  19.581296   \n2019-03-21  19.830000  20.046666  19.586666  19.703333  19.443144   \n2019-03-22  19.663333  19.780000  19.189999  19.283333  19.028690   \n2019-03-25  19.260000  19.430000  18.913332  19.110000  18.857646   \n2019-03-26  19.113333  19.240001  18.766666  18.960000  18.709627   \n2019-03-27  18.956667  19.140000  18.793333  19.053333  18.801728   \n2019-03-28  19.070000  19.236667  18.953334  19.156666  18.903696   \n2019-03-29  19.133334  19.283334  18.963333  19.193333  18.939878   \n2019-04-01  19.203333  19.346667  19.050000  19.220000  18.966193   \n2019-04-02  19.206667  19.350000  19.023332  19.196667  18.943168   \n\n                   Volume  \nDate                       \n2019-03-06            NaN  \n2019-03-07            NaN  \n2019-03-08  109500.000000  \n2019-03-11  102766.666667  \n2019-03-12  104766.666667  \n2019-03-13   93300.000000  \n2019-03-14   93000.000000  \n2019-03-15  143333.333333  \n2019-03-18  164100.000000  \n2019-03-19  166066.666667  \n2019-03-20  124433.333333  \n2019-03-21  101800.000000  \n2019-03-22  119166.666667  \n2019-03-25  115533.333333  \n2019-03-26   96100.000000  \n2019-03-27   77200.000000  \n2019-03-28   57233.333333  \n2019-03-29   72900.000000  \n2019-04-01   64133.333333  \n2019-04-02   71566.666667  ",
      "text/html": "<div>\n<style scoped>\n    .dataframe tbody tr th:only-of-type {\n        vertical-align: middle;\n    }\n\n    .dataframe tbody tr th {\n        vertical-align: top;\n    }\n\n    .dataframe thead th {\n        text-align: right;\n    }\n</style>\n<table border=\"1\" class=\"dataframe\">\n  <thead>\n    <tr style=\"text-align: right;\">\n      <th></th>\n      <th>Open</th>\n      <th>High</th>\n      <th>Low</th>\n      <th>Close</th>\n      <th>Adj Close</th>\n      <th>Volume</th>\n    </tr>\n    <tr>\n      <th>Date</th>\n      <th></th>\n      <th></th>\n      <th></th>\n      <th></th>\n      <th></th>\n      <th></th>\n    </tr>\n  </thead>\n  <tbody>\n    <tr>\n      <th>2019-03-06</th>\n      <td>NaN</td>\n      <td>NaN</td>\n      <td>NaN</td>\n      <td>NaN</td>\n      <td>NaN</td>\n      <td>NaN</td>\n    </tr>\n    <tr>\n      <th>2019-03-07</th>\n      <td>NaN</td>\n      <td>NaN</td>\n      <td>NaN</td>\n      <td>NaN</td>\n      <td>NaN</td>\n      <td>NaN</td>\n    </tr>\n    <tr>\n      <th>2019-03-08</th>\n      <td>20.900000</td>\n      <td>21.130000</td>\n      <td>20.470000</td>\n      <td>20.780000</td>\n      <td>20.505594</td>\n      <td>109500.000000</td>\n    </tr>\n    <tr>\n      <th>2019-03-11</th>\n      <td>20.750000</td>\n      <td>21.003333</td>\n      <td>20.486666</td>\n      <td>20.816666</td>\n      <td>20.541776</td>\n      <td>102766.666667</td>\n    </tr>\n    <tr>\n      <th>2019-03-12</th>\n      <td>20.743334</td>\n      <td>21.036667</td>\n      <td>20.486666</td>\n      <td>20.750000</td>\n      <td>20.475990</td>\n      <td>104766.666667</td>\n    </tr>\n    <tr>\n      <th>2019-03-13</th>\n      <td>20.706667</td>\n      <td>20.780000</td>\n      <td>20.346666</td>\n      <td>20.453333</td>\n      <td>20.183241</td>\n      <td>93300.000000</td>\n    </tr>\n    <tr>\n      <th>2019-03-14</th>\n      <td>20.410000</td>\n      <td>20.473333</td>\n      <td>20.076667</td>\n      <td>20.140001</td>\n      <td>19.874046</td>\n      <td>93000.000000</td>\n    </tr>\n    <tr>\n      <th>2019-03-15</th>\n      <td>20.130000</td>\n      <td>20.190000</td>\n      <td>19.846667</td>\n      <td>19.913334</td>\n      <td>19.650373</td>\n      <td>143333.333333</td>\n    </tr>\n    <tr>\n      <th>2019-03-18</th>\n      <td>19.950000</td>\n      <td>20.099999</td>\n      <td>19.770000</td>\n      <td>19.883334</td>\n      <td>19.620769</td>\n      <td>164100.000000</td>\n    </tr>\n    <tr>\n      <th>2019-03-19</th>\n      <td>19.906667</td>\n      <td>20.149999</td>\n      <td>19.800000</td>\n      <td>19.930000</td>\n      <td>19.666819</td>\n      <td>166066.666667</td>\n    </tr>\n    <tr>\n      <th>2019-03-20</th>\n      <td>19.940000</td>\n      <td>20.146666</td>\n      <td>19.713333</td>\n      <td>19.843333</td>\n      <td>19.581296</td>\n      <td>124433.333333</td>\n    </tr>\n    <tr>\n      <th>2019-03-21</th>\n      <td>19.830000</td>\n      <td>20.046666</td>\n      <td>19.586666</td>\n      <td>19.703333</td>\n      <td>19.443144</td>\n      <td>101800.000000</td>\n    </tr>\n    <tr>\n      <th>2019-03-22</th>\n      <td>19.663333</td>\n      <td>19.780000</td>\n      <td>19.189999</td>\n      <td>19.283333</td>\n      <td>19.028690</td>\n      <td>119166.666667</td>\n    </tr>\n    <tr>\n      <th>2019-03-25</th>\n      <td>19.260000</td>\n      <td>19.430000</td>\n      <td>18.913332</td>\n      <td>19.110000</td>\n      <td>18.857646</td>\n      <td>115533.333333</td>\n    </tr>\n    <tr>\n      <th>2019-03-26</th>\n      <td>19.113333</td>\n      <td>19.240001</td>\n      <td>18.766666</td>\n      <td>18.960000</td>\n      <td>18.709627</td>\n      <td>96100.000000</td>\n    </tr>\n    <tr>\n      <th>2019-03-27</th>\n      <td>18.956667</td>\n      <td>19.140000</td>\n      <td>18.793333</td>\n      <td>19.053333</td>\n      <td>18.801728</td>\n      <td>77200.000000</td>\n    </tr>\n    <tr>\n      <th>2019-03-28</th>\n      <td>19.070000</td>\n      <td>19.236667</td>\n      <td>18.953334</td>\n      <td>19.156666</td>\n      <td>18.903696</td>\n      <td>57233.333333</td>\n    </tr>\n    <tr>\n      <th>2019-03-29</th>\n      <td>19.133334</td>\n      <td>19.283334</td>\n      <td>18.963333</td>\n      <td>19.193333</td>\n      <td>18.939878</td>\n      <td>72900.000000</td>\n    </tr>\n    <tr>\n      <th>2019-04-01</th>\n      <td>19.203333</td>\n      <td>19.346667</td>\n      <td>19.050000</td>\n      <td>19.220000</td>\n      <td>18.966193</td>\n      <td>64133.333333</td>\n    </tr>\n    <tr>\n      <th>2019-04-02</th>\n      <td>19.206667</td>\n      <td>19.350000</td>\n      <td>19.023332</td>\n      <td>19.196667</td>\n      <td>18.943168</td>\n      <td>71566.666667</td>\n    </tr>\n  </tbody>\n</table>\n</div>"
     },
     "execution_count": 48,
     "metadata": {},
     "output_type": "execute_result"
    }
   ],
   "source": [
    "# YOUR CODE HERE\n",
    "stocks_rollingmeans = stocks_df2.rolling(window=3).mean()\n",
    "stocks_rollingmeans.head(20)"
   ]
  },
  {
   "cell_type": "code",
   "execution_count": 49,
   "id": "executive-opposition",
   "metadata": {
    "deletable": false,
    "editable": false,
    "nbgrader": {
     "cell_type": "code",
     "checksum": "608950b715a5ac33ca94450c3095f451",
     "grade": true,
     "grade_id": "cell-d4eb2ea758c3ca80",
     "locked": true,
     "points": 1,
     "schema_version": 3,
     "solution": false,
     "task": false
    }
   },
   "outputs": [
    {
     "name": "stdout",
     "output_type": "stream",
     "text": [
      "stocks_rollingmeans is defined correctly\n",
      "Test passed!\n"
     ]
    },
    {
     "data": {
      "text/plain": "1"
     },
     "execution_count": 49,
     "metadata": {},
     "output_type": "execute_result"
    }
   ],
   "source": [
    "# 1 Mark\n",
    "# Do not try to delete this cell\n",
    "# Run this cell for grading\n",
    "_globals = globals()\n",
    "question3ie(_globals)"
   ]
  },
  {
   "cell_type": "markdown",
   "source": [],
   "metadata": {
    "collapsed": false
   }
  },
  {
   "cell_type": "markdown",
   "id": "speaking-option",
   "metadata": {
    "deletable": false,
    "editable": false,
    "nbgrader": {
     "cell_type": "markdown",
     "checksum": "c68a0725c3671ef6423fe5cafd3328ba",
     "grade": false,
     "grade_id": "cell-55534d0072280ff7",
     "locked": true,
     "schema_version": 3,
     "solution": false,
     "task": false
    }
   },
   "source": [
    "(f) Create a DataFrame, `stocks_max`, in which each element in each column is a cumulative maximum of the elements to date in `stocks_df2`."
   ]
  },
  {
   "cell_type": "code",
   "execution_count": 50,
   "id": "three-shopping",
   "metadata": {
    "deletable": false,
    "nbgrader": {
     "cell_type": "code",
     "checksum": "9a225867dc0bd67cffb80ae4b22d1e36",
     "grade": false,
     "grade_id": "cell-780f1c65275d1323",
     "locked": false,
     "schema_version": 3,
     "solution": true,
     "task": false
    }
   },
   "outputs": [
    {
     "data": {
      "text/plain": "             Open   High        Low      Close  Adj Close  Volume\nDate                                                             \n2019-03-06  21.48  21.48  20.660000  20.780001  20.505596   94700\n2019-03-07  21.48  21.48  20.660000  20.780001  20.505596   95800\n2019-03-08  21.48  21.48  20.660000  20.990000  20.712820  138000\n2019-03-11  21.48  21.48  20.709999  20.990000  20.712820  138000\n2019-03-12  21.48  21.48  20.709999  20.990000  20.712820  138000\n2019-03-13  21.48  21.48  20.709999  20.990000  20.712820  138000\n2019-03-14  21.48  21.48  20.709999  20.990000  20.712820  138000\n2019-03-15  21.48  21.48  20.709999  20.990000  20.712820  252800\n2019-03-18  21.48  21.48  20.709999  20.990000  20.712820  252800\n2019-03-19  21.48  21.48  20.709999  20.990000  20.712820  252800\n2019-03-20  21.48  21.48  20.709999  20.990000  20.712820  252800\n2019-03-21  21.48  21.48  20.709999  20.990000  20.712820  252800\n2019-03-22  21.48  21.48  20.709999  20.990000  20.712820  252800\n2019-03-25  21.48  21.48  20.709999  20.990000  20.712820  252800\n2019-03-26  21.48  21.48  20.709999  20.990000  20.712820  252800\n2019-03-27  21.48  21.48  20.709999  20.990000  20.712820  252800\n2019-03-28  21.48  21.48  20.709999  20.990000  20.712820  252800\n2019-03-29  21.48  21.48  20.709999  20.990000  20.712820  252800\n2019-04-01  21.48  21.48  20.709999  20.990000  20.712820  252800\n2019-04-02  21.48  21.48  20.709999  20.990000  20.712820  252800",
      "text/html": "<div>\n<style scoped>\n    .dataframe tbody tr th:only-of-type {\n        vertical-align: middle;\n    }\n\n    .dataframe tbody tr th {\n        vertical-align: top;\n    }\n\n    .dataframe thead th {\n        text-align: right;\n    }\n</style>\n<table border=\"1\" class=\"dataframe\">\n  <thead>\n    <tr style=\"text-align: right;\">\n      <th></th>\n      <th>Open</th>\n      <th>High</th>\n      <th>Low</th>\n      <th>Close</th>\n      <th>Adj Close</th>\n      <th>Volume</th>\n    </tr>\n    <tr>\n      <th>Date</th>\n      <th></th>\n      <th></th>\n      <th></th>\n      <th></th>\n      <th></th>\n      <th></th>\n    </tr>\n  </thead>\n  <tbody>\n    <tr>\n      <th>2019-03-06</th>\n      <td>21.48</td>\n      <td>21.48</td>\n      <td>20.660000</td>\n      <td>20.780001</td>\n      <td>20.505596</td>\n      <td>94700</td>\n    </tr>\n    <tr>\n      <th>2019-03-07</th>\n      <td>21.48</td>\n      <td>21.48</td>\n      <td>20.660000</td>\n      <td>20.780001</td>\n      <td>20.505596</td>\n      <td>95800</td>\n    </tr>\n    <tr>\n      <th>2019-03-08</th>\n      <td>21.48</td>\n      <td>21.48</td>\n      <td>20.660000</td>\n      <td>20.990000</td>\n      <td>20.712820</td>\n      <td>138000</td>\n    </tr>\n    <tr>\n      <th>2019-03-11</th>\n      <td>21.48</td>\n      <td>21.48</td>\n      <td>20.709999</td>\n      <td>20.990000</td>\n      <td>20.712820</td>\n      <td>138000</td>\n    </tr>\n    <tr>\n      <th>2019-03-12</th>\n      <td>21.48</td>\n      <td>21.48</td>\n      <td>20.709999</td>\n      <td>20.990000</td>\n      <td>20.712820</td>\n      <td>138000</td>\n    </tr>\n    <tr>\n      <th>2019-03-13</th>\n      <td>21.48</td>\n      <td>21.48</td>\n      <td>20.709999</td>\n      <td>20.990000</td>\n      <td>20.712820</td>\n      <td>138000</td>\n    </tr>\n    <tr>\n      <th>2019-03-14</th>\n      <td>21.48</td>\n      <td>21.48</td>\n      <td>20.709999</td>\n      <td>20.990000</td>\n      <td>20.712820</td>\n      <td>138000</td>\n    </tr>\n    <tr>\n      <th>2019-03-15</th>\n      <td>21.48</td>\n      <td>21.48</td>\n      <td>20.709999</td>\n      <td>20.990000</td>\n      <td>20.712820</td>\n      <td>252800</td>\n    </tr>\n    <tr>\n      <th>2019-03-18</th>\n      <td>21.48</td>\n      <td>21.48</td>\n      <td>20.709999</td>\n      <td>20.990000</td>\n      <td>20.712820</td>\n      <td>252800</td>\n    </tr>\n    <tr>\n      <th>2019-03-19</th>\n      <td>21.48</td>\n      <td>21.48</td>\n      <td>20.709999</td>\n      <td>20.990000</td>\n      <td>20.712820</td>\n      <td>252800</td>\n    </tr>\n    <tr>\n      <th>2019-03-20</th>\n      <td>21.48</td>\n      <td>21.48</td>\n      <td>20.709999</td>\n      <td>20.990000</td>\n      <td>20.712820</td>\n      <td>252800</td>\n    </tr>\n    <tr>\n      <th>2019-03-21</th>\n      <td>21.48</td>\n      <td>21.48</td>\n      <td>20.709999</td>\n      <td>20.990000</td>\n      <td>20.712820</td>\n      <td>252800</td>\n    </tr>\n    <tr>\n      <th>2019-03-22</th>\n      <td>21.48</td>\n      <td>21.48</td>\n      <td>20.709999</td>\n      <td>20.990000</td>\n      <td>20.712820</td>\n      <td>252800</td>\n    </tr>\n    <tr>\n      <th>2019-03-25</th>\n      <td>21.48</td>\n      <td>21.48</td>\n      <td>20.709999</td>\n      <td>20.990000</td>\n      <td>20.712820</td>\n      <td>252800</td>\n    </tr>\n    <tr>\n      <th>2019-03-26</th>\n      <td>21.48</td>\n      <td>21.48</td>\n      <td>20.709999</td>\n      <td>20.990000</td>\n      <td>20.712820</td>\n      <td>252800</td>\n    </tr>\n    <tr>\n      <th>2019-03-27</th>\n      <td>21.48</td>\n      <td>21.48</td>\n      <td>20.709999</td>\n      <td>20.990000</td>\n      <td>20.712820</td>\n      <td>252800</td>\n    </tr>\n    <tr>\n      <th>2019-03-28</th>\n      <td>21.48</td>\n      <td>21.48</td>\n      <td>20.709999</td>\n      <td>20.990000</td>\n      <td>20.712820</td>\n      <td>252800</td>\n    </tr>\n    <tr>\n      <th>2019-03-29</th>\n      <td>21.48</td>\n      <td>21.48</td>\n      <td>20.709999</td>\n      <td>20.990000</td>\n      <td>20.712820</td>\n      <td>252800</td>\n    </tr>\n    <tr>\n      <th>2019-04-01</th>\n      <td>21.48</td>\n      <td>21.48</td>\n      <td>20.709999</td>\n      <td>20.990000</td>\n      <td>20.712820</td>\n      <td>252800</td>\n    </tr>\n    <tr>\n      <th>2019-04-02</th>\n      <td>21.48</td>\n      <td>21.48</td>\n      <td>20.709999</td>\n      <td>20.990000</td>\n      <td>20.712820</td>\n      <td>252800</td>\n    </tr>\n  </tbody>\n</table>\n</div>"
     },
     "execution_count": 50,
     "metadata": {},
     "output_type": "execute_result"
    }
   ],
   "source": [
    "# YOUR CODE HERE\n",
    "\n",
    "stocks_max = stocks_df2.cummax()\n",
    "\n",
    "stocks_max.head(20)"
   ]
  },
  {
   "cell_type": "code",
   "execution_count": 51,
   "id": "severe-audio",
   "metadata": {
    "deletable": false,
    "editable": false,
    "nbgrader": {
     "cell_type": "code",
     "checksum": "97303ded3ee0492eee7fcdbd78c31bf0",
     "grade": true,
     "grade_id": "cell-6fde718973bce3c8",
     "locked": true,
     "points": 1,
     "schema_version": 3,
     "solution": false,
     "task": false
    }
   },
   "outputs": [
    {
     "name": "stdout",
     "output_type": "stream",
     "text": [
      "stocks_max is defined correctly\n",
      "Test passed!\n"
     ]
    },
    {
     "data": {
      "text/plain": "1"
     },
     "execution_count": 51,
     "metadata": {},
     "output_type": "execute_result"
    }
   ],
   "source": [
    "# 1 Mark\n",
    "# Do not try to delete this cell\n",
    "# Run this cell for grading\n",
    "_globals = globals()\n",
    "question3if(_globals)"
   ]
  },
  {
   "cell_type": "markdown",
   "id": "precise-subscription",
   "metadata": {
    "deletable": false,
    "editable": false,
    "nbgrader": {
     "cell_type": "markdown",
     "checksum": "6acacc38a7ae13b507e4d804e6e5c367",
     "grade": false,
     "grade_id": "cell-415fa72c13ae9d15",
     "locked": true,
     "schema_version": 3,
     "solution": false,
     "task": false
    }
   },
   "source": [
    "(g) Create an aggregate DataFrame, `stocks_agg`, showing the minimum, mean and maximum of all columns of `stocks_df2`."
   ]
  },
  {
   "cell_type": "code",
   "execution_count": 52,
   "id": "committed-slovakia",
   "metadata": {
    "deletable": false,
    "nbgrader": {
     "cell_type": "code",
     "checksum": "6704d0793d683c43e1f7cf290cf4a3d1",
     "grade": false,
     "grade_id": "cell-b94fb4f0df273c3a",
     "locked": false,
     "schema_version": 3,
     "solution": true,
     "task": false
    }
   },
   "outputs": [
    {
     "data": {
      "text/plain": "           Open      High        Low      Close  Adj Close         Volume\nmin   16.850000  17.74000  16.580000  17.309999  17.081415   11700.000000\nmean  21.682213  21.98415  21.400711  21.685534  21.542244   95660.079051\nmax   28.389999  28.50000  27.709999  28.260000  28.173666  555000.000000",
      "text/html": "<div>\n<style scoped>\n    .dataframe tbody tr th:only-of-type {\n        vertical-align: middle;\n    }\n\n    .dataframe tbody tr th {\n        vertical-align: top;\n    }\n\n    .dataframe thead th {\n        text-align: right;\n    }\n</style>\n<table border=\"1\" class=\"dataframe\">\n  <thead>\n    <tr style=\"text-align: right;\">\n      <th></th>\n      <th>Open</th>\n      <th>High</th>\n      <th>Low</th>\n      <th>Close</th>\n      <th>Adj Close</th>\n      <th>Volume</th>\n    </tr>\n  </thead>\n  <tbody>\n    <tr>\n      <th>min</th>\n      <td>16.850000</td>\n      <td>17.74000</td>\n      <td>16.580000</td>\n      <td>17.309999</td>\n      <td>17.081415</td>\n      <td>11700.000000</td>\n    </tr>\n    <tr>\n      <th>mean</th>\n      <td>21.682213</td>\n      <td>21.98415</td>\n      <td>21.400711</td>\n      <td>21.685534</td>\n      <td>21.542244</td>\n      <td>95660.079051</td>\n    </tr>\n    <tr>\n      <th>max</th>\n      <td>28.389999</td>\n      <td>28.50000</td>\n      <td>27.709999</td>\n      <td>28.260000</td>\n      <td>28.173666</td>\n      <td>555000.000000</td>\n    </tr>\n  </tbody>\n</table>\n</div>"
     },
     "execution_count": 52,
     "metadata": {},
     "output_type": "execute_result"
    }
   ],
   "source": [
    "# YOUR CODE HERE\n",
    "stocks_agg = stocks_df2.agg(['min', 'mean', 'max'])\n",
    "stocks_agg"
   ]
  },
  {
   "cell_type": "code",
   "execution_count": 53,
   "id": "fatty-filename",
   "metadata": {
    "deletable": false,
    "editable": false,
    "nbgrader": {
     "cell_type": "code",
     "checksum": "974a218ef00776bf29dbff834b0be8dd",
     "grade": true,
     "grade_id": "cell-7eca99831cfbcad6",
     "locked": true,
     "points": 1,
     "schema_version": 3,
     "solution": false,
     "task": false
    }
   },
   "outputs": [
    {
     "name": "stdout",
     "output_type": "stream",
     "text": [
      "stocks_agg is defined correctly\n",
      "Test passed!\n"
     ]
    },
    {
     "data": {
      "text/plain": "1"
     },
     "execution_count": 53,
     "metadata": {},
     "output_type": "execute_result"
    }
   ],
   "source": [
    "# 1 Mark\n",
    "# Do not try to delete this cell\n",
    "# Run this cell for grading\n",
    "_globals = globals()\n",
    "question3ig(_globals)"
   ]
  },
  {
   "cell_type": "markdown",
   "id": "three-supplement",
   "metadata": {
    "deletable": false,
    "editable": false,
    "nbgrader": {
     "cell_type": "markdown",
     "checksum": "0ec3a81132f38925491d2b5475bd3b11",
     "grade": false,
     "grade_id": "cell-9561df276a2bbc8d",
     "locked": true,
     "schema_version": 3,
     "solution": false,
     "task": false
    }
   },
   "source": [
    "### (ii)\n",
    "\n",
    "(a) Write a renaming function (a lambda-expression works well) that inserts the string 'Max ' in front of any given string, and use it to relabel the columns of `stocks_max` 'Max Open', 'Max High', etc."
   ]
  },
  {
   "cell_type": "code",
   "execution_count": 54,
   "id": "electric-fellow",
   "metadata": {
    "deletable": false,
    "nbgrader": {
     "cell_type": "code",
     "checksum": "ba91e2bdfdf00f6f0bab861d006473e0",
     "grade": false,
     "grade_id": "cell-f8fd7f486c19a01d",
     "locked": false,
     "schema_version": 3,
     "solution": true,
     "task": false
    }
   },
   "outputs": [
    {
     "data": {
      "text/plain": "            Max Open  Max High    Max Low  Max Close  Max Adj Close   \nDate                                                                  \n2019-03-06     21.48     21.48  20.660000  20.780001      20.505596  \\\n2019-03-07     21.48     21.48  20.660000  20.780001      20.505596   \n2019-03-08     21.48     21.48  20.660000  20.990000      20.712820   \n2019-03-11     21.48     21.48  20.709999  20.990000      20.712820   \n2019-03-12     21.48     21.48  20.709999  20.990000      20.712820   \n\n            Max Volume  \nDate                    \n2019-03-06       94700  \n2019-03-07       95800  \n2019-03-08      138000  \n2019-03-11      138000  \n2019-03-12      138000  ",
      "text/html": "<div>\n<style scoped>\n    .dataframe tbody tr th:only-of-type {\n        vertical-align: middle;\n    }\n\n    .dataframe tbody tr th {\n        vertical-align: top;\n    }\n\n    .dataframe thead th {\n        text-align: right;\n    }\n</style>\n<table border=\"1\" class=\"dataframe\">\n  <thead>\n    <tr style=\"text-align: right;\">\n      <th></th>\n      <th>Max Open</th>\n      <th>Max High</th>\n      <th>Max Low</th>\n      <th>Max Close</th>\n      <th>Max Adj Close</th>\n      <th>Max Volume</th>\n    </tr>\n    <tr>\n      <th>Date</th>\n      <th></th>\n      <th></th>\n      <th></th>\n      <th></th>\n      <th></th>\n      <th></th>\n    </tr>\n  </thead>\n  <tbody>\n    <tr>\n      <th>2019-03-06</th>\n      <td>21.48</td>\n      <td>21.48</td>\n      <td>20.660000</td>\n      <td>20.780001</td>\n      <td>20.505596</td>\n      <td>94700</td>\n    </tr>\n    <tr>\n      <th>2019-03-07</th>\n      <td>21.48</td>\n      <td>21.48</td>\n      <td>20.660000</td>\n      <td>20.780001</td>\n      <td>20.505596</td>\n      <td>95800</td>\n    </tr>\n    <tr>\n      <th>2019-03-08</th>\n      <td>21.48</td>\n      <td>21.48</td>\n      <td>20.660000</td>\n      <td>20.990000</td>\n      <td>20.712820</td>\n      <td>138000</td>\n    </tr>\n    <tr>\n      <th>2019-03-11</th>\n      <td>21.48</td>\n      <td>21.48</td>\n      <td>20.709999</td>\n      <td>20.990000</td>\n      <td>20.712820</td>\n      <td>138000</td>\n    </tr>\n    <tr>\n      <th>2019-03-12</th>\n      <td>21.48</td>\n      <td>21.48</td>\n      <td>20.709999</td>\n      <td>20.990000</td>\n      <td>20.712820</td>\n      <td>138000</td>\n    </tr>\n  </tbody>\n</table>\n</div>"
     },
     "execution_count": 54,
     "metadata": {},
     "output_type": "execute_result"
    }
   ],
   "source": [
    "# YOUR CODE HERE\n",
    "rename_function = lambda x: 'Max ' + x\n",
    "\n",
    "# Rename columns of stocks_max\n",
    "stocks_max.rename(columns=rename_function, inplace=True)\n",
    "\n",
    "stocks_max.head()"
   ]
  },
  {
   "cell_type": "code",
   "execution_count": 55,
   "id": "deadly-divorce",
   "metadata": {
    "deletable": false,
    "editable": false,
    "nbgrader": {
     "cell_type": "code",
     "checksum": "049c8cf030149aebe0863ab988783094",
     "grade": true,
     "grade_id": "cell-4362670a1c8f123f",
     "locked": true,
     "points": 1,
     "schema_version": 3,
     "solution": false,
     "task": false
    }
   },
   "outputs": [
    {
     "name": "stdout",
     "output_type": "stream",
     "text": [
      "stocks_max is defined correctly\n",
      "Test passed!\n"
     ]
    },
    {
     "data": {
      "text/plain": "1"
     },
     "execution_count": 55,
     "metadata": {},
     "output_type": "execute_result"
    }
   ],
   "source": [
    "# 1 Mark\n",
    "# Do not try to delete this cell\n",
    "# Run this cell for grading\n",
    "_globals = globals()\n",
    "question3iia(_globals)"
   ]
  },
  {
   "cell_type": "markdown",
   "id": "understood-macedonia",
   "metadata": {
    "deletable": false,
    "editable": false,
    "nbgrader": {
     "cell_type": "markdown",
     "checksum": "06d8f54b112e78f9810875c949fd8673",
     "grade": false,
     "grade_id": "cell-29df2f174e5ba3d3",
     "locked": true,
     "schema_version": 3,
     "solution": false,
     "task": false
    }
   },
   "source": [
    "(b) Using `merge` or `concat`, create a DataFrame, `joined_df`, consisting of `stocks_df2` and your relabelled `stocks_max`, side by side."
   ]
  },
  {
   "cell_type": "code",
   "execution_count": 56,
   "id": "sophisticated-essay",
   "metadata": {
    "deletable": false,
    "nbgrader": {
     "cell_type": "code",
     "checksum": "f606250089414c981bccacc62d6d350d",
     "grade": false,
     "grade_id": "cell-6da2ee12e9b98995",
     "locked": false,
     "schema_version": 3,
     "solution": true,
     "task": false
    }
   },
   "outputs": [
    {
     "data": {
      "text/plain": "                 Open       High        Low      Close  Adj Close  Volume   \nDate                                                                        \n2019-03-06  21.480000  21.480000  20.660000  20.780001  20.505596   94700  \\\n2019-03-07  20.809999  20.809999  20.340000  20.570000  20.298367   95800   \n2019-03-08  20.410000  21.100000  20.410000  20.990000  20.712820  138000   \n2019-03-11  21.030001  21.100000  20.709999  20.889999  20.614141   74500   \n2019-03-12  20.790001  20.910000  20.340000  20.370001  20.101009  101800   \n\n            Max Open  Max High    Max Low  Max Close  Max Adj Close   \nDate                                                                  \n2019-03-06     21.48     21.48  20.660000  20.780001      20.505596  \\\n2019-03-07     21.48     21.48  20.660000  20.780001      20.505596   \n2019-03-08     21.48     21.48  20.660000  20.990000      20.712820   \n2019-03-11     21.48     21.48  20.709999  20.990000      20.712820   \n2019-03-12     21.48     21.48  20.709999  20.990000      20.712820   \n\n            Max Volume  \nDate                    \n2019-03-06       94700  \n2019-03-07       95800  \n2019-03-08      138000  \n2019-03-11      138000  \n2019-03-12      138000  ",
      "text/html": "<div>\n<style scoped>\n    .dataframe tbody tr th:only-of-type {\n        vertical-align: middle;\n    }\n\n    .dataframe tbody tr th {\n        vertical-align: top;\n    }\n\n    .dataframe thead th {\n        text-align: right;\n    }\n</style>\n<table border=\"1\" class=\"dataframe\">\n  <thead>\n    <tr style=\"text-align: right;\">\n      <th></th>\n      <th>Open</th>\n      <th>High</th>\n      <th>Low</th>\n      <th>Close</th>\n      <th>Adj Close</th>\n      <th>Volume</th>\n      <th>Max Open</th>\n      <th>Max High</th>\n      <th>Max Low</th>\n      <th>Max Close</th>\n      <th>Max Adj Close</th>\n      <th>Max Volume</th>\n    </tr>\n    <tr>\n      <th>Date</th>\n      <th></th>\n      <th></th>\n      <th></th>\n      <th></th>\n      <th></th>\n      <th></th>\n      <th></th>\n      <th></th>\n      <th></th>\n      <th></th>\n      <th></th>\n      <th></th>\n    </tr>\n  </thead>\n  <tbody>\n    <tr>\n      <th>2019-03-06</th>\n      <td>21.480000</td>\n      <td>21.480000</td>\n      <td>20.660000</td>\n      <td>20.780001</td>\n      <td>20.505596</td>\n      <td>94700</td>\n      <td>21.48</td>\n      <td>21.48</td>\n      <td>20.660000</td>\n      <td>20.780001</td>\n      <td>20.505596</td>\n      <td>94700</td>\n    </tr>\n    <tr>\n      <th>2019-03-07</th>\n      <td>20.809999</td>\n      <td>20.809999</td>\n      <td>20.340000</td>\n      <td>20.570000</td>\n      <td>20.298367</td>\n      <td>95800</td>\n      <td>21.48</td>\n      <td>21.48</td>\n      <td>20.660000</td>\n      <td>20.780001</td>\n      <td>20.505596</td>\n      <td>95800</td>\n    </tr>\n    <tr>\n      <th>2019-03-08</th>\n      <td>20.410000</td>\n      <td>21.100000</td>\n      <td>20.410000</td>\n      <td>20.990000</td>\n      <td>20.712820</td>\n      <td>138000</td>\n      <td>21.48</td>\n      <td>21.48</td>\n      <td>20.660000</td>\n      <td>20.990000</td>\n      <td>20.712820</td>\n      <td>138000</td>\n    </tr>\n    <tr>\n      <th>2019-03-11</th>\n      <td>21.030001</td>\n      <td>21.100000</td>\n      <td>20.709999</td>\n      <td>20.889999</td>\n      <td>20.614141</td>\n      <td>74500</td>\n      <td>21.48</td>\n      <td>21.48</td>\n      <td>20.709999</td>\n      <td>20.990000</td>\n      <td>20.712820</td>\n      <td>138000</td>\n    </tr>\n    <tr>\n      <th>2019-03-12</th>\n      <td>20.790001</td>\n      <td>20.910000</td>\n      <td>20.340000</td>\n      <td>20.370001</td>\n      <td>20.101009</td>\n      <td>101800</td>\n      <td>21.48</td>\n      <td>21.48</td>\n      <td>20.709999</td>\n      <td>20.990000</td>\n      <td>20.712820</td>\n      <td>138000</td>\n    </tr>\n  </tbody>\n</table>\n</div>"
     },
     "execution_count": 56,
     "metadata": {},
     "output_type": "execute_result"
    }
   ],
   "source": [
    "# YOUR CODE HERE\n",
    "joined_df = pd.concat([stocks_df2, stocks_max], axis=1)\n",
    "joined_df.head()"
   ]
  },
  {
   "cell_type": "code",
   "execution_count": 57,
   "id": "eight-sudan",
   "metadata": {
    "deletable": false,
    "editable": false,
    "nbgrader": {
     "cell_type": "code",
     "checksum": "0147848229d03e20f80035d40015ab23",
     "grade": true,
     "grade_id": "cell-db80fb996c9e3fe1",
     "locked": true,
     "points": 1,
     "schema_version": 3,
     "solution": false,
     "task": false
    }
   },
   "outputs": [
    {
     "name": "stdout",
     "output_type": "stream",
     "text": [
      "joined_df is defined correctly\n",
      "Test passed!\n"
     ]
    },
    {
     "data": {
      "text/plain": "1"
     },
     "execution_count": 57,
     "metadata": {},
     "output_type": "execute_result"
    }
   ],
   "source": [
    "# 1 Mark\n",
    "# Do not try to delete this cell\n",
    "# Run this cell for grading\n",
    "_globals = globals()\n",
    "question3iib(_globals)"
   ]
  },
  {
   "cell_type": "markdown",
   "id": "korean-guinea",
   "metadata": {
    "deletable": false,
    "editable": false,
    "nbgrader": {
     "cell_type": "markdown",
     "checksum": "f3609ec25a97232145632d473a95d0d7",
     "grade": false,
     "grade_id": "cell-f15c7346eaa385eb",
     "locked": true,
     "schema_version": 3,
     "solution": false,
     "task": false
    }
   },
   "source": [
    "(c) Create a DataFrame, `stocks_df_monthly`, consisting of `stocks_df2` sampled at the end of each calendar month, with the figures appearing being those associated with the last trading day of each month. Omit the last four rows of `stocks_df2`, which include just four days of March 2020."
   ]
  },
  {
   "cell_type": "code",
   "execution_count": 58,
   "id": "indian-patent",
   "metadata": {
    "deletable": false,
    "nbgrader": {
     "cell_type": "code",
     "checksum": "581d83629d57112b03b85fa507aee2f8",
     "grade": false,
     "grade_id": "cell-2cc2ce8757a699bd",
     "locked": false,
     "schema_version": 3,
     "solution": true,
     "task": false
    }
   },
   "outputs": [
    {
     "data": {
      "text/plain": "                 Open       High        Low      Close  Adj Close  Volume\nDate                                                                     \n2019-03-31  19.180000  19.330000  18.969999  19.250000  18.995796   86700\n2019-04-30  18.520000  18.580000  17.260000  17.549999  17.318247  286700\n2019-05-31  18.730000  18.790001  17.809999  18.219999  18.049831  197000\n2019-06-30  18.820000  19.080000  18.740000  19.010000  18.832455  295200\n2019-07-31  19.459999  19.680000  19.040001  19.120001  18.941429  118000\n2019-08-31  21.120001  21.389999  21.010000  21.270000  21.141508  101600\n2019-09-30  20.820000  21.120001  20.420000  20.440001  20.316523   70400\n2019-10-31  26.129999  26.270000  25.540001  25.760000  25.604383  122700\n2019-11-30  23.680000  24.260000  23.680000  24.049999  23.976526   51700\n2019-12-31  25.690001  25.920000  25.520000  25.600000  25.521793   59700\n2020-01-31  24.090000  24.110001  23.500000  23.670000  23.597689   86400\n2020-02-29  20.500000  21.190001  20.500000  21.150000  21.150000  192700",
      "text/html": "<div>\n<style scoped>\n    .dataframe tbody tr th:only-of-type {\n        vertical-align: middle;\n    }\n\n    .dataframe tbody tr th {\n        vertical-align: top;\n    }\n\n    .dataframe thead th {\n        text-align: right;\n    }\n</style>\n<table border=\"1\" class=\"dataframe\">\n  <thead>\n    <tr style=\"text-align: right;\">\n      <th></th>\n      <th>Open</th>\n      <th>High</th>\n      <th>Low</th>\n      <th>Close</th>\n      <th>Adj Close</th>\n      <th>Volume</th>\n    </tr>\n    <tr>\n      <th>Date</th>\n      <th></th>\n      <th></th>\n      <th></th>\n      <th></th>\n      <th></th>\n      <th></th>\n    </tr>\n  </thead>\n  <tbody>\n    <tr>\n      <th>2019-03-31</th>\n      <td>19.180000</td>\n      <td>19.330000</td>\n      <td>18.969999</td>\n      <td>19.250000</td>\n      <td>18.995796</td>\n      <td>86700</td>\n    </tr>\n    <tr>\n      <th>2019-04-30</th>\n      <td>18.520000</td>\n      <td>18.580000</td>\n      <td>17.260000</td>\n      <td>17.549999</td>\n      <td>17.318247</td>\n      <td>286700</td>\n    </tr>\n    <tr>\n      <th>2019-05-31</th>\n      <td>18.730000</td>\n      <td>18.790001</td>\n      <td>17.809999</td>\n      <td>18.219999</td>\n      <td>18.049831</td>\n      <td>197000</td>\n    </tr>\n    <tr>\n      <th>2019-06-30</th>\n      <td>18.820000</td>\n      <td>19.080000</td>\n      <td>18.740000</td>\n      <td>19.010000</td>\n      <td>18.832455</td>\n      <td>295200</td>\n    </tr>\n    <tr>\n      <th>2019-07-31</th>\n      <td>19.459999</td>\n      <td>19.680000</td>\n      <td>19.040001</td>\n      <td>19.120001</td>\n      <td>18.941429</td>\n      <td>118000</td>\n    </tr>\n    <tr>\n      <th>2019-08-31</th>\n      <td>21.120001</td>\n      <td>21.389999</td>\n      <td>21.010000</td>\n      <td>21.270000</td>\n      <td>21.141508</td>\n      <td>101600</td>\n    </tr>\n    <tr>\n      <th>2019-09-30</th>\n      <td>20.820000</td>\n      <td>21.120001</td>\n      <td>20.420000</td>\n      <td>20.440001</td>\n      <td>20.316523</td>\n      <td>70400</td>\n    </tr>\n    <tr>\n      <th>2019-10-31</th>\n      <td>26.129999</td>\n      <td>26.270000</td>\n      <td>25.540001</td>\n      <td>25.760000</td>\n      <td>25.604383</td>\n      <td>122700</td>\n    </tr>\n    <tr>\n      <th>2019-11-30</th>\n      <td>23.680000</td>\n      <td>24.260000</td>\n      <td>23.680000</td>\n      <td>24.049999</td>\n      <td>23.976526</td>\n      <td>51700</td>\n    </tr>\n    <tr>\n      <th>2019-12-31</th>\n      <td>25.690001</td>\n      <td>25.920000</td>\n      <td>25.520000</td>\n      <td>25.600000</td>\n      <td>25.521793</td>\n      <td>59700</td>\n    </tr>\n    <tr>\n      <th>2020-01-31</th>\n      <td>24.090000</td>\n      <td>24.110001</td>\n      <td>23.500000</td>\n      <td>23.670000</td>\n      <td>23.597689</td>\n      <td>86400</td>\n    </tr>\n    <tr>\n      <th>2020-02-29</th>\n      <td>20.500000</td>\n      <td>21.190001</td>\n      <td>20.500000</td>\n      <td>21.150000</td>\n      <td>21.150000</td>\n      <td>192700</td>\n    </tr>\n  </tbody>\n</table>\n</div>"
     },
     "execution_count": 58,
     "metadata": {},
     "output_type": "execute_result"
    }
   ],
   "source": [
    "# YOUR CODE HERE\n",
    "# Omit the last four rows of stocks_df2\n",
    "stocks_df2_trimmed = stocks_df2.iloc[:-4]\n",
    "\n",
    "# Resample at the end of each calendar month and select the last trading day of each month\n",
    "stocks_df_monthly = stocks_df2_trimmed.resample('M').last()\n",
    "\n",
    "stocks_df_monthly"
   ]
  },
  {
   "cell_type": "code",
   "execution_count": 59,
   "id": "impaired-kidney",
   "metadata": {
    "deletable": false,
    "editable": false,
    "nbgrader": {
     "cell_type": "code",
     "checksum": "fff294f035854d80b632b3ac0e6a751e",
     "grade": true,
     "grade_id": "cell-4206ef1c3bf921b3",
     "locked": true,
     "points": 1,
     "schema_version": 3,
     "solution": false,
     "task": false
    }
   },
   "outputs": [
    {
     "name": "stdout",
     "output_type": "stream",
     "text": [
      "stocks_df_monthly is defined correctly\n",
      "Test passed!\n"
     ]
    },
    {
     "data": {
      "text/plain": "1"
     },
     "execution_count": 59,
     "metadata": {},
     "output_type": "execute_result"
    }
   ],
   "source": [
    "# 1 Mark\n",
    "# Do not try to delete this cell\n",
    "# Run this cell for grading\n",
    "_globals = globals()\n",
    "question3iic(_globals)"
   ]
  },
  {
   "cell_type": "markdown",
   "id": "loving-internet",
   "metadata": {
    "deletable": false,
    "editable": false,
    "nbgrader": {
     "cell_type": "markdown",
     "checksum": "8e5dbaa52e11f6d5f071e10f19d820d5",
     "grade": false,
     "grade_id": "cell-00f604806652f942",
     "locked": true,
     "schema_version": 3,
     "solution": false,
     "task": false
    }
   },
   "source": [
    "(d) Create a DataFrame, `stocks_df_monthly2`, consisting of `stocks_df2` sampled at the end of each calendar month, with the figures appearing being:\n",
    "<ul>\n",
    "    <li>in the case of 'Open', the figures on the first trading day of each month;</li>\n",
    "    <li>in the case of 'High', the maximum figures for each month;</li>\n",
    "    <li>in the case of 'Low', the minimum figures for each month;</li>\n",
    "    <li>in the case of 'Close' and 'Adj Close', figures on the last trading day of each month;</li>\n",
    "    <li>in the case of 'Volume', the total figures for each month.</li>\n",
    "</ul>\n",
    "\n",
    "Omit the last four rows of `stocks_df2`, which include just four days of March 2020."
   ]
  },
  {
   "cell_type": "code",
   "execution_count": 60,
   "id": "together-scratch",
   "metadata": {
    "deletable": false,
    "nbgrader": {
     "cell_type": "code",
     "checksum": "efe59644f3d7cd7b305c46404aec34db",
     "grade": false,
     "grade_id": "cell-52b55520fcf2472e",
     "locked": false,
     "schema_version": 3,
     "solution": true,
     "task": false
    }
   },
   "outputs": [
    {
     "data": {
      "text/plain": "                 Open       High        Low      Close  Adj Close   Volume\nDate                                                                      \n2019-03-31  21.480000  21.480000  18.559999  19.250000  18.995796  1913100\n2019-04-30  19.250000  19.600000  17.260000  17.549999  17.318247  1759000\n2019-05-31  17.530001  20.620001  16.580000  18.219999  18.049831  2667200\n2019-06-30  18.160000  19.850000  18.000000  19.010000  18.832455  1743500\n2019-07-31  19.070000  19.680000  18.000000  19.120001  18.941429  1188400\n2019-08-31  19.860001  22.950001  19.750000  21.270000  21.141508  1878800\n2019-09-30  21.200001  22.940001  20.420000  20.440001  20.316523  1731500\n2019-10-31  20.680000  26.809999  20.410000  25.760000  25.604383  2930100\n2019-11-30  25.760000  26.840000  23.670000  24.049999  23.976526  1359100\n2019-12-31  24.080000  28.500000  23.889999  25.600000  25.521793  2506700\n2020-01-31  25.620001  26.110001  23.500000  23.670000  23.597689  1497800\n2020-02-29  23.809999  25.459999  20.190001  21.150000  21.150000  2316200",
      "text/html": "<div>\n<style scoped>\n    .dataframe tbody tr th:only-of-type {\n        vertical-align: middle;\n    }\n\n    .dataframe tbody tr th {\n        vertical-align: top;\n    }\n\n    .dataframe thead th {\n        text-align: right;\n    }\n</style>\n<table border=\"1\" class=\"dataframe\">\n  <thead>\n    <tr style=\"text-align: right;\">\n      <th></th>\n      <th>Open</th>\n      <th>High</th>\n      <th>Low</th>\n      <th>Close</th>\n      <th>Adj Close</th>\n      <th>Volume</th>\n    </tr>\n    <tr>\n      <th>Date</th>\n      <th></th>\n      <th></th>\n      <th></th>\n      <th></th>\n      <th></th>\n      <th></th>\n    </tr>\n  </thead>\n  <tbody>\n    <tr>\n      <th>2019-03-31</th>\n      <td>21.480000</td>\n      <td>21.480000</td>\n      <td>18.559999</td>\n      <td>19.250000</td>\n      <td>18.995796</td>\n      <td>1913100</td>\n    </tr>\n    <tr>\n      <th>2019-04-30</th>\n      <td>19.250000</td>\n      <td>19.600000</td>\n      <td>17.260000</td>\n      <td>17.549999</td>\n      <td>17.318247</td>\n      <td>1759000</td>\n    </tr>\n    <tr>\n      <th>2019-05-31</th>\n      <td>17.530001</td>\n      <td>20.620001</td>\n      <td>16.580000</td>\n      <td>18.219999</td>\n      <td>18.049831</td>\n      <td>2667200</td>\n    </tr>\n    <tr>\n      <th>2019-06-30</th>\n      <td>18.160000</td>\n      <td>19.850000</td>\n      <td>18.000000</td>\n      <td>19.010000</td>\n      <td>18.832455</td>\n      <td>1743500</td>\n    </tr>\n    <tr>\n      <th>2019-07-31</th>\n      <td>19.070000</td>\n      <td>19.680000</td>\n      <td>18.000000</td>\n      <td>19.120001</td>\n      <td>18.941429</td>\n      <td>1188400</td>\n    </tr>\n    <tr>\n      <th>2019-08-31</th>\n      <td>19.860001</td>\n      <td>22.950001</td>\n      <td>19.750000</td>\n      <td>21.270000</td>\n      <td>21.141508</td>\n      <td>1878800</td>\n    </tr>\n    <tr>\n      <th>2019-09-30</th>\n      <td>21.200001</td>\n      <td>22.940001</td>\n      <td>20.420000</td>\n      <td>20.440001</td>\n      <td>20.316523</td>\n      <td>1731500</td>\n    </tr>\n    <tr>\n      <th>2019-10-31</th>\n      <td>20.680000</td>\n      <td>26.809999</td>\n      <td>20.410000</td>\n      <td>25.760000</td>\n      <td>25.604383</td>\n      <td>2930100</td>\n    </tr>\n    <tr>\n      <th>2019-11-30</th>\n      <td>25.760000</td>\n      <td>26.840000</td>\n      <td>23.670000</td>\n      <td>24.049999</td>\n      <td>23.976526</td>\n      <td>1359100</td>\n    </tr>\n    <tr>\n      <th>2019-12-31</th>\n      <td>24.080000</td>\n      <td>28.500000</td>\n      <td>23.889999</td>\n      <td>25.600000</td>\n      <td>25.521793</td>\n      <td>2506700</td>\n    </tr>\n    <tr>\n      <th>2020-01-31</th>\n      <td>25.620001</td>\n      <td>26.110001</td>\n      <td>23.500000</td>\n      <td>23.670000</td>\n      <td>23.597689</td>\n      <td>1497800</td>\n    </tr>\n    <tr>\n      <th>2020-02-29</th>\n      <td>23.809999</td>\n      <td>25.459999</td>\n      <td>20.190001</td>\n      <td>21.150000</td>\n      <td>21.150000</td>\n      <td>2316200</td>\n    </tr>\n  </tbody>\n</table>\n</div>"
     },
     "execution_count": 60,
     "metadata": {},
     "output_type": "execute_result"
    }
   ],
   "source": [
    "# YOUR CODE HERE\n",
    "aggregation_functions = {\n",
    "    'Open': 'first',  # First trading day of each month\n",
    "    'High': 'max',  # Maximum figures for each month\n",
    "    'Low': 'min',  # Minimum figures for each month\n",
    "    'Close': 'last',  # Last trading day of each month\n",
    "    'Adj Close': 'last',  # Last trading day of each month\n",
    "    'Volume': 'sum'  # Total figures for each month\n",
    "}\n",
    "\n",
    "# Apply the aggregation functions and resample at the end of each calendar month\n",
    "stocks_df_monthly2 = stocks_df2_trimmed.resample('M').agg(aggregation_functions)\n",
    "\n",
    "stocks_df_monthly2"
   ]
  },
  {
   "cell_type": "code",
   "execution_count": 61,
   "id": "appreciated-bubble",
   "metadata": {
    "deletable": false,
    "editable": false,
    "nbgrader": {
     "cell_type": "code",
     "checksum": "6394a3d9ae954d8bec2483af936eb929",
     "grade": true,
     "grade_id": "cell-365978a60c1dae26",
     "locked": true,
     "points": 1,
     "schema_version": 3,
     "solution": false,
     "task": false
    }
   },
   "outputs": [
    {
     "name": "stdout",
     "output_type": "stream",
     "text": [
      "stocks_df_monthly2 is defined correctly\n",
      "Test passed!\n"
     ]
    },
    {
     "data": {
      "text/plain": "1"
     },
     "execution_count": 61,
     "metadata": {},
     "output_type": "execute_result"
    }
   ],
   "source": [
    "# 1 Mark\n",
    "# Do not try to delete this cell\n",
    "# Run this cell for grading\n",
    "_globals = globals()\n",
    "question3iid(_globals)"
   ]
  },
  {
   "cell_type": "markdown",
   "id": "supreme-christianity",
   "metadata": {
    "deletable": false,
    "editable": false,
    "nbgrader": {
     "cell_type": "markdown",
     "checksum": "13ccd2ec61d1ce3f3e5dcf6ccd18bb73",
     "grade": false,
     "grade_id": "cell-fed99ecacaf644fb",
     "locked": true,
     "schema_version": 3,
     "solution": false,
     "task": false
    }
   },
   "source": [
    "(e) Using the `query` method, create a DataFrame, `stocks_fall`, consisting of the data for all those days on which the market fell. Use the closing figures rather than the adjusted closing figures."
   ]
  },
  {
   "cell_type": "code",
   "execution_count": 62,
   "id": "fresh-newspaper",
   "metadata": {
    "deletable": false,
    "nbgrader": {
     "cell_type": "code",
     "checksum": "06c27a979dbfd875198e0f8dee297780",
     "grade": false,
     "grade_id": "cell-70b31c8650400acb",
     "locked": false,
     "schema_version": 3,
     "solution": true,
     "task": false
    }
   },
   "outputs": [
    {
     "data": {
      "text/plain": "                 Open       High        Low      Close  Adj Close  Volume\nDate                                                                     \n2019-03-06  21.480000  21.480000  20.660000  20.780001  20.505596   94700\n2019-03-07  20.809999  20.809999  20.340000  20.570000  20.298367   95800\n2019-03-11  21.030001  21.100000  20.709999  20.889999  20.614141   74500\n2019-03-12  20.790001  20.910000  20.340000  20.370001  20.101009  101800\n2019-03-13  20.299999  20.330000  19.990000  20.100000  19.834574  103600",
      "text/html": "<div>\n<style scoped>\n    .dataframe tbody tr th:only-of-type {\n        vertical-align: middle;\n    }\n\n    .dataframe tbody tr th {\n        vertical-align: top;\n    }\n\n    .dataframe thead th {\n        text-align: right;\n    }\n</style>\n<table border=\"1\" class=\"dataframe\">\n  <thead>\n    <tr style=\"text-align: right;\">\n      <th></th>\n      <th>Open</th>\n      <th>High</th>\n      <th>Low</th>\n      <th>Close</th>\n      <th>Adj Close</th>\n      <th>Volume</th>\n    </tr>\n    <tr>\n      <th>Date</th>\n      <th></th>\n      <th></th>\n      <th></th>\n      <th></th>\n      <th></th>\n      <th></th>\n    </tr>\n  </thead>\n  <tbody>\n    <tr>\n      <th>2019-03-06</th>\n      <td>21.480000</td>\n      <td>21.480000</td>\n      <td>20.660000</td>\n      <td>20.780001</td>\n      <td>20.505596</td>\n      <td>94700</td>\n    </tr>\n    <tr>\n      <th>2019-03-07</th>\n      <td>20.809999</td>\n      <td>20.809999</td>\n      <td>20.340000</td>\n      <td>20.570000</td>\n      <td>20.298367</td>\n      <td>95800</td>\n    </tr>\n    <tr>\n      <th>2019-03-11</th>\n      <td>21.030001</td>\n      <td>21.100000</td>\n      <td>20.709999</td>\n      <td>20.889999</td>\n      <td>20.614141</td>\n      <td>74500</td>\n    </tr>\n    <tr>\n      <th>2019-03-12</th>\n      <td>20.790001</td>\n      <td>20.910000</td>\n      <td>20.340000</td>\n      <td>20.370001</td>\n      <td>20.101009</td>\n      <td>101800</td>\n    </tr>\n    <tr>\n      <th>2019-03-13</th>\n      <td>20.299999</td>\n      <td>20.330000</td>\n      <td>19.990000</td>\n      <td>20.100000</td>\n      <td>19.834574</td>\n      <td>103600</td>\n    </tr>\n  </tbody>\n</table>\n</div>"
     },
     "execution_count": 62,
     "metadata": {},
     "output_type": "execute_result"
    }
   ],
   "source": [
    "# YOUR CODE HERE\n",
    "stocks_fall = stocks_df2.query('Close < Open')\n",
    "stocks_fall.head()"
   ]
  },
  {
   "cell_type": "code",
   "execution_count": 63,
   "id": "alien-variation",
   "metadata": {
    "deletable": false,
    "editable": false,
    "nbgrader": {
     "cell_type": "code",
     "checksum": "6080e0ab4819e8fa2d32f8782bb2bee8",
     "grade": true,
     "grade_id": "cell-99d28d7b09c023cb",
     "locked": true,
     "points": 1,
     "schema_version": 3,
     "solution": false,
     "task": false
    }
   },
   "outputs": [
    {
     "name": "stdout",
     "output_type": "stream",
     "text": [
      "stocks_fall is defined correctly\n",
      "Test passed!\n"
     ]
    },
    {
     "data": {
      "text/plain": "1"
     },
     "execution_count": 63,
     "metadata": {},
     "output_type": "execute_result"
    }
   ],
   "source": [
    "# 1 Mark\n",
    "# Do not try to delete this cell\n",
    "# Run this cell for grading\n",
    "_globals = globals()\n",
    "question3iie(_globals)"
   ]
  },
  {
   "cell_type": "markdown",
   "id": "dying-singing",
   "metadata": {
    "deletable": false,
    "editable": false,
    "nbgrader": {
     "cell_type": "markdown",
     "checksum": "ca22e291e21230adab5b7535b6e5437d",
     "grade": false,
     "grade_id": "cell-4ac4c322029ace5b",
     "locked": true,
     "schema_version": 3,
     "solution": false,
     "task": false
    }
   },
   "source": [
    "(f) Create a DataFrame, `stocks_df3`, which is a copy of `stocks_df2`. To `stocks_df3`, add a column called 'Rise/fall' consisting of the difference between the 'Close' and 'Open' figures."
   ]
  },
  {
   "cell_type": "code",
   "execution_count": 64,
   "id": "comfortable-planner",
   "metadata": {
    "deletable": false,
    "nbgrader": {
     "cell_type": "code",
     "checksum": "5a077e8b19a2dd16a5262dbe0999aec0",
     "grade": false,
     "grade_id": "cell-f87503cce2881eed",
     "locked": false,
     "schema_version": 3,
     "solution": true,
     "task": false
    }
   },
   "outputs": [
    {
     "data": {
      "text/plain": "                 Open       High        Low      Close  Adj Close  Volume   \nDate                                                                        \n2019-03-06  21.480000  21.480000  20.660000  20.780001  20.505596   94700  \\\n2019-03-07  20.809999  20.809999  20.340000  20.570000  20.298367   95800   \n2019-03-08  20.410000  21.100000  20.410000  20.990000  20.712820  138000   \n2019-03-11  21.030001  21.100000  20.709999  20.889999  20.614141   74500   \n2019-03-12  20.790001  20.910000  20.340000  20.370001  20.101009  101800   \n\n            Rise/fall  \nDate                   \n2019-03-06  -0.699999  \n2019-03-07  -0.239999  \n2019-03-08   0.580000  \n2019-03-11  -0.140002  \n2019-03-12  -0.420000  ",
      "text/html": "<div>\n<style scoped>\n    .dataframe tbody tr th:only-of-type {\n        vertical-align: middle;\n    }\n\n    .dataframe tbody tr th {\n        vertical-align: top;\n    }\n\n    .dataframe thead th {\n        text-align: right;\n    }\n</style>\n<table border=\"1\" class=\"dataframe\">\n  <thead>\n    <tr style=\"text-align: right;\">\n      <th></th>\n      <th>Open</th>\n      <th>High</th>\n      <th>Low</th>\n      <th>Close</th>\n      <th>Adj Close</th>\n      <th>Volume</th>\n      <th>Rise/fall</th>\n    </tr>\n    <tr>\n      <th>Date</th>\n      <th></th>\n      <th></th>\n      <th></th>\n      <th></th>\n      <th></th>\n      <th></th>\n      <th></th>\n    </tr>\n  </thead>\n  <tbody>\n    <tr>\n      <th>2019-03-06</th>\n      <td>21.480000</td>\n      <td>21.480000</td>\n      <td>20.660000</td>\n      <td>20.780001</td>\n      <td>20.505596</td>\n      <td>94700</td>\n      <td>-0.699999</td>\n    </tr>\n    <tr>\n      <th>2019-03-07</th>\n      <td>20.809999</td>\n      <td>20.809999</td>\n      <td>20.340000</td>\n      <td>20.570000</td>\n      <td>20.298367</td>\n      <td>95800</td>\n      <td>-0.239999</td>\n    </tr>\n    <tr>\n      <th>2019-03-08</th>\n      <td>20.410000</td>\n      <td>21.100000</td>\n      <td>20.410000</td>\n      <td>20.990000</td>\n      <td>20.712820</td>\n      <td>138000</td>\n      <td>0.580000</td>\n    </tr>\n    <tr>\n      <th>2019-03-11</th>\n      <td>21.030001</td>\n      <td>21.100000</td>\n      <td>20.709999</td>\n      <td>20.889999</td>\n      <td>20.614141</td>\n      <td>74500</td>\n      <td>-0.140002</td>\n    </tr>\n    <tr>\n      <th>2019-03-12</th>\n      <td>20.790001</td>\n      <td>20.910000</td>\n      <td>20.340000</td>\n      <td>20.370001</td>\n      <td>20.101009</td>\n      <td>101800</td>\n      <td>-0.420000</td>\n    </tr>\n  </tbody>\n</table>\n</div>"
     },
     "execution_count": 64,
     "metadata": {},
     "output_type": "execute_result"
    }
   ],
   "source": [
    "# YOUR CODE HERE\n",
    "stocks_df3 = copy(stocks_df2)\n",
    "stocks_df3['Rise/fall'] = stocks_df3['Close'] - stocks_df3['Open']\n",
    "stocks_df3.head()"
   ]
  },
  {
   "cell_type": "code",
   "execution_count": 65,
   "id": "pregnant-brisbane",
   "metadata": {
    "deletable": false,
    "editable": false,
    "nbgrader": {
     "cell_type": "code",
     "checksum": "568445413b8ed92819ffef990aebb52c",
     "grade": true,
     "grade_id": "cell-bf04935ac619e589",
     "locked": true,
     "points": 1,
     "schema_version": 3,
     "solution": false,
     "task": false
    }
   },
   "outputs": [
    {
     "name": "stdout",
     "output_type": "stream",
     "text": [
      "stocks_df3 is defined correctly\n",
      "Test passed!\n"
     ]
    },
    {
     "data": {
      "text/plain": "1"
     },
     "execution_count": 65,
     "metadata": {},
     "output_type": "execute_result"
    }
   ],
   "source": [
    "# 1 Mark\n",
    "# Do not try to delete this cell\n",
    "# Run this cell for grading\n",
    "_globals = globals()\n",
    "question3iif(_globals)"
   ]
  },
  {
   "cell_type": "markdown",
   "id": "eight-musical",
   "metadata": {
    "deletable": false,
    "editable": false,
    "nbgrader": {
     "cell_type": "markdown",
     "checksum": "71213d87c3454e12fabd390d9bac489e",
     "grade": false,
     "grade_id": "cell-6d4529adc4258769",
     "locked": true,
     "schema_version": 3,
     "solution": false,
     "task": false
    }
   },
   "source": [
    "### (iii)\n",
    "\n",
    "(a) Create, on separate axes, line plots of the volume of trading for `stocks_df2` and `stocks_df_monthly2`; autograding can't help here, or anywhere else in this section!"
   ]
  },
  {
   "cell_type": "code",
   "execution_count": 66,
   "id": "steady-guard",
   "metadata": {
    "deletable": false,
    "nbgrader": {
     "cell_type": "code",
     "checksum": "25fea25ecb51bceb32aa7322727ed36b",
     "grade": false,
     "grade_id": "cell-03757f9be6bc2668",
     "locked": false,
     "schema_version": 3,
     "solution": true,
     "task": false
    }
   },
   "outputs": [
    {
     "data": {
      "text/plain": "<Axes: xlabel='Date'>"
     },
     "execution_count": 66,
     "metadata": {},
     "output_type": "execute_result"
    },
    {
     "data": {
      "text/plain": "<Figure size 640x480 with 1 Axes>",
      "image/png": "[encoded data removed]"
     },
     "metadata": {},
     "output_type": "display_data"
    }
   ],
   "source": [
    "# YOUR CODE HERE\n",
    "stocks_df2['Volume'].plot()"
   ]
  },
  {
   "cell_type": "code",
   "execution_count": 67,
   "id": "aquatic-cleaning",
   "metadata": {
    "deletable": false,
    "nbgrader": {
     "cell_type": "code",
     "checksum": "f7bde8f94515996d2360e3391f8af6e4",
     "grade": false,
     "grade_id": "cell-48262cdba6b590ad",
     "locked": false,
     "schema_version": 3,
     "solution": true,
     "task": false
    }
   },
   "outputs": [
    {
     "data": {
      "text/plain": "<Axes: xlabel='Date'>"
     },
     "execution_count": 67,
     "metadata": {},
     "output_type": "execute_result"
    },
    {
     "data": {
      "text/plain": "<Figure size 640x480 with 1 Axes>",
      "image/png": "[encoded data removed]"
     },
     "metadata": {},
     "output_type": "display_data"
    }
   ],
   "source": [
    "# YOUR CODE HERE\n",
    "stocks_df_monthly2['Volume'].plot()"
   ]
  },
  {
   "cell_type": "markdown",
   "id": "powerful-theory",
   "metadata": {
    "deletable": false,
    "editable": false,
    "nbgrader": {
     "cell_type": "markdown",
     "checksum": "f97c96377cce2404d24c1dea23c3dbe7",
     "grade": false,
     "grade_id": "cell-033244d8b75072be",
     "locked": true,
     "schema_version": 3,
     "solution": false,
     "task": false
    }
   },
   "source": [
    "(b) Create, on the same pair of axes, line plots of the 'High' figures from `stocks_df2` and `stocks_df_monthly2`."
   ]
  },
  {
   "cell_type": "code",
   "execution_count": 68,
   "id": "educational-backup",
   "metadata": {
    "deletable": false,
    "nbgrader": {
     "cell_type": "code",
     "checksum": "211cdd35e1159e1e73411e99c8d0c958",
     "grade": false,
     "grade_id": "cell-90cf89e1971252fd",
     "locked": false,
     "schema_version": 3,
     "solution": true,
     "task": false
    }
   },
   "outputs": [
    {
     "data": {
      "text/plain": "<Axes: xlabel='Date'>"
     },
     "execution_count": 68,
     "metadata": {},
     "output_type": "execute_result"
    },
    {
     "data": {
      "text/plain": "<Figure size 640x480 with 1 Axes>",
      "image/png": "[encoded data removed]"
     },
     "metadata": {},
     "output_type": "display_data"
    }
   ],
   "source": [
    "# YOUR CODE HERE\n",
    "stocks_df2['High'].plot(label='High - stocks_df2')\n",
    "stocks_df_monthly2['High'].plot(label='High - stocks_df_monthly2')"
   ]
  },
  {
   "cell_type": "markdown",
   "id": "animal-method",
   "metadata": {
    "deletable": false,
    "editable": false,
    "nbgrader": {
     "cell_type": "markdown",
     "checksum": "5debce95f8599c4cbfb8cc9ed7ad7c0f",
     "grade": false,
     "grade_id": "cell-1557d946fedbb64e",
     "locked": true,
     "schema_version": 3,
     "solution": false,
     "task": false
    }
   },
   "source": [
    "(c) Create, on the same pair of axes, line plots of the 'Open', 'High', 'Low' and 'Close' figures for `stock_df2`. Do the same for `stock_df_monthly2` on a new pair of axes."
   ]
  },
  {
   "cell_type": "code",
   "execution_count": 69,
   "id": "delayed-coast",
   "metadata": {
    "deletable": false,
    "nbgrader": {
     "cell_type": "code",
     "checksum": "72d5df6e100143e63b97e95d60c7e205",
     "grade": false,
     "grade_id": "cell-1bc140f4f78f6b58",
     "locked": false,
     "schema_version": 3,
     "solution": true,
     "task": false
    }
   },
   "outputs": [
    {
     "data": {
      "text/plain": "<Axes: xlabel='Date'>"
     },
     "execution_count": 69,
     "metadata": {},
     "output_type": "execute_result"
    },
    {
     "data": {
      "text/plain": "<Figure size 640x480 with 1 Axes>",
      "image/png": "[encoded data removed]"
     },
     "metadata": {},
     "output_type": "display_data"
    }
   ],
   "source": [
    "# YOUR CODE HERE\n",
    "stocks_df2[['High','Open','Low','Close']].plot(label='High - stocks_df2')\n"
   ]
  },
  {
   "cell_type": "code",
   "execution_count": 70,
   "id": "plastic-complement",
   "metadata": {
    "deletable": false,
    "nbgrader": {
     "cell_type": "code",
     "checksum": "58611137eb069014c8cfb535bfd82e83",
     "grade": false,
     "grade_id": "cell-d8017ceb1bc0dfcd",
     "locked": false,
     "schema_version": 3,
     "solution": true,
     "task": false
    }
   },
   "outputs": [
    {
     "data": {
      "text/plain": "<Axes: xlabel='Date'>"
     },
     "execution_count": 70,
     "metadata": {},
     "output_type": "execute_result"
    },
    {
     "data": {
      "text/plain": "<Figure size 640x480 with 1 Axes>",
      "image/png": "[encoded data removed]"
     },
     "metadata": {},
     "output_type": "display_data"
    }
   ],
   "source": [
    "# YOUR CODE HERE\n",
    "stocks_df_monthly2[['High','Open','Low','Close']].plot(label='High - stocks_df2')"
   ]
  },
  {
   "cell_type": "markdown",
   "id": "abandoned-rachel",
   "metadata": {
    "deletable": false,
    "editable": false,
    "nbgrader": {
     "cell_type": "markdown",
     "checksum": "1698a01a02706e6f5f35e25413b99954",
     "grade": false,
     "grade_id": "cell-ef5c3c5471d7a1e2",
     "locked": true,
     "schema_version": 3,
     "solution": false,
     "task": false
    }
   },
   "source": [
    "(d) Show the 'Open', 'High', 'Low' and 'Close' figures for `stocks_df_monthly2` on a bar chart, with the bars appearing side by side."
   ]
  },
  {
   "cell_type": "code",
   "execution_count": 71,
   "id": "universal-greensboro",
   "metadata": {
    "deletable": false,
    "nbgrader": {
     "cell_type": "code",
     "checksum": "bf9687ef12d0b7bce6fca07055e1fc2a",
     "grade": false,
     "grade_id": "cell-d3ee7086a436f6e6",
     "locked": false,
     "schema_version": 3,
     "solution": true,
     "task": false
    }
   },
   "outputs": [
    {
     "data": {
      "text/plain": "array([[<Axes: title={'center': 'High'}>,\n        <Axes: title={'center': 'Open'}>],\n       [<Axes: title={'center': 'Low'}>,\n        <Axes: title={'center': 'Close'}>]], dtype=object)"
     },
     "execution_count": 71,
     "metadata": {},
     "output_type": "execute_result"
    },
    {
     "data": {
      "text/plain": "<Figure size 640x480 with 4 Axes>",
      "image/png": "[encoded data removed]"
     },
     "metadata": {},
     "output_type": "display_data"
    }
   ],
   "source": [
    "# YOUR CODE HERE\n",
    "# YOUR CODE HERE\n",
    "stocks_df_monthly2[['High','Open','Low','Close']].hist(label='High - stocks_df2')"
   ]
  },
  {
   "cell_type": "markdown",
   "id": "relevant-sampling",
   "metadata": {
    "deletable": false,
    "editable": false,
    "nbgrader": {
     "cell_type": "markdown",
     "checksum": "cce748e4c0d99c60ff270910d417d018",
     "grade": false,
     "grade_id": "cell-ba6b8c77ed70bd89",
     "locked": true,
     "schema_version": 3,
     "solution": false,
     "task": false
    }
   },
   "source": [
    "(e) Create, on a single figure, box-and-whisker diagrams of the 'Open', 'High', 'Low' and 'Close' figures for `stock_df2`. Do the same for `stock_df_monthly2` on a separate single figure."
   ]
  },
  {
   "cell_type": "code",
   "execution_count": 72,
   "id": "cultural-relaxation",
   "metadata": {
    "deletable": false,
    "nbgrader": {
     "cell_type": "code",
     "checksum": "8ecc6caed3073b52373922b6a1a5edd8",
     "grade": false,
     "grade_id": "cell-48c82cfe49fe5143",
     "locked": false,
     "schema_version": 3,
     "solution": true,
     "task": false
    }
   },
   "outputs": [
    {
     "data": {
      "text/plain": "<Axes: >"
     },
     "execution_count": 72,
     "metadata": {},
     "output_type": "execute_result"
    },
    {
     "data": {
      "text/plain": "<Figure size 640x480 with 1 Axes>",
      "image/png": "[encoded data removed]"
     },
     "metadata": {},
     "output_type": "display_data"
    }
   ],
   "source": [
    "# YOUR CODE HERE\n",
    "stocks_df2[['Open', 'High', 'Low', 'Close']].boxplot()"
   ]
  },
  {
   "cell_type": "code",
   "execution_count": 73,
   "id": "invalid-colleague",
   "metadata": {
    "deletable": false,
    "nbgrader": {
     "cell_type": "code",
     "checksum": "c3708f34372abee017b0eef0f9266084",
     "grade": false,
     "grade_id": "cell-98e43ddae5b86f12",
     "locked": false,
     "schema_version": 3,
     "solution": true,
     "task": false
    }
   },
   "outputs": [
    {
     "data": {
      "text/plain": "<Axes: >"
     },
     "execution_count": 73,
     "metadata": {},
     "output_type": "execute_result"
    },
    {
     "data": {
      "text/plain": "<Figure size 640x480 with 1 Axes>",
      "image/png": "[encoded data removed]"
     },
     "metadata": {},
     "output_type": "display_data"
    }
   ],
   "source": [
    "# YOUR CODE HERE\n",
    "stocks_df_monthly2[['Open', 'High', 'Low', 'Close']].boxplot()"
   ]
  },
  {
   "cell_type": "markdown",
   "id": "obvious-edinburgh",
   "metadata": {
    "deletable": false,
    "editable": false,
    "nbgrader": {
     "cell_type": "markdown",
     "checksum": "db431db5fbf71e70276d2dd5fbc68e78",
     "grade": false,
     "grade_id": "cell-57d4ed82a5d94a28",
     "locked": true,
     "schema_version": 3,
     "solution": false,
     "task": false
    }
   },
   "source": [
    "(f) Create scatter plots of 'High' (on the vertical axis) against 'Low' (on the horizontal axis) for `stocks_df2` and `stocks_df_monthly2`."
   ]
  },
  {
   "cell_type": "code",
   "execution_count": 74,
   "id": "perceived-letter",
   "metadata": {
    "deletable": false,
    "nbgrader": {
     "cell_type": "code",
     "checksum": "3b3ff04221362775c86761bb2a84efdd",
     "grade": false,
     "grade_id": "cell-a83a0ef7fb807785",
     "locked": false,
     "schema_version": 3,
     "solution": true,
     "task": false
    }
   },
   "outputs": [
    {
     "data": {
      "text/plain": "<Axes: xlabel='Low', ylabel='High'>"
     },
     "execution_count": 74,
     "metadata": {},
     "output_type": "execute_result"
    },
    {
     "data": {
      "text/plain": "<Figure size 640x480 with 1 Axes>",
      "image/png": "[encoded data removed]"
     },
     "metadata": {},
     "output_type": "display_data"
    }
   ],
   "source": [
    "# YOUR CODE HERE\n",
    "stocks_df2.plot.scatter(x='Low', y='High')\n"
   ]
  },
  {
   "cell_type": "code",
   "execution_count": 75,
   "id": "prerequisite-freedom",
   "metadata": {
    "deletable": false,
    "nbgrader": {
     "cell_type": "code",
     "checksum": "96ac87581957b2425874e3a6022cf709",
     "grade": false,
     "grade_id": "cell-02a5ae72e9aba1be",
     "locked": false,
     "schema_version": 3,
     "solution": true,
     "task": false
    }
   },
   "outputs": [
    {
     "data": {
      "text/plain": "<Axes: xlabel='Low', ylabel='High'>"
     },
     "execution_count": 75,
     "metadata": {},
     "output_type": "execute_result"
    },
    {
     "data": {
      "text/plain": "<Figure size 640x480 with 1 Axes>",
      "image/png": "[encoded data removed]"
     },
     "metadata": {},
     "output_type": "display_data"
    }
   ],
   "source": [
    "# YOUR CODE HERE\n",
    "stocks_df_monthly2.plot.scatter(x='Low', y='High')"
   ]
  },
  {
   "cell_type": "markdown",
   "id": "bound-dallas",
   "metadata": {
    "deletable": false,
    "editable": false,
    "nbgrader": {
     "cell_type": "markdown",
     "checksum": "ef4f2e027f68ba535ff35a2b792cefd8",
     "grade": false,
     "grade_id": "cell-e61d89d79e0ed5d1",
     "locked": true,
     "schema_version": 3,
     "solution": false,
     "task": false
    }
   },
   "source": [
    "(g) Using `stocks_df3`, create an area plot of the rise and fall of the market with `stacked` set to `False`."
   ]
  },
  {
   "cell_type": "code",
   "execution_count": 76,
   "id": "injured-format",
   "metadata": {
    "deletable": false,
    "nbgrader": {
     "cell_type": "code",
     "checksum": "e327a2130b7597acfd56c8abfc0b39c3",
     "grade": false,
     "grade_id": "cell-44bda767fabddaae",
     "locked": false,
     "schema_version": 3,
     "solution": true,
     "task": false
    }
   },
   "outputs": [
    {
     "data": {
      "text/plain": "<Axes: title={'center': 'Rise and Fall of the Market'}, xlabel='Date'>"
     },
     "execution_count": 76,
     "metadata": {},
     "output_type": "execute_result"
    },
    {
     "data": {
      "text/plain": "<Figure size 1000x600 with 1 Axes>",
      "image/png": "[encoded data removed]"
     },
     "metadata": {},
     "output_type": "display_data"
    }
   ],
   "source": [
    "stocks_df3[['Rise/fall']].plot.area(stacked=False, figsize=(10, 6), title='Rise and Fall of the Market')\n"
   ]
  },
  {
   "cell_type": "markdown",
   "id": "f37f9fe6",
   "metadata": {
    "deletable": false,
    "editable": false,
    "nbgrader": {
     "cell_type": "markdown",
     "checksum": "1d985a95ccc3328ba55da966c17aa8c9",
     "grade": false,
     "grade_id": "cell-e70c971858a38aa8",
     "locked": true,
     "schema_version": 3,
     "solution": false,
     "task": false
    }
   },
   "source": [
    "## Question 4\n",
    "\n",
    "### (i) \n",
    "\n",
    "Here's the code from the notes for creating the DataFrame `platonic_df`:"
   ]
  },
  {
   "cell_type": "code",
   "execution_count": 77,
   "id": "007d95a0",
   "metadata": {},
   "outputs": [
    {
     "data": {
      "text/plain": "           name  faces  vertices  edges face shape\n0   tetrahedron      4         4      6   triangle\n1          cube      6         8     12     square\n2    octahedron      8         6     12   triangle\n3  dodecahedron     12        20     30   pentagon\n4   icosahedron     20        12     30   triangle",
      "text/html": "<div>\n<style scoped>\n    .dataframe tbody tr th:only-of-type {\n        vertical-align: middle;\n    }\n\n    .dataframe tbody tr th {\n        vertical-align: top;\n    }\n\n    .dataframe thead th {\n        text-align: right;\n    }\n</style>\n<table border=\"1\" class=\"dataframe\">\n  <thead>\n    <tr style=\"text-align: right;\">\n      <th></th>\n      <th>name</th>\n      <th>faces</th>\n      <th>vertices</th>\n      <th>edges</th>\n      <th>face shape</th>\n    </tr>\n  </thead>\n  <tbody>\n    <tr>\n      <th>0</th>\n      <td>tetrahedron</td>\n      <td>4</td>\n      <td>4</td>\n      <td>6</td>\n      <td>triangle</td>\n    </tr>\n    <tr>\n      <th>1</th>\n      <td>cube</td>\n      <td>6</td>\n      <td>8</td>\n      <td>12</td>\n      <td>square</td>\n    </tr>\n    <tr>\n      <th>2</th>\n      <td>octahedron</td>\n      <td>8</td>\n      <td>6</td>\n      <td>12</td>\n      <td>triangle</td>\n    </tr>\n    <tr>\n      <th>3</th>\n      <td>dodecahedron</td>\n      <td>12</td>\n      <td>20</td>\n      <td>30</td>\n      <td>pentagon</td>\n    </tr>\n    <tr>\n      <th>4</th>\n      <td>icosahedron</td>\n      <td>20</td>\n      <td>12</td>\n      <td>30</td>\n      <td>triangle</td>\n    </tr>\n  </tbody>\n</table>\n</div>"
     },
     "execution_count": 77,
     "metadata": {},
     "output_type": "execute_result"
    }
   ],
   "source": [
    "platonic_dict2 = {\n",
    "    'name': ['tetrahedron',\n",
    "             'cube',\n",
    "             'octahedron',\n",
    "             'dodecahedron',\n",
    "             'icosahedron'],\n",
    "    'faces': [4, 6, 8, 12, 20],\n",
    "    'vertices': [4, 8, 6, 20, 12],\n",
    "    'edges': [6, 12, 12, 30, 30],\n",
    "    'face shape': ['triangle',\n",
    "                   'square',\n",
    "                   'triangle',\n",
    "                   'pentagon',\n",
    "                   'triangle']\n",
    "}\n",
    "\n",
    "platonic_df = pd.DataFrame(platonic_dict2)\n",
    "\n",
    "platonic_df"
   ]
  },
  {
   "cell_type": "markdown",
   "id": "8e2bae5b",
   "metadata": {
    "deletable": false,
    "editable": false,
    "nbgrader": {
     "cell_type": "markdown",
     "checksum": "1ff5d4eb0adc3f41ac4912d4c729c0e7",
     "grade": false,
     "grade_id": "cell-f6bd9851ee45f59e",
     "locked": true,
     "schema_version": 3,
     "solution": false,
     "task": false
    }
   },
   "source": [
    "(a) By setting `index` to `'face shape'`, `values` to `'name'` and `aggfunc` to `'count'`, create a pivot table `platonic_pt0` showing the number of Platonic solids with pentagonal, square and triangular faces."
   ]
  },
  {
   "cell_type": "code",
   "execution_count": 78,
   "id": "708c0444",
   "metadata": {
    "deletable": false,
    "nbgrader": {
     "cell_type": "code",
     "checksum": "0e2253335e0576a0d33c787c6cf3aa29",
     "grade": false,
     "grade_id": "cell-ad67f12d8b121b88",
     "locked": false,
     "schema_version": 3,
     "solution": true,
     "task": false
    }
   },
   "outputs": [
    {
     "name": "stdout",
     "output_type": "stream",
     "text": [
      "            name\n",
      "face shape      \n",
      "pentagon       1\n",
      "square         1\n",
      "triangle       3\n"
     ]
    }
   ],
   "source": [
    "# YOUR CODE HERE\n",
    "\n",
    "# Create the pivot table\n",
    "platonic_pt0 = platonic_df.pivot_table(index='face shape', values='name', aggfunc='count')\n",
    "\n",
    "# Display the pivot table\n",
    "print(platonic_pt0)\n"
   ]
  },
  {
   "cell_type": "code",
   "execution_count": 79,
   "id": "0b10ae61",
   "metadata": {
    "deletable": false,
    "editable": false,
    "nbgrader": {
     "cell_type": "code",
     "checksum": "d06beba7aadf9a6afbc7d3c4e453187e",
     "grade": true,
     "grade_id": "cell-ac02bb29dec9caba",
     "locked": true,
     "points": 1,
     "schema_version": 3,
     "solution": false,
     "task": false
    }
   },
   "outputs": [
    {
     "name": "stdout",
     "output_type": "stream",
     "text": [
      "platonic_pt0 is defined correctly\n",
      "Test passed!\n"
     ]
    },
    {
     "data": {
      "text/plain": "1"
     },
     "execution_count": 79,
     "metadata": {},
     "output_type": "execute_result"
    }
   ],
   "source": [
    "# 1 Mark\n",
    "# Do not try to delete this cell\n",
    "# Run this cell for grading\n",
    "_globals = globals()\n",
    "question4ia(_globals)"
   ]
  },
  {
   "cell_type": "markdown",
   "id": "ce3eb3f3",
   "metadata": {
    "deletable": false,
    "editable": false,
    "nbgrader": {
     "cell_type": "markdown",
     "checksum": "f329dc5b45ed52f1a99b8d50d9ef28c2",
     "grade": false,
     "grade_id": "cell-e38ac1146aecc38d",
     "locked": true,
     "schema_version": 3,
     "solution": false,
     "task": false
    }
   },
   "source": [
    "(ii) By changing the value of `aggfunc` to `list` (note: `list` not `'list'`), create `platonic_pt1`, which lists the names of the Platonic solids with pentagonal, square and triangular faces."
   ]
  },
  {
   "cell_type": "code",
   "execution_count": 80,
   "id": "21f7fbf4",
   "metadata": {
    "deletable": false,
    "nbgrader": {
     "cell_type": "code",
     "checksum": "ae4adbee06bf80efe8df560df3a59bee",
     "grade": false,
     "grade_id": "cell-6ff653873f915d78",
     "locked": false,
     "schema_version": 3,
     "solution": true,
     "task": false
    }
   },
   "outputs": [
    {
     "data": {
      "text/plain": "                                              name\nface shape                                        \npentagon                            [dodecahedron]\nsquare                                      [cube]\ntriangle    [tetrahedron, octahedron, icosahedron]",
      "text/html": "<div>\n<style scoped>\n    .dataframe tbody tr th:only-of-type {\n        vertical-align: middle;\n    }\n\n    .dataframe tbody tr th {\n        vertical-align: top;\n    }\n\n    .dataframe thead th {\n        text-align: right;\n    }\n</style>\n<table border=\"1\" class=\"dataframe\">\n  <thead>\n    <tr style=\"text-align: right;\">\n      <th></th>\n      <th>name</th>\n    </tr>\n    <tr>\n      <th>face shape</th>\n      <th></th>\n    </tr>\n  </thead>\n  <tbody>\n    <tr>\n      <th>pentagon</th>\n      <td>[dodecahedron]</td>\n    </tr>\n    <tr>\n      <th>square</th>\n      <td>[cube]</td>\n    </tr>\n    <tr>\n      <th>triangle</th>\n      <td>[tetrahedron, octahedron, icosahedron]</td>\n    </tr>\n  </tbody>\n</table>\n</div>"
     },
     "execution_count": 80,
     "metadata": {},
     "output_type": "execute_result"
    }
   ],
   "source": [
    "# Create the pivot table with aggfunc as list\n",
    "platonic_pt1 = platonic_df.pivot_table(index='face shape', values='name', aggfunc=list)\n",
    "platonic_pt1"
   ]
  },
  {
   "cell_type": "code",
   "execution_count": 81,
   "id": "d182febf",
   "metadata": {
    "deletable": false,
    "editable": false,
    "nbgrader": {
     "cell_type": "code",
     "checksum": "22bdf1a9456cff318707645ba4c005ed",
     "grade": true,
     "grade_id": "cell-9947fa174bdb1c83",
     "locked": true,
     "points": 1,
     "schema_version": 3,
     "solution": false,
     "task": false
    }
   },
   "outputs": [
    {
     "name": "stdout",
     "output_type": "stream",
     "text": [
      "platonic_pt1 is defined correctly\n",
      "Test passed!\n"
     ]
    },
    {
     "data": {
      "text/plain": "1"
     },
     "execution_count": 81,
     "metadata": {},
     "output_type": "execute_result"
    }
   ],
   "source": [
    "# 1 Mark\n",
    "# Do not try to delete this cell\n",
    "# Run this cell for grading\n",
    "_globals = globals()\n",
    "question4ib(_globals)"
   ]
  },
  {
   "cell_type": "markdown",
   "id": "69e481cd",
   "metadata": {
    "deletable": false,
    "editable": false,
    "nbgrader": {
     "cell_type": "markdown",
     "checksum": "fc043306de2d03883bfde29dd615d216",
     "grade": false,
     "grade_id": "cell-17c738e24868076a",
     "locked": true,
     "schema_version": 3,
     "solution": false,
     "task": false
    }
   },
   "source": [
    "(c) Create `platonic_pt2`, in which the lists are not of names but of numbers of faces."
   ]
  },
  {
   "cell_type": "code",
   "execution_count": 82,
   "id": "eaad5ab3",
   "metadata": {
    "deletable": false,
    "nbgrader": {
     "cell_type": "code",
     "checksum": "455fd56a69f3fa9ecca89d9003febcab",
     "grade": false,
     "grade_id": "cell-78f298c9718a8d93",
     "locked": false,
     "schema_version": 3,
     "solution": true,
     "task": false
    }
   },
   "outputs": [
    {
     "data": {
      "text/plain": "                 faces\nface shape            \npentagon          [12]\nsquare             [6]\ntriangle    [4, 8, 20]",
      "text/html": "<div>\n<style scoped>\n    .dataframe tbody tr th:only-of-type {\n        vertical-align: middle;\n    }\n\n    .dataframe tbody tr th {\n        vertical-align: top;\n    }\n\n    .dataframe thead th {\n        text-align: right;\n    }\n</style>\n<table border=\"1\" class=\"dataframe\">\n  <thead>\n    <tr style=\"text-align: right;\">\n      <th></th>\n      <th>faces</th>\n    </tr>\n    <tr>\n      <th>face shape</th>\n      <th></th>\n    </tr>\n  </thead>\n  <tbody>\n    <tr>\n      <th>pentagon</th>\n      <td>[12]</td>\n    </tr>\n    <tr>\n      <th>square</th>\n      <td>[6]</td>\n    </tr>\n    <tr>\n      <th>triangle</th>\n      <td>[4, 8, 20]</td>\n    </tr>\n  </tbody>\n</table>\n</div>"
     },
     "execution_count": 82,
     "metadata": {},
     "output_type": "execute_result"
    }
   ],
   "source": [
    "# YOUR CODE HERE\n",
    "# Create the pivot table with values as 'face shape' and aggfunc as list\n",
    "platonic_pt2 = platonic_df.pivot_table(index='face shape', values='faces', aggfunc=list)\n",
    "\n",
    "platonic_pt2"
   ]
  },
  {
   "cell_type": "code",
   "execution_count": 83,
   "id": "42115315",
   "metadata": {
    "deletable": false,
    "editable": false,
    "nbgrader": {
     "cell_type": "code",
     "checksum": "ce9fca17882b0d5fa3d892c19f03d8ed",
     "grade": true,
     "grade_id": "cell-7ed271ad056a32f5",
     "locked": true,
     "points": 1,
     "schema_version": 3,
     "solution": false,
     "task": false
    }
   },
   "outputs": [
    {
     "name": "stdout",
     "output_type": "stream",
     "text": [
      "platonic_pt2 is defined correctly\n",
      "Test passed!\n"
     ]
    },
    {
     "data": {
      "text/plain": "1"
     },
     "execution_count": 83,
     "metadata": {},
     "output_type": "execute_result"
    }
   ],
   "source": [
    "# 1 Mark\n",
    "# Do not try to delete this cell\n",
    "# Run this cell for grading\n",
    "_globals = globals()\n",
    "question4ic(_globals)"
   ]
  },
  {
   "cell_type": "markdown",
   "id": "472930f4",
   "metadata": {
    "deletable": false,
    "editable": false,
    "nbgrader": {
     "cell_type": "markdown",
     "checksum": "6d5c8a35cc99e532c175372297ef2193",
     "grade": false,
     "grade_id": "cell-9a173432dacc5240",
     "locked": true,
     "schema_version": 3,
     "solution": false,
     "task": false
    }
   },
   "source": [
    "## (ii)\n",
    "\n",
    "Read the data in the file `trade_data.csv`, which shows daily international trade figures for New Zealand, into the DataFrame `trade.df`."
   ]
  },
  {
   "cell_type": "code",
   "execution_count": 86,
   "id": "d968bf94",
   "metadata": {
    "deletable": false,
    "nbgrader": {
     "cell_type": "code",
     "checksum": "55037d2786e297005252de48285cb074",
     "grade": false,
     "grade_id": "cell-97f706c439dbf933",
     "locked": false,
     "schema_version": 3,
     "solution": true,
     "task": false
    }
   },
   "outputs": [
    {
     "data": {
      "text/plain": "  Direction  Year        Date   Weekday Country Commodity Transport_Mode   \n0   Exports  2015  01/01/2015  Thursday     All       All            All  \\\n1   Exports  2015  02/01/2015    Friday     All       All            All   \n2   Exports  2015  03/01/2015  Saturday     All       All            All   \n3   Exports  2015  04/01/2015    Sunday     All       All            All   \n4   Exports  2015  05/01/2015    Monday     All       All            All   \n\n  Measure      Value  Cumulative  \n0       $  104000000   104000000  \n1       $   96000000   200000000  \n2       $   61000000   262000000  \n3       $   74000000   336000000  \n4       $  105000000   442000000  ",
      "text/html": "<div>\n<style scoped>\n    .dataframe tbody tr th:only-of-type {\n        vertical-align: middle;\n    }\n\n    .dataframe tbody tr th {\n        vertical-align: top;\n    }\n\n    .dataframe thead th {\n        text-align: right;\n    }\n</style>\n<table border=\"1\" class=\"dataframe\">\n  <thead>\n    <tr style=\"text-align: right;\">\n      <th></th>\n      <th>Direction</th>\n      <th>Year</th>\n      <th>Date</th>\n      <th>Weekday</th>\n      <th>Country</th>\n      <th>Commodity</th>\n      <th>Transport_Mode</th>\n      <th>Measure</th>\n      <th>Value</th>\n      <th>Cumulative</th>\n    </tr>\n  </thead>\n  <tbody>\n    <tr>\n      <th>0</th>\n      <td>Exports</td>\n      <td>2015</td>\n      <td>01/01/2015</td>\n      <td>Thursday</td>\n      <td>All</td>\n      <td>All</td>\n      <td>All</td>\n      <td>$</td>\n      <td>104000000</td>\n      <td>104000000</td>\n    </tr>\n    <tr>\n      <th>1</th>\n      <td>Exports</td>\n      <td>2015</td>\n      <td>02/01/2015</td>\n      <td>Friday</td>\n      <td>All</td>\n      <td>All</td>\n      <td>All</td>\n      <td>$</td>\n      <td>96000000</td>\n      <td>200000000</td>\n    </tr>\n    <tr>\n      <th>2</th>\n      <td>Exports</td>\n      <td>2015</td>\n      <td>03/01/2015</td>\n      <td>Saturday</td>\n      <td>All</td>\n      <td>All</td>\n      <td>All</td>\n      <td>$</td>\n      <td>61000000</td>\n      <td>262000000</td>\n    </tr>\n    <tr>\n      <th>3</th>\n      <td>Exports</td>\n      <td>2015</td>\n      <td>04/01/2015</td>\n      <td>Sunday</td>\n      <td>All</td>\n      <td>All</td>\n      <td>All</td>\n      <td>$</td>\n      <td>74000000</td>\n      <td>336000000</td>\n    </tr>\n    <tr>\n      <th>4</th>\n      <td>Exports</td>\n      <td>2015</td>\n      <td>05/01/2015</td>\n      <td>Monday</td>\n      <td>All</td>\n      <td>All</td>\n      <td>All</td>\n      <td>$</td>\n      <td>105000000</td>\n      <td>442000000</td>\n    </tr>\n  </tbody>\n</table>\n</div>"
     },
     "execution_count": 86,
     "metadata": {},
     "output_type": "execute_result"
    }
   ],
   "source": [
    "# YOUR CODE HERE\n",
    "trade_df = pd.read_csv('trade_data.csv')\n",
    "trade_df.head()"
   ]
  },
  {
   "cell_type": "code",
   "execution_count": 87,
   "id": "c1839605",
   "metadata": {
    "deletable": false,
    "editable": false,
    "nbgrader": {
     "cell_type": "code",
     "checksum": "f8c2055c2cbdf99b9473a770136451ce",
     "grade": true,
     "grade_id": "cell-1b8b7e858798f716",
     "locked": true,
     "points": 1,
     "schema_version": 3,
     "solution": false,
     "task": false
    }
   },
   "outputs": [
    {
     "name": "stdout",
     "output_type": "stream",
     "text": [
      "trade_df is defined correctly\n",
      "Test passed!\n"
     ]
    },
    {
     "data": {
      "text/plain": "1"
     },
     "execution_count": 87,
     "metadata": {},
     "output_type": "execute_result"
    }
   ],
   "source": [
    "# 1 Mark\n",
    "# Do not try to delete this cell\n",
    "# Run this cell for grading\n",
    "_globals = globals()\n",
    "question4iia(_globals)"
   ]
  },
  {
   "cell_type": "markdown",
   "id": "7f29c50a",
   "metadata": {
    "deletable": false,
    "editable": false,
    "nbgrader": {
     "cell_type": "markdown",
     "checksum": "1ca58b321fe696fc297c228af4b9561c",
     "grade": false,
     "grade_id": "cell-dca325fe3e2e4f28",
     "locked": true,
     "schema_version": 3,
     "solution": false,
     "task": false
    }
   },
   "source": [
    "(b) Create a pivot table `trade_pt0` showing total trade figures for each year, broken down into columns by measure. (Don't use the cumulative figures!)"
   ]
  },
  {
   "cell_type": "code",
   "execution_count": 88,
   "id": "3512aaa5",
   "metadata": {
    "deletable": false,
    "nbgrader": {
     "cell_type": "code",
     "checksum": "0f6afa8acf43d0ff15bfd3219f5893a8",
     "grade": false,
     "grade_id": "cell-ea54643d4dbe730c",
     "locked": false,
     "schema_version": 3,
     "solution": true,
     "task": false
    }
   },
   "outputs": [
    {
     "data": {
      "text/plain": "Measure             $    Tonnes\nYear                           \n2015     408231000000  35052000\n2016     403665000000  39143000\n2017     444863000000  43007000\n2018     483074000000  47678000\n2019     499850000000  50924000\n2020     478800000000  46545000\n2021     519314000000  50048000",
      "text/html": "<div>\n<style scoped>\n    .dataframe tbody tr th:only-of-type {\n        vertical-align: middle;\n    }\n\n    .dataframe tbody tr th {\n        vertical-align: top;\n    }\n\n    .dataframe thead th {\n        text-align: right;\n    }\n</style>\n<table border=\"1\" class=\"dataframe\">\n  <thead>\n    <tr style=\"text-align: right;\">\n      <th>Measure</th>\n      <th>$</th>\n      <th>Tonnes</th>\n    </tr>\n    <tr>\n      <th>Year</th>\n      <th></th>\n      <th></th>\n    </tr>\n  </thead>\n  <tbody>\n    <tr>\n      <th>2015</th>\n      <td>408231000000</td>\n      <td>35052000</td>\n    </tr>\n    <tr>\n      <th>2016</th>\n      <td>403665000000</td>\n      <td>39143000</td>\n    </tr>\n    <tr>\n      <th>2017</th>\n      <td>444863000000</td>\n      <td>43007000</td>\n    </tr>\n    <tr>\n      <th>2018</th>\n      <td>483074000000</td>\n      <td>47678000</td>\n    </tr>\n    <tr>\n      <th>2019</th>\n      <td>499850000000</td>\n      <td>50924000</td>\n    </tr>\n    <tr>\n      <th>2020</th>\n      <td>478800000000</td>\n      <td>46545000</td>\n    </tr>\n    <tr>\n      <th>2021</th>\n      <td>519314000000</td>\n      <td>50048000</td>\n    </tr>\n  </tbody>\n</table>\n</div>"
     },
     "execution_count": 88,
     "metadata": {},
     "output_type": "execute_result"
    }
   ],
   "source": [
    "trade_pt0 = trade_df.pivot_table(index='Year', columns='Measure', values='Value', aggfunc='sum')\n",
    "trade_pt0"
   ]
  },
  {
   "cell_type": "code",
   "execution_count": 89,
   "id": "e35e783a",
   "metadata": {
    "deletable": false,
    "editable": false,
    "nbgrader": {
     "cell_type": "code",
     "checksum": "8ef60c54a6f40d9310e892f236cc76ea",
     "grade": true,
     "grade_id": "cell-d9bc18afbb6c572b",
     "locked": true,
     "points": 1,
     "schema_version": 3,
     "solution": false,
     "task": false
    }
   },
   "outputs": [
    {
     "name": "stdout",
     "output_type": "stream",
     "text": [
      "trade_pt0 is defined correctly\n",
      "Test passed!\n"
     ]
    },
    {
     "data": {
      "text/plain": "1"
     },
     "execution_count": 89,
     "metadata": {},
     "output_type": "execute_result"
    }
   ],
   "source": [
    "# 1 Mark\n",
    "# Do not try to delete this cell\n",
    "# Run this cell for grading\n",
    "_globals = globals()\n",
    "question4iib(_globals)"
   ]
  },
  {
   "cell_type": "markdown",
   "id": "1ba2f983",
   "metadata": {
    "deletable": false,
    "editable": false,
    "nbgrader": {
     "cell_type": "markdown",
     "checksum": "1e0dfe37fe8cc36cf46111bc4dc0bb98",
     "grade": false,
     "grade_id": "cell-c2201a7f9a966413",
     "locked": true,
     "schema_version": 3,
     "solution": false,
     "task": false
    }
   },
   "source": [
    "(c) Create `trade_pt1`, which breaks down the figures by both commodity and measure, in that order."
   ]
  },
  {
   "cell_type": "code",
   "execution_count": 92,
   "id": "876cd6b5",
   "metadata": {
    "deletable": false,
    "nbgrader": {
     "cell_type": "code",
     "checksum": "8dc040d729068f7a8389ddaaa4265af3",
     "grade": false,
     "grade_id": "cell-f859092b97ccef43",
     "locked": false,
     "schema_version": 3,
     "solution": true,
     "task": false
    }
   },
   "outputs": [
    {
     "data": {
      "text/plain": "Commodity           All Electrical machinery and equip   \nMeasure               $                              $   \nYear                                                     \n2015       303494000000                     6341000000  \\\n2016       299894000000                     6268000000   \n2017       328423000000                     6811000000   \n2018       357374000000                     7529000000   \n2019       367530000000                     7903000000   \n2020       352557000000                     7902000000   \n2021       377395000000                     8800000000   \n\nCommodity Fish, crustaceans, and molluscs               Fruit   \nMeasure                                 $  Tonnes           $   \nYear                                                            \n2015                           1945000000  255000  2304000000  \\\n2016                           2188000000  269000  2741000000   \n2017                           2124000000  302000  2664000000   \n2018                           2204000000  257000  3235000000   \n2019                           2521000000  272000  3411000000   \n2020                           2240000000  237000  3940000000   \n2021                           2223000000  240000  3902000000   \n\nCommodity Logs, wood, and wood articles           Meat and edible offal   \nMeasure                               $    Tonnes                     $   \nYear                                                                      \n2015                         5072000000  28778000            9937000000  \\\n2016                         6094000000  32807000            8466000000   \n2017                         7131000000  36389000            9708000000   \n2018                         8129000000  40954000           11113000000   \n2019                         7940000000  43593000           12875000000   \n2020                         7149000000  39303000           12810000000   \n2021                         8866000000  42578000           13603000000   \n\nCommodity          Mechanical machinery and equip   \nMeasure     Tonnes                              $   \nYear                                                \n2015       1429000                     8699000000  \\\n2016       1277000                     8496000000   \n2017       1372000                    10076000000   \n2018       1484000                    10911000000   \n2019       1579000                    11576000000   \n2020       1599000                    10562000000   \n2021       1632000                    12283000000   \n\nCommodity Milk powder, butter, and cheese          Non-food manufactured goods  \nMeasure                                 $   Tonnes                           $  \nYear                                                                            \n2015                          17241000000  4590000                 53198000000  \n2016                          16854000000  4790000                 52664000000  \n2017                          21971000000  4944000                 55955000000  \n2018                          22586000000  4983000                 59993000000  \n2019                          25424000000  5480000                 60670000000  \n2020                          25722000000  5406000                 55918000000  \n2021                          27486000000  5598000                 64756000000  ",
      "text/html": "<div>\n<style scoped>\n    .dataframe tbody tr th:only-of-type {\n        vertical-align: middle;\n    }\n\n    .dataframe tbody tr th {\n        vertical-align: top;\n    }\n\n    .dataframe thead tr th {\n        text-align: left;\n    }\n\n    .dataframe thead tr:last-of-type th {\n        text-align: right;\n    }\n</style>\n<table border=\"1\" class=\"dataframe\">\n  <thead>\n    <tr>\n      <th>Commodity</th>\n      <th>All</th>\n      <th>Electrical machinery and equip</th>\n      <th colspan=\"2\" halign=\"left\">Fish, crustaceans, and molluscs</th>\n      <th>Fruit</th>\n      <th colspan=\"2\" halign=\"left\">Logs, wood, and wood articles</th>\n      <th colspan=\"2\" halign=\"left\">Meat and edible offal</th>\n      <th>Mechanical machinery and equip</th>\n      <th colspan=\"2\" halign=\"left\">Milk powder, butter, and cheese</th>\n      <th>Non-food manufactured goods</th>\n    </tr>\n    <tr>\n      <th>Measure</th>\n      <th>$</th>\n      <th>$</th>\n      <th>$</th>\n      <th>Tonnes</th>\n      <th>$</th>\n      <th>$</th>\n      <th>Tonnes</th>\n      <th>$</th>\n      <th>Tonnes</th>\n      <th>$</th>\n      <th>$</th>\n      <th>Tonnes</th>\n      <th>$</th>\n    </tr>\n    <tr>\n      <th>Year</th>\n      <th></th>\n      <th></th>\n      <th></th>\n      <th></th>\n      <th></th>\n      <th></th>\n      <th></th>\n      <th></th>\n      <th></th>\n      <th></th>\n      <th></th>\n      <th></th>\n      <th></th>\n    </tr>\n  </thead>\n  <tbody>\n    <tr>\n      <th>2015</th>\n      <td>303494000000</td>\n      <td>6341000000</td>\n      <td>1945000000</td>\n      <td>255000</td>\n      <td>2304000000</td>\n      <td>5072000000</td>\n      <td>28778000</td>\n      <td>9937000000</td>\n      <td>1429000</td>\n      <td>8699000000</td>\n      <td>17241000000</td>\n      <td>4590000</td>\n      <td>53198000000</td>\n    </tr>\n    <tr>\n      <th>2016</th>\n      <td>299894000000</td>\n      <td>6268000000</td>\n      <td>2188000000</td>\n      <td>269000</td>\n      <td>2741000000</td>\n      <td>6094000000</td>\n      <td>32807000</td>\n      <td>8466000000</td>\n      <td>1277000</td>\n      <td>8496000000</td>\n      <td>16854000000</td>\n      <td>4790000</td>\n      <td>52664000000</td>\n    </tr>\n    <tr>\n      <th>2017</th>\n      <td>328423000000</td>\n      <td>6811000000</td>\n      <td>2124000000</td>\n      <td>302000</td>\n      <td>2664000000</td>\n      <td>7131000000</td>\n      <td>36389000</td>\n      <td>9708000000</td>\n      <td>1372000</td>\n      <td>10076000000</td>\n      <td>21971000000</td>\n      <td>4944000</td>\n      <td>55955000000</td>\n    </tr>\n    <tr>\n      <th>2018</th>\n      <td>357374000000</td>\n      <td>7529000000</td>\n      <td>2204000000</td>\n      <td>257000</td>\n      <td>3235000000</td>\n      <td>8129000000</td>\n      <td>40954000</td>\n      <td>11113000000</td>\n      <td>1484000</td>\n      <td>10911000000</td>\n      <td>22586000000</td>\n      <td>4983000</td>\n      <td>59993000000</td>\n    </tr>\n    <tr>\n      <th>2019</th>\n      <td>367530000000</td>\n      <td>7903000000</td>\n      <td>2521000000</td>\n      <td>272000</td>\n      <td>3411000000</td>\n      <td>7940000000</td>\n      <td>43593000</td>\n      <td>12875000000</td>\n      <td>1579000</td>\n      <td>11576000000</td>\n      <td>25424000000</td>\n      <td>5480000</td>\n      <td>60670000000</td>\n    </tr>\n    <tr>\n      <th>2020</th>\n      <td>352557000000</td>\n      <td>7902000000</td>\n      <td>2240000000</td>\n      <td>237000</td>\n      <td>3940000000</td>\n      <td>7149000000</td>\n      <td>39303000</td>\n      <td>12810000000</td>\n      <td>1599000</td>\n      <td>10562000000</td>\n      <td>25722000000</td>\n      <td>5406000</td>\n      <td>55918000000</td>\n    </tr>\n    <tr>\n      <th>2021</th>\n      <td>377395000000</td>\n      <td>8800000000</td>\n      <td>2223000000</td>\n      <td>240000</td>\n      <td>3902000000</td>\n      <td>8866000000</td>\n      <td>42578000</td>\n      <td>13603000000</td>\n      <td>1632000</td>\n      <td>12283000000</td>\n      <td>27486000000</td>\n      <td>5598000</td>\n      <td>64756000000</td>\n    </tr>\n  </tbody>\n</table>\n</div>"
     },
     "execution_count": 92,
     "metadata": {},
     "output_type": "execute_result"
    }
   ],
   "source": [
    "# YOUR CODE HERE\n",
    "trade_pt1 = trade_df.pivot_table(index='Year', columns=['Commodity','Measure'], values='Value', aggfunc='sum')\n",
    "\n",
    "trade_pt1"
   ]
  },
  {
   "cell_type": "code",
   "execution_count": 93,
   "id": "b66bbfa1",
   "metadata": {
    "deletable": false,
    "editable": false,
    "nbgrader": {
     "cell_type": "code",
     "checksum": "5675f8e85ef17ebe1387a54d91659914",
     "grade": true,
     "grade_id": "cell-84a862f4fdc427bd",
     "locked": true,
     "points": 1,
     "schema_version": 3,
     "solution": false,
     "task": false
    }
   },
   "outputs": [
    {
     "name": "stdout",
     "output_type": "stream",
     "text": [
      "trade_pt1 is defined correctly\n",
      "Test passed!\n"
     ]
    },
    {
     "data": {
      "text/plain": "1"
     },
     "execution_count": 93,
     "metadata": {},
     "output_type": "execute_result"
    }
   ],
   "source": [
    "# 1 Mark\n",
    "# Do not try to delete this cell\n",
    "# Run this cell for grading\n",
    "_globals = globals()\n",
    "question4iic(_globals)"
   ]
  },
  {
   "cell_type": "code",
   "execution_count": null,
   "id": "a3a98c2f",
   "metadata": {},
   "outputs": [],
   "source": []
  }
 ],
 "metadata": {
  "kernelspec": {
   "display_name": "Python 3 (ipykernel)",
   "language": "python",
   "name": "python3"
  },
  "language_info": {
   "codemirror_mode": {
    "name": "ipython",
    "version": 3
   },
   "file_extension": ".py",
   "mimetype": "text/x-python",
   "name": "python",
   "nbconvert_exporter": "python",
   "pygments_lexer": "ipython3",
   "version": "3.10.12"
  }
 },
 "nbformat": 4,
 "nbformat_minor": 5
}
