{
 "cells": [
  {
   "cell_type": "code",
   "execution_count": 62,
   "id": "21b1c290",
   "metadata": {},
   "outputs": [
    {
     "name": "stdout",
     "output_type": "stream",
     "text": [
      "Looking in indexes: https://pypi.tuna.tsinghua.edu.cn/simple/\n",
      "Requirement already satisfied: plotchecker in d:\\applicationapps\\python\\lib\\site-packages (0.2.0)\n",
      "Requirement already satisfied: numpy in d:\\applicationapps\\python\\lib\\site-packages (from plotchecker) (1.23.5)\n",
      "Requirement already satisfied: six in d:\\applicationapps\\python\\lib\\site-packages (from plotchecker) (1.16.0)\n",
      "Requirement already satisfied: matplotlib>=2 in d:\\applicationapps\\python\\lib\\site-packages (from plotchecker) (3.7.1)\n",
      "Requirement already satisfied: cycler>=0.10 in d:\\applicationapps\\python\\lib\\site-packages (from matplotlib>=2->plotchecker) (0.11.0)\n",
      "Requirement already satisfied: pillow>=6.2.0 in d:\\applicationapps\\python\\lib\\site-packages (from matplotlib>=2->plotchecker) (9.5.0)\n",
      "Requirement already satisfied: fonttools>=4.22.0 in d:\\applicationapps\\python\\lib\\site-packages (from matplotlib>=2->plotchecker) (4.39.4)\n",
      "Requirement already satisfied: packaging>=20.0 in d:\\applicationapps\\python\\lib\\site-packages (from matplotlib>=2->plotchecker) (23.1)\n",
      "Requirement already satisfied: python-dateutil>=2.7 in d:\\applicationapps\\python\\lib\\site-packages (from matplotlib>=2->plotchecker) (2.8.2)\n",
      "Requirement already satisfied: pyparsing>=2.3.1 in d:\\applicationapps\\python\\lib\\site-packages (from matplotlib>=2->plotchecker) (3.0.9)\n",
      "Requirement already satisfied: contourpy>=1.0.1 in d:\\applicationapps\\python\\lib\\site-packages (from matplotlib>=2->plotchecker) (1.0.7)\n",
      "Requirement already satisfied: kiwisolver>=1.0.1 in d:\\applicationapps\\python\\lib\\site-packages (from matplotlib>=2->plotchecker) (1.4.4)\n"
     ]
    },
    {
     "name": "stderr",
     "output_type": "stream",
     "text": [
      "WARNING: You are using pip version 22.0.4; however, version 24.0 is available.\n",
      "You should consider upgrading via the 'D:\\ApplicationApps\\Python\\python.exe -m pip install --upgrade pip' command.\n"
     ]
    }
   ],
   "source": [
    "# this is needed for the plotting questions.\n",
    "# if this fails, you may need to run jupyter\n",
    "# with administrator privileges\n",
    "import sys\n",
    "!{sys.executable} -m pip install plotchecker"
   ]
  },
  {
   "cell_type": "code",
   "execution_count": 63,
   "id": "925315a4",
   "metadata": {},
   "outputs": [],
   "source": [
    "from autograder_term2week2 import *\n",
    "_globals = globals()\n",
    "import numpy as np\n",
    "import matplotlib.pyplot as plt\n",
    "%matplotlib inline"
   ]
  },
  {
   "cell_type": "markdown",
   "id": "95de8d95",
   "metadata": {
    "nbgrader": {
     "grade": false,
     "grade_id": "cell-00a64f1f98a89bd7",
     "locked": true,
     "schema_version": 3,
     "solution": false,
     "task": false
    }
   },
   "source": [
    "# <center> Introduction to Mathematical Computing </center>\n",
    "### <center>Phil Ramsden, Boumediene Hamzi, Sam Brzezicki</center>\n",
    "\n",
    "# <center> Worksheet 7: Yet More About Functions, and numpy</center>\n",
    "\n",
    "**NOTE:** When answering a question, remember to remove the `raise NotImplementedError()` line."
   ]
  },
  {
   "cell_type": "markdown",
   "id": "a22451b8",
   "metadata": {
    "nbgrader": {
     "grade": false,
     "grade_id": "cell-96c2f04a87f45a3d",
     "locked": true,
     "schema_version": 3,
     "solution": false,
     "task": false
    }
   },
   "source": [
    "## Question 0: don't miss this bit!\n",
    "\n",
    "In the file called `my_username.txt`, type your <b>short-form College user name</b> (this will usually be one or more letters followed by three or more figures, such as qk4019). Don't use quote marks. Then save the file."
   ]
  },
  {
   "cell_type": "code",
   "execution_count": 64,
   "id": "a6de3a90",
   "metadata": {},
   "outputs": [
    {
     "name": "stdout",
     "output_type": "stream",
     "text": [
      "You've changed the contents of the file; thank you!\n",
      "Your username has been recognised; thank you!\n",
      "\n",
      "5 out of 5 marks\n"
     ]
    },
    {
     "data": {
      "text/plain": "5"
     },
     "execution_count": 64,
     "metadata": {},
     "output_type": "execute_result"
    }
   ],
   "source": [
    "# 5 Marks\n",
    "# Do not try to delete this cell\n",
    "# Run this cell for grading of Question 0\n",
    "_globals = globals()\n",
    "question0(_globals)"
   ]
  },
  {
   "cell_type": "markdown",
   "id": "0ced3ba7",
   "metadata": {
    "nbgrader": {
     "grade": false,
     "grade_id": "cell-4c4f971c38fdd5b3",
     "locked": true,
     "schema_version": 3,
     "solution": false,
     "task": false
    }
   },
   "source": [
    "## Question 1\n",
    "\n",
    "(a) Write and test a function called <code>pop_min</code> that takes as its argument a non-empty list <code>num_list</code>, assumed to consist of ints and/or floats, and outputs its minimum value. However, your function should have the side-effect of removing this minimum value from <code>num_list</code>. \n",
    "\n",
    "Test your function. If you type\n",
    "\n",
    "```python\n",
    "this_list = [3, 5, 2, 7, 1, 2, 3, 1, 9]\n",
    "pop_min(this_list)\n",
    "```\n",
    "\n",
    "then you should get the output 1, and as a side-effect, the value of <code>this_list</code> should become\n",
    "\n",
    "<code>[3, 5, 2, 7, 2, 3, 1, 9]</code>."
   ]
  },
  {
   "cell_type": "code",
   "execution_count": 65,
   "id": "a0d79a90",
   "metadata": {
    "nbgrader": {
     "grade": false,
     "grade_id": "cell-1ae855be0b82fa0e",
     "locked": false,
     "schema_version": 3,
     "solution": true,
     "task": false
    }
   },
   "outputs": [],
   "source": [
    "def pop_min(num_list):\n",
    "    ### BEGIN SOLUTION\n",
    "    # initialize min at infinity\n",
    "    this_min = num_list[0]\n",
    "    min_index = 0\n",
    "    # for loop\n",
    "    for i in range(1,len(num_list)):\n",
    "        # adjust minimum if necessary\n",
    "        if num_list[i] < this_min:\n",
    "            min_index = i\n",
    "            this_min = num_list[i]\n",
    "    return num_list.pop(min_index)\n",
    "    ### END SOLUTION"
   ]
  },
  {
   "cell_type": "code",
   "execution_count": 66,
   "id": "36c947ac",
   "metadata": {
    "nbgrader": {
     "grade": true,
     "grade_id": "cell-31d6d5b9b62d0a0c",
     "locked": true,
     "points": 0,
     "schema_version": 3,
     "solution": false,
     "task": false
    }
   },
   "outputs": [
    {
     "name": "stdout",
     "output_type": "stream",
     "text": [
      "Test passed!\n"
     ]
    }
   ],
   "source": [
    "# Function testing; not for marks\n",
    "this_list = [3, 5, 2, 7, 1, 2, 3, 1, 9]\n",
    "this_min = pop_min(this_list)\n",
    "try:\n",
    "    assert(this_min == 1)\n",
    "    assert(this_list == [3, 5, 2, 7, 2, 3, 1, 9])\n",
    "    print('Test passed!')\n",
    "except:\n",
    "    print('Test failed!')"
   ]
  },
  {
   "cell_type": "code",
   "execution_count": 67,
   "id": "aa391941",
   "metadata": {
    "nbgrader": {
     "grade": true,
     "grade_id": "cell-4b1a182e62d8ffcf",
     "locked": true,
     "points": 2,
     "schema_version": 3,
     "solution": false,
     "task": false
    }
   },
   "outputs": [
    {
     "name": "stdout",
     "output_type": "stream",
     "text": [
      "Testing: typical case\n",
      "Test passed!\n",
      "\n",
      "Testing: edge case\n",
      "Test passed!\n",
      "\n",
      "2 out of 2\n"
     ]
    },
    {
     "data": {
      "text/plain": "2"
     },
     "execution_count": 67,
     "metadata": {},
     "output_type": "execute_result"
    }
   ],
   "source": [
    "# 2 Marks\n",
    "# Do not try to delete this cell\n",
    "# Run this cell for grading\n",
    "_globals = globals()\n",
    "question1a(_globals)"
   ]
  },
  {
   "cell_type": "markdown",
   "id": "61c7117d",
   "metadata": {
    "nbgrader": {
     "grade": false,
     "grade_id": "cell-97893717d3b0867c",
     "locked": true,
     "schema_version": 3,
     "solution": false,
     "task": false
    }
   },
   "source": [
    "(b) Write and test a function called <code>simple_sort</code> that takes as its argument a list <code>num_list</code>, assumed to be numerical, and, by using <code>pop_min</code>, returns all the elements of <code>num_list</code>, in ascending order. "
   ]
  },
  {
   "cell_type": "code",
   "execution_count": 68,
   "id": "6c04cb7f",
   "metadata": {
    "nbgrader": {
     "grade": false,
     "grade_id": "cell-544ce6138c69ebf5",
     "locked": false,
     "schema_version": 3,
     "solution": true,
     "task": false
    }
   },
   "outputs": [
    {
     "name": "stdout",
     "output_type": "stream",
     "text": [
      "[0, 0, 1, 1, 2, 2, 3, 3, 6, 8, 9]\n"
     ]
    }
   ],
   "source": [
    "def simple_sort(num_list):\n",
    "    ### BEGIN SOLUTION\n",
    "    # length of list\n",
    "    n = len(num_list)\n",
    "    # empty new list\n",
    "    new_list = []\n",
    "    # for loop\n",
    "    for r in range(n):\n",
    "        # pop the minimum and append it to new list\n",
    "        new_list.append(pop_min(num_list))\n",
    "    return new_list\n",
    "    ### END SOLUTION\n",
    "print(simple_sort([6,8,3,9,2,0,3,0,1,2,1]))"
   ]
  },
  {
   "cell_type": "code",
   "execution_count": 69,
   "id": "068bbe68",
   "metadata": {
    "nbgrader": {
     "grade": true,
     "grade_id": "cell-6e005ec6d0f955c4",
     "locked": true,
     "points": 2,
     "schema_version": 3,
     "solution": false,
     "task": false
    }
   },
   "outputs": [
    {
     "name": "stdout",
     "output_type": "stream",
     "text": [
      "Testing: typical case\n",
      "Test passed!\n",
      "\n",
      "Testing: edge case\n",
      "Test passed!\n",
      "\n",
      "2 out of 2\n"
     ]
    },
    {
     "data": {
      "text/plain": "2"
     },
     "execution_count": 69,
     "metadata": {},
     "output_type": "execute_result"
    }
   ],
   "source": [
    "# 2 Marks\n",
    "# Do not try to delete this cell\n",
    "# Run this cell for grading\n",
    "_globals = globals()\n",
    "question1b(_globals)"
   ]
  },
  {
   "cell_type": "markdown",
   "id": "f0334849",
   "metadata": {
    "nbgrader": {
     "grade": false,
     "grade_id": "cell-83b0f39cfd3d2ab2",
     "locked": true,
     "schema_version": 3,
     "solution": false,
     "task": false
    }
   },
   "source": [
    "(c) Amend it so that instead of returning the sorted list, it has the <b>side-effect</b> of making the original list <em>equal</em> to the sorted list. So that if you type \n",
    "\n",
    "```python\n",
    "this_list = [3, 5, 2, 7, 1, 2, 3, 1, 9]\n",
    "simple_sort(this_list)\n",
    "```\n",
    "\n",
    "then you should get no output (strictly speaking, you get the output `None`, but this isn't visible), and as a side-effect, the value of <code>this_list</code> should become\n",
    "\n",
    "<code>[1, 1, 2, 2, 3, 3, 5, 7, 9]</code>."
   ]
  },
  {
   "cell_type": "code",
   "execution_count": 70,
   "id": "e1fc7bac",
   "metadata": {
    "nbgrader": {
     "grade": false,
     "grade_id": "cell-d8a06ebb274f04d6",
     "locked": false,
     "schema_version": 3,
     "solution": true,
     "task": false
    }
   },
   "outputs": [
    {
     "name": "stdout",
     "output_type": "stream",
     "text": [
      "None\n",
      "[0, 0, 1, 1, 2, 2, 3, 3, 6, 8, 9]\n"
     ]
    }
   ],
   "source": [
    "def simple_sort(num_list):\n",
    "    ### BEGIN SOLUTION\n",
    "    # length of list\n",
    "    n = len(num_list)\n",
    "    # empty new list\n",
    "    new_list = []\n",
    "    # for loop\n",
    "    for r in range(n):\n",
    "        # pop the minimum and append it to new list\n",
    "        new_list.append(pop_min(num_list))\n",
    "    num_list += new_list\n",
    "    ### END SOLUTION\n",
    "my_list = [6,8,3,9,2,0,3,0,1,2,1]\n",
    "print(simple_sort(my_list))\n",
    "print(my_list)"
   ]
  },
  {
   "cell_type": "code",
   "execution_count": 71,
   "id": "6876d04e",
   "metadata": {
    "nbgrader": {
     "grade": true,
     "grade_id": "cell-b3f8d41096690235",
     "locked": true,
     "points": 2,
     "schema_version": 3,
     "solution": false,
     "task": false
    }
   },
   "outputs": [
    {
     "name": "stdout",
     "output_type": "stream",
     "text": [
      "Testing: typical case\n",
      "No value has been returned; this is correct\n",
      "List sorted correctly in place\n",
      "\n",
      "Testing: edge case\n",
      "Sorted list returned correctly\n",
      "No value has been returned; this is correct\n",
      "\n",
      "2 out of 2\n"
     ]
    },
    {
     "data": {
      "text/plain": "2"
     },
     "execution_count": 71,
     "metadata": {},
     "output_type": "execute_result"
    }
   ],
   "source": [
    "# 2 Marks\n",
    "# Do not try to delete this cell\n",
    "# Run this cell for grading\n",
    "_globals = globals()\n",
    "question1c(_globals)"
   ]
  },
  {
   "cell_type": "markdown",
   "id": "f3e7ef46",
   "metadata": {
    "nbgrader": {
     "grade": false,
     "grade_id": "cell-6dbf463d4ed697dd",
     "locked": true,
     "schema_version": 3,
     "solution": false,
     "task": false
    }
   },
   "source": [
    "(d) Adapt your <code>pop_min</code> function so that every time one element is compared with another, it increments by one a global variable called <code>comparison_count</code>. Hence if you type\n",
    "\n",
    "```python\n",
    "comparison_count = 0    \n",
    "pm = pop_min([3, 5, 2, 7, 1, 2, 3, 1, 9])\n",
    "comparison_count\n",
    "```\n",
    "\n",
    "you should get 9.\n",
    "\n",
    "Using this, calculate the total number of comparisons necessary to sort the list <code>[3, 5, 2, 7, 1, 2, 3, 1, 9]</code> using <code>simple_sort</code>. \n",
    "\n",
    "Do you think this is an efficient method of sorting?"
   ]
  },
  {
   "cell_type": "code",
   "execution_count": 72,
   "id": "d6311d7b",
   "metadata": {
    "nbgrader": {
     "grade": false,
     "grade_id": "cell-c05510e3a3d77323",
     "locked": false,
     "schema_version": 3,
     "solution": true,
     "task": false
    }
   },
   "outputs": [],
   "source": [
    "def pop_min(num_list):\n",
    "    ### BEGIN SOLUTION\n",
    "    global comparison_count\n",
    "    # initialize min at infinity\n",
    "    this_min = num_list[0]\n",
    "    min_index = 0\n",
    "    # for loop\n",
    "    for i in range(1,len(num_list)):\n",
    "        # adjust minimum if necessary\n",
    "        comparison_count+=1\n",
    "        if num_list[i] < this_min:\n",
    "            min_index = i\n",
    "            this_min = num_list[i]\n",
    "    return num_list.pop(min_index)\n",
    "    ### END SOLUTION"
   ]
  },
  {
   "cell_type": "code",
   "execution_count": 73,
   "id": "bf386ef8",
   "metadata": {
    "nbgrader": {
     "grade": true,
     "grade_id": "cell-ded140af0df44312",
     "locked": true,
     "points": 2,
     "schema_version": 3,
     "solution": false,
     "task": false
    }
   },
   "outputs": [
    {
     "name": "stdout",
     "output_type": "stream",
     "text": [
      "Testing: typical case\n",
      "No value has been returned; this is correct\n",
      "List sorted correctly in place\n",
      "Correct comparison count\n",
      "\n",
      "Testing: edge case\n",
      "No value has been returned; this is correct\n",
      "List sorted correctly in place\n",
      "Correct comparison count\n",
      "\n",
      "2 out of 2\n"
     ]
    },
    {
     "data": {
      "text/plain": "2"
     },
     "execution_count": 73,
     "metadata": {},
     "output_type": "execute_result"
    }
   ],
   "source": [
    "# 2 Marks\n",
    "# Do not try to delete this cell\n",
    "# Run this cell for grading\n",
    "_globals = globals()\n",
    "comparison_count = 0\n",
    "question1d(_globals)"
   ]
  },
  {
   "cell_type": "markdown",
   "id": "ff041411",
   "metadata": {
    "nbgrader": {
     "grade": false,
     "grade_id": "cell-56034b39608031c6",
     "locked": true,
     "schema_version": 3,
     "solution": false,
     "task": false
    }
   },
   "source": [
    "## Question 2\n",
    "\n",
    "(i) Import the NumPy module, and then define three lists and three arrays as follows:"
   ]
  },
  {
   "cell_type": "code",
   "execution_count": 74,
   "id": "d1f57aa7",
   "metadata": {
    "nbgrader": {
     "grade": false,
     "grade_id": "cell-f0e4fbe982c4a3be",
     "locked": true,
     "schema_version": 3,
     "solution": false,
     "task": false
    }
   },
   "outputs": [],
   "source": [
    "int_list = [1, 2, 3]\n",
    "float_list = [4.0, 5.0, 6.0]\n",
    "int_float_list = [7, 8, 9.0]\n",
    "int_list2 = [10, 11, 12]\n",
    "\n",
    "int_arr = np.array(int_list)\n",
    "float_arr = np.array(float_list)\n",
    "int_float_arr = np.array(int_float_list)\n",
    "int_arr2 = np.array(int_list2)"
   ]
  },
  {
   "cell_type": "markdown",
   "id": "9ca96c81",
   "metadata": {
    "nbgrader": {
     "grade": false,
     "grade_id": "cell-f0b5253fc64af60f",
     "locked": true,
     "schema_version": 3,
     "solution": false,
     "task": false
    }
   },
   "source": [
    "Print each of your four arrays, and extract elements of them using, for example\n",
    "```python\n",
    "int_arr[0]\n",
    "```\n",
    "\n",
    "Then:\n",
    "\n",
    "(a) Complete the following statement:\n",
    "\n",
    "A NumPy array based on a list of ints contains \n",
    "\n",
    "<ol>\n",
    "    <li>only ints of some kind;</li>\n",
    "    <li>only floats of some kind;</li>\n",
    "    <li>both ints and floats.</li>\n",
    "</ol>"
   ]
  },
  {
   "cell_type": "code",
   "execution_count": 75,
   "id": "b9a91a0a",
   "metadata": {
    "nbgrader": {
     "grade": false,
     "grade_id": "cell-251be60ac5fa1475",
     "locked": false,
     "schema_version": 3,
     "solution": true,
     "task": false
    }
   },
   "outputs": [],
   "source": [
    "### BEGIN SOLUTION\n",
    "question2ia_answer = 1\n",
    "### END SOLUTION"
   ]
  },
  {
   "cell_type": "code",
   "execution_count": 76,
   "id": "f1c9be80",
   "metadata": {
    "nbgrader": {
     "grade": true,
     "grade_id": "cell-dc93660e40f37238",
     "locked": true,
     "points": 1,
     "schema_version": 3,
     "solution": false,
     "task": false
    }
   },
   "outputs": [
    {
     "name": "stdout",
     "output_type": "stream",
     "text": [
      "test case passed!\n"
     ]
    }
   ],
   "source": [
    "# 1 Mark\n",
    "assert(question2ia_answer == question2_ia())\n",
    "print('test case passed!')"
   ]
  },
  {
   "cell_type": "markdown",
   "id": "ab1c60ab",
   "metadata": {
    "nbgrader": {
     "grade": false,
     "grade_id": "cell-9a4bf1cddf1b6e44",
     "locked": true,
     "schema_version": 3,
     "solution": false,
     "task": false
    }
   },
   "source": [
    "(b) Complete the following statement: \n",
    "\n",
    "A NumPy array based on a list of floats contains \n",
    "\n",
    "<ol>\n",
    "    <li>only ints of some kind;</li>\n",
    "    <li>only floats of some kind;</li>\n",
    "    <li>both ints and floats.</li>\n",
    "</ol>"
   ]
  },
  {
   "cell_type": "code",
   "execution_count": 77,
   "id": "e3d84c9c",
   "metadata": {
    "nbgrader": {
     "grade": false,
     "grade_id": "cell-81094386692ef9ea",
     "locked": false,
     "schema_version": 3,
     "solution": true,
     "task": false
    }
   },
   "outputs": [],
   "source": [
    "### BEGIN SOLUTION\n",
    "question2ib_answer = 2\n",
    "### END SOLUTION"
   ]
  },
  {
   "cell_type": "code",
   "execution_count": 78,
   "id": "23c5846b",
   "metadata": {
    "nbgrader": {
     "grade": true,
     "grade_id": "cell-b5ad06d8b696439b",
     "locked": true,
     "points": 1,
     "schema_version": 3,
     "solution": false,
     "task": false
    }
   },
   "outputs": [
    {
     "name": "stdout",
     "output_type": "stream",
     "text": [
      "test case passed!\n"
     ]
    }
   ],
   "source": [
    "# 1 Mark\n",
    "assert(question2ib_answer == question2_ib())\n",
    "print('test case passed!')"
   ]
  },
  {
   "cell_type": "markdown",
   "id": "f5012d06",
   "metadata": {
    "nbgrader": {
     "grade": false,
     "grade_id": "cell-15b40e229321adac",
     "locked": true,
     "schema_version": 3,
     "solution": false,
     "task": false
    }
   },
   "source": [
    "(c) Complete the following statement: \n",
    "\n",
    "A NumPy array based on a list of ints and floats contains \n",
    "\n",
    "<ol>\n",
    "    <li>only ints of some kind;</li>\n",
    "    <li>only floats of some kind;</li>\n",
    "    <li>both ints and floats.</li>\n",
    "</ol>"
   ]
  },
  {
   "cell_type": "code",
   "execution_count": 79,
   "id": "c3d9502a",
   "metadata": {
    "nbgrader": {
     "grade": false,
     "grade_id": "cell-6e960ccc047fbc69",
     "locked": false,
     "schema_version": 3,
     "solution": true,
     "task": false
    }
   },
   "outputs": [],
   "source": [
    "### BEGIN SOLUTION\n",
    "question2ic_answer = 2\n",
    "### END SOLUTION"
   ]
  },
  {
   "cell_type": "code",
   "execution_count": 80,
   "id": "31d7e40e",
   "metadata": {
    "nbgrader": {
     "grade": true,
     "grade_id": "cell-e2410de2feb52905",
     "locked": true,
     "points": 1,
     "schema_version": 3,
     "solution": false,
     "task": false
    }
   },
   "outputs": [
    {
     "name": "stdout",
     "output_type": "stream",
     "text": [
      "test case passed!\n"
     ]
    }
   ],
   "source": [
    "# 1 Mark\n",
    "assert(question2ic_answer == question2_ic())\n",
    "print('test case passed!')"
   ]
  },
  {
   "cell_type": "markdown",
   "id": "3bace23c",
   "metadata": {
    "nbgrader": {
     "grade": false,
     "grade_id": "cell-de309805b30041be",
     "locked": true,
     "schema_version": 3,
     "solution": false,
     "task": false
    }
   },
   "source": [
    "(d) Execute the following code:"
   ]
  },
  {
   "cell_type": "code",
   "execution_count": 81,
   "id": "e2ecefdc",
   "metadata": {
    "nbgrader": {
     "grade": false,
     "grade_id": "cell-6d6bcef293275ad0",
     "locked": true,
     "schema_version": 3,
     "solution": false,
     "task": false
    }
   },
   "outputs": [
    {
     "name": "stdout",
     "output_type": "stream",
     "text": [
      "<class 'int'>\n",
      "<class 'numpy.int32'>\n",
      "<class 'float'>\n",
      "<class 'numpy.float64'>\n"
     ]
    }
   ],
   "source": [
    "print(type(1))\n",
    "print(type(int_arr[0]))\n",
    "print(type(7.0))\n",
    "print(type(int_float_arr[0]))"
   ]
  },
  {
   "cell_type": "markdown",
   "id": "fa8e88de",
   "metadata": {
    "nbgrader": {
     "grade": false,
     "grade_id": "cell-1b0b9815b9fe6b13",
     "locked": true,
     "schema_version": 3,
     "solution": false,
     "task": false
    }
   },
   "source": [
    "Which of the following statements is true?\n",
    "\n",
    "<ol>\n",
    "    <li>Default NumPy ints and floats are each of the same type as default native Python ints and floats.</li>\n",
    "    <li>Default NumPy ints are of the same type as default native Python ints, but the same is not true of floats.</li>\n",
    "    <li>Default NumPy floats are of the same type as default native Python floats, but the same is not true of ints.</li>\n",
    "    <li>Default NumPy ints and floats are each of a different type from default native Python ints and floats.</li>.\n",
    "</ol>"
   ]
  },
  {
   "cell_type": "code",
   "execution_count": 82,
   "id": "432c6fc5",
   "metadata": {
    "nbgrader": {
     "grade": false,
     "grade_id": "cell-64db3c185956cedb",
     "locked": false,
     "schema_version": 3,
     "solution": true,
     "task": false
    }
   },
   "outputs": [],
   "source": [
    "### BEGIN SOLUTION\n",
    "question2id_answer = 4\n",
    "### END SOLUTION"
   ]
  },
  {
   "cell_type": "code",
   "execution_count": 83,
   "id": "59bd8788",
   "metadata": {
    "nbgrader": {
     "grade": true,
     "grade_id": "cell-8dbfcb744fca158e",
     "locked": true,
     "points": 1,
     "schema_version": 3,
     "solution": false,
     "task": false
    }
   },
   "outputs": [
    {
     "name": "stdout",
     "output_type": "stream",
     "text": [
      "test case passed!\n"
     ]
    }
   ],
   "source": [
    "# 1 Mark\n",
    "assert(question2id_answer == question2_id())\n",
    "print('test case passed!')"
   ]
  },
  {
   "cell_type": "markdown",
   "id": "b1b0e8f1",
   "metadata": {
    "nbgrader": {
     "grade": false,
     "grade_id": "cell-6db26e4cf8240889",
     "locked": true,
     "schema_version": 3,
     "solution": false,
     "task": false
    }
   },
   "source": [
    "(ii) Define the following arrays:"
   ]
  },
  {
   "cell_type": "code",
   "execution_count": 84,
   "id": "8edaf133",
   "metadata": {
    "nbgrader": {
     "grade": false,
     "grade_id": "cell-461b40e94bad3174",
     "locked": true,
     "schema_version": 3,
     "solution": false,
     "task": false
    }
   },
   "outputs": [],
   "source": [
    "int_float_complex_arr = np.array([1, 2.0, 3+0j])\n",
    "int_float_complex_string_arr = np.array([1, 2.0, 3+0j, 'four'])"
   ]
  },
  {
   "cell_type": "markdown",
   "id": "a28f00e3",
   "metadata": {
    "nbgrader": {
     "grade": false,
     "grade_id": "cell-fcfd0bfd866a35da",
     "locked": true,
     "schema_version": 3,
     "solution": false,
     "task": false
    }
   },
   "source": [
    "(a) Complete the following statement:\n",
    "\n",
    "A NumPy array based on a list of ints, floats and complexes contains \n",
    "\n",
    "<ol>\n",
    "    <li>only ints of some kind;</li>\n",
    "    <li>only floats of some kind;</li>\n",
    "    <li>only complexes of some kind;</li>\n",
    "    <li>a mixture of ints, floats and complexes.</li>\n",
    "</ol>"
   ]
  },
  {
   "cell_type": "code",
   "execution_count": 85,
   "id": "ab0dfcdd",
   "metadata": {
    "nbgrader": {
     "grade": false,
     "grade_id": "cell-44f872ebef2c7162",
     "locked": false,
     "schema_version": 3,
     "solution": true,
     "task": false
    }
   },
   "outputs": [],
   "source": [
    "### BEGIN SOLUTION\n",
    "question2iia_answer = 3\n",
    "### END SOLUTION"
   ]
  },
  {
   "cell_type": "code",
   "execution_count": 86,
   "id": "3404343a",
   "metadata": {
    "nbgrader": {
     "grade": true,
     "grade_id": "cell-77fb9047990820f7",
     "locked": true,
     "points": 1,
     "schema_version": 3,
     "solution": false,
     "task": false
    }
   },
   "outputs": [
    {
     "name": "stdout",
     "output_type": "stream",
     "text": [
      "test case passed!\n"
     ]
    }
   ],
   "source": [
    "# 1 Mark\n",
    "assert(question2iia_answer == question2_iia())\n",
    "print('test case passed!')"
   ]
  },
  {
   "cell_type": "markdown",
   "id": "71af65fa",
   "metadata": {
    "nbgrader": {
     "grade": false,
     "grade_id": "cell-ed7d9b7656bce113",
     "locked": true,
     "schema_version": 3,
     "solution": false,
     "task": false
    }
   },
   "source": [
    "(b) Complete the following statement:\n",
    "\n",
    "A NumPy array based on a list of ints, floats, complexes and strings contains \n",
    "\n",
    "<ol>\n",
    "    <li>only ints of some kind;</li>\n",
    "    <li>only floats of some kind;</li>\n",
    "    <li>only complexes of some kind;</li>\n",
    "    <li>only strings of some kind;</li>\n",
    "    <li>a mixture of ints, floats, complexes and strings.</li>\n",
    "</ol>"
   ]
  },
  {
   "cell_type": "code",
   "execution_count": 87,
   "id": "a2d0b679",
   "metadata": {
    "nbgrader": {
     "grade": false,
     "grade_id": "cell-3dd3bd52726607d0",
     "locked": false,
     "schema_version": 3,
     "solution": true,
     "task": false
    }
   },
   "outputs": [],
   "source": [
    "### BEGIN SOLUTION\n",
    "question2iib_answer = 4\n",
    "### END SOLUTION"
   ]
  },
  {
   "cell_type": "code",
   "execution_count": 88,
   "id": "8a5900ff",
   "metadata": {
    "nbgrader": {
     "grade": true,
     "grade_id": "cell-60903a4c7897151d",
     "locked": true,
     "points": 1,
     "schema_version": 3,
     "solution": false,
     "task": false
    }
   },
   "outputs": [
    {
     "name": "stdout",
     "output_type": "stream",
     "text": [
      "test case passed!\n"
     ]
    }
   ],
   "source": [
    "# 1 Mark\n",
    "assert(question2iib_answer == question2_iib())\n",
    "print('test case passed!')"
   ]
  },
  {
   "cell_type": "markdown",
   "id": "7f129b6b",
   "metadata": {
    "nbgrader": {
     "grade": false,
     "grade_id": "cell-9e1f9da5c2fbb10f",
     "locked": true,
     "schema_version": 3,
     "solution": false,
     "task": false
    }
   },
   "source": [
    "(c) Execute the following code:"
   ]
  },
  {
   "cell_type": "code",
   "execution_count": 89,
   "id": "91837fda",
   "metadata": {
    "nbgrader": {
     "grade": false,
     "grade_id": "cell-232a569718f64f16",
     "locked": true,
     "schema_version": 3,
     "solution": false,
     "task": false
    }
   },
   "outputs": [
    {
     "name": "stdout",
     "output_type": "stream",
     "text": [
      "<class 'complex'>\n",
      "<class 'numpy.complex128'>\n",
      "<class 'str'>\n",
      "<class 'numpy.str_'>\n"
     ]
    }
   ],
   "source": [
    "print(type(1+0j))\n",
    "print(type(int_float_complex_arr[0]))\n",
    "print(type('1'))\n",
    "print(type(int_float_complex_string_arr[0]))"
   ]
  },
  {
   "cell_type": "markdown",
   "id": "33186b36",
   "metadata": {
    "nbgrader": {
     "grade": false,
     "grade_id": "cell-6baa6e97838213c5",
     "locked": true,
     "schema_version": 3,
     "solution": false,
     "task": false
    }
   },
   "source": [
    "Which of the following statements is true?\n",
    "\n",
    "<ol>\n",
    "    <li>Default NumPy complexes and strings are each of the same type as default native Python complexes and strings.</li>\n",
    "    <li>Default NumPy complexes are of the same type as default native Python complexes, but the same is not true of strings.</li>\n",
    "    <li>Default NumPy strings are of the same type as default native Python strings, but the same is not true of complexes.</li>\n",
    "    <li>Default NumPy complexes and strings are each of a different type from default native Python complexes and strings.</li>.\n",
    "</ol>"
   ]
  },
  {
   "cell_type": "code",
   "execution_count": 90,
   "id": "393ce919",
   "metadata": {
    "nbgrader": {
     "grade": false,
     "grade_id": "cell-19ee93a7adac4856",
     "locked": false,
     "schema_version": 3,
     "solution": true,
     "task": false
    }
   },
   "outputs": [],
   "source": [
    "### BEGIN SOLUTION\n",
    "question2iic_answer = 4\n",
    "### END SOLUTION"
   ]
  },
  {
   "cell_type": "code",
   "execution_count": 91,
   "id": "2e7e53ad",
   "metadata": {
    "nbgrader": {
     "grade": true,
     "grade_id": "cell-969a47dad48ec30a",
     "locked": true,
     "points": 1,
     "schema_version": 3,
     "solution": false,
     "task": false
    }
   },
   "outputs": [
    {
     "name": "stdout",
     "output_type": "stream",
     "text": [
      "test case passed!\n"
     ]
    }
   ],
   "source": [
    "# 1 Mark\n",
    "assert(question2iic_answer == question2_iic())\n",
    "print('test case passed!')"
   ]
  },
  {
   "cell_type": "markdown",
   "id": "9a767d3d",
   "metadata": {
    "nbgrader": {
     "grade": false,
     "grade_id": "cell-c515f246417273d0",
     "locked": true,
     "schema_version": 3,
     "solution": false,
     "task": false
    }
   },
   "source": [
    "## Question 3\n",
    "\n",
    "(i) Calculate\n",
    "```python\n",
    "int_arr + float_arr\n",
    "```\n",
    "and similar \"array sums\". Then:\n",
    "\n",
    "(a) Complete the following statement:\n",
    "\n",
    "When you add two NumPy arrays together, you\n",
    "\n",
    "<ol>\n",
    "    <li>concatenate them (that is, join them head to tail, in the same way as lists or tuples);</li>\n",
    "    <li>add them component-by-component, as if they were vectors.</li>\n",
    "</ol>"
   ]
  },
  {
   "cell_type": "code",
   "execution_count": 92,
   "id": "a4690630",
   "metadata": {
    "nbgrader": {
     "grade": false,
     "grade_id": "cell-a4802571a7742aba",
     "locked": false,
     "schema_version": 3,
     "solution": true,
     "task": false
    }
   },
   "outputs": [],
   "source": [
    "### BEGIN SOLUTION\n",
    "question3ia_answer = 2\n",
    "### END SOLUTION"
   ]
  },
  {
   "cell_type": "code",
   "execution_count": 93,
   "id": "3b19176c",
   "metadata": {
    "nbgrader": {
     "grade": true,
     "grade_id": "cell-1a957a83c20b93a8",
     "locked": true,
     "points": 1,
     "schema_version": 3,
     "solution": false,
     "task": false
    }
   },
   "outputs": [
    {
     "name": "stdout",
     "output_type": "stream",
     "text": [
      "test case passed!\n"
     ]
    }
   ],
   "source": [
    "# 1 Mark\n",
    "assert(question3ia_answer == question3_ia())\n",
    "print('test case passed!')"
   ]
  },
  {
   "cell_type": "markdown",
   "id": "5cf32f9f",
   "metadata": {
    "nbgrader": {
     "grade": false,
     "grade_id": "cell-44e3738e035c66d1",
     "locked": true,
     "schema_version": 3,
     "solution": false,
     "task": false
    }
   },
   "source": [
    "(b) Complete the following statement:\n",
    "\n",
    "The sum of an array of ints and an array of floats is\n",
    "\n",
    "<ol>\n",
    "    <li>an array of ints;</li>\n",
    "    <li>an array of floats;</li>\n",
    "    <li>an array containing both ints and floats.</li>\n",
    "</ol>"
   ]
  },
  {
   "cell_type": "code",
   "execution_count": 94,
   "id": "824b6cb3",
   "metadata": {
    "nbgrader": {
     "grade": false,
     "grade_id": "cell-ffe39e4933876bf7",
     "locked": false,
     "schema_version": 3,
     "solution": true,
     "task": false
    }
   },
   "outputs": [],
   "source": [
    "### BEGIN SOLUTION\n",
    "question3ib_answer = 2\n",
    "### END SOLUTION"
   ]
  },
  {
   "cell_type": "code",
   "execution_count": 95,
   "id": "8ab4f29b",
   "metadata": {
    "nbgrader": {
     "grade": true,
     "grade_id": "cell-309bc99958fb8e3b",
     "locked": true,
     "points": 1,
     "schema_version": 3,
     "solution": false,
     "task": false
    }
   },
   "outputs": [
    {
     "name": "stdout",
     "output_type": "stream",
     "text": [
      "test case passed!\n"
     ]
    }
   ],
   "source": [
    "# 1 Mark\n",
    "assert(question3ib_answer == question3_ib())\n",
    "print('test case passed!')"
   ]
  },
  {
   "cell_type": "markdown",
   "id": "c25512c7",
   "metadata": {
    "nbgrader": {
     "grade": false,
     "grade_id": "cell-f49920e105b9ec8d",
     "locked": true,
     "schema_version": 3,
     "solution": false,
     "task": false
    }
   },
   "source": [
    "(c) Complete the following statement:\n",
    "\n",
    "When you add two one-dimensional NumPy arrays of different lengths,\n",
    "\n",
    "<ol>\n",
    "    <li>it works fine;</li>\n",
    "    <li>it generates an error message.</li>\n",
    "</ol>"
   ]
  },
  {
   "cell_type": "code",
   "execution_count": 96,
   "id": "0f0b1cc9",
   "metadata": {
    "nbgrader": {
     "grade": false,
     "grade_id": "cell-8cb815a797c62fab",
     "locked": false,
     "schema_version": 3,
     "solution": true,
     "task": false
    }
   },
   "outputs": [],
   "source": [
    "### BEGIN SOLUTION\n",
    "question3ic_answer = 2\n",
    "### END SOLUTION"
   ]
  },
  {
   "cell_type": "code",
   "execution_count": 97,
   "id": "5016f27c",
   "metadata": {
    "nbgrader": {
     "grade": true,
     "grade_id": "cell-d43f23b47e0b22e6",
     "locked": true,
     "points": 1,
     "schema_version": 3,
     "solution": false,
     "task": false
    }
   },
   "outputs": [
    {
     "name": "stdout",
     "output_type": "stream",
     "text": [
      "test case passed!\n"
     ]
    }
   ],
   "source": [
    "# 1 Mark\n",
    "assert(question3ic_answer == question3_ic())\n",
    "print('test case passed!')"
   ]
  },
  {
   "cell_type": "markdown",
   "id": "271c2076",
   "metadata": {
    "nbgrader": {
     "grade": false,
     "grade_id": "cell-dba17f4be9a5f522",
     "locked": true,
     "schema_version": 3,
     "solution": false,
     "task": false
    }
   },
   "source": [
    "(ii) Experiment with using the other arithmetic operators, ```-```, ```*```, ```/```, ```//``` and ```**``` on scalars and 1D NumPy arrays. Then:\n",
    "\n",
    "(a) Complete the following statement:\n",
    "\n",
    "When you multiply a one-dimensional NumPy array by 3, you\n",
    "\n",
    "<ol>\n",
    "    <li>create three copies of the array, joined head to tail, as with lists or tuples;</li>\n",
    "    <li>multiply each of the elements of the array separately by 3;</li>\n",
    "    <li>multiply only the first element (that is, the element with index 0) by 3;</li>\n",
    "    <li>none of the above: there's an error message.</li>\n",
    "</ol>"
   ]
  },
  {
   "cell_type": "code",
   "execution_count": 98,
   "id": "f5bfd5ef",
   "metadata": {
    "nbgrader": {
     "grade": false,
     "grade_id": "cell-b1f4300e476618ed",
     "locked": false,
     "schema_version": 3,
     "solution": true,
     "task": false
    }
   },
   "outputs": [],
   "source": [
    "### BEGIN SOLUTION\n",
    "question3iia_answer = 2\n",
    "### END SOLUTION"
   ]
  },
  {
   "cell_type": "code",
   "execution_count": 99,
   "id": "2dd7ac8b",
   "metadata": {
    "nbgrader": {
     "grade": true,
     "grade_id": "cell-237e0bbc53d9d43e",
     "locked": true,
     "points": 1,
     "schema_version": 3,
     "solution": false,
     "task": false
    }
   },
   "outputs": [
    {
     "name": "stdout",
     "output_type": "stream",
     "text": [
      "test case passed!\n"
     ]
    }
   ],
   "source": [
    "# 1 Mark\n",
    "assert(question3iia_answer == question3_iia())\n",
    "print('test case passed!')"
   ]
  },
  {
   "cell_type": "markdown",
   "id": "3abda4f2",
   "metadata": {
    "nbgrader": {
     "grade": false,
     "grade_id": "cell-18cb0cb42cbf39ec",
     "locked": true,
     "schema_version": 3,
     "solution": false,
     "task": false
    }
   },
   "source": [
    "(b) In which of the following circumstances can you use Python's arithmetic operators?\n",
    "\n",
    "I. To combine a scalar with a scalar.<br/>\n",
    "II. To combine a scalar with a 1D NumPy array of any length.<br/>\n",
    "III. To combine two 1D NumPy arrays of the same length.<br/>\n",
    "IV. To combine two 1D NumPy arrays of different lengths.\n",
    "\n",
    "<ol>\n",
    "    <li>All of them.</li>\n",
    "    <li>All of them except II.</li>\n",
    "    <li>All of them except IV.</li>\n",
    "    <li>All of them except II and IV.</li>\n",
    "</ol>"
   ]
  },
  {
   "cell_type": "code",
   "execution_count": 100,
   "id": "44fe58b0",
   "metadata": {
    "nbgrader": {
     "grade": false,
     "grade_id": "cell-270dbaddd730484f",
     "locked": false,
     "schema_version": 3,
     "solution": true,
     "task": false
    }
   },
   "outputs": [],
   "source": [
    "### BEGIN SOLUTION\n",
    "question3iib_answer = 3\n",
    "### END SOLUTION"
   ]
  },
  {
   "cell_type": "code",
   "execution_count": 101,
   "id": "6d9a003b",
   "metadata": {
    "nbgrader": {
     "grade": true,
     "grade_id": "cell-77c15fb7ccfeb3d6",
     "locked": true,
     "points": 1,
     "schema_version": 3,
     "solution": false,
     "task": false
    }
   },
   "outputs": [
    {
     "name": "stdout",
     "output_type": "stream",
     "text": [
      "test case passed!\n"
     ]
    }
   ],
   "source": [
    "# 1 Mark\n",
    "assert(question3iib_answer == question3_iib())\n",
    "print('test case passed!')"
   ]
  },
  {
   "cell_type": "markdown",
   "id": "6a366f9c",
   "metadata": {
    "nbgrader": {
     "grade": false,
     "grade_id": "cell-c121ec2ee40320ab",
     "locked": true,
     "schema_version": 3,
     "solution": false,
     "task": false
    }
   },
   "source": [
    "(iii) Create the 2D NumPy arrays"
   ]
  },
  {
   "cell_type": "code",
   "execution_count": 102,
   "id": "e829917e",
   "metadata": {
    "nbgrader": {
     "grade": false,
     "grade_id": "cell-d2d032484873c7d5",
     "locked": true,
     "schema_version": 3,
     "solution": false,
     "task": false
    }
   },
   "outputs": [],
   "source": [
    "mat33 = np.array([[1,2,-1],[3,-4,0],[2,-1,1]])\n",
    "mat13 = np.array([[1,2,3]])\n",
    "mat31 = np.array([[1],[2],[3]])\n",
    "mat23 = np.array([[1,3,5],[1,2,4]])"
   ]
  },
  {
   "cell_type": "markdown",
   "id": "d0cd2ced",
   "metadata": {
    "nbgrader": {
     "grade": false,
     "grade_id": "cell-9da54432c45791c8",
     "locked": true,
     "schema_version": 3,
     "solution": false,
     "task": false
    }
   },
   "source": [
    "Experiment, and consider the following claims:\n",
    "\n",
    "(a) When a $3\\times 3$ NumPy array is added to a $1 \\times 3$ NumPy array:\n",
    "\n",
    "<ol>\n",
    "    <li>an error is generated;</li>\n",
    "    <li>it works, and the $1 \\times 3$ array is treated as if it were three repeated rows;</li>\n",
    "    <li>it works, and the $1 \\times 3$ array is treated as if it were three repeated columns.</li>\n",
    "</ol>"
   ]
  },
  {
   "cell_type": "code",
   "execution_count": 103,
   "id": "965ef461",
   "metadata": {
    "nbgrader": {
     "grade": false,
     "grade_id": "cell-a0594c26e4e367f1",
     "locked": false,
     "schema_version": 3,
     "solution": true,
     "task": false
    }
   },
   "outputs": [],
   "source": [
    "### BEGIN SOLUTION\n",
    "question3iiia_answer = 2\n",
    "### END SOLUTION"
   ]
  },
  {
   "cell_type": "code",
   "execution_count": 104,
   "id": "ac833152",
   "metadata": {
    "nbgrader": {
     "grade": true,
     "grade_id": "cell-b4cf36b001d570fc",
     "locked": true,
     "points": 1,
     "schema_version": 3,
     "solution": false,
     "task": false
    }
   },
   "outputs": [
    {
     "name": "stdout",
     "output_type": "stream",
     "text": [
      "test case passed!\n"
     ]
    }
   ],
   "source": [
    "# 1 Mark\n",
    "assert(question3iiia_answer == question3_iiia())\n",
    "print('test case passed!')"
   ]
  },
  {
   "cell_type": "markdown",
   "id": "760c6d9e",
   "metadata": {
    "nbgrader": {
     "grade": false,
     "grade_id": "cell-a1f316935a940556",
     "locked": true,
     "schema_version": 3,
     "solution": false,
     "task": false
    }
   },
   "source": [
    "(b) When a $3\\times 3$ NumPy array is added to a $3 \\times 1$ NumPy array:\n",
    "\n",
    "<ol>\n",
    "    <li>an error is generated;</li>\n",
    "    <li>it works, and the $3 \\times 1$ array is treated as if it were three repeated rows;</li>\n",
    "    <li>it works, and the $3 \\times 1$ array is treated as if it were three repeated columns.</li>\n",
    "</ol>"
   ]
  },
  {
   "cell_type": "code",
   "execution_count": 105,
   "id": "fd5edbe8",
   "metadata": {
    "nbgrader": {
     "grade": false,
     "grade_id": "cell-d6767f4dcf44ca69",
     "locked": false,
     "schema_version": 3,
     "solution": true,
     "task": false
    }
   },
   "outputs": [],
   "source": [
    "### BEGIN SOLUTION\n",
    "question3iiib_answer = 3\n",
    "### END SOLUTION"
   ]
  },
  {
   "cell_type": "code",
   "execution_count": 106,
   "id": "eee568d7",
   "metadata": {
    "nbgrader": {
     "grade": true,
     "grade_id": "cell-47c7fa2c91873e9d",
     "locked": true,
     "points": 1,
     "schema_version": 3,
     "solution": false,
     "task": false
    }
   },
   "outputs": [
    {
     "name": "stdout",
     "output_type": "stream",
     "text": [
      "test case passed!\n"
     ]
    }
   ],
   "source": [
    "# 1 Mark\n",
    "assert(question3iiib_answer == question3_iiib())\n",
    "print('test case passed!')"
   ]
  },
  {
   "cell_type": "markdown",
   "id": "c3ae4f7b",
   "metadata": {
    "nbgrader": {
     "grade": false,
     "grade_id": "cell-75991554aaabafc8",
     "locked": true,
     "schema_version": 3,
     "solution": false,
     "task": false
    }
   },
   "source": [
    "(c) When a $3\\times 3$ NumPy array is added to a $2 \\times 3$ NumPy array:\n",
    "\n",
    "<ol>\n",
    "    <li>an error is generated;</li>\n",
    "    <li>it works, with rows being repeated cyclically as necessary;</li>\n",
    "    <li>it works, with columns being repeated cyclically as necessary;</li>\n",
    "</ol>"
   ]
  },
  {
   "cell_type": "code",
   "execution_count": 107,
   "id": "d0918327",
   "metadata": {
    "nbgrader": {
     "grade": false,
     "grade_id": "cell-f3e24333aa57f4e8",
     "locked": false,
     "schema_version": 3,
     "solution": true,
     "task": false
    }
   },
   "outputs": [],
   "source": [
    "### BEGIN SOLUTION\n",
    "question3iiic_answer = 1\n",
    "### END SOLUTION"
   ]
  },
  {
   "cell_type": "code",
   "execution_count": 108,
   "id": "965b3916",
   "metadata": {
    "nbgrader": {
     "grade": true,
     "grade_id": "cell-589aa4ba9057b080",
     "locked": true,
     "points": 1,
     "schema_version": 3,
     "solution": false,
     "task": false
    }
   },
   "outputs": [
    {
     "name": "stdout",
     "output_type": "stream",
     "text": [
      "test case passed!\n"
     ]
    }
   ],
   "source": [
    "# 1 Mark\n",
    "assert(question3iiic_answer == question3_iiic())\n",
    "print('test case passed!')"
   ]
  },
  {
   "cell_type": "markdown",
   "id": "ce3596e7",
   "metadata": {
    "nbgrader": {
     "grade": false,
     "grade_id": "cell-80eaec341dd8c8c9",
     "locked": true,
     "schema_version": 3,
     "solution": false,
     "task": false
    }
   },
   "source": [
    "(d) When a $3\\times 3$ NumPy array is added to a 1D array of length 3:\n",
    "\n",
    "<ol>\n",
    "    <li>an error is generated;</li>\n",
    "    <li>it works, and you get the same result as if the 1D array were a $1 \\times 3$ array;</li>\n",
    "    <li>it works, and you get the same result as if the 1D array were a $3 \\times 1$ array.</li>\n",
    "</ol>"
   ]
  },
  {
   "cell_type": "code",
   "execution_count": 109,
   "id": "6b10e490",
   "metadata": {
    "nbgrader": {
     "grade": false,
     "grade_id": "cell-6d3c2880efdacf91",
     "locked": false,
     "schema_version": 3,
     "solution": true,
     "task": false
    }
   },
   "outputs": [],
   "source": [
    "### BEGIN SOLUTION\n",
    "question3iiid_answer = 2\n",
    "### END SOLUTION"
   ]
  },
  {
   "cell_type": "code",
   "execution_count": 110,
   "id": "461485e2",
   "metadata": {
    "nbgrader": {
     "grade": true,
     "grade_id": "cell-5ef0a020bd7e8f5d",
     "locked": true,
     "points": 1,
     "schema_version": 3,
     "solution": false,
     "task": false
    }
   },
   "outputs": [
    {
     "name": "stdout",
     "output_type": "stream",
     "text": [
      "test case passed!\n"
     ]
    }
   ],
   "source": [
    "# 1 Mark\n",
    "assert(question3iiid_answer == question3_iiid())\n",
    "print('test case passed!')"
   ]
  },
  {
   "cell_type": "markdown",
   "id": "5b888abf",
   "metadata": {
    "nbgrader": {
     "grade": false,
     "grade_id": "cell-b89125bebd675072",
     "locked": true,
     "schema_version": 3,
     "solution": false,
     "task": false
    }
   },
   "source": [
    "(iv) Experiment with commands like\n",
    "```python\n",
    "mat33 == mat33\n",
    "mat31 < mat33\n",
    "mat33 >= int_arr\n",
    "mat23 > mat33\n",
    "```\n",
    "and so on.\n",
    "\n",
    "Then:\n",
    "\n",
    "(a) Comparing two identical NumPy arrays using ```==```:\n",
    "\n",
    "<ol>\n",
    "    <li>creates the output <code>True</code>, just as if we were comparing lists or tuples;</li>\n",
    "    <li>creates an array with the same number of rows and columns, every entry of which is <code>True</code>;</li>\n",
    "    <li>generates an error message.</li>\n",
    "</ol>"
   ]
  },
  {
   "cell_type": "code",
   "execution_count": 111,
   "id": "3de727c9",
   "metadata": {
    "nbgrader": {
     "grade": false,
     "grade_id": "cell-7ad8b0120c388fca",
     "locked": false,
     "schema_version": 3,
     "solution": true,
     "task": false
    }
   },
   "outputs": [],
   "source": [
    "### BEGIN SOLUTION\n",
    "question3iva_answer = 2\n",
    "### END SOLUTION"
   ]
  },
  {
   "cell_type": "code",
   "execution_count": 112,
   "id": "0c6c2080",
   "metadata": {
    "nbgrader": {
     "grade": true,
     "grade_id": "cell-48bfbbf9e696025f",
     "locked": true,
     "points": 1,
     "schema_version": 3,
     "solution": false,
     "task": false
    }
   },
   "outputs": [
    {
     "name": "stdout",
     "output_type": "stream",
     "text": [
      "test case passed!\n"
     ]
    }
   ],
   "source": [
    "# 1 Mark\n",
    "assert(question3iva_answer == question3_iva())\n",
    "print('test case passed!')"
   ]
  },
  {
   "cell_type": "markdown",
   "id": "e13febce",
   "metadata": {
    "nbgrader": {
     "grade": false,
     "grade_id": "cell-da3bc6d116392b4a",
     "locked": true,
     "schema_version": 3,
     "solution": false,
     "task": false
    }
   },
   "source": [
    "(b) True or False: two numerical NumPy arrays can be compared using ```==```, ```<```, ```>```, ```<=``` or ```>=``` if and only if they can be combined using ```+```, ```-```, ```*```, ```/```, ```//``` or ```**```."
   ]
  },
  {
   "cell_type": "code",
   "execution_count": 113,
   "id": "796fed5b",
   "metadata": {
    "nbgrader": {
     "grade": false,
     "grade_id": "cell-da472d31bb8ebb72",
     "locked": false,
     "schema_version": 3,
     "solution": true,
     "task": false
    }
   },
   "outputs": [],
   "source": [
    "### BEGIN SOLUTION\n",
    "question3ivb_answer = True\n",
    "### END SOLUTION"
   ]
  },
  {
   "cell_type": "code",
   "execution_count": 114,
   "id": "7db8196f",
   "metadata": {
    "nbgrader": {
     "grade": true,
     "grade_id": "cell-bacfe302970cbe90",
     "locked": true,
     "points": 1,
     "schema_version": 3,
     "solution": false,
     "task": false
    }
   },
   "outputs": [
    {
     "name": "stdout",
     "output_type": "stream",
     "text": [
      "test case passed!\n"
     ]
    }
   ],
   "source": [
    "# 1 Mark\n",
    "assert(question3ivb_answer == question3_ivb())\n",
    "print('test case passed!')"
   ]
  },
  {
   "cell_type": "markdown",
   "id": "4acc93e1",
   "metadata": {
    "nbgrader": {
     "grade": false,
     "grade_id": "cell-70864ca3fb0c787d",
     "locked": true,
     "schema_version": 3,
     "solution": false,
     "task": false
    }
   },
   "source": [
    "## Question 4\n",
    "\n",
    "(a) Complete the following statement. Once NumPy has been imported as `np`, the values of\n",
    "```python\n",
    "np.linspace(7, 101, 95)\n",
    "```\n",
    "and\n",
    "```python\n",
    "np.arange(7, 102, 1)\n",
    "```\n",
    "are\n",
    "\n",
    "<ol>\n",
    "    <li>identical in every respect;</li>\n",
    "    <li>equal (in all components), but not quite identical;</li>\n",
    "    <li>neither equal nor identical.</li>\n",
    "</ol>"
   ]
  },
  {
   "cell_type": "code",
   "execution_count": 115,
   "id": "31daeb72",
   "metadata": {
    "nbgrader": {
     "grade": false,
     "grade_id": "cell-62e2d095683626b7",
     "locked": false,
     "schema_version": 3,
     "solution": true,
     "task": false
    }
   },
   "outputs": [],
   "source": [
    "### BEGIN SOLUTION\n",
    "question4a_answer = 2\n",
    "### END SOLUTION"
   ]
  },
  {
   "cell_type": "code",
   "execution_count": 116,
   "id": "26d9c0a9",
   "metadata": {
    "nbgrader": {
     "grade": true,
     "grade_id": "cell-57aa3854b3070f04",
     "locked": true,
     "points": 1,
     "schema_version": 3,
     "solution": false,
     "task": false
    }
   },
   "outputs": [
    {
     "name": "stdout",
     "output_type": "stream",
     "text": [
      "test case passed!\n"
     ]
    }
   ],
   "source": [
    "# 1 Mark\n",
    "assert(question4a_answer == question4_a())\n",
    "print('test case passed!')"
   ]
  },
  {
   "cell_type": "markdown",
   "id": "23313d45",
   "metadata": {
    "nbgrader": {
     "grade": false,
     "grade_id": "cell-896c49e7884c6c07",
     "locked": true,
     "schema_version": 3,
     "solution": false,
     "task": false
    }
   },
   "source": [
    "(b) Complete the following statement. Once NumPy has been imported as `np`, the values of\n",
    "```python\n",
    "np.sqrt(np.linspace(7, 101, 95))\n",
    "```\n",
    "and\n",
    "```python\n",
    "np.sqrt(np.arange(7, 102, 1))\n",
    "```\n",
    "are\n",
    "\n",
    "<ol>\n",
    "    <li>identical in every respect;</li>\n",
    "    <li>equal (in all components), but not quite identical;</li>\n",
    "    <li>neither equal nor identical.</li>\n",
    "</ol>"
   ]
  },
  {
   "cell_type": "code",
   "execution_count": 117,
   "id": "7b769270",
   "metadata": {
    "nbgrader": {
     "grade": false,
     "grade_id": "cell-c97303140529b98e",
     "locked": false,
     "schema_version": 3,
     "solution": true,
     "task": false
    }
   },
   "outputs": [],
   "source": [
    "### BEGIN SOLUTION\n",
    "question4b_answer = 1\n",
    "### END SOLUTION"
   ]
  },
  {
   "cell_type": "code",
   "execution_count": 118,
   "id": "7e06c756",
   "metadata": {
    "nbgrader": {
     "grade": true,
     "grade_id": "cell-d8ec207d1d90bfc5",
     "locked": true,
     "points": 1,
     "schema_version": 3,
     "solution": false,
     "task": false
    }
   },
   "outputs": [
    {
     "name": "stdout",
     "output_type": "stream",
     "text": [
      "test case passed!\n"
     ]
    }
   ],
   "source": [
    "# 1 Mark\n",
    "assert(question4b_answer == question4_b())\n",
    "print('test case passed!')"
   ]
  },
  {
   "cell_type": "markdown",
   "id": "e38ec360",
   "metadata": {
    "nbgrader": {
     "grade": false,
     "grade_id": "cell-92b73f311dcc60dc",
     "locked": true,
     "schema_version": 3,
     "solution": false,
     "task": false
    }
   },
   "source": [
    "(c) Using either `linspace` or `arange`, create a 1D NumPy array called `theta_array` consisting of 401 equally-spaced values between $0$ and $2\\,\\pi$.\n",
    "\n",
    "Then create another 1D NumPy array called `x_array` consisting of $\\cos(3\\,\\theta)$ for each $\\theta$ in `theta_array` (you shouldn't need to use a loop or a comprehension for this, though autograding won't be able to tell if you have).\n",
    "\n",
    "Create, too, a 1D NumPy array called `y_array` consisting of $\\sin(5\\,\\theta)$ for each $\\theta$ in `theta_array`.\n",
    "\n",
    "Finally, create a plot of `x_array` (on the horizontal axis) against `y_array` (on the vertical axis)."
   ]
  },
  {
   "cell_type": "code",
   "execution_count": 119,
   "id": "e416c258",
   "metadata": {
    "nbgrader": {
     "grade": false,
     "grade_id": "cell-af56d68000c9fd5f",
     "locked": false,
     "schema_version": 3,
     "solution": true,
     "task": false
    }
   },
   "outputs": [
    {
     "data": {
      "text/plain": "[<matplotlib.lines.Line2D at 0x2a75fb24550>]"
     },
     "execution_count": 119,
     "metadata": {},
     "output_type": "execute_result"
    },
    {
     "data": {
      "text/plain": "<Figure size 640x480 with 1 Axes>",
      "image/png": "[encoded data removed]"
     },
     "metadata": {},
     "output_type": "display_data"
    }
   ],
   "source": [
    "%matplotlib inline\n",
    "import matplotlib.pyplot as plt\n",
    "\n",
    "### BEGIN SOLUTION\n",
    "theta_array = np.linspace(0,2*np.pi,401)\n",
    "x_array = np.cos(3*theta_array)\n",
    "y_array = np.sin(5*theta_array)\n",
    "fig, ax = plt.subplots()\n",
    "plt.plot(x_array,y_array)\n",
    "### END SOLUTION"
   ]
  },
  {
   "cell_type": "code",
   "execution_count": 120,
   "id": "2dde6db4",
   "metadata": {
    "nbgrader": {
     "grade": true,
     "grade_id": "cell-df35ac4da0a1a0fd",
     "locked": true,
     "points": 3,
     "schema_version": 3,
     "solution": false,
     "task": false
    }
   },
   "outputs": [
    {
     "name": "stdout",
     "output_type": "stream",
     "text": [
      "Correct value for theta_array\n",
      "Correct value for x_array\n",
      "Correct value for y_array\n",
      "3 out of 3\n"
     ]
    },
    {
     "data": {
      "text/plain": "3"
     },
     "execution_count": 120,
     "metadata": {},
     "output_type": "execute_result"
    }
   ],
   "source": [
    "# 3 Marks\n",
    "# Do not try to delete this cell\n",
    "# Run this cell for grading\n",
    "_globals = globals()\n",
    "question4c(_globals)"
   ]
  },
  {
   "cell_type": "code",
   "execution_count": 121,
   "id": "8c2f0248",
   "metadata": {
    "nbgrader": {
     "grade": true,
     "grade_id": "cell-6d1cec33ed26d6cc",
     "locked": true,
     "points": 1,
     "schema_version": 3,
     "solution": false,
     "task": false
    }
   },
   "outputs": [
    {
     "name": "stdout",
     "output_type": "stream",
     "text": [
      "Correct horizontal coordinates\n",
      "Correct vertical coordinates\n",
      "This seems to be a line plot\n",
      "Plot correct!!\n"
     ]
    },
    {
     "data": {
      "text/plain": "1"
     },
     "execution_count": 121,
     "metadata": {},
     "output_type": "execute_result"
    }
   ],
   "source": [
    "# 1 Mark\n",
    "_globals = globals()\n",
    "question4c_plot(_globals)"
   ]
  },
  {
   "cell_type": "markdown",
   "id": "6bee8c3b",
   "metadata": {
    "nbgrader": {
     "grade": false,
     "grade_id": "cell-ab70d8c2d4c56067",
     "locked": true,
     "schema_version": 3,
     "solution": false,
     "task": false
    }
   },
   "source": [
    "## Question 5\n",
    "\n",
    "(i) Investigate expressions like\n",
    "```python\n",
    "np.dot(mat23, mat33)\n",
    "np.dot(mat33, mat31)\n",
    "np.dot(mat33, int_arr)\n",
    "np.dot(int_arr, int_arr2)\n",
    "```\n",
    "etc. Then:\n",
    "\n",
    "(a) The `dot` function in the NumPy module can be used to find\n",
    "\n",
    "<ol>\n",
    "    <li>the scalar product of two vectors represented as 1D arrays;</li>\n",
    "    <li>the matrix product of two matrices represented as 2D arrays;</li>\n",
    "    <li>both.</li>\n",
    "</ol>"
   ]
  },
  {
   "cell_type": "code",
   "execution_count": 122,
   "id": "a5438108",
   "metadata": {
    "nbgrader": {
     "grade": false,
     "grade_id": "cell-b08d42f459524526",
     "locked": false,
     "schema_version": 3,
     "solution": true,
     "task": false
    }
   },
   "outputs": [],
   "source": [
    "### BEGIN SOLUTION\n",
    "question5ia_answer = 3\n",
    "### END SOLUTION"
   ]
  },
  {
   "cell_type": "code",
   "execution_count": 123,
   "id": "d4ba67a2",
   "metadata": {
    "nbgrader": {
     "grade": true,
     "grade_id": "cell-0c393b69be5aaeaf",
     "locked": true,
     "points": 1,
     "schema_version": 3,
     "solution": false,
     "task": false
    }
   },
   "outputs": [
    {
     "name": "stdout",
     "output_type": "stream",
     "text": [
      "test case passed!\n"
     ]
    }
   ],
   "source": [
    "# 1 Mark\n",
    "assert(question5ia_answer == question5_ia())\n",
    "print('test case passed!')"
   ]
  },
  {
   "cell_type": "markdown",
   "id": "35e4a813",
   "metadata": {
    "nbgrader": {
     "grade": false,
     "grade_id": "cell-1ee12a3c0bcdf0f2",
     "locked": true,
     "schema_version": 3,
     "solution": false,
     "task": false
    }
   },
   "source": [
    "(b) Which of the following work; that is, don't generate an error message? \n",
    "\n",
    "<ol>\n",
    "    <li><code>np.dot(mata, matb)</code>, where <code>mata</code> and <code>matb</code> are $3\\times 3$ matrices?</li>\n",
    "    <li><code>np.dot(mata, matb)</code>, where <code>mata</code> is a $3 \\times 3$ matrix and <code>matb</code> is a $3 \\times 1$ matrix?</li>\n",
    "    <li><code>np.dot(mata, matb)</code>, where <code>mata</code> is a $3 \\times 3$ matrix and <code>matb</code> is a $1 \\times 3$ matrix?</li>\n",
    "    <li><code>np.dot(mata, matb)</code>, where <code>mata</code> is a $1 \\times 3$ matrix and <code>matb</code> is a $3 \\times 3$ matrix?</li>\n",
    "    <li><code>np.dot(mata, matb)</code>, where <code>mata</code> is a $3 \\times 1$ matrix and <code>matb</code> is a $3 \\times 3$ matrix?</li>\n",
    "</ol>\n",
    "\n",
    "Type in your answers in curly brackets separated by commas; for example, if you think 1, 3 and 5 are the correct answers, type in `{1, 3, 5}`."
   ]
  },
  {
   "cell_type": "code",
   "execution_count": 124,
   "id": "87da16fe",
   "metadata": {
    "nbgrader": {
     "grade": false,
     "grade_id": "cell-4b8f3784cbe2da4c",
     "locked": false,
     "schema_version": 3,
     "solution": true,
     "task": false
    }
   },
   "outputs": [],
   "source": [
    "### BEGIN SOLUTION\n",
    "question5ib_answer = {1, 2, 4}\n",
    "### END SOLUTION"
   ]
  },
  {
   "cell_type": "code",
   "execution_count": 125,
   "id": "884e3b1d",
   "metadata": {
    "nbgrader": {
     "grade": true,
     "grade_id": "cell-9f915f532f6cf07c",
     "locked": true,
     "points": 1,
     "schema_version": 3,
     "solution": false,
     "task": false
    }
   },
   "outputs": [
    {
     "name": "stdout",
     "output_type": "stream",
     "text": [
      "test case passed!\n"
     ]
    }
   ],
   "source": [
    "# 1 Mark\n",
    "assert(question5ib_answer == question5_ib())\n",
    "print('test case passed!')"
   ]
  },
  {
   "cell_type": "markdown",
   "id": "ac2a9221",
   "metadata": {
    "nbgrader": {
     "grade": false,
     "grade_id": "cell-8581e7aa28afd3dc",
     "locked": true,
     "schema_version": 3,
     "solution": false,
     "task": false
    }
   },
   "source": [
    "(c) Suppose `mat` is a $3 \\times 3$ NumPy array and `vec` is a 1D array of length 3; numerical in each case. Then the expressions\n",
    "\n",
    "```python\n",
    "np.dot(mat, vec)\n",
    "np.dot(vec, mat)\n",
    "```\n",
    "\n",
    "<ol>\n",
    "    <li>both work, and generate the same output;</li>\n",
    "    <li>both work, and generate different output;</li>\n",
    "    <li>work in the first case, though the second generates an error message;</li>\n",
    "    <li>work in the second case, though the first generates an error message;</li>\n",
    "    <li>both fail, generating error messages.</li>"
   ]
  },
  {
   "cell_type": "code",
   "execution_count": 126,
   "id": "2df4c0d0",
   "metadata": {
    "nbgrader": {
     "grade": false,
     "grade_id": "cell-5be9b1a83a30a998",
     "locked": false,
     "schema_version": 3,
     "solution": true,
     "task": false
    }
   },
   "outputs": [],
   "source": [
    "### BEGIN SOLUTION\n",
    "question5ic_answer = 2\n",
    "### END SOLUTION"
   ]
  },
  {
   "cell_type": "code",
   "execution_count": 127,
   "id": "58b044b1",
   "metadata": {
    "nbgrader": {
     "grade": true,
     "grade_id": "cell-6980e868995ee762",
     "locked": true,
     "points": 1,
     "schema_version": 3,
     "solution": false,
     "task": false
    }
   },
   "outputs": [
    {
     "name": "stdout",
     "output_type": "stream",
     "text": [
      "test case passed!\n"
     ]
    }
   ],
   "source": [
    "# 1 Mark\n",
    "assert(question5ic_answer == question5_ic())\n",
    "print('test case passed!')"
   ]
  },
  {
   "cell_type": "markdown",
   "id": "c1814e17",
   "metadata": {
    "nbgrader": {
     "grade": false,
     "grade_id": "cell-cbb29ec67411ef54",
     "locked": true,
     "schema_version": 3,
     "solution": false,
     "task": false
    }
   },
   "source": [
    "(d) Suppose `mat` is a $3 \\times 3$ NumPy array and `vec` is a 1D array of length 3; numerical in each case. Then, in the expressions\n",
    "\n",
    "```python\n",
    "np.dot(mat, vec)\n",
    "np.dot(vec, mat)\n",
    "```\n",
    "\n",
    "the 1D array `vec` is interpreted by Python\n",
    "\n",
    "<ol>\n",
    "    <li>as a row vector in both cases;</li>\n",
    "    <li>as a column vector in both cases;</li>\n",
    "    <li>as a row vector in the first case and a column vector in the second case;</li>\n",
    "    <li>as a column vector in the first case and a row vector in the second case.</li> \n",
    "</ol>"
   ]
  },
  {
   "cell_type": "code",
   "execution_count": 128,
   "id": "a9ab95bb",
   "metadata": {
    "nbgrader": {
     "grade": false,
     "grade_id": "cell-e4ba1626c13d76c0",
     "locked": false,
     "schema_version": 3,
     "solution": true,
     "task": false
    }
   },
   "outputs": [],
   "source": [
    "### BEGIN SOLUTION\n",
    "question5id_answer = 4\n",
    "### END SOLUTION"
   ]
  },
  {
   "cell_type": "code",
   "execution_count": 129,
   "id": "c82e3ecc",
   "metadata": {
    "nbgrader": {
     "grade": true,
     "grade_id": "cell-b4fae0f7029c8219",
     "locked": true,
     "points": 1,
     "schema_version": 3,
     "solution": false,
     "task": false
    }
   },
   "outputs": [
    {
     "name": "stdout",
     "output_type": "stream",
     "text": [
      "test case passed!\n"
     ]
    }
   ],
   "source": [
    "# 1 Mark\n",
    "assert(question5id_answer == question5_id())\n",
    "print('test case passed!')"
   ]
  },
  {
   "cell_type": "markdown",
   "id": "82c6a688",
   "metadata": {
    "nbgrader": {
     "grade": false,
     "grade_id": "cell-9aa105030c41367b",
     "locked": true,
     "schema_version": 3,
     "solution": false,
     "task": false
    }
   },
   "source": [
    "(ii) The matrix $A$ is defined by\n",
    "\n",
    "$$A = \\left(\\begin{array}{cccc}\n",
    "1&-3&2&2\\\\0&1&0&-1\\\\1&3&1&-2\\\\-2&0&-3&-2\n",
    "\\end{array}\\right)$$\n",
    "\n",
    "and the vector ${\\bf v}$ by\n",
    "\n",
    "$${\\bf v} = \\left(\\begin{array}{c}\n",
    "0\\\\-2\\\\-5\\\\-1\n",
    "\\end{array}\\right).$$\n",
    "\n",
    "(a) Set them up in Python as, respectively, a $4 \\times 4$ NumPy array and a 1D NumPy array of length 4."
   ]
  },
  {
   "cell_type": "code",
   "execution_count": 130,
   "id": "7c400dda",
   "metadata": {
    "nbgrader": {
     "grade": false,
     "grade_id": "cell-c73166e37cc04512",
     "locked": false,
     "schema_version": 3,
     "solution": true,
     "task": false
    }
   },
   "outputs": [],
   "source": [
    "### BEGIN SOLUTION\n",
    "A = np.array([[1,-3,2,2],[0,1,0,-1],[1,3,1,-2],[-2,0,-3,-2]])\n",
    "v = np.array([0, -2, -5, -1])\n",
    "### END SOLUTION"
   ]
  },
  {
   "cell_type": "code",
   "execution_count": 131,
   "id": "a225c6a0",
   "metadata": {
    "nbgrader": {
     "grade": true,
     "grade_id": "cell-4abdd3e56000e898",
     "locked": true,
     "points": 2,
     "schema_version": 3,
     "solution": false,
     "task": false
    }
   },
   "outputs": [
    {
     "name": "stdout",
     "output_type": "stream",
     "text": [
      "Correct value for A\n",
      "Correct value for v\n",
      "2 out of 2\n"
     ]
    },
    {
     "data": {
      "text/plain": "2"
     },
     "execution_count": 131,
     "metadata": {},
     "output_type": "execute_result"
    }
   ],
   "source": [
    "# 2 Marks\n",
    "# Do not try to delete this cell\n",
    "# Run this cell for grading\n",
    "_globals = globals()\n",
    "question5iia(_globals)"
   ]
  },
  {
   "cell_type": "markdown",
   "id": "0440aff6",
   "metadata": {
    "nbgrader": {
     "grade": false,
     "grade_id": "cell-969f59e4894d3d19",
     "locked": true,
     "schema_version": 3,
     "solution": false,
     "task": false
    }
   },
   "source": [
    "Import the `linalg` submodule of the NumPy module, and using functions from it, calculate:\n",
    "\n",
    "(b) The norm, or magnitude, of the vector ${\\bf v}$, $|{\\bf v}|$ (sometimes written $||{\\bf v}||$). Call this `normv`."
   ]
  },
  {
   "cell_type": "code",
   "execution_count": 132,
   "id": "e9b31134",
   "metadata": {
    "nbgrader": {
     "grade": false,
     "grade_id": "cell-91f9867623ca4977",
     "locked": false,
     "schema_version": 3,
     "solution": true,
     "task": false
    }
   },
   "outputs": [
    {
     "name": "stdout",
     "output_type": "stream",
     "text": [
      "5.477225575051661\n"
     ]
    }
   ],
   "source": [
    "import numpy.linalg as la\n",
    "### BEGIN SOLUTION\n",
    "normv = la.norm(v)\n",
    "### END SOLUTION\n",
    "print(normv)"
   ]
  },
  {
   "cell_type": "code",
   "execution_count": 133,
   "id": "53dfcf0b",
   "metadata": {
    "nbgrader": {
     "grade": true,
     "grade_id": "cell-ee2f35e08eee306a",
     "locked": true,
     "points": 1,
     "schema_version": 3,
     "solution": false,
     "task": false
    }
   },
   "outputs": [
    {
     "name": "stdout",
     "output_type": "stream",
     "text": [
      "Correct value for normv\n"
     ]
    },
    {
     "data": {
      "text/plain": "1"
     },
     "execution_count": 133,
     "metadata": {},
     "output_type": "execute_result"
    }
   ],
   "source": [
    "# 1 Mark\n",
    "# Do not try to delete this cell\n",
    "# Run this cell for grading\n",
    "_globals = globals()\n",
    "question5iib(_globals)"
   ]
  },
  {
   "cell_type": "markdown",
   "id": "136a4461",
   "metadata": {
    "nbgrader": {
     "grade": false,
     "grade_id": "cell-f9e6ea0cc656ba1f",
     "locked": true,
     "schema_version": 3,
     "solution": false,
     "task": false
    }
   },
   "source": [
    "(c) The 1-norm of ${\\bf v}$, $||{\\bf v}||_1$, equal to the sum of the absolute values of ${\\bf v}$'s components. Call this `norm1v`."
   ]
  },
  {
   "cell_type": "code",
   "execution_count": 134,
   "id": "473c0834",
   "metadata": {
    "nbgrader": {
     "grade": false,
     "grade_id": "cell-f13390acb597945e",
     "locked": false,
     "schema_version": 3,
     "solution": true,
     "task": false
    }
   },
   "outputs": [
    {
     "name": "stdout",
     "output_type": "stream",
     "text": [
      "8.0\n"
     ]
    }
   ],
   "source": [
    "### BEGIN SOLUTION\n",
    "norm1v = la.norm(v,1)\n",
    "### END SOLUTION\n",
    "print(norm1v)"
   ]
  },
  {
   "cell_type": "code",
   "execution_count": 135,
   "id": "59e60ebe",
   "metadata": {
    "nbgrader": {
     "grade": true,
     "grade_id": "cell-debc459b8c1d3bfd",
     "locked": true,
     "points": 1,
     "schema_version": 3,
     "solution": false,
     "task": false
    }
   },
   "outputs": [
    {
     "name": "stdout",
     "output_type": "stream",
     "text": [
      "Correct value for norm1v\n"
     ]
    },
    {
     "data": {
      "text/plain": "1"
     },
     "execution_count": 135,
     "metadata": {},
     "output_type": "execute_result"
    }
   ],
   "source": [
    "# 1 Mark\n",
    "# Do not try to delete this cell\n",
    "# Run this cell for grading\n",
    "_globals = globals()\n",
    "question5iic(_globals)"
   ]
  },
  {
   "cell_type": "markdown",
   "id": "63bf57bf",
   "metadata": {
    "nbgrader": {
     "grade": false,
     "grade_id": "cell-0f5290d50abcdc2e",
     "locked": true,
     "schema_version": 3,
     "solution": false,
     "task": false
    }
   },
   "source": [
    "(d) The $\\infty$-norm of ${\\bf v}$, $||{\\bf v}||_\\infty$, equal to the maximum absolute value of ${\\bf v}$'s components. Call this `norminfv`."
   ]
  },
  {
   "cell_type": "code",
   "execution_count": 136,
   "id": "0f8a6015",
   "metadata": {
    "nbgrader": {
     "grade": false,
     "grade_id": "cell-93aadf5cb000e879",
     "locked": false,
     "schema_version": 3,
     "solution": true,
     "task": false
    }
   },
   "outputs": [
    {
     "name": "stdout",
     "output_type": "stream",
     "text": [
      "5.0\n"
     ]
    }
   ],
   "source": [
    "### BEGIN SOLUTION\n",
    "norminfv = la.norm(v,np.Inf)\n",
    "### END SOLUTION\n",
    "print(norminfv)"
   ]
  },
  {
   "cell_type": "code",
   "execution_count": 137,
   "id": "2d9fd84d",
   "metadata": {
    "nbgrader": {
     "grade": true,
     "grade_id": "cell-19a9351daa840d32",
     "locked": true,
     "points": 1,
     "schema_version": 3,
     "solution": false,
     "task": false
    }
   },
   "outputs": [
    {
     "name": "stdout",
     "output_type": "stream",
     "text": [
      "Correct value for norminfv\n"
     ]
    },
    {
     "data": {
      "text/plain": "1"
     },
     "execution_count": 137,
     "metadata": {},
     "output_type": "execute_result"
    }
   ],
   "source": [
    "# 1 Mark\n",
    "# Do not try to delete this cell\n",
    "# Run this cell for grading\n",
    "_globals = globals()\n",
    "question5iid(_globals)"
   ]
  },
  {
   "cell_type": "markdown",
   "id": "05a73ef4",
   "metadata": {
    "nbgrader": {
     "grade": false,
     "grade_id": "cell-eb433fb2263278a5",
     "locked": true,
     "schema_version": 3,
     "solution": false,
     "task": false
    }
   },
   "source": [
    "(e) The determinant of $A$. Call this `detA`."
   ]
  },
  {
   "cell_type": "code",
   "execution_count": 138,
   "id": "4206dd12",
   "metadata": {
    "nbgrader": {
     "grade": false,
     "grade_id": "cell-937de8cbc2599027",
     "locked": false,
     "schema_version": 3,
     "solution": true,
     "task": false
    }
   },
   "outputs": [
    {
     "name": "stdout",
     "output_type": "stream",
     "text": [
      "2.0\n"
     ]
    }
   ],
   "source": [
    "### BEGIN SOLUTION\n",
    "detA = la.det(A)\n",
    "### END SOLUTION\n",
    "print(detA)"
   ]
  },
  {
   "cell_type": "code",
   "execution_count": 139,
   "id": "b8019e8a",
   "metadata": {
    "nbgrader": {
     "grade": true,
     "grade_id": "cell-569be2cbbb9eed1d",
     "locked": true,
     "points": 1,
     "schema_version": 3,
     "solution": false,
     "task": false
    }
   },
   "outputs": [
    {
     "name": "stdout",
     "output_type": "stream",
     "text": [
      "Correct value for detA\n"
     ]
    },
    {
     "data": {
      "text/plain": "1"
     },
     "execution_count": 139,
     "metadata": {},
     "output_type": "execute_result"
    }
   ],
   "source": [
    "# 1 Mark\n",
    "# Do not try to delete this cell\n",
    "# Run this cell for grading\n",
    "_globals = globals()\n",
    "question5iie(_globals)"
   ]
  },
  {
   "cell_type": "markdown",
   "id": "a643518c",
   "metadata": {
    "nbgrader": {
     "grade": false,
     "grade_id": "cell-8dd540ac6f01a2cb",
     "locked": true,
     "schema_version": 3,
     "solution": false,
     "task": false
    }
   },
   "source": [
    "(f) The inverse matrix of $A$. Call this `invA`."
   ]
  },
  {
   "cell_type": "code",
   "execution_count": 140,
   "id": "9cd503c6",
   "metadata": {
    "nbgrader": {
     "grade": false,
     "grade_id": "cell-7219a649ec63e886",
     "locked": false,
     "schema_version": 3,
     "solution": true,
     "task": false
    }
   },
   "outputs": [
    {
     "name": "stdout",
     "output_type": "stream",
     "text": [
      "[[ 0.5 -9.   3.5  1.5]\n",
      " [-0.5  1.  -0.5 -0.5]\n",
      " [ 0.   6.  -2.  -1. ]\n",
      " [-0.5 -0.  -0.5 -0.5]]\n"
     ]
    }
   ],
   "source": [
    "### BEGIN SOLUTION\n",
    "invA = la.inv(A)\n",
    "### END SOLUTION\n",
    "print(invA)"
   ]
  },
  {
   "cell_type": "code",
   "execution_count": 141,
   "id": "cc3bade7",
   "metadata": {
    "nbgrader": {
     "grade": true,
     "grade_id": "cell-90c1abd85cc154bd",
     "locked": true,
     "points": 1,
     "schema_version": 3,
     "solution": false,
     "task": false
    }
   },
   "outputs": [
    {
     "name": "stdout",
     "output_type": "stream",
     "text": [
      "Correct value for invA\n"
     ]
    },
    {
     "data": {
      "text/plain": "1"
     },
     "execution_count": 141,
     "metadata": {},
     "output_type": "execute_result"
    }
   ],
   "source": [
    "# 1 Mark\n",
    "# Do not try to delete this cell\n",
    "# Run this cell for grading\n",
    "_globals = globals()\n",
    "question5iif(_globals)"
   ]
  },
  {
   "cell_type": "markdown",
   "id": "dfe0e475",
   "metadata": {
    "nbgrader": {
     "grade": false,
     "grade_id": "cell-10e5294e3dac4ddb",
     "locked": true,
     "schema_version": 3,
     "solution": false,
     "task": false
    }
   },
   "source": [
    "(g) The eigenvalues of A. Call these `eigA`."
   ]
  },
  {
   "cell_type": "code",
   "execution_count": 142,
   "id": "07258a8b",
   "metadata": {
    "nbgrader": {
     "grade": false,
     "grade_id": "cell-dab55830ccdc8281",
     "locked": false,
     "schema_version": 3,
     "solution": true,
     "task": false
    }
   },
   "outputs": [
    {
     "name": "stdout",
     "output_type": "stream",
     "text": [
      "[ 3.02385899 -2.28250615 -0.42429781  0.68294497]\n"
     ]
    }
   ],
   "source": [
    "### BEGIN SOLUTION\n",
    "eigA = la.eigvals(A)\n",
    "### END SOLUTION\n",
    "print(eigA)"
   ]
  },
  {
   "cell_type": "code",
   "execution_count": 143,
   "id": "8744db5e",
   "metadata": {
    "nbgrader": {
     "grade": true,
     "grade_id": "cell-19e5bfce7227c277",
     "locked": true,
     "points": 1,
     "schema_version": 3,
     "solution": false,
     "task": false
    }
   },
   "outputs": [
    {
     "name": "stdout",
     "output_type": "stream",
     "text": [
      "Correct value for eigA\n"
     ]
    },
    {
     "data": {
      "text/plain": "1"
     },
     "execution_count": 143,
     "metadata": {},
     "output_type": "execute_result"
    }
   ],
   "source": [
    "# 1 Mark\n",
    "# Do not try to delete this cell\n",
    "# Run this cell for grading\n",
    "_globals = globals()\n",
    "question5iig(_globals)"
   ]
  },
  {
   "cell_type": "markdown",
   "id": "0cb328c1",
   "metadata": {
    "nbgrader": {
     "grade": false,
     "grade_id": "cell-31cb454ef20faa14",
     "locked": true,
     "schema_version": 3,
     "solution": false,
     "task": false
    }
   },
   "source": [
    "(h) The value of $A^5$, where the power indicates repeated <em>matrix</em> multiplication. (You can do this using repeated applications of `dot`, and autograding won't be able to tell if you have, but try to do it using a function from the `linalg` submodule instead.) Call this `Apow5`."
   ]
  },
  {
   "cell_type": "code",
   "execution_count": 144,
   "id": "91e4eb51",
   "metadata": {
    "nbgrader": {
     "grade": false,
     "grade_id": "cell-b110c338a988e323",
     "locked": false,
     "schema_version": 3,
     "solution": true,
     "task": false
    }
   },
   "outputs": [
    {
     "name": "stdout",
     "output_type": "stream",
     "text": [
      "[[  13  -12   22   41]\n",
      " [  34   31   47  -31]\n",
      " [ 130   99  183  -75]\n",
      " [-109  -39 -161  -36]]\n"
     ]
    }
   ],
   "source": [
    "### BEGIN SOLUTION\n",
    "Apow5 = la.matrix_power(A,5)\n",
    "### END SOLUTION\n",
    "print(Apow5)"
   ]
  },
  {
   "cell_type": "code",
   "execution_count": 145,
   "id": "3802954d",
   "metadata": {
    "nbgrader": {
     "grade": true,
     "grade_id": "cell-1f8920c55649c114",
     "locked": true,
     "points": 1,
     "schema_version": 3,
     "solution": false,
     "task": false
    }
   },
   "outputs": [
    {
     "name": "stdout",
     "output_type": "stream",
     "text": [
      "Correct value for Apow5\n"
     ]
    },
    {
     "data": {
      "text/plain": "1"
     },
     "execution_count": 145,
     "metadata": {},
     "output_type": "execute_result"
    }
   ],
   "source": [
    "# 1 Mark\n",
    "# Do not try to delete this cell\n",
    "# Run this cell for grading\n",
    "_globals = globals()\n",
    "question5iih(_globals)"
   ]
  },
  {
   "cell_type": "markdown",
   "id": "e87bbd96",
   "metadata": {
    "nbgrader": {
     "grade": false,
     "grade_id": "cell-f37720c4a932751c",
     "locked": true,
     "schema_version": 3,
     "solution": false,
     "task": false
    }
   },
   "source": [
    "(j) (and I hope you can see why I've skipped part (i)...) The solution, ${\\bf x}$, of the linear equation system\n",
    "\n",
    "$$A\\,{\\bf x} = {\\bf v},$$\n",
    "\n",
    "as a 1D NumPy array. Call this `solution1`."
   ]
  },
  {
   "cell_type": "code",
   "execution_count": 146,
   "id": "4672e0d0",
   "metadata": {
    "nbgrader": {
     "grade": false,
     "grade_id": "cell-6fa6caf023f1ae4c",
     "locked": false,
     "schema_version": 3,
     "solution": true,
     "task": false
    }
   },
   "outputs": [
    {
     "name": "stdout",
     "output_type": "stream",
     "text": [
      "[-1.  1. -1.  3.]\n"
     ]
    }
   ],
   "source": [
    "### BEGIN SOLUTION\n",
    "solution1 = la.solve(A,v)\n",
    "### END SOLUTION\n",
    "print(solution1)"
   ]
  },
  {
   "cell_type": "code",
   "execution_count": 147,
   "id": "91a64251",
   "metadata": {
    "nbgrader": {
     "grade": true,
     "grade_id": "cell-5f443bea88b9db25",
     "locked": true,
     "points": 1,
     "schema_version": 3,
     "solution": false,
     "task": false
    }
   },
   "outputs": [
    {
     "name": "stdout",
     "output_type": "stream",
     "text": [
      "Correct value for solution1\n"
     ]
    },
    {
     "data": {
      "text/plain": "1"
     },
     "execution_count": 147,
     "metadata": {},
     "output_type": "execute_result"
    }
   ],
   "source": [
    "# 1 Mark\n",
    "# Do not try to delete this cell\n",
    "# Run this cell for grading\n",
    "_globals = globals()\n",
    "question5iij(_globals)"
   ]
  },
  {
   "cell_type": "markdown",
   "id": "a13558d9",
   "metadata": {
    "nbgrader": {
     "grade": false,
     "grade_id": "cell-b9e96232cd9f7d0f",
     "locked": true,
     "schema_version": 3,
     "solution": false,
     "task": false
    }
   },
   "source": [
    "(k) The column vector ${\\bf w}$ is defined by\n",
    "\n",
    "$${\\bf w} = \\left(\\begin{array}{cccc}\n",
    "1&0&1&-1\n",
    "\\end{array}\\right).$$\n",
    "\n",
    "Find, as a 1D NumPy array, the solution ${\\bf y}$ of the linear equation system\n",
    "\n",
    "$${\\bf y} \\, A = {\\bf w}$$\n",
    "\n",
    "(this may take some thought). Call this `solution2`"
   ]
  },
  {
   "cell_type": "code",
   "execution_count": 148,
   "id": "23318bf4",
   "metadata": {
    "nbgrader": {
     "grade": false,
     "grade_id": "cell-48f16eda5eeeea84",
     "locked": false,
     "schema_version": 3,
     "solution": true,
     "task": false
    }
   },
   "outputs": [
    {
     "name": "stdout",
     "output_type": "stream",
     "text": [
      "[ 1. -3.  2.  1.]\n"
     ]
    }
   ],
   "source": [
    "w =np.array([1,0,1,-1])\n",
    "### BEGIN SOLUTION\n",
    "solution2 = la.solve(np.transpose(A),w)\n",
    "### END SOLUTION\n",
    "print(solution2)"
   ]
  },
  {
   "cell_type": "code",
   "execution_count": 149,
   "id": "6ea44b9a",
   "metadata": {
    "nbgrader": {
     "grade": true,
     "grade_id": "cell-3fa9ca4d1f5124a8",
     "locked": true,
     "points": 1,
     "schema_version": 3,
     "solution": false,
     "task": false
    }
   },
   "outputs": [
    {
     "name": "stdout",
     "output_type": "stream",
     "text": [
      "Correct value for solution2\n"
     ]
    },
    {
     "data": {
      "text/plain": "1"
     },
     "execution_count": 149,
     "metadata": {},
     "output_type": "execute_result"
    }
   ],
   "source": [
    "# 1 Mark\n",
    "# Do not try to delete this cell\n",
    "# Run this cell for grading\n",
    "_globals = globals()\n",
    "question5iik(_globals)"
   ]
  },
  {
   "cell_type": "markdown",
   "id": "4e92ced3",
   "metadata": {
    "nbgrader": {
     "grade": false,
     "grade_id": "cell-23ad535ac637e8ab",
     "locked": true,
     "schema_version": 3,
     "solution": false,
     "task": false
    }
   },
   "source": [
    "## Question 6\n",
    "\n",
    "(a) Define a `poly1d` object called `mypoly` corresponding to the quartic \n",
    "$$x^4-8\\,x^3-26\\,x^2+168\\,x-135.$$"
   ]
  },
  {
   "cell_type": "code",
   "execution_count": 150,
   "id": "37b11673",
   "metadata": {
    "nbgrader": {
     "grade": false,
     "grade_id": "cell-04b63033fa05f1b4",
     "locked": false,
     "schema_version": 3,
     "solution": true,
     "task": false
    }
   },
   "outputs": [
    {
     "name": "stdout",
     "output_type": "stream",
     "text": [
      "   4     3      2\n",
      "1 x - 8 x - 26 x + 168 x - 135\n"
     ]
    }
   ],
   "source": [
    "### BEGIN SOLUTION\n",
    "mypoly = np.poly1d([1,-8,-26,168,-135])\n",
    "### END SOLUTION\n",
    "print(mypoly)"
   ]
  },
  {
   "cell_type": "code",
   "execution_count": 151,
   "id": "32099a7b",
   "metadata": {
    "nbgrader": {
     "grade": true,
     "grade_id": "cell-1b66e2e68a6b981d",
     "locked": true,
     "points": 1,
     "schema_version": 3,
     "solution": false,
     "task": false
    }
   },
   "outputs": [
    {
     "name": "stdout",
     "output_type": "stream",
     "text": [
      "Correct value for mypoly\n"
     ]
    },
    {
     "data": {
      "text/plain": "1"
     },
     "execution_count": 151,
     "metadata": {},
     "output_type": "execute_result"
    }
   ],
   "source": [
    "# 1 Mark\n",
    "# Do not try to delete this cell\n",
    "# Run this cell for grading\n",
    "_globals = globals()\n",
    "question6a(_globals)"
   ]
  },
  {
   "cell_type": "markdown",
   "id": "407ed4ea",
   "metadata": {
    "nbgrader": {
     "grade": false,
     "grade_id": "cell-96d52318a9212b32",
     "locked": true,
     "schema_version": 3,
     "solution": false,
     "task": false
    }
   },
   "source": [
    "(b) Calculate the values of `mypoly` at $x=-6,-5,-4,\\dots,8,9,10$, giving your answer in the form of a NumPy array called `mypolyvalues`."
   ]
  },
  {
   "cell_type": "code",
   "execution_count": 152,
   "id": "34f18283",
   "metadata": {
    "nbgrader": {
     "grade": false,
     "grade_id": "cell-1b241ac1c6841df4",
     "locked": false,
     "schema_version": 3,
     "solution": true,
     "task": false
    }
   },
   "outputs": [
    {
     "name": "stdout",
     "output_type": "stream",
     "text": [
      "[ 945.    0. -455. -576. -495. -320. -135.    0.   49.    0. -135. -320.\n",
      " -495. -576. -455.    0.  945.]\n"
     ]
    }
   ],
   "source": [
    "### BEGIN SOLUTION\n",
    "mypolyvalues = np.polyval(mypoly,np.linspace(-6,10,17))\n",
    "### END SOLUTION\n",
    "print(mypolyvalues)"
   ]
  },
  {
   "cell_type": "code",
   "execution_count": 153,
   "id": "737adf15",
   "metadata": {
    "nbgrader": {
     "grade": true,
     "grade_id": "cell-21da96f121ceef32",
     "locked": true,
     "points": 1,
     "schema_version": 3,
     "solution": false,
     "task": false
    }
   },
   "outputs": [
    {
     "name": "stdout",
     "output_type": "stream",
     "text": [
      "Correct value for mypolyvalues\n"
     ]
    },
    {
     "data": {
      "text/plain": "1"
     },
     "execution_count": 153,
     "metadata": {},
     "output_type": "execute_result"
    }
   ],
   "source": [
    "# 1 Mark\n",
    "# Do not try to delete this cell\n",
    "# Run this cell for grading\n",
    "_globals = globals()\n",
    "question6b(_globals)"
   ]
  },
  {
   "cell_type": "markdown",
   "id": "150be1b5",
   "metadata": {
    "nbgrader": {
     "grade": false,
     "grade_id": "cell-0f12775070d705df",
     "locked": true,
     "schema_version": 3,
     "solution": false,
     "task": false
    }
   },
   "source": [
    "(c) Calculate the roots of `mypoly`, giving your answer in the form of a NumPy array called `mypolyroots`."
   ]
  },
  {
   "cell_type": "code",
   "execution_count": 154,
   "id": "f1a9ab47",
   "metadata": {
    "nbgrader": {
     "grade": false,
     "grade_id": "cell-eddd0657cedbaf6d",
     "locked": false,
     "schema_version": 3,
     "solution": true,
     "task": false
    }
   },
   "outputs": [
    {
     "name": "stdout",
     "output_type": "stream",
     "text": [
      "[ 9. -5.  3.  1.]\n"
     ]
    }
   ],
   "source": [
    "### BEGIN SOLUTION\n",
    "mypolyroots = np.roots(mypoly)\n",
    "### END SOLUTION\n",
    "print(mypolyroots)"
   ]
  },
  {
   "cell_type": "code",
   "execution_count": 155,
   "id": "22b67cf7",
   "metadata": {
    "nbgrader": {
     "grade": true,
     "grade_id": "cell-7cdca97652b4de07",
     "locked": true,
     "points": 1,
     "schema_version": 3,
     "solution": false,
     "task": false
    }
   },
   "outputs": [
    {
     "name": "stdout",
     "output_type": "stream",
     "text": [
      "Correct value for mypolyroots\n"
     ]
    },
    {
     "data": {
      "text/plain": "1"
     },
     "execution_count": 155,
     "metadata": {},
     "output_type": "execute_result"
    }
   ],
   "source": [
    "# 1 Mark\n",
    "# Do not try to delete this cell\n",
    "# Run this cell for grading\n",
    "_globals = globals()\n",
    "question6c(_globals)"
   ]
  },
  {
   "cell_type": "markdown",
   "id": "4e5ea31b",
   "metadata": {
    "nbgrader": {
     "grade": false,
     "grade_id": "cell-7a0c30b7b2c47f83",
     "locked": true,
     "schema_version": 3,
     "solution": false,
     "task": false
    }
   },
   "source": [
    "(d) Calculate the $x$- and $y$-coordinates of the stationary points of `mypoly`, giving your answers as NumPy arrays `spx` and `spy`."
   ]
  },
  {
   "cell_type": "code",
   "execution_count": 156,
   "id": "b1956f4e",
   "metadata": {
    "nbgrader": {
     "grade": false,
     "grade_id": "cell-a7f7dfea33663a11",
     "locked": false,
     "schema_version": 3,
     "solution": true,
     "task": false
    }
   },
   "outputs": [
    {
     "name": "stdout",
     "output_type": "stream",
     "text": [
      "[ 7. -3.  2.]\n",
      "[-576. -576.   49.]\n"
     ]
    }
   ],
   "source": [
    "### BEGIN SOLUTION\n",
    "spx = np.roots(np.polyder(mypoly))\n",
    "spy = np.polyval(mypoly,spx)\n",
    "### END SOLUTION\n",
    "print(spx)\n",
    "print(spy)"
   ]
  },
  {
   "cell_type": "code",
   "execution_count": 157,
   "id": "42403e46",
   "metadata": {
    "nbgrader": {
     "grade": true,
     "grade_id": "cell-785811b5247a03e3",
     "locked": true,
     "points": 2,
     "schema_version": 3,
     "solution": false,
     "task": false
    }
   },
   "outputs": [
    {
     "name": "stdout",
     "output_type": "stream",
     "text": [
      "Correct value for spx\n",
      "Correct value for spy\n"
     ]
    },
    {
     "data": {
      "text/plain": "2"
     },
     "execution_count": 157,
     "metadata": {},
     "output_type": "execute_result"
    }
   ],
   "source": [
    "# 2 Marks\n",
    "# Do not try to delete this cell\n",
    "# Run this cell for grading\n",
    "_globals = globals()\n",
    "question6d(_globals)"
   ]
  },
  {
   "cell_type": "markdown",
   "id": "ffa3f9d2",
   "metadata": {
    "nbgrader": {
     "grade": false,
     "grade_id": "cell-de16c4fa6dc14c75",
     "locked": true,
     "schema_version": 3,
     "solution": false,
     "task": false
    }
   },
   "source": [
    "(e) Create a plot of `mypoly` for $-6\\le x \\le 10$, showing the positions of the three stationary points you found above. Use exactly 200 points on the plot."
   ]
  },
  {
   "cell_type": "code",
   "execution_count": 158,
   "id": "7eaa874f",
   "metadata": {
    "nbgrader": {
     "grade": false,
     "grade_id": "cell-86800ef188199ebe",
     "locked": false,
     "schema_version": 3,
     "solution": true,
     "task": false
    }
   },
   "outputs": [
    {
     "data": {
      "text/plain": "[<matplotlib.lines.Line2D at 0x2a75fcc50f0>,\n <matplotlib.lines.Line2D at 0x2a75fcc5210>]"
     },
     "execution_count": 158,
     "metadata": {},
     "output_type": "execute_result"
    },
    {
     "data": {
      "text/plain": "<Figure size 640x480 with 1 Axes>",
      "image/png": "[encoded data removed]"
     },
     "metadata": {},
     "output_type": "display_data"
    }
   ],
   "source": [
    "### BEGIN SOLUTION\n",
    "xvals = np.linspace(-6,10,200)\n",
    "yvals = np.polyval(mypoly, xvals)\n",
    "fig, ax = plt.subplots()\n",
    "plt.plot(xvals,yvals,'',spx,spy,'.r')\n",
    "### END SOLUTION"
   ]
  },
  {
   "cell_type": "code",
   "execution_count": 159,
   "id": "55d99fc5",
   "metadata": {
    "nbgrader": {
     "grade": true,
     "grade_id": "cell-2a1ac9e55709699f",
     "locked": true,
     "points": 2,
     "schema_version": 3,
     "solution": false,
     "task": false
    }
   },
   "outputs": [
    {
     "name": "stdout",
     "output_type": "stream",
     "text": [
      "Your plot seems to show both the curve and its stationary points\n",
      "Correct points for the curve\n",
      "Correct stationary points\n"
     ]
    },
    {
     "data": {
      "text/plain": "2"
     },
     "execution_count": 159,
     "metadata": {},
     "output_type": "execute_result"
    }
   ],
   "source": [
    "# 2 Marks\n",
    "_globals = globals()\n",
    "question6e_plot(_globals)"
   ]
  },
  {
   "cell_type": "markdown",
   "id": "50624877",
   "metadata": {
    "nbgrader": {
     "grade": false,
     "grade_id": "cell-3497e996eadbab03",
     "locked": true,
     "schema_version": 3,
     "solution": false,
     "task": false
    }
   },
   "source": [
    "## Bonus Question, Part 1\n",
    "\n",
    "Write a function `root_finder`, which takes as inputs the lambda-expressions `f` and `df` (representing a function and its derivative), the left and right endpoints `a` and `b` respectively, and a tolerance `tol`. The function should implement BOTH the bisection method and Newton's method; the bisection method should use the initial interval `(a, b)`, and Newton's method should use the initial value `(a + b)/2`. \n",
    "\n",
    "In the case of the bisection method, iteration should continue for as long as the interval length is greater than the tolerance; in the case of Newton's method, iteration should continue for as long as the difference between successive iterates is greater than the tolerance.\n",
    "\n",
    "Your function should return the final approximation to the root as well as the number of iterations required to achieve the approximation for each method. The returned values should be of the form: `bisection_approx, bisection_iterations, newton_approx, newton_iterations`. The bisection search should return the midpoint of the final interval."
   ]
  },
  {
   "cell_type": "code",
   "execution_count": 160,
   "id": "470b8a16",
   "metadata": {
    "nbgrader": {
     "grade": false,
     "grade_id": "cell-82740cb38e52ea64",
     "locked": false,
     "schema_version": 3,
     "solution": true,
     "task": false
    }
   },
   "outputs": [],
   "source": [
    "def root_finder(f, g, a, b, tol):\n",
    "    ### BEGIN SOLUTION\n",
    "    return (bisection(f, a, b, tol) + newton_method(f, g, (a+b)/2, tol))      \n",
    "    \n",
    "def bisection(f, a, b, tol):\n",
    "        it = 0\n",
    "        while b-a > tol:\n",
    "                c = 0.5*(a + b)\n",
    "                if f(a)*f(c) < 0:\n",
    "                    b = c\n",
    "                else:\n",
    "                    a = c\n",
    "                it += 1\n",
    "        return 0.5*(a + b), it\n",
    "    \n",
    "    \n",
    "def newton_method(f, g, x0, tol):\n",
    "        xnew = x0 - (f(x0)/g(x0))\n",
    "        it   = 1\n",
    "        while abs(xnew - x0) > tol:\n",
    "            x0   = xnew\n",
    "            xnew = x0 - (f(x0)/g(x0))\n",
    "            it  += 1\n",
    "        return xnew, it\n",
    "     ### END SOLUTION\n"
   ]
  },
  {
   "cell_type": "code",
   "execution_count": 161,
   "id": "202211e8",
   "metadata": {
    "nbgrader": {
     "grade": true,
     "grade_id": "cell-b261b86d49ae6b3c",
     "locked": true,
     "points": 1,
     "schema_version": 3,
     "solution": false,
     "task": false
    }
   },
   "outputs": [
    {
     "name": "stdout",
     "output_type": "stream",
     "text": [
      "Test case: correct estimate returned by bisection method!\n"
     ]
    }
   ],
   "source": [
    "# Run this test cell to check your code\n",
    "# Do not delete this cell\n",
    "# 1 Mark\n",
    "f1     = lambda x: x**2 - 2\n",
    "df1     = lambda x: 2*x\n",
    "a1     = 0\n",
    "b1     = 3\n",
    "tol1   = 1e-7\n",
    "\n",
    "npt.assert_almost_equal(1.4142135232686996, root_finder(f1, df1, a1, b1, tol1)[0])\n",
    "print(\"Test case: correct estimate returned by bisection method!\")"
   ]
  },
  {
   "cell_type": "code",
   "execution_count": 162,
   "id": "a5ae99c4",
   "metadata": {
    "nbgrader": {
     "grade": true,
     "grade_id": "cell-c8cce025f525fa72",
     "locked": true,
     "points": 1,
     "schema_version": 3,
     "solution": false,
     "task": false
    }
   },
   "outputs": [
    {
     "name": "stdout",
     "output_type": "stream",
     "text": [
      "Test case: right number of iterations performed by bisection method!\n"
     ]
    }
   ],
   "source": [
    "# Run this test cell to check your code\n",
    "# Do not delete this cell\n",
    "# 1 Mark\n",
    "f1     = lambda x: x**2 - 2\n",
    "df1     = lambda x: 2*x\n",
    "a1     = 0\n",
    "b1     = 3\n",
    "tol1   = 1e-7\n",
    "\n",
    "bisection_its = root_finder(f1, df1, a1, b1, tol1)[1]\n",
    "assert(bisection_its >= 24 and bisection_its <= 26)\n",
    "print(\"Test case: right number of iterations performed by bisection method!\")"
   ]
  },
  {
   "cell_type": "code",
   "execution_count": 163,
   "id": "ecd52d81",
   "metadata": {
    "nbgrader": {
     "grade": true,
     "grade_id": "cell-1c15c3b7067120e0",
     "locked": true,
     "points": 1,
     "schema_version": 3,
     "solution": false,
     "task": false
    }
   },
   "outputs": [
    {
     "name": "stdout",
     "output_type": "stream",
     "text": [
      "Test case: correct estimate returned by Newton's method!\n"
     ]
    }
   ],
   "source": [
    "# Run this test cell to check your code\n",
    "# Do not delete this cell\n",
    "# 1 Mark\n",
    "f1     = lambda x: x**2 - 2\n",
    "df1     = lambda x: 2*x\n",
    "a1     = 0\n",
    "b1     = 3\n",
    "tol1   = 1e-7\n",
    "\n",
    "npt.assert_almost_equal(1.4142135623730951, root_finder(f1, df1, a1, b1, tol1)[2])\n",
    "print(\"Test case: correct estimate returned by Newton's method!\")"
   ]
  },
  {
   "cell_type": "code",
   "execution_count": 164,
   "id": "b8c5733c",
   "metadata": {
    "nbgrader": {
     "grade": true,
     "grade_id": "cell-80848991afe48990",
     "locked": true,
     "points": 1,
     "schema_version": 3,
     "solution": false,
     "task": false
    }
   },
   "outputs": [
    {
     "name": "stdout",
     "output_type": "stream",
     "text": [
      "Test case: right number of iterations performed by Newton's method!\n"
     ]
    }
   ],
   "source": [
    "# Run this test cell to check your code\n",
    "# Do not delete this cell\n",
    "# 1 Mark\n",
    "f1     = lambda x: x**2 - 2\n",
    "df1     = lambda x: 2*x\n",
    "a1     = 0\n",
    "b1     = 3\n",
    "tol1   = 1e-7\n",
    "\n",
    "newton_its = root_finder(f1, df1, a1, b1, tol1)[3]\n",
    "assert(newton_its >= 3 and newton_its <= 5)\n",
    "print(\"Test case: right number of iterations performed by Newton's method!\")"
   ]
  },
  {
   "cell_type": "code",
   "execution_count": 165,
   "id": "3f27964e",
   "metadata": {
    "nbgrader": {
     "grade": true,
     "grade_id": "cell-30cbf63266ef19bd",
     "locked": true,
     "points": 2,
     "schema_version": 3,
     "solution": false,
     "task": false
    }
   },
   "outputs": [
    {
     "name": "stdout",
     "output_type": "stream",
     "text": [
      "Hidden test case passed!!!\n"
     ]
    }
   ],
   "source": [
    "# Run this test cell to check your code\n",
    "# Do not delete this cell\n",
    "# 2 Marks\n",
    "### BEGIN HIDDEN TESTS\n",
    "f2 = lambda x: np.exp(x) - 2*x**2 + 3*x\n",
    "df2 = lambda x: 3 + np.exp(x) - 4*x\n",
    "a2 = -2\n",
    "b2 = 1\n",
    "tol2 = 1e-7\n",
    "\n",
    "rf = root_finder(f2, df2, a2, b2, tol2)\n",
    "assert(\n",
    "    np.isclose(-0.22973136603832245, rf[0]) and rf[1]>=24 and rf[1]<=26 and np.isclose(-0.22973135981918785, rf[2]) and rf[3] >= 3 and rf[3] <= 5\n",
    ")\n",
    "print('Hidden test case passed!!!')\n",
    "### END HIDDEN TESTS"
   ]
  },
  {
   "cell_type": "markdown",
   "id": "5a44af06",
   "metadata": {
    "nbgrader": {
     "grade": false,
     "grade_id": "cell-096b32680d0473a7",
     "locked": true,
     "schema_version": 3,
     "solution": false,
     "task": false
    }
   },
   "source": [
    "## Bonus Question, Part 2\n",
    "\n",
    "Usually, Newton's method outperforms interval bisection, but this isn't invariably the case. Investigate the convergence of both methods to the zero, between $x=0$ and $x=1$, of $f_2(x)=\\sin^3(x+3)$; use $a=0$ and $b=1$, and a tolerance of $10^{-7}$.\n",
    "\n",
    "Why exactly does Newton's method do so badly here?\n",
    "\n",
    "Using what you've learnt, find a polynomial function $f_3$ with a zero at exactly $x=\\sqrt{2}$ to which both methods converge (using $a=1$, $b=2$ and a tolerance of $10^{-7}$) but to which Newton's method converges <em>much</em> more slowly than interval bisection, taking more than twice as many iterations."
   ]
  },
  {
   "cell_type": "code",
   "execution_count": 166,
   "id": "cd7c1480",
   "metadata": {
    "nbgrader": {
     "grade": false,
     "grade_id": "cell-3ebd1f2ce560178f",
     "locked": false,
     "schema_version": 3,
     "solution": true,
     "task": false
    }
   },
   "outputs": [],
   "source": [
    "### BEGIN SOLUTION\n",
    "f3 = lambda x: (x**2-2)**5\n",
    "df3 = lambda x: 10*x*(x**2-2)**4\n",
    "### END SOLUTION"
   ]
  },
  {
   "cell_type": "code",
   "execution_count": 168,
   "id": "5f9fddcf",
   "metadata": {
    "nbgrader": {
     "grade": true,
     "grade_id": "cell-9c964721a4dd68a7",
     "locked": true,
     "points": 2,
     "schema_version": 3,
     "solution": false,
     "task": false
    }
   },
   "outputs": [
    {
     "name": "stdout",
     "output_type": "stream",
     "text": [
      "Test passed!\n"
     ]
    }
   ],
   "source": [
    "a3 = 1\n",
    "b3 = 2\n",
    "tol3 = 1e-7\n",
    "\n",
    "rf3 = root_finder(f3, df3, a3, b3, tol3)\n",
    "assert(rf3[3] > 2*rf3[1])\n",
    "print(\"Test passed!\")"
   ]
  },
  {
   "cell_type": "code",
   "execution_count": 167,
   "id": "69209a47",
   "metadata": {},
   "outputs": [],
   "source": []
  }
 ],
 "metadata": {
  "celltoolbar": "Create Assignment",
  "kernelspec": {
   "display_name": "Python 3 (ipykernel)",
   "language": "python",
   "name": "python3"
  },
  "language_info": {
   "codemirror_mode": {
    "name": "ipython",
    "version": 3
   },
   "file_extension": ".py",
   "mimetype": "text/x-python",
   "name": "python",
   "nbconvert_exporter": "python",
   "pygments_lexer": "ipython3",
   "version": "3.10.12"
  }
 },
 "nbformat": 4,
 "nbformat_minor": 5
}
