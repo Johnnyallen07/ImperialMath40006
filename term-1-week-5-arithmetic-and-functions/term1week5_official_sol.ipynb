{
 "cells": [
  {
   "cell_type": "code",
   "execution_count": 1,
   "metadata": {},
   "outputs": [
    {
     "name": "stdout",
     "output_type": "stream",
     "text": [
      "Autograder loaded successfully!\n",
      "Remember to always restart and run all from the Kernel menu before submitting!\n"
     ]
    }
   ],
   "source": [
    "import time\n",
    "from autograder_term1week5 import *\n",
    "_globals = globals()"
   ]
  },
  {
   "cell_type": "markdown",
   "metadata": {
    "nbgrader": {
     "grade": false,
     "grade_id": "cell-44c85011eb10c717",
     "locked": true,
     "schema_version": 3,
     "solution": false,
     "task": false
    }
   },
   "source": [
    "# <center> Introduction to Mathematical Computing </center>\n",
    "### <center>Phil Ramsden </center>\n",
    "\n",
    "# <center> Worksheet 1: Arithmetic and functions </center>\n",
    "\n",
    "**NOTE:** When answering a question, remember to remove the `raise NotImplementedError()` line.\n",
    "\n",
    "Don't forget: online Python documentation is at <a href='https://docs.python.org'>docs.python.org</a> and <a href='https://www.w3schools.com/python/'>www.w3schools.com/python/</a>."
   ]
  },
  {
   "cell_type": "markdown",
   "metadata": {
    "nbgrader": {
     "grade": false,
     "grade_id": "cell-b69c3840c8ebe2d3",
     "locked": true,
     "schema_version": 3,
     "solution": false,
     "task": false
    }
   },
   "source": [
    "## Question 0: don't miss this bit!\n",
    "\n",
    "In the file called `my_username.txt`, type your <b>short-form College user name</b> (this will usually be one or more letters followed by three or more figures, such as qk4019). Don't use quote marks. Then save the file."
   ]
  },
  {
   "cell_type": "code",
   "execution_count": 2,
   "metadata": {
    "nbgrader": {
     "grade": true,
     "grade_id": "cell-7383640690456bdc",
     "locked": true,
     "points": 5,
     "schema_version": 3,
     "solution": false,
     "task": false
    }
   },
   "outputs": [
    {
     "name": "stdout",
     "output_type": "stream",
     "text": [
      "You've changed the contents of the file; thank you!\n",
      "Your username has been recognised; thank you!\n",
      "\n",
      "5 out of 5 marks\n"
     ]
    },
    {
     "data": {
      "text/plain": "5"
     },
     "execution_count": 2,
     "metadata": {},
     "output_type": "execute_result"
    }
   ],
   "source": [
    "# 5 Marks\n",
    "# Do not try to delete this cell\n",
    "# Run this cell for grading of Question 0\n",
    "_globals = globals()\n",
    "question0(_globals)"
   ]
  },
  {
   "cell_type": "markdown",
   "metadata": {
    "nbgrader": {
     "grade": false,
     "grade_id": "cell-b3f8900b4ec047d7",
     "locked": true,
     "schema_version": 3,
     "solution": false,
     "task": false
    }
   },
   "source": [
    "## Question 1(i)\n",
    "\n",
    "Calculate: \n",
    "\n",
    "(a) $4^2+1$;\n",
    "(b) $4^{2+1}$;\n",
    "(c) $2/3$ as a decimal;\n",
    "(d) the largest integer smaller than $381/47$;\n",
    "(e) $4 \\times 2^5$;\n",
    "(f) $(4 \\times 2)^5$."
   ]
  },
  {
   "cell_type": "code",
   "execution_count": 3,
   "metadata": {
    "nbgrader": {
     "grade": false,
     "grade_id": "cell-bcf9158f78bdb3a6",
     "locked": false,
     "schema_version": 3,
     "solution": true,
     "task": false
    }
   },
   "outputs": [],
   "source": [
    "# Assign your solutions to the questions above to the variables below.\n",
    "### BEGIN SOLUTION\n",
    "q1ia_answer = 4**2 + 1\n",
    "q1ib_answer = 4**(2+1)\n",
    "q1ic_answer = 2/3\n",
    "q1id_answer = 381//47\n",
    "q1ie_answer = 4*2**5\n",
    "q1if_answer = (4*2)**5\n",
    "### END SOLUTION"
   ]
  },
  {
   "cell_type": "code",
   "execution_count": 4,
   "metadata": {
    "nbgrader": {
     "grade": true,
     "grade_id": "cell-b12f71f8ddaf1387",
     "locked": true,
     "points": 6,
     "schema_version": 3,
     "solution": false,
     "task": false
    }
   },
   "outputs": [
    {
     "name": "stdout",
     "output_type": "stream",
     "text": [
      "Question 1(i)a passed!\n",
      "Question 1(i)b passed!\n",
      "Question 1(i)c passed!\n",
      "Question 1(i)d passed!\n",
      "Question 1(i)e passed!\n",
      "Question 1(i)f passed!\n",
      "6 out of 6 tests passed\n"
     ]
    },
    {
     "data": {
      "text/plain": "6"
     },
     "execution_count": 4,
     "metadata": {},
     "output_type": "execute_result"
    }
   ],
   "source": [
    "# 6 Marks\n",
    "# Do not try to delete this cell\n",
    "# Run this cell for grading\n",
    "_globals = globals()\n",
    "question1(_globals)"
   ]
  },
  {
   "cell_type": "markdown",
   "metadata": {
    "nbgrader": {
     "grade": false,
     "grade_id": "cell-8dfb5cc6a7f5666e",
     "locked": true,
     "schema_version": 3,
     "solution": false,
     "task": false
    }
   },
   "source": [
    "## Question 1(ii)\n",
    "\n",
    "Calculate:\n",
    "\n",
    "(a) The residue of $372517$ modulo $1820$.\n",
    "\n",
    "(b) The residue of $(1417456 + 1191761)$ modulo $1820$.\n",
    "\n",
    "(c) The residue of $(1417456 \\times 1191761)$ modulo $1820$.\n",
    "\n",
    "(d) The residue of $1417456^{1191761}$ modulo $1820$ (for best results use the <code>pow</code> function with three arguments)."
   ]
  },
  {
   "cell_type": "code",
   "execution_count": 5,
   "metadata": {
    "nbgrader": {
     "grade": false,
     "grade_id": "cell-593c9367c3c6115a",
     "locked": false,
     "schema_version": 3,
     "solution": true,
     "task": false
    }
   },
   "outputs": [],
   "source": [
    "# Assign your solutions to the questions above to the below variables.\n",
    "### BEGIN SOLUTION\n",
    "q1iia_answer = 372517 % 1820\n",
    "q1iib_answer = (1417456 + 1191761) % 1820\n",
    "q1iic_answer = (1417456 * 1191761) % 1820\n",
    "start = time.time()\n",
    "q1iid_answer = pow(1417456, 1191761, 1820)\n",
    "duration = time.time() - start\n",
    "### END SOLUTION"
   ]
  },
  {
   "cell_type": "code",
   "execution_count": 6,
   "metadata": {
    "nbgrader": {
     "grade": true,
     "grade_id": "cell-d5ff3aef45b2ad85",
     "locked": true,
     "points": 5,
     "schema_version": 3,
     "solution": false,
     "task": false
    }
   },
   "outputs": [
    {
     "name": "stdout",
     "output_type": "stream",
     "text": [
      "Question 1(ii)a passed!\n",
      "Question 1(ii)b passed!\n",
      "Question 1(ii)c passed!\n",
      "Question 1(ii)d: Correct value!\n",
      "Question 1(ii)d: Quick execution time; you seem to have used pow!\n",
      "5 out of 5 tests passed\n"
     ]
    },
    {
     "data": {
      "text/plain": "5"
     },
     "execution_count": 6,
     "metadata": {},
     "output_type": "execute_result"
    }
   ],
   "source": [
    "# 5 Marks\n",
    "# Do not try to delete `this cell\n",
    "# Run this cell for grading\n",
    "_globals = globals()\n",
    "question1_ii(_globals)"
   ]
  },
  {
   "cell_type": "markdown",
   "metadata": {
    "nbgrader": {
     "grade": false,
     "grade_id": "cell-747815083de03188",
     "locked": true,
     "schema_version": 3,
     "solution": false,
     "task": false
    }
   },
   "source": [
    "## Question 2(i)\n",
    "\n",
    "Using the <code>math</code> module, calculate: (a) $\\sqrt{50}$; (b) $\\cos \\pi/7$; (c) $e^{e^2}$; (d) $\\ln 58$; (e) $\\log_{10} 58$; (f) $\\cot^{-1} 2$; (g) $\\coth^{-1} 2$."
   ]
  },
  {
   "cell_type": "code",
   "execution_count": 7,
   "metadata": {
    "nbgrader": {
     "grade": false,
     "grade_id": "cell-c725db911b14d4ee",
     "locked": false,
     "schema_version": 3,
     "solution": true,
     "task": false
    }
   },
   "outputs": [],
   "source": [
    "# begin by importing the necessary functions and constants from the math module\n",
    "# Assign your solutions to the questions above to the variables below.\n",
    "### BEGIN SOLUTION\n",
    "from math import sqrt, cos, pi, exp, log, log10, atan, atanh\n",
    "q2ia_answer = sqrt(50)\n",
    "q2ib_answer = cos(pi/7)\n",
    "q2ic_answer = exp(exp(2))\n",
    "q2id_answer = log(58)\n",
    "q2ie_answer = log10(58)\n",
    "q2if_answer = atan(1/2)\n",
    "q2ig_answer = atanh(1/2)\n",
    "### END SOLUTION"
   ]
  },
  {
   "cell_type": "code",
   "execution_count": 8,
   "metadata": {
    "nbgrader": {
     "grade": true,
     "grade_id": "cell-660c3f636dc0be36",
     "locked": true,
     "points": 7,
     "schema_version": 3,
     "solution": false,
     "task": false
    }
   },
   "outputs": [
    {
     "name": "stdout",
     "output_type": "stream",
     "text": [
      "Question 2(i)a passed!\n",
      "Question 2(i)b passed!\n",
      "Question 2(i)c passed!\n",
      "Question 2(i)d passed!\n",
      "Question 2(i)e passed!\n",
      "Question 2(i)f passed!\n",
      "Question 2(i)g passed!\n",
      "7 out of 7 tests passed\n"
     ]
    },
    {
     "data": {
      "text/plain": "7"
     },
     "execution_count": 8,
     "metadata": {},
     "output_type": "execute_result"
    }
   ],
   "source": [
    "# 7 Marks\n",
    "# Do not try to delete this cell\n",
    "# Run this cell for grading\n",
    "_globals = globals()\n",
    "question2_i(_globals)"
   ]
  },
  {
   "cell_type": "markdown",
   "metadata": {
    "nbgrader": {
     "grade": false,
     "grade_id": "cell-8d0e444fb14bac60",
     "locked": true,
     "schema_version": 3,
     "solution": false,
     "task": false
    }
   },
   "source": [
    "## Question 2(ii)\n",
    "\n",
    "The <code>numpy</code> module contains many of the same functions as <code>math</code> (though they're slightly different, in ways we'll explore). Recalculate (a) - (g) using this module instead. (<em>Much</em> more about <code>numpy</code> later; note that it's not part of the standard Python library, so online documentation is at <a href='https://numpy.org'>numpy.org</a>.)"
   ]
  },
  {
   "cell_type": "code",
   "execution_count": 9,
   "metadata": {
    "nbgrader": {
     "grade": false,
     "grade_id": "cell-45ed8f2561c9f720",
     "locked": false,
     "schema_version": 3,
     "solution": true,
     "task": false
    }
   },
   "outputs": [],
   "source": [
    "# begin by importing the necessary functions and constants from the numpy module\n",
    "# Assign your solutions to the questions above to the variables below.\n",
    "### BEGIN SOLUTION\n",
    "from numpy import sqrt, cos, pi, exp, log, log10, arctan, arctanh\n",
    "q2iia_answer = sqrt(50)\n",
    "q2iib_answer = cos(pi/7)\n",
    "q2iic_answer = exp(exp(2))\n",
    "q2iid_answer = log(58)\n",
    "q2iie_answer = log10(58)\n",
    "q2iif_answer = arctan(1/2)\n",
    "q2iig_answer = arctanh(1/2)\n",
    "### END SOLUTION"
   ]
  },
  {
   "cell_type": "code",
   "execution_count": 10,
   "metadata": {
    "nbgrader": {
     "grade": true,
     "grade_id": "cell-6390293366653fbb",
     "locked": true,
     "points": 7,
     "schema_version": 3,
     "solution": false,
     "task": false
    }
   },
   "outputs": [
    {
     "name": "stdout",
     "output_type": "stream",
     "text": [
      "Question 2(ii)a passed!\n",
      "Question 2(ii)b passed!\n",
      "Question 2(ii)c passed!\n",
      "Question 2(ii)d passed!\n",
      "Question 2(ii)e passed!\n",
      "Question 2(ii)f passed!\n",
      "Question 2(ii)g passed!\n",
      "7 out of 7 tests passed\n"
     ]
    },
    {
     "data": {
      "text/plain": "7"
     },
     "execution_count": 10,
     "metadata": {},
     "output_type": "execute_result"
    }
   ],
   "source": [
    "# 7 Marks\n",
    "# Do not try to delete this cell\n",
    "# Run this cell for grading\n",
    "_globals = globals()\n",
    "question2_ii(_globals)"
   ]
  },
  {
   "cell_type": "markdown",
   "metadata": {
    "nbgrader": {
     "grade": false,
     "grade_id": "cell-561902afe142436b",
     "locked": true,
     "schema_version": 3,
     "solution": false,
     "task": false
    }
   },
   "source": [
    "## Question 3\n",
    "\n",
    "(a) Define variables $p=6$ and $q=9$, and calculate the quantity\n",
    "$$x=\\left(\\frac{q}{2}+\\sqrt{\\left[\\frac{q}{2}\\right]^2-\\left[\\frac{p}{3}\\right]^3}\\right)^{1/3}+\\left(\\frac{q}{2}-\\sqrt{\\left[\\frac{q}{2}\\right]^2-\\left[\\frac{p}{3}\\right]^3}\\right)^{1/3}.$$\n",
    "Verify Cardano's Theorem, that $x$ is a solution of the cubic\n",
    "$$x^3=p\\,x+q.$$"
   ]
  },
  {
   "cell_type": "code",
   "execution_count": 11,
   "metadata": {
    "nbgrader": {
     "grade": false,
     "grade_id": "cell-05998432c3deefe2",
     "locked": false,
     "schema_version": 3,
     "solution": true,
     "task": false
    }
   },
   "outputs": [],
   "source": [
    "# import any necessary functions\n",
    "# Assign your solutions to the questions above to the variables below.\n",
    "### BEGIN SOLUTION\n",
    "from math import sqrt\n",
    "p = 6\n",
    "q = 9\n",
    "x = (q/2 + sqrt((q/2)**2 - (p/3)**3))**(1/3) + (q/2 - sqrt((q/2)**2 - (p/3)**3))**(1/3)\n",
    "### END SOLUTION"
   ]
  },
  {
   "cell_type": "code",
   "execution_count": 12,
   "metadata": {
    "nbgrader": {
     "grade": true,
     "grade_id": "cell-721979068553d977",
     "locked": true,
     "points": 1,
     "schema_version": 3,
     "solution": false,
     "task": false
    }
   },
   "outputs": [
    {
     "name": "stdout",
     "output_type": "stream",
     "text": [
      "Question 3(a) passed!\n"
     ]
    }
   ],
   "source": [
    "#1 Mark\n",
    "assert(x == question3(p, q))\n",
    "print(\"Question 3(a) passed!\")"
   ]
  },
  {
   "cell_type": "markdown",
   "metadata": {
    "nbgrader": {
     "grade": false,
     "grade_id": "cell-5ac336c19d2557a1",
     "locked": true,
     "schema_version": 3,
     "solution": false,
     "task": false
    }
   },
   "source": [
    "(b) Repeat for $p=3$ and $q=18$."
   ]
  },
  {
   "cell_type": "code",
   "execution_count": 13,
   "metadata": {
    "nbgrader": {
     "grade": false,
     "grade_id": "cell-972547089f6b9cc6",
     "locked": false,
     "schema_version": 3,
     "solution": true,
     "task": false
    }
   },
   "outputs": [],
   "source": [
    "# import any necessary functions\n",
    "# Assign your solutions to the questions above to the variables below.\n",
    "### BEGIN SOLUTION\n",
    "from math import sqrt\n",
    "p = 3\n",
    "q = 18\n",
    "x = (q/2 + sqrt((q/2)**2 - (p/3)**3))**(1/3) + (q/2 - sqrt((q/2)**2 - (p/3)**3))**(1/3)\n",
    "### END SOLUTION"
   ]
  },
  {
   "cell_type": "code",
   "execution_count": 14,
   "metadata": {
    "nbgrader": {
     "grade": true,
     "grade_id": "cell-22cd955862519f1c",
     "locked": true,
     "points": 1,
     "schema_version": 3,
     "solution": false,
     "task": false
    }
   },
   "outputs": [
    {
     "name": "stdout",
     "output_type": "stream",
     "text": [
      "Question 3(b) passed!\n"
     ]
    }
   ],
   "source": [
    "#1 Mark\n",
    "assert(x == question3(p, q))\n",
    "print(\"Question 3(b) passed!\")"
   ]
  },
  {
   "cell_type": "markdown",
   "metadata": {
    "nbgrader": {
     "grade": false,
     "grade_id": "cell-620d14d93e3d5296",
     "locked": true,
     "schema_version": 3,
     "solution": false,
     "task": false
    }
   },
   "source": [
    "(c) If you try to repeat for $p=6$ and $q=4$, you may run into a problem. Can you solve it?"
   ]
  },
  {
   "cell_type": "code",
   "execution_count": 15,
   "metadata": {
    "nbgrader": {
     "grade": false,
     "grade_id": "cell-d7a2fd2365c71adf",
     "locked": false,
     "schema_version": 3,
     "solution": true,
     "task": false
    }
   },
   "outputs": [],
   "source": [
    "# import any necessary functions\n",
    "# Assign your solutions to the questions above to the variables below.\n",
    "### BEGIN SOLUTION\n",
    "from cmath import sqrt\n",
    "p = 6\n",
    "q = 4\n",
    "x = (q/2 + sqrt((q/2)**2 - (p/3)**3))**(1/3) + (q/2 - sqrt((q/2)**2 - (p/3)**3))**(1/3)\n",
    "### END SOLUTION"
   ]
  },
  {
   "cell_type": "code",
   "execution_count": 16,
   "metadata": {
    "nbgrader": {
     "grade": true,
     "grade_id": "cell-69e5c37ef72d2e4e",
     "locked": true,
     "points": 1,
     "schema_version": 3,
     "solution": false,
     "task": false
    }
   },
   "outputs": [
    {
     "name": "stdout",
     "output_type": "stream",
     "text": [
      "Question 3(c) passed!\n"
     ]
    }
   ],
   "source": [
    "#1 Mark\n",
    "assert(x == question3(p, q))\n",
    "print(\"Question 3(c) passed!\")"
   ]
  },
  {
   "cell_type": "markdown",
   "metadata": {
    "nbgrader": {
     "grade": false,
     "grade_id": "cell-a7f0075b5fd5a715",
     "locked": true,
     "schema_version": 3,
     "solution": false,
     "task": false
    }
   },
   "source": [
    "## Question 4\n",
    "\n",
    "Experiment with <b>integer division</b>, and answer the following question:\n",
    "\n",
    "For integers $a$ and $b$, the code\n",
    "\n",
    "<code>a // b</code>\n",
    "\n",
    "always returns\n",
    "\n",
    "1. The least integer greater than or equal to $a/b$;\n",
    "2. The greatest integer less than or equal to $a/b$;\n",
    "3. The nearest integer to $a/b$;\n",
    "4. The number $a/b$, rounded towards zero;\n",
    "5. The number $a/b$, rounded away from zero;\n",
    "6. None of these; it depends on the signs of $a$ and $b$."
   ]
  },
  {
   "cell_type": "code",
   "execution_count": 17,
   "metadata": {
    "nbgrader": {
     "grade": false,
     "grade_id": "cell-87d8b531ab5cfff5",
     "locked": false,
     "schema_version": 3,
     "solution": true,
     "task": false
    }
   },
   "outputs": [],
   "source": [
    "### BEGIN SOLUTION\n",
    "q4_answer = 2\n",
    "### END SOLUTION"
   ]
  },
  {
   "cell_type": "code",
   "execution_count": 18,
   "metadata": {
    "nbgrader": {
     "grade": true,
     "grade_id": "cell-2c3657af708f4b51",
     "locked": true,
     "points": 1,
     "schema_version": 3,
     "solution": false,
     "task": false
    }
   },
   "outputs": [
    {
     "name": "stdout",
     "output_type": "stream",
     "text": [
      "Question 4 passed!\n"
     ]
    }
   ],
   "source": [
    "#1 Mark\n",
    "assert(q4_answer == question4())\n",
    "print(\"Question 4 passed!\")"
   ]
  },
  {
   "cell_type": "markdown",
   "metadata": {
    "nbgrader": {
     "grade": false,
     "grade_id": "cell-eaeebe1c17ad4e8d",
     "locked": true,
     "schema_version": 3,
     "solution": false,
     "task": false
    }
   },
   "source": [
    "## Question 5 (i)\n",
    "\n",
    "The expressions (a) $\\sin^{-1}(-2)$; (b) $\\cos^{-1}(-2)$; (c) $\\tanh^{-1}(-2)$; (d) $\\ln(-2)$\n",
    "\n",
    "can all be given sensible mathematical values. Using functions from a suitable Python module, calculate these values."
   ]
  },
  {
   "cell_type": "code",
   "execution_count": 19,
   "metadata": {
    "nbgrader": {
     "grade": false,
     "grade_id": "cell-8de18ecb33e6d43d",
     "locked": false,
     "schema_version": 3,
     "solution": true,
     "task": false
    }
   },
   "outputs": [],
   "source": [
    "# Assign your solutions to the questions above to the variables below.\n",
    "### BEGIN SOLUTION\n",
    "from cmath import asin, acos, atanh, log\n",
    "q5ia_answer = asin(-2)\n",
    "q5ib_answer = acos(-2)\n",
    "q5ic_answer = atanh(-2)\n",
    "q5id_answer = log(-2)\n",
    "### END SOLUTION"
   ]
  },
  {
   "cell_type": "code",
   "execution_count": 20,
   "metadata": {
    "nbgrader": {
     "grade": true,
     "grade_id": "cell-68368eae35986782",
     "locked": true,
     "points": 4,
     "schema_version": 3,
     "solution": false,
     "task": false
    }
   },
   "outputs": [
    {
     "name": "stdout",
     "output_type": "stream",
     "text": [
      "Question 5(i)a passed!\n",
      "Question 5(i)b passed!\n",
      "Question 5(i)c passed!\n",
      "Question 5(i)d passed!\n",
      "4 out of 4 tests passed\n"
     ]
    },
    {
     "data": {
      "text/plain": "4"
     },
     "execution_count": 20,
     "metadata": {},
     "output_type": "execute_result"
    }
   ],
   "source": [
    "# 4 Marks\n",
    "# Do not try to delete this cell\n",
    "# Run this cell for grading\n",
    "_globals = globals()\n",
    "question5_i(_globals)"
   ]
  },
  {
   "cell_type": "markdown",
   "metadata": {
    "nbgrader": {
     "grade": false,
     "grade_id": "cell-00521d7e5c1c8dbd",
     "locked": true,
     "schema_version": 3,
     "solution": false,
     "task": false
    }
   },
   "source": [
    "## Question 5 (ii)\n",
    "\n",
    "The expressions (a) $\\sin^{-1}(-2)$; (b) $\\cos^{-1}(-2)$; (c) $\\tanh^{-1}(-2)$; (d) $\\ln(-2)$\n",
    "\n",
    "can actually all be calculated using only functions from the <code>numpy</code> module, though there's a bit of a trick to making it work. Find the trick, and make it work!"
   ]
  },
  {
   "cell_type": "code",
   "execution_count": 21,
   "metadata": {
    "nbgrader": {
     "grade": false,
     "grade_id": "cell-966f608a75b6df3f",
     "locked": false,
     "schema_version": 3,
     "solution": true,
     "task": false
    }
   },
   "outputs": [],
   "source": [
    "# Assign your solutions to the questions above to the variables below.\n",
    "### BEGIN SOLUTION\n",
    "from numpy import arcsin, arccos, arctanh, log\n",
    "q5iia_answer = arcsin(-2+0j)\n",
    "q5iib_answer = arccos(-2+0j)\n",
    "q5iic_answer = arctanh(-2+0j)\n",
    "q5iid_answer = log(-2+0j)\n",
    "### END SOLUTION"
   ]
  },
  {
   "cell_type": "code",
   "execution_count": 22,
   "metadata": {
    "nbgrader": {
     "grade": true,
     "grade_id": "cell-c794ccf9d2ca10bb",
     "locked": true,
     "points": 4,
     "schema_version": 3,
     "solution": false,
     "task": false
    }
   },
   "outputs": [
    {
     "name": "stdout",
     "output_type": "stream",
     "text": [
      "Question 5(ii)a passed!\n",
      "Question 5(ii)b passed!\n",
      "Question 5(ii)c passed!\n",
      "Question 5(ii)d passed!\n",
      "4 out of 4 tests passed\n"
     ]
    },
    {
     "data": {
      "text/plain": "4"
     },
     "execution_count": 22,
     "metadata": {},
     "output_type": "execute_result"
    }
   ],
   "source": [
    "# 4 Marks\n",
    "# Do not try to delete this cell\n",
    "# Run this cell for grading\n",
    "question5_ii(_globals)"
   ]
  },
  {
   "cell_type": "markdown",
   "metadata": {
    "nbgrader": {
     "grade": false,
     "grade_id": "cell-5235ed1797ad6d74",
     "locked": true,
     "schema_version": 3,
     "solution": false,
     "task": false
    }
   },
   "source": [
    "## Question 5 (iii)\n",
    "\n",
    "(a) Using the built-in `pow` function, calculate the residue of $7725423^{3835624}$ modulo $25231211$, assigning your answer to the variable `q5iiia_answer`."
   ]
  },
  {
   "cell_type": "code",
   "execution_count": 23,
   "metadata": {
    "nbgrader": {
     "grade": false,
     "grade_id": "cell-9c8b99fcd38bc268",
     "locked": false,
     "schema_version": 3,
     "solution": true,
     "task": false
    }
   },
   "outputs": [],
   "source": [
    "# Assign your solutions to the questions above to the variable below.\n",
    "### BEGIN SOLUTION\n",
    "question5iiia_answer = pow(7725423, 3835624, 25231211)\n",
    "### END SOLUTION"
   ]
  },
  {
   "cell_type": "code",
   "execution_count": 24,
   "metadata": {
    "nbgrader": {
     "grade": true,
     "grade_id": "cell-e00764f878a596d0",
     "locked": true,
     "points": 1,
     "schema_version": 3,
     "solution": false,
     "task": false
    }
   },
   "outputs": [
    {
     "name": "stdout",
     "output_type": "stream",
     "text": [
      "test case passed!\n"
     ]
    }
   ],
   "source": [
    "# 1 Mark\n",
    "assert(question5iiia_answer == question5_iii_a())\n",
    "print('test case passed!')"
   ]
  },
  {
   "cell_type": "markdown",
   "metadata": {
    "nbgrader": {
     "grade": false,
     "grade_id": "cell-96a67806dfc62c06",
     "locked": true,
     "schema_version": 3,
     "solution": false,
     "task": false
    }
   },
   "source": [
    "(b) Wild-card import all the functions from the `math` module as follows:"
   ]
  },
  {
   "cell_type": "code",
   "execution_count": 25,
   "metadata": {
    "nbgrader": {
     "grade": false,
     "grade_id": "cell-cccf802c90bec264",
     "locked": true,
     "schema_version": 3,
     "solution": false,
     "task": false
    }
   },
   "outputs": [],
   "source": [
    "from math import *"
   ]
  },
  {
   "cell_type": "markdown",
   "metadata": {
    "nbgrader": {
     "grade": false,
     "grade_id": "cell-c5c51c79dfcd8115",
     "locked": true,
     "schema_version": 3,
     "solution": false,
     "task": false
    }
   },
   "source": [
    "Then, attempt your calculation in part (a) for a second time, and note what happens. \n",
    "\n",
    "Explore a bit further if you like. How would you explain what has happened?\n",
    "\n",
    "<ol>\n",
    "    <li>Wild-card importing all the functions from the <code>math</code> module breaks the <code>pow</code> function; no function called <code>pow</code> is now available.</li>\n",
    "    <li>Wild-card importing all the functions from the <code>math</code> module produces a namespace clash between the function called <code>pow</code> that belongs to that module and the built-in function of the same name; from now on, only the <code>math</code> version works, and that can't be used to calculate modular powers.</li>\n",
    "    <li>Wild-card importing all the functions from the <code>math</code> module produces a namespace clash between the function called <code>pow</code> that belongs to that module and the built-in function of the same name; from now on, only the built-in version works, and that can't be used to calculate modular powers.</li>\n",
    "</ol>\n",
    "\n",
    "Fill in the correct numerical value, 1, 2 or 3, below."
   ]
  },
  {
   "cell_type": "code",
   "execution_count": 26,
   "metadata": {
    "nbgrader": {
     "grade": false,
     "grade_id": "cell-51434c057025b9dd",
     "locked": false,
     "schema_version": 3,
     "solution": true,
     "task": false
    }
   },
   "outputs": [],
   "source": [
    "### BEGIN SOLUTION\n",
    "question5iiib_answer = 2\n",
    "### END SOLUTION"
   ]
  },
  {
   "cell_type": "code",
   "execution_count": 27,
   "metadata": {
    "nbgrader": {
     "grade": true,
     "grade_id": "cell-b0a3a702d0ea9cfd",
     "locked": true,
     "points": 1,
     "schema_version": 3,
     "solution": false,
     "task": false
    }
   },
   "outputs": [
    {
     "name": "stdout",
     "output_type": "stream",
     "text": [
      "test case passed!\n"
     ]
    }
   ],
   "source": [
    "# 1 Mark\n",
    "assert(question5iiib_answer == question5_iii_b())\n",
    "print('test case passed!')"
   ]
  },
  {
   "cell_type": "markdown",
   "metadata": {
    "nbgrader": {
     "grade": false,
     "grade_id": "cell-3d8c777be61a4e64",
     "locked": true,
     "schema_version": 3,
     "solution": false,
     "task": false
    }
   },
   "source": [
    "(c) Try the following lines of code:"
   ]
  },
  {
   "cell_type": "code",
   "execution_count": 28,
   "metadata": {
    "nbgrader": {
     "grade": false,
     "grade_id": "cell-5377afcb43c8e112",
     "locked": true,
     "schema_version": 3,
     "solution": false,
     "task": false
    }
   },
   "outputs": [
    {
     "data": {
      "text/plain": "20666298"
     },
     "execution_count": 28,
     "metadata": {},
     "output_type": "execute_result"
    }
   ],
   "source": [
    "from math import *\n",
    "import builtins\n",
    "builtins.pow(7725423,3835624,25231211)"
   ]
  },
  {
   "cell_type": "markdown",
   "metadata": {
    "nbgrader": {
     "grade": false,
     "grade_id": "cell-19753822f21f4727",
     "locked": true,
     "schema_version": 3,
     "solution": false,
     "task": false
    }
   },
   "source": [
    "Which of the following statements is the closest to the truth?\n",
    "\n",
    "<ol>\n",
    "    <li>Once a built-in function has been overwritten in a namespace clash, it can't be used again unless the session is restarted.</li>\n",
    "    <li>Namespace clashes with built-in functions can be rectified by importing the <code>builtins</code> module, meaning that there's no need to worry about them.</li>\n",
    "    <li>Namespace clashes with built-in functions can be rectified by importing the <code>builtins</code> module, so they may not be fatal, but they're still worth taking care to avoid.</li>\n",
    "</ol>\n",
    "\n",
    "(This may be a bit of a matter of opinion; but our opinion on it is strong, and we bet you can guess it.)"
   ]
  },
  {
   "cell_type": "code",
   "execution_count": 29,
   "metadata": {
    "nbgrader": {
     "grade": false,
     "grade_id": "cell-786585eb3ddbb615",
     "locked": false,
     "schema_version": 3,
     "solution": true,
     "task": false
    }
   },
   "outputs": [],
   "source": [
    "### BEGIN SOLUTION\n",
    "question5iiic_answer = 3\n",
    "### END SOLUTION"
   ]
  },
  {
   "cell_type": "code",
   "execution_count": 30,
   "metadata": {
    "nbgrader": {
     "grade": true,
     "grade_id": "cell-f1e70db763174c19",
     "locked": true,
     "points": 1,
     "schema_version": 3,
     "solution": false,
     "task": false
    }
   },
   "outputs": [
    {
     "name": "stdout",
     "output_type": "stream",
     "text": [
      "test case passed!\n"
     ]
    }
   ],
   "source": [
    "# 1 Mark\n",
    "assert(question5iiic_answer == question5_iii_c())\n",
    "print('test case passed!')"
   ]
  },
  {
   "cell_type": "code",
   "execution_count": 30,
   "metadata": {},
   "outputs": [],
   "source": []
  }
 ],
 "metadata": {
  "celltoolbar": "Create Assignment",
  "kernelspec": {
   "display_name": "Python 3 (ipykernel)",
   "language": "python",
   "name": "python3"
  },
  "language_info": {
   "codemirror_mode": {
    "name": "ipython",
    "version": 3
   },
   "file_extension": ".py",
   "mimetype": "text/x-python",
   "name": "python",
   "nbconvert_exporter": "python",
   "pygments_lexer": "ipython3",
   "version": "3.10.12"
  }
 },
 "nbformat": 4,
 "nbformat_minor": 4
}
