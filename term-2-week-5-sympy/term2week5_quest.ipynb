{
 "cells": [
  {
   "cell_type": "code",
   "execution_count": null,
   "id": "e816966c",
   "metadata": {},
   "outputs": [],
   "source": [
    "from autograder_term2week5 import *\n",
    "_globals = globals()\n",
    "import sympy as sp\n",
    "sp.init_printing()\n",
    "import numpy as np\n",
    "import math\n",
    "import sympy.plotting as splt\n",
    "import matplotlib.pyplot as plt\n",
    "%matplotlib inline"
   ]
  },
  {
   "cell_type": "markdown",
   "id": "fb2f65b6",
   "metadata": {
    "deletable": false,
    "editable": false,
    "nbgrader": {
     "cell_type": "markdown",
     "checksum": "32fc483550b4d983ff6d123cc153406d",
     "grade": false,
     "grade_id": "cell-45efb17792322f1b",
     "locked": true,
     "schema_version": 3,
     "solution": false,
     "task": false
    }
   },
   "source": [
    "# <center> Introduction to Mathematical Computing </center>\n",
    "### <center>Phil Ramsden, Boumediene Hamzi, Sam Brzezicki, Matt Woolway</center>\n",
    "\n",
    "# <center> Worksheet 10: SymPy</center>"
   ]
  },
  {
   "cell_type": "markdown",
   "id": "95be6078",
   "metadata": {
    "deletable": false,
    "editable": false,
    "nbgrader": {
     "cell_type": "markdown",
     "checksum": "9cb60cdcb7855e997fa7afc590fdf5ff",
     "grade": false,
     "grade_id": "cell-28bc7a1075f0d431",
     "locked": true,
     "schema_version": 3,
     "solution": false,
     "task": false
    }
   },
   "source": [
    "## Question 0: don't miss this bit!\n",
    "\n",
    "In the file called `my_username.txt`, type your <b>short-form College user name</b> (this will usually be one or more letters followed by three or more figures, such as qk4019). Don't use quote marks. Then save the file."
   ]
  },
  {
   "cell_type": "code",
   "execution_count": null,
   "id": "3510e4be",
   "metadata": {
    "deletable": false,
    "editable": false,
    "nbgrader": {
     "cell_type": "code",
     "checksum": "c1c0f36d3d81bbbcb24421c8b57e0e63",
     "grade": true,
     "grade_id": "cell-edd6c6fe992ac654",
     "locked": true,
     "points": 5,
     "schema_version": 3,
     "solution": false,
     "task": false
    }
   },
   "outputs": [],
   "source": [
    "# 5 Marks\n",
    "# Do not try to delete this cell\n",
    "# Run this cell for grading of Question 0\n",
    "_globals = globals()\n",
    "question0(_globals)"
   ]
  },
  {
   "cell_type": "markdown",
   "id": "c5d201e7",
   "metadata": {
    "deletable": false,
    "editable": false,
    "nbgrader": {
     "cell_type": "markdown",
     "checksum": "a6984229d96617a69540cde5fac6d5a3",
     "grade": false,
     "grade_id": "cell-b80d0aefe35537ee",
     "locked": true,
     "schema_version": 3,
     "solution": false,
     "task": false
    }
   },
   "source": [
    "## Question 1(i)\n",
    "\n",
    "(a) Define `x` and `t` as SymPy symbolic variables."
   ]
  },
  {
   "cell_type": "code",
   "execution_count": null,
   "id": "eed39423",
   "metadata": {
    "deletable": false,
    "nbgrader": {
     "cell_type": "code",
     "checksum": "aed1d250722483a76d207ed5fefbfc86",
     "grade": false,
     "grade_id": "cell-3fc307878e1a9e93",
     "locked": false,
     "schema_version": 3,
     "solution": true,
     "task": false
    }
   },
   "outputs": [],
   "source": [
    "# YOUR CODE HERE\n",
    "raise NotImplementedError()\n",
    "\n",
    "(x, t)"
   ]
  },
  {
   "cell_type": "code",
   "execution_count": null,
   "id": "939f3bbb",
   "metadata": {
    "deletable": false,
    "editable": false,
    "nbgrader": {
     "cell_type": "code",
     "checksum": "b009e9513f6f632563a656fa043b5333",
     "grade": true,
     "grade_id": "cell-46337e404d685821",
     "locked": true,
     "points": 1,
     "schema_version": 3,
     "solution": false,
     "task": false
    }
   },
   "outputs": [],
   "source": [
    "# 1 Mark\n",
    "# Do not try to delete this cell\n",
    "# Run this cell for grading\n",
    "_globals = globals()\n",
    "question1ia(_globals)"
   ]
  },
  {
   "cell_type": "markdown",
   "id": "648dc44e",
   "metadata": {
    "deletable": false,
    "editable": false,
    "nbgrader": {
     "cell_type": "markdown",
     "checksum": "23b136686b1582aab7b2f3db36a2414b",
     "grade": false,
     "grade_id": "cell-4e223de2fc503a75",
     "locked": true,
     "schema_version": 3,
     "solution": false,
     "task": false
    }
   },
   "source": [
    "(b) Define `expr` as $(x-2)(x+1)(x-(2+i))(x-((2-i)).$ Use SymPy complex numbers."
   ]
  },
  {
   "cell_type": "code",
   "execution_count": null,
   "id": "23dbcaa4",
   "metadata": {
    "deletable": false,
    "nbgrader": {
     "cell_type": "code",
     "checksum": "753c5722d5887b1a792504c572719783",
     "grade": false,
     "grade_id": "cell-bf426dcc39f3a4ee",
     "locked": false,
     "schema_version": 3,
     "solution": true,
     "task": false
    }
   },
   "outputs": [],
   "source": [
    "# YOUR CODE HERE\n",
    "raise NotImplementedError()\n",
    "\n",
    "expr"
   ]
  },
  {
   "cell_type": "code",
   "execution_count": null,
   "id": "4abf1b9d",
   "metadata": {
    "deletable": false,
    "editable": false,
    "nbgrader": {
     "cell_type": "code",
     "checksum": "cbc07046fac70e1b0fdd4bcf5bd04659",
     "grade": true,
     "grade_id": "cell-da6e34ce755c07d0",
     "locked": true,
     "points": 1,
     "schema_version": 3,
     "solution": false,
     "task": false
    }
   },
   "outputs": [],
   "source": [
    "# 1 Mark\n",
    "# Do not try to delete this cell\n",
    "# Run this cell for grading\n",
    "_globals = globals()\n",
    "question1ib(_globals)"
   ]
  },
  {
   "cell_type": "markdown",
   "id": "1a2558ff",
   "metadata": {
    "deletable": false,
    "editable": false,
    "nbgrader": {
     "cell_type": "markdown",
     "checksum": "079caf5ffdddf2b7fd7dbbccc6f24c58",
     "grade": false,
     "grade_id": "cell-3769148446cc67df",
     "locked": true,
     "schema_version": 3,
     "solution": false,
     "task": false
    }
   },
   "source": [
    "(c) Expand `expr` to give `expr2`."
   ]
  },
  {
   "cell_type": "code",
   "execution_count": null,
   "id": "b8de6518",
   "metadata": {
    "deletable": false,
    "nbgrader": {
     "cell_type": "code",
     "checksum": "003557aa38c446dd4776823d959a87ce",
     "grade": false,
     "grade_id": "cell-483a179309921041",
     "locked": false,
     "schema_version": 3,
     "solution": true,
     "task": false
    }
   },
   "outputs": [],
   "source": [
    "# YOUR CODE HERE\n",
    "raise NotImplementedError()\n",
    "\n",
    "expr2"
   ]
  },
  {
   "cell_type": "code",
   "execution_count": null,
   "id": "91494f3e",
   "metadata": {
    "deletable": false,
    "editable": false,
    "nbgrader": {
     "cell_type": "code",
     "checksum": "2a9d0bd99e736e5cfbe8d15164f79447",
     "grade": true,
     "grade_id": "cell-c438c178b78dc472",
     "locked": true,
     "points": 1,
     "schema_version": 3,
     "solution": false,
     "task": false
    }
   },
   "outputs": [],
   "source": [
    "# 1 Mark\n",
    "# Do not try to delete this cell\n",
    "# Run this cell for grading\n",
    "_globals = globals()\n",
    "question1ic(_globals)"
   ]
  },
  {
   "cell_type": "markdown",
   "id": "acd0b400",
   "metadata": {
    "deletable": false,
    "editable": false,
    "nbgrader": {
     "cell_type": "markdown",
     "checksum": "632dda98e4b352e5b888b5721461f44b",
     "grade": false,
     "grade_id": "cell-391e188a898948af",
     "locked": true,
     "schema_version": 3,
     "solution": false,
     "task": false
    }
   },
   "source": [
    "(d) Find the zeros of `expr2` using `solve`; call the resulting object `expr2_zeros`."
   ]
  },
  {
   "cell_type": "code",
   "execution_count": null,
   "id": "46d4de01",
   "metadata": {
    "deletable": false,
    "nbgrader": {
     "cell_type": "code",
     "checksum": "cb9a46cc77b37e5c4c3bca93564636c0",
     "grade": false,
     "grade_id": "cell-275ab15d204f7c11",
     "locked": false,
     "schema_version": 3,
     "solution": true,
     "task": false
    }
   },
   "outputs": [],
   "source": [
    "# YOUR CODE HERE\n",
    "raise NotImplementedError()\n",
    "\n",
    "expr2_zeros"
   ]
  },
  {
   "cell_type": "code",
   "execution_count": null,
   "id": "ae2c57ec",
   "metadata": {
    "deletable": false,
    "editable": false,
    "nbgrader": {
     "cell_type": "code",
     "checksum": "d200bf21d0ca87f49f6137635e0f95d6",
     "grade": true,
     "grade_id": "cell-5007b7fef608950b",
     "locked": true,
     "points": 1,
     "schema_version": 3,
     "solution": false,
     "task": false
    }
   },
   "outputs": [],
   "source": [
    "# 1 Mark\n",
    "# Do not try to delete this cell\n",
    "# Run this cell for grading\n",
    "_globals = globals()\n",
    "question1id(_globals)"
   ]
  },
  {
   "cell_type": "markdown",
   "id": "6cf6979f",
   "metadata": {
    "deletable": false,
    "editable": false,
    "nbgrader": {
     "cell_type": "markdown",
     "checksum": "737a37321bd2e808c81a00b2df89599c",
     "grade": false,
     "grade_id": "cell-ac5eeb3ddb041bc1",
     "locked": true,
     "schema_version": 3,
     "solution": false,
     "task": false
    }
   },
   "source": [
    "(e) Find, as an exact SymPy rational, the integral of `expr2` between $-3$ and $3$; call this `int_expr`."
   ]
  },
  {
   "cell_type": "code",
   "execution_count": null,
   "id": "ec82de88",
   "metadata": {
    "deletable": false,
    "nbgrader": {
     "cell_type": "code",
     "checksum": "22bece759ac72d7dd3adee22b10a0eef",
     "grade": false,
     "grade_id": "cell-e6b86a8e3a14e459",
     "locked": false,
     "schema_version": 3,
     "solution": true,
     "task": false
    }
   },
   "outputs": [],
   "source": [
    "# YOUR CODE HERE\n",
    "raise NotImplementedError()\n",
    "\n",
    "int_expr"
   ]
  },
  {
   "cell_type": "code",
   "execution_count": null,
   "id": "334cafcd",
   "metadata": {
    "deletable": false,
    "editable": false,
    "nbgrader": {
     "cell_type": "code",
     "checksum": "81bc254e8d951d7e00eeb713f70fedc8",
     "grade": true,
     "grade_id": "cell-7572bb4ef99c4950",
     "locked": true,
     "points": 1,
     "schema_version": 3,
     "solution": false,
     "task": false
    }
   },
   "outputs": [],
   "source": [
    "# 1 Mark\n",
    "# Do not try to delete this cell\n",
    "# Run this cell for grading\n",
    "_globals = globals()\n",
    "question1ie(_globals)"
   ]
  },
  {
   "cell_type": "markdown",
   "id": "51b874ee",
   "metadata": {
    "deletable": false,
    "editable": false,
    "nbgrader": {
     "cell_type": "markdown",
     "checksum": "28424148649e399bc46d2ed3d465b854",
     "grade": false,
     "grade_id": "cell-0826fde60ca06c2d",
     "locked": true,
     "schema_version": 3,
     "solution": false,
     "task": false
    }
   },
   "source": [
    "(f) Set up `f` as an undefined SymPy function of $t$, and create an expression called `fexpr` which is $f(t)$ substituted into `expr2`."
   ]
  },
  {
   "cell_type": "code",
   "execution_count": null,
   "id": "16a7a148",
   "metadata": {
    "deletable": false,
    "nbgrader": {
     "cell_type": "code",
     "checksum": "8be989b32e074a18ed1e5286461e36cb",
     "grade": false,
     "grade_id": "cell-377f72b45c5c86d4",
     "locked": false,
     "schema_version": 3,
     "solution": true,
     "task": false
    }
   },
   "outputs": [],
   "source": [
    "# YOUR CODE HERE\n",
    "raise NotImplementedError()\n",
    "\n",
    "(f, fexpr)"
   ]
  },
  {
   "cell_type": "code",
   "execution_count": null,
   "id": "841e6795",
   "metadata": {
    "deletable": false,
    "editable": false,
    "nbgrader": {
     "cell_type": "code",
     "checksum": "53a15e093acd27c4d5457a4a7fba239c",
     "grade": true,
     "grade_id": "cell-81ba14e2362cb0d9",
     "locked": true,
     "points": 2,
     "schema_version": 3,
     "solution": false,
     "task": false
    }
   },
   "outputs": [],
   "source": [
    "# 2 Marks\n",
    "# Do not try to delete this cell\n",
    "# Run this cell for grading\n",
    "_globals = globals()\n",
    "question1if(_globals)"
   ]
  },
  {
   "cell_type": "markdown",
   "id": "e077f5ce",
   "metadata": {
    "deletable": false,
    "editable": false,
    "nbgrader": {
     "cell_type": "markdown",
     "checksum": "498a9f7fb25c8f27a408e3e84c67b28a",
     "grade": false,
     "grade_id": "cell-6c529616c7ba35dc",
     "locked": true,
     "schema_version": 3,
     "solution": false,
     "task": false
    }
   },
   "source": [
    "(g) Given that $x=f(t)$, find the general solution `gen_sol` of the ordinary differential equation\n",
    "\n",
    "$$\\frac{dx}{dt} = x^4-5x^3+7 x^2+3x-10,$$\n",
    "\n",
    "as an expression in $f(t)$. (Don't panic if this takes quite a long time to execute.)"
   ]
  },
  {
   "cell_type": "code",
   "execution_count": null,
   "id": "c5d38828",
   "metadata": {
    "deletable": false,
    "nbgrader": {
     "cell_type": "code",
     "checksum": "dc791e7f2922767388abcd7cbc1e85dc",
     "grade": false,
     "grade_id": "cell-5793e81f8df0d50e",
     "locked": false,
     "schema_version": 3,
     "solution": true,
     "task": false
    }
   },
   "outputs": [],
   "source": [
    "# YOUR CODE HERE\n",
    "raise NotImplementedError()\n",
    "\n",
    "gen_sol"
   ]
  },
  {
   "cell_type": "code",
   "execution_count": null,
   "id": "f45d375e",
   "metadata": {
    "deletable": false,
    "editable": false,
    "nbgrader": {
     "cell_type": "code",
     "checksum": "3fa23d634d6095c24510ad2cb7def115",
     "grade": true,
     "grade_id": "cell-da84d476dc222ea4",
     "locked": true,
     "points": 1,
     "schema_version": 3,
     "solution": false,
     "task": false
    }
   },
   "outputs": [],
   "source": [
    "# 1 Mark\n",
    "# Do not try to delete this cell\n",
    "# Run this cell for grading\n",
    "_globals = globals()\n",
    "question1ig(_globals)"
   ]
  },
  {
   "cell_type": "markdown",
   "id": "b2d03767",
   "metadata": {
    "deletable": false,
    "editable": false,
    "nbgrader": {
     "cell_type": "markdown",
     "checksum": "38b226a3a15cf3bea0068aa6d385baf6",
     "grade": false,
     "grade_id": "cell-d35459cdc666acf8",
     "locked": true,
     "schema_version": 3,
     "solution": false,
     "task": false
    }
   },
   "source": [
    "## Question 1 (ii)\n",
    "\n",
    "Autograding won't help for any of this!\n",
    "\n",
    "Using the functions `plot_parametric`, `plot_implicit`, `plot3d_parametric_line` and `plot3d_parametric_surface`, create plots of:\n",
    "\n",
    "(a) The Lissajous curve $x=\\cos(5\\theta), y= \\sin(3\\theta)$ for $0\\le \\theta \\le 2\\,\\pi$.\n",
    "\n",
    "(b) The implicit curve $y^2 = x^3-x$ for $-3\\le x \\le 3$.\n",
    "\n",
    "(c) A helix in 3d (just a line, not a surface).\n",
    "\n",
    "(d) The surface of a torus (ring doughnut or bagel shape).\n",
    "\n",
    "(e) A helix winding round a torus (just show the line, not the surface)."
   ]
  },
  {
   "cell_type": "code",
   "execution_count": null,
   "id": "f433977b",
   "metadata": {
    "deletable": false,
    "nbgrader": {
     "cell_type": "code",
     "checksum": "ad481083b4c1d52f9fca516833360b61",
     "grade": false,
     "grade_id": "cell-fe82240418492676",
     "locked": false,
     "schema_version": 3,
     "solution": true,
     "task": false
    }
   },
   "outputs": [],
   "source": [
    "# cell for part (a)\n",
    "# YOUR CODE HERE\n",
    "raise NotImplementedError()"
   ]
  },
  {
   "cell_type": "code",
   "execution_count": null,
   "id": "27df688b",
   "metadata": {
    "deletable": false,
    "nbgrader": {
     "cell_type": "code",
     "checksum": "9203abc7427c4906e26b3f502b208b11",
     "grade": false,
     "grade_id": "cell-d6b67b71f213baa7",
     "locked": false,
     "schema_version": 3,
     "solution": true,
     "task": false
    }
   },
   "outputs": [],
   "source": [
    "# cell for part (b)\n",
    "# YOUR CODE HERE\n",
    "raise NotImplementedError()"
   ]
  },
  {
   "cell_type": "code",
   "execution_count": null,
   "id": "ac0be170",
   "metadata": {
    "deletable": false,
    "nbgrader": {
     "cell_type": "code",
     "checksum": "9b7bb4a2f31bdd2291b8dcfd98fcc6cc",
     "grade": false,
     "grade_id": "cell-246db9ce9a41786f",
     "locked": false,
     "schema_version": 3,
     "solution": true,
     "task": false
    }
   },
   "outputs": [],
   "source": [
    "# cell for part (c)\n",
    "# YOUR CODE HERE\n",
    "raise NotImplementedError()"
   ]
  },
  {
   "cell_type": "code",
   "execution_count": null,
   "id": "05c7074e",
   "metadata": {
    "deletable": false,
    "nbgrader": {
     "cell_type": "code",
     "checksum": "35c1b6d008b0cd530103d4be8b1ad33b",
     "grade": false,
     "grade_id": "cell-8cbcc36f51eb8fa2",
     "locked": false,
     "schema_version": 3,
     "solution": true,
     "task": false
    }
   },
   "outputs": [],
   "source": [
    "# cell for part (d)\n",
    "# YOUR CODE HERE\n",
    "raise NotImplementedError()"
   ]
  },
  {
   "cell_type": "code",
   "execution_count": null,
   "id": "7b0607a9",
   "metadata": {
    "deletable": false,
    "nbgrader": {
     "cell_type": "code",
     "checksum": "c4dd3e63a19cfd9d93791bb2e6d7171c",
     "grade": false,
     "grade_id": "cell-07818c747e91e690",
     "locked": false,
     "schema_version": 3,
     "solution": true,
     "task": false
    }
   },
   "outputs": [],
   "source": [
    "# cell for part (e)\n",
    "# YOUR CODE HERE\n",
    "raise NotImplementedError()"
   ]
  },
  {
   "cell_type": "markdown",
   "id": "c58b1be6",
   "metadata": {
    "deletable": false,
    "editable": false,
    "nbgrader": {
     "cell_type": "markdown",
     "checksum": "6cdc2f2e89487a872a6114cfb9ce3e0b",
     "grade": false,
     "grade_id": "cell-831a74282856dfc0",
     "locked": true,
     "schema_version": 3,
     "solution": false,
     "task": false
    }
   },
   "source": [
    "## Question 2 (i)\n",
    "\n",
    "(a) Define variables $p=6$ and $q=9$ <em>as SymPy integers</em>, and calculate <em>using SymPy functions and rationals</em> the quantity\n",
    "$$x=\\left(\\frac{q}{2}+\\sqrt{\\left[\\frac{q}{2}\\right]^2-\\left[\\frac{p}{3}\\right]^3}\\right)^{1/3}+\\left(\\frac{q}{2}-\\sqrt{\\left[\\frac{q}{2}\\right]^2-\\left[\\frac{p}{3}\\right]^3}\\right)^{1/3}.$$\n",
    "Verify Cardano's Theorem, that $x$ is a solution of the cubic\n",
    "$$x^3=p\\,x+q.$$"
   ]
  },
  {
   "cell_type": "code",
   "execution_count": null,
   "id": "98b7aa82",
   "metadata": {
    "deletable": false,
    "nbgrader": {
     "cell_type": "code",
     "checksum": "2e45cbea160eb8bf9e893df503dd371a",
     "grade": false,
     "grade_id": "cell-fe73392b99dcc38d",
     "locked": false,
     "schema_version": 3,
     "solution": true,
     "task": false
    }
   },
   "outputs": [],
   "source": [
    "# YOUR CODE HERE\n",
    "raise NotImplementedError()\n",
    "\n",
    "(x, x**3, p*x+q)"
   ]
  },
  {
   "cell_type": "code",
   "execution_count": null,
   "id": "34b860dd",
   "metadata": {
    "deletable": false,
    "editable": false,
    "nbgrader": {
     "cell_type": "code",
     "checksum": "66f85a371407028e7b4934c48e838ae0",
     "grade": true,
     "grade_id": "cell-c4a58b62e61622f0",
     "locked": true,
     "points": 1,
     "schema_version": 3,
     "solution": false,
     "task": false
    }
   },
   "outputs": [],
   "source": [
    "# 1 Mark\n",
    "# Do not try to delete this cell\n",
    "# Run this cell for grading\n",
    "_globals = globals()\n",
    "question2ia(_globals)"
   ]
  },
  {
   "cell_type": "markdown",
   "id": "d8333a79",
   "metadata": {
    "deletable": false,
    "editable": false,
    "nbgrader": {
     "cell_type": "markdown",
     "checksum": "e23ec9b9813a7576f1a4684e427e3600",
     "grade": false,
     "grade_id": "cell-87057eb90263a83c",
     "locked": true,
     "schema_version": 3,
     "solution": false,
     "task": false
    }
   },
   "source": [
    "(b) Repeat for $p=3$ and $q=18$."
   ]
  },
  {
   "cell_type": "code",
   "execution_count": null,
   "id": "246c4bc7",
   "metadata": {
    "deletable": false,
    "nbgrader": {
     "cell_type": "code",
     "checksum": "28c8f860dc97ec77690b0ed42a219201",
     "grade": false,
     "grade_id": "cell-f81eea0fb1edb157",
     "locked": false,
     "schema_version": 3,
     "solution": true,
     "task": false
    }
   },
   "outputs": [],
   "source": [
    "# YOUR CODE HERE\n",
    "raise NotImplementedError()\n",
    "\n",
    "(x, x**3, p*x+q)"
   ]
  },
  {
   "cell_type": "code",
   "execution_count": null,
   "id": "93dade5e",
   "metadata": {
    "deletable": false,
    "editable": false,
    "nbgrader": {
     "cell_type": "code",
     "checksum": "4d5f269f31bc55054db8d31cd720a5f3",
     "grade": true,
     "grade_id": "cell-5727229a7d29a2da",
     "locked": true,
     "points": 1,
     "schema_version": 3,
     "solution": false,
     "task": false
    }
   },
   "outputs": [],
   "source": [
    "# 1 Mark\n",
    "# Do not try to delete this cell\n",
    "# Run this cell for grading\n",
    "_globals = globals()\n",
    "question2ib(_globals)"
   ]
  },
  {
   "cell_type": "markdown",
   "id": "5186f9fc",
   "metadata": {
    "deletable": false,
    "editable": false,
    "nbgrader": {
     "cell_type": "markdown",
     "checksum": "24936e6cc1508a45e5121284ddbcbc1f",
     "grade": false,
     "grade_id": "cell-30cd62a4adbe3eb3",
     "locked": true,
     "schema_version": 3,
     "solution": false,
     "task": false
    }
   },
   "source": [
    "(c) Which of the following is/are true?\n",
    "\n",
    "<ol>\n",
    "    <li>The values of $x^3$ and $p\\,x+q$ are not equal; this is a counterexample to the theorem.</li>\n",
    "    <li>The values of $x^3$ and $p\\,x+q$ are equal, as is revealed by typing <code>x ** 3 == p*x + q</code>.</li>\n",
    "    <li>The values of $x^3$ and $p\\,x+q$ are equal, as is revealed by typing <code>sp.simplify(x ** 3) == sp.simplify(p*x + q)</code>.</li>\n",
    "    <li>The values of $x^3$ and $p\\,x+q$ are equal, as is revealed by typing <code>sp.simplify(x ** 3 - (p*x + q)) == 0</code>.</li>\n",
    "    <li>The values of $x^3$ and $p\\,x+q$ are equal, as is revealed by typing <code>(x ** 3).equals(p*x + q)</code>.</li>\n",
    "</ol>\n",
    "\n",
    "Type in the correct answers enclosed in curly brackets: for example, if you think statements 1, 3 and 4 are true, type `{1, 3, 4}`."
   ]
  },
  {
   "cell_type": "code",
   "execution_count": null,
   "id": "fcf0579e",
   "metadata": {
    "deletable": false,
    "nbgrader": {
     "cell_type": "code",
     "checksum": "d9949b5b85b7963304e0c4f041b784a3",
     "grade": false,
     "grade_id": "cell-e3c878f032c8325e",
     "locked": false,
     "schema_version": 3,
     "solution": true,
     "task": false
    }
   },
   "outputs": [],
   "source": [
    "# YOUR CODE HERE\n",
    "raise NotImplementedError()\n",
    "\n",
    "q2ic_answer = # give the correct options in curly brackets"
   ]
  },
  {
   "cell_type": "code",
   "execution_count": null,
   "id": "5d66b8a0",
   "metadata": {
    "deletable": false,
    "editable": false,
    "nbgrader": {
     "cell_type": "code",
     "checksum": "d689946ab70d4fc6b78ba3ea679e03b6",
     "grade": true,
     "grade_id": "cell-1839617dea822581",
     "locked": true,
     "points": 1,
     "schema_version": 3,
     "solution": false,
     "task": false
    }
   },
   "outputs": [],
   "source": [
    "# 1 Mark\n",
    "# Do not try to delete this cell\n",
    "# Run this cell for grading\n",
    "_globals = globals()\n",
    "question2ic(_globals)"
   ]
  },
  {
   "cell_type": "markdown",
   "id": "bdf866bb",
   "metadata": {
    "deletable": false,
    "editable": false,
    "nbgrader": {
     "cell_type": "markdown",
     "checksum": "2bbf31352ba4d8c82455c75945fe265e",
     "grade": false,
     "grade_id": "cell-d1f6a08887714961",
     "locked": true,
     "schema_version": 3,
     "solution": false,
     "task": false
    }
   },
   "source": [
    "(d) The only real root of $x^3=3x+18$ is $x=3$. Which of the following is true?\n",
    "\n",
    "<ol>\n",
    "    <li>The numerical value of <code>x</code> found in this way is not $3$.</li>\n",
    "    <li>The numerical value of <code>x</code> found in this way is $3$, but this appears in an unhelpful form; however, if we simplify it using <code>simplify</code>, it becomes 3.</li>\n",
    "    <li>The numerical value of <code>x</code> found in this way is $3$, but this appears in an unhelpful form; moreover, if we simplify it using <code>simplify</code>, it does not become 3.</li>\n",
    "</ol>"
   ]
  },
  {
   "cell_type": "code",
   "execution_count": null,
   "id": "c15d7da5",
   "metadata": {
    "deletable": false,
    "nbgrader": {
     "cell_type": "code",
     "checksum": "ce2bba4230fc69f8d6b334ef63f91f9f",
     "grade": false,
     "grade_id": "cell-3e52f326323eb208",
     "locked": false,
     "schema_version": 3,
     "solution": true,
     "task": false
    }
   },
   "outputs": [],
   "source": [
    "# YOUR CODE HERE\n",
    "raise NotImplementedError()\n",
    "\n",
    "q2id_answer = # insert one of 1, 2 or 3"
   ]
  },
  {
   "cell_type": "code",
   "execution_count": null,
   "id": "c57e6c83",
   "metadata": {
    "deletable": false,
    "editable": false,
    "nbgrader": {
     "cell_type": "code",
     "checksum": "ab7eec94a04c1a05ffc5eedc54d1875d",
     "grade": true,
     "grade_id": "cell-ec841bfa442874f5",
     "locked": true,
     "points": 1,
     "schema_version": 3,
     "solution": false,
     "task": false
    }
   },
   "outputs": [],
   "source": [
    "# 1 Mark\n",
    "assert(q2id_answer == question2id())\n",
    "print('test case passed!')"
   ]
  },
  {
   "cell_type": "markdown",
   "id": "0eb3313e",
   "metadata": {
    "deletable": false,
    "editable": false,
    "nbgrader": {
     "cell_type": "markdown",
     "checksum": "023d0c2a962b1b8f09382fb061ad5cf1",
     "grade": false,
     "grade_id": "cell-5d4ffe8b3b8a91f9",
     "locked": true,
     "schema_version": 3,
     "solution": false,
     "task": false
    }
   },
   "source": [
    "The `simplify` subsubmodule of the `simplify` submodule of SymPy has a specialised function called `nthroot`, which attempts to compute a real $n$th root of a sum of surds; you can test it by typing, for example,\n",
    "\n",
    "```python\n",
    "from sympy.simplify.simplify import nthroot\n",
    "nthroot(-25+22*sp.sqrt(2), 3)\n",
    "```\n",
    "\n",
    "which should deliver a simple expression for the real cube root of $-25+22\\,\\sqrt{2}$.\n",
    "\n",
    "(e) Use this function instead of raising to fractional powers in order to calculate, for $p=3$ and $q=18$, the exact value of\n",
    "$$x=\\left(\\frac{q}{2}+\\sqrt{\\left[\\frac{q}{2}\\right]^2-\\left[\\frac{p}{3}\\right]^3}\\right)^{1/3}+\\left(\\frac{q}{2}-\\sqrt{\\left[\\frac{q}{2}\\right]^2-\\left[\\frac{p}{3}\\right]^3}\\right)^{1/3}.$$"
   ]
  },
  {
   "cell_type": "code",
   "execution_count": null,
   "id": "26c68e82",
   "metadata": {
    "deletable": false,
    "nbgrader": {
     "cell_type": "code",
     "checksum": "c9b9e14d15128a7f3c46c3eac40b6c7c",
     "grade": false,
     "grade_id": "cell-b93cdde30dc5adaa",
     "locked": false,
     "schema_version": 3,
     "solution": true,
     "task": false
    }
   },
   "outputs": [],
   "source": [
    "# YOUR CODE HERE\n",
    "raise NotImplementedError()\n",
    "\n",
    "(x, x**3, p*x+q)"
   ]
  },
  {
   "cell_type": "code",
   "execution_count": null,
   "id": "df237d62",
   "metadata": {
    "deletable": false,
    "editable": false,
    "nbgrader": {
     "cell_type": "code",
     "checksum": "25f4fecd315d8b53754965bd001f7670",
     "grade": true,
     "grade_id": "cell-0864f75752234de0",
     "locked": true,
     "points": 1,
     "schema_version": 3,
     "solution": false,
     "task": false
    }
   },
   "outputs": [],
   "source": [
    "# 1 Mark\n",
    "# Do not try to delete this cell\n",
    "# Run this cell for grading\n",
    "_globals = globals()\n",
    "question2ie(_globals)"
   ]
  },
  {
   "cell_type": "markdown",
   "id": "494bef6c",
   "metadata": {
    "deletable": false,
    "editable": false,
    "nbgrader": {
     "cell_type": "markdown",
     "checksum": "bb742b8db132a0ccb6f1a0305833460f",
     "grade": false,
     "grade_id": "cell-219d4091fea71477",
     "locked": true,
     "schema_version": 3,
     "solution": false,
     "task": false
    }
   },
   "source": [
    "(f) Investigate the case $p=6$, $q=4$, for which the cubic has three real roots. Which of the following is true?\n",
    "\n",
    "<ol>\n",
    "    <li>Cardano's method, used in this way with rational powers, finds none of the real roots.</li>\n",
    "    <li>Cardano's method, used in this way with rational powers, finds just one of the real roots, in a nicely simplified form.</li>\n",
    "    <li>Cardano's method, used in this way with rational powers, finds just one of the real roots, in an unhelpful form; it can be found in a nicely simplified form by using <code>nthroot</code> instead.</li>\n",
    "    <li>Cardano's method, used in this way with either rational powers or <code>nthroot</code>, finds just one of the real roots, in an unhelpful form; it can be found in a nicely simplified form by using <code>expand</code> with the keyword argument <code>complex</code> set to <code>True</code>.</li>\n",
    "</ol>"
   ]
  },
  {
   "cell_type": "code",
   "execution_count": null,
   "id": "c0a5dff2",
   "metadata": {
    "deletable": false,
    "nbgrader": {
     "cell_type": "code",
     "checksum": "c28fe12de6f4546387c86079439b67c0",
     "grade": false,
     "grade_id": "cell-80798a6234dd0146",
     "locked": false,
     "schema_version": 3,
     "solution": true,
     "task": false
    }
   },
   "outputs": [],
   "source": [
    "# YOUR CODE HERE\n",
    "raise NotImplementedError()\n",
    "\n",
    "(x,(x**3).expand(), p*x+q)"
   ]
  },
  {
   "cell_type": "code",
   "execution_count": null,
   "id": "5e734115",
   "metadata": {
    "deletable": false,
    "nbgrader": {
     "cell_type": "code",
     "checksum": "a48cc6f5c0f8d0234892b94e8f8e4b53",
     "grade": false,
     "grade_id": "cell-ba67312ebdc82ed6",
     "locked": false,
     "schema_version": 3,
     "solution": true,
     "task": false
    }
   },
   "outputs": [],
   "source": [
    "# YOUR CODE HERE\n",
    "raise NotImplementedError()\n",
    "\n",
    "q2if_answer = # insert one of 1, 2, 3, 4"
   ]
  },
  {
   "cell_type": "code",
   "execution_count": null,
   "id": "5842815c",
   "metadata": {
    "deletable": false,
    "editable": false,
    "nbgrader": {
     "cell_type": "code",
     "checksum": "b6b72ab6040ab9d5f9d980ac33975f37",
     "grade": true,
     "grade_id": "cell-2e05b4aa4b216e78",
     "locked": true,
     "points": 1,
     "schema_version": 3,
     "solution": false,
     "task": false
    }
   },
   "outputs": [],
   "source": [
    "# 1 Mark\n",
    "assert(q2if_answer == question2if())\n",
    "print('test case passed!')"
   ]
  },
  {
   "cell_type": "markdown",
   "id": "9b1b7863",
   "metadata": {
    "deletable": false,
    "editable": false,
    "nbgrader": {
     "cell_type": "markdown",
     "checksum": "b35671ff6caae89c2472fe5fa4cbe0e3",
     "grade": false,
     "grade_id": "cell-928318ae2882c590",
     "locked": true,
     "schema_version": 3,
     "solution": false,
     "task": false
    }
   },
   "source": [
    "## Question 2 (ii)\n",
    "\n",
    "Every real number $x$ can be expressed as a unique <b>continued fraction</b>,\n",
    "\n",
    "$$x = a_1 + \\frac{1}{a_2+\\frac{1}{a_3+\\frac{1}{a_4+\\dots}}}$$\n",
    "\n",
    "We can represent this by the sequence\n",
    "\n",
    "$$a_1, a_2, a_3, a_4, \\dots$$\n",
    "\n",
    "If $x$ is rational then this sequence is finite; otherwise it is infinite.\n",
    "\n",
    "The following function is for calculating continued fractions of positive real numbers, truncating if necessary after the sequence attains length `n`:"
   ]
  },
  {
   "cell_type": "code",
   "execution_count": null,
   "id": "9e17a3f5",
   "metadata": {
    "deletable": false,
    "editable": false,
    "nbgrader": {
     "cell_type": "code",
     "checksum": "7a07039652344e0fccc8f474c319a040",
     "grade": false,
     "grade_id": "cell-163f933ca5931f16",
     "locked": true,
     "schema_version": 3,
     "solution": false,
     "task": false
    }
   },
   "outputs": [],
   "source": [
    "def continued_fraction(x, n):\n",
    "    \"\"\"\n",
    "    Calculates the continued fraction of x up to a maximum of n terms\n",
    "    \"\"\"\n",
    "    cf = []\n",
    "    \n",
    "    for i in range(n):\n",
    "        intx = int(x)\n",
    "        \n",
    "        cf.append(intx)\n",
    "        \n",
    "        if x == intx:\n",
    "            return cf\n",
    "        \n",
    "        x = 1/(x-intx)\n",
    "        \n",
    "    return cf"
   ]
  },
  {
   "cell_type": "markdown",
   "id": "cf00c27c",
   "metadata": {
    "deletable": false,
    "editable": false,
    "nbgrader": {
     "cell_type": "markdown",
     "checksum": "d802b37ea9f502a442918f92c54350b4",
     "grade": false,
     "grade_id": "cell-1a7958c80af7c5f0",
     "locked": true,
     "schema_version": 3,
     "solution": false,
     "task": false
    }
   },
   "source": [
    "(a) Calculate continued fractions for the SymPy values of $\\pi$, $\\sqrt{2}$, $\\phi=(1+\\sqrt{5})/2$ and $22/7$ (as a Rational) with `n` set to 10. Call these, respectively, `pi_cf`, `sqrt2_cf`, `phi_cf` and `rat_cf`."
   ]
  },
  {
   "cell_type": "code",
   "execution_count": null,
   "id": "91032ce9",
   "metadata": {
    "deletable": false,
    "nbgrader": {
     "cell_type": "code",
     "checksum": "3409390133221ee6b733e3f0490687e2",
     "grade": false,
     "grade_id": "cell-1c236919c7c27450",
     "locked": false,
     "schema_version": 3,
     "solution": true,
     "task": false
    }
   },
   "outputs": [],
   "source": [
    "# YOUR CODE HERE\n",
    "raise NotImplementedError()\n",
    "\n",
    "print(pi_cf)\n",
    "print(sqrt2_cf)\n",
    "print(phi_cf)\n",
    "print(rat_cf)"
   ]
  },
  {
   "cell_type": "code",
   "execution_count": null,
   "id": "d8070f7d",
   "metadata": {
    "deletable": false,
    "editable": false,
    "nbgrader": {
     "cell_type": "code",
     "checksum": "1ac22c743ac8c0a60e0b41e90c8d44e9",
     "grade": true,
     "grade_id": "cell-1b35f93bb54360b5",
     "locked": true,
     "points": 4,
     "schema_version": 3,
     "solution": false,
     "task": false
    }
   },
   "outputs": [],
   "source": [
    "# 4 Marks\n",
    "# Do not try to delete this cell\n",
    "# Run this cell for grading\n",
    "_globals = globals()\n",
    "question2iia(_globals)"
   ]
  },
  {
   "cell_type": "markdown",
   "id": "e165d495",
   "metadata": {
    "deletable": false,
    "editable": false,
    "nbgrader": {
     "cell_type": "markdown",
     "checksum": "237095ec248af89a9de66c3d2588a8f3",
     "grade": false,
     "grade_id": "cell-d7e6b5c750b2a570",
     "locked": true,
     "schema_version": 3,
     "solution": false,
     "task": false
    }
   },
   "source": [
    "(b) Calculate continued fractions for the SymPy, NumPy and `math` values of $\\pi$, with `n` set to 50. Which of the following is true?\n",
    "\n",
    "<ol>\n",
    "    <li>All three values of $\\pi$ give the same continued fraction.</li>\n",
    "    <li>One of the three values of $\\pi$ gives a different continued fraction from the others, and this is the most reliable.</li>\n",
    "    <li>One of the three values of $\\pi$ gives a different continued fraction from the others, and this is the least reliable.</li>\n",
    "</ol>"
   ]
  },
  {
   "cell_type": "code",
   "execution_count": null,
   "id": "b80bbda1",
   "metadata": {
    "deletable": false,
    "nbgrader": {
     "cell_type": "code",
     "checksum": "97cb1cbb0668a05054fcee0b22216fab",
     "grade": false,
     "grade_id": "cell-0b9c39fec595a7f3",
     "locked": false,
     "schema_version": 3,
     "solution": true,
     "task": false
    }
   },
   "outputs": [],
   "source": [
    "# YOUR CODE HERE\n",
    "raise NotImplementedError()\n",
    "\n",
    "q2iib_answer = # insert one of 1, 2 or 3"
   ]
  },
  {
   "cell_type": "code",
   "execution_count": null,
   "id": "27f8a027",
   "metadata": {
    "deletable": false,
    "editable": false,
    "nbgrader": {
     "cell_type": "code",
     "checksum": "060c9318aa36e37f5bb0c73d7a6ce718",
     "grade": true,
     "grade_id": "cell-a9212ce720886bce",
     "locked": true,
     "points": 1,
     "schema_version": 3,
     "solution": false,
     "task": false
    }
   },
   "outputs": [],
   "source": [
    "# 1 Mark\n",
    "assert(q2iib_answer == question2iib())\n",
    "print('test case passed!')"
   ]
  },
  {
   "cell_type": "markdown",
   "id": "354d5b7b",
   "metadata": {
    "deletable": false,
    "editable": false,
    "nbgrader": {
     "cell_type": "markdown",
     "checksum": "e507ad91d2288f84980783f11307ea51",
     "grade": false,
     "grade_id": "cell-5ab41af688ebcc1b",
     "locked": true,
     "schema_version": 3,
     "solution": false,
     "task": false
    }
   },
   "source": [
    "(c) Write and test a function called `from_continued_fraction`, which takes as its single argument a list of positive ints `[a1, a2, a3,  ..., an]` and returns, as a SymPy rational, the value of \n",
    "\n",
    "$$x = a_1 + \\frac{1}{a_2+\\frac{1}{a_3+\\frac{1}{a_4+\\dots}}}$$\n",
    "\n",
    "up to $a_n$."
   ]
  },
  {
   "cell_type": "code",
   "execution_count": null,
   "id": "f0239690",
   "metadata": {
    "deletable": false,
    "nbgrader": {
     "cell_type": "code",
     "checksum": "08f32995561162e3c02fe2f78db656d5",
     "grade": false,
     "grade_id": "cell-416fbeb88a921ee4",
     "locked": false,
     "schema_version": 3,
     "solution": true,
     "task": false
    }
   },
   "outputs": [],
   "source": [
    "def from_continued_fraction(cf):\n",
    "    # YOUR CODE HERE\n",
    "    raise NotImplementedError()\n",
    "float(from_continued_fraction([3,7,15]))"
   ]
  },
  {
   "cell_type": "code",
   "execution_count": null,
   "id": "e8fd5433",
   "metadata": {
    "deletable": false,
    "editable": false,
    "nbgrader": {
     "cell_type": "code",
     "checksum": "d6e3a1ca0532dd2576ab760c5e257724",
     "grade": true,
     "grade_id": "cell-28fb6cdd3c5afffb",
     "locked": true,
     "points": 5,
     "schema_version": 3,
     "solution": false,
     "task": false
    }
   },
   "outputs": [],
   "source": [
    "# 5 Marks\n",
    "# Do not try to delete this cell\n",
    "# Run this cell for grading\n",
    "_globals = globals()\n",
    "question2iic(_globals)"
   ]
  },
  {
   "cell_type": "markdown",
   "id": "597922ca",
   "metadata": {
    "deletable": false,
    "editable": false,
    "nbgrader": {
     "cell_type": "markdown",
     "checksum": "2fcf1ce09228ccc8e1d302c6ea8d8c56",
     "grade": false,
     "grade_id": "cell-ff53b0fb77d4d8c8",
     "locked": true,
     "schema_version": 3,
     "solution": false,
     "task": false
    }
   },
   "source": [
    "(d) Write and test a function called `rational_sequence`, which takes as its arguments a number $x$ and a positive int $n$, and returns a list of successive rational approximations to $x$ obtained by successive truncations of $x$'s continued fraction. \n",
    "\n",
    "This list should be the same length as `continued_fraction(x, n)`.\n",
    "\n",
    "As a test\n",
    "\n",
    "```python\n",
    "rational_sequence(sp.sqrt(2), 5)\n",
    "```\n",
    "\n",
    "should return `[1, 3/2, 7/5, 17/12, 41/29]`."
   ]
  },
  {
   "cell_type": "code",
   "execution_count": null,
   "id": "f384af8f",
   "metadata": {
    "deletable": false,
    "nbgrader": {
     "cell_type": "code",
     "checksum": "b42c80ab48453119dc2d5a35414f4d6b",
     "grade": false,
     "grade_id": "cell-5c5f3f1391268a52",
     "locked": false,
     "schema_version": 3,
     "solution": true,
     "task": false
    }
   },
   "outputs": [],
   "source": [
    "def rational_sequence(x, n):\n",
    "    # YOUR CODE HERE\n",
    "    raise NotImplementedError()\n",
    "print(rational_sequence(sp.pi,5))"
   ]
  },
  {
   "cell_type": "code",
   "execution_count": null,
   "id": "af5d9eb6",
   "metadata": {
    "deletable": false,
    "editable": false,
    "nbgrader": {
     "cell_type": "code",
     "checksum": "7800e204d246c5f54258be7bfbd0c327",
     "grade": true,
     "grade_id": "cell-1078a527f92575d0",
     "locked": true,
     "points": 5,
     "schema_version": 3,
     "solution": false,
     "task": false
    }
   },
   "outputs": [],
   "source": [
    "# 5 Marks\n",
    "# Do not try to delete this cell\n",
    "# Run this cell for grading\n",
    "_globals = globals()\n",
    "question2iid(_globals)"
   ]
  },
  {
   "cell_type": "markdown",
   "id": "157a0cf6",
   "metadata": {
    "deletable": false,
    "editable": false,
    "nbgrader": {
     "cell_type": "markdown",
     "checksum": "a00db620b2b5b99f397add5ce95254d2",
     "grade": false,
     "grade_id": "cell-461fe39d7a80fbd6",
     "locked": true,
     "schema_version": 3,
     "solution": false,
     "task": false
    }
   },
   "source": [
    "(e) Plot, on the same pair of axes, the convergence of the rational sequences for the SymPy values of $\\pi$, $\\sqrt{2}$ and $\\phi = (1+\\sqrt{5})/2$, each with $n=10$. In each case the horizontal coordinates should be $0, 1, 2, \\dots, 9.$"
   ]
  },
  {
   "cell_type": "code",
   "execution_count": null,
   "id": "e661e71a",
   "metadata": {
    "deletable": false,
    "nbgrader": {
     "cell_type": "code",
     "checksum": "0cbd8b71441700eec73f81296b88a793",
     "grade": false,
     "grade_id": "cell-cfeea56da0c4037f",
     "locked": false,
     "schema_version": 3,
     "solution": true,
     "task": false
    }
   },
   "outputs": [],
   "source": [
    "# YOUR CODE HERE\n",
    "raise NotImplementedError()"
   ]
  },
  {
   "cell_type": "code",
   "execution_count": null,
   "id": "d95e19be",
   "metadata": {
    "deletable": false,
    "editable": false,
    "nbgrader": {
     "cell_type": "code",
     "checksum": "dd5e4287172479bc1c74306cf5e7b28d",
     "grade": true,
     "grade_id": "cell-8b0a75c427b72d32",
     "locked": true,
     "points": 1,
     "schema_version": 3,
     "solution": false,
     "task": false
    }
   },
   "outputs": [],
   "source": [
    "# 1 Mark\n",
    "# Do not try to delete this cell\n",
    "# Run this cell for grading\n",
    "_globals = globals()\n",
    "question2iie_plot(_globals)"
   ]
  },
  {
   "cell_type": "markdown",
   "id": "56e73df4",
   "metadata": {
    "deletable": false,
    "editable": false,
    "nbgrader": {
     "cell_type": "markdown",
     "checksum": "14acafa6270cffc651a9204ba3a7bcfd",
     "grade": false,
     "grade_id": "cell-3a61f2e9436de4be",
     "locked": true,
     "schema_version": 3,
     "solution": false,
     "task": false
    }
   },
   "source": [
    "## Question 3\n",
    "\n",
    "(a) Set up `x` as a SymPy symbol, with the keyword argument `real` set to `True`, so SymPy knows `x` must be real."
   ]
  },
  {
   "cell_type": "code",
   "execution_count": null,
   "id": "c0661fe5",
   "metadata": {
    "deletable": false,
    "nbgrader": {
     "cell_type": "code",
     "checksum": "0e8679ee2f4b909559ae60335dae4407",
     "grade": false,
     "grade_id": "cell-d26d2a7d86dbf401",
     "locked": false,
     "schema_version": 3,
     "solution": true,
     "task": false
    }
   },
   "outputs": [],
   "source": [
    "# YOUR CODE HERE\n",
    "raise NotImplementedError()"
   ]
  },
  {
   "cell_type": "code",
   "execution_count": null,
   "id": "bb483baf",
   "metadata": {
    "deletable": false,
    "editable": false,
    "nbgrader": {
     "cell_type": "code",
     "checksum": "3872a0c37fec48aaafef3ac302c961fd",
     "grade": true,
     "grade_id": "cell-ddd3903fba829355",
     "locked": true,
     "points": 1,
     "schema_version": 3,
     "solution": false,
     "task": false
    }
   },
   "outputs": [],
   "source": [
    "# 1 Mark\n",
    "# Do not try to delete this cell\n",
    "# Run this cell for grading\n",
    "_globals = globals()\n",
    "question3a(_globals)"
   ]
  },
  {
   "cell_type": "markdown",
   "id": "2f1505e8",
   "metadata": {
    "deletable": false,
    "editable": false,
    "nbgrader": {
     "cell_type": "markdown",
     "checksum": "269cb06322e5afc2e872930691d61591",
     "grade": false,
     "grade_id": "cell-1c1515a2f10aa955",
     "locked": true,
     "schema_version": 3,
     "solution": false,
     "task": false
    }
   },
   "source": [
    "(b) Define `y` as the symbolic polynomial expression $x^4-8 x^3+26 x^2-40 x+21$."
   ]
  },
  {
   "cell_type": "code",
   "execution_count": null,
   "id": "bcca81de",
   "metadata": {
    "deletable": false,
    "nbgrader": {
     "cell_type": "code",
     "checksum": "aba900e7a9e99783566cc371041b7d9f",
     "grade": false,
     "grade_id": "cell-48fc6f85ba0fdd3d",
     "locked": false,
     "schema_version": 3,
     "solution": true,
     "task": false
    }
   },
   "outputs": [],
   "source": [
    "# YOUR CODE HERE\n",
    "raise NotImplementedError()\n",
    "\n",
    "y"
   ]
  },
  {
   "cell_type": "code",
   "execution_count": null,
   "id": "f8137acd",
   "metadata": {
    "deletable": false,
    "editable": false,
    "nbgrader": {
     "cell_type": "code",
     "checksum": "73f6c21939fa594a6364c45328fef6ac",
     "grade": true,
     "grade_id": "cell-47e77a00fdfd379f",
     "locked": true,
     "points": 1,
     "schema_version": 3,
     "solution": false,
     "task": false
    }
   },
   "outputs": [],
   "source": [
    "# 1 Mark\n",
    "# Do not try to delete this cell\n",
    "# Run this cell for grading\n",
    "_globals = globals()\n",
    "question3b(_globals)"
   ]
  },
  {
   "cell_type": "markdown",
   "id": "1f60e38d",
   "metadata": {
    "deletable": false,
    "editable": false,
    "nbgrader": {
     "cell_type": "markdown",
     "checksum": "1412c9eca78eb345bc52bb792bf323a6",
     "grade": false,
     "grade_id": "cell-638bd70f968f1b54",
     "locked": true,
     "schema_version": 3,
     "solution": false,
     "task": false
    }
   },
   "source": [
    "(c) Use the `plot` function from `sympy.plotting` to plot `y` for values of `x` between $-1$ and $5$. Autograding won't help here!"
   ]
  },
  {
   "cell_type": "code",
   "execution_count": null,
   "id": "10499236",
   "metadata": {
    "deletable": false,
    "nbgrader": {
     "cell_type": "code",
     "checksum": "5d9d3f646fa9e2f4fc0ee4352b94f647",
     "grade": false,
     "grade_id": "cell-1ca2aac4b9b0effc",
     "locked": false,
     "schema_version": 3,
     "solution": true,
     "task": false
    }
   },
   "outputs": [],
   "source": [
    "# YOUR CODE HERE\n",
    "raise NotImplementedError()"
   ]
  },
  {
   "cell_type": "markdown",
   "id": "47476460",
   "metadata": {
    "deletable": false,
    "editable": false,
    "nbgrader": {
     "cell_type": "markdown",
     "checksum": "ec4a22e92f028a9054e7c907236fa218",
     "grade": false,
     "grade_id": "cell-214d0345f501c936",
     "locked": true,
     "schema_version": 3,
     "solution": false,
     "task": false
    }
   },
   "source": [
    "(d) Using `solve`, find the zeros of `y` as SymPy quantities, as `y_zeros`. If you've set `x` and `y` up correctly, these should all be real."
   ]
  },
  {
   "cell_type": "code",
   "execution_count": null,
   "id": "6884f50d",
   "metadata": {
    "deletable": false,
    "nbgrader": {
     "cell_type": "code",
     "checksum": "9cf6b17ed603df6f8c07e3188814fa79",
     "grade": false,
     "grade_id": "cell-1c2b3dd4b6821228",
     "locked": false,
     "schema_version": 3,
     "solution": true,
     "task": false
    }
   },
   "outputs": [],
   "source": [
    "# YOUR CODE HERE\n",
    "raise NotImplementedError()\n",
    "\n",
    "y_zeros"
   ]
  },
  {
   "cell_type": "code",
   "execution_count": null,
   "id": "20b43628",
   "metadata": {
    "deletable": false,
    "editable": false,
    "nbgrader": {
     "cell_type": "code",
     "checksum": "c2f7f700b5547c210d3d199998efa2fa",
     "grade": true,
     "grade_id": "cell-117dc8f5c6abb617",
     "locked": true,
     "points": 0,
     "schema_version": 3,
     "solution": false,
     "task": false
    }
   },
   "outputs": [],
   "source": [
    "# 1 Mark\n",
    "# Do not try to delete this cell\n",
    "# Run this cell for grading\n",
    "_globals = globals()\n",
    "question3d(_globals)"
   ]
  },
  {
   "cell_type": "markdown",
   "id": "dfe43745",
   "metadata": {
    "deletable": false,
    "editable": false,
    "nbgrader": {
     "cell_type": "markdown",
     "checksum": "e4c85d79a0d30f9b894cfb5b99d2d831",
     "grade": false,
     "grade_id": "cell-d0af01e16d52200e",
     "locked": true,
     "schema_version": 3,
     "solution": false,
     "task": false
    }
   },
   "source": [
    "(e) Using `lambdify`, create and test a function called `yfunc`, compatible with NumPy arrays, that maps `x` to $x^4-8 x^3+26 x^2-40 x+21$."
   ]
  },
  {
   "cell_type": "code",
   "execution_count": null,
   "id": "ec9ca797",
   "metadata": {
    "deletable": false,
    "nbgrader": {
     "cell_type": "code",
     "checksum": "559e83ea9fabb0120d5f74ae0987eff9",
     "grade": false,
     "grade_id": "cell-9d7ea7bb4d5afca6",
     "locked": false,
     "schema_version": 3,
     "solution": true,
     "task": false
    }
   },
   "outputs": [],
   "source": [
    "# YOUR CODE HERE\n",
    "raise NotImplementedError()\n",
    "\n",
    "yfunc"
   ]
  },
  {
   "cell_type": "code",
   "execution_count": null,
   "id": "00dbaa94",
   "metadata": {
    "deletable": false,
    "editable": false,
    "nbgrader": {
     "cell_type": "code",
     "checksum": "e8357710da23369b67ee278dbca81fd3",
     "grade": true,
     "grade_id": "cell-dc4e4daa4fa507d4",
     "locked": true,
     "points": 2,
     "schema_version": 3,
     "solution": false,
     "task": false
    }
   },
   "outputs": [],
   "source": [
    "# 2 Marks\n",
    "# Do not try to delete this cell\n",
    "# Run this cell for grading\n",
    "_globals = globals()\n",
    "question3e(_globals)"
   ]
  },
  {
   "cell_type": "markdown",
   "id": "8bb171b7",
   "metadata": {
    "deletable": false,
    "editable": false,
    "nbgrader": {
     "cell_type": "markdown",
     "checksum": "f391e6f8547e04cb888dde2dbdc21e61",
     "grade": false,
     "grade_id": "cell-28d47df7dd8e06b4",
     "locked": true,
     "schema_version": 3,
     "solution": false,
     "task": false
    }
   },
   "source": [
    "(f) Hence, create a plot of `y` against `x`, for 101 equally-spaced values of `x` between $-1$ and $5$, that uses only the `plot` function from `matplotlib.pyplot`."
   ]
  },
  {
   "cell_type": "code",
   "execution_count": null,
   "id": "90af2991",
   "metadata": {
    "deletable": false,
    "nbgrader": {
     "cell_type": "code",
     "checksum": "846a97b31ef51481f91563f2108f929b",
     "grade": false,
     "grade_id": "cell-4896b9b9d19945a8",
     "locked": false,
     "schema_version": 3,
     "solution": true,
     "task": false
    }
   },
   "outputs": [],
   "source": [
    "# YOUR CODE HERE\n",
    "raise NotImplementedError()"
   ]
  },
  {
   "cell_type": "code",
   "execution_count": null,
   "id": "15394df4",
   "metadata": {
    "deletable": false,
    "editable": false,
    "nbgrader": {
     "cell_type": "code",
     "checksum": "bc41028d68691868ad4e2c97eb218a27",
     "grade": true,
     "grade_id": "cell-16deb245b20ad8fc",
     "locked": true,
     "points": 1,
     "schema_version": 3,
     "solution": false,
     "task": false
    }
   },
   "outputs": [],
   "source": [
    "# 1 Mark\n",
    "# Do not try to delete this cell\n",
    "# Run this cell for grading\n",
    "_globals = globals()\n",
    "question3f_plot(_globals)"
   ]
  },
  {
   "cell_type": "markdown",
   "id": "e9324f68",
   "metadata": {
    "deletable": false,
    "editable": false,
    "nbgrader": {
     "cell_type": "markdown",
     "checksum": "4068b865e3b0220c1ac7ed6c31ef7d56",
     "grade": false,
     "grade_id": "cell-eed3dac69399ccb4",
     "locked": true,
     "schema_version": 3,
     "solution": false,
     "task": false
    }
   },
   "source": [
    "(g) Create a plot of `y`, for the same values of `x` as above, showing the real zeros as big red dots. Include lines for the horizontal and vertical axes. "
   ]
  },
  {
   "cell_type": "code",
   "execution_count": null,
   "id": "4bac4e6b",
   "metadata": {
    "deletable": false,
    "nbgrader": {
     "cell_type": "code",
     "checksum": "2e71e6965deff05b7acbd37dd67558a1",
     "grade": false,
     "grade_id": "cell-6d7e0c37b16ef8d1",
     "locked": false,
     "schema_version": 3,
     "solution": true,
     "task": false
    }
   },
   "outputs": [],
   "source": [
    "# YOUR CODE HERE\n",
    "raise NotImplementedError()"
   ]
  },
  {
   "cell_type": "code",
   "execution_count": null,
   "id": "af6542cb",
   "metadata": {
    "deletable": false,
    "editable": false,
    "nbgrader": {
     "cell_type": "code",
     "checksum": "6a302b82136abc9c31915b0c018530c3",
     "grade": true,
     "grade_id": "cell-1e096121be9787d5",
     "locked": true,
     "points": 1,
     "schema_version": 3,
     "solution": false,
     "task": false
    }
   },
   "outputs": [],
   "source": [
    "# 1 Mark\n",
    "# Do not try to delete this cell\n",
    "# Run this cell for grading\n",
    "_globals = globals()\n",
    "question3g_plot(_globals)"
   ]
  },
  {
   "cell_type": "markdown",
   "id": "5a52d70c",
   "metadata": {
    "deletable": false,
    "editable": false,
    "nbgrader": {
     "cell_type": "markdown",
     "checksum": "0d1834256128c88ea2af77e599aeb879",
     "grade": false,
     "grade_id": "cell-8974312a513fa5da",
     "locked": true,
     "schema_version": 3,
     "solution": false,
     "task": false
    }
   },
   "source": [
    "(h) Using `diff` and `solve`, find, as a Python list, the $x$-coordinates `x_stat` of the (real) stationary points of `y`. Also find, as a Python list, the associated $y$-coordinates, `y_stat`."
   ]
  },
  {
   "cell_type": "code",
   "execution_count": null,
   "id": "4600921c",
   "metadata": {
    "deletable": false,
    "nbgrader": {
     "cell_type": "code",
     "checksum": "4fa962039694a263c5ee62751be87c3a",
     "grade": false,
     "grade_id": "cell-0da9684fd0e8fe24",
     "locked": false,
     "schema_version": 3,
     "solution": true,
     "task": false
    }
   },
   "outputs": [],
   "source": [
    "# YOUR CODE HERE\n",
    "raise NotImplementedError()\n",
    "\n",
    "print((x_stat, y_stat))"
   ]
  },
  {
   "cell_type": "code",
   "execution_count": null,
   "id": "90ab0520",
   "metadata": {
    "deletable": false,
    "editable": false,
    "nbgrader": {
     "cell_type": "code",
     "checksum": "6c4fd191b58fd38fd2b9152c5616ac44",
     "grade": true,
     "grade_id": "cell-6f2019e2136270a5",
     "locked": true,
     "points": 2,
     "schema_version": 3,
     "solution": false,
     "task": false
    }
   },
   "outputs": [],
   "source": [
    "# 2 Marks\n",
    "# Do not try to delete this cell\n",
    "# Run this cell for grading\n",
    "_globals = globals()\n",
    "question3h(_globals)"
   ]
  },
  {
   "cell_type": "markdown",
   "id": "92103470",
   "metadata": {
    "deletable": false,
    "editable": false,
    "nbgrader": {
     "cell_type": "markdown",
     "checksum": "5a6cc4e83621ac0761c524833a0b9aa5",
     "grade": false,
     "grade_id": "cell-e3e19970fff91c25",
     "locked": true,
     "schema_version": 3,
     "solution": false,
     "task": false
    }
   },
   "source": [
    "(j) Create an ordinary `matplotlib` plot of `y` showing the real stationary points as big red dots. Include lines for the horizontal and vertical axes. Again, use 101 equally-spaced values of `x` between $-1$ and $5$."
   ]
  },
  {
   "cell_type": "code",
   "execution_count": null,
   "id": "7a9ccb99",
   "metadata": {
    "deletable": false,
    "nbgrader": {
     "cell_type": "code",
     "checksum": "d183fd655cb1dfac23eb9cf2185410b6",
     "grade": false,
     "grade_id": "cell-440f910b7170e401",
     "locked": false,
     "schema_version": 3,
     "solution": true,
     "task": false
    }
   },
   "outputs": [],
   "source": [
    "# YOUR CODE HERE\n",
    "raise NotImplementedError()"
   ]
  },
  {
   "cell_type": "code",
   "execution_count": null,
   "id": "b7ff5382",
   "metadata": {
    "deletable": false,
    "editable": false,
    "nbgrader": {
     "cell_type": "code",
     "checksum": "a986fbd6f5754e46a4acc5dd8af5b7ea",
     "grade": true,
     "grade_id": "cell-7277b1a9170266e9",
     "locked": true,
     "points": 1,
     "schema_version": 3,
     "solution": false,
     "task": false
    }
   },
   "outputs": [],
   "source": [
    "# 1 Mark\n",
    "# Do not try to delete this cell\n",
    "# Run this cell for grading\n",
    "_globals = globals()\n",
    "question3j_plot(_globals)"
   ]
  },
  {
   "cell_type": "markdown",
   "id": "0039f1f2",
   "metadata": {
    "deletable": false,
    "editable": false,
    "nbgrader": {
     "cell_type": "markdown",
     "checksum": "c711efd9ced49ffd64d1b3b98b84944c",
     "grade": false,
     "grade_id": "cell-8bef80a0892d1b89",
     "locked": true,
     "schema_version": 3,
     "solution": false,
     "task": false
    }
   },
   "source": [
    "(k) Write and test a function called `plot_with_sps` that takes as its arguments a symbolic expression `y` representing a function of `x`, and a tuple `xrange` containing a symbolic variable `x` (which may be assumed to be real) and maximum and minimum values for plotting. \n",
    "\n",
    "Your function should return no output, but should instead create a graphic in which a plot of `y` against `x` is shown, together with the real stationary points as big red dots. For example\n",
    "\n",
    "```python\n",
    "x = sp.symbols('x', real=True)\n",
    "plot_with_sps(x**4-8*x**3+26*x**2-40*x+21, (x, -1, 5))\n",
    "```\n",
    "\n",
    "should generate the graphic from part (j).\n",
    "\n",
    "It's tricky to get autograding to work for all the possible ways you might do this!"
   ]
  },
  {
   "cell_type": "code",
   "execution_count": null,
   "id": "9608920c",
   "metadata": {
    "deletable": false,
    "nbgrader": {
     "cell_type": "code",
     "checksum": "3c29007d143763e3ba16786b1f0031eb",
     "grade": false,
     "grade_id": "cell-42de3b080fa8deb7",
     "locked": false,
     "schema_version": 3,
     "solution": true,
     "task": false
    }
   },
   "outputs": [],
   "source": [
    "def plot_with_sps(y, xrange):\n",
    "    # YOUR CODE HERE\n",
    "    raise NotImplementedError()\n",
    "x = sp.symbols('x', real=True)\n",
    "plot_with_sps(x**4-8*x**3+26*x**2-40*x+21, (x, -1, 5))"
   ]
  },
  {
   "cell_type": "markdown",
   "id": "7ca0e45f",
   "metadata": {
    "deletable": false,
    "editable": false,
    "nbgrader": {
     "cell_type": "markdown",
     "checksum": "b20de8c56217223919ff5463487b6585",
     "grade": false,
     "grade_id": "cell-4bd3920b594a8dfa",
     "locked": true,
     "schema_version": 3,
     "solution": false,
     "task": false
    }
   },
   "source": [
    "(l) (<b>Challenging, maybe? Though it can be done by tweaking one line!</b>): Adapt your `plot_with_sps` code so that it works even if `x` has not been set up as an explicitly <em>real</em> symbol; so that for example\n",
    "\n",
    "```python\n",
    "x = sp.symbols('x')\n",
    "plot_with_sps(x**4-8*x**3+26*x**2-40*x+21, (x, -1, 5))\n",
    "```\n",
    "\n",
    "should still generate the graphic from part (j). You'll need to think how to get rid of non-real roots."
   ]
  },
  {
   "cell_type": "code",
   "execution_count": null,
   "id": "30e0eead",
   "metadata": {
    "deletable": false,
    "nbgrader": {
     "cell_type": "code",
     "checksum": "27c77bb7bed7665af1c62a362b1689fb",
     "grade": false,
     "grade_id": "cell-4daab71a9b80aecc",
     "locked": false,
     "schema_version": 3,
     "solution": true,
     "task": false
    }
   },
   "outputs": [],
   "source": [
    "def plot_with_sps(y, xrange):\n",
    "    # YOUR CODE HERE\n",
    "    raise NotImplementedError()\n",
    "x = sp.symbols('x')\n",
    "plot_with_sps(x**4-8*x**3+26*x**2-40*x+21, (x, -1, 5))"
   ]
  },
  {
   "cell_type": "markdown",
   "id": "26a808d2",
   "metadata": {
    "deletable": false,
    "editable": false,
    "nbgrader": {
     "cell_type": "markdown",
     "checksum": "082137428ce5de1b5948063a31df3cb5",
     "grade": false,
     "grade_id": "cell-7a00bae2cd201a9b",
     "locked": true,
     "schema_version": 3,
     "solution": false,
     "task": false
    }
   },
   "source": [
    "## Question 4\n",
    "\n",
    "(a) Write a function called `newton_sympy` which takes as its arguments\n",
    "\n",
    "<ul>\n",
    "    <li>a <b>symbolic expression</b> <code>expr</code>;</li>\n",
    "    <li>a <b>symbolic variable</b> <code>var</code>;</li>\n",
    "    <li>a starting value, <code>x0</code>;</li>\n",
    "    <li>a number of iterations, <code>niterate</code>;</li>\n",
    "    <li>an keyword-only argument, <code>method</code>, whose default value is the string <code>'symbolic'</code>.</li>\n",
    "</ul>\n",
    "\n",
    "It should then:\n",
    "\n",
    "<ul>\n",
    "    <li>differentiate <code>expr</code> symbolically with respect to <code>var</code>, and hence derive, in <code>var</code>, the function <code>newt_expr</code> that must be iterated in order to solve <code>expr == 0</code> using Newton's method;</li>\n",
    "    <li>iterate the function specified by <code>newt_expr</code> a total of <code>niterate</code> times, returning the final iterate.</li>\n",
    "</ul>\n",
    "\n",
    "Exactly what happens during the iteration will need to be considered quite carefully. \n",
    "\n",
    "<ul>\n",
    "    <li>If <code>method</code> is set to <code>'symbolic'</code>, its default value, then each new iterate should simply be obtained by substituting the previous one into <code>newt_expr</code> using <code>subs</code>;</li>\n",
    "    <li>If <code>method</code> is set to <code>'simplify'</code>, then each new iterate should be obtained by substituting the previous one into <code>newt_expr</code> using <code>subs</code>, and then simplifying the resulting expression;</li>\n",
    "    <li>If <code>method</code> is set to <code>'float'</code>, then each new iterate should be obtained by substituting the previous one into <code>newt_expr</code> using <code>subs</code>, and then casting the resulting expression as a core Python float;</li>\n",
    "    <li>If <code>method</code> is set to <code>'complex'</code>, then each new iterate should be obtained by substituting the previous one into <code>newt_expr</code> using <code>subs</code>, and then casting the resulting expression as a core Python complex;</li>\n",
    "    <li>If <code>method</code> is set to <code>'lambdify'</code>, then <code>subs</code> should not be used at all; instead, a function <code>newt_expr_func</code> should be created using <code>lambdify</code>, and each iterate obtained by evaluating this function on the previous iterate.</li>\n",
    "</ul>"
   ]
  },
  {
   "cell_type": "code",
   "execution_count": null,
   "id": "4218c1fb",
   "metadata": {
    "deletable": false,
    "nbgrader": {
     "cell_type": "code",
     "checksum": "a020a1c168f7328121e492c34a2586e6",
     "grade": false,
     "grade_id": "cell-ba7b053b47667219",
     "locked": false,
     "schema_version": 3,
     "solution": true,
     "task": false
    }
   },
   "outputs": [],
   "source": [
    "def newton_sympy(expr, var, x0, niterate, *, method='symbolic'):\n",
    "    # YOUR CODE HERE\n",
    "    raise NotImplementedError()"
   ]
  },
  {
   "cell_type": "code",
   "execution_count": null,
   "id": "25cab1e5",
   "metadata": {
    "deletable": false,
    "editable": false,
    "nbgrader": {
     "cell_type": "code",
     "checksum": "bbe36a89de3e2b976174d433b7440eb7",
     "grade": true,
     "grade_id": "cell-585d34f45ccf6d50",
     "locked": true,
     "points": 6,
     "schema_version": 3,
     "solution": false,
     "task": false
    }
   },
   "outputs": [],
   "source": [
    "# 6 Marks\n",
    "# Do not try to delete this cell\n",
    "# Run this cell for grading\n",
    "_globals = globals()\n",
    "question4a(_globals)"
   ]
  },
  {
   "cell_type": "markdown",
   "id": "7d6aab66",
   "metadata": {
    "deletable": false,
    "editable": false,
    "nbgrader": {
     "cell_type": "markdown",
     "checksum": "167205dc9228a3ebd3c488db3b64972e",
     "grade": false,
     "grade_id": "cell-72b340764afa9c8a",
     "locked": true,
     "schema_version": 3,
     "solution": false,
     "task": false
    }
   },
   "source": [
    "(b) Use your `newton_sympy` function, with 5 iterations starting at the int 1 and the default `method` setting, to find a good rational approximation `sqrt2_frac` to $\\sqrt{2}$. [Hint: what is a simple equation satisfied by $\\sqrt{2}$?]"
   ]
  },
  {
   "cell_type": "code",
   "execution_count": null,
   "id": "1c75190a",
   "metadata": {
    "deletable": false,
    "nbgrader": {
     "cell_type": "code",
     "checksum": "84c09736871913dbb50a7d9b62e9489e",
     "grade": false,
     "grade_id": "cell-f8dfa184fc5316dd",
     "locked": false,
     "schema_version": 3,
     "solution": true,
     "task": false
    }
   },
   "outputs": [],
   "source": [
    "# YOUR CODE HERE\n",
    "raise NotImplementedError()\n",
    "\n",
    "print(sqrt2_frac)\n",
    "print((float(sqrt2_frac),np.sqrt(2)))"
   ]
  },
  {
   "cell_type": "code",
   "execution_count": null,
   "id": "0c26d36f",
   "metadata": {
    "deletable": false,
    "editable": false,
    "nbgrader": {
     "cell_type": "code",
     "checksum": "e382aa55efc507adbb57ce56efe87199",
     "grade": true,
     "grade_id": "cell-15dc9f36d29e3131",
     "locked": true,
     "points": 1,
     "schema_version": 3,
     "solution": false,
     "task": false
    }
   },
   "outputs": [],
   "source": [
    "# 1 Mark\n",
    "# Do not try to delete this cell\n",
    "# Run this cell for grading\n",
    "_globals = globals()\n",
    "question4b(_globals)"
   ]
  },
  {
   "cell_type": "markdown",
   "id": "ad367ad4",
   "metadata": {
    "deletable": false,
    "editable": false,
    "nbgrader": {
     "cell_type": "markdown",
     "checksum": "16fdb2d85b806364bec6a416d5c69f86",
     "grade": false,
     "grade_id": "cell-e74b5b536557c7e5",
     "locked": true,
     "schema_version": 3,
     "solution": false,
     "task": false
    }
   },
   "source": [
    "(c) Use your `newton_sympy` function with `method` set to `float` or `complex` as appropriate, to find the roots of $z^3-1=0$ associated with the starting values $2.0$, $-1+i$ and $-1-i$; use 20 iterations in each case. Call them, respectively, `root0`, `root1` and `root2`."
   ]
  },
  {
   "cell_type": "code",
   "execution_count": null,
   "id": "ad2c4f2c",
   "metadata": {
    "deletable": false,
    "nbgrader": {
     "cell_type": "code",
     "checksum": "74a4a7882f7d6a0b8547a9b6d2878679",
     "grade": false,
     "grade_id": "cell-73995952add18d91",
     "locked": false,
     "schema_version": 3,
     "solution": true,
     "task": false
    }
   },
   "outputs": [],
   "source": [
    "# YOUR CODE HERE\n",
    "raise NotImplementedError()\n",
    "\n",
    "print(root0)\n",
    "print(root1)\n",
    "print(root2)"
   ]
  },
  {
   "cell_type": "code",
   "execution_count": null,
   "id": "e6d43d98",
   "metadata": {
    "deletable": false,
    "editable": false,
    "nbgrader": {
     "cell_type": "code",
     "checksum": "c6483df64d11da51e87fb80d68dd6cce",
     "grade": true,
     "grade_id": "cell-9fd6f5d355d30747",
     "locked": true,
     "points": 3,
     "schema_version": 3,
     "solution": false,
     "task": false
    }
   },
   "outputs": [],
   "source": [
    "# 3 Marks\n",
    "# Do not try to delete this cell\n",
    "# Run this cell for grading\n",
    "_globals = globals()\n",
    "question4c(_globals)"
   ]
  },
  {
   "cell_type": "markdown",
   "id": "b817f358",
   "metadata": {
    "deletable": false,
    "editable": false,
    "nbgrader": {
     "cell_type": "markdown",
     "checksum": "b2fdb6292685550f99e8ca7d04cfbbd1",
     "grade": false,
     "grade_id": "cell-6dd9e14ec18ff2bb",
     "locked": true,
     "schema_version": 3,
     "solution": false,
     "task": false
    }
   },
   "source": [
    "(d) Use NumPy's `vectorize` function to create a version of `newton_sympy`, called `newton_sympy_vec`, which works over arrays. Use it to repeat part (c), returning the roots as a NumPy array `roots` of type complex."
   ]
  },
  {
   "cell_type": "code",
   "execution_count": null,
   "id": "51ab2852",
   "metadata": {
    "deletable": false,
    "nbgrader": {
     "cell_type": "code",
     "checksum": "07dc805a85b57ff972ee64118b7b09cf",
     "grade": false,
     "grade_id": "cell-0ee818ce51aa55bc",
     "locked": false,
     "schema_version": 3,
     "solution": true,
     "task": false
    }
   },
   "outputs": [],
   "source": [
    "# YOUR CODE HERE\n",
    "raise NotImplementedError()\n",
    "\n",
    "roots"
   ]
  },
  {
   "cell_type": "code",
   "execution_count": null,
   "id": "cf8b44f4",
   "metadata": {
    "deletable": false,
    "editable": false,
    "nbgrader": {
     "cell_type": "code",
     "checksum": "5ca1c43bc3ad05190005e4cd856e907e",
     "grade": true,
     "grade_id": "cell-d952c76e4eb7a907",
     "locked": true,
     "points": 1,
     "schema_version": 3,
     "solution": false,
     "task": false
    }
   },
   "outputs": [],
   "source": [
    "# 3 Marks\n",
    "# Do not try to delete this cell\n",
    "# Run this cell for grading\n",
    "_globals = globals()\n",
    "question4d(_globals)"
   ]
  },
  {
   "cell_type": "markdown",
   "id": "fde5c17d",
   "metadata": {
    "deletable": false,
    "editable": false,
    "nbgrader": {
     "cell_type": "markdown",
     "checksum": "927d27ea10f5660777be68cc98c0909a",
     "grade": false,
     "grade_id": "cell-9b7de47e57156f91",
     "locked": true,
     "schema_version": 3,
     "solution": false,
     "task": false
    }
   },
   "source": [
    "(e) Using `vectorize` like that is pretty inefficient. Perform the above task not using `newton_sympy_vec` but instead using `newton_sympy` with `method` set to `lambdify`."
   ]
  },
  {
   "cell_type": "code",
   "execution_count": null,
   "id": "7ef0bb79",
   "metadata": {
    "deletable": false,
    "nbgrader": {
     "cell_type": "code",
     "checksum": "1c830628eefbfb8d61930b1795dc7a7f",
     "grade": false,
     "grade_id": "cell-9196113436915df6",
     "locked": false,
     "schema_version": 3,
     "solution": true,
     "task": false
    }
   },
   "outputs": [],
   "source": [
    "# YOUR CODE HERE\n",
    "raise NotImplementedError()\n",
    "\n",
    "roots"
   ]
  },
  {
   "cell_type": "code",
   "execution_count": null,
   "id": "405c6814",
   "metadata": {
    "deletable": false,
    "editable": false,
    "nbgrader": {
     "cell_type": "code",
     "checksum": "ca8884fd90aab48444f085f0a521144e",
     "grade": true,
     "grade_id": "cell-eafe5371c23c320a",
     "locked": true,
     "points": 1,
     "schema_version": 3,
     "solution": false,
     "task": false
    }
   },
   "outputs": [],
   "source": [
    "# 3 Marks\n",
    "# Do not try to delete this cell\n",
    "# Run this cell for grading\n",
    "_globals = globals()\n",
    "question4e(_globals)"
   ]
  },
  {
   "cell_type": "markdown",
   "id": "f9e29ede",
   "metadata": {
    "deletable": false,
    "editable": false,
    "nbgrader": {
     "cell_type": "markdown",
     "checksum": "3bd254279815c02ab9f88cbbbc917fae",
     "grade": false,
     "grade_id": "cell-a861ae718616906d",
     "locked": true,
     "schema_version": 3,
     "solution": false,
     "task": false
    }
   },
   "source": [
    "(f) Define both `x_values0` and `y_values0` as 1D NumPy arrays of 400 equally-spaced floats between $-2.0$ and $2.0$ inclusive, and use the `meshgrid` function to define `x0` and `y0` as 400-by-400 arrays of, respectively, $x$- and $y$-coordinates specifying a lattice in the plane.\n",
    "\n",
    "Define `z0` as a lattice of complex numbers of the form $x+i\\,y$, with real and imaginary parts taken from your arrays `x0` and `y0`.\n",
    "\n",
    "Use `newton_sympy` with `method` set to `lambdify` to create an array `roots` consisting of the root of $z^3-1==0$ for each of the elements of the array `z0`, using $100$ iterations in each case. \n",
    "\n",
    "Finally, use the `imshow` function from `matplotlib`'s `pyplot` submodule to visualise the imaginary parts of `roots` as they vary over the plane. Use appropriate values for the keyword arguments `origin` and `extent`.\n",
    "\n",
    "Autograding can't help with that last bit!"
   ]
  },
  {
   "cell_type": "code",
   "execution_count": null,
   "id": "2816442d",
   "metadata": {
    "deletable": false,
    "nbgrader": {
     "cell_type": "code",
     "checksum": "12c51f9818c7dc9c88da48ac5ea19466",
     "grade": false,
     "grade_id": "cell-68b6cf845f5de10d",
     "locked": false,
     "schema_version": 3,
     "solution": true,
     "task": false
    }
   },
   "outputs": [],
   "source": [
    "# YOUR CODE HERE\n",
    "raise NotImplementedError()"
   ]
  },
  {
   "cell_type": "code",
   "execution_count": null,
   "id": "ea9bbc71",
   "metadata": {
    "deletable": false,
    "editable": false,
    "nbgrader": {
     "cell_type": "code",
     "checksum": "cd3cde61d0dccdbf9d38329432384020",
     "grade": true,
     "grade_id": "cell-44ad9a945a7b4820",
     "locked": true,
     "points": 3,
     "schema_version": 3,
     "solution": false,
     "task": false
    }
   },
   "outputs": [],
   "source": [
    "# 3 Marks\n",
    "# Do not try to delete this cell\n",
    "# Run this cell for grading\n",
    "_globals = globals()\n",
    "question4f(_globals)"
   ]
  },
  {
   "cell_type": "markdown",
   "id": "16c0542b",
   "metadata": {
    "deletable": false,
    "editable": false,
    "nbgrader": {
     "cell_type": "markdown",
     "checksum": "9c73b9b40d0daa974c48df8bd944974a",
     "grade": false,
     "grade_id": "cell-6fae9cb656c6252c",
     "locked": true,
     "schema_version": 3,
     "solution": false,
     "task": false
    }
   },
   "source": [
    "## Bonus Question\n",
    "\n",
    "Write a function that takes in a list of integers, $p(1), p(2), \\ldots, p(n)$, where each element is distinct and satisfies $1 \\leq p(x) \\leq n$. For each $x$ where $1 \\leq x \\leq n$, the function should find the integer $y$ such that $p(p(y)) = x$ and return the appropriate list. For example, given `p = [5, 2, 1, 3, 4]`, each value of $x$ between 1 and 5 is found as follows:\n",
    "\n",
    "1. $x = 1 = p(3)$, $p(4) = 3$, $\\Rightarrow p(p(4)) = 1$\n",
    "2. $x = 2 = p(2)$, $p(2) = 2$, $\\Rightarrow p(p(2)) = 2$\n",
    "3. $x = 3 = p(4)$, $p(5) = 4$, $\\Rightarrow p(p(5)) = 3$\n",
    "4. $x = 4 = p(5)$, $p(1) = 5$, $\\Rightarrow p(p(1)) = 4$\n",
    "5. $x = 5 = p(1)$, $p(3) = 1$, $\\Rightarrow p(p(3)) = 5$\n",
    "\n",
    "Therefore, the function should return the list `[4, 2, 5, 1, 3]`."
   ]
  },
  {
   "cell_type": "code",
   "execution_count": null,
   "id": "13171a14",
   "metadata": {
    "deletable": false,
    "nbgrader": {
     "cell_type": "code",
     "checksum": "4aaaca1c868698898c475b880eda726b",
     "grade": false,
     "grade_id": "cell-8f4d566222263187",
     "locked": false,
     "schema_version": 3,
     "solution": true,
     "task": false
    }
   },
   "outputs": [],
   "source": [
    "def sequence_explore(p):\n",
    "    # YOUR CODE HERE\n",
    "    raise NotImplementedError()"
   ]
  },
  {
   "cell_type": "code",
   "execution_count": null,
   "id": "51d54235",
   "metadata": {
    "deletable": false,
    "editable": false,
    "nbgrader": {
     "cell_type": "code",
     "checksum": "63aa23783fba267283b3560d38daf4e9",
     "grade": true,
     "grade_id": "cell-043f534519cd6ef3",
     "locked": true,
     "points": 1,
     "schema_version": 3,
     "solution": false,
     "task": false
    }
   },
   "outputs": [],
   "source": [
    "# Run this test cell to check your code\n",
    "# Do not delete this cell\n",
    "# 1 mark\n",
    "# Unit test\n",
    "test = [5, 2, 1, 3, 4]\n",
    "assert(sequence_explore(test) == [4, 2, 5, 1, 3])\n",
    "print('Test case passed!!!')"
   ]
  },
  {
   "cell_type": "code",
   "execution_count": null,
   "id": "3e3a6227",
   "metadata": {
    "deletable": false,
    "editable": false,
    "nbgrader": {
     "cell_type": "code",
     "checksum": "1496b46638f404d7a7ebffabae455ce8",
     "grade": true,
     "grade_id": "cell-0f1099efb70bbc25",
     "locked": true,
     "points": 1,
     "schema_version": 3,
     "solution": false,
     "task": false
    }
   },
   "outputs": [],
   "source": [
    "# Run this test cell to check your code\n",
    "# Do not delete this cell\n",
    "# 1 mark\n",
    "# Unit test\n",
    "test = [4, 3, 5, 1, 2]\n",
    "assert(sequence_explore(test) == [1, 3, 5, 4, 2])\n",
    "print('Test case passed!!!')"
   ]
  },
  {
   "cell_type": "code",
   "execution_count": null,
   "id": "be53db63",
   "metadata": {
    "deletable": false,
    "editable": false,
    "nbgrader": {
     "cell_type": "code",
     "checksum": "76cb27537ad6e253871dc55bba55844e",
     "grade": true,
     "grade_id": "cell-f88bc69d91f086f4",
     "locked": true,
     "points": 3,
     "schema_version": 3,
     "solution": false,
     "task": false
    }
   },
   "outputs": [],
   "source": [
    "# Hidden test\n",
    "# No output will be produced\n",
    "# 3 marks"
   ]
  },
  {
   "cell_type": "code",
   "execution_count": null,
   "id": "b7a31a26",
   "metadata": {},
   "outputs": [],
   "source": []
  }
 ],
 "metadata": {
  "kernelspec": {
   "display_name": "Python 3 (ipykernel)",
   "language": "python",
   "name": "python3"
  },
  "language_info": {
   "codemirror_mode": {
    "name": "ipython",
    "version": 3
   },
   "file_extension": ".py",
   "mimetype": "text/x-python",
   "name": "python",
   "nbconvert_exporter": "python",
   "pygments_lexer": "ipython3",
   "version": "3.10.12"
  }
 },
 "nbformat": 4,
 "nbformat_minor": 5
}
