{
 "cells": [
  {
   "cell_type": "code",
   "execution_count": null,
   "id": "d9673d19",
   "metadata": {},
   "outputs": [],
   "source": [
    "from autograder_term2week4 import *\n",
    "_globals = globals()\n",
    "import numpy as np\n",
    "import numpy.testing as npt\n",
    "import math\n",
    "import matplotlib.pyplot as plt\n",
    "from time import time\n",
    "%matplotlib inline"
   ]
  },
  {
   "cell_type": "markdown",
   "id": "894c5707",
   "metadata": {
    "deletable": false,
    "editable": false,
    "nbgrader": {
     "cell_type": "markdown",
     "checksum": "5516d80e10b23bdefc078b03af221b09",
     "grade": false,
     "grade_id": "cell-681659d2c2f91666",
     "locked": true,
     "schema_version": 3,
     "solution": false,
     "task": false
    }
   },
   "source": [
    "# <center> Introduction to Mathematical Computing </center>\n",
    "### <center>Phil Ramsden, Boumediene Hamzi, Sam Brzezicki, Matt Woolway</center>\n",
    "\n",
    "# <center> Worksheet 9: Using numpy in Programming</center>\n",
    "\n",
    "**NOTE:** When answering a question, remember to remove the `raise NotImplementedError()` line."
   ]
  },
  {
   "cell_type": "markdown",
   "id": "b3682760",
   "metadata": {
    "deletable": false,
    "editable": false,
    "nbgrader": {
     "cell_type": "markdown",
     "checksum": "8a36021fc42324b1d146b2e28fafb16a",
     "grade": false,
     "grade_id": "cell-7d5792b3dcadbb28",
     "locked": true,
     "schema_version": 3,
     "solution": false,
     "task": false
    }
   },
   "source": [
    "## Question 0: don't miss this bit!\n",
    "\n",
    "In the file called `my_username.txt`, type your <b>short-form College user name</b> (this will usually be one or more letters followed by three or more figures, such as qk4019). Don't use quote marks. Then save the file."
   ]
  },
  {
   "cell_type": "code",
   "execution_count": null,
   "id": "647c27ef",
   "metadata": {
    "deletable": false,
    "editable": false,
    "nbgrader": {
     "cell_type": "code",
     "checksum": "22eeb0b393f9d30707986856578f39bd",
     "grade": true,
     "grade_id": "cell-bea9ec0564902eff",
     "locked": true,
     "points": 5,
     "schema_version": 3,
     "solution": false,
     "task": false
    }
   },
   "outputs": [],
   "source": [
    "# 5 Marks\n",
    "# Do not try to delete this cell\n",
    "# Run this cell for grading of Question 0\n",
    "_globals = globals()\n",
    "question0(_globals)"
   ]
  },
  {
   "cell_type": "markdown",
   "id": "3a08bbbc",
   "metadata": {
    "deletable": false,
    "editable": false,
    "nbgrader": {
     "cell_type": "markdown",
     "checksum": "7aa87d991854982d5d645ed3472a20f7",
     "grade": false,
     "grade_id": "cell-e6cff4b9e21316b7",
     "locked": true,
     "schema_version": 3,
     "solution": false,
     "task": false
    }
   },
   "source": [
    "## Question 1 (i)\n",
    "\n",
    "(a) Use the `range` function from \"core Python\" to create a `range` object called `myrange` containing the ints $97, 98, \\dots, 102$. Then create a list called `mylist` containing the same ints. Finally, use NumPy's `arange` function to create a one-dimensional NumPy array called `myarray` containing the same ints."
   ]
  },
  {
   "cell_type": "code",
   "execution_count": null,
   "id": "cd493f09",
   "metadata": {
    "deletable": false,
    "nbgrader": {
     "cell_type": "code",
     "checksum": "97cdb1009c8145c2be1730ee46c4d4f8",
     "grade": false,
     "grade_id": "cell-d95e5dc3c8888d91",
     "locked": false,
     "schema_version": 3,
     "solution": true,
     "task": false
    }
   },
   "outputs": [],
   "source": [
    "# YOUR CODE HERE\n",
    "raise NotImplementedError()\n",
    "\n",
    "print(myrange)\n",
    "print(mylist)\n",
    "print(myarray)"
   ]
  },
  {
   "cell_type": "code",
   "execution_count": null,
   "id": "a2461c3a",
   "metadata": {
    "deletable": false,
    "editable": false,
    "nbgrader": {
     "cell_type": "code",
     "checksum": "24398bf03a6cf44ba272e226a4b6c8b5",
     "grade": true,
     "grade_id": "cell-00ab6f202e921ef6",
     "locked": true,
     "points": 3,
     "schema_version": 3,
     "solution": false,
     "task": false
    }
   },
   "outputs": [],
   "source": [
    "# 3 Marks\n",
    "# Do not try to delete this cell\n",
    "# Run this cell for grading\n",
    "_globals = globals()\n",
    "question1ia(_globals)"
   ]
  },
  {
   "cell_type": "markdown",
   "id": "29e62944",
   "metadata": {
    "deletable": false,
    "editable": false,
    "nbgrader": {
     "cell_type": "markdown",
     "checksum": "0a65361f42d63a3aa0498c99ab819b2b",
     "grade": false,
     "grade_id": "cell-3973e5088e8161b2",
     "locked": true,
     "schema_version": 3,
     "solution": false,
     "task": false
    }
   },
   "source": [
    "(b) Write a `for` loop that iterates through `myrange`, printing the squares. Do the same for `mylist`, and attempt the same for `myarray`. Then state which of the following is true.\n",
    "\n",
    "<ol>\n",
    "    <li>You can iterate across <code>range</code> objects, Python lists and 1D NumPy arrays using a <code>for</code> loop, and afterwards, all three are unchanged.</li>\n",
    "    <li>You can iterate across <code>range</code> objects, Python lists and 1D NumPy arrays using a <code>for</code> loop, and afterwards, all three have become empty.</li>\n",
    "    <li>You can iterate across <code>range</code> objects, Python lists and 1D NumPy arrays using a <code>for</code> loop, and afterwards, only the NumPy array has become empty.</li>\n",
    "    <li>You can iterate across <code>range</code> objects and Python lists, but not 1D NumPy arrays, using a <code>for</code> loop.</li>\n",
    "</ol>"
   ]
  },
  {
   "cell_type": "code",
   "execution_count": null,
   "id": "f4370155",
   "metadata": {
    "deletable": false,
    "nbgrader": {
     "cell_type": "code",
     "checksum": "cb6e95eacd7078aefdb5e8fa574409f8",
     "grade": false,
     "grade_id": "cell-ecc421cc340c9ac1",
     "locked": false,
     "schema_version": 3,
     "solution": true,
     "task": false
    }
   },
   "outputs": [],
   "source": [
    "# YOUR CODE HERE\n",
    "raise NotImplementedError()\n",
    "\n",
    "#question1ib_answer = # insert one of 1, 2, 3 or 4"
   ]
  },
  {
   "cell_type": "code",
   "execution_count": null,
   "id": "2af7b7ed",
   "metadata": {
    "deletable": false,
    "editable": false,
    "nbgrader": {
     "cell_type": "code",
     "checksum": "9f8e65a030339ac2be75d349e41d8566",
     "grade": true,
     "grade_id": "cell-2880fd28ceea31df",
     "locked": true,
     "points": 1,
     "schema_version": 3,
     "solution": false,
     "task": false
    }
   },
   "outputs": [],
   "source": [
    "# 1 Mark\n",
    "assert(question1ib_answer == question1ib())\n",
    "print('test case passed!')"
   ]
  },
  {
   "cell_type": "markdown",
   "id": "79f7aba2",
   "metadata": {
    "deletable": false,
    "editable": false,
    "nbgrader": {
     "cell_type": "markdown",
     "checksum": "622fd882af3bc796f72e59bd47a1b7e4",
     "grade": false,
     "grade_id": "cell-8c51da12cd758ab8",
     "locked": true,
     "schema_version": 3,
     "solution": false,
     "task": false
    }
   },
   "source": [
    "(c) Write a list comprehension that iterates across `myrange`, generating a list of all the squares; call it `range_squares`. Do the same for `mylist` (call it `list_squares`), and attempt the same for `my_array` (call it `array_squares` if it works)."
   ]
  },
  {
   "cell_type": "code",
   "execution_count": null,
   "id": "b5710281",
   "metadata": {
    "deletable": false,
    "nbgrader": {
     "cell_type": "code",
     "checksum": "022d7dac2f1fa7ae9551187bbe775715",
     "grade": false,
     "grade_id": "cell-e2cda711fe7b4091",
     "locked": false,
     "schema_version": 3,
     "solution": true,
     "task": false
    }
   },
   "outputs": [],
   "source": [
    "# YOUR CODE HERE\n",
    "raise NotImplementedError()\n",
    "\n",
    "print(range_squares)\n",
    "print(list_squares)\n",
    "print(array_squares)"
   ]
  },
  {
   "cell_type": "code",
   "execution_count": null,
   "id": "28c13c43",
   "metadata": {
    "deletable": false,
    "editable": false,
    "nbgrader": {
     "cell_type": "code",
     "checksum": "63ceab0e7808c550799bd96b08652ac2",
     "grade": true,
     "grade_id": "cell-25df616fe295d313",
     "locked": true,
     "points": 3,
     "schema_version": 3,
     "solution": false,
     "task": false
    }
   },
   "outputs": [],
   "source": [
    "# 3 Marks\n",
    "# Do not try to delete this cell\n",
    "# Run this cell for grading\n",
    "_globals = globals()\n",
    "question1ic(_globals)"
   ]
  },
  {
   "cell_type": "markdown",
   "id": "8ff65f22",
   "metadata": {
    "deletable": false,
    "editable": false,
    "nbgrader": {
     "cell_type": "markdown",
     "checksum": "e41f7bae09062dd4147e1474ce1c216b",
     "grade": false,
     "grade_id": "cell-aac2b1132e590420",
     "locked": true,
     "schema_version": 3,
     "solution": false,
     "task": false
    }
   },
   "source": [
    "(d) State which of the following is true.\n",
    "\n",
    "<ol>\n",
    "    <li>You can iterate across <code>range</code> objects, Python lists and 1D NumPy arrays using a comprehension, and afterwards, all three are unchanged.</li>\n",
    "    <li>You can iterate across <code>range</code> objects, Python lists and 1D NumPy arrays using a comprehension, and afterwards, all three have become empty.</li>\n",
    "    <li>You can iterate across <code>range</code> objects, Python lists and 1D NumPy arrays using a comprehension, and afterwards, only the NumPy array has become empty.</li>\n",
    "    <li>You can iterate across <code>range</code> objects and Python lists, but not 1D NumPy arrays, using a comprehension.</li>\n",
    "</ol>"
   ]
  },
  {
   "cell_type": "code",
   "execution_count": null,
   "id": "b427925b",
   "metadata": {
    "deletable": false,
    "nbgrader": {
     "cell_type": "code",
     "checksum": "93962c7c06359d50314cc720ae828785",
     "grade": false,
     "grade_id": "cell-c74c42776e88e283",
     "locked": false,
     "schema_version": 3,
     "solution": true,
     "task": false
    }
   },
   "outputs": [],
   "source": [
    "# YOUR CODE HERE\n",
    "raise NotImplementedError()\n",
    "\n",
    "question1id_answer = # insert one of 1, 2, 3 or 4"
   ]
  },
  {
   "cell_type": "code",
   "execution_count": null,
   "id": "bfcd1d02",
   "metadata": {
    "deletable": false,
    "editable": false,
    "nbgrader": {
     "cell_type": "code",
     "checksum": "340d4c9aa63330af735dc7e26dc433ea",
     "grade": true,
     "grade_id": "cell-0f2922dc93503c01",
     "locked": true,
     "points": 1,
     "schema_version": 3,
     "solution": false,
     "task": false
    }
   },
   "outputs": [],
   "source": [
    "# 1 Mark\n",
    "assert(question1id_answer == question1id())\n",
    "print('test case passed!')"
   ]
  },
  {
   "cell_type": "markdown",
   "id": "42523adc",
   "metadata": {
    "deletable": false,
    "editable": false,
    "nbgrader": {
     "cell_type": "markdown",
     "checksum": "e0449344f849f1b7587ecc670bc8ea5c",
     "grade": false,
     "grade_id": "cell-7ef7309ca0252305",
     "locked": true,
     "schema_version": 3,
     "solution": false,
     "task": false
    }
   },
   "source": [
    "(e) From `myarray`, create a NumPy array consisting of all the squares; call it `square_array`. Do this in the simplest way possible, without using a loop or a comprehension. (Autograding won't be able to tell whether you've done that, though.)"
   ]
  },
  {
   "cell_type": "code",
   "execution_count": null,
   "id": "74f96cee",
   "metadata": {
    "deletable": false,
    "nbgrader": {
     "cell_type": "code",
     "checksum": "f7ee7751bb53d53f9bba26ba4963bc93",
     "grade": false,
     "grade_id": "cell-06e87771988d7b9c",
     "locked": false,
     "schema_version": 3,
     "solution": true,
     "task": false
    }
   },
   "outputs": [],
   "source": [
    "# YOUR CODE HERE\n",
    "raise NotImplementedError()\n",
    "\n",
    "print(square_array)"
   ]
  },
  {
   "cell_type": "code",
   "execution_count": null,
   "id": "993a0cb4",
   "metadata": {
    "deletable": false,
    "editable": false,
    "nbgrader": {
     "cell_type": "code",
     "checksum": "70ede6d1e916e1e8905a70ba0e6903ab",
     "grade": true,
     "grade_id": "cell-fd7531034dc64ada",
     "locked": true,
     "points": 1,
     "schema_version": 3,
     "solution": false,
     "task": false
    }
   },
   "outputs": [],
   "source": [
    "# 1 Mark\n",
    "# Do not try to delete this cell\n",
    "# Run this cell for grading\n",
    "_globals = globals()\n",
    "question1ie(_globals)"
   ]
  },
  {
   "cell_type": "markdown",
   "id": "4b37081c",
   "metadata": {
    "deletable": false,
    "editable": false,
    "nbgrader": {
     "cell_type": "markdown",
     "checksum": "577adb351924025aebf9f7e6e44a735f",
     "grade": false,
     "grade_id": "cell-556db96c420024e2",
     "locked": true,
     "schema_version": 3,
     "solution": false,
     "task": false
    }
   },
   "source": [
    "(ii) Here's a simple lambda-expression:"
   ]
  },
  {
   "cell_type": "code",
   "execution_count": null,
   "id": "684f61f2",
   "metadata": {
    "deletable": false,
    "editable": false,
    "nbgrader": {
     "cell_type": "code",
     "checksum": "e5a235bcc5a1c72ecc574cf4c55e0458",
     "grade": false,
     "grade_id": "cell-0ff1acabb71bb83d",
     "locked": true,
     "schema_version": 3,
     "solution": false,
     "task": false
    }
   },
   "outputs": [],
   "source": [
    "add2 = lambda x, y : x + y"
   ]
  },
  {
   "cell_type": "markdown",
   "id": "a602ec31",
   "metadata": {
    "deletable": false,
    "editable": false,
    "nbgrader": {
     "cell_type": "markdown",
     "checksum": "6287404b99ff61c105c8d0a590ee905b",
     "grade": false,
     "grade_id": "cell-258ef7c76e98f526",
     "locked": true,
     "schema_version": 3,
     "solution": false,
     "task": false
    }
   },
   "source": [
    "This should be read as \"Let add2 be the function of $x$ and $y$ that adds $x$ to $y$.\" Then \n",
    "\n",
    "```python\n",
    "add2(3, 4)\n",
    "```\n",
    "\n",
    "will return 7, and so on."
   ]
  },
  {
   "cell_type": "markdown",
   "id": "1961956b",
   "metadata": {
    "deletable": false,
    "editable": false,
    "nbgrader": {
     "cell_type": "markdown",
     "checksum": "68a8b3736072da086e2b9e550602f875",
     "grade": false,
     "grade_id": "cell-eef72b94037dd2d3",
     "locked": true,
     "schema_version": 3,
     "solution": false,
     "task": false
    }
   },
   "source": [
    "(a) Use NumPy's `fromfunction` function, and the lambda-expression `add2` defined above, to create the 2d array `mat1`, which is equal to\n",
    "$$\\left(\n",
    "\\begin{array}{rrrr}\n",
    "0.0&1.0&2.0&3.0\\\\\n",
    "1.0&2.0&3.0&4.0\\\\\n",
    "2.0&3.0&4.0&5.0\n",
    "\\end{array}\\right).$$"
   ]
  },
  {
   "cell_type": "code",
   "execution_count": null,
   "id": "510736ea",
   "metadata": {
    "deletable": false,
    "nbgrader": {
     "cell_type": "code",
     "checksum": "27c16672f5b96aede733b6dd12194dea",
     "grade": false,
     "grade_id": "cell-52765e48af5b8559",
     "locked": false,
     "schema_version": 3,
     "solution": true,
     "task": false
    }
   },
   "outputs": [],
   "source": [
    "# YOUR CODE HERE\n",
    "raise NotImplementedError()\n",
    "\n",
    "print(mat1)"
   ]
  },
  {
   "cell_type": "code",
   "execution_count": null,
   "id": "03040489",
   "metadata": {
    "deletable": false,
    "editable": false,
    "nbgrader": {
     "cell_type": "code",
     "checksum": "cc1678b96726910a30ff46f62e6dec65",
     "grade": true,
     "grade_id": "cell-4c06f03e0246899a",
     "locked": true,
     "points": 1,
     "schema_version": 3,
     "solution": false,
     "task": false
    }
   },
   "outputs": [],
   "source": [
    "# 1 Mark\n",
    "# Do not try to delete this cell\n",
    "# Run this cell for grading\n",
    "_globals = globals()\n",
    "question1iia(_globals)"
   ]
  },
  {
   "cell_type": "markdown",
   "id": "a4995da4",
   "metadata": {
    "deletable": false,
    "editable": false,
    "nbgrader": {
     "cell_type": "markdown",
     "checksum": "c2afeb1faeee81b033d73fab4b62bcad",
     "grade": false,
     "grade_id": "cell-38fc526f42e7550e",
     "locked": true,
     "schema_version": 3,
     "solution": false,
     "task": false
    }
   },
   "source": [
    "(b) Using NumPy's `nditer` function in a comprehension, create a list `squares1` of the squares of the entries of `mat1`, where the iteration is row-by-row; it should therefore begin\n",
    "\n",
    "```python\n",
    "[0.0, 1.0, 4.0, 9.0, 1.0, 4.0, ...\n",
    " ```"
   ]
  },
  {
   "cell_type": "code",
   "execution_count": null,
   "id": "e439d6bc",
   "metadata": {
    "deletable": false,
    "nbgrader": {
     "cell_type": "code",
     "checksum": "3e913ffb3fd2590f3bf9b1b7adc76177",
     "grade": false,
     "grade_id": "cell-bdf21dec04463b22",
     "locked": false,
     "schema_version": 3,
     "solution": true,
     "task": false
    }
   },
   "outputs": [],
   "source": [
    "# YOUR CODE HERE\n",
    "raise NotImplementedError()\n",
    "\n",
    "print(squares1)"
   ]
  },
  {
   "cell_type": "code",
   "execution_count": null,
   "id": "a4f4a648",
   "metadata": {
    "deletable": false,
    "editable": false,
    "nbgrader": {
     "cell_type": "code",
     "checksum": "e8cae60bc48529c88b09285dbe09f3db",
     "grade": true,
     "grade_id": "cell-2c3bf4d9dcee662f",
     "locked": true,
     "points": 1,
     "schema_version": 3,
     "solution": false,
     "task": false
    }
   },
   "outputs": [],
   "source": [
    "# 1 Mark\n",
    "# Do not try to delete this cell\n",
    "# Run this cell for grading\n",
    "_globals = globals()\n",
    "question1iib(_globals)"
   ]
  },
  {
   "cell_type": "markdown",
   "id": "48949c05",
   "metadata": {
    "deletable": false,
    "editable": false,
    "nbgrader": {
     "cell_type": "markdown",
     "checksum": "57e34eccd62349a4a8de8af795d789bf",
     "grade": false,
     "grade_id": "cell-17bb7e7d49572063",
     "locked": true,
     "schema_version": 3,
     "solution": false,
     "task": false
    }
   },
   "source": [
    "(c) Using NumPy's `nditer` function in a comprehension, create a list `squares2` of the squares of the entries of `mat1`, where the iteration is column-by-colum; it should therefore begin\n",
    "\n",
    "```python\n",
    "[0.0, 1.0, 4.0, 1.0, 4.0, 9.0, ...\n",
    " ```"
   ]
  },
  {
   "cell_type": "code",
   "execution_count": null,
   "id": "f2c8c81f",
   "metadata": {
    "deletable": false,
    "nbgrader": {
     "cell_type": "code",
     "checksum": "99796019840332740da3466528a3987e",
     "grade": false,
     "grade_id": "cell-01f244a2a47a38b6",
     "locked": false,
     "schema_version": 3,
     "solution": true,
     "task": false
    }
   },
   "outputs": [],
   "source": [
    "# YOUR CODE HERE\n",
    "raise NotImplementedError()\n",
    "\n",
    "print(squares2)"
   ]
  },
  {
   "cell_type": "code",
   "execution_count": null,
   "id": "3668af28",
   "metadata": {
    "deletable": false,
    "editable": false,
    "nbgrader": {
     "cell_type": "code",
     "checksum": "aba197d45d2b0e60ae81c6cbf66f2963",
     "grade": true,
     "grade_id": "cell-95c2e6ff666ce56d",
     "locked": true,
     "points": 1,
     "schema_version": 3,
     "solution": false,
     "task": false
    }
   },
   "outputs": [],
   "source": [
    "# 1 Mark\n",
    "# Do not try to delete this cell\n",
    "# Run this cell for grading\n",
    "_globals = globals()\n",
    "question1iic(_globals)"
   ]
  },
  {
   "cell_type": "markdown",
   "id": "74769dcf",
   "metadata": {
    "deletable": false,
    "editable": false,
    "nbgrader": {
     "cell_type": "markdown",
     "checksum": "3a75f1198c8b82adfb3e979e473bb1ed",
     "grade": false,
     "grade_id": "cell-59bf83b6143b4995",
     "locked": true,
     "schema_version": 3,
     "solution": false,
     "task": false
    }
   },
   "source": [
    "(d) Using `fromfunction` with suitable lambda-expressions, create the 2d arrays `mat2`, `mat3` and `mat4`, respectively equal to\n",
    "\n",
    "$$\\left(\n",
    "\\begin{array}{rrrr}\n",
    "0.0&1.0&2.0&3.0\\\\\n",
    "1.0&0.0&1.0&2.0\\\\\n",
    "2.0&1.0&0.0&1.0\n",
    "\\end{array}\\right),\\left(\n",
    "\\begin{array}{rrrr}\n",
    "0.0&1.0&4.0&9.0\n",
    "\\end{array}\\right)\\mbox{ and }\\left(\n",
    "\\begin{array}{rrrr}\n",
    "0.0&1.0&4.0&9.0\\\\\n",
    "-1.0&0.0&3.0&8.0\\\\\n",
    "-4.0&-3.0&0.0&5.0\\\\\n",
    "-9.0&-8.0&-5.0&0.0\n",
    "\\end{array}\\right)$$"
   ]
  },
  {
   "cell_type": "code",
   "execution_count": null,
   "id": "b40f7074",
   "metadata": {
    "deletable": false,
    "nbgrader": {
     "cell_type": "code",
     "checksum": "4a9dcf6d0ae0dd2ace9a7b823dcc7b0e",
     "grade": false,
     "grade_id": "cell-1565566b19f8ccde",
     "locked": false,
     "schema_version": 3,
     "solution": true,
     "task": false
    }
   },
   "outputs": [],
   "source": [
    "# YOUR CODE HERE\n",
    "raise NotImplementedError()\n",
    "\n",
    "print(mat2)\n",
    "print(mat3)\n",
    "print(mat4)"
   ]
  },
  {
   "cell_type": "code",
   "execution_count": null,
   "id": "13868ec3",
   "metadata": {
    "deletable": false,
    "editable": false,
    "nbgrader": {
     "cell_type": "code",
     "checksum": "08ed23e021374756148d99dfae37c708",
     "grade": true,
     "grade_id": "cell-25147b5f92b638ed",
     "locked": true,
     "points": 3,
     "schema_version": 3,
     "solution": false,
     "task": false
    }
   },
   "outputs": [],
   "source": [
    "# 3 Marks\n",
    "# Do not try to delete this cell\n",
    "# Run this cell for grading\n",
    "_globals = globals()\n",
    "question1iid(_globals)"
   ]
  },
  {
   "cell_type": "markdown",
   "id": "e267234b",
   "metadata": {
    "deletable": false,
    "editable": false,
    "nbgrader": {
     "cell_type": "markdown",
     "checksum": "0d82e051fd8ba8af89921a507268a6a8",
     "grade": false,
     "grade_id": "cell-c893f6562626b986",
     "locked": true,
     "schema_version": 3,
     "solution": false,
     "task": false
    }
   },
   "source": [
    "(e) Run the following code:"
   ]
  },
  {
   "cell_type": "code",
   "execution_count": null,
   "id": "06ee9ec7",
   "metadata": {
    "deletable": false,
    "editable": false,
    "nbgrader": {
     "cell_type": "code",
     "checksum": "fbbc3167f6ecf2faf1d67f5215cb963c",
     "grade": false,
     "grade_id": "cell-068b7d6c4b3c47f2",
     "locked": true,
     "schema_version": 3,
     "solution": false,
     "task": false
    }
   },
   "outputs": [],
   "source": [
    "for a, b in np.nditer((mat1, mat2)):\n",
    "    print((float(a), float(b), a > b))"
   ]
  },
  {
   "cell_type": "markdown",
   "id": "3f200d98",
   "metadata": {
    "deletable": false,
    "editable": false,
    "nbgrader": {
     "cell_type": "markdown",
     "checksum": "d479619be4094805f754c90beb54a85e",
     "grade": false,
     "grade_id": "cell-fb5c6779556dd2ff",
     "locked": true,
     "schema_version": 3,
     "solution": false,
     "task": false
    }
   },
   "source": [
    "Then attempt it using `mat3` and `mat4` in place of `mat2`. Then choose which of the following statements is true:\n",
    "\n",
    "<ol>\n",
    "    <li>The <code>nditer</code> function allows you to iterate across two 2d arrays at the same time, but only if they're the same shape.</li>\n",
    "    <li>The <code>nditer</code> function allows you to iterate across two 2d arrays at the same time, but only if their shapes are such that you could, for example, add them.</li>\n",
    "    <li>The <code>nditer</code> function does not support iteration across two 2d arrays at the same time.</li>\n",
    "</ol>"
   ]
  },
  {
   "cell_type": "code",
   "execution_count": null,
   "id": "a1ee4cb4",
   "metadata": {
    "deletable": false,
    "nbgrader": {
     "cell_type": "code",
     "checksum": "abe3ed6339ea090f6df0da8a0ab04b78",
     "grade": false,
     "grade_id": "cell-f063e9d7858d8068",
     "locked": false,
     "schema_version": 3,
     "solution": true,
     "task": false
    }
   },
   "outputs": [],
   "source": [
    "# YOUR CODE HERE\n",
    "raise NotImplementedError()\n",
    "\n",
    "question1iie_answer = # insert one of 1, 2 or 3"
   ]
  },
  {
   "cell_type": "code",
   "execution_count": null,
   "id": "52e340d9",
   "metadata": {
    "deletable": false,
    "editable": false,
    "nbgrader": {
     "cell_type": "code",
     "checksum": "9f645f7f78b4917be46adef3d3e1d4b6",
     "grade": true,
     "grade_id": "cell-36049c0ab4bfb4d4",
     "locked": true,
     "points": 1,
     "schema_version": 3,
     "solution": false,
     "task": false
    }
   },
   "outputs": [],
   "source": [
    "# 1 Mark\n",
    "assert(question1iie_answer == question1iie())\n",
    "print('test case passed!')"
   ]
  },
  {
   "cell_type": "markdown",
   "id": "7ae90442",
   "metadata": {
    "deletable": false,
    "editable": false,
    "nbgrader": {
     "cell_type": "markdown",
     "checksum": "4e7a0e12eeea7c3f84bfbfa7aa5c40b7",
     "grade": false,
     "grade_id": "cell-fbf8771049b0604f",
     "locked": true,
     "schema_version": 3,
     "solution": false,
     "task": false
    }
   },
   "source": [
    "## Question 2\n",
    "\n",
    "(a) Write and test a function called `simpsons_rule1`. The function should take as its arguments:\n",
    "<ul>\n",
    "    <li>a function <code>func</code> from the reals to the reals;</li>\n",
    "    <li>a float, or int, <code>xmin</code>;</li>\n",
    "    <li>a float, or int, <code>xmax</code>;</li>\n",
    "    <li>a positive even int <code>n</code>, with default value 10.</li>\n",
    "</ul>\n",
    "\n",
    "It should then return an approximate value for the integral of <code>func(x)</code> with respect to <code>x</code> between <code>xmin</code> and <code>xmax</code>, obtained by using the Simpson's rule formula\n",
    "\n",
    "$$I \\approx \\frac{h}{3}\\,\\left(y_0 + 4\\,y_1 + 2\\,y_2 + \\dots + 2\\,y_{n-2}+4\\,y_{n-1} + y_n\\right),$$\n",
    "\n",
    "where $h$, the step size, is obtained by dividing the interval width by <code>n</code>.\n",
    "\n",
    "Your function should make no use of NumPy functionality, but should rely entirely either on loops, or on comprehensions, or both.\n",
    "\n",
    "Test your function: for example\n",
    "\n",
    "```python\n",
    "import math\n",
    "print(simpsons_rule1(math.sin, 0.0, math.pi/2))\n",
    "```\n",
    "should give something pretty close to 1.00000339."
   ]
  },
  {
   "cell_type": "code",
   "execution_count": null,
   "id": "8756cdcf",
   "metadata": {
    "deletable": false,
    "nbgrader": {
     "cell_type": "code",
     "checksum": "5c942c65f13800ed97e851b016747a5d",
     "grade": false,
     "grade_id": "cell-e8165e838fb79f9b",
     "locked": false,
     "schema_version": 3,
     "solution": true,
     "task": false
    }
   },
   "outputs": [],
   "source": [
    "def simpsons_rule1(func, xmin, xmax, n=10):\n",
    "    # YOUR CODE HERE\n",
    "    raise NotImplementedError()"
   ]
  },
  {
   "cell_type": "code",
   "execution_count": null,
   "id": "3be0402f",
   "metadata": {
    "deletable": false,
    "editable": false,
    "nbgrader": {
     "cell_type": "code",
     "checksum": "bdcf0b79466af9cba28bec04caf1708a",
     "grade": true,
     "grade_id": "cell-6d0e30c9d4358887",
     "locked": true,
     "points": 0,
     "schema_version": 3,
     "solution": false,
     "task": false
    }
   },
   "outputs": [],
   "source": [
    "# No marks: function test\n",
    "\n",
    "try:\n",
    "    assert(np.isclose(simpsons_rule1(math.sin, 0, math.pi/2), 1.00000339))\n",
    "except:\n",
    "    print('Test failed!')\n",
    "else:\n",
    "    print('Test passed!')"
   ]
  },
  {
   "cell_type": "code",
   "execution_count": null,
   "id": "6d61b3bf",
   "metadata": {
    "deletable": false,
    "editable": false,
    "nbgrader": {
     "cell_type": "code",
     "checksum": "406130cc85e2b3c9046e6dfcc6c8b3dc",
     "grade": true,
     "grade_id": "cell-c16ea2f873c5ba2b",
     "locked": true,
     "points": 4,
     "schema_version": 3,
     "solution": false,
     "task": false
    }
   },
   "outputs": [],
   "source": [
    "# 4 Marks\n",
    "# Do not try to delete this cell\n",
    "# Run this cell for grading\n",
    "_globals = globals()\n",
    "question2a(_globals)"
   ]
  },
  {
   "cell_type": "markdown",
   "id": "a07baa00",
   "metadata": {
    "deletable": false,
    "editable": false,
    "nbgrader": {
     "cell_type": "markdown",
     "checksum": "9d417335f561317bf550b485212a74b6",
     "grade": false,
     "grade_id": "cell-c030ea1fdffc8b3c",
     "locked": true,
     "schema_version": 3,
     "solution": false,
     "task": false
    }
   },
   "source": [
    "(b) Write a function called <code>simpsons_rule2</code> that takes the same arguments and defaults as <code>simpsons_rule1</code>, and also returns the Simpson's rule approximation to the integral, but uses no loops or comprehensions. Instead, it should use NumPy arrays, vectorized operations and the `sum` function.\n",
    "\n",
    "Test your function: for example\n",
    "\n",
    "```python\n",
    "import numpy as np\n",
    "print(simpsons_rule2(np.sin, 0.0, np.pi/2))\n",
    "```\n",
    "should give something pretty close to 1.00000339."
   ]
  },
  {
   "cell_type": "code",
   "execution_count": null,
   "id": "dc7ea761",
   "metadata": {
    "deletable": false,
    "nbgrader": {
     "cell_type": "code",
     "checksum": "6a4e2e89f45a18c128cc1c7ba254db75",
     "grade": false,
     "grade_id": "cell-89ec0c6ad2d8f9fa",
     "locked": false,
     "schema_version": 3,
     "solution": true,
     "task": false
    }
   },
   "outputs": [],
   "source": [
    "def simpsons_rule2(func, xmin, xmax, n=10):\n",
    "    # YOUR CODE HERE\n",
    "    raise NotImplementedError()"
   ]
  },
  {
   "cell_type": "code",
   "execution_count": null,
   "id": "830d787e",
   "metadata": {
    "deletable": false,
    "editable": false,
    "nbgrader": {
     "cell_type": "code",
     "checksum": "2c4f57bdcb44edc37e2fb52711dbf7ba",
     "grade": true,
     "grade_id": "cell-9019ca6df0e41e56",
     "locked": true,
     "points": 0,
     "schema_version": 3,
     "solution": false,
     "task": false
    }
   },
   "outputs": [],
   "source": [
    "# No marks: function test\n",
    "\n",
    "try:\n",
    "    assert(np.isclose(simpsons_rule2(np.sin, 0, np.pi/2), 1.00000339))\n",
    "except:\n",
    "    print('Test failed!')\n",
    "else:\n",
    "    print('Test passed!')"
   ]
  },
  {
   "cell_type": "code",
   "execution_count": null,
   "id": "460d2836",
   "metadata": {
    "deletable": false,
    "editable": false,
    "nbgrader": {
     "cell_type": "code",
     "checksum": "6636880182d45ee2d86b20187a5c1b5f",
     "grade": true,
     "grade_id": "cell-8064ad50498daec1",
     "locked": true,
     "points": 4,
     "schema_version": 3,
     "solution": false,
     "task": false
    }
   },
   "outputs": [],
   "source": [
    "# 4 Marks\n",
    "# Do not try to delete this cell\n",
    "# Run this cell for grading\n",
    "_globals = globals()\n",
    "question2b(_globals)"
   ]
  },
  {
   "cell_type": "markdown",
   "id": "a4f8f1fa",
   "metadata": {
    "deletable": false,
    "editable": false,
    "nbgrader": {
     "cell_type": "markdown",
     "checksum": "e7f010ebba52fbf9f9023774f643753b",
     "grade": false,
     "grade_id": "cell-1a9c179800b3dba8",
     "locked": true,
     "schema_version": 3,
     "solution": false,
     "task": false
    }
   },
   "source": [
    "(c) Suppose\n",
    "\n",
    "```python\n",
    "f = lambda x: x**5 - x**4\n",
    "```\n",
    "\n",
    "Which of the following statements is true?\n",
    "\n",
    "<ol>\n",
    "    <li>Both of my Simpson's Rule functions work if <code>f</code> is a lambda-expression like this.</li>\n",
    "    <li>Only the first version, based on loops or comprehensions, works if <code>f</code> is a lambda-expression like this.</li>\n",
    "    <li>Only the second version, based on vectorization, works if <code>f</code> is a lambda-expression like this.</li>    \n",
    "    <li>Neither of my Simpson's Rule functions work if <code>f</code> is a lambda-expression like this.</li>\n",
    "</ol>"
   ]
  },
  {
   "cell_type": "code",
   "execution_count": null,
   "id": "8e61ea99",
   "metadata": {
    "deletable": false,
    "nbgrader": {
     "cell_type": "code",
     "checksum": "31932e699b20d34e6623f36b33be9f06",
     "grade": false,
     "grade_id": "cell-f26754aa5f6764b1",
     "locked": false,
     "schema_version": 3,
     "solution": true,
     "task": false
    }
   },
   "outputs": [],
   "source": [
    "# YOUR CODE HERE\n",
    "raise NotImplementedError()\n",
    "\n",
    "question2c_answer = # insert one of 1, 2, 3 or 4"
   ]
  },
  {
   "cell_type": "code",
   "execution_count": null,
   "id": "a363f58d",
   "metadata": {
    "deletable": false,
    "editable": false,
    "nbgrader": {
     "cell_type": "code",
     "checksum": "a5d00d3cfe1d1ee26493176942a45b58",
     "grade": true,
     "grade_id": "cell-20f9a47628789e74",
     "locked": true,
     "points": 1,
     "schema_version": 3,
     "solution": false,
     "task": false
    }
   },
   "outputs": [],
   "source": [
    "# 1 Mark\n",
    "assert(question2c_answer == question2c())\n",
    "print('test case passed!')"
   ]
  },
  {
   "cell_type": "markdown",
   "id": "fb3c669c",
   "metadata": {
    "deletable": false,
    "editable": false,
    "nbgrader": {
     "cell_type": "markdown",
     "checksum": "f90b1258c3e77aeb732ba6db40692776",
     "grade": false,
     "grade_id": "cell-7f7cfc4307920b54",
     "locked": true,
     "schema_version": 3,
     "solution": false,
     "task": false
    }
   },
   "source": [
    "(d) Suppose\n",
    "\n",
    "```python\n",
    "f = math.sin\n",
    "```\n",
    "\n",
    "Which of the following statements is true?\n",
    "\n",
    "<ol>\n",
    "    <li>Both of my Simpson's Rule functions work if <code>f</code> is a <code>math</code> function like this.</li>\n",
    "    <li>Only the first version, based on loops or comprehensions, works if <code>f</code> is a <code>math</code> function like this.</li>\n",
    "    <li>Only the second version, based on vectorization, works if <code>f</code> is a <code>math</code> function like this.</li>    \n",
    "    <li>Neither of my Simpson's Rule functions work if <code>f</code> is a <code>math</code> function like this.</li>\n",
    "</ol>"
   ]
  },
  {
   "cell_type": "code",
   "execution_count": null,
   "id": "c070c6ef",
   "metadata": {
    "deletable": false,
    "nbgrader": {
     "cell_type": "code",
     "checksum": "7151f7fe938f87bade7b5cf0239d0054",
     "grade": false,
     "grade_id": "cell-6e70447cf4a24ab7",
     "locked": false,
     "schema_version": 3,
     "solution": true,
     "task": false
    }
   },
   "outputs": [],
   "source": [
    "# YOUR CODE HERE\n",
    "raise NotImplementedError()\n",
    "\n",
    "question2d_answer = # insert one of 1, 2, 3 or 4"
   ]
  },
  {
   "cell_type": "code",
   "execution_count": null,
   "id": "027d616a",
   "metadata": {
    "deletable": false,
    "editable": false,
    "nbgrader": {
     "cell_type": "code",
     "checksum": "8b1936d6597b32f77c542268eff56d09",
     "grade": true,
     "grade_id": "cell-2d53b14c84cacf50",
     "locked": true,
     "points": 1,
     "schema_version": 3,
     "solution": false,
     "task": false
    }
   },
   "outputs": [],
   "source": [
    "# 1 Mark\n",
    "assert(question2d_answer == question2d())\n",
    "print('test case passed!')"
   ]
  },
  {
   "cell_type": "markdown",
   "id": "b68ed2d0",
   "metadata": {
    "deletable": false,
    "editable": false,
    "nbgrader": {
     "cell_type": "markdown",
     "checksum": "eccd7a75519a28ff77d08a6a8bc7432e",
     "grade": false,
     "grade_id": "cell-9ca0d6004a391634",
     "locked": true,
     "schema_version": 3,
     "solution": false,
     "task": false
    }
   },
   "source": [
    "(e) Suppose\n",
    "\n",
    "```python\n",
    "f = np.sin\n",
    "```\n",
    "\n",
    "Which of the following statements is true?\n",
    "\n",
    "<ol>\n",
    "    <li>Both of my Simpson's Rule functions work if <code>f</code> is a NumPy function like this.</li>\n",
    "    <li>Only the first version, based on loops or comprehensions, works if <code>f</code> is a NumPy function like this.</li>\n",
    "    <li>Only the second version, based on vectorization, works if <code>f</code> is a NumPy function like this.</li>    \n",
    "    <li>Neither of my Simpson's Rule functions work if <code>f</code> is a NumPy function like this.</li>\n",
    "</ol>"
   ]
  },
  {
   "cell_type": "code",
   "execution_count": null,
   "id": "5ea832d3",
   "metadata": {
    "deletable": false,
    "nbgrader": {
     "cell_type": "code",
     "checksum": "3885765071480d2eb68b73bbd9897da5",
     "grade": false,
     "grade_id": "cell-ff823037ad2d47a5",
     "locked": false,
     "schema_version": 3,
     "solution": true,
     "task": false
    }
   },
   "outputs": [],
   "source": [
    "# YOUR CODE HERE\n",
    "raise NotImplementedError()\n",
    "\n",
    "question2e_answer = # insert one of 1, 2, 3 or 4"
   ]
  },
  {
   "cell_type": "code",
   "execution_count": null,
   "id": "84b85a4a",
   "metadata": {
    "deletable": false,
    "editable": false,
    "nbgrader": {
     "cell_type": "code",
     "checksum": "1e63f7ec6f4e5db7ec57f2c4487694f0",
     "grade": true,
     "grade_id": "cell-2448503a027accb7",
     "locked": true,
     "points": 1,
     "schema_version": 3,
     "solution": false,
     "task": false
    }
   },
   "outputs": [],
   "source": [
    "# 1 Mark\n",
    "assert(question2e_answer == question2e())\n",
    "print('test case passed!')"
   ]
  },
  {
   "cell_type": "markdown",
   "id": "9da2e0fc",
   "metadata": {
    "deletable": false,
    "editable": false,
    "nbgrader": {
     "cell_type": "markdown",
     "checksum": "c822d6e1f8adc92299efaea5177ad9a6",
     "grade": false,
     "grade_id": "cell-03022bb356226386",
     "locked": true,
     "schema_version": 3,
     "solution": false,
     "task": false
    }
   },
   "source": [
    "(f) Use both your functions to calculate an estimate for\n",
    "$$\\int_0^{\\pi/2}\\sin x\\,dx$$\n",
    "using `n = 5000000` (this is actually a silly thing to do, since rounding error soon mounts up and overwhelms any gains from using more sub-intervals).\n",
    "\n",
    "Use the `time` function from the `time` module to time both operations.\n",
    "\n",
    "Which of the following statements is true?\n",
    "<ol>\n",
    "    <li>Each of my Simpson's Rule functions executes in a similar time for large <code>n</code>.</li>\n",
    "    <li>The first version, based on loops or comprehensions, executes in a shorter time for large <code>n</code>.</li>\n",
    "    <li>The second version, based on vectorization, executes in a shorter time for large <code>n</code>.</li>\n",
    "</ol>"
   ]
  },
  {
   "cell_type": "code",
   "execution_count": null,
   "id": "cedab18b",
   "metadata": {
    "deletable": false,
    "nbgrader": {
     "cell_type": "code",
     "checksum": "5c52273c8da5a5e9bf280c893ed7260d",
     "grade": false,
     "grade_id": "cell-8abba501a3d58d61",
     "locked": false,
     "schema_version": 3,
     "solution": true,
     "task": false
    }
   },
   "outputs": [],
   "source": [
    "# YOUR CODE HERE\n",
    "raise NotImplementedError()\n",
    "\n",
    "question2f_answer = # insert one of 1, 2 or 3"
   ]
  },
  {
   "cell_type": "code",
   "execution_count": null,
   "id": "825d9749",
   "metadata": {
    "deletable": false,
    "editable": false,
    "nbgrader": {
     "cell_type": "code",
     "checksum": "955c04024e27e2b331d5bea256a11519",
     "grade": true,
     "grade_id": "cell-2f2acae932361545",
     "locked": true,
     "points": 1,
     "schema_version": 3,
     "solution": false,
     "task": false
    }
   },
   "outputs": [],
   "source": [
    "# 1 Mark\n",
    "assert(question2f_answer == question2f())\n",
    "print('test case passed!')"
   ]
  },
  {
   "cell_type": "markdown",
   "id": "2148e680",
   "metadata": {
    "deletable": false,
    "editable": false,
    "nbgrader": {
     "cell_type": "markdown",
     "checksum": "9af958ee3ad95ff1af469687f45ac3da",
     "grade": false,
     "grade_id": "cell-d5f550638e3e4621",
     "locked": true,
     "schema_version": 3,
     "solution": false,
     "task": false
    }
   },
   "source": [
    "## Question 3\n",
    "\n",
    "The <b>Arnol'd sine map</b> is a discrete-time dynamical model for the behaviour of certain types of nonlinear oscillator. It takes the form of a function of a variable $\\theta$:\n",
    "\n",
    "$$f_{\\Omega, K}(\\theta) = \\theta + \\Omega - \\frac{K}{2\\,\\pi}\\,\\sin(2\\,\\pi\\,\\theta).$$"
   ]
  },
  {
   "cell_type": "markdown",
   "id": "f7ce1c2a",
   "metadata": {
    "deletable": false,
    "editable": false,
    "nbgrader": {
     "cell_type": "markdown",
     "checksum": "edebe0b60e2868dc77da54d67c42d739",
     "grade": false,
     "grade_id": "cell-39628829fa744f6e",
     "locked": true,
     "schema_version": 3,
     "solution": false,
     "task": false
    }
   },
   "source": [
    "(a) Write and test two versions of an Arnol'd sine map function, called `sine_map1` and `sine_map2`. Each should take as its arguments three floats, standing for values of $\\Omega$, $K$ and $\\theta$, and return a single float equal to $f_{\\Omega,K}(\\theta).$ The first should use only functions and constants from the `math` module, and the second only functions and constants from NumPy. \n",
    "\n",
    "Good values for $\\Omega$, $K$ and $\\theta$ are $0.3$, $1.0$ and $0.3$ respectively."
   ]
  },
  {
   "cell_type": "code",
   "execution_count": null,
   "id": "53ccefc2",
   "metadata": {
    "deletable": false,
    "nbgrader": {
     "cell_type": "code",
     "checksum": "136a5ecc26d9e6c1dff477359f7ac20f",
     "grade": false,
     "grade_id": "cell-e4b4f219fda0a2da",
     "locked": false,
     "schema_version": 3,
     "solution": true,
     "task": false
    }
   },
   "outputs": [],
   "source": [
    "# YOUR CODE HERE\n",
    "raise NotImplementedError()"
   ]
  },
  {
   "cell_type": "code",
   "execution_count": null,
   "id": "62a221e7",
   "metadata": {
    "deletable": false,
    "editable": false,
    "nbgrader": {
     "cell_type": "code",
     "checksum": "f070a2f3618166f9a1f8fed3a3b5b708",
     "grade": true,
     "grade_id": "cell-58a1559519a47dc2",
     "locked": true,
     "points": 0,
     "schema_version": 3,
     "solution": false,
     "task": false
    }
   },
   "outputs": [],
   "source": [
    "# No marks: test cell\n",
    "\n",
    "try:\n",
    "    assert(np.isclose(sine_map1(0.3, 1.0, 0.3), 0.6 - 1.0/(2*np.pi) * np.sin(2*np.pi*0.3)))\n",
    "    assert(np.isclose(sine_map2(0.3, 1.0, 0.3), 0.6 - 1.0/(2*np.pi) * np.sin(2*np.pi*0.3)))\n",
    "except:\n",
    "    print('Test failed!')\n",
    "else:\n",
    "    print('Test passed!')"
   ]
  },
  {
   "cell_type": "code",
   "execution_count": null,
   "id": "32868279",
   "metadata": {
    "deletable": false,
    "editable": false,
    "nbgrader": {
     "cell_type": "code",
     "checksum": "9519cdfa85d24eae5ccea2243647c70f",
     "grade": true,
     "grade_id": "cell-7787ad54e7eb6eec",
     "locked": true,
     "points": 2,
     "schema_version": 3,
     "solution": false,
     "task": false
    }
   },
   "outputs": [],
   "source": [
    "# 2 Marks\n",
    "# Do not try to delete this cell\n",
    "# Run this cell for grading\n",
    "_globals = globals()\n",
    "question3a(_globals)"
   ]
  },
  {
   "cell_type": "markdown",
   "id": "d3b08ba4",
   "metadata": {
    "deletable": false,
    "editable": false,
    "nbgrader": {
     "cell_type": "markdown",
     "checksum": "4f9154ed6f38f8cb9c543eff076f36cc",
     "grade": false,
     "grade_id": "cell-1a3fdc0df5a5e562",
     "locked": true,
     "schema_version": 3,
     "solution": false,
     "task": false
    }
   },
   "source": [
    "(b) Which of the following statements is true:\n",
    "\n",
    "<ol>\n",
    "    <li>If $K$ and $\\theta$ are floats, and $\\Omega$ is a one-dimensional NumPy array, both of my sine map functions work.</li>\n",
    "    <li>If $K$ and $\\theta$ are floats, and $\\Omega$ is a one-dimensional NumPy array, only the first version, based on <code>math</code> functions, works.</li>\n",
    "    <li>If $K$ and $\\theta$ are floats, and $\\Omega$ is a one-dimensional NumPy array, only the second version, based on NumPy functions, works.</li>\n",
    "    <li>If $K$ and $\\theta$ are floats, and $\\Omega$ is a one-dimensional NumPy array, neither of my sine map functions works.</li>\n",
    "</ol>"
   ]
  },
  {
   "cell_type": "code",
   "execution_count": null,
   "id": "842deda5",
   "metadata": {
    "deletable": false,
    "nbgrader": {
     "cell_type": "code",
     "checksum": "ae9579a918f969d3e703988429311b92",
     "grade": false,
     "grade_id": "cell-04074d9bc4c731ad",
     "locked": false,
     "schema_version": 3,
     "solution": true,
     "task": false
    }
   },
   "outputs": [],
   "source": [
    "# YOUR CODE HERE\n",
    "raise NotImplementedError()\n",
    "\n",
    "question3b_answer = # insert one of 1, 2, 3 or 4"
   ]
  },
  {
   "cell_type": "code",
   "execution_count": null,
   "id": "dc943770",
   "metadata": {
    "deletable": false,
    "editable": false,
    "nbgrader": {
     "cell_type": "code",
     "checksum": "a1a3496401eea49d69bab6db465cd5e7",
     "grade": true,
     "grade_id": "cell-1c92c32f1c423af9",
     "locked": true,
     "points": 1,
     "schema_version": 3,
     "solution": false,
     "task": false
    }
   },
   "outputs": [],
   "source": [
    "# 1 Mark\n",
    "assert(question3b_answer == question3b())\n",
    "print('test case passed!')"
   ]
  },
  {
   "cell_type": "markdown",
   "id": "92eabc32",
   "metadata": {
    "deletable": false,
    "editable": false,
    "nbgrader": {
     "cell_type": "markdown",
     "checksum": "b0714c0fef730554c8e04c6f495d8ceb",
     "grade": false,
     "grade_id": "cell-3b1935f0363e1e0f",
     "locked": true,
     "schema_version": 3,
     "solution": false,
     "task": false
    }
   },
   "source": [
    "(c) Which of the following statements is true:\n",
    "\n",
    "<ol>\n",
    "    <li>If $\\Omega$ and $K$ are floats, and $\\theta$ is a one-dimensional NumPy array, both of my sine map functions work.</li>\n",
    "    <li>If $\\Omega$ and $K$ are floats, and $\\theta$ is a one-dimensional NumPy array, only the first version, based on <code>math</code> functions, works.</li>\n",
    "    <li>If $\\Omega$ and $K$ are floats, and $\\theta$ is a one-dimensional NumPy array, only the second version, based on NumPy functions, works.</li>\n",
    "    <li>If $\\Omega$ and $K$ are floats, and $\\theta$ is a one-dimensional NumPy array, neither of my sine map functions works.</li>\n",
    "</ol>"
   ]
  },
  {
   "cell_type": "code",
   "execution_count": null,
   "id": "3a697861",
   "metadata": {
    "deletable": false,
    "nbgrader": {
     "cell_type": "code",
     "checksum": "626d0e7ebd3a9a57e598dd6117f76ef2",
     "grade": false,
     "grade_id": "cell-ec549d0d6d9d6ab7",
     "locked": false,
     "schema_version": 3,
     "solution": true,
     "task": false
    }
   },
   "outputs": [],
   "source": [
    "# YOUR CODE HERE\n",
    "raise NotImplementedError()\n",
    "\n",
    "question3c_answer = # insert one of 1, 2, 3 or 4"
   ]
  },
  {
   "cell_type": "code",
   "execution_count": null,
   "id": "69f132f3",
   "metadata": {
    "deletable": false,
    "editable": false,
    "nbgrader": {
     "cell_type": "code",
     "checksum": "e9978e9db14a3d177a011e52d08053f2",
     "grade": true,
     "grade_id": "cell-bdae71a6aa59ad6d",
     "locked": true,
     "points": 1,
     "schema_version": 3,
     "solution": false,
     "task": false
    }
   },
   "outputs": [],
   "source": [
    "# 1 Mark\n",
    "assert(question3c_answer == question3c())\n",
    "print('test case passed!')"
   ]
  },
  {
   "cell_type": "markdown",
   "id": "c7bb0804",
   "metadata": {
    "deletable": false,
    "editable": false,
    "nbgrader": {
     "cell_type": "markdown",
     "checksum": "0a52d38c3ebc0bb9a647e382c429a54f",
     "grade": false,
     "grade_id": "cell-298465893c6199b1",
     "locked": true,
     "schema_version": 3,
     "solution": false,
     "task": false
    }
   },
   "source": [
    "(d) The <b>rotation number</b> of the Arnol'd sine map, $\\omega_{\\Omega, K}(\\theta_0)$, can be defined to be\n",
    "$$\\lim_{n\\to\\infty}\\frac{\\theta_n-\\theta_0}{n},$$\n",
    "where $\\theta_0, \\theta_1, \\dots, \\theta_n$ are successive iterates of the sine map. An estimate for the rotation number can be obtained using the formula\n",
    "$$\\frac{\\theta_N-\\theta_0}{N},$$\n",
    "where $N$ is a large positive integer (sometimes quite a large value is necessary for a good approximation).\n",
    "\n",
    "Under suitable conditions, the rotation number can be shown to be independent of $\\theta_0$.\n",
    "\n",
    "Write and test functions called `rotation_number1` and `rotation_number2`. Each should take as its argument values of $\\Omega$, $K$ and $\\theta_0$, and a positive integer value of $N$, which should by default be 10000. Each should return a value of \n",
    "$$\\frac{\\theta_N-\\theta_0}{N}.$$\n",
    "The first should call only your `sine_map1` function, and the second only your `sine_map2` function."
   ]
  },
  {
   "cell_type": "code",
   "execution_count": null,
   "id": "0a8be9f9",
   "metadata": {
    "deletable": false,
    "nbgrader": {
     "cell_type": "code",
     "checksum": "d6f2d85d6f4226fc782c99d4bd02cb38",
     "grade": false,
     "grade_id": "cell-9a9c8a3ed39b96d8",
     "locked": false,
     "schema_version": 3,
     "solution": true,
     "task": false
    }
   },
   "outputs": [],
   "source": [
    "# YOUR CODE HERE\n",
    "raise NotImplementedError()"
   ]
  },
  {
   "cell_type": "code",
   "execution_count": null,
   "id": "284d1da0",
   "metadata": {
    "deletable": false,
    "editable": false,
    "nbgrader": {
     "cell_type": "code",
     "checksum": "e6c4309650df2c589202d5cef243156d",
     "grade": true,
     "grade_id": "cell-5db8aebad3b0b18a",
     "locked": true,
     "points": 8,
     "schema_version": 3,
     "solution": false,
     "task": false
    }
   },
   "outputs": [],
   "source": [
    "# 8 Marks\n",
    "# Do not try to delete this cell\n",
    "# Run this cell for grading\n",
    "_globals = globals()\n",
    "question3d(_globals)"
   ]
  },
  {
   "cell_type": "markdown",
   "id": "31f70e34",
   "metadata": {
    "deletable": false,
    "editable": false,
    "nbgrader": {
     "cell_type": "markdown",
     "checksum": "c0c5aa280975ced6528c575e424a0216",
     "grade": false,
     "grade_id": "cell-06952eda20e38547",
     "locked": true,
     "schema_version": 3,
     "solution": false,
     "task": false
    }
   },
   "source": [
    "Your second function should work if $K$ and $\\theta$ are floats, $N$ is a positive int, and $\\Omega$ is a one-dimensional NumPy array. \n",
    "\n",
    "Your first function <em>may</em> work in those circumstances, or it may not; this depends on exactly how you've implemented it. (It won't need to, so if it doesn't, don't worry; Phil's doesn't!)\n",
    "\n",
    "The second function should also work if $\\Omega$ and $K$ are floats, $N$ is a positive int, and $\\theta$ is a one-dimensional NumPy array, but the first is unlikely to.\n",
    "\n",
    "You might want to check these things!"
   ]
  },
  {
   "cell_type": "markdown",
   "id": "eb8bd580",
   "metadata": {
    "deletable": false,
    "editable": false,
    "nbgrader": {
     "cell_type": "markdown",
     "checksum": "0ade116bc90663d3a6a7a46df033eb40",
     "grade": false,
     "grade_id": "cell-870a3c4c7de5a498",
     "locked": true,
     "schema_version": 3,
     "solution": false,
     "task": false
    }
   },
   "source": [
    "For a suitable value of $K$ such as $1$, the plot of the rotation number of the sine map against $\\Omega$ is fascinating mathematically. It's an example of a so-called <b>Devil's staircase</b>, which is continuous everywhere, and differentiable with gradient zero <em>almost</em> everywhere (in a certain precise sense), and yet increases from 0 to 1 over the unit interval.\n",
    "\n",
    "(e) Write test a function called `rotation_number_list1`. It should take as its arguments\n",
    "<ul>\n",
    "    <li>A list of values of $\\Omega$, <code>omega_list</code>.</li>\n",
    "    <li>Floats representing the values of $K$ and $\\theta_0$.</li>\n",
    "    <li>A positive int, $N$, by default equal to 10000.</li>\n",
    "</ul>\n",
    "\n",
    "It should then use your `rotation_number1` function in a suitable loop or comprehension, and return a list consisting of estimates for $\\omega_{\\Omega,K}(\\theta_0)$ for each value of $\\Omega$ in `omega_list`. It should make no use at all of NumPy functionality.\n",
    "\n",
    "In your tests, use fairly short lists of $\\Omega$-values and fairly small values of $N$."
   ]
  },
  {
   "cell_type": "code",
   "execution_count": null,
   "id": "ea09b963",
   "metadata": {
    "deletable": false,
    "nbgrader": {
     "cell_type": "code",
     "checksum": "b766aab9dfb50bc15fd62888cd768912",
     "grade": false,
     "grade_id": "cell-155fce44558c929a",
     "locked": false,
     "schema_version": 3,
     "solution": true,
     "task": false
    }
   },
   "outputs": [],
   "source": [
    "# YOUR CODE HERE\n",
    "raise NotImplementedError()"
   ]
  },
  {
   "cell_type": "code",
   "execution_count": null,
   "id": "f522de9e",
   "metadata": {
    "deletable": false,
    "editable": false,
    "nbgrader": {
     "cell_type": "code",
     "checksum": "606d75d6ecfd731e2d62e6d845521e8a",
     "grade": true,
     "grade_id": "cell-b358d3a0bb82a9eb",
     "locked": true,
     "points": 3,
     "schema_version": 3,
     "solution": false,
     "task": false
    }
   },
   "outputs": [],
   "source": [
    "# 3 Marks\n",
    "# Do not try to delete this cell\n",
    "# Run this cell for grading\n",
    "_globals = globals()\n",
    "question3e(_globals)"
   ]
  },
  {
   "cell_type": "markdown",
   "id": "ce784eaf",
   "metadata": {
    "deletable": false,
    "editable": false,
    "nbgrader": {
     "cell_type": "markdown",
     "checksum": "4ecf926d85369247b45f66f5ad973190",
     "grade": false,
     "grade_id": "cell-a7699756718f5bdb",
     "locked": true,
     "schema_version": 3,
     "solution": false,
     "task": false
    }
   },
   "source": [
    "(f) Use your `rotation_number_list1` function to create a plot of estimated rotation number against $\\Omega$ for \n",
    "$$\\Omega = 0.00, 0.01, 0.02, \\dots , 1.00;$$\n",
    "use $K=1$, $\\theta_0=0.3$ and $N=1000$."
   ]
  },
  {
   "cell_type": "code",
   "execution_count": null,
   "id": "c14f0135",
   "metadata": {
    "deletable": false,
    "nbgrader": {
     "cell_type": "code",
     "checksum": "11dec5b63b393f9ab08dd2431aeeb354",
     "grade": false,
     "grade_id": "cell-6ad73ad008cb9314",
     "locked": false,
     "schema_version": 3,
     "solution": true,
     "task": false
    }
   },
   "outputs": [],
   "source": [
    "# YOUR CODE HERE\n",
    "raise NotImplementedError()"
   ]
  },
  {
   "cell_type": "code",
   "execution_count": null,
   "id": "bb13a3b9",
   "metadata": {
    "deletable": false,
    "editable": false,
    "nbgrader": {
     "cell_type": "code",
     "checksum": "371ebb260d0c355784e8005d608bdaed",
     "grade": true,
     "grade_id": "cell-fe12868d197f140c",
     "locked": true,
     "points": 1,
     "schema_version": 3,
     "solution": false,
     "task": false
    }
   },
   "outputs": [],
   "source": [
    "# 1 Mark\n",
    "# Do not try to delete this cell\n",
    "# Run this cell for grading\n",
    "_globals = globals()\n",
    "question3f_plot(_globals)"
   ]
  },
  {
   "cell_type": "markdown",
   "id": "fe117f57",
   "metadata": {
    "deletable": false,
    "editable": false,
    "nbgrader": {
     "cell_type": "markdown",
     "checksum": "434551abbccea73e1e53455b9e9ca480",
     "grade": false,
     "grade_id": "cell-072e0c8e1429e6ef",
     "locked": true,
     "schema_version": 3,
     "solution": false,
     "task": false
    }
   },
   "source": [
    "(g) Directly use your `rotation_number2` function, which should work fine on 1D NumPy arrays of $\\Omega$-values, to create a plot of estimated rotation number against $\\Omega$ for \n",
    "$$\\Omega = 0.00, 0.01, 0.02, \\dots , 1.00;$$\n",
    "use $K=1$, $\\theta_0=0.3$ and $N=1000$. "
   ]
  },
  {
   "cell_type": "code",
   "execution_count": null,
   "id": "db02502e",
   "metadata": {
    "deletable": false,
    "nbgrader": {
     "cell_type": "code",
     "checksum": "0d76b654285db563a255d2253105d4ab",
     "grade": false,
     "grade_id": "cell-f8aeaeda3163b281",
     "locked": false,
     "schema_version": 3,
     "solution": true,
     "task": false
    }
   },
   "outputs": [],
   "source": [
    "# YOUR CODE HERE\n",
    "raise NotImplementedError()"
   ]
  },
  {
   "cell_type": "code",
   "execution_count": null,
   "id": "9cbc4447",
   "metadata": {
    "deletable": false,
    "editable": false,
    "nbgrader": {
     "cell_type": "code",
     "checksum": "4ea1043b3f107d87c9164f2c897eef02",
     "grade": true,
     "grade_id": "cell-e0c94bb97c8c9e49",
     "locked": true,
     "points": 1,
     "schema_version": 3,
     "solution": false,
     "task": false
    }
   },
   "outputs": [],
   "source": [
    "# 1 Mark\n",
    "# Do not try to delete this cell\n",
    "# Run this cell for grading\n",
    "_globals = globals()\n",
    "question3g_plot(_globals)"
   ]
  },
  {
   "cell_type": "markdown",
   "id": "ae145a6c",
   "metadata": {
    "deletable": false,
    "editable": false,
    "nbgrader": {
     "cell_type": "markdown",
     "checksum": "02bf6bf6454cce62bab2363eac43a300",
     "grade": false,
     "grade_id": "cell-d5941a0f1eb00edd",
     "locked": true,
     "schema_version": 3,
     "solution": false,
     "task": false
    }
   },
   "source": [
    "(h) Repeat parts (f) and (g), this time for \n",
    "$$\\Omega = 0.000, 0.001, 0.002, \\dots, 1.000$$\n",
    "and $N=10000$ (use the same values for $K$ and $\\theta_0$). Use the `time` function from the `time` module to time the operations. \n",
    "\n",
    "Which of the following statements is true?\n",
    "\n",
    "<ol>\n",
    "    <li>The first method, based entirely on comprehensions and loops, and the second method, using vectorization, execute this task in similar time.</li>\n",
    "    <li>The first method, based entirely on comprehensions and loops, executes this task faster than the second method, using vectorization.</li>\n",
    "    <li>The first method, based entirely on comprehensions and loops, executes this task slower than the second method, using vectorization.</li>\n",
    "</ol>"
   ]
  },
  {
   "cell_type": "code",
   "execution_count": null,
   "id": "e2587530",
   "metadata": {
    "deletable": false,
    "nbgrader": {
     "cell_type": "code",
     "checksum": "c0eeebeb35a55a1d121eeb1071929e44",
     "grade": false,
     "grade_id": "cell-135f4a4df99980ad",
     "locked": false,
     "schema_version": 3,
     "solution": true,
     "task": false
    }
   },
   "outputs": [],
   "source": [
    "# YOUR CODE HERE\n",
    "raise NotImplementedError()\n",
    "\n",
    "question3h_answer = # insert one of 1, 2 or 3"
   ]
  },
  {
   "cell_type": "code",
   "execution_count": null,
   "id": "4ccd03a4",
   "metadata": {
    "deletable": false,
    "editable": false,
    "nbgrader": {
     "cell_type": "code",
     "checksum": "bd32571312ca78c5dc761df14a7c7f1e",
     "grade": true,
     "grade_id": "cell-0e2d33207cdcb7f8",
     "locked": true,
     "points": 1,
     "schema_version": 3,
     "solution": false,
     "task": false
    }
   },
   "outputs": [],
   "source": [
    "# 1 Mark\n",
    "assert(question3h_answer == question3h())\n",
    "print('test case passed!')"
   ]
  },
  {
   "cell_type": "markdown",
   "id": "6b8c8665",
   "metadata": {
    "deletable": false,
    "editable": false,
    "nbgrader": {
     "cell_type": "markdown",
     "checksum": "6599973cc620111f20fc6214383f515c",
     "grade": false,
     "grade_id": "cell-f322390caad2dcb9",
     "locked": true,
     "schema_version": 3,
     "solution": false,
     "task": false
    }
   },
   "source": [
    "## Question 4 (i)\n",
    "\n",
    "(a) Create an array called `ints` containing all the integers between 2 and 30 inclusive."
   ]
  },
  {
   "cell_type": "code",
   "execution_count": null,
   "id": "93c8e1ff",
   "metadata": {
    "deletable": false,
    "nbgrader": {
     "cell_type": "code",
     "checksum": "ce5f57b73cacd568e652c4c73e505ee5",
     "grade": false,
     "grade_id": "cell-eac09923cde5db3a",
     "locked": false,
     "schema_version": 3,
     "solution": true,
     "task": false
    }
   },
   "outputs": [],
   "source": [
    "# YOUR CODE HERE\n",
    "raise NotImplementedError()\n",
    "\n",
    "print(ints)"
   ]
  },
  {
   "cell_type": "code",
   "execution_count": null,
   "id": "37926ad5",
   "metadata": {
    "deletable": false,
    "editable": false,
    "nbgrader": {
     "cell_type": "code",
     "checksum": "1fb30e59f2521568538ec1682e167a37",
     "grade": true,
     "grade_id": "cell-d52e44e778dc2558",
     "locked": true,
     "points": 2,
     "schema_version": 3,
     "solution": false,
     "task": false
    }
   },
   "outputs": [],
   "source": [
    "# 2 Marks\n",
    "# Do not try to delete this cell\n",
    "# Run this cell for grading\n",
    "_globals = globals()\n",
    "question4ia(_globals)"
   ]
  },
  {
   "cell_type": "markdown",
   "id": "0ffc3f96",
   "metadata": {
    "deletable": false,
    "editable": false,
    "nbgrader": {
     "cell_type": "markdown",
     "checksum": "1bb2c3930db8cbfd3d3ddeffb7be7920",
     "grade": false,
     "grade_id": "cell-4881007ac42b4df4",
     "locked": true,
     "schema_version": 3,
     "solution": false,
     "task": false
    }
   },
   "source": [
    "(b) Create, in one line, without using a comprehension, a Boolean array `bool1` consisting of `True` wherever the corresponding element of `ints` is divisible by 5, and `False` everywhere else; it should thus begin, when printed,\n",
    "\n",
    "```\n",
    "[False False False  True ...\n",
    "```"
   ]
  },
  {
   "cell_type": "code",
   "execution_count": null,
   "id": "c61bd9a6",
   "metadata": {
    "deletable": false,
    "nbgrader": {
     "cell_type": "code",
     "checksum": "971895fdc1fc0339221f9ef7f5ca648d",
     "grade": false,
     "grade_id": "cell-ecda2f6c00c81c7c",
     "locked": false,
     "schema_version": 3,
     "solution": true,
     "task": false
    }
   },
   "outputs": [],
   "source": [
    "# YOUR CODE HERE\n",
    "raise NotImplementedError()\n",
    "\n",
    "print(bool1)"
   ]
  },
  {
   "cell_type": "code",
   "execution_count": null,
   "id": "83c3d541",
   "metadata": {
    "deletable": false,
    "editable": false,
    "nbgrader": {
     "cell_type": "code",
     "checksum": "9e1ebc39c49d0841ec86952dcab8c27a",
     "grade": true,
     "grade_id": "cell-e1fabf84a9751575",
     "locked": true,
     "points": 2,
     "schema_version": 3,
     "solution": false,
     "task": false
    }
   },
   "outputs": [],
   "source": [
    "# 2 Marks\n",
    "# Do not try to delete this cell\n",
    "# Run this cell for grading\n",
    "_globals = globals()\n",
    "question4ib(_globals)"
   ]
  },
  {
   "cell_type": "markdown",
   "id": "7ceb2ad0",
   "metadata": {
    "deletable": false,
    "editable": false,
    "nbgrader": {
     "cell_type": "markdown",
     "checksum": "120af08c5563cc6597c868dd06444844",
     "grade": false,
     "grade_id": "cell-eb42110e2d01ca1f",
     "locked": true,
     "schema_version": 3,
     "solution": false,
     "task": false
    }
   },
   "source": [
    "(c) In one line, without using a comprehension, create an array `ints2` consisting of all those elements of `ints` that are not divisible by 5. "
   ]
  },
  {
   "cell_type": "code",
   "execution_count": null,
   "id": "ab4beed4",
   "metadata": {
    "deletable": false,
    "nbgrader": {
     "cell_type": "code",
     "checksum": "96294622da4046413312e489de130e00",
     "grade": false,
     "grade_id": "cell-794f25e0bac35656",
     "locked": false,
     "schema_version": 3,
     "solution": true,
     "task": false
    }
   },
   "outputs": [],
   "source": [
    "# YOUR CODE HERE\n",
    "raise NotImplementedError()\n",
    "\n",
    "print(ints2)"
   ]
  },
  {
   "cell_type": "code",
   "execution_count": null,
   "id": "a1530c28",
   "metadata": {
    "deletable": false,
    "editable": false,
    "nbgrader": {
     "cell_type": "code",
     "checksum": "d0b224366677f131e067456a36e23cee",
     "grade": true,
     "grade_id": "cell-190de25fd929f66e",
     "locked": true,
     "points": 2,
     "schema_version": 3,
     "solution": false,
     "task": false
    }
   },
   "outputs": [],
   "source": [
    "# 2 Marks\n",
    "# Do not try to delete this cell\n",
    "# Run this cell for grading\n",
    "_globals = globals()\n",
    "question4ic(_globals)"
   ]
  },
  {
   "cell_type": "markdown",
   "id": "08724217",
   "metadata": {
    "deletable": false,
    "editable": false,
    "nbgrader": {
     "cell_type": "markdown",
     "checksum": "56b88eae4a1a7e0e2409339272cc0e70",
     "grade": false,
     "grade_id": "cell-947a95bfa58cdece",
     "locked": true,
     "schema_version": 3,
     "solution": false,
     "task": false
    }
   },
   "source": [
    "(d) In one line, without using a comprehension, create an array `ints3` consisting of all those elements of `ints` that are divisible by neither 3 nor 4."
   ]
  },
  {
   "cell_type": "code",
   "execution_count": null,
   "id": "59cfc41c",
   "metadata": {
    "deletable": false,
    "nbgrader": {
     "cell_type": "code",
     "checksum": "20809e16321ab1bf2e3a15f14238b50d",
     "grade": false,
     "grade_id": "cell-2095db5e816b850c",
     "locked": false,
     "schema_version": 3,
     "solution": true,
     "task": false
    }
   },
   "outputs": [],
   "source": [
    "# YOUR CODE HERE\n",
    "raise NotImplementedError()\n",
    "\n",
    "print(ints3)"
   ]
  },
  {
   "cell_type": "code",
   "execution_count": null,
   "id": "58cbbc33",
   "metadata": {
    "deletable": false,
    "editable": false,
    "nbgrader": {
     "cell_type": "code",
     "checksum": "f207c4450578896c544a8d56aced76de",
     "grade": true,
     "grade_id": "cell-7e9789685eae5a84",
     "locked": true,
     "points": 2,
     "schema_version": 3,
     "solution": false,
     "task": false
    }
   },
   "outputs": [],
   "source": [
    "# 2 Marks\n",
    "# Do not try to delete this cell\n",
    "# Run this cell for grading\n",
    "_globals = globals()\n",
    "question4id(_globals)"
   ]
  },
  {
   "cell_type": "markdown",
   "id": "65345e63",
   "metadata": {
    "deletable": false,
    "editable": false,
    "nbgrader": {
     "cell_type": "markdown",
     "checksum": "68a80d12ab459b75c32b3d35f38a71b6",
     "grade": false,
     "grade_id": "cell-1ce045a5cb566b96",
     "locked": true,
     "schema_version": 3,
     "solution": false,
     "task": false
    }
   },
   "source": [
    "(e) In one line, without using a comprehension, create an array `ints4` consisting of all those elements of `ints` that are either equal to 2 or not divisible by 2."
   ]
  },
  {
   "cell_type": "code",
   "execution_count": null,
   "id": "6bb8433a",
   "metadata": {
    "deletable": false,
    "nbgrader": {
     "cell_type": "code",
     "checksum": "1d7d88273a01381ebd0463bd63324e9f",
     "grade": false,
     "grade_id": "cell-3b3d86d1a82f3819",
     "locked": false,
     "schema_version": 3,
     "solution": true,
     "task": false
    }
   },
   "outputs": [],
   "source": [
    "# YOUR CODE HERE\n",
    "raise NotImplementedError()\n",
    "\n",
    "print(ints4)"
   ]
  },
  {
   "cell_type": "code",
   "execution_count": null,
   "id": "7c4cb52e",
   "metadata": {
    "deletable": false,
    "editable": false,
    "nbgrader": {
     "cell_type": "code",
     "checksum": "c55b958844a0781eb727f9317ac2fb85",
     "grade": true,
     "grade_id": "cell-9c8a2db5fa301d58",
     "locked": true,
     "points": 2,
     "schema_version": 3,
     "solution": false,
     "task": false
    }
   },
   "outputs": [],
   "source": [
    "# 2 Marks\n",
    "# Do not try to delete this cell\n",
    "# Run this cell for grading\n",
    "_globals = globals()\n",
    "question4ie(_globals)"
   ]
  },
  {
   "cell_type": "markdown",
   "id": "8c43ccb0",
   "metadata": {
    "deletable": false,
    "editable": false,
    "nbgrader": {
     "cell_type": "markdown",
     "checksum": "e577584e791e83a20beb3094a07eb73a",
     "grade": false,
     "grade_id": "cell-248aaa857c22b3eb",
     "locked": true,
     "schema_version": 3,
     "solution": false,
     "task": false
    }
   },
   "source": [
    "(f) Write and test a function called `my_primes2` that takes as its argument an int `n` greater than or equal to 2, and returns a NumPy array consisting of all the primes between 2 and `n` inclusive. Your function should use the Sieve of Eratosthenes, should work using Boolean arrays instead of comprehensions and should not use more iterations than are strictly necessary."
   ]
  },
  {
   "cell_type": "code",
   "execution_count": null,
   "id": "a5b393bc",
   "metadata": {
    "deletable": false,
    "nbgrader": {
     "cell_type": "code",
     "checksum": "1bb802d21e7903e106d8aa4c34200368",
     "grade": false,
     "grade_id": "cell-f3c52ab5aef547d6",
     "locked": false,
     "schema_version": 3,
     "solution": true,
     "task": false
    }
   },
   "outputs": [],
   "source": [
    "def my_primes2(n):\n",
    "    # YOUR CODE HERE\n",
    "    raise NotImplementedError()"
   ]
  },
  {
   "cell_type": "code",
   "execution_count": null,
   "id": "567133d1",
   "metadata": {
    "deletable": false,
    "editable": false,
    "nbgrader": {
     "cell_type": "code",
     "checksum": "70c0c90ebbe85a5fba00e641facd323a",
     "grade": true,
     "grade_id": "cell-0d8cd3336582ffe3",
     "locked": true,
     "points": 6,
     "schema_version": 3,
     "solution": false,
     "task": false
    }
   },
   "outputs": [],
   "source": [
    "# 6 Marks\n",
    "# Do not try to delete this cell\n",
    "# Run this cell for grading\n",
    "_globals = globals()\n",
    "question4if(_globals)"
   ]
  },
  {
   "cell_type": "markdown",
   "id": "449a3032",
   "metadata": {
    "deletable": false,
    "editable": false,
    "nbgrader": {
     "cell_type": "markdown",
     "checksum": "47229252d5431fcc4f43e7e909d26a20",
     "grade": false,
     "grade_id": "cell-f72cf2864c0ff37a",
     "locked": true,
     "schema_version": 3,
     "solution": false,
     "task": false
    }
   },
   "source": [
    "## Question 4 (ii)\n",
    "\n",
    "(a) For comparison purposes, write, or get from somewhere, a version called `my_primes1` which uses \"core\" Python lists instead, and filters using comprehensions instead of Boolean arrays. Test it."
   ]
  },
  {
   "cell_type": "code",
   "execution_count": null,
   "id": "13f7b7d3",
   "metadata": {
    "deletable": false,
    "nbgrader": {
     "cell_type": "code",
     "checksum": "8421c0292a49414a8aff454fab651035",
     "grade": false,
     "grade_id": "cell-5a61d3c0313b5e3e",
     "locked": false,
     "schema_version": 3,
     "solution": true,
     "task": false
    }
   },
   "outputs": [],
   "source": [
    "def my_primes1(n):\n",
    "    # YOUR CODE HERE\n",
    "    raise NotImplementedError()"
   ]
  },
  {
   "cell_type": "code",
   "execution_count": null,
   "id": "e991313d",
   "metadata": {
    "deletable": false,
    "editable": false,
    "nbgrader": {
     "cell_type": "code",
     "checksum": "968d4503bf13778cd70a51769243755a",
     "grade": true,
     "grade_id": "cell-d2a98728ef5b8a8e",
     "locked": true,
     "points": 6,
     "schema_version": 3,
     "solution": false,
     "task": false
    }
   },
   "outputs": [],
   "source": [
    "# 6 Marks\n",
    "# Do not try to delete this cell\n",
    "# Run this cell for grading\n",
    "_globals = globals()\n",
    "question4iia(_globals)"
   ]
  },
  {
   "cell_type": "markdown",
   "id": "f02c0b09",
   "metadata": {
    "deletable": false,
    "editable": false,
    "nbgrader": {
     "cell_type": "markdown",
     "checksum": "7abc68ccb9ddc3bfa2cef20d1669441f",
     "grade": false,
     "grade_id": "cell-162ebbecbc6222e6",
     "locked": true,
     "schema_version": 3,
     "solution": false,
     "task": false
    }
   },
   "source": [
    "Your `my_primes2` function is likely to run much more efficiently than `my_primes1`, but depending on exactly how you've implemented it, we may be able to do even better. There's a video on Blackboard that explains the general approach, and it also cropped up on a bonus question earlier in the module; or you can just follow the steps in this part of the question.\n",
    "\n",
    "To get started, set up an array of 101 copies of `True`, as follows:"
   ]
  },
  {
   "cell_type": "code",
   "execution_count": null,
   "id": "9d667ef9",
   "metadata": {
    "deletable": false,
    "editable": false,
    "nbgrader": {
     "cell_type": "code",
     "checksum": "d0e7d74b8f040816e4afdb54bbc66af5",
     "grade": false,
     "grade_id": "cell-c33958c525cb1e33",
     "locked": true,
     "schema_version": 3,
     "solution": false,
     "task": false
    }
   },
   "outputs": [],
   "source": [
    "sieving_array = np.ones(101, dtype='bool')\n",
    "print(sieving_array)"
   ]
  },
  {
   "cell_type": "markdown",
   "id": "eef2306e",
   "metadata": {
    "deletable": false,
    "editable": false,
    "nbgrader": {
     "cell_type": "markdown",
     "checksum": "5be546e269f3218899c5aa755abca6f7",
     "grade": false,
     "grade_id": "cell-ec641bf4e1303ece",
     "locked": true,
     "schema_version": 3,
     "solution": false,
     "task": false
    }
   },
   "source": [
    "(b) Make the values of the first two elements of this array (those with index 0 and 1) equal to `False`; do this in one line if you can."
   ]
  },
  {
   "cell_type": "code",
   "execution_count": null,
   "id": "9ad2b453",
   "metadata": {
    "deletable": false,
    "nbgrader": {
     "cell_type": "code",
     "checksum": "9cf6b303d06018b87131b0045b2bfbb4",
     "grade": false,
     "grade_id": "cell-91704fbf0ad42a52",
     "locked": false,
     "schema_version": 3,
     "solution": true,
     "task": false
    }
   },
   "outputs": [],
   "source": [
    "# YOUR CODE HERE\n",
    "raise NotImplementedError()\n",
    "print(sieving_array)"
   ]
  },
  {
   "cell_type": "code",
   "execution_count": null,
   "id": "66c2e0a8",
   "metadata": {
    "deletable": false,
    "editable": false,
    "nbgrader": {
     "cell_type": "code",
     "checksum": "483598440e840ccdc646c05872bbc5d2",
     "grade": true,
     "grade_id": "cell-a6e17ead0d44d65e",
     "locked": true,
     "points": 1,
     "schema_version": 3,
     "solution": false,
     "task": false
    }
   },
   "outputs": [],
   "source": [
    "# 1 Mark\n",
    "# Do not try to delete this cell\n",
    "# Run this cell for grading\n",
    "_globals = globals()\n",
    "question4iib(_globals)"
   ]
  },
  {
   "cell_type": "markdown",
   "id": "9d587294",
   "metadata": {
    "deletable": false,
    "editable": false,
    "nbgrader": {
     "cell_type": "markdown",
     "checksum": "76ea333f603efc5a5554927d6e93554d",
     "grade": false,
     "grade_id": "cell-8cfab1eca4504183",
     "locked": true,
     "schema_version": 3,
     "solution": false,
     "task": false
    }
   },
   "source": [
    "(c) Make the elements with indexes $4, 6, 8, \\dots$ equal to `False`; do this in one line if you can."
   ]
  },
  {
   "cell_type": "code",
   "execution_count": null,
   "id": "b00baa07",
   "metadata": {
    "deletable": false,
    "nbgrader": {
     "cell_type": "code",
     "checksum": "bb95eecac5f5e3cfbde83f67e9e53098",
     "grade": false,
     "grade_id": "cell-da7f5b4f9967a290",
     "locked": false,
     "schema_version": 3,
     "solution": true,
     "task": false
    }
   },
   "outputs": [],
   "source": [
    "# YOUR CODE HERE\n",
    "raise NotImplementedError()\n",
    "print(sieving_array)"
   ]
  },
  {
   "cell_type": "code",
   "execution_count": null,
   "id": "4578b85d",
   "metadata": {
    "deletable": false,
    "editable": false,
    "nbgrader": {
     "cell_type": "code",
     "checksum": "41e316cb490472a68ac63fe8d419cffb",
     "grade": true,
     "grade_id": "cell-285814d146dc1acf",
     "locked": true,
     "points": 1,
     "schema_version": 3,
     "solution": false,
     "task": false
    }
   },
   "outputs": [],
   "source": [
    "# 1 Mark\n",
    "# Do not try to delete this cell\n",
    "# Run this cell for grading\n",
    "_globals = globals()\n",
    "question4iic(_globals)"
   ]
  },
  {
   "cell_type": "markdown",
   "id": "5b4cd1e9",
   "metadata": {
    "deletable": false,
    "editable": false,
    "nbgrader": {
     "cell_type": "markdown",
     "checksum": "d3c6f27ce00de4cf9a9aaf43efef31f6",
     "grade": false,
     "grade_id": "cell-36e18c550f1c7883",
     "locked": true,
     "schema_version": 3,
     "solution": false,
     "task": false
    }
   },
   "source": [
    "(d) Make the elements with indexes $9, 12, 15, \\dots$ equal to `False`; again, in one line if possible. Some of them will already have the value `False`, but don't worry about that."
   ]
  },
  {
   "cell_type": "code",
   "execution_count": null,
   "id": "c8f75780",
   "metadata": {
    "deletable": false,
    "nbgrader": {
     "cell_type": "code",
     "checksum": "4af8c14240ccf664397889c72a84eb9b",
     "grade": false,
     "grade_id": "cell-09bc88b8b713ede2",
     "locked": false,
     "schema_version": 3,
     "solution": true,
     "task": false
    }
   },
   "outputs": [],
   "source": [
    "# YOUR CODE HERE\n",
    "raise NotImplementedError()\n",
    "print(sieving_array)"
   ]
  },
  {
   "cell_type": "code",
   "execution_count": null,
   "id": "d275c069",
   "metadata": {
    "deletable": false,
    "editable": false,
    "nbgrader": {
     "cell_type": "code",
     "checksum": "736d9c82dcb8fef1a7827a5c2b6cda98",
     "grade": true,
     "grade_id": "cell-822d38b5938639a6",
     "locked": true,
     "points": 1,
     "schema_version": 3,
     "solution": false,
     "task": false
    }
   },
   "outputs": [],
   "source": [
    "# 1 Mark\n",
    "# Do not try to delete this cell\n",
    "# Run this cell for grading\n",
    "_globals = globals()\n",
    "question4iid(_globals)"
   ]
  },
  {
   "cell_type": "markdown",
   "id": "4924844d",
   "metadata": {
    "deletable": false,
    "editable": false,
    "nbgrader": {
     "cell_type": "markdown",
     "checksum": "f2711ec0e778f85e12abf606c3318983",
     "grade": false,
     "grade_id": "cell-c6e971e4f9a3b123",
     "locked": true,
     "schema_version": 3,
     "solution": false,
     "task": false
    }
   },
   "source": [
    "(e) Make the elements with indexes $25, 30, 35, \\dots$ equal to `False`."
   ]
  },
  {
   "cell_type": "code",
   "execution_count": null,
   "id": "cc8ebd8f",
   "metadata": {
    "deletable": false,
    "nbgrader": {
     "cell_type": "code",
     "checksum": "5a9758c3c873ad77b615e0c885c93dbe",
     "grade": false,
     "grade_id": "cell-dc8d4c365b9bba5d",
     "locked": false,
     "schema_version": 3,
     "solution": true,
     "task": false
    }
   },
   "outputs": [],
   "source": [
    "# YOUR CODE HERE\n",
    "raise NotImplementedError()\n",
    "print(sieving_array)"
   ]
  },
  {
   "cell_type": "code",
   "execution_count": null,
   "id": "ce6725cb",
   "metadata": {
    "deletable": false,
    "editable": false,
    "nbgrader": {
     "cell_type": "code",
     "checksum": "81ae55d77e53f07a2f74a8f94cd7f767",
     "grade": true,
     "grade_id": "cell-7644f05ed735d983",
     "locked": true,
     "points": 1,
     "schema_version": 3,
     "solution": false,
     "task": false
    }
   },
   "outputs": [],
   "source": [
    "# 1 Mark\n",
    "# Do not try to delete this cell\n",
    "# Run this cell for grading\n",
    "_globals = globals()\n",
    "question4iie(_globals)"
   ]
  },
  {
   "cell_type": "markdown",
   "id": "a1d75672",
   "metadata": {
    "deletable": false,
    "editable": false,
    "nbgrader": {
     "cell_type": "markdown",
     "checksum": "ca18c9f3028c43ea2a33b5f27298d7ba",
     "grade": false,
     "grade_id": "cell-d6adfaf3bf8721a3",
     "locked": true,
     "schema_version": 3,
     "solution": false,
     "task": false
    }
   },
   "source": [
    "(f) Make the elements with indexes $49, 56, 63, \\dots$ equal to `False`."
   ]
  },
  {
   "cell_type": "code",
   "execution_count": null,
   "id": "03569d4b",
   "metadata": {
    "deletable": false,
    "nbgrader": {
     "cell_type": "code",
     "checksum": "e8597757ad4bc8f0f7d73abec7e2a1f8",
     "grade": false,
     "grade_id": "cell-07827aa992961ea3",
     "locked": false,
     "schema_version": 3,
     "solution": true,
     "task": false
    }
   },
   "outputs": [],
   "source": [
    "# YOUR CODE HERE\n",
    "raise NotImplementedError()\n",
    "print(sieving_array)"
   ]
  },
  {
   "cell_type": "code",
   "execution_count": null,
   "id": "cb3ad0a5",
   "metadata": {
    "deletable": false,
    "editable": false,
    "nbgrader": {
     "cell_type": "code",
     "checksum": "466145e65e8ec39cf1a21db77edeaa73",
     "grade": true,
     "grade_id": "cell-21d0c4d4d300c6ae",
     "locked": true,
     "points": 1,
     "schema_version": 3,
     "solution": false,
     "task": false
    }
   },
   "outputs": [],
   "source": [
    "# 1 Mark\n",
    "# Do not try to delete this cell\n",
    "# Run this cell for grading\n",
    "_globals = globals()\n",
    "question4iif(_globals)"
   ]
  },
  {
   "cell_type": "markdown",
   "id": "61d63723",
   "metadata": {
    "deletable": false,
    "editable": false,
    "nbgrader": {
     "cell_type": "markdown",
     "checksum": "38cab141654cccdde695826b1968b119",
     "grade": false,
     "grade_id": "cell-6b77b4b8b2015d5d",
     "locked": true,
     "schema_version": 3,
     "solution": false,
     "task": false
    }
   },
   "source": [
    "If you now calculate"
   ]
  },
  {
   "cell_type": "code",
   "execution_count": null,
   "id": "25c912da",
   "metadata": {
    "deletable": false,
    "editable": false,
    "nbgrader": {
     "cell_type": "code",
     "checksum": "7eb4d389e5306f1b549c104b3deed099",
     "grade": false,
     "grade_id": "cell-fa8de3d824c53f03",
     "locked": true,
     "schema_version": 3,
     "solution": false,
     "task": false
    }
   },
   "outputs": [],
   "source": [
    "np.arange(101)[sieving_array]"
   ]
  },
  {
   "cell_type": "markdown",
   "id": "b540917c",
   "metadata": {
    "deletable": false,
    "editable": false,
    "nbgrader": {
     "cell_type": "markdown",
     "checksum": "43d2bcd752d7651361548f64d3acf2a0",
     "grade": false,
     "grade_id": "cell-5f336645c1a86790",
     "locked": true,
     "schema_version": 3,
     "solution": false,
     "task": false
    }
   },
   "source": [
    "you should see an array of the primes less than or equal to 100."
   ]
  },
  {
   "cell_type": "markdown",
   "id": "00934d2d",
   "metadata": {
    "deletable": false,
    "editable": false,
    "nbgrader": {
     "cell_type": "markdown",
     "checksum": "a225063d7217aa54e466ee49828b457f",
     "grade": false,
     "grade_id": "cell-016044db14e397cb",
     "locked": true,
     "schema_version": 3,
     "solution": false,
     "task": false
    }
   },
   "source": [
    "## Question 4 (iii)\n",
    "(a) Write, and test, a function called `my_primes3`, which uses logical arrays in the way you've explored in part (ii) of this question to calculate an array of the primes less than or equal to the input `n`. There's a NumPy function called `where` that might be useful here, though you don't actually have to use it."
   ]
  },
  {
   "cell_type": "code",
   "execution_count": null,
   "id": "81ae3ee0",
   "metadata": {
    "deletable": false,
    "nbgrader": {
     "cell_type": "code",
     "checksum": "b850a854418f547d5a0e83a21b209d12",
     "grade": false,
     "grade_id": "cell-117e9153cf873081",
     "locked": false,
     "schema_version": 3,
     "solution": true,
     "task": false
    }
   },
   "outputs": [],
   "source": [
    "def my_primes3(n):\n",
    "    # YOUR CODE HERE\n",
    "    raise NotImplementedError()"
   ]
  },
  {
   "cell_type": "code",
   "execution_count": null,
   "id": "8871a441",
   "metadata": {
    "deletable": false,
    "editable": false,
    "nbgrader": {
     "cell_type": "code",
     "checksum": "783f7fac018af1efa77ab1eea3c6266d",
     "grade": true,
     "grade_id": "cell-401d2f684a8fde45",
     "locked": true,
     "points": 6,
     "schema_version": 3,
     "solution": false,
     "task": false
    }
   },
   "outputs": [],
   "source": [
    "# 6 Marks\n",
    "# Do not try to delete this cell\n",
    "# Run this cell for grading\n",
    "_globals = globals()\n",
    "question4iiia(_globals)"
   ]
  },
  {
   "cell_type": "markdown",
   "id": "582b49ae",
   "metadata": {
    "deletable": false,
    "editable": false,
    "nbgrader": {
     "cell_type": "markdown",
     "checksum": "7207c4686c0808eafae6bc6343315a67",
     "grade": false,
     "grade_id": "cell-58ca461fd9e64dfd",
     "locked": true,
     "schema_version": 3,
     "solution": false,
     "task": false
    }
   },
   "source": [
    "(b) Using the `time` function from the `time` module, compare the performance of `my_primes1`, `my_primes2` and `my_primes3` on calculating (without printing them) the primes less than or equal to one million.\n",
    "\n",
    "(Here, autograding simply tests whether the comparative performance of your three functions is what we'd expect.)"
   ]
  },
  {
   "cell_type": "code",
   "execution_count": null,
   "id": "294b63dc",
   "metadata": {
    "deletable": false,
    "nbgrader": {
     "cell_type": "code",
     "checksum": "f4e22169bfe5dc1663a722b5f9e3203c",
     "grade": false,
     "grade_id": "cell-72d0926e8c64e8b8",
     "locked": false,
     "schema_version": 3,
     "solution": true,
     "task": false
    }
   },
   "outputs": [],
   "source": [
    "# YOUR CODE HERE\n",
    "raise NotImplementedError()"
   ]
  },
  {
   "cell_type": "code",
   "execution_count": null,
   "id": "56aa65ac",
   "metadata": {
    "deletable": false,
    "editable": false,
    "nbgrader": {
     "cell_type": "code",
     "checksum": "ba1c90d32d92102cb95556592b0d9a7d",
     "grade": true,
     "grade_id": "cell-5bcc7f6ebfa8abd1",
     "locked": true,
     "points": 3,
     "schema_version": 3,
     "solution": false,
     "task": false
    }
   },
   "outputs": [],
   "source": [
    "# 3 Marks\n",
    "# Do not try to delete this cell\n",
    "# Run this cell for grading\n",
    "_globals = globals()\n",
    "question4iiib(_globals)"
   ]
  },
  {
   "cell_type": "markdown",
   "id": "943ce070",
   "metadata": {
    "deletable": false,
    "editable": false,
    "nbgrader": {
     "cell_type": "markdown",
     "checksum": "71b11f7b767e2516af6976e02686e031",
     "grade": false,
     "grade_id": "cell-83b612ad27c9ec79",
     "locked": true,
     "schema_version": 3,
     "solution": false,
     "task": false
    }
   },
   "source": [
    "## Bonus Question\n",
    "\n",
    "Write a function `first_deriv_approx_data`, which takes as inputs a 1D NumPy array (that is, a vector) of data points `x` and a vector of corresponding $f(x)$ values `y`. The function should return the best possible numerical approximations possible for the values of $f'(x)$ at each value of `x`, in each case using the forward, backward and central difference formulae; the function should use the most accurate formula for each and every point. Should `x` or `y` be empty, then the function should return the string, `'Insufficient Data'`."
   ]
  },
  {
   "cell_type": "code",
   "execution_count": null,
   "id": "9d0d1f75",
   "metadata": {
    "deletable": false,
    "nbgrader": {
     "cell_type": "code",
     "checksum": "653f0c3340e89a151de59e0740ab2dcf",
     "grade": false,
     "grade_id": "cell-78c093eca8a031a2",
     "locked": false,
     "schema_version": 3,
     "solution": true,
     "task": false
    }
   },
   "outputs": [],
   "source": [
    "def first_deriv_approx_data(x, y):\n",
    "    # YOUR CODE HERE\n",
    "    raise NotImplementedError()"
   ]
  },
  {
   "cell_type": "code",
   "execution_count": null,
   "id": "54bcf40a",
   "metadata": {
    "deletable": false,
    "editable": false,
    "nbgrader": {
     "cell_type": "code",
     "checksum": "ed7b7c3f62426b1fb10d4b9b133015d7",
     "grade": true,
     "grade_id": "cell-9f6f6248ae8d7384",
     "locked": true,
     "points": 1,
     "schema_version": 3,
     "solution": false,
     "task": false
    }
   },
   "outputs": [],
   "source": [
    "# Run this test cell to check your code\n",
    "# Do not delete this cell\n",
    "# 1 Mark\n",
    "x = np.array([1.1, 1.2, 1.3, 1.4]) \n",
    "y = np.array([9.025013, 11.02318, 13.46374, 16.44465])\n",
    "npt.assert_array_almost_equal([22.193635, 27.10735 ], first_deriv_approx_data(x, y)[1:-1])\n",
    "print(\"Test case passed!!!\")"
   ]
  },
  {
   "cell_type": "code",
   "execution_count": null,
   "id": "d6a28702",
   "metadata": {
    "deletable": false,
    "editable": false,
    "nbgrader": {
     "cell_type": "code",
     "checksum": "2bed1c3122560d4cf3d91f724a6b8c9d",
     "grade": true,
     "grade_id": "cell-9bb25c809ff8ad35",
     "locked": true,
     "points": 1,
     "schema_version": 3,
     "solution": false,
     "task": false
    }
   },
   "outputs": [],
   "source": [
    "# Run this test cell to check your code\n",
    "# Do not delete this cell\n",
    "# 1 Mark\n",
    "x = np.array([1.1, 1.2, 1.3, 1.4]) \n",
    "y = np.array([9.025013, 11.02318, 13.46374, 16.44465])\n",
    "npt.assert_almost_equal(19.98167000000003,  first_deriv_approx_data(x, y)[0])\n",
    "print(\"Test case passed!!!\")"
   ]
  },
  {
   "cell_type": "code",
   "execution_count": null,
   "id": "e05b7fe8",
   "metadata": {
    "deletable": false,
    "editable": false,
    "nbgrader": {
     "cell_type": "code",
     "checksum": "26bbf6762bcd632d22f812609f2974cc",
     "grade": true,
     "grade_id": "cell-d31fe351f5c21be5",
     "locked": true,
     "points": 1,
     "schema_version": 3,
     "solution": false,
     "task": false
    }
   },
   "outputs": [],
   "source": [
    "# Run this test cell to check your code\n",
    "# Do not delete this cell\n",
    "# 1 Mark\n",
    "x = np.array([1.1, 1.2, 1.3, 1.4]) \n",
    "y = np.array([9.025013, 11.02318, 13.46374, 16.44465])\n",
    "npt.assert_almost_equal(29.809100000000036,  first_deriv_approx_data(x, y)[-1])\n",
    "print(\"Test case passed!!!\")"
   ]
  },
  {
   "cell_type": "code",
   "execution_count": null,
   "id": "6d6b7879",
   "metadata": {
    "deletable": false,
    "editable": false,
    "nbgrader": {
     "cell_type": "code",
     "checksum": "505709fa723a8f4be8dfb775496b8103",
     "grade": true,
     "grade_id": "cell-00d699649ac22417",
     "locked": true,
     "points": 1,
     "schema_version": 3,
     "solution": false,
     "task": false
    }
   },
   "outputs": [],
   "source": [
    "# Run this test cell to check your code\n",
    "# Do not delete this cell\n",
    "# 1 Mark\n",
    "x = np.array([1.1, 1.2, 1.3, 1.4]) \n",
    "y = np.array([9.025013, 11.02318, 13.46374, 16.44465])\n",
    "npt.assert_array_almost_equal(np.array([19.98167 , 22.193635, 27.10735 , 29.8091  ]), first_deriv_approx_data(x, y))\n",
    "print('Test case passed!!!')"
   ]
  },
  {
   "cell_type": "code",
   "execution_count": null,
   "id": "43ffa033",
   "metadata": {
    "deletable": false,
    "editable": false,
    "nbgrader": {
     "cell_type": "code",
     "checksum": "0866ba9537b106c002f6ed33a00668a1",
     "grade": true,
     "grade_id": "cell-1f683b0b030307d4",
     "locked": true,
     "points": 2,
     "schema_version": 3,
     "solution": false,
     "task": false
    }
   },
   "outputs": [],
   "source": [
    "# Run this test cell to check your code\n",
    "# Do not delete this cell\n",
    "# 2 Marks"
   ]
  },
  {
   "cell_type": "code",
   "execution_count": null,
   "id": "57a67d2f",
   "metadata": {
    "deletable": false,
    "editable": false,
    "nbgrader": {
     "cell_type": "code",
     "checksum": "403cd816575fdf465a4b435fbb259153",
     "grade": true,
     "grade_id": "cell-b6bfeddfb200994e",
     "locked": true,
     "points": 2,
     "schema_version": 3,
     "solution": false,
     "task": false
    }
   },
   "outputs": [],
   "source": [
    "# Run this test cell to check your code\n",
    "# Do not delete this cell\n",
    "# 2 Marks"
   ]
  },
  {
   "cell_type": "code",
   "execution_count": null,
   "id": "9e0976d6",
   "metadata": {},
   "outputs": [],
   "source": []
  }
 ],
 "metadata": {
  "kernelspec": {
   "display_name": "Python 3 (ipykernel)",
   "language": "python",
   "name": "python3"
  },
  "language_info": {
   "codemirror_mode": {
    "name": "ipython",
    "version": 3
   },
   "file_extension": ".py",
   "mimetype": "text/x-python",
   "name": "python",
   "nbconvert_exporter": "python",
   "pygments_lexer": "ipython3",
   "version": "3.10.12"
  }
 },
 "nbformat": 4,
 "nbformat_minor": 5
}
