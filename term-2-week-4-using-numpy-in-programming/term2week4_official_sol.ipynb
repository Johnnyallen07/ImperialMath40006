{
 "cells": [
  {
   "cell_type": "code",
   "execution_count": 2,
   "id": "d9673d19",
   "metadata": {},
   "outputs": [
    {
     "name": "stdout",
     "output_type": "stream",
     "text": [
      "Autograder loaded successfully!\n",
      "Remember to always restart and run all from the Kernel menu before submitting!\n"
     ]
    }
   ],
   "source": [
    "from autograder_term2week4 import *\n",
    "_globals = globals()\n",
    "import numpy as np\n",
    "import numpy.testing as npt\n",
    "import math\n",
    "import matplotlib.pyplot as plt\n",
    "from time import time\n",
    "%matplotlib inline"
   ]
  },
  {
   "cell_type": "markdown",
   "id": "894c5707",
   "metadata": {
    "nbgrader": {
     "grade": false,
     "grade_id": "cell-681659d2c2f91666",
     "locked": true,
     "schema_version": 3,
     "solution": false,
     "task": false
    }
   },
   "source": [
    "# <center> Introduction to Mathematical Computing </center>\n",
    "### <center>Phil Ramsden, Boumediene Hamzi, Sam Brzezicki, Matt Woolway</center>\n",
    "\n",
    "# <center> Worksheet 9: Using numpy in Programming</center>\n",
    "\n",
    "**NOTE:** When answering a question, remember to remove the `raise NotImplementedError()` line."
   ]
  },
  {
   "cell_type": "markdown",
   "id": "b3682760",
   "metadata": {
    "nbgrader": {
     "grade": false,
     "grade_id": "cell-7d5792b3dcadbb28",
     "locked": true,
     "schema_version": 3,
     "solution": false,
     "task": false
    }
   },
   "source": [
    "## Question 0: don't miss this bit!\n",
    "\n",
    "In the file called `my_username.txt`, type your <b>short-form College user name</b> (this will usually be one or more letters followed by three or more figures, such as qk4019). Don't use quote marks. Then save the file."
   ]
  },
  {
   "cell_type": "code",
   "execution_count": 3,
   "id": "647c27ef",
   "metadata": {
    "nbgrader": {
     "grade": true,
     "grade_id": "cell-bea9ec0564902eff",
     "locked": true,
     "points": 5,
     "schema_version": 3,
     "solution": false,
     "task": false
    }
   },
   "outputs": [
    {
     "name": "stdout",
     "output_type": "stream",
     "text": [
      "You've changed the contents of the file; thank you!\n",
      "Your username has been recognised; thank you!\n",
      "\n",
      "5 out of 5 marks\n"
     ]
    },
    {
     "data": {
      "text/plain": "5"
     },
     "execution_count": 3,
     "metadata": {},
     "output_type": "execute_result"
    }
   ],
   "source": [
    "# 5 Marks\n",
    "# Do not try to delete this cell\n",
    "# Run this cell for grading of Question 0\n",
    "_globals = globals()\n",
    "question0(_globals)"
   ]
  },
  {
   "cell_type": "markdown",
   "id": "3a08bbbc",
   "metadata": {
    "nbgrader": {
     "grade": false,
     "grade_id": "cell-e6cff4b9e21316b7",
     "locked": true,
     "schema_version": 3,
     "solution": false,
     "task": false
    }
   },
   "source": [
    "## Question 1 (i)\n",
    "\n",
    "(a) Use the `range` function from \"core Python\" to create a `range` object called `myrange` containing the ints $97, 98, \\dots, 102$. Then create a list called `mylist` containing the same ints. Finally, use NumPy's `arange` function to create a one-dimensional NumPy array called `myarray` containing the same ints."
   ]
  },
  {
   "cell_type": "code",
   "execution_count": 4,
   "id": "cd493f09",
   "metadata": {
    "nbgrader": {
     "grade": false,
     "grade_id": "cell-d95e5dc3c8888d91",
     "locked": false,
     "schema_version": 3,
     "solution": true,
     "task": false
    }
   },
   "outputs": [
    {
     "name": "stdout",
     "output_type": "stream",
     "text": [
      "range(97, 103)\n",
      "[97, 98, 99, 100, 101, 102]\n",
      "[ 97  98  99 100 101 102]\n"
     ]
    }
   ],
   "source": [
    "### BEGIN SOLUTION\n",
    "myrange = range(97,103)\n",
    "mylist = list(myrange)\n",
    "myarray = np.arange(97,103)\n",
    "### END SOLUTION\n",
    "\n",
    "print(myrange)\n",
    "print(mylist)\n",
    "print(myarray)"
   ]
  },
  {
   "cell_type": "code",
   "execution_count": 5,
   "id": "a2461c3a",
   "metadata": {
    "nbgrader": {
     "grade": true,
     "grade_id": "cell-00ab6f202e921ef6",
     "locked": true,
     "points": 3,
     "schema_version": 3,
     "solution": false,
     "task": false
    }
   },
   "outputs": [
    {
     "name": "stdout",
     "output_type": "stream",
     "text": [
      "myrange contains the right numbers\n",
      "myrange is a range\n",
      "First test passed!\n",
      "\n",
      "mylist contains the right numbers\n",
      "mylist is a list\n",
      "Second test passed!\n",
      "\n",
      "myarray contains the right numbers\n",
      "myarray is a numpy array\n",
      "Final test passed!\n",
      "\n",
      "3 out of 3\n"
     ]
    },
    {
     "data": {
      "text/plain": "3"
     },
     "execution_count": 5,
     "metadata": {},
     "output_type": "execute_result"
    }
   ],
   "source": [
    "# 3 Marks\n",
    "# Do not try to delete this cell\n",
    "# Run this cell for grading\n",
    "_globals = globals()\n",
    "question1ia(_globals)"
   ]
  },
  {
   "cell_type": "markdown",
   "id": "29e62944",
   "metadata": {
    "nbgrader": {
     "grade": false,
     "grade_id": "cell-3973e5088e8161b2",
     "locked": true,
     "schema_version": 3,
     "solution": false,
     "task": false
    }
   },
   "source": [
    "(b) Write a `for` loop that iterates through `myrange`, printing the squares. Do the same for `mylist`, and attempt the same for `myarray`. Then state which of the following is true.\n",
    "\n",
    "<ol>\n",
    "    <li>You can iterate across <code>range</code> objects, Python lists and 1D NumPy arrays using a <code>for</code> loop, and afterwards, all three are unchanged.</li>\n",
    "    <li>You can iterate across <code>range</code> objects, Python lists and 1D NumPy arrays using a <code>for</code> loop, and afterwards, all three have become empty.</li>\n",
    "    <li>You can iterate across <code>range</code> objects, Python lists and 1D NumPy arrays using a <code>for</code> loop, and afterwards, only the NumPy array has become empty.</li>\n",
    "    <li>You can iterate across <code>range</code> objects and Python lists, but not 1D NumPy arrays, using a <code>for</code> loop.</li>\n",
    "</ol>"
   ]
  },
  {
   "cell_type": "code",
   "execution_count": 6,
   "id": "f4370155",
   "metadata": {
    "nbgrader": {
     "grade": false,
     "grade_id": "cell-ecc421cc340c9ac1",
     "locked": false,
     "schema_version": 3,
     "solution": true,
     "task": false
    }
   },
   "outputs": [
    {
     "name": "stdout",
     "output_type": "stream",
     "text": [
      "9409\n",
      "9604\n",
      "9801\n",
      "10000\n",
      "10201\n",
      "10404\n",
      "9409\n",
      "9604\n",
      "9801\n",
      "10000\n",
      "10201\n",
      "10404\n",
      "9409\n",
      "9604\n",
      "9801\n",
      "10000\n",
      "10201\n",
      "10404\n",
      "range(97, 103)\n",
      "[97, 98, 99, 100, 101, 102]\n",
      "[ 97  98  99 100 101 102]\n"
     ]
    }
   ],
   "source": [
    "### BEGIN SOLUTION\n",
    "for n in myrange:\n",
    "    print(n**2)\n",
    "for n in mylist:\n",
    "    print(n**2)\n",
    "for n in myarray:\n",
    "    print(n**2)\n",
    "    \n",
    "print(myrange)\n",
    "print(mylist)\n",
    "print(myarray)\n",
    "\n",
    "question1ib_answer = 1\n",
    "### END SOLUTION\n",
    "\n",
    "#question1ib_answer = # insert one of 1, 2, 3 or 4"
   ]
  },
  {
   "cell_type": "code",
   "execution_count": 7,
   "id": "2af7b7ed",
   "metadata": {
    "nbgrader": {
     "grade": true,
     "grade_id": "cell-2880fd28ceea31df",
     "locked": true,
     "points": 1,
     "schema_version": 3,
     "solution": false,
     "task": false
    }
   },
   "outputs": [
    {
     "name": "stdout",
     "output_type": "stream",
     "text": [
      "test case passed!\n"
     ]
    }
   ],
   "source": [
    "# 1 Mark\n",
    "assert(question1ib_answer == question1ib())\n",
    "print('test case passed!')"
   ]
  },
  {
   "cell_type": "markdown",
   "id": "79f7aba2",
   "metadata": {
    "nbgrader": {
     "grade": false,
     "grade_id": "cell-8c51da12cd758ab8",
     "locked": true,
     "schema_version": 3,
     "solution": false,
     "task": false
    }
   },
   "source": [
    "(c) Write a list comprehension that iterates across `myrange`, generating a list of all the squares; call it `range_squares`. Do the same for `mylist` (call it `list_squares`), and attempt the same for `my_array` (call it `array_squares` if it works)."
   ]
  },
  {
   "cell_type": "code",
   "execution_count": 8,
   "id": "b5710281",
   "metadata": {
    "nbgrader": {
     "grade": false,
     "grade_id": "cell-e2cda711fe7b4091",
     "locked": false,
     "schema_version": 3,
     "solution": true,
     "task": false
    }
   },
   "outputs": [
    {
     "name": "stdout",
     "output_type": "stream",
     "text": [
      "[9409, 9604, 9801, 10000, 10201, 10404]\n",
      "[9409, 9604, 9801, 10000, 10201, 10404]\n",
      "[9409, 9604, 9801, 10000, 10201, 10404]\n"
     ]
    }
   ],
   "source": [
    "### BEGIN SOLUTION\n",
    "range_squares = [n**2 for n in myrange]\n",
    "list_squares = [n**2 for n in mylist]\n",
    "array_squares = [n**2 for n in myarray]\n",
    "### END SOLUTION\n",
    "\n",
    "print(range_squares)\n",
    "print(list_squares)\n",
    "print(array_squares)"
   ]
  },
  {
   "cell_type": "code",
   "execution_count": 9,
   "id": "28c13c43",
   "metadata": {
    "nbgrader": {
     "grade": true,
     "grade_id": "cell-25df616fe295d313",
     "locked": true,
     "points": 3,
     "schema_version": 3,
     "solution": false,
     "task": false
    }
   },
   "outputs": [
    {
     "name": "stdout",
     "output_type": "stream",
     "text": [
      "range_squares contains the right numbers\n",
      "range_squares is a list\n",
      "First test passed!\n",
      "\n",
      "list_squares contains the right numbers\n",
      "list_squares is a list\n",
      "Second test passed!\n",
      "\n",
      "list_squares contains the right numbers\n",
      "array_squares is a list\n",
      "Final test passed!\n",
      "\n",
      "3 out of 3\n"
     ]
    },
    {
     "data": {
      "text/plain": "3"
     },
     "execution_count": 9,
     "metadata": {},
     "output_type": "execute_result"
    }
   ],
   "source": [
    "# 3 Marks\n",
    "# Do not try to delete this cell\n",
    "# Run this cell for grading\n",
    "_globals = globals()\n",
    "question1ic(_globals)"
   ]
  },
  {
   "cell_type": "markdown",
   "id": "8ff65f22",
   "metadata": {
    "nbgrader": {
     "grade": false,
     "grade_id": "cell-aac2b1132e590420",
     "locked": true,
     "schema_version": 3,
     "solution": false,
     "task": false
    }
   },
   "source": [
    "(d) State which of the following is true.\n",
    "\n",
    "<ol>\n",
    "    <li>You can iterate across <code>range</code> objects, Python lists and 1D NumPy arrays using a comprehension, and afterwards, all three are unchanged.</li>\n",
    "    <li>You can iterate across <code>range</code> objects, Python lists and 1D NumPy arrays using a comprehension, and afterwards, all three have become empty.</li>\n",
    "    <li>You can iterate across <code>range</code> objects, Python lists and 1D NumPy arrays using a comprehension, and afterwards, only the NumPy array has become empty.</li>\n",
    "    <li>You can iterate across <code>range</code> objects and Python lists, but not 1D NumPy arrays, using a comprehension.</li>\n",
    "</ol>"
   ]
  },
  {
   "cell_type": "code",
   "execution_count": 10,
   "id": "b427925b",
   "metadata": {
    "nbgrader": {
     "grade": false,
     "grade_id": "cell-c74c42776e88e283",
     "locked": false,
     "schema_version": 3,
     "solution": true,
     "task": false
    }
   },
   "outputs": [],
   "source": [
    "### BEGIN SOLUTION\n",
    "question1id_answer = 1\n",
    "### END SOLUTION"
   ]
  },
  {
   "cell_type": "code",
   "execution_count": 11,
   "id": "bfcd1d02",
   "metadata": {
    "nbgrader": {
     "grade": true,
     "grade_id": "cell-0f2922dc93503c01",
     "locked": true,
     "points": 1,
     "schema_version": 3,
     "solution": false,
     "task": false
    }
   },
   "outputs": [
    {
     "name": "stdout",
     "output_type": "stream",
     "text": [
      "test case passed!\n"
     ]
    }
   ],
   "source": [
    "# 1 Mark\n",
    "assert(question1id_answer == question1id())\n",
    "print('test case passed!')"
   ]
  },
  {
   "cell_type": "markdown",
   "id": "42523adc",
   "metadata": {
    "nbgrader": {
     "grade": false,
     "grade_id": "cell-7ef7309ca0252305",
     "locked": true,
     "schema_version": 3,
     "solution": false,
     "task": false
    }
   },
   "source": [
    "(e) From `myarray`, create a NumPy array consisting of all the squares; call it `square_array`. Do this in the simplest way possible, without using a loop or a comprehension. (Autograding won't be able to tell whether you've done that, though.)"
   ]
  },
  {
   "cell_type": "code",
   "execution_count": 12,
   "id": "74f96cee",
   "metadata": {
    "nbgrader": {
     "grade": false,
     "grade_id": "cell-06e87771988d7b9c",
     "locked": false,
     "schema_version": 3,
     "solution": true,
     "task": false
    }
   },
   "outputs": [
    {
     "name": "stdout",
     "output_type": "stream",
     "text": [
      "[ 9409  9604  9801 10000 10201 10404]\n"
     ]
    }
   ],
   "source": [
    "### BEGIN SOLUTION\n",
    "square_array = myarray ** 2\n",
    "### END SOLUTION\n",
    "\n",
    "print(square_array)"
   ]
  },
  {
   "cell_type": "code",
   "execution_count": 13,
   "id": "993a0cb4",
   "metadata": {
    "nbgrader": {
     "grade": true,
     "grade_id": "cell-fd7531034dc64ada",
     "locked": true,
     "points": 1,
     "schema_version": 3,
     "solution": false,
     "task": false
    }
   },
   "outputs": [
    {
     "name": "stdout",
     "output_type": "stream",
     "text": [
      "square_array contains the right numbers\n",
      "square_array is a numpy array\n",
      "\n",
      "1 out of 1\n"
     ]
    },
    {
     "data": {
      "text/plain": "1"
     },
     "execution_count": 13,
     "metadata": {},
     "output_type": "execute_result"
    }
   ],
   "source": [
    "# 1 Mark\n",
    "# Do not try to delete this cell\n",
    "# Run this cell for grading\n",
    "_globals = globals()\n",
    "question1ie(_globals)"
   ]
  },
  {
   "cell_type": "markdown",
   "id": "4b37081c",
   "metadata": {
    "nbgrader": {
     "grade": false,
     "grade_id": "cell-556db96c420024e2",
     "locked": true,
     "schema_version": 3,
     "solution": false,
     "task": false
    }
   },
   "source": [
    "(ii) Here's a simple lambda-expression:"
   ]
  },
  {
   "cell_type": "code",
   "execution_count": 14,
   "id": "684f61f2",
   "metadata": {
    "nbgrader": {
     "grade": false,
     "grade_id": "cell-0ff1acabb71bb83d",
     "locked": true,
     "schema_version": 3,
     "solution": false,
     "task": false
    }
   },
   "outputs": [],
   "source": [
    "add2 = lambda x, y : x + y"
   ]
  },
  {
   "cell_type": "markdown",
   "id": "a602ec31",
   "metadata": {
    "nbgrader": {
     "grade": false,
     "grade_id": "cell-258ef7c76e98f526",
     "locked": true,
     "schema_version": 3,
     "solution": false,
     "task": false
    }
   },
   "source": [
    "This should be read as \"Let add2 be the function of $x$ and $y$ that adds $x$ to $y$.\" Then \n",
    "\n",
    "```python\n",
    "add2(3, 4)\n",
    "```\n",
    "\n",
    "will return 7, and so on."
   ]
  },
  {
   "cell_type": "markdown",
   "id": "1961956b",
   "metadata": {
    "nbgrader": {
     "grade": false,
     "grade_id": "cell-eef72b94037dd2d3",
     "locked": true,
     "schema_version": 3,
     "solution": false,
     "task": false
    }
   },
   "source": [
    "(a) Use NumPy's `fromfunction` function, and the lambda-expression `add2` defined above, to create the 2d array `mat1`, which is equal to\n",
    "$$\\left(\n",
    "\\begin{array}{rrrr}\n",
    "0.0&1.0&2.0&3.0\\\\\n",
    "1.0&2.0&3.0&4.0\\\\\n",
    "2.0&3.0&4.0&5.0\n",
    "\\end{array}\\right).$$"
   ]
  },
  {
   "cell_type": "code",
   "execution_count": 15,
   "id": "510736ea",
   "metadata": {
    "nbgrader": {
     "grade": false,
     "grade_id": "cell-52765e48af5b8559",
     "locked": false,
     "schema_version": 3,
     "solution": true,
     "task": false
    }
   },
   "outputs": [
    {
     "name": "stdout",
     "output_type": "stream",
     "text": [
      "[[0. 1. 2. 3.]\n",
      " [1. 2. 3. 4.]\n",
      " [2. 3. 4. 5.]]\n"
     ]
    }
   ],
   "source": [
    "### BEGIN SOLUTION\n",
    "mat1 = np.fromfunction(add2, (3,4))\n",
    "### END SOLUTION\n",
    "\n",
    "print(mat1)"
   ]
  },
  {
   "cell_type": "code",
   "execution_count": 16,
   "id": "03040489",
   "metadata": {
    "nbgrader": {
     "grade": true,
     "grade_id": "cell-4c06f03e0246899a",
     "locked": true,
     "points": 1,
     "schema_version": 3,
     "solution": false,
     "task": false
    }
   },
   "outputs": [
    {
     "name": "stdout",
     "output_type": "stream",
     "text": [
      "Test passed!\n",
      "\n",
      "1 out of 1\n"
     ]
    },
    {
     "data": {
      "text/plain": "1"
     },
     "execution_count": 16,
     "metadata": {},
     "output_type": "execute_result"
    }
   ],
   "source": [
    "# 1 Mark\n",
    "# Do not try to delete this cell\n",
    "# Run this cell for grading\n",
    "_globals = globals()\n",
    "question1iia(_globals)"
   ]
  },
  {
   "cell_type": "markdown",
   "id": "a4995da4",
   "metadata": {
    "nbgrader": {
     "grade": false,
     "grade_id": "cell-38fc526f42e7550e",
     "locked": true,
     "schema_version": 3,
     "solution": false,
     "task": false
    }
   },
   "source": [
    "(b) Using NumPy's `nditer` function in a comprehension, create a list `squares1` of the squares of the entries of `mat1`, where the iteration is row-by-row; it should therefore begin\n",
    "\n",
    "```python\n",
    "[0.0, 1.0, 4.0, 9.0, 1.0, 4.0, ...\n",
    " ```"
   ]
  },
  {
   "cell_type": "code",
   "execution_count": 17,
   "id": "e439d6bc",
   "metadata": {
    "nbgrader": {
     "grade": false,
     "grade_id": "cell-bdf21dec04463b22",
     "locked": false,
     "schema_version": 3,
     "solution": true,
     "task": false
    }
   },
   "outputs": [
    {
     "name": "stdout",
     "output_type": "stream",
     "text": [
      "[0.0, 1.0, 4.0, 9.0, 1.0, 4.0, 9.0, 16.0, 4.0, 9.0, 16.0, 25.0]\n"
     ]
    }
   ],
   "source": [
    "### BEGIN SOLUTION\n",
    "squares1 = [n**2 for n in np.nditer(mat1)]\n",
    "### END SOLUTION\n",
    "\n",
    "print(squares1)"
   ]
  },
  {
   "cell_type": "code",
   "execution_count": 18,
   "id": "a4f4a648",
   "metadata": {
    "nbgrader": {
     "grade": true,
     "grade_id": "cell-2c3bf4d9dcee662f",
     "locked": true,
     "points": 1,
     "schema_version": 3,
     "solution": false,
     "task": false
    }
   },
   "outputs": [
    {
     "name": "stdout",
     "output_type": "stream",
     "text": [
      "Test passed!\n",
      "\n",
      "1 out of 1\n"
     ]
    },
    {
     "data": {
      "text/plain": "1"
     },
     "execution_count": 18,
     "metadata": {},
     "output_type": "execute_result"
    }
   ],
   "source": [
    "# 1 Mark\n",
    "# Do not try to delete this cell\n",
    "# Run this cell for grading\n",
    "_globals = globals()\n",
    "question1iib(_globals)"
   ]
  },
  {
   "cell_type": "markdown",
   "id": "48949c05",
   "metadata": {
    "nbgrader": {
     "grade": false,
     "grade_id": "cell-17bb7e7d49572063",
     "locked": true,
     "schema_version": 3,
     "solution": false,
     "task": false
    }
   },
   "source": [
    "(c) Using NumPy's `nditer` function in a comprehension, create a list `squares2` of the squares of the entries of `mat1`, where the iteration is column-by-colum; it should therefore begin\n",
    "\n",
    "```python\n",
    "[0.0, 1.0, 4.0, 1.0, 4.0, 9.0, ...\n",
    " ```"
   ]
  },
  {
   "cell_type": "code",
   "execution_count": 19,
   "id": "f2c8c81f",
   "metadata": {
    "nbgrader": {
     "grade": false,
     "grade_id": "cell-01f244a2a47a38b6",
     "locked": false,
     "schema_version": 3,
     "solution": true,
     "task": false
    }
   },
   "outputs": [
    {
     "name": "stdout",
     "output_type": "stream",
     "text": [
      "[0.0, 1.0, 4.0, 1.0, 4.0, 9.0, 4.0, 9.0, 16.0, 9.0, 16.0, 25.0]\n"
     ]
    }
   ],
   "source": [
    "### BEGIN SOLUTION\n",
    "squares2 = [n**2 for n in np.nditer(mat1,order='F')]\n",
    "### END SOLUTION\n",
    "\n",
    "print(squares2)"
   ]
  },
  {
   "cell_type": "code",
   "execution_count": 20,
   "id": "3668af28",
   "metadata": {
    "nbgrader": {
     "grade": true,
     "grade_id": "cell-95c2e6ff666ce56d",
     "locked": true,
     "points": 1,
     "schema_version": 3,
     "solution": false,
     "task": false
    }
   },
   "outputs": [
    {
     "name": "stdout",
     "output_type": "stream",
     "text": [
      "Test passed!\n",
      "\n",
      "1 out of 1\n"
     ]
    },
    {
     "data": {
      "text/plain": "1"
     },
     "execution_count": 20,
     "metadata": {},
     "output_type": "execute_result"
    }
   ],
   "source": [
    "# 1 Mark\n",
    "# Do not try to delete this cell\n",
    "# Run this cell for grading\n",
    "_globals = globals()\n",
    "question1iic(_globals)"
   ]
  },
  {
   "cell_type": "markdown",
   "id": "74769dcf",
   "metadata": {
    "nbgrader": {
     "grade": false,
     "grade_id": "cell-59bf83b6143b4995",
     "locked": true,
     "schema_version": 3,
     "solution": false,
     "task": false
    }
   },
   "source": [
    "(d) Using `fromfunction` with suitable lambda-expressions, create the 2d arrays `mat2`, `mat3` and `mat4`, respectively equal to\n",
    "\n",
    "$$\\left(\n",
    "\\begin{array}{rrrr}\n",
    "0.0&1.0&2.0&3.0\\\\\n",
    "1.0&0.0&1.0&2.0\\\\\n",
    "2.0&1.0&0.0&1.0\n",
    "\\end{array}\\right),\\left(\n",
    "\\begin{array}{rrrr}\n",
    "0.0&1.0&4.0&9.0\n",
    "\\end{array}\\right)\\mbox{ and }\\left(\n",
    "\\begin{array}{rrrr}\n",
    "0.0&1.0&4.0&9.0\\\\\n",
    "-1.0&0.0&3.0&8.0\\\\\n",
    "-4.0&-3.0&0.0&5.0\\\\\n",
    "-9.0&-8.0&-5.0&0.0\n",
    "\\end{array}\\right)$$"
   ]
  },
  {
   "cell_type": "code",
   "execution_count": 21,
   "id": "b40f7074",
   "metadata": {
    "nbgrader": {
     "grade": false,
     "grade_id": "cell-1565566b19f8ccde",
     "locked": false,
     "schema_version": 3,
     "solution": true,
     "task": false
    }
   },
   "outputs": [
    {
     "name": "stdout",
     "output_type": "stream",
     "text": [
      "[[0. 1. 2. 3.]\n",
      " [1. 0. 1. 2.]\n",
      " [2. 1. 0. 1.]]\n",
      "[0. 1. 4. 9.]\n",
      "[[ 0.  1.  4.  9.]\n",
      " [-1.  0.  3.  8.]\n",
      " [-4. -3.  0.  5.]\n",
      " [-9. -8. -5.  0.]]\n"
     ]
    }
   ],
   "source": [
    "### BEGIN SOLUTION\n",
    "mat2 = np.fromfunction(lambda x, y: abs(x-y), (3,4))\n",
    "mat3 = np.fromfunction(lambda x: x**2, (4,))\n",
    "mat4 = np.fromfunction(lambda x, y: y**2 - x**2, (4,4))\n",
    "### END SOLUTION\n",
    "\n",
    "print(mat2)\n",
    "print(mat3)\n",
    "print(mat4)"
   ]
  },
  {
   "cell_type": "code",
   "execution_count": 22,
   "id": "13868ec3",
   "metadata": {
    "nbgrader": {
     "grade": true,
     "grade_id": "cell-25147b5f92b638ed",
     "locked": true,
     "points": 3,
     "schema_version": 3,
     "solution": false,
     "task": false
    }
   },
   "outputs": [
    {
     "name": "stdout",
     "output_type": "stream",
     "text": [
      "mat2 is correct\n",
      "\n",
      "mat3 is correct\n",
      "\n",
      "mat4 is correct\n",
      "\n",
      "3 out of 3\n"
     ]
    },
    {
     "data": {
      "text/plain": "3"
     },
     "execution_count": 22,
     "metadata": {},
     "output_type": "execute_result"
    }
   ],
   "source": [
    "# 3 Marks\n",
    "# Do not try to delete this cell\n",
    "# Run this cell for grading\n",
    "_globals = globals()\n",
    "question1iid(_globals)"
   ]
  },
  {
   "cell_type": "markdown",
   "id": "e267234b",
   "metadata": {
    "nbgrader": {
     "grade": false,
     "grade_id": "cell-c893f6562626b986",
     "locked": true,
     "schema_version": 3,
     "solution": false,
     "task": false
    }
   },
   "source": [
    "(e) Run the following code:"
   ]
  },
  {
   "cell_type": "code",
   "execution_count": 23,
   "id": "06ee9ec7",
   "metadata": {
    "nbgrader": {
     "grade": false,
     "grade_id": "cell-068b7d6c4b3c47f2",
     "locked": true,
     "schema_version": 3,
     "solution": false,
     "task": false
    }
   },
   "outputs": [
    {
     "name": "stdout",
     "output_type": "stream",
     "text": [
      "(0.0, 0.0, False)\n",
      "(1.0, 1.0, False)\n",
      "(2.0, 2.0, False)\n",
      "(3.0, 3.0, False)\n",
      "(1.0, 1.0, False)\n",
      "(2.0, 0.0, True)\n",
      "(3.0, 1.0, True)\n",
      "(4.0, 2.0, True)\n",
      "(2.0, 2.0, False)\n",
      "(3.0, 1.0, True)\n",
      "(4.0, 0.0, True)\n",
      "(5.0, 1.0, True)\n"
     ]
    }
   ],
   "source": [
    "for a, b in np.nditer((mat1, mat2)):\n",
    "    print((float(a), float(b), a > b))"
   ]
  },
  {
   "cell_type": "markdown",
   "id": "3f200d98",
   "metadata": {
    "nbgrader": {
     "grade": false,
     "grade_id": "cell-fb5c6779556dd2ff",
     "locked": true,
     "schema_version": 3,
     "solution": false,
     "task": false
    }
   },
   "source": [
    "Then attempt it using `mat3` and `mat4` in place of `mat2`. Then choose which of the following statements is true:\n",
    "\n",
    "<ol>\n",
    "    <li>The <code>nditer</code> function allows you to iterate across two 2d arrays at the same time, but only if they're the same shape.</li>\n",
    "    <li>The <code>nditer</code> function allows you to iterate across two 2d arrays at the same time, but only if their shapes are such that you could, for example, add them.</li>\n",
    "    <li>The <code>nditer</code> function does not support iteration across two 2d arrays at the same time.</li>\n",
    "</ol>"
   ]
  },
  {
   "cell_type": "code",
   "execution_count": 24,
   "id": "a1ee4cb4",
   "metadata": {
    "nbgrader": {
     "grade": false,
     "grade_id": "cell-f063e9d7858d8068",
     "locked": false,
     "schema_version": 3,
     "solution": true,
     "task": false
    }
   },
   "outputs": [
    {
     "name": "stdout",
     "output_type": "stream",
     "text": [
      "(0.0, 0.0, False)\n",
      "(1.0, 1.0, False)\n",
      "(2.0, 4.0, False)\n",
      "(3.0, 9.0, False)\n",
      "(1.0, 0.0, True)\n",
      "(2.0, 1.0, True)\n",
      "(3.0, 4.0, False)\n",
      "(4.0, 9.0, False)\n",
      "(2.0, 0.0, True)\n",
      "(3.0, 1.0, True)\n",
      "(4.0, 4.0, False)\n",
      "(5.0, 9.0, False)\n"
     ]
    }
   ],
   "source": [
    "### BEGIN SOLUTION\n",
    "for a, b in np.nditer((mat1, mat3)):\n",
    "    print((float(a), float(b), a > b))\n",
    "# The other one doesn't work\n",
    "\n",
    "question1iie_answer = 2\n",
    "### END SOLUTION"
   ]
  },
  {
   "cell_type": "code",
   "execution_count": 25,
   "id": "52e340d9",
   "metadata": {
    "nbgrader": {
     "grade": true,
     "grade_id": "cell-36049c0ab4bfb4d4",
     "locked": true,
     "points": 1,
     "schema_version": 3,
     "solution": false,
     "task": false
    }
   },
   "outputs": [
    {
     "name": "stdout",
     "output_type": "stream",
     "text": [
      "test case passed!\n"
     ]
    }
   ],
   "source": [
    "# 1 Mark\n",
    "assert(question1iie_answer == question1iie())\n",
    "print('test case passed!')"
   ]
  },
  {
   "cell_type": "markdown",
   "id": "7ae90442",
   "metadata": {
    "nbgrader": {
     "grade": false,
     "grade_id": "cell-fbf8771049b0604f",
     "locked": true,
     "schema_version": 3,
     "solution": false,
     "task": false
    }
   },
   "source": [
    "## Question 2\n",
    "\n",
    "(a) Write and test a function called `simpsons_rule1`. The function should take as its arguments:\n",
    "<ul>\n",
    "    <li>a function <code>func</code> from the reals to the reals;</li>\n",
    "    <li>a float, or int, <code>xmin</code>;</li>\n",
    "    <li>a float, or int, <code>xmax</code>;</li>\n",
    "    <li>a positive even int <code>n</code>, with default value 10.</li>\n",
    "</ul>\n",
    "\n",
    "It should then return an approximate value for the integral of <code>func(x)</code> with respect to <code>x</code> between <code>xmin</code> and <code>xmax</code>, obtained by using the Simpson's rule formula\n",
    "\n",
    "$$I \\approx \\frac{h}{3}\\,\\left(y_0 + 4\\,y_1 + 2\\,y_2 + \\dots + 2\\,y_{n-2}+4\\,y_{n-1} + y_n\\right),$$\n",
    "\n",
    "where $h$, the step size, is obtained by dividing the interval width by <code>n</code>.\n",
    "\n",
    "Your function should make no use of NumPy functionality, but should rely entirely either on loops, or on comprehensions, or both.\n",
    "\n",
    "Test your function: for example\n",
    "\n",
    "```python\n",
    "import math\n",
    "print(simpsons_rule1(math.sin, 0.0, math.pi/2))\n",
    "```\n",
    "should give something pretty close to 1.00000339."
   ]
  },
  {
   "cell_type": "code",
   "execution_count": 26,
   "id": "8756cdcf",
   "metadata": {
    "nbgrader": {
     "grade": false,
     "grade_id": "cell-e8165e838fb79f9b",
     "locked": false,
     "schema_version": 3,
     "solution": true,
     "task": false
    }
   },
   "outputs": [],
   "source": [
    "def simpsons_rule1(func, xmin, xmax, n=10):\n",
    "    ### BEGIN SOLUTION\n",
    "    \"Calculates an approximation to the integral of func between xmin and xmax using Simpson's rule with n+1 ordinates\"\n",
    "    \n",
    "    h = (xmax-xmin)/n\n",
    "    \n",
    "    total = func(xmin) + func(xmax)\n",
    "    \n",
    "    # odd-indexed values\n",
    "    for i in range(1,n,2):\n",
    "        total += 4*func(xmin+i*h)\n",
    "    \n",
    "    # even-indexed values\n",
    "    for i in range(2,n-1,2):\n",
    "        total += 2*func(xmin+i*h)\n",
    "    \n",
    "    return h * total / 3\n",
    "    ### END SOLUTION"
   ]
  },
  {
   "cell_type": "code",
   "execution_count": 27,
   "id": "3be0402f",
   "metadata": {
    "nbgrader": {
     "grade": true,
     "grade_id": "cell-6d0e30c9d4358887",
     "locked": true,
     "points": 0,
     "schema_version": 3,
     "solution": false,
     "task": false
    }
   },
   "outputs": [
    {
     "name": "stdout",
     "output_type": "stream",
     "text": [
      "Test passed!\n"
     ]
    }
   ],
   "source": [
    "# No marks: function test\n",
    "\n",
    "try:\n",
    "    assert(np.isclose(simpsons_rule1(math.sin, 0, math.pi/2), 1.00000339))\n",
    "except:\n",
    "    print('Test failed!')\n",
    "else:\n",
    "    print('Test passed!')"
   ]
  },
  {
   "cell_type": "code",
   "execution_count": 28,
   "id": "6d61b3bf",
   "metadata": {
    "nbgrader": {
     "grade": true,
     "grade_id": "cell-c16ea2f873c5ba2b",
     "locked": true,
     "points": 4,
     "schema_version": 3,
     "solution": false,
     "task": false
    }
   },
   "outputs": [
    {
     "name": "stdout",
     "output_type": "stream",
     "text": [
      "Test with positional value of n passed!\n",
      "\n",
      "Test with keyword value of n passed!\n",
      "\n",
      "Test with default value of n passed!\n",
      "\n",
      "This function seems to have a docstring\n",
      "\n",
      "4 out of 4\n"
     ]
    },
    {
     "data": {
      "text/plain": "4"
     },
     "execution_count": 28,
     "metadata": {},
     "output_type": "execute_result"
    }
   ],
   "source": [
    "# 4 Marks\n",
    "# Do not try to delete this cell\n",
    "# Run this cell for grading\n",
    "_globals = globals()\n",
    "question2a(_globals)"
   ]
  },
  {
   "cell_type": "markdown",
   "id": "a07baa00",
   "metadata": {
    "nbgrader": {
     "grade": false,
     "grade_id": "cell-c030ea1fdffc8b3c",
     "locked": true,
     "schema_version": 3,
     "solution": false,
     "task": false
    }
   },
   "source": [
    "(b) Write a function called <code>simpsons_rule2</code> that takes the same arguments and defaults as <code>simpsons_rule1</code>, and also returns the Simpson's rule approximation to the integral, but uses no loops or comprehensions. Instead, it should use NumPy arrays, vectorized operations and the `sum` function.\n",
    "\n",
    "Test your function: for example\n",
    "\n",
    "```python\n",
    "import numpy as np\n",
    "print(simpsons_rule2(np.sin, 0.0, np.pi/2))\n",
    "```\n",
    "should give something pretty close to 1.00000339."
   ]
  },
  {
   "cell_type": "code",
   "execution_count": 29,
   "id": "dc7ea761",
   "metadata": {
    "nbgrader": {
     "grade": false,
     "grade_id": "cell-89ec0c6ad2d8f9fa",
     "locked": false,
     "schema_version": 3,
     "solution": true,
     "task": false
    }
   },
   "outputs": [],
   "source": [
    "def simpsons_rule2(func, xmin, xmax, n=10):\n",
    "    ### BEGIN SOLUTION\n",
    "    \"Calculates an approximation to the integral of func between xmin and xmax using Simpson's rule with n+1 ordinates\"\n",
    "    \n",
    "    from numpy import arange\n",
    "    \n",
    "    h = (xmax-xmin)/n\n",
    "    \n",
    "    # odd-indexed x values\n",
    "    oddx = xmin + h*arange(1,n,2)\n",
    "    \n",
    "    # even-indexed x values\n",
    "    evenx = xmin + h*arange(2,n-1,2)\n",
    "    \n",
    "    # return value\n",
    "    return h/3*(func(xmin)+func(xmax)+4*sum(func(oddx))+2*sum(func(evenx)))\n",
    "    ### END SOLUTION"
   ]
  },
  {
   "cell_type": "code",
   "execution_count": 30,
   "id": "830d787e",
   "metadata": {
    "nbgrader": {
     "grade": true,
     "grade_id": "cell-9019ca6df0e41e56",
     "locked": true,
     "points": 0,
     "schema_version": 3,
     "solution": false,
     "task": false
    }
   },
   "outputs": [
    {
     "name": "stdout",
     "output_type": "stream",
     "text": [
      "Test passed!\n"
     ]
    }
   ],
   "source": [
    "# No marks: function test\n",
    "\n",
    "try:\n",
    "    assert(np.isclose(simpsons_rule2(np.sin, 0, np.pi/2), 1.00000339))\n",
    "except:\n",
    "    print('Test failed!')\n",
    "else:\n",
    "    print('Test passed!')"
   ]
  },
  {
   "cell_type": "code",
   "execution_count": 31,
   "id": "460d2836",
   "metadata": {
    "nbgrader": {
     "grade": true,
     "grade_id": "cell-8064ad50498daec1",
     "locked": true,
     "points": 4,
     "schema_version": 3,
     "solution": false,
     "task": false
    }
   },
   "outputs": [
    {
     "name": "stdout",
     "output_type": "stream",
     "text": [
      "Test with positional value of n passed!\n",
      "\n",
      "Test with keyword value of n passed!\n",
      "\n",
      "Test with default value of n passed!\n",
      "\n",
      "This function seems to have a docstring\n",
      "\n",
      "4 out of 4\n"
     ]
    },
    {
     "data": {
      "text/plain": "4"
     },
     "execution_count": 31,
     "metadata": {},
     "output_type": "execute_result"
    }
   ],
   "source": [
    "# 4 Marks\n",
    "# Do not try to delete this cell\n",
    "# Run this cell for grading\n",
    "_globals = globals()\n",
    "question2b(_globals)"
   ]
  },
  {
   "cell_type": "markdown",
   "id": "a4f8f1fa",
   "metadata": {
    "nbgrader": {
     "grade": false,
     "grade_id": "cell-1a9c179800b3dba8",
     "locked": true,
     "schema_version": 3,
     "solution": false,
     "task": false
    }
   },
   "source": [
    "(c) Suppose\n",
    "\n",
    "```python\n",
    "f = lambda x: x**5 - x**4\n",
    "```\n",
    "\n",
    "Which of the following statements is true?\n",
    "\n",
    "<ol>\n",
    "    <li>Both of my Simpson's Rule functions work if <code>f</code> is a lambda-expression like this.</li>\n",
    "    <li>Only the first version, based on loops or comprehensions, works if <code>f</code> is a lambda-expression like this.</li>\n",
    "    <li>Only the second version, based on vectorization, works if <code>f</code> is a lambda-expression like this.</li>    \n",
    "    <li>Neither of my Simpson's Rule functions work if <code>f</code> is a lambda-expression like this.</li>\n",
    "</ol>"
   ]
  },
  {
   "cell_type": "code",
   "execution_count": 32,
   "id": "8e61ea99",
   "metadata": {
    "nbgrader": {
     "grade": false,
     "grade_id": "cell-f26754aa5f6764b1",
     "locked": false,
     "schema_version": 3,
     "solution": true,
     "task": false
    }
   },
   "outputs": [],
   "source": [
    "### BEGIN SOLUTION\n",
    "question2c_answer = 1\n",
    "### END SOLUTION"
   ]
  },
  {
   "cell_type": "code",
   "execution_count": 33,
   "id": "a363f58d",
   "metadata": {
    "nbgrader": {
     "grade": true,
     "grade_id": "cell-20f9a47628789e74",
     "locked": true,
     "points": 1,
     "schema_version": 3,
     "solution": false,
     "task": false
    }
   },
   "outputs": [
    {
     "name": "stdout",
     "output_type": "stream",
     "text": [
      "test case passed!\n"
     ]
    }
   ],
   "source": [
    "# 1 Mark\n",
    "assert(question2c_answer == question2c())\n",
    "print('test case passed!')"
   ]
  },
  {
   "cell_type": "markdown",
   "id": "fb3c669c",
   "metadata": {
    "nbgrader": {
     "grade": false,
     "grade_id": "cell-7f7cfc4307920b54",
     "locked": true,
     "schema_version": 3,
     "solution": false,
     "task": false
    }
   },
   "source": [
    "(d) Suppose\n",
    "\n",
    "```python\n",
    "f = math.sin\n",
    "```\n",
    "\n",
    "Which of the following statements is true?\n",
    "\n",
    "<ol>\n",
    "    <li>Both of my Simpson's Rule functions work if <code>f</code> is a <code>math</code> function like this.</li>\n",
    "    <li>Only the first version, based on loops or comprehensions, works if <code>f</code> is a <code>math</code> function like this.</li>\n",
    "    <li>Only the second version, based on vectorization, works if <code>f</code> is a <code>math</code> function like this.</li>    \n",
    "    <li>Neither of my Simpson's Rule functions work if <code>f</code> is a <code>math</code> function like this.</li>\n",
    "</ol>"
   ]
  },
  {
   "cell_type": "code",
   "execution_count": 34,
   "id": "c070c6ef",
   "metadata": {
    "nbgrader": {
     "grade": false,
     "grade_id": "cell-6e70447cf4a24ab7",
     "locked": false,
     "schema_version": 3,
     "solution": true,
     "task": false
    }
   },
   "outputs": [],
   "source": [
    "### BEGIN SOLUTION\n",
    "question2d_answer = 2\n",
    "### END SOLUTION"
   ]
  },
  {
   "cell_type": "code",
   "execution_count": 35,
   "id": "027d616a",
   "metadata": {
    "nbgrader": {
     "grade": true,
     "grade_id": "cell-2d53b14c84cacf50",
     "locked": true,
     "points": 1,
     "schema_version": 3,
     "solution": false,
     "task": false
    }
   },
   "outputs": [
    {
     "name": "stdout",
     "output_type": "stream",
     "text": [
      "test case passed!\n"
     ]
    }
   ],
   "source": [
    "# 1 Mark\n",
    "assert(question2d_answer == question2d())\n",
    "print('test case passed!')"
   ]
  },
  {
   "cell_type": "markdown",
   "id": "b68ed2d0",
   "metadata": {
    "nbgrader": {
     "grade": false,
     "grade_id": "cell-9ca0d6004a391634",
     "locked": true,
     "schema_version": 3,
     "solution": false,
     "task": false
    }
   },
   "source": [
    "(e) Suppose\n",
    "\n",
    "```python\n",
    "f = np.sin\n",
    "```\n",
    "\n",
    "Which of the following statements is true?\n",
    "\n",
    "<ol>\n",
    "    <li>Both of my Simpson's Rule functions work if <code>f</code> is a NumPy function like this.</li>\n",
    "    <li>Only the first version, based on loops or comprehensions, works if <code>f</code> is a NumPy function like this.</li>\n",
    "    <li>Only the second version, based on vectorization, works if <code>f</code> is a NumPy function like this.</li>    \n",
    "    <li>Neither of my Simpson's Rule functions work if <code>f</code> is a NumPy function like this.</li>\n",
    "</ol>"
   ]
  },
  {
   "cell_type": "code",
   "execution_count": 36,
   "id": "5ea832d3",
   "metadata": {
    "nbgrader": {
     "grade": false,
     "grade_id": "cell-ff823037ad2d47a5",
     "locked": false,
     "schema_version": 3,
     "solution": true,
     "task": false
    }
   },
   "outputs": [],
   "source": [
    "### BEGIN SOLUTION\n",
    "question2e_answer = 1\n",
    "### END SOLUTION"
   ]
  },
  {
   "cell_type": "code",
   "execution_count": 37,
   "id": "84b85a4a",
   "metadata": {
    "nbgrader": {
     "grade": true,
     "grade_id": "cell-2448503a027accb7",
     "locked": true,
     "points": 1,
     "schema_version": 3,
     "solution": false,
     "task": false
    }
   },
   "outputs": [
    {
     "name": "stdout",
     "output_type": "stream",
     "text": [
      "test case passed!\n"
     ]
    }
   ],
   "source": [
    "# 1 Mark\n",
    "assert(question2e_answer == question2e())\n",
    "print('test case passed!')"
   ]
  },
  {
   "cell_type": "markdown",
   "id": "9da2e0fc",
   "metadata": {
    "nbgrader": {
     "grade": false,
     "grade_id": "cell-03022bb356226386",
     "locked": true,
     "schema_version": 3,
     "solution": false,
     "task": false
    }
   },
   "source": [
    "(f) Use both your functions to calculate an estimate for\n",
    "$$\\int_0^{\\pi/2}\\sin x\\,dx$$\n",
    "using `n = 5000000` (this is actually a silly thing to do, since rounding error soon mounts up and overwhelms any gains from using more sub-intervals).\n",
    "\n",
    "Use the `time` function from the `time` module to time both operations.\n",
    "\n",
    "Which of the following statements is true?\n",
    "<ol>\n",
    "    <li>Each of my Simpson's Rule functions executes in a similar time for large <code>n</code>.</li>\n",
    "    <li>The first version, based on loops or comprehensions, executes in a shorter time for large <code>n</code>.</li>\n",
    "    <li>The second version, based on vectorization, executes in a shorter time for large <code>n</code>.</li>\n",
    "</ol>"
   ]
  },
  {
   "cell_type": "code",
   "execution_count": 38,
   "id": "cedab18b",
   "metadata": {
    "nbgrader": {
     "grade": false,
     "grade_id": "cell-8abba501a3d58d61",
     "locked": false,
     "schema_version": 3,
     "solution": true,
     "task": false
    }
   },
   "outputs": [
    {
     "name": "stdout",
     "output_type": "stream",
     "text": [
      "0.9999999999999877\n",
      "3.621333599090576\n",
      "1.000000000000047\n",
      "0.2783999443054199\n"
     ]
    }
   ],
   "source": [
    "### BEGIN SOLUTION\n",
    "from time import time\n",
    "start = time()\n",
    "print(simpsons_rule1(np.sin, 0, np.pi/2, 5000000))\n",
    "print(time()-start)\n",
    "start = time()\n",
    "print(simpsons_rule2(np.sin, 0, np.pi/2, 5000000))\n",
    "print(time()-start)\n",
    "\n",
    "question2f_answer = 3\n",
    "### END SOLUTION"
   ]
  },
  {
   "cell_type": "code",
   "execution_count": 39,
   "id": "825d9749",
   "metadata": {
    "nbgrader": {
     "grade": true,
     "grade_id": "cell-2f2acae932361545",
     "locked": true,
     "points": 1,
     "schema_version": 3,
     "solution": false,
     "task": false
    }
   },
   "outputs": [
    {
     "name": "stdout",
     "output_type": "stream",
     "text": [
      "test case passed!\n"
     ]
    }
   ],
   "source": [
    "# 1 Mark\n",
    "assert(question2f_answer == question2f())\n",
    "print('test case passed!')"
   ]
  },
  {
   "cell_type": "markdown",
   "id": "2148e680",
   "metadata": {
    "nbgrader": {
     "grade": false,
     "grade_id": "cell-d5f550638e3e4621",
     "locked": true,
     "schema_version": 3,
     "solution": false,
     "task": false
    }
   },
   "source": [
    "## Question 3\n",
    "\n",
    "The <b>Arnol'd sine map</b> is a discrete-time dynamical model for the behaviour of certain types of nonlinear oscillator. It takes the form of a function of a variable $\\theta$:\n",
    "\n",
    "$$f_{\\Omega, K}(\\theta) = \\theta + \\Omega - \\frac{K}{2\\,\\pi}\\,\\sin(2\\,\\pi\\,\\theta).$$"
   ]
  },
  {
   "cell_type": "markdown",
   "id": "f7ce1c2a",
   "metadata": {
    "nbgrader": {
     "grade": false,
     "grade_id": "cell-39628829fa744f6e",
     "locked": true,
     "schema_version": 3,
     "solution": false,
     "task": false
    }
   },
   "source": [
    "(a) Write and test two versions of an Arnol'd sine map function, called `sine_map1` and `sine_map2`. Each should take as its arguments three floats, standing for values of $\\Omega$, $K$ and $\\theta$, and return a single float equal to $f_{\\Omega,K}(\\theta).$ The first should use only functions and constants from the `math` module, and the second only functions and constants from NumPy. \n",
    "\n",
    "Good values for $\\Omega$, $K$ and $\\theta$ are $0.3$, $1.0$ and $0.3$ respectively."
   ]
  },
  {
   "cell_type": "code",
   "execution_count": 40,
   "id": "53ccefc2",
   "metadata": {
    "nbgrader": {
     "grade": false,
     "grade_id": "cell-e4b4f219fda0a2da",
     "locked": false,
     "schema_version": 3,
     "solution": true,
     "task": false
    }
   },
   "outputs": [],
   "source": [
    "### BEGIN SOLUTION\n",
    "def sine_map1(omega, K, theta):\n",
    "    from math import sin, pi\n",
    "    return theta + omega - K/(2*pi)*sin(2*pi*theta)\n",
    "\n",
    "def sine_map2(omega, K, theta):\n",
    "    from numpy import sin, pi\n",
    "    return theta + omega - K/(2*pi)*sin(2*pi*theta)\n",
    "### END SOLUTION"
   ]
  },
  {
   "cell_type": "code",
   "execution_count": 41,
   "id": "62a221e7",
   "metadata": {
    "nbgrader": {
     "grade": true,
     "grade_id": "cell-58a1559519a47dc2",
     "locked": true,
     "points": 0,
     "schema_version": 3,
     "solution": false,
     "task": false
    }
   },
   "outputs": [
    {
     "name": "stdout",
     "output_type": "stream",
     "text": [
      "Test passed!\n"
     ]
    }
   ],
   "source": [
    "# No marks: test cell\n",
    "\n",
    "try:\n",
    "    assert(np.isclose(sine_map1(0.3, 1.0, 0.3), 0.6 - 1.0/(2*np.pi) * np.sin(2*np.pi*0.3)))\n",
    "    assert(np.isclose(sine_map2(0.3, 1.0, 0.3), 0.6 - 1.0/(2*np.pi) * np.sin(2*np.pi*0.3)))\n",
    "except:\n",
    "    print('Test failed!')\n",
    "else:\n",
    "    print('Test passed!')"
   ]
  },
  {
   "cell_type": "code",
   "execution_count": 42,
   "id": "32868279",
   "metadata": {
    "nbgrader": {
     "grade": true,
     "grade_id": "cell-7787ad54e7eb6eec",
     "locked": true,
     "points": 2,
     "schema_version": 3,
     "solution": false,
     "task": false
    }
   },
   "outputs": [
    {
     "name": "stdout",
     "output_type": "stream",
     "text": [
      "Test of sine_map1 passed!\n",
      "\n",
      "Test of sine_map2 passed!\n",
      "\n",
      "2 out of 2\n"
     ]
    },
    {
     "data": {
      "text/plain": "2"
     },
     "execution_count": 42,
     "metadata": {},
     "output_type": "execute_result"
    }
   ],
   "source": [
    "# 2 Marks\n",
    "# Do not try to delete this cell\n",
    "# Run this cell for grading\n",
    "_globals = globals()\n",
    "question3a(_globals)"
   ]
  },
  {
   "cell_type": "markdown",
   "id": "d3b08ba4",
   "metadata": {
    "nbgrader": {
     "grade": false,
     "grade_id": "cell-1a3fdc0df5a5e562",
     "locked": true,
     "schema_version": 3,
     "solution": false,
     "task": false
    }
   },
   "source": [
    "(b) Which of the following statements is true:\n",
    "\n",
    "<ol>\n",
    "    <li>If $K$ and $\\theta$ are floats, and $\\Omega$ is a one-dimensional NumPy array, both of my sine map functions work.</li>\n",
    "    <li>If $K$ and $\\theta$ are floats, and $\\Omega$ is a one-dimensional NumPy array, only the first version, based on <code>math</code> functions, works.</li>\n",
    "    <li>If $K$ and $\\theta$ are floats, and $\\Omega$ is a one-dimensional NumPy array, only the second version, based on NumPy functions, works.</li>\n",
    "    <li>If $K$ and $\\theta$ are floats, and $\\Omega$ is a one-dimensional NumPy array, neither of my sine map functions works.</li>\n",
    "</ol>"
   ]
  },
  {
   "cell_type": "code",
   "execution_count": 43,
   "id": "842deda5",
   "metadata": {
    "nbgrader": {
     "grade": false,
     "grade_id": "cell-04074d9bc4c731ad",
     "locked": false,
     "schema_version": 3,
     "solution": true,
     "task": false
    }
   },
   "outputs": [
    {
     "name": "stdout",
     "output_type": "stream",
     "text": [
      "[0.34863465 0.44863465 0.54863465]\n",
      "[0.34863465 0.44863465 0.54863465]\n"
     ]
    }
   ],
   "source": [
    "### BEGIN SOLUTION\n",
    "print(sine_map1(np.array([0.2,0.3,0.4]),1.0,0.3))\n",
    "print(sine_map2(np.array([0.2,0.3,0.4]),1.0,0.3))\n",
    "\n",
    "question3b_answer = 1\n",
    "### END SOLUTION"
   ]
  },
  {
   "cell_type": "code",
   "execution_count": 44,
   "id": "dc943770",
   "metadata": {
    "nbgrader": {
     "grade": true,
     "grade_id": "cell-1c92c32f1c423af9",
     "locked": true,
     "points": 1,
     "schema_version": 3,
     "solution": false,
     "task": false
    }
   },
   "outputs": [
    {
     "name": "stdout",
     "output_type": "stream",
     "text": [
      "test case passed!\n"
     ]
    }
   ],
   "source": [
    "# 1 Mark\n",
    "assert(question3b_answer == question3b())\n",
    "print('test case passed!')"
   ]
  },
  {
   "cell_type": "markdown",
   "id": "92eabc32",
   "metadata": {
    "nbgrader": {
     "grade": false,
     "grade_id": "cell-3b1935f0363e1e0f",
     "locked": true,
     "schema_version": 3,
     "solution": false,
     "task": false
    }
   },
   "source": [
    "(c) Which of the following statements is true:\n",
    "\n",
    "<ol>\n",
    "    <li>If $\\Omega$ and $K$ are floats, and $\\theta$ is a one-dimensional NumPy array, both of my sine map functions work.</li>\n",
    "    <li>If $\\Omega$ and $K$ are floats, and $\\theta$ is a one-dimensional NumPy array, only the first version, based on <code>math</code> functions, works.</li>\n",
    "    <li>If $\\Omega$ and $K$ are floats, and $\\theta$ is a one-dimensional NumPy array, only the second version, based on NumPy functions, works.</li>\n",
    "    <li>If $\\Omega$ and $K$ are floats, and $\\theta$ is a one-dimensional NumPy array, neither of my sine map functions works.</li>\n",
    "</ol>"
   ]
  },
  {
   "cell_type": "code",
   "execution_count": 45,
   "id": "3a697861",
   "metadata": {
    "nbgrader": {
     "grade": false,
     "grade_id": "cell-ec549d0d6d9d6ab7",
     "locked": false,
     "schema_version": 3,
     "solution": true,
     "task": false
    }
   },
   "outputs": [
    {
     "name": "stdout",
     "output_type": "stream",
     "text": [
      "[0.34863465 0.44863465 0.60645107]\n"
     ]
    }
   ],
   "source": [
    "### BEGIN SOLUTION\n",
    "# print(sine_map1(0.3,1.0,np.array([0.2,0.3,0.4]))) doesn't work\n",
    "print(sine_map2(0.3,1.0,np.array([0.2,0.3,0.4])))\n",
    "\n",
    "question3c_answer = 3\n",
    "### END SOLUTION"
   ]
  },
  {
   "cell_type": "code",
   "execution_count": 46,
   "id": "69f132f3",
   "metadata": {
    "nbgrader": {
     "grade": true,
     "grade_id": "cell-bdae71a6aa59ad6d",
     "locked": true,
     "points": 1,
     "schema_version": 3,
     "solution": false,
     "task": false
    }
   },
   "outputs": [
    {
     "name": "stdout",
     "output_type": "stream",
     "text": [
      "test case passed!\n"
     ]
    }
   ],
   "source": [
    "# 1 Mark\n",
    "assert(question3c_answer == question3c())\n",
    "print('test case passed!')"
   ]
  },
  {
   "cell_type": "markdown",
   "id": "c7bb0804",
   "metadata": {
    "nbgrader": {
     "grade": false,
     "grade_id": "cell-298465893c6199b1",
     "locked": true,
     "schema_version": 3,
     "solution": false,
     "task": false
    }
   },
   "source": [
    "(d) The <b>rotation number</b> of the Arnol'd sine map, $\\omega_{\\Omega, K}(\\theta_0)$, can be defined to be\n",
    "$$\\lim_{n\\to\\infty}\\frac{\\theta_n-\\theta_0}{n},$$\n",
    "where $\\theta_0, \\theta_1, \\dots, \\theta_n$ are successive iterates of the sine map. An estimate for the rotation number can be obtained using the formula\n",
    "$$\\frac{\\theta_N-\\theta_0}{N},$$\n",
    "where $N$ is a large positive integer (sometimes quite a large value is necessary for a good approximation).\n",
    "\n",
    "Under suitable conditions, the rotation number can be shown to be independent of $\\theta_0$.\n",
    "\n",
    "Write and test functions called `rotation_number1` and `rotation_number2`. Each should take as its argument values of $\\Omega$, $K$ and $\\theta_0$, and a positive integer value of $N$, which should by default be 10000. Each should return a value of \n",
    "$$\\frac{\\theta_N-\\theta_0}{N}.$$\n",
    "The first should call only your `sine_map1` function, and the second only your `sine_map2` function."
   ]
  },
  {
   "cell_type": "code",
   "execution_count": 47,
   "id": "0a8be9f9",
   "metadata": {
    "nbgrader": {
     "grade": false,
     "grade_id": "cell-9a9c8a3ed39b96d8",
     "locked": false,
     "schema_version": 3,
     "solution": true,
     "task": false
    }
   },
   "outputs": [],
   "source": [
    "### BEGIN SOLUTION\n",
    "def rotation_number1(omega, K, theta0, N=10000):\n",
    "    \"returns the Nth-truncation approximation to the rotation number for the Arnol'd sine map\"\n",
    "    \n",
    "    theta = theta0\n",
    "   \n",
    "    for n in range(N):\n",
    "        theta = sine_map1(omega, K, theta)\n",
    "    \n",
    "    return (theta-theta0)/N\n",
    "\n",
    "def rotation_number2(omega, K, theta0, N=10000):\n",
    "    \"returns the Nth-truncation approximation to the rotation number for the Arnol'd sine map\"\n",
    "    \n",
    "    theta = theta0\n",
    "    \n",
    "    for n in range(N):\n",
    "        theta = sine_map2(omega, K, theta)\n",
    "    \n",
    "    return (theta-theta0)/N\n",
    "### END SOLUTION"
   ]
  },
  {
   "cell_type": "code",
   "execution_count": 48,
   "id": "284d1da0",
   "metadata": {
    "nbgrader": {
     "grade": true,
     "grade_id": "cell-5db8aebad3b0b18a",
     "locked": true,
     "points": 8,
     "schema_version": 3,
     "solution": false,
     "task": false
    }
   },
   "outputs": [
    {
     "name": "stdout",
     "output_type": "stream",
     "text": [
      "Test of rotation_number1 with positional value of N passed!\n",
      "\n",
      "Test of rotation_number1 with keyword value of N passed!\n",
      "\n",
      "Test of rotation_number1 with default value of N passed!\n",
      "\n",
      "The function rotation_number1 seems to have a docstring\n",
      "\n",
      "Test of rotation_number2 with positional value of N passed!\n",
      "\n",
      "Test of rotation_number2 with keyword value of N passed!\n",
      "\n",
      "Test of rotation_number2 with default value of N passed!\n",
      "\n",
      "The function rotation_number2 seems to have a docstring\n",
      "\n",
      "8 out of 8\n"
     ]
    },
    {
     "data": {
      "text/plain": "8"
     },
     "execution_count": 48,
     "metadata": {},
     "output_type": "execute_result"
    }
   ],
   "source": [
    "# 8 Marks\n",
    "# Do not try to delete this cell\n",
    "# Run this cell for grading\n",
    "_globals = globals()\n",
    "question3d(_globals)"
   ]
  },
  {
   "cell_type": "markdown",
   "id": "31f70e34",
   "metadata": {
    "nbgrader": {
     "grade": false,
     "grade_id": "cell-06952eda20e38547",
     "locked": true,
     "schema_version": 3,
     "solution": false,
     "task": false
    }
   },
   "source": [
    "Your second function should work if $K$ and $\\theta$ are floats, $N$ is a positive int, and $\\Omega$ is a one-dimensional NumPy array. \n",
    "\n",
    "Your first function <em>may</em> work in those circumstances, or it may not; this depends on exactly how you've implemented it. (It won't need to, so if it doesn't, don't worry; Phil's doesn't!)\n",
    "\n",
    "The second function should also work if $\\Omega$ and $K$ are floats, $N$ is a positive int, and $\\theta$ is a one-dimensional NumPy array, but the first is unlikely to.\n",
    "\n",
    "You might want to check these things!"
   ]
  },
  {
   "cell_type": "markdown",
   "id": "eb8bd580",
   "metadata": {
    "nbgrader": {
     "grade": false,
     "grade_id": "cell-870a3c4c7de5a498",
     "locked": true,
     "schema_version": 3,
     "solution": false,
     "task": false
    }
   },
   "source": [
    "For a suitable value of $K$ such as $1$, the plot of the rotation number of the sine map against $\\Omega$ is fascinating mathematically. It's an example of a so-called <b>Devil's staircase</b>, which is continuous everywhere, and differentiable with gradient zero <em>almost</em> everywhere (in a certain precise sense), and yet increases from 0 to 1 over the unit interval.\n",
    "\n",
    "(e) Write test a function called `rotation_number_list1`. It should take as its arguments\n",
    "<ul>\n",
    "    <li>A list of values of $\\Omega$, <code>omega_list</code>.</li>\n",
    "    <li>Floats representing the values of $K$ and $\\theta_0$.</li>\n",
    "    <li>A positive int, $N$, by default equal to 10000.</li>\n",
    "</ul>\n",
    "\n",
    "It should then use your `rotation_number1` function in a suitable loop or comprehension, and return a list consisting of estimates for $\\omega_{\\Omega,K}(\\theta_0)$ for each value of $\\Omega$ in `omega_list`. It should make no use at all of NumPy functionality.\n",
    "\n",
    "In your tests, use fairly short lists of $\\Omega$-values and fairly small values of $N$."
   ]
  },
  {
   "cell_type": "code",
   "execution_count": 49,
   "id": "ea09b963",
   "metadata": {
    "nbgrader": {
     "grade": false,
     "grade_id": "cell-155fce44558c929a",
     "locked": false,
     "schema_version": 3,
     "solution": true,
     "task": false
    }
   },
   "outputs": [],
   "source": [
    "### BEGIN SOLUTION\n",
    "def rotation_number_list1(omega_list, K, theta, N=10000):\n",
    "    return [rotation_number1(omega, K, theta, N) for omega in omega_list]\n",
    "### END SOLUTION"
   ]
  },
  {
   "cell_type": "code",
   "execution_count": 50,
   "id": "f522de9e",
   "metadata": {
    "nbgrader": {
     "grade": true,
     "grade_id": "cell-b358d3a0bb82a9eb",
     "locked": true,
     "points": 3,
     "schema_version": 3,
     "solution": false,
     "task": false
    }
   },
   "outputs": [
    {
     "name": "stdout",
     "output_type": "stream",
     "text": [
      "Test of rotation_number_list1 with positional value of N passed!\n",
      "\n",
      "Test of rotation_number_list1 with keyword value of N passed!\n",
      "\n",
      "Test of rotation_number_list1 with default value of N passed!\n",
      "\n",
      "3 out of 3\n"
     ]
    },
    {
     "data": {
      "text/plain": "3"
     },
     "execution_count": 50,
     "metadata": {},
     "output_type": "execute_result"
    }
   ],
   "source": [
    "# 3 Marks\n",
    "# Do not try to delete this cell\n",
    "# Run this cell for grading\n",
    "_globals = globals()\n",
    "question3e(_globals)"
   ]
  },
  {
   "cell_type": "markdown",
   "id": "ce784eaf",
   "metadata": {
    "nbgrader": {
     "grade": false,
     "grade_id": "cell-a7699756718f5bdb",
     "locked": true,
     "schema_version": 3,
     "solution": false,
     "task": false
    }
   },
   "source": [
    "(f) Use your `rotation_number_list1` function to create a plot of estimated rotation number against $\\Omega$ for \n",
    "$$\\Omega = 0.00, 0.01, 0.02, \\dots , 1.00;$$\n",
    "use $K=1$, $\\theta_0=0.3$ and $N=1000$."
   ]
  },
  {
   "cell_type": "code",
   "execution_count": 51,
   "id": "c14f0135",
   "metadata": {
    "nbgrader": {
     "grade": false,
     "grade_id": "cell-6ad73ad008cb9314",
     "locked": false,
     "schema_version": 3,
     "solution": true,
     "task": false
    }
   },
   "outputs": [
    {
     "data": {
      "text/plain": "[<matplotlib.lines.Line2D at 0x189191b4b80>]"
     },
     "execution_count": 51,
     "metadata": {},
     "output_type": "execute_result"
    },
    {
     "data": {
      "text/plain": "<Figure size 640x480 with 1 Axes>",
      "image/png": "[encoded data removed]"
     },
     "metadata": {},
     "output_type": "display_data"
    }
   ],
   "source": [
    "### BEGIN SOLUTION\n",
    "omega_list = [0.01*n for n in range(101)]\n",
    "fig, ax = plt.subplots()\n",
    "plt.plot(omega_list, rotation_number_list1(omega_list, 1.0, 0.3, 1000))\n",
    "### END SOLUTION"
   ]
  },
  {
   "cell_type": "code",
   "execution_count": 52,
   "id": "bb13a3b9",
   "metadata": {
    "nbgrader": {
     "grade": true,
     "grade_id": "cell-fe12868d197f140c",
     "locked": true,
     "points": 1,
     "schema_version": 3,
     "solution": false,
     "task": false
    }
   },
   "outputs": [
    {
     "name": "stdout",
     "output_type": "stream",
     "text": [
      "Correct horizontal coordinates\n",
      "Correct vertical coordinates\n",
      "This seems to be a line plot\n",
      "Plot correct!!\n"
     ]
    },
    {
     "data": {
      "text/plain": "1"
     },
     "execution_count": 52,
     "metadata": {},
     "output_type": "execute_result"
    }
   ],
   "source": [
    "# 1 Mark\n",
    "# Do not try to delete this cell\n",
    "# Run this cell for grading\n",
    "_globals = globals()\n",
    "question3f_plot(_globals)"
   ]
  },
  {
   "cell_type": "markdown",
   "id": "fe117f57",
   "metadata": {
    "nbgrader": {
     "grade": false,
     "grade_id": "cell-072e0c8e1429e6ef",
     "locked": true,
     "schema_version": 3,
     "solution": false,
     "task": false
    }
   },
   "source": [
    "(g) Directly use your `rotation_number2` function, which should work fine on 1D NumPy arrays of $\\Omega$-values, to create a plot of estimated rotation number against $\\Omega$ for \n",
    "$$\\Omega = 0.00, 0.01, 0.02, \\dots , 1.00;$$\n",
    "use $K=1$, $\\theta_0=0.3$ and $N=1000$. "
   ]
  },
  {
   "cell_type": "code",
   "execution_count": 53,
   "id": "db02502e",
   "metadata": {
    "nbgrader": {
     "grade": false,
     "grade_id": "cell-f8aeaeda3163b281",
     "locked": false,
     "schema_version": 3,
     "solution": true,
     "task": false
    }
   },
   "outputs": [
    {
     "data": {
      "text/plain": "[<matplotlib.lines.Line2D at 0x18919267580>]"
     },
     "execution_count": 53,
     "metadata": {},
     "output_type": "execute_result"
    },
    {
     "data": {
      "text/plain": "<Figure size 640x480 with 1 Axes>",
      "image/png": "[encoded data removed]"
     },
     "metadata": {},
     "output_type": "display_data"
    }
   ],
   "source": [
    "### BEGIN SOLUTION\n",
    "omega_array = 0.01*np.arange(0,101)\n",
    "fig, ax = plt.subplots()\n",
    "plt.plot(omega_array, rotation_number2(omega_array, 1.0, 0.3, 1000))\n",
    "### END SOLUTION"
   ]
  },
  {
   "cell_type": "code",
   "execution_count": 54,
   "id": "9cbc4447",
   "metadata": {
    "nbgrader": {
     "grade": true,
     "grade_id": "cell-e0c94bb97c8c9e49",
     "locked": true,
     "points": 1,
     "schema_version": 3,
     "solution": false,
     "task": false
    }
   },
   "outputs": [
    {
     "name": "stdout",
     "output_type": "stream",
     "text": [
      "Correct horizontal coordinates\n",
      "Correct vertical coordinates\n",
      "This seems to be a line plot\n",
      "Plot correct!!\n"
     ]
    },
    {
     "data": {
      "text/plain": "1"
     },
     "execution_count": 54,
     "metadata": {},
     "output_type": "execute_result"
    }
   ],
   "source": [
    "# 1 Mark\n",
    "# Do not try to delete this cell\n",
    "# Run this cell for grading\n",
    "_globals = globals()\n",
    "question3g_plot(_globals)"
   ]
  },
  {
   "cell_type": "markdown",
   "id": "ae145a6c",
   "metadata": {
    "nbgrader": {
     "grade": false,
     "grade_id": "cell-d5941a0f1eb00edd",
     "locked": true,
     "schema_version": 3,
     "solution": false,
     "task": false
    }
   },
   "source": [
    "(h) Repeat parts (f) and (g), this time for \n",
    "$$\\Omega = 0.000, 0.001, 0.002, \\dots, 1.000$$\n",
    "and $N=10000$ (use the same values for $K$ and $\\theta_0$). Use the `time` function from the `time` module to time the operations. \n",
    "\n",
    "Which of the following statements is true?\n",
    "\n",
    "<ol>\n",
    "    <li>The first method, based entirely on comprehensions and loops, and the second method, using vectorization, execute this task in similar time.</li>\n",
    "    <li>The first method, based entirely on comprehensions and loops, executes this task faster than the second method, using vectorization.</li>\n",
    "    <li>The first method, based entirely on comprehensions and loops, executes this task slower than the second method, using vectorization.</li>\n",
    "</ol>"
   ]
  },
  {
   "cell_type": "code",
   "execution_count": 55,
   "id": "e2587530",
   "metadata": {
    "nbgrader": {
     "grade": false,
     "grade_id": "cell-135f4a4df99980ad",
     "locked": false,
     "schema_version": 3,
     "solution": true,
     "task": false
    }
   },
   "outputs": [
    {
     "name": "stdout",
     "output_type": "stream",
     "text": [
      "5.731887578964233\n",
      "0.11391234397888184\n"
     ]
    },
    {
     "data": {
      "text/plain": "<Figure size 640x480 with 1 Axes>",
      "image/png": "[encoded data removed]"
     },
     "metadata": {},
     "output_type": "display_data"
    },
    {
     "data": {
      "text/plain": "<Figure size 640x480 with 1 Axes>",
      "image/png": "[encoded data removed]"
     },
     "metadata": {},
     "output_type": "display_data"
    }
   ],
   "source": [
    "### BEGIN SOLUTION\n",
    "omega_list = [0.001*n for n in range(1001)]\n",
    "start = time()\n",
    "fig, ax = plt.subplots()\n",
    "plt.plot(omega_list, rotation_number_list1(omega_list, 1.0, 0.3, 10000))\n",
    "print(time()-start)\n",
    "\n",
    "omega_array = 0.001*np.arange(0,1001)\n",
    "start = time()\n",
    "fig, ax = plt.subplots()\n",
    "plt.plot(omega_array, rotation_number2(omega_array, 1.0, 0.3, 10000))\n",
    "print(time()-start)\n",
    "\n",
    "question3h_answer = 3\n",
    "### END SOLUTION"
   ]
  },
  {
   "cell_type": "code",
   "execution_count": 56,
   "id": "4ccd03a4",
   "metadata": {
    "nbgrader": {
     "grade": true,
     "grade_id": "cell-0e2d33207cdcb7f8",
     "locked": true,
     "points": 1,
     "schema_version": 3,
     "solution": false,
     "task": false
    }
   },
   "outputs": [
    {
     "name": "stdout",
     "output_type": "stream",
     "text": [
      "test case passed!\n"
     ]
    }
   ],
   "source": [
    "# 1 Mark\n",
    "assert(question3h_answer == question3h())\n",
    "print('test case passed!')"
   ]
  },
  {
   "cell_type": "markdown",
   "id": "6b8c8665",
   "metadata": {
    "nbgrader": {
     "grade": false,
     "grade_id": "cell-f322390caad2dcb9",
     "locked": true,
     "schema_version": 3,
     "solution": false,
     "task": false
    }
   },
   "source": [
    "## Question 4 (i)\n",
    "\n",
    "(a) Create an array called `ints` containing all the integers between 2 and 30 inclusive."
   ]
  },
  {
   "cell_type": "code",
   "execution_count": 57,
   "id": "93c8e1ff",
   "metadata": {
    "nbgrader": {
     "grade": false,
     "grade_id": "cell-eac09923cde5db3a",
     "locked": false,
     "schema_version": 3,
     "solution": true,
     "task": false
    }
   },
   "outputs": [
    {
     "name": "stdout",
     "output_type": "stream",
     "text": [
      "[ 2  3  4  5  6  7  8  9 10 11 12 13 14 15 16 17 18 19 20 21 22 23 24 25\n",
      " 26 27 28 29 30]\n"
     ]
    }
   ],
   "source": [
    "### BEGIN SOLUTION\n",
    "ints = np.arange(2,31)\n",
    "### END SOLUTION\n",
    "\n",
    "print(ints)"
   ]
  },
  {
   "cell_type": "code",
   "execution_count": 58,
   "id": "37926ad5",
   "metadata": {
    "nbgrader": {
     "grade": true,
     "grade_id": "cell-d52e44e778dc2558",
     "locked": true,
     "points": 2,
     "schema_version": 3,
     "solution": false,
     "task": false
    }
   },
   "outputs": [
    {
     "name": "stdout",
     "output_type": "stream",
     "text": [
      "ints contains the right numbers\n",
      "ints is a numpy array\n",
      "\n",
      "2 out of 2\n"
     ]
    },
    {
     "data": {
      "text/plain": "2"
     },
     "execution_count": 58,
     "metadata": {},
     "output_type": "execute_result"
    }
   ],
   "source": [
    "# 2 Marks\n",
    "# Do not try to delete this cell\n",
    "# Run this cell for grading\n",
    "_globals = globals()\n",
    "question4ia(_globals)"
   ]
  },
  {
   "cell_type": "markdown",
   "id": "0ffc3f96",
   "metadata": {
    "nbgrader": {
     "grade": false,
     "grade_id": "cell-4881007ac42b4df4",
     "locked": true,
     "schema_version": 3,
     "solution": false,
     "task": false
    }
   },
   "source": [
    "(b) Create, in one line, without using a comprehension, a Boolean array `bool1` consisting of `True` wherever the corresponding element of `ints` is divisible by 5, and `False` everywhere else; it should thus begin, when printed,\n",
    "\n",
    "```\n",
    "[False False False  True ...\n",
    "```"
   ]
  },
  {
   "cell_type": "code",
   "execution_count": 59,
   "id": "c61bd9a6",
   "metadata": {
    "nbgrader": {
     "grade": false,
     "grade_id": "cell-ecda2f6c00c81c7c",
     "locked": false,
     "schema_version": 3,
     "solution": true,
     "task": false
    }
   },
   "outputs": [
    {
     "name": "stdout",
     "output_type": "stream",
     "text": [
      "[False False False  True False False False False  True False False False\n",
      " False  True False False False False  True False False False False  True\n",
      " False False False False  True]\n"
     ]
    }
   ],
   "source": [
    "### BEGIN SOLUTION\n",
    "bool1 = (ints % 5 == 0)\n",
    "### END SOLUTION\n",
    "\n",
    "print(bool1)"
   ]
  },
  {
   "cell_type": "code",
   "execution_count": 60,
   "id": "83c3d541",
   "metadata": {
    "nbgrader": {
     "grade": true,
     "grade_id": "cell-e1fabf84a9751575",
     "locked": true,
     "points": 2,
     "schema_version": 3,
     "solution": false,
     "task": false
    }
   },
   "outputs": [
    {
     "name": "stdout",
     "output_type": "stream",
     "text": [
      "bool1 contains the right truth values\n",
      "bool1 is a numpy array\n",
      "\n",
      "2 out of 2\n"
     ]
    },
    {
     "data": {
      "text/plain": "2"
     },
     "execution_count": 60,
     "metadata": {},
     "output_type": "execute_result"
    }
   ],
   "source": [
    "# 2 Marks\n",
    "# Do not try to delete this cell\n",
    "# Run this cell for grading\n",
    "_globals = globals()\n",
    "question4ib(_globals)"
   ]
  },
  {
   "cell_type": "markdown",
   "id": "7ceb2ad0",
   "metadata": {
    "nbgrader": {
     "grade": false,
     "grade_id": "cell-eb42110e2d01ca1f",
     "locked": true,
     "schema_version": 3,
     "solution": false,
     "task": false
    }
   },
   "source": [
    "(c) In one line, without using a comprehension, create an array `ints2` consisting of all those elements of `ints` that are not divisible by 5. "
   ]
  },
  {
   "cell_type": "code",
   "execution_count": 61,
   "id": "ab4beed4",
   "metadata": {
    "nbgrader": {
     "grade": false,
     "grade_id": "cell-794f25e0bac35656",
     "locked": false,
     "schema_version": 3,
     "solution": true,
     "task": false
    }
   },
   "outputs": [
    {
     "name": "stdout",
     "output_type": "stream",
     "text": [
      "[ 2  3  4  6  7  8  9 11 12 13 14 16 17 18 19 21 22 23 24 26 27 28 29]\n"
     ]
    }
   ],
   "source": [
    "### BEGIN SOLUTION\n",
    "ints2 = ints[ints % 5 > 0]\n",
    "### END SOLUTION\n",
    "\n",
    "print(ints2)"
   ]
  },
  {
   "cell_type": "code",
   "execution_count": 62,
   "id": "a1530c28",
   "metadata": {
    "nbgrader": {
     "grade": true,
     "grade_id": "cell-190de25fd929f66e",
     "locked": true,
     "points": 2,
     "schema_version": 3,
     "solution": false,
     "task": false
    }
   },
   "outputs": [
    {
     "name": "stdout",
     "output_type": "stream",
     "text": [
      "ints2 contains the right numbers\n",
      "ints2 is a numpy array\n",
      "\n",
      "2 out of 2\n"
     ]
    },
    {
     "data": {
      "text/plain": "2"
     },
     "execution_count": 62,
     "metadata": {},
     "output_type": "execute_result"
    }
   ],
   "source": [
    "# 2 Marks\n",
    "# Do not try to delete this cell\n",
    "# Run this cell for grading\n",
    "_globals = globals()\n",
    "question4ic(_globals)"
   ]
  },
  {
   "cell_type": "markdown",
   "id": "08724217",
   "metadata": {
    "nbgrader": {
     "grade": false,
     "grade_id": "cell-947a95bfa58cdece",
     "locked": true,
     "schema_version": 3,
     "solution": false,
     "task": false
    }
   },
   "source": [
    "(d) In one line, without using a comprehension, create an array `ints3` consisting of all those elements of `ints` that are divisible by neither 3 nor 4."
   ]
  },
  {
   "cell_type": "code",
   "execution_count": 63,
   "id": "59cfc41c",
   "metadata": {
    "nbgrader": {
     "grade": false,
     "grade_id": "cell-2095db5e816b850c",
     "locked": false,
     "schema_version": 3,
     "solution": true,
     "task": false
    }
   },
   "outputs": [
    {
     "name": "stdout",
     "output_type": "stream",
     "text": [
      "[ 2  5  7 10 11 13 14 17 19 22 23 25 26 29]\n"
     ]
    }
   ],
   "source": [
    "### BEGIN SOLUTION\n",
    "ints3 = ints[(ints % 3 > 0) & (ints % 4 > 0)]\n",
    "### END SOLUTION\n",
    "\n",
    "print(ints3)"
   ]
  },
  {
   "cell_type": "code",
   "execution_count": 64,
   "id": "58cbbc33",
   "metadata": {
    "nbgrader": {
     "grade": true,
     "grade_id": "cell-7e9789685eae5a84",
     "locked": true,
     "points": 2,
     "schema_version": 3,
     "solution": false,
     "task": false
    }
   },
   "outputs": [
    {
     "name": "stdout",
     "output_type": "stream",
     "text": [
      "ints3 contains the right numbers\n",
      "ints3 is a numpy array\n",
      "\n",
      "2 out of 2\n"
     ]
    },
    {
     "data": {
      "text/plain": "2"
     },
     "execution_count": 64,
     "metadata": {},
     "output_type": "execute_result"
    }
   ],
   "source": [
    "# 2 Marks\n",
    "# Do not try to delete this cell\n",
    "# Run this cell for grading\n",
    "_globals = globals()\n",
    "question4id(_globals)"
   ]
  },
  {
   "cell_type": "markdown",
   "id": "65345e63",
   "metadata": {
    "nbgrader": {
     "grade": false,
     "grade_id": "cell-1ce045a5cb566b96",
     "locked": true,
     "schema_version": 3,
     "solution": false,
     "task": false
    }
   },
   "source": [
    "(e) In one line, without using a comprehension, create an array `ints4` consisting of all those elements of `ints` that are either equal to 2 or not divisible by 2."
   ]
  },
  {
   "cell_type": "code",
   "execution_count": 65,
   "id": "6bb8433a",
   "metadata": {
    "nbgrader": {
     "grade": false,
     "grade_id": "cell-3b3d86d1a82f3819",
     "locked": false,
     "schema_version": 3,
     "solution": true,
     "task": false
    }
   },
   "outputs": [
    {
     "name": "stdout",
     "output_type": "stream",
     "text": [
      "[ 2  3  5  7  9 11 13 15 17 19 21 23 25 27 29]\n"
     ]
    }
   ],
   "source": [
    "### BEGIN SOLUTION\n",
    "ints4 = ints[(ints == 2) | (ints % 2 > 0)]\n",
    "### END SOLUTION\n",
    "\n",
    "print(ints4)"
   ]
  },
  {
   "cell_type": "code",
   "execution_count": 66,
   "id": "7c4cb52e",
   "metadata": {
    "nbgrader": {
     "grade": true,
     "grade_id": "cell-9c8a2db5fa301d58",
     "locked": true,
     "points": 2,
     "schema_version": 3,
     "solution": false,
     "task": false
    }
   },
   "outputs": [
    {
     "name": "stdout",
     "output_type": "stream",
     "text": [
      "ints4 contains the right numbers\n",
      "ints4 is a numpy array\n",
      "\n",
      "2 out of 2\n"
     ]
    },
    {
     "data": {
      "text/plain": "2"
     },
     "execution_count": 66,
     "metadata": {},
     "output_type": "execute_result"
    }
   ],
   "source": [
    "# 2 Marks\n",
    "# Do not try to delete this cell\n",
    "# Run this cell for grading\n",
    "_globals = globals()\n",
    "question4ie(_globals)"
   ]
  },
  {
   "cell_type": "markdown",
   "id": "8c43ccb0",
   "metadata": {
    "nbgrader": {
     "grade": false,
     "grade_id": "cell-248aaa857c22b3eb",
     "locked": true,
     "schema_version": 3,
     "solution": false,
     "task": false
    }
   },
   "source": [
    "(f) Write and test a function called `my_primes2` that takes as its argument an int `n` greater than or equal to 2, and returns a NumPy array consisting of all the primes between 2 and `n` inclusive. Your function should use the Sieve of Eratosthenes, should work using Boolean arrays instead of comprehensions and should not use more iterations than are strictly necessary."
   ]
  },
  {
   "cell_type": "code",
   "execution_count": 67,
   "id": "a5b393bc",
   "metadata": {
    "nbgrader": {
     "grade": false,
     "grade_id": "cell-f3c52ab5aef547d6",
     "locked": false,
     "schema_version": 3,
     "solution": true,
     "task": false
    }
   },
   "outputs": [],
   "source": [
    "def my_primes2(n):\n",
    "    ### BEGIN SOLUTION\n",
    "    \"Calculates the primes between 2 and n inclusive using the Sieve of Eratosthenes\"\n",
    "    from numpy import arange\n",
    "    \n",
    "    ints = arange(2,n+1)\n",
    "    i = 0\n",
    "    \n",
    "    # loop while current prime <= sqrt(last number)\n",
    "    while ints[i]**2 <= ints[-1]:\n",
    "        p = ints[i]\n",
    "        ints = ints[(ints == p) | (ints % p > 0)]\n",
    "        i += 1\n",
    "    \n",
    "    return ints\n",
    "    ### END SOLUTION"
   ]
  },
  {
   "cell_type": "code",
   "execution_count": 68,
   "id": "567133d1",
   "metadata": {
    "nbgrader": {
     "grade": true,
     "grade_id": "cell-0d8cd3336582ffe3",
     "locked": true,
     "points": 6,
     "schema_version": 3,
     "solution": false,
     "task": false
    }
   },
   "outputs": [
    {
     "name": "stdout",
     "output_type": "stream",
     "text": [
      "Testing with a non-square composite value of n:\n",
      "Test passed!\n",
      "\n",
      "Testing with a prime value of n:\n",
      "Test passed!\n",
      "\n",
      "Testing with a prime-squared value of n:\n",
      "Test passed!\n",
      "\n",
      "Testing edge case n = 2:\n",
      "Test passed!\n",
      "\n",
      "Testing output type (should be a numpy array):\n",
      "Test passed!\n",
      "\n",
      "Testing for the presence of a docstring:\n",
      "The function my_primes2 seems to have a docstring\n",
      "\n",
      "\n",
      "6 out of 6\n"
     ]
    },
    {
     "data": {
      "text/plain": "6"
     },
     "execution_count": 68,
     "metadata": {},
     "output_type": "execute_result"
    }
   ],
   "source": [
    "# 6 Marks\n",
    "# Do not try to delete this cell\n",
    "# Run this cell for grading\n",
    "_globals = globals()\n",
    "question4if(_globals)"
   ]
  },
  {
   "cell_type": "markdown",
   "id": "449a3032",
   "metadata": {
    "nbgrader": {
     "grade": false,
     "grade_id": "cell-f72cf2864c0ff37a",
     "locked": true,
     "schema_version": 3,
     "solution": false,
     "task": false
    }
   },
   "source": [
    "## Question 4 (ii)\n",
    "\n",
    "(a) For comparison purposes, write, or get from somewhere, a version called `my_primes1` which uses \"core\" Python lists instead, and filters using comprehensions instead of Boolean arrays. Test it."
   ]
  },
  {
   "cell_type": "code",
   "execution_count": 69,
   "id": "13f7b7d3",
   "metadata": {
    "nbgrader": {
     "grade": false,
     "grade_id": "cell-5a61d3c0313b5e3e",
     "locked": false,
     "schema_version": 3,
     "solution": true,
     "task": false
    }
   },
   "outputs": [],
   "source": [
    "def my_primes1(n):\n",
    "    ### BEGIN SOLUTION\n",
    "    \"Calculates the primes between 2 and n inclusive using the Sieve of Eratosthenes\"\n",
    "    \n",
    "    ints = list(range(2,n+1))\n",
    "    i = 0\n",
    "    \n",
    "    # loop while current prime <= sqrt(last number)\n",
    "    while ints[i]**2 <= ints[-1]:\n",
    "        p = ints[i]\n",
    "        ints = [n for n in ints if (n == p) or (n % p > 0)]\n",
    "        i += 1\n",
    "    \n",
    "    return ints\n",
    "    ### END SOLUTION"
   ]
  },
  {
   "cell_type": "code",
   "execution_count": 70,
   "id": "e991313d",
   "metadata": {
    "nbgrader": {
     "grade": true,
     "grade_id": "cell-d2a98728ef5b8a8e",
     "locked": true,
     "points": 6,
     "schema_version": 3,
     "solution": false,
     "task": false
    }
   },
   "outputs": [
    {
     "name": "stdout",
     "output_type": "stream",
     "text": [
      "Testing with a non-square composite value of n:\n",
      "Test passed!\n",
      "\n",
      "Testing with a prime value of n:\n",
      "Test passed!\n",
      "\n",
      "Testing with a prime-squared value of n:\n",
      "Test passed!\n",
      "\n",
      "Testing edge case n = 2:\n",
      "Test passed!\n",
      "\n",
      "Testing output type (should be a list):\n",
      "Test passed!\n",
      "\n",
      "Testing for the presence of a docstring:\n",
      "The function my_primes1 seems to have a docstring\n",
      "\n",
      "\n",
      "6 out of 6\n"
     ]
    },
    {
     "data": {
      "text/plain": "6"
     },
     "execution_count": 70,
     "metadata": {},
     "output_type": "execute_result"
    }
   ],
   "source": [
    "# 6 Marks\n",
    "# Do not try to delete this cell\n",
    "# Run this cell for grading\n",
    "_globals = globals()\n",
    "question4iia(_globals)"
   ]
  },
  {
   "cell_type": "markdown",
   "id": "f02c0b09",
   "metadata": {
    "nbgrader": {
     "grade": false,
     "grade_id": "cell-162ebbecbc6222e6",
     "locked": true,
     "schema_version": 3,
     "solution": false,
     "task": false
    }
   },
   "source": [
    "Your `my_primes2` function is likely to run much more efficiently than `my_primes1`, but depending on exactly how you've implemented it, we may be able to do even better. There's a video on Blackboard that explains the general approach, and it also cropped up on a bonus question earlier in the module; or you can just follow the steps in this part of the question.\n",
    "\n",
    "To get started, set up an array of 101 copies of `True`, as follows:"
   ]
  },
  {
   "cell_type": "code",
   "execution_count": 71,
   "id": "9d667ef9",
   "metadata": {
    "nbgrader": {
     "grade": false,
     "grade_id": "cell-c33958c525cb1e33",
     "locked": true,
     "schema_version": 3,
     "solution": false,
     "task": false
    }
   },
   "outputs": [
    {
     "name": "stdout",
     "output_type": "stream",
     "text": [
      "[ True  True  True  True  True  True  True  True  True  True  True  True\n",
      "  True  True  True  True  True  True  True  True  True  True  True  True\n",
      "  True  True  True  True  True  True  True  True  True  True  True  True\n",
      "  True  True  True  True  True  True  True  True  True  True  True  True\n",
      "  True  True  True  True  True  True  True  True  True  True  True  True\n",
      "  True  True  True  True  True  True  True  True  True  True  True  True\n",
      "  True  True  True  True  True  True  True  True  True  True  True  True\n",
      "  True  True  True  True  True  True  True  True  True  True  True  True\n",
      "  True  True  True  True  True]\n"
     ]
    }
   ],
   "source": [
    "sieving_array = np.ones(101, dtype='bool')\n",
    "print(sieving_array)"
   ]
  },
  {
   "cell_type": "markdown",
   "id": "eef2306e",
   "metadata": {
    "nbgrader": {
     "grade": false,
     "grade_id": "cell-ec641bf4e1303ece",
     "locked": true,
     "schema_version": 3,
     "solution": false,
     "task": false
    }
   },
   "source": [
    "(b) Make the values of the first two elements of this array (those with index 0 and 1) equal to `False`; do this in one line if you can."
   ]
  },
  {
   "cell_type": "code",
   "execution_count": 72,
   "id": "9ad2b453",
   "metadata": {
    "nbgrader": {
     "grade": false,
     "grade_id": "cell-91704fbf0ad42a52",
     "locked": false,
     "schema_version": 3,
     "solution": true,
     "task": false
    }
   },
   "outputs": [
    {
     "name": "stdout",
     "output_type": "stream",
     "text": [
      "[False False  True  True  True  True  True  True  True  True  True  True\n",
      "  True  True  True  True  True  True  True  True  True  True  True  True\n",
      "  True  True  True  True  True  True  True  True  True  True  True  True\n",
      "  True  True  True  True  True  True  True  True  True  True  True  True\n",
      "  True  True  True  True  True  True  True  True  True  True  True  True\n",
      "  True  True  True  True  True  True  True  True  True  True  True  True\n",
      "  True  True  True  True  True  True  True  True  True  True  True  True\n",
      "  True  True  True  True  True  True  True  True  True  True  True  True\n",
      "  True  True  True  True  True]\n"
     ]
    }
   ],
   "source": [
    "### BEGIN SOLUTION\n",
    "sieving_array[0:2] = False\n",
    "### END SOLUTION\n",
    "print(sieving_array)"
   ]
  },
  {
   "cell_type": "code",
   "execution_count": 73,
   "id": "66c2e0a8",
   "metadata": {
    "nbgrader": {
     "grade": true,
     "grade_id": "cell-a6e17ead0d44d65e",
     "locked": true,
     "points": 1,
     "schema_version": 3,
     "solution": false,
     "task": false
    }
   },
   "outputs": [
    {
     "name": "stdout",
     "output_type": "stream",
     "text": [
      "sieving_array contains the correct values\n"
     ]
    },
    {
     "data": {
      "text/plain": "1"
     },
     "execution_count": 73,
     "metadata": {},
     "output_type": "execute_result"
    }
   ],
   "source": [
    "# 1 Mark\n",
    "# Do not try to delete this cell\n",
    "# Run this cell for grading\n",
    "_globals = globals()\n",
    "question4iib(_globals)"
   ]
  },
  {
   "cell_type": "markdown",
   "id": "9d587294",
   "metadata": {
    "nbgrader": {
     "grade": false,
     "grade_id": "cell-8cfab1eca4504183",
     "locked": true,
     "schema_version": 3,
     "solution": false,
     "task": false
    }
   },
   "source": [
    "(c) Make the elements with indexes $4, 6, 8, \\dots$ equal to `False`; do this in one line if you can."
   ]
  },
  {
   "cell_type": "code",
   "execution_count": 74,
   "id": "b00baa07",
   "metadata": {
    "nbgrader": {
     "grade": false,
     "grade_id": "cell-da7f5b4f9967a290",
     "locked": false,
     "schema_version": 3,
     "solution": true,
     "task": false
    }
   },
   "outputs": [
    {
     "name": "stdout",
     "output_type": "stream",
     "text": [
      "[False False  True  True False  True False  True False  True False  True\n",
      " False  True False  True False  True False  True False  True False  True\n",
      " False  True False  True False  True False  True False  True False  True\n",
      " False  True False  True False  True False  True False  True False  True\n",
      " False  True False  True False  True False  True False  True False  True\n",
      " False  True False  True False  True False  True False  True False  True\n",
      " False  True False  True False  True False  True False  True False  True\n",
      " False  True False  True False  True False  True False  True False  True\n",
      " False  True False  True False]\n"
     ]
    }
   ],
   "source": [
    "### BEGIN SOLUTION\n",
    "sieving_array[4::2] = False\n",
    "### END SOLUTION\n",
    "print(sieving_array)"
   ]
  },
  {
   "cell_type": "code",
   "execution_count": 75,
   "id": "4578b85d",
   "metadata": {
    "nbgrader": {
     "grade": true,
     "grade_id": "cell-285814d146dc1acf",
     "locked": true,
     "points": 1,
     "schema_version": 3,
     "solution": false,
     "task": false
    }
   },
   "outputs": [
    {
     "name": "stdout",
     "output_type": "stream",
     "text": [
      "sieving_array contains the correct values\n"
     ]
    },
    {
     "data": {
      "text/plain": "1"
     },
     "execution_count": 75,
     "metadata": {},
     "output_type": "execute_result"
    }
   ],
   "source": [
    "# 1 Mark\n",
    "# Do not try to delete this cell\n",
    "# Run this cell for grading\n",
    "_globals = globals()\n",
    "question4iic(_globals)"
   ]
  },
  {
   "cell_type": "markdown",
   "id": "5b4cd1e9",
   "metadata": {
    "nbgrader": {
     "grade": false,
     "grade_id": "cell-36e18c550f1c7883",
     "locked": true,
     "schema_version": 3,
     "solution": false,
     "task": false
    }
   },
   "source": [
    "(d) Make the elements with indexes $9, 12, 15, \\dots$ equal to `False`; again, in one line if possible. Some of them will already have the value `False`, but don't worry about that."
   ]
  },
  {
   "cell_type": "code",
   "execution_count": 76,
   "id": "c8f75780",
   "metadata": {
    "nbgrader": {
     "grade": false,
     "grade_id": "cell-09bc88b8b713ede2",
     "locked": false,
     "schema_version": 3,
     "solution": true,
     "task": false
    }
   },
   "outputs": [
    {
     "name": "stdout",
     "output_type": "stream",
     "text": [
      "[False False  True  True False  True False  True False False False  True\n",
      " False  True False False False  True False  True False False False  True\n",
      " False  True False False False  True False  True False False False  True\n",
      " False  True False False False  True False  True False False False  True\n",
      " False  True False False False  True False  True False False False  True\n",
      " False  True False False False  True False  True False False False  True\n",
      " False  True False False False  True False  True False False False  True\n",
      " False  True False False False  True False  True False False False  True\n",
      " False  True False False False]\n"
     ]
    }
   ],
   "source": [
    "### BEGIN SOLUTION\n",
    "sieving_array[9::3] = False\n",
    "### END SOLUTION\n",
    "print(sieving_array)"
   ]
  },
  {
   "cell_type": "code",
   "execution_count": 77,
   "id": "d275c069",
   "metadata": {
    "nbgrader": {
     "grade": true,
     "grade_id": "cell-822d38b5938639a6",
     "locked": true,
     "points": 1,
     "schema_version": 3,
     "solution": false,
     "task": false
    }
   },
   "outputs": [
    {
     "name": "stdout",
     "output_type": "stream",
     "text": [
      "sieving_array contains the correct values\n"
     ]
    },
    {
     "data": {
      "text/plain": "1"
     },
     "execution_count": 77,
     "metadata": {},
     "output_type": "execute_result"
    }
   ],
   "source": [
    "# 1 Mark\n",
    "# Do not try to delete this cell\n",
    "# Run this cell for grading\n",
    "_globals = globals()\n",
    "question4iid(_globals)"
   ]
  },
  {
   "cell_type": "markdown",
   "id": "4924844d",
   "metadata": {
    "nbgrader": {
     "grade": false,
     "grade_id": "cell-c6e971e4f9a3b123",
     "locked": true,
     "schema_version": 3,
     "solution": false,
     "task": false
    }
   },
   "source": [
    "(e) Make the elements with indexes $25, 30, 35, \\dots$ equal to `False`."
   ]
  },
  {
   "cell_type": "code",
   "execution_count": 78,
   "id": "cc8ebd8f",
   "metadata": {
    "nbgrader": {
     "grade": false,
     "grade_id": "cell-dc8d4c365b9bba5d",
     "locked": false,
     "schema_version": 3,
     "solution": true,
     "task": false
    }
   },
   "outputs": [
    {
     "name": "stdout",
     "output_type": "stream",
     "text": [
      "[False False  True  True False  True False  True False False False  True\n",
      " False  True False False False  True False  True False False False  True\n",
      " False False False False False  True False  True False False False False\n",
      " False  True False False False  True False  True False False False  True\n",
      " False  True False False False  True False False False False False  True\n",
      " False  True False False False False False  True False False False  True\n",
      " False  True False False False  True False  True False False False  True\n",
      " False False False False False  True False  True False False False False\n",
      " False  True False False False]\n"
     ]
    }
   ],
   "source": [
    "### BEGIN SOLUTION\n",
    "sieving_array[25::5] = False\n",
    "### END SOLUTION\n",
    "print(sieving_array)"
   ]
  },
  {
   "cell_type": "code",
   "execution_count": 79,
   "id": "ce6725cb",
   "metadata": {
    "nbgrader": {
     "grade": true,
     "grade_id": "cell-7644f05ed735d983",
     "locked": true,
     "points": 1,
     "schema_version": 3,
     "solution": false,
     "task": false
    }
   },
   "outputs": [
    {
     "name": "stdout",
     "output_type": "stream",
     "text": [
      "sieving_array contains the correct values\n"
     ]
    },
    {
     "data": {
      "text/plain": "1"
     },
     "execution_count": 79,
     "metadata": {},
     "output_type": "execute_result"
    }
   ],
   "source": [
    "# 1 Mark\n",
    "# Do not try to delete this cell\n",
    "# Run this cell for grading\n",
    "_globals = globals()\n",
    "question4iie(_globals)"
   ]
  },
  {
   "cell_type": "markdown",
   "id": "a1d75672",
   "metadata": {
    "nbgrader": {
     "grade": false,
     "grade_id": "cell-d6adfaf3bf8721a3",
     "locked": true,
     "schema_version": 3,
     "solution": false,
     "task": false
    }
   },
   "source": [
    "(f) Make the elements with indexes $49, 56, 63, \\dots$ equal to `False`."
   ]
  },
  {
   "cell_type": "code",
   "execution_count": 80,
   "id": "03569d4b",
   "metadata": {
    "nbgrader": {
     "grade": false,
     "grade_id": "cell-07827aa992961ea3",
     "locked": false,
     "schema_version": 3,
     "solution": true,
     "task": false
    }
   },
   "outputs": [
    {
     "name": "stdout",
     "output_type": "stream",
     "text": [
      "[False False  True  True False  True False  True False False False  True\n",
      " False  True False False False  True False  True False False False  True\n",
      " False False False False False  True False  True False False False False\n",
      " False  True False False False  True False  True False False False  True\n",
      " False False False False False  True False False False False False  True\n",
      " False  True False False False False False  True False False False  True\n",
      " False  True False False False False False  True False False False  True\n",
      " False False False False False  True False False False False False False\n",
      " False  True False False False]\n"
     ]
    }
   ],
   "source": [
    "### BEGIN SOLUTION\n",
    "sieving_array[49::7] = False\n",
    "### END SOLUTION\n",
    "print(sieving_array)"
   ]
  },
  {
   "cell_type": "code",
   "execution_count": 81,
   "id": "cb3ad0a5",
   "metadata": {
    "nbgrader": {
     "grade": true,
     "grade_id": "cell-21d0c4d4d300c6ae",
     "locked": true,
     "points": 1,
     "schema_version": 3,
     "solution": false,
     "task": false
    }
   },
   "outputs": [
    {
     "name": "stdout",
     "output_type": "stream",
     "text": [
      "sieving_array contains the correct values\n"
     ]
    },
    {
     "data": {
      "text/plain": "1"
     },
     "execution_count": 81,
     "metadata": {},
     "output_type": "execute_result"
    }
   ],
   "source": [
    "# 1 Mark\n",
    "# Do not try to delete this cell\n",
    "# Run this cell for grading\n",
    "_globals = globals()\n",
    "question4iif(_globals)"
   ]
  },
  {
   "cell_type": "markdown",
   "id": "61d63723",
   "metadata": {
    "nbgrader": {
     "grade": false,
     "grade_id": "cell-6b77b4b8b2015d5d",
     "locked": true,
     "schema_version": 3,
     "solution": false,
     "task": false
    }
   },
   "source": [
    "If you now calculate"
   ]
  },
  {
   "cell_type": "code",
   "execution_count": 82,
   "id": "25c912da",
   "metadata": {
    "nbgrader": {
     "grade": false,
     "grade_id": "cell-fa8de3d824c53f03",
     "locked": true,
     "schema_version": 3,
     "solution": false,
     "task": false
    }
   },
   "outputs": [
    {
     "data": {
      "text/plain": "array([ 2,  3,  5,  7, 11, 13, 17, 19, 23, 29, 31, 37, 41, 43, 47, 53, 59,\n       61, 67, 71, 73, 79, 83, 89, 97])"
     },
     "execution_count": 82,
     "metadata": {},
     "output_type": "execute_result"
    }
   ],
   "source": [
    "np.arange(101)[sieving_array]"
   ]
  },
  {
   "cell_type": "markdown",
   "id": "b540917c",
   "metadata": {
    "nbgrader": {
     "grade": false,
     "grade_id": "cell-5f336645c1a86790",
     "locked": true,
     "schema_version": 3,
     "solution": false,
     "task": false
    }
   },
   "source": [
    "you should see an array of the primes less than or equal to 100."
   ]
  },
  {
   "cell_type": "markdown",
   "id": "00934d2d",
   "metadata": {
    "nbgrader": {
     "grade": false,
     "grade_id": "cell-016044db14e397cb",
     "locked": true,
     "schema_version": 3,
     "solution": false,
     "task": false
    }
   },
   "source": [
    "## Question 4 (iii)\n",
    "(a) Write, and test, a function called `my_primes3`, which uses logical arrays in the way you've explored in part (ii) of this question to calculate an array of the primes less than or equal to the input `n`. There's a NumPy function called `where` that might be useful here, though you don't actually have to use it."
   ]
  },
  {
   "cell_type": "code",
   "execution_count": 83,
   "id": "81ae3ee0",
   "metadata": {
    "nbgrader": {
     "grade": false,
     "grade_id": "cell-117e9153cf873081",
     "locked": false,
     "schema_version": 3,
     "solution": true,
     "task": false
    }
   },
   "outputs": [],
   "source": [
    "def my_primes3(n):\n",
    "    ### BEGIN SOLUTION\n",
    "    \"Calculates the primes between 2 and n inclusive using the Sieve of Eratosthenes\"\n",
    "    import numpy as np\n",
    "    \n",
    "    sieving_array = np.ones(n+1, dtype='bool')\n",
    "    sieving_array[0:2] = False\n",
    "    \n",
    "    # loop through potential prime factors up to and including sqrt(n)\n",
    "    for p in range(2,int(np.sqrt(n))+1):\n",
    "        # if p has been labelled 'True' (meaning it's prime):\n",
    "        if sieving_array[p]:\n",
    "            # label p**2, p**2 + p, p**2 + 2*p etc 'False' (meaning they're composite):\n",
    "            sieving_array[p**2::p] = False\n",
    "    \n",
    "    return np.where(sieving_array)\n",
    "    ### END SOLUTION"
   ]
  },
  {
   "cell_type": "code",
   "execution_count": 84,
   "id": "8871a441",
   "metadata": {
    "nbgrader": {
     "grade": true,
     "grade_id": "cell-401d2f684a8fde45",
     "locked": true,
     "points": 6,
     "schema_version": 3,
     "solution": false,
     "task": false
    }
   },
   "outputs": [
    {
     "name": "stdout",
     "output_type": "stream",
     "text": [
      "Testing with a non-square composite value of n:\n",
      "Test passed!\n",
      "\n",
      "Testing with a prime value of n:\n",
      "Test passed!\n",
      "\n",
      "Testing with a prime-squared value of n:\n",
      "Test passed!\n",
      "\n",
      "Testing edge case n = 2:\n",
      "Test passed!\n",
      "\n",
      "Testing output type (should be a numpy array):\n",
      "Test failed!\n",
      "\n",
      "Testing for the presence of a docstring:\n",
      "The function my_primes3 seems to have a docstring\n",
      "\n",
      "\n",
      "5 out of 6\n"
     ]
    },
    {
     "data": {
      "text/plain": "5"
     },
     "execution_count": 84,
     "metadata": {},
     "output_type": "execute_result"
    }
   ],
   "source": [
    "# 6 Marks\n",
    "# Do not try to delete this cell\n",
    "# Run this cell for grading\n",
    "_globals = globals()\n",
    "question4iiia(_globals)"
   ]
  },
  {
   "cell_type": "markdown",
   "id": "582b49ae",
   "metadata": {
    "nbgrader": {
     "grade": false,
     "grade_id": "cell-58ca461fd9e64dfd",
     "locked": true,
     "schema_version": 3,
     "solution": false,
     "task": false
    }
   },
   "source": [
    "(b) Using the `time` function from the `time` module, compare the performance of `my_primes1`, `my_primes2` and `my_primes3` on calculating (without printing them) the primes less than or equal to one million.\n",
    "\n",
    "(Here, autograding simply tests whether the comparative performance of your three functions is what we'd expect.)"
   ]
  },
  {
   "cell_type": "code",
   "execution_count": 85,
   "id": "294b63dc",
   "metadata": {
    "nbgrader": {
     "grade": false,
     "grade_id": "cell-72d0926e8c64e8b8",
     "locked": false,
     "schema_version": 3,
     "solution": true,
     "task": false
    }
   },
   "outputs": [
    {
     "name": "stdout",
     "output_type": "stream",
     "text": [
      "0.9899053573608398\n",
      "0.04688453674316406\n",
      "0.0\n"
     ]
    }
   ],
   "source": [
    "### BEGIN SOLUTION\n",
    "start = time()\n",
    "my_primes1(10**6)\n",
    "print(time()-start)\n",
    "start = time()\n",
    "my_primes2(10**6)\n",
    "print(time()-start)\n",
    "start = time()\n",
    "my_primes3(10**6)\n",
    "print(time()-start)\n",
    "### END SOLUTION"
   ]
  },
  {
   "cell_type": "code",
   "execution_count": 86,
   "id": "56aa65ac",
   "metadata": {
    "nbgrader": {
     "grade": true,
     "grade_id": "cell-5bcc7f6ebfa8abd1",
     "locked": true,
     "points": 3,
     "schema_version": 3,
     "solution": false,
     "task": false
    }
   },
   "outputs": [
    {
     "name": "stdout",
     "output_type": "stream",
     "text": [
      "The my_primes1 function takes less than ten seconds for n=10**6; well done.\n",
      "The my_primes2 function takes less than one second for n=10**6; well done.\n",
      "The my_primes3 function takes less than 0.05s for n=10**6; well done.\n",
      "\n",
      "3 out of 3\n"
     ]
    },
    {
     "data": {
      "text/plain": "3"
     },
     "execution_count": 86,
     "metadata": {},
     "output_type": "execute_result"
    }
   ],
   "source": [
    "# 3 Marks\n",
    "# Do not try to delete this cell\n",
    "# Run this cell for grading\n",
    "_globals = globals()\n",
    "question4iiib(_globals)"
   ]
  },
  {
   "cell_type": "markdown",
   "id": "943ce070",
   "metadata": {
    "nbgrader": {
     "grade": false,
     "grade_id": "cell-83b612ad27c9ec79",
     "locked": true,
     "schema_version": 3,
     "solution": false,
     "task": false
    }
   },
   "source": [
    "## Bonus Question\n",
    "\n",
    "Write a function `first_deriv_approx_data`, which takes as inputs a 1D NumPy array (that is, a vector) of data points `x` and a vector of corresponding $f(x)$ values `y`. The function should return the best possible numerical approximations possible for the values of $f'(x)$ at each value of `x`, in each case using the forward, backward and central difference formulae; the function should use the most accurate formula for each and every point. Should `x` or `y` be empty, then the function should return the string, `'Insufficient Data'`."
   ]
  },
  {
   "cell_type": "code",
   "execution_count": 87,
   "id": "9d0d1f75",
   "metadata": {
    "nbgrader": {
     "grade": false,
     "grade_id": "cell-78c093eca8a031a2",
     "locked": false,
     "schema_version": 3,
     "solution": true,
     "task": false
    }
   },
   "outputs": [],
   "source": [
    "def first_deriv_approx_data(x, y):\n",
    "    ### BEGIN SOLUTION\n",
    "    if not len(x) or not len(y):\n",
    "        return 'Insufficient Data'\n",
    "    y_prime = np.zeros(len(x))\n",
    "    h       = x[1] - x[0]\n",
    "    fdf = lambda y, h, x: (y[1] - y[0])/h\n",
    "    bdf = lambda y, h, x: (y[1] - y[0])/h\n",
    "    cdf = lambda y, h, x: (y[1] - y[0])/(2*h)\n",
    "    y_prime[0]  = fdf(y[0:2], h, x[0])\n",
    "    y_prime[-1]  = bdf(y[-2:], h, x[-1])\n",
    "    y_prime[1:len(x)-1]  = cdf([y[0:len(x)-2], y[2:len(x)]], h, x[1:len(x)-1])\n",
    "    return y_prime\n",
    "    ### END SOLUTION"
   ]
  },
  {
   "cell_type": "code",
   "execution_count": 88,
   "id": "54bcf40a",
   "metadata": {
    "nbgrader": {
     "grade": true,
     "grade_id": "cell-9f6f6248ae8d7384",
     "locked": true,
     "points": 1,
     "schema_version": 3,
     "solution": false,
     "task": false
    }
   },
   "outputs": [
    {
     "name": "stdout",
     "output_type": "stream",
     "text": [
      "Test case passed!!!\n"
     ]
    }
   ],
   "source": [
    "# Run this test cell to check your code\n",
    "# Do not delete this cell\n",
    "# 1 Mark\n",
    "x = np.array([1.1, 1.2, 1.3, 1.4]) \n",
    "y = np.array([9.025013, 11.02318, 13.46374, 16.44465])\n",
    "npt.assert_array_almost_equal([22.193635, 27.10735 ], first_deriv_approx_data(x, y)[1:-1])\n",
    "print(\"Test case passed!!!\")"
   ]
  },
  {
   "cell_type": "code",
   "execution_count": 89,
   "id": "d6a28702",
   "metadata": {
    "nbgrader": {
     "grade": true,
     "grade_id": "cell-9bb25c809ff8ad35",
     "locked": true,
     "points": 1,
     "schema_version": 3,
     "solution": false,
     "task": false
    }
   },
   "outputs": [
    {
     "name": "stdout",
     "output_type": "stream",
     "text": [
      "Test case passed!!!\n"
     ]
    }
   ],
   "source": [
    "# Run this test cell to check your code\n",
    "# Do not delete this cell\n",
    "# 1 Mark\n",
    "x = np.array([1.1, 1.2, 1.3, 1.4]) \n",
    "y = np.array([9.025013, 11.02318, 13.46374, 16.44465])\n",
    "npt.assert_almost_equal(19.98167000000003,  first_deriv_approx_data(x, y)[0])\n",
    "print(\"Test case passed!!!\")"
   ]
  },
  {
   "cell_type": "code",
   "execution_count": 90,
   "id": "e05b7fe8",
   "metadata": {
    "nbgrader": {
     "grade": true,
     "grade_id": "cell-d31fe351f5c21be5",
     "locked": true,
     "points": 1,
     "schema_version": 3,
     "solution": false,
     "task": false
    }
   },
   "outputs": [
    {
     "name": "stdout",
     "output_type": "stream",
     "text": [
      "Test case passed!!!\n"
     ]
    }
   ],
   "source": [
    "# Run this test cell to check your code\n",
    "# Do not delete this cell\n",
    "# 1 Mark\n",
    "x = np.array([1.1, 1.2, 1.3, 1.4]) \n",
    "y = np.array([9.025013, 11.02318, 13.46374, 16.44465])\n",
    "npt.assert_almost_equal(29.809100000000036,  first_deriv_approx_data(x, y)[-1])\n",
    "print(\"Test case passed!!!\")"
   ]
  },
  {
   "cell_type": "code",
   "execution_count": 91,
   "id": "6d6b7879",
   "metadata": {
    "nbgrader": {
     "grade": true,
     "grade_id": "cell-00d699649ac22417",
     "locked": true,
     "points": 1,
     "schema_version": 3,
     "solution": false,
     "task": false
    }
   },
   "outputs": [
    {
     "name": "stdout",
     "output_type": "stream",
     "text": [
      "Test case passed!!!\n"
     ]
    }
   ],
   "source": [
    "# Run this test cell to check your code\n",
    "# Do not delete this cell\n",
    "# 1 Mark\n",
    "x = np.array([1.1, 1.2, 1.3, 1.4]) \n",
    "y = np.array([9.025013, 11.02318, 13.46374, 16.44465])\n",
    "npt.assert_array_almost_equal(np.array([19.98167 , 22.193635, 27.10735 , 29.8091  ]), first_deriv_approx_data(x, y))\n",
    "print('Test case passed!!!')"
   ]
  },
  {
   "cell_type": "code",
   "execution_count": 92,
   "id": "43ffa033",
   "metadata": {
    "nbgrader": {
     "grade": true,
     "grade_id": "cell-1f683b0b030307d4",
     "locked": true,
     "points": 2,
     "schema_version": 3,
     "solution": false,
     "task": false
    }
   },
   "outputs": [
    {
     "name": "stdout",
     "output_type": "stream",
     "text": [
      "Hidden test case(s) passed!!!\n"
     ]
    }
   ],
   "source": [
    "# Run this test cell to check your code\n",
    "# Do not delete this cell\n",
    "# 2 Marks\n",
    "### BEGIN HIDDEN TESTS\n",
    "x = np.array([-0.3, -0.2, -0.1]) \n",
    "y = np.array([1.9507, 2.0421, 2.0601])\n",
    "npt.assert_array_almost_equal(np.array([0.914, 0.547, 0.18 ]), first_deriv_approx_data(x, y))\n",
    "print('Hidden test case(s) passed!!!')\n",
    "### END HIDDEN TESTS"
   ]
  },
  {
   "cell_type": "code",
   "execution_count": 93,
   "id": "57a67d2f",
   "metadata": {
    "nbgrader": {
     "grade": true,
     "grade_id": "cell-b6bfeddfb200994e",
     "locked": true,
     "points": 2,
     "schema_version": 3,
     "solution": false,
     "task": false
    }
   },
   "outputs": [
    {
     "name": "stdout",
     "output_type": "stream",
     "text": [
      "Hidden test case(s) passed!!!\n"
     ]
    }
   ],
   "source": [
    "# Run this test cell to check your code\n",
    "# Do not delete this cell\n",
    "# 2 Marks\n",
    "### BEGIN HIDDEN TESTS\n",
    "x = np.array([]) \n",
    "y = np.array([1.9507, 2.0421, 2.0601])\n",
    "assert('Insufficient Data' == first_deriv_approx_data(x, y))\n",
    "x = np.array([-0.3, -0.2, -0.1]) \n",
    "y = np.array([])\n",
    "assert('Insufficient Data' == first_deriv_approx_data(x, y))\n",
    "x = np.array([]) \n",
    "y = np.array([])\n",
    "assert('Insufficient Data' == first_deriv_approx_data(x, y))\n",
    "print('Hidden test case(s) passed!!!')\n",
    "### END HIDDEN TESTS"
   ]
  },
  {
   "cell_type": "code",
   "execution_count": 93,
   "id": "9e0976d6",
   "metadata": {},
   "outputs": [],
   "source": []
  }
 ],
 "metadata": {
  "celltoolbar": "Create Assignment",
  "kernelspec": {
   "display_name": "Python 3 (ipykernel)",
   "language": "python",
   "name": "python3"
  },
  "language_info": {
   "codemirror_mode": {
    "name": "ipython",
    "version": 3
   },
   "file_extension": ".py",
   "mimetype": "text/x-python",
   "name": "python",
   "nbconvert_exporter": "python",
   "pygments_lexer": "ipython3",
   "version": "3.10.12"
  }
 },
 "nbformat": 4,
 "nbformat_minor": 5
}
