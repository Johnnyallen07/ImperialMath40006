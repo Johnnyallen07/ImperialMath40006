{
 "cells": [
  {
   "cell_type": "code",
   "execution_count": 34,
   "metadata": {},
   "outputs": [],
   "source": [
    "from autograder_term1week9 import *\n",
    "_globals = globals()\n",
    "import matplotlib.pyplot as plt\n",
    "%matplotlib inline"
   ]
  },
  {
   "cell_type": "markdown",
   "metadata": {
    "deletable": false,
    "editable": false,
    "nbgrader": {
     "cell_type": "markdown",
     "checksum": "f44240e0ae53654d645de0e37424250f",
     "grade": false,
     "grade_id": "cell-73ddc92749155a5d",
     "locked": true,
     "schema_version": 3,
     "solution": false
    }
   },
   "source": [
    "# <center> Introduction to Mathematical Computing </center>\n",
    "### <center>Phil Ramsden, Matt Woolway, Boumediene Hamzi</center>\n",
    "\n",
    "# <center> Worksheet 5: Functions</center>\n",
    "\n",
    "**NOTE:** When answering a question, remember to remove the `raise NotImplementedError()` line.\n",
    "\n",
    "Don't forget: online Python documentation is at <a href='https://docs.python.org'>docs.python.org</a> and <a href='https://www.w3schools.com/python/'>www.w3schools.com/python/</a>."
   ]
  },
  {
   "cell_type": "markdown",
   "metadata": {
    "deletable": false,
    "editable": false,
    "nbgrader": {
     "cell_type": "markdown",
     "checksum": "05791530063989c5d816e8d16ef8c212",
     "grade": false,
     "grade_id": "cell-3f3d188d2675a1f6",
     "locked": true,
     "schema_version": 3,
     "solution": false,
     "task": false
    }
   },
   "source": [
    "## Question 0: don't miss this bit!\n",
    "\n",
    "In the file called `my_username.txt`, type your <b>short-form College user name</b> (this will usually be one or more letters followed by three or more figures, such as qk4019). Don't use quote marks. Then save the file."
   ]
  },
  {
   "cell_type": "code",
   "execution_count": 35,
   "metadata": {
    "deletable": false,
    "editable": false,
    "nbgrader": {
     "cell_type": "code",
     "checksum": "06ad53f1b499e71514b6573155202c14",
     "grade": true,
     "grade_id": "cell-46aa21238875aab2",
     "locked": true,
     "points": 5,
     "schema_version": 3,
     "solution": false,
     "task": false
    }
   },
   "outputs": [
    {
     "name": "stdout",
     "output_type": "stream",
     "text": [
      "You've changed the contents of the file; thank you!\n",
      "Your username has been recognised; thank you!\n",
      "\n",
      "5 out of 5 marks\n"
     ]
    },
    {
     "data": {
      "text/plain": "5"
     },
     "execution_count": 35,
     "metadata": {},
     "output_type": "execute_result"
    }
   ],
   "source": [
    "# 5 Marks\n",
    "# Do not try to delete this cell\n",
    "# Run this cell for grading of Question 0\n",
    "_globals = globals()\n",
    "question0(_globals)"
   ]
  },
  {
   "cell_type": "markdown",
   "metadata": {
    "deletable": false,
    "editable": false,
    "nbgrader": {
     "cell_type": "markdown",
     "checksum": "17c49e2a1186a0146f2398cca8d14a32",
     "grade": false,
     "grade_id": "cell-0199190a00f56949",
     "locked": true,
     "schema_version": 3,
     "solution": false
    }
   },
   "source": [
    "## Question 1\n",
    "\n",
    "(a) Write and test a function called `xsqdplusone` that takes one argument $x$ (which you can assume to be numerical) and returns the value of $x^2 + 1$. Your function should return a number of the same type as $x$."
   ]
  },
  {
   "cell_type": "code",
   "execution_count": 36,
   "metadata": {
    "deletable": false,
    "nbgrader": {
     "cell_type": "code",
     "checksum": "52401db61fec269a0f2e61788032796f",
     "grade": false,
     "grade_id": "cell-b00091df7b05694f",
     "locked": false,
     "schema_version": 3,
     "solution": true
    }
   },
   "outputs": [],
   "source": [
    "def xsqdplusone(x):\n",
    "    return x**2 + 1"
   ]
  },
  {
   "cell_type": "code",
   "execution_count": 37,
   "metadata": {
    "deletable": false,
    "editable": false,
    "nbgrader": {
     "cell_type": "code",
     "checksum": "65947c924640b6c03ddf67ea00fd9541",
     "grade": true,
     "grade_id": "cell-35116d17e85ec49c",
     "locked": true,
     "points": 0,
     "schema_version": 3,
     "solution": false,
     "task": false
    }
   },
   "outputs": [
    {
     "name": "stdout",
     "output_type": "stream",
     "text": [
      "Unit test passed! Run some of your own tests, making sure to try a variety of cases.\n"
     ]
    }
   ],
   "source": [
    "# Run this test cell to check your code\n",
    "# Unit test\n",
    "# 0 Marks\n",
    "assert(xsqdplusone(3+2j) == (6+12j))\n",
    "print('Unit test passed! Run some of your own tests, making sure to try a variety of cases.')"
   ]
  },
  {
   "cell_type": "code",
   "execution_count": 38,
   "metadata": {
    "deletable": false,
    "editable": false,
    "nbgrader": {
     "cell_type": "code",
     "checksum": "73cf4b606f9a3df6119453c24a722c97",
     "grade": true,
     "grade_id": "cell-9f3ccf3b0dcc3a1a",
     "locked": true,
     "points": 1,
     "schema_version": 3,
     "solution": false
    }
   },
   "outputs": [
    {
     "name": "stdout",
     "output_type": "stream",
     "text": [
      "Your function returned the correct output for the input 1\n",
      "Your function returned the correct output for the input 0.357\n",
      "Your function returned the correct output for the input (3+2j)\n",
      "Question 1a passed!\n"
     ]
    },
    {
     "data": {
      "text/plain": "1"
     },
     "execution_count": 38,
     "metadata": {},
     "output_type": "execute_result"
    }
   ],
   "source": [
    "# 1 Mark\n",
    "# Do not try to delete this cell\n",
    "# Run this cell for grading\n",
    "_globals = globals()\n",
    "question1a(_globals)"
   ]
  },
  {
   "cell_type": "markdown",
   "metadata": {
    "deletable": false,
    "editable": false,
    "nbgrader": {
     "cell_type": "markdown",
     "checksum": "d0a2ccfbc93da1bb034a85c153eaebad",
     "grade": false,
     "grade_id": "cell-5156a3ca215ddfb9",
     "locked": true,
     "schema_version": 3,
     "solution": false
    }
   },
   "source": [
    "(b) Write and test a function called <code>hailstone_step</code> that takes one argument $a$ (which you can assume to be a positive integer) and returns an integer equal to $a/2$ if $a$ is even, and $3a+1$ if $a$ is odd."
   ]
  },
  {
   "cell_type": "code",
   "execution_count": 39,
   "metadata": {
    "deletable": false,
    "nbgrader": {
     "cell_type": "code",
     "checksum": "d7307207681da52425904c0b2d84eee3",
     "grade": false,
     "grade_id": "cell-7582dbb0352598f5",
     "locked": false,
     "schema_version": 3,
     "solution": true
    }
   },
   "outputs": [],
   "source": [
    "def hailstone_step(a):\n",
    "    return int(a / 2) if a % 2 == 0 else int(3*a+1)"
   ]
  },
  {
   "cell_type": "code",
   "execution_count": 40,
   "metadata": {
    "deletable": false,
    "editable": false,
    "nbgrader": {
     "cell_type": "code",
     "checksum": "f0b7d4b4641ee26ade761650c6df5776",
     "grade": true,
     "grade_id": "cell-5d58e3855945bf93",
     "locked": true,
     "points": 0,
     "schema_version": 3,
     "solution": false
    }
   },
   "outputs": [
    {
     "name": "stdout",
     "output_type": "stream",
     "text": [
      "Unit test passed! Run some of your own tests, making sure to try a variety of cases.\n"
     ]
    }
   ],
   "source": [
    "# Run this test cell to check your code\n",
    "# Unit test\n",
    "# 0 Marks\n",
    "assert(hailstone_step(7) == 22)\n",
    "print('Unit test passed! Run some of your own tests, making sure to try a variety of cases.')"
   ]
  },
  {
   "cell_type": "code",
   "execution_count": 41,
   "metadata": {
    "deletable": false,
    "editable": false,
    "nbgrader": {
     "cell_type": "code",
     "checksum": "aee737a37d5d2b67b550ca04d3c82031",
     "grade": true,
     "grade_id": "cell-03a43bd44d34aae1",
     "locked": true,
     "points": 2,
     "schema_version": 3,
     "solution": false
    }
   },
   "outputs": [
    {
     "name": "stdout",
     "output_type": "stream",
     "text": [
      "Test 1: positive odd argument\n",
      "Your function returned numerically correct output for the input 1\n",
      "Your function returned output of the correct numerical type for the input 1\n",
      "Test 1 passed!\n",
      "\n",
      "Test 2: positive even argument\n",
      "Your function returned numerically correct output for the input 28\n",
      "Your function returned output of the correct numerical type for the input 28\n",
      "Test 2 passed!\n",
      "\n",
      "2 marks out of 2\n"
     ]
    },
    {
     "data": {
      "text/plain": "2"
     },
     "execution_count": 41,
     "metadata": {},
     "output_type": "execute_result"
    }
   ],
   "source": [
    "# 2 Marks\n",
    "# Do not try to delete this cell\n",
    "# Run this cell for grading\n",
    "_globals = globals()\n",
    "question1b(_globals)"
   ]
  },
  {
   "cell_type": "markdown",
   "metadata": {
    "deletable": false,
    "editable": false,
    "nbgrader": {
     "cell_type": "markdown",
     "checksum": "395a0a30f417f48af2333a030a3ffb7a",
     "grade": false,
     "grade_id": "cell-4ee22367f40299ff",
     "locked": true,
     "schema_version": 3,
     "solution": false
    }
   },
   "source": [
    "(c) Write a function called <code>my_factorial</code> that takes one argument $n$ (which you can assume to be a non-negative integer) and returns its factorial, $n!$."
   ]
  },
  {
   "cell_type": "code",
   "execution_count": 42,
   "metadata": {
    "deletable": false,
    "nbgrader": {
     "cell_type": "code",
     "checksum": "726538c4965060924d90d677d321bfaf",
     "grade": false,
     "grade_id": "cell-72ce8a0b51ff800f",
     "locked": false,
     "schema_version": 3,
     "solution": true
    }
   },
   "outputs": [],
   "source": [
    "def my_factorial(n):\n",
    "    if n == 0 or n == 1:\n",
    "        return 1\n",
    "    return n*my_factorial(n-1)"
   ]
  },
  {
   "cell_type": "code",
   "execution_count": 43,
   "metadata": {
    "deletable": false,
    "editable": false,
    "nbgrader": {
     "cell_type": "code",
     "checksum": "627dafefe3abd2eeb6e781e327e27361",
     "grade": true,
     "grade_id": "cell-3bb5ea38caa35539",
     "locked": true,
     "points": 0,
     "schema_version": 3,
     "solution": false
    }
   },
   "outputs": [
    {
     "name": "stdout",
     "output_type": "stream",
     "text": [
      "Unit test passed! Run some of your own tests, making sure to try a variety of cases, including edge cases.\n"
     ]
    }
   ],
   "source": [
    "# Run this test cell to check your code\n",
    "# Unit test\n",
    "# 0 Marks\n",
    "assert(my_factorial(5) == 120)\n",
    "print('Unit test passed! Run some of your own tests, making sure to try a variety of cases, including edge cases.')"
   ]
  },
  {
   "cell_type": "code",
   "execution_count": 44,
   "metadata": {
    "deletable": false,
    "editable": false,
    "nbgrader": {
     "cell_type": "code",
     "checksum": "29415e74942bba4fcd5daf6d2badb147",
     "grade": true,
     "grade_id": "cell-12fd18ed347a5d4e",
     "locked": true,
     "points": 3,
     "schema_version": 3,
     "solution": false
    }
   },
   "outputs": [
    {
     "name": "stdout",
     "output_type": "stream",
     "text": [
      "Test 1: typical case\n",
      "Your function returned the correct output for the input 5\n",
      "Test 1 passed!\n",
      "\n",
      "Test 2: edge case\n",
      "Your function returned the correct output for the input 0\n",
      "Test 2 passed!\n",
      "\n",
      "Test 3: large int output\n",
      "Your function returned the correct output for the input 1000\n",
      "Test 3 passed!\n",
      "\n",
      "3 marks out of 3\n"
     ]
    },
    {
     "data": {
      "text/plain": "3"
     },
     "execution_count": 44,
     "metadata": {},
     "output_type": "execute_result"
    }
   ],
   "source": [
    "# 3 Marks\n",
    "# Do not try to delete this cell\n",
    "# Run this cell for grading\n",
    "_globals = globals()\n",
    "question1c(_globals)"
   ]
  },
  {
   "cell_type": "markdown",
   "metadata": {
    "deletable": false,
    "editable": false,
    "nbgrader": {
     "cell_type": "markdown",
     "checksum": "68c1000fec9064d1d72efeae15952fce",
     "grade": false,
     "grade_id": "cell-248dfe03fb369161",
     "locked": true,
     "schema_version": 3,
     "solution": false
    }
   },
   "source": [
    "(d) Write and test a function called <code>fibonacci</code>, which takes as its argument $n$, which you can assume to be a positive integer, and returns the $n$th Fibonacci number. (Note: the first Fibonacci number can be taken to be 1, the second 1, the third 2, etc, so\n",
    "```python\n",
    "fibonacci(5)\n",
    "```\n",
    "should return 5.)"
   ]
  },
  {
   "cell_type": "code",
   "execution_count": 45,
   "metadata": {
    "deletable": false,
    "nbgrader": {
     "cell_type": "code",
     "checksum": "1f004efa86d8e7bf77a0ffdf8932a060",
     "grade": false,
     "grade_id": "cell-083814268f826c5d",
     "locked": false,
     "schema_version": 3,
     "solution": true
    }
   },
   "outputs": [],
   "source": [
    "def fibonacci(n):\n",
    "    if n == 1 or n == 2:\n",
    "        return 1\n",
    "    return fibonacci(n - 1) + fibonacci(n - 2)"
   ]
  },
  {
   "cell_type": "code",
   "execution_count": 46,
   "metadata": {
    "deletable": false,
    "editable": false,
    "nbgrader": {
     "cell_type": "code",
     "checksum": "1c72123ef545a64a79aaa570f93d9842",
     "grade": true,
     "grade_id": "cell-0e433bf224e67d1a",
     "locked": true,
     "points": 0,
     "schema_version": 3,
     "solution": false
    }
   },
   "outputs": [
    {
     "name": "stdout",
     "output_type": "stream",
     "text": [
      "Unit test passed! Run some of your own tests, making sure to try a variety of cases.\n"
     ]
    }
   ],
   "source": [
    "# Run this test cell to check your code\n",
    "# Unit test\n",
    "# 0 Marks\n",
    "assert(fibonacci(5) == 5)\n",
    "print('Unit test passed! Run some of your own tests, making sure to try a variety of cases.')"
   ]
  },
  {
   "cell_type": "code",
   "execution_count": 47,
   "metadata": {
    "deletable": false,
    "editable": false,
    "nbgrader": {
     "cell_type": "code",
     "checksum": "1298df4ebc362679a141023940263a3d",
     "grade": true,
     "grade_id": "cell-512e72d91dabe64f",
     "locked": true,
     "points": 2,
     "schema_version": 3,
     "solution": false
    }
   },
   "outputs": [
    {
     "name": "stdout",
     "output_type": "stream",
     "text": [
      "Test 1: a list of typical cases, tested with a comprehension\n",
      "Your function returned the correct output for all of the integers 3, 4, ..., 10\n",
      "Test 1 passed!\n",
      "\n",
      "Test 2: edge cases\n",
      "Your function returned the correct output for the input 1\n",
      "Your function returned the correct output for the input 2\n",
      "Test 2 passed!\n",
      "\n",
      "2 marks out of 2\n"
     ]
    },
    {
     "data": {
      "text/plain": "2"
     },
     "execution_count": 47,
     "metadata": {},
     "output_type": "execute_result"
    }
   ],
   "source": [
    "# 2 Marks\n",
    "# Do not try to delete this cell\n",
    "# Run this cell for grading\n",
    "_globals = globals()\n",
    "question1d(_globals)"
   ]
  },
  {
   "cell_type": "markdown",
   "metadata": {
    "deletable": false,
    "editable": false,
    "nbgrader": {
     "cell_type": "markdown",
     "checksum": "7bb6cbc0c25db814055b0e4c049b72ea",
     "grade": false,
     "grade_id": "cell-fcf4c095899ed43b",
     "locked": true,
     "schema_version": 3,
     "solution": false
    }
   },
   "source": [
    "(e) Write and test a function called <code>factor_sum</code> that takes as its argument <code>a</code>, which you can assume to be a positive integer, and returns the sum of all its factors including itself. Try to make your function reasonably efficient, without too many unnecessary iterations."
   ]
  },
  {
   "cell_type": "code",
   "execution_count": 48,
   "metadata": {
    "deletable": false,
    "nbgrader": {
     "cell_type": "code",
     "checksum": "80c41b02513319ad182b2fb8a720a2cc",
     "grade": false,
     "grade_id": "cell-ed953a434d1a00e3",
     "locked": false,
     "schema_version": 3,
     "solution": true
    }
   },
   "outputs": [],
   "source": [
    "from math import sqrt\n",
    "def factor_sum(a):\n",
    "    sum = 0\n",
    "    for i in range(1, int(sqrt(a))+1):\n",
    "        if a % i == 0:\n",
    "            if i != a / i:\n",
    "                sum += (i + a / i)\n",
    "            else:\n",
    "                sum += i\n",
    "\n",
    "    return sum"
   ]
  },
  {
   "cell_type": "code",
   "execution_count": 49,
   "metadata": {
    "deletable": false,
    "editable": false,
    "nbgrader": {
     "cell_type": "code",
     "checksum": "4be6619e7bef0fc29a24a99e938e92e6",
     "grade": true,
     "grade_id": "cell-9124bb3900fcaf38",
     "locked": true,
     "points": 0,
     "schema_version": 3,
     "solution": false
    }
   },
   "outputs": [
    {
     "name": "stdout",
     "output_type": "stream",
     "text": [
      "Unit test passed! Run some of your own tests, making sure to try a variety of cases.\n"
     ]
    }
   ],
   "source": [
    "# Run this test cell to check your code\n",
    "# Unit test\n",
    "# 0 Marks\n",
    "assert(factor_sum(24) == 60)\n",
    "print('Unit test passed! Run some of your own tests, making sure to try a variety of cases.')"
   ]
  },
  {
   "cell_type": "code",
   "execution_count": 50,
   "metadata": {
    "deletable": false,
    "editable": false,
    "nbgrader": {
     "cell_type": "code",
     "checksum": "2e1d5c8351ec4cd2a100606dff30a58a",
     "grade": true,
     "grade_id": "cell-b19e110c9aa2d269",
     "locked": true,
     "points": 4,
     "schema_version": 3,
     "solution": false
    }
   },
   "outputs": [
    {
     "name": "stdout",
     "output_type": "stream",
     "text": [
      "Test 1: typical case, non-square\n",
      "Your function returned the correct output for the input 24\n",
      "Test 1 passed!\n",
      "\n",
      "Test 2: typical case, square\n",
      "Your function returned the correct output for the input 36\n",
      "Test 2 passed!\n",
      "\n",
      "Test 3: edge cases\n",
      "Your function returned the correct output for the input 1\n",
      "Your function returned the correct output for the input 0\n",
      "Test 3 passed!\n",
      "\n",
      "Test 4: efficiency\n",
      "Your function seemed to calculate the factor sum of one million in good time.\n",
      "Test 4 passed!\n",
      "\n",
      "4 marks out of 4\n"
     ]
    },
    {
     "data": {
      "text/plain": "4"
     },
     "execution_count": 50,
     "metadata": {},
     "output_type": "execute_result"
    }
   ],
   "source": [
    "# 4 Marks\n",
    "# Do not try to delete this cell\n",
    "# Run this cell for grading\n",
    "_globals = globals()\n",
    "question1e(_globals)"
   ]
  },
  {
   "cell_type": "markdown",
   "metadata": {
    "deletable": false,
    "editable": false,
    "nbgrader": {
     "cell_type": "markdown",
     "checksum": "d73162a2b92a713a6f1dfdb90202f32d",
     "grade": false,
     "grade_id": "cell-51e283ccf93ae93f",
     "locked": true,
     "schema_version": 3,
     "solution": false
    }
   },
   "source": [
    "(f) Write a function called <code>nest</code>, which takes as its arguments a function <code>f</code>, a starting value <code>x0</code> and a number of iterations <code>n</code>, and returns \n",
    "\n",
    "<center>\n",
    "    <code>f(f(f(...f(x0)...))),</code>\n",
    "</center>\n",
    "\n",
    "the <code>n</code>th iterate of <code>f</code> starting at <code>x0</code>.\n",
    "\n",
    "Test your function. The following code should return the value \n",
    "\n",
    "$$\\cos(\\cos(\\cos(\\cos(\\cos(1.0))))) = 0.7013687736227566,$$ \n",
    "\n",
    "for example (though you should test more than once).\n",
    "\n",
    "```python\n",
    "from math import cos\n",
    "nest(cos, 1.0, 5)\n",
    "```\n",
    "\n",
    "Using your function, calculate the 20th iterate of $f$ starting at $0.3$, where\n",
    "\n",
    "$$f(x) = 4\\,x\\,(1-x).$$\n",
    "\n",
    "Make sure to pass this to the variable <code>x20</code>.\n",
    "\n",
    "(Hint; for the last part, you may wish to use something called a <b>lambda-expression</b>; take a sneak peek at the notes for Term 1, Week 10. A lambda-expression is not required for this question, but you might find it convenient.)"
   ]
  },
  {
   "cell_type": "code",
   "execution_count": 102,
   "metadata": {
    "deletable": false,
    "nbgrader": {
     "cell_type": "code",
     "checksum": "313a7707469b82f544a5296bf156fadd",
     "grade": false,
     "grade_id": "cell-f036c883340009fc",
     "locked": false,
     "schema_version": 3,
     "solution": true
    }
   },
   "outputs": [
    {
     "name": "stdout",
     "output_type": "stream",
     "text": [
      "0.9417846056085262\n"
     ]
    }
   ],
   "source": [
    "def nest(f, x0, n):\n",
    "    if n == 0:\n",
    "        return x0\n",
    "    return nest(f, f(x0), n-1)\n",
    "\n",
    "x20 = nest(lambda x : 4*x*(1-x),0.3,20)\n",
    "print(x20)"
   ]
  },
  {
   "cell_type": "code",
   "execution_count": 52,
   "metadata": {
    "deletable": false,
    "editable": false,
    "nbgrader": {
     "cell_type": "code",
     "checksum": "0c2057c94c8499df3ecbb476ca8c1882",
     "grade": true,
     "grade_id": "cell-eb91dac56e3e4ea7",
     "locked": true,
     "points": 0,
     "schema_version": 3,
     "solution": false
    }
   },
   "outputs": [
    {
     "name": "stdout",
     "output_type": "stream",
     "text": [
      "Unit test passed! Run some of your own tests, making sure to try a variety of cases.\n"
     ]
    }
   ],
   "source": [
    "# Run this test cell to check your code\n",
    "# Unit test\n",
    "# 0 Marks\n",
    "from math import cos\n",
    "from numpy import isclose\n",
    "assert(isclose(nest(cos, 1.0, 5), 0.7013687736227566))\n",
    "print('Unit test passed! Run some of your own tests, making sure to try a variety of cases.')"
   ]
  },
  {
   "cell_type": "code",
   "execution_count": 53,
   "metadata": {
    "deletable": false,
    "editable": false,
    "nbgrader": {
     "cell_type": "code",
     "checksum": "7bbc8073d6b49ae13709524e22e2a7a4",
     "grade": true,
     "grade_id": "cell-8dda4608d9bf0aec",
     "locked": true,
     "points": 4,
     "schema_version": 3,
     "solution": false
    }
   },
   "outputs": [
    {
     "name": "stdout",
     "output_type": "stream",
     "text": [
      "Test 1\n",
      "nest(cos, 1.0, 5) returned the correct value\n",
      "Test 1 passed!\n",
      "\n",
      "Test 2\n",
      "An attempt to iterate the function that maps x to exp(-x) 10 times with x0 = 1.0 returned the correct value\n",
      "Test 2 passed!\n",
      "\n",
      "Test 3\n",
      "An attempt to iterate the function that maps x to 4*x*(1-x) 20 times with x0 = 0.3 returned the correct value\n",
      "Test 3 passed!\n",
      "\n",
      "Test 4: the value of x20\n",
      "Your calculated value of x20 is correct\n",
      "Test 4 passed!\n",
      "\n",
      "4 marks out of 4\n"
     ]
    },
    {
     "data": {
      "text/plain": "4"
     },
     "execution_count": 53,
     "metadata": {},
     "output_type": "execute_result"
    }
   ],
   "source": [
    "# 4 Marks\n",
    "# Do not try to delete this cell\n",
    "# Run this cell for grading\n",
    "_globals = globals()\n",
    "question1f(_globals)"
   ]
  },
  {
   "cell_type": "markdown",
   "metadata": {
    "deletable": false,
    "editable": false,
    "nbgrader": {
     "cell_type": "markdown",
     "checksum": "f1049de4a0b8e0e02c611590a7589480",
     "grade": false,
     "grade_id": "cell-edc4272412831102",
     "locked": true,
     "schema_version": 3,
     "solution": false
    }
   },
   "source": [
    "## Question 2\n",
    "\n",
    "\n",
    "(a) Write and test a function called <code>hailstone_sequence</code> which takes as its arguments a starting value <code>a</code> and a number of iterations <code>n</code>, both assumed to be positive integers. It should then return, as a list, the sequence generated by iterating \"if <code>a</code> is even, halve it; otherwise, multiply it by 3 and add 1\" <code>n</code> times; the list should be of length <code>n+1</code>.\n",
    "\n",
    "(Hint: you may wish to call the function you've already written called <code>hailstone_step</code>.)"
   ]
  },
  {
   "cell_type": "code",
   "execution_count": 64,
   "metadata": {
    "deletable": false,
    "nbgrader": {
     "cell_type": "code",
     "checksum": "c1da5c53ee1c5d1e6db0a1631850b411",
     "grade": false,
     "grade_id": "cell-bf69a919a8656af0",
     "locked": false,
     "schema_version": 3,
     "solution": true
    }
   },
   "outputs": [],
   "source": [
    "def hailstone_sequence(a, n):\n",
    "    numList = []\n",
    "    while n >= 0:\n",
    "        numList.append(a)\n",
    "        a = int(a / 2) if a % 2 == 0 else int(3 * a + 1)\n",
    "\n",
    "        n = n - 1\n",
    "    return numList"
   ]
  },
  {
   "cell_type": "code",
   "execution_count": 65,
   "metadata": {
    "deletable": false,
    "editable": false,
    "nbgrader": {
     "cell_type": "code",
     "checksum": "9e8e8302b472ce361bf8597357689d28",
     "grade": true,
     "grade_id": "cell-bad32cb1372c0531",
     "locked": true,
     "points": 4,
     "schema_version": 3,
     "solution": false
    }
   },
   "outputs": [
    {
     "name": "stdout",
     "output_type": "stream",
     "text": [
      "hailstone_sequence(36, 20) returned a list\n",
      "Your function returns a sequence of ints\n",
      "hailstone_sequence(36, 20) returned a sequence of the correct length\n",
      "hailstone_sequence(36, 20) returned the correct value\n",
      "4 marks out of 4\n"
     ]
    },
    {
     "data": {
      "text/plain": "4"
     },
     "execution_count": 65,
     "metadata": {},
     "output_type": "execute_result"
    }
   ],
   "source": [
    "# 4 Marks\n",
    "# Do not try to delete this cell\n",
    "# Run this cell for grading\n",
    "_globals = globals()\n",
    "question2a(_globals)"
   ]
  },
  {
   "cell_type": "markdown",
   "metadata": {
    "deletable": false,
    "editable": false,
    "nbgrader": {
     "cell_type": "markdown",
     "checksum": "7d0794f5e7d1e4cc997a1815c3f9e83e",
     "grade": false,
     "grade_id": "cell-4478baed838d9fb4",
     "locked": true,
     "schema_version": 3,
     "solution": false
    }
   },
   "source": [
    "(b) Write and test a function called <code>fibonacci_sequence</code> which takes as its argument $n$ (which you can assume to be a positive integer) and returns a list consisting of the Fibonacci sequence up to the $n$th term. The first Fibonacci number should be treated as 1, and the second as 1, so that\n",
    "```python\n",
    "fibonacci_sequence(5)\n",
    "```\n",
    "should return\n",
    "```\n",
    "[1, 1, 2, 3, 5]\n",
    "```"
   ]
  },
  {
   "cell_type": "code",
   "execution_count": 71,
   "metadata": {
    "deletable": false,
    "nbgrader": {
     "cell_type": "code",
     "checksum": "212c96a1358cb687a03d1c38f00461a8",
     "grade": false,
     "grade_id": "cell-819fd6713dfb2bbd",
     "locked": false,
     "schema_version": 3,
     "solution": true
    }
   },
   "outputs": [],
   "source": [
    "def fibonacci_sequence(n):\n",
    "    numlist = []\n",
    "    for i in range(1, n+1):\n",
    "        numlist.append(fibonacci(i))\n",
    "    return numlist"
   ]
  },
  {
   "cell_type": "code",
   "execution_count": 72,
   "metadata": {
    "deletable": false,
    "editable": false,
    "nbgrader": {
     "cell_type": "code",
     "checksum": "55fed3ecc60079cbf2dc81c0a73367b1",
     "grade": true,
     "grade_id": "cell-3e5dee79d8ab2138",
     "locked": true,
     "points": 2,
     "schema_version": 3,
     "solution": false
    }
   },
   "outputs": [
    {
     "name": "stdout",
     "output_type": "stream",
     "text": [
      "Test 1: typical case\n",
      "fibonacci_sequence(10) returned the correct value\n",
      "Test 1 passed!\n",
      "\n",
      "Test 2: edge cases\n",
      "fibonacci_sequence(2) returned the correct value\n",
      "fibonacci_sequence(1) returned the correct value\n",
      "Test 2 passed!\n",
      "\n",
      "2 marks out of 2\n"
     ]
    },
    {
     "data": {
      "text/plain": "2"
     },
     "execution_count": 72,
     "metadata": {},
     "output_type": "execute_result"
    }
   ],
   "source": [
    "# 2 Marks\n",
    "# Do not try to delete this cell\n",
    "# Run this cell for grading\n",
    "_globals = globals()\n",
    "question2b(_globals)"
   ]
  },
  {
   "cell_type": "markdown",
   "metadata": {
    "deletable": false,
    "editable": false,
    "nbgrader": {
     "cell_type": "markdown",
     "checksum": "b369a25caddd3a2c48773fd169fc4b9e",
     "grade": false,
     "grade_id": "cell-9dae53b3539f8eda",
     "locked": true,
     "schema_version": 3,
     "solution": false
    }
   },
   "source": [
    "(c) Write a function called <code>aliquot_chain</code> which takes as its argument a starting value <code>a</code> and a number of iterations <code>n</code>, both non-negative integers. It should return a list of length <code>n+1</code>, starting with <code>a</code>, where each number in the list (starting from the second) is the sum of the factors of the previous number <em>not including that number itself</em>.\n",
    "\n",
    "Test your function: the code\n",
    "\n",
    "<code>\n",
    "aliquot_chain(24, 5)\n",
    "</code>\n",
    "\n",
    "should return the value <code>[24, 36, 55, 17, 1, 0]</code>, for example."
   ]
  },
  {
   "cell_type": "code",
   "execution_count": 80,
   "metadata": {
    "deletable": false,
    "nbgrader": {
     "cell_type": "code",
     "checksum": "8c1d36ffdfc0ff6831f6957ce075dc3f",
     "grade": false,
     "grade_id": "cell-39b4848ed884388d",
     "locked": false,
     "schema_version": 3,
     "solution": true
    }
   },
   "outputs": [],
   "source": [
    "def aliquot_chain(a, n):\n",
    "    numlist = [a]\n",
    "    for i in range (1, n+1):\n",
    "        a = factor_sum(a) - a\n",
    "        numlist.append(a)\n",
    "\n",
    "    return numlist"
   ]
  },
  {
   "cell_type": "code",
   "execution_count": 81,
   "metadata": {
    "deletable": false,
    "editable": false,
    "nbgrader": {
     "cell_type": "code",
     "checksum": "aea83aefb34aa1d44ca21349824752a6",
     "grade": true,
     "grade_id": "cell-4eaaee03a4b30bee",
     "locked": true,
     "points": 2,
     "schema_version": 3,
     "solution": false
    }
   },
   "outputs": [
    {
     "name": "stdout",
     "output_type": "stream",
     "text": [
      "Test 1: typical case\n",
      "aliquot_chain(24, 5) returned the correct value\n",
      "Test 1 passed!\n",
      "\n",
      "Test 2: edge cases\n",
      "aliquot_chain(24, 1) returned the correct value\n",
      "aliquot_chain(24, 0) returned the correct value\n",
      "aliquot_chain(1, 5) returned the correct value\n",
      "aliquot_chain(0, 5) returned the correct value\n",
      "Test 2 passed!\n",
      "\n",
      "2 marks out of 2\n"
     ]
    },
    {
     "data": {
      "text/plain": "2"
     },
     "execution_count": 81,
     "metadata": {},
     "output_type": "execute_result"
    }
   ],
   "source": [
    "# 2 Marks\n",
    "# Do not try to delete this cell\n",
    "# Run this cell for grading\n",
    "_globals = globals()\n",
    "question2c(_globals)"
   ]
  },
  {
   "cell_type": "markdown",
   "metadata": {
    "deletable": false,
    "editable": false,
    "nbgrader": {
     "cell_type": "markdown",
     "checksum": "c103bd31bddf42afaebe707ee1b12e76",
     "grade": false,
     "grade_id": "cell-d202e6ec808b6d3f",
     "locked": true,
     "schema_version": 3,
     "solution": false
    }
   },
   "source": [
    "(d) Write and test a function called <code>nest_list</code> which takes as its arguments a function <code>f</code>, a starting value <code>x0</code> and a number of iterations <code>n</code>, and returns the list\n",
    "\n",
    "<center>\n",
    "    <code>[x0, f(x0), f(f(x0)), ..., f(f(f(...f(x0)...)))],</code>\n",
    "</center>\n",
    "\n",
    "(that is, all <code>n+1</code> iterates of <code>f</code>, from the starting value <code>x0</code> to the <code>n</code>th).\n",
    "\n",
    "Use your function to calculate the terms in the sequence generated by 20 iterations of $f$, where\n",
    "\n",
    "$$f(x) = 4\\,x\\,(1-x),$$\n",
    "\n",
    "starting from $x=0.3$. Pass this to the variable <code>xlist20</code>."
   ]
  },
  {
   "cell_type": "code",
   "execution_count": 98,
   "metadata": {
    "deletable": false,
    "nbgrader": {
     "cell_type": "code",
     "checksum": "3fa7492948331e1d21c0b6e6cf986463",
     "grade": false,
     "grade_id": "cell-2ae8066aa476fbc7",
     "locked": false,
     "schema_version": 3,
     "solution": true
    }
   },
   "outputs": [],
   "source": [
    "def nest_list(f, x0, n):\n",
    "    numlist = [x0]\n",
    "    for i in range(1, n+1):\n",
    "\n",
    "        numlist.append(nest(f, x0, i))\n",
    "    return numlist\n",
    "xlist20 = nest_list(lambda x: 4*x*(1-x), 0.3, 20)\n"
   ]
  },
  {
   "cell_type": "code",
   "execution_count": 99,
   "metadata": {
    "deletable": false,
    "editable": false,
    "nbgrader": {
     "cell_type": "code",
     "checksum": "116ea8250312767ff930bebc24465a6e",
     "grade": true,
     "grade_id": "cell-6ecd8661ad6362cf",
     "locked": true,
     "points": 4,
     "schema_version": 3,
     "solution": false
    }
   },
   "outputs": [
    {
     "name": "stdout",
     "output_type": "stream",
     "text": [
      "Test 1\n",
      "nest_list(cos, 1.0, 5) returned the correct value\n",
      "Test 1 passed!\n",
      "\n",
      "Test 2\n",
      "An attempt to iterate the function that maps x to exp(-x) 10 times with x0 = 1.0 returned the correct value\n",
      "Test 2 passed!\n",
      "\n",
      "Test 3\n",
      "An attempt to iterate the function that maps x to 4*x*(1-x) 20 times with x0 = 0.3 returned the correct value\n",
      "Test 3 passed!\n",
      "\n",
      "Test 4: the value of xlist20\n",
      "Your calculated value of x20 is correct\n",
      "Test 4 passed!\n",
      "\n",
      "4 marks out of 4\n"
     ]
    },
    {
     "data": {
      "text/plain": "4"
     },
     "execution_count": 99,
     "metadata": {},
     "output_type": "execute_result"
    }
   ],
   "source": [
    "# 4 Marks\n",
    "# Do not try to delete this cell\n",
    "# Run this cell for grading\n",
    "_globals = globals()\n",
    "question2d(_globals)"
   ]
  },
  {
   "cell_type": "markdown",
   "metadata": {
    "deletable": false,
    "editable": false,
    "nbgrader": {
     "cell_type": "markdown",
     "checksum": "b27848a541667178444fdca39a0f23df",
     "grade": false,
     "grade_id": "cell-c8fcc88aff37f938",
     "locked": true,
     "schema_version": 3,
     "solution": false,
     "task": false
    }
   },
   "source": [
    "(e) Write a function called `duffing_iterates` which takes as its arguments two parameters `a` and `b`, two starting values `x0` and `y0`, and a number of iterations `n`, and returns a 2-tuple containing the lists `[x0, x1, x2, ..., xn]` and `[y0, y1, y2, ..., yn]` generated by the Duffing map\n",
    "$$x_{n+1}=y_n,$$\n",
    "$$y_{n+1}=-b\\,x_n+a\\,y_n-{y_n}^3.$$\n",
    "\n",
    "Check your function; check in particular that it is capable of assigning values to two variables simultaneously.\n",
    "\n",
    "Use the `plot` function to generate a 2D point plot of the iterates in the case $a=2.75$, $b=0.2$, $x_0=y_0=0.5$ and $n=100000$."
   ]
  },
  {
   "cell_type": "code",
   "execution_count": 116,
   "metadata": {
    "deletable": false,
    "nbgrader": {
     "cell_type": "code",
     "checksum": "168f8319346dbc03136595dbf3028dc2",
     "grade": false,
     "grade_id": "cell-5fa7ae48378128a4",
     "locked": false,
     "schema_version": 3,
     "solution": true,
     "task": false
    }
   },
   "outputs": [],
   "source": [
    "def duffing_iterates(a, b, x0, y0, n):\n",
    "    xlist = [x0]\n",
    "    ylist = [y0]\n",
    "    for i in range(0, n):\n",
    "        tmp = x0\n",
    "        x0 = y0\n",
    "        y0 = -b*tmp+a*y0 - y0**3\n",
    "        xlist.append(x0)\n",
    "        ylist.append(y0)\n",
    "    plt.plot(xlist,ylist)\n",
    "\n",
    "    return  (xlist, ylist)\n"
   ]
  },
  {
   "cell_type": "code",
   "execution_count": 117,
   "metadata": {
    "deletable": false,
    "editable": false,
    "nbgrader": {
     "cell_type": "code",
     "checksum": "a72376e78e639e4dfba91c5e13c203c4",
     "grade": true,
     "grade_id": "cell-5ce51157eb9854dc",
     "locked": true,
     "points": 4,
     "schema_version": 3,
     "solution": false,
     "task": false
    }
   },
   "outputs": [
    {
     "name": "stdout",
     "output_type": "stream",
     "text": [
      "Test 1\n",
      "Your function returns a tuple\n",
      "\n",
      "Test 2\n",
      "The elements of your tuple are lists.\n",
      "\n",
      "Test 3\n",
      "Your function seems to return the correct numbers.\n",
      "\n",
      "Test 4\n",
      "Your function successfully assigns values to two variables at the same time.\n",
      "\n",
      "4 marks out of 4\n"
     ]
    },
    {
     "data": {
      "text/plain": "4"
     },
     "execution_count": 117,
     "metadata": {},
     "output_type": "execute_result"
    },
    {
     "data": {
      "text/plain": "<Figure size 640x480 with 1 Axes>",
      "image/png": "[encoded data removed]"
     },
     "metadata": {},
     "output_type": "display_data"
    }
   ],
   "source": [
    "# 4 Marks\n",
    "# Do not try to delete this cell\n",
    "# Run this cell for grading\n",
    "_globals = globals()\n",
    "question2e(_globals)"
   ]
  },
  {
   "cell_type": "markdown",
   "metadata": {
    "deletable": false,
    "editable": false,
    "nbgrader": {
     "cell_type": "markdown",
     "checksum": "db84469aa50edd3af5365deb79b516f0",
     "grade": false,
     "grade_id": "cell-6145c37fd5327ecc",
     "locked": true,
     "schema_version": 3,
     "solution": false
    }
   },
   "source": [
    "## Question 3\n",
    "\n",
    "(a) Write and test a version of your hailstone sequence function, called <code>hailstone_sequence2</code>, which takes only the argument <code>a</code> and which terminates not after a set number of iterations but when the sequence hits the value 1. (You probably want to use a <code>while</code> loop.)"
   ]
  },
  {
   "cell_type": "code",
   "execution_count": 125,
   "metadata": {
    "deletable": false,
    "nbgrader": {
     "cell_type": "code",
     "checksum": "b761b7da7ae86cd4f33a1acabb198f03",
     "grade": false,
     "grade_id": "cell-48e58cfbd11e3e3b",
     "locked": false,
     "schema_version": 3,
     "solution": true
    }
   },
   "outputs": [],
   "source": [
    "def hailstone_sequence2(a):\n",
    "    numlist = [a]\n",
    "    while (a != 1):\n",
    "\n",
    "        a = int(a / 2) if a % 2 == 0 else int(3*a+1)\n",
    "        numlist.append(a)\n",
    "    return numlist"
   ]
  },
  {
   "cell_type": "code",
   "execution_count": 126,
   "metadata": {
    "deletable": false,
    "editable": false,
    "nbgrader": {
     "cell_type": "code",
     "checksum": "841925c683d551a1188d5a0679ec4771",
     "grade": true,
     "grade_id": "cell-1c2b062449dc979c",
     "locked": true,
     "points": 5,
     "schema_version": 3,
     "solution": false
    }
   },
   "outputs": [
    {
     "name": "stdout",
     "output_type": "stream",
     "text": [
      "hailstone_sequence2(30) returned a list\n",
      "Your function returns a sequence of ints\n",
      "hailstone_sequence2(36, 20) returned a sequence terminating in 1\n",
      "hailstone_sequence2(36) returned the correct value\n",
      "hailstone_sequence2(1) returned the correct value\n",
      "5 marks out of 5\n"
     ]
    },
    {
     "data": {
      "text/plain": "5"
     },
     "execution_count": 126,
     "metadata": {},
     "output_type": "execute_result"
    }
   ],
   "source": [
    "# 5 Marks\n",
    "# Do not try to delete this cell\n",
    "# Run this cell for grading\n",
    "_globals = globals()\n",
    "question3a(_globals)"
   ]
  },
  {
   "cell_type": "markdown",
   "metadata": {
    "deletable": false,
    "editable": false,
    "nbgrader": {
     "cell_type": "markdown",
     "checksum": "7a7061d00bdf91031b0e5b5c7b730904",
     "grade": false,
     "grade_id": "cell-068371e7bafb1c65",
     "locked": true,
     "schema_version": 3,
     "solution": false
    }
   },
   "source": [
    "(b) Write a version of your aliquot chain function, called <code>aliquot_chain2</code>, which takes only the argument <code>a</code> and which terminates not after a set number of iterations but when the sequence encounters a value it has encountered before. \n",
    "\n",
    "Test your function: <code>aliquot_chain2(24)</code> should return <code>[24, 36, 55, 17, 1, 0, 0]</code>, whereas <code>aliquot_chain2(28)</code> should return <code>[28, 28]</code>, and <code>aliquot_chain2(220)</code> should return <code>[220, 284, 220]</code>."
   ]
  },
  {
   "cell_type": "code",
   "execution_count": 147,
   "metadata": {
    "deletable": false,
    "nbgrader": {
     "cell_type": "code",
     "checksum": "880f6cacc7f4e23fe1a95878c7fbbdd8",
     "grade": false,
     "grade_id": "cell-1b189024c6e59d88",
     "locked": false,
     "schema_version": 3,
     "solution": true
    }
   },
   "outputs": [],
   "source": [
    "def aliquot_chain2(a):\n",
    "    listnum = [a]\n",
    "    while factor_sum(a) - a not in listnum:\n",
    "        a = int(factor_sum(a) - a)\n",
    "        listnum.append(a)\n",
    "    listnum.append(factor_sum(a) - a)\n",
    "\n",
    "    return listnum\n"
   ]
  },
  {
   "cell_type": "code",
   "execution_count": 146,
   "metadata": {
    "deletable": false,
    "editable": false,
    "nbgrader": {
     "cell_type": "code",
     "checksum": "e5cd75803dad2b5eea30bc6086800526",
     "grade": true,
     "grade_id": "cell-425a664ab09929e4",
     "locked": true,
     "points": 5,
     "schema_version": 3,
     "solution": false
    }
   },
   "outputs": [
    {
     "name": "stdout",
     "output_type": "stream",
     "text": [
      "[120, 240, 504, 1056, 1968, 3240, 7650, 14112, 32571, 27333, 12161, 1, 0, 0]\n",
      "aliquot_chain2(120) returned the correct value\n",
      "[496, 496.0]\n",
      "aliquot_chain2(496) returned the correct value\n",
      "[1184, 1210, 1184.0]\n",
      "aliquot_chain2(1184) returned the correct value\n",
      "[1264460, 1547860, 1727636, 1305184, 1264460.0]\n",
      "aliquot_chain2(1264460) returned the correct value\n",
      "[0, 0]\n",
      "aliquot_chain2(0) returned the correct value\n",
      "5 marks out of 5\n"
     ]
    },
    {
     "data": {
      "text/plain": "5"
     },
     "execution_count": 146,
     "metadata": {},
     "output_type": "execute_result"
    }
   ],
   "source": [
    "# 5 Marks\n",
    "# Do not try to delete this cell\n",
    "# Run this cell for grading\n",
    "_globals = globals()\n",
    "question3b(_globals)"
   ]
  },
  {
   "cell_type": "markdown",
   "metadata": {
    "deletable": false,
    "editable": false,
    "nbgrader": {
     "cell_type": "markdown",
     "checksum": "5aba2983463bf49c9a180a6a5c903210",
     "grade": false,
     "grade_id": "cell-c22ee7170f96b520",
     "locked": true,
     "schema_version": 3,
     "solution": false
    }
   },
   "source": [
    "(c) Write and test a function called <code>fixed_point_list</code>, which takes as its input a function <code>f</code>, an initial value <code>x0</code> and a <code>tolerance</code>, and returns a list consisting of \n",
    "\n",
    "<code>[x0, f(x0), f(f(x0)), ...]</code>, \n",
    "\n",
    "which terminates when successive iterates are within <code>tolerance</code> of one another. (Make sure you test it only on iterations that you know converge; later, we'll look at how to build in safeguards to prevent infinite loops when an iteration fails to converge.)"
   ]
  },
  {
   "cell_type": "code",
   "execution_count": 160,
   "metadata": {
    "deletable": false,
    "nbgrader": {
     "cell_type": "code",
     "checksum": "d3419ac04bbd113b2b1144b7b0559205",
     "grade": false,
     "grade_id": "cell-70aad741029c978d",
     "locked": false,
     "schema_version": 3,
     "solution": true
    }
   },
   "outputs": [],
   "source": [
    "def fixed_point_list(f, x0, tolerance):\n",
    "    numlist = [x0, f(x0)]\n",
    "\n",
    "    while abs(numlist[-1]-numlist[-2]) >= tolerance:\n",
    "        x0 = f(x0)\n",
    "        numlist.append(f(x0))\n",
    "\n",
    "    return numlist"
   ]
  },
  {
   "cell_type": "code",
   "execution_count": 161,
   "metadata": {
    "deletable": false,
    "editable": false,
    "nbgrader": {
     "cell_type": "code",
     "checksum": "b5fc6647c46a19ba843e6eb8515ae533",
     "grade": true,
     "grade_id": "cell-753024b1ab5e656d",
     "locked": true,
     "points": 3,
     "schema_version": 3,
     "solution": false
    }
   },
   "outputs": [
    {
     "name": "stdout",
     "output_type": "stream",
     "text": [
      "Test 1\n",
      "nest_list(cos, 1.0, 1e-5) returned the correct value\n",
      "Test 1 passed!\n",
      "\n",
      "Test 2\n",
      "An attempt to iterate the function that maps x to exp(-x) with x0 = 1.0 and a tolerance of 1e-5 returned the correct value\n",
      "Test 2 passed!\n",
      "\n",
      "Test 3\n",
      "An attempt to iterate the function that maps x to (x+2.0)/(x+1.0) with x0 = 1.0 and a tolerance of 1e-6 returned the correct value\n",
      "Test 3 passed!\n",
      "\n",
      "3 marks out of 3\n"
     ]
    },
    {
     "data": {
      "text/plain": "3"
     },
     "execution_count": 161,
     "metadata": {},
     "output_type": "execute_result"
    }
   ],
   "source": [
    "# 3 Marks\n",
    "# Do not try to delete this cell\n",
    "# Run this cell for grading\n",
    "_globals = globals()\n",
    "question3c(_globals)"
   ]
  },
  {
   "cell_type": "markdown",
   "metadata": {
    "deletable": false,
    "editable": false,
    "nbgrader": {
     "cell_type": "markdown",
     "checksum": "dcded80c7be2cc24bb6989fff67c7f28",
     "grade": false,
     "grade_id": "cell-12e2c746793b6e22",
     "locked": true,
     "schema_version": 3,
     "solution": false,
     "task": false
    }
   },
   "source": [
    "(d) Write and test a function called <code>binary_digits</code>, which takes as its input a non-negative int $a$, and returns its binary digits as a list of ones and zeros. The list should begin with the first non-zero digit, unless $a=0$ in which case the list should contain a single zero."
   ]
  },
  {
   "cell_type": "code",
   "execution_count": 196,
   "metadata": {
    "deletable": false,
    "nbgrader": {
     "cell_type": "code",
     "checksum": "1ecc970cac455fbb2126e444648d1e24",
     "grade": false,
     "grade_id": "cell-a11a1e7e8036b571",
     "locked": false,
     "schema_version": 3,
     "solution": true,
     "task": false
    }
   },
   "outputs": [],
   "source": [
    "def binary_digits(a):\n",
    "    numlist = []\n",
    "    n = 0\n",
    "    while int(a / 2 ** n) > 1:\n",
    "            n = n + 1\n",
    "    while n >= 0:\n",
    "\n",
    "\n",
    "        if a >= 2 ** n:\n",
    "            a = a - 2 ** n\n",
    "            numlist.append(1)\n",
    "        else: numlist.append(0)\n",
    "\n",
    "        n = n - 1\n",
    "\n",
    "\n",
    "    return numlist"
   ]
  },
  {
   "cell_type": "code",
   "execution_count": 197,
   "metadata": {
    "deletable": false,
    "editable": false,
    "nbgrader": {
     "cell_type": "code",
     "checksum": "12d743c155d3fffd57957177a83b4d64",
     "grade": true,
     "grade_id": "cell-c6c0d9e08319602c",
     "locked": true,
     "points": 3,
     "schema_version": 3,
     "solution": false,
     "task": false
    }
   },
   "outputs": [
    {
     "name": "stdout",
     "output_type": "stream",
     "text": [
      "Test 1: a is a power of 2\n",
      "\n",
      "binary_digits(2**15) returned the correct list of digits\n",
      "The digits are in the correct order\n",
      "\n",
      "Test 2: a is not a power of 2\n",
      "\n",
      "binary_digits(14827) returned the correct list of digits\n",
      "The digits are in the correct order\n",
      "\n",
      "Test 3: edge cases\n",
      "\n",
      "binary_digits(1) returned the correct list of digits\n",
      "binary_digits(0) returned the correct list of digits\n",
      "\n",
      "3 marks out of 3\n"
     ]
    },
    {
     "data": {
      "text/plain": "3"
     },
     "execution_count": 197,
     "metadata": {},
     "output_type": "execute_result"
    }
   ],
   "source": [
    "# 3 Marks\n",
    "# Do not try to delete this cell\n",
    "# Run this cell for grading\n",
    "_globals = globals()\n",
    "question3d(_globals)"
   ]
  },
  {
   "cell_type": "markdown",
   "metadata": {
    "deletable": false,
    "editable": false,
    "nbgrader": {
     "cell_type": "markdown",
     "checksum": "8f04272974528c1156254c99cc76e047",
     "grade": false,
     "grade_id": "cell-447ff5d339d8bda8",
     "locked": true,
     "schema_version": 3,
     "solution": false,
     "task": false
    }
   },
   "source": [
    "(e) Write and test a function called <code>binary_digits_float</code>, which takes as its input a non-negative float $a$, and a non-negative int $n$, and returns its binary digits as two lists of ones and zeros. The first list should consist of the binary expansion of the integer part of $a$, and the second should consist of the binary expansion of its fractional part to $n$ (binary) places (just truncate this list; don't bother with rounding). "
   ]
  },
  {
   "cell_type": "code",
   "execution_count": 199,
   "metadata": {
    "deletable": false,
    "nbgrader": {
     "cell_type": "code",
     "checksum": "3827f41b733eff46995bdb7998cf3a6c",
     "grade": false,
     "grade_id": "cell-9dc8503d972edd83",
     "locked": false,
     "schema_version": 3,
     "solution": true,
     "task": false
    }
   },
   "outputs": [],
   "source": [
    "def binary_digits_float(a, n):\n",
    "    intger_list = []\n",
    "    decimal_list = []\n",
    "    d = a - int(a)\n",
    "    intger_list = binary_digits(int(a))\n",
    "    for i in range(n):\n",
    "        d = 2 * d\n",
    "        decimal_list.append(int(d))\n",
    "        d = d if d < 1 else d - 1\n",
    "\n",
    "\n",
    "    return [intger_list, decimal_list]"
   ]
  },
  {
   "cell_type": "code",
   "execution_count": 200,
   "metadata": {
    "deletable": false,
    "editable": false,
    "nbgrader": {
     "cell_type": "code",
     "checksum": "e478b9bb53e68b5bcad18cb1906546d8",
     "grade": true,
     "grade_id": "cell-51cbb375d8c2f076",
     "locked": true,
     "points": 4,
     "schema_version": 3,
     "solution": false,
     "task": false
    }
   },
   "outputs": [
    {
     "name": "stdout",
     "output_type": "stream",
     "text": [
      "Test 1: typical case\n",
      "\n",
      "binary_digits_float(12.8191,10) returned the correct list of digits for the integer part\n",
      "binary_digits_float(12.8191,10) returned the correct list of digits for the fractional part\n",
      "\n",
      "Tests 2: fractional part begins with zeros\n",
      "\n",
      "binary_digits_float(12.2191,10) returned the correct list of digits for the fractional part,\n",
      "including the two leading zeros\n",
      "\n",
      "Test 3: integer part is zero\n",
      "\n",
      "binary_digits_float(0.8191,10) returned the correct list of digits for the integer part\n",
      "binary_digits_float(0.8191,10) returned the correct list of digits for the fractional part\n",
      "\n",
      "Test 4: fractional part is zero\n",
      "\n",
      "binary_digits_float(12.0,10) returned the correct list of digits for the integer part\n",
      "binary_digits_float(12.0,10) returned the correct list of digits for the fractional part\n",
      "\n",
      "4 marks out of 4\n"
     ]
    },
    {
     "data": {
      "text/plain": "4"
     },
     "execution_count": 200,
     "metadata": {},
     "output_type": "execute_result"
    }
   ],
   "source": [
    "# 4 Marks\n",
    "# Do not try to delete this cell\n",
    "# Run this cell for grading\n",
    "_globals = globals()\n",
    "question3e(_globals)"
   ]
  },
  {
   "cell_type": "markdown",
   "metadata": {
    "deletable": false,
    "editable": false,
    "nbgrader": {
     "cell_type": "markdown",
     "checksum": "1edff7931b5c6e26945f252a71bd7ea9",
     "grade": false,
     "grade_id": "cell-4f443f25c507d7b6",
     "locked": true,
     "schema_version": 3,
     "solution": false
    }
   },
   "source": [
    "## Question 4\n",
    "\n",
    "The method of calculating the primes by successive filtering is called the <b>sieve of Eratosthenes</b>; Earlier, you explored an implementation of this based on <em>conditional comprehensions</em>. You started with the integers between 2 and 400 inclusive; you then removed all the multiples of 2 except 2 itself; then all the multiples of 3 except 3 itself; then all the multiples of 5 except 5 itself; and so on, using primes each time.\n",
    "\n",
    "Write and test a function called <code>my_primes</code> that takes as its argument a single <code>n</code>, which you can assume to be an integer greater than 1, and, using the sieve of Eratosthenes, returns a list of all the primes between 2 and <code>n</code> inclusive. Make your function reasonably efficient; don't put in lots of unnecessary iterations."
   ]
  },
  {
   "cell_type": "markdown",
   "source": [],
   "metadata": {
    "collapsed": false
   }
  },
  {
   "cell_type": "code",
   "execution_count": 205,
   "metadata": {
    "deletable": false,
    "nbgrader": {
     "cell_type": "code",
     "checksum": "e9438d56d66d74545c95c38207684b3d",
     "grade": false,
     "grade_id": "cell-09d7c2ad10004e0e",
     "locked": false,
     "schema_version": 3,
     "solution": true
    }
   },
   "outputs": [],
   "source": [
    "def my_primes(n):\n",
    "    return [i for i in range(2, n+1) if len([k for k in range(2, i) if i % k == 0]) == 0]"
   ]
  },
  {
   "cell_type": "code",
   "execution_count": 206,
   "metadata": {
    "deletable": false,
    "editable": false,
    "nbgrader": {
     "cell_type": "code",
     "checksum": "466ae643f0961220b4941e9ec52f346f",
     "grade": true,
     "grade_id": "cell-c749e7603ceb65e9",
     "locked": true,
     "points": 5,
     "schema_version": 3,
     "solution": false
    }
   },
   "outputs": [
    {
     "name": "stdout",
     "output_type": "stream",
     "text": [
      "Test 1: n composite, non-square\n",
      "my_primes(98) returned the correct value\n",
      "Test 1 passed!\n",
      "\n",
      "Test 2: n prime\n",
      "my_primes(97) returned the correct value\n",
      "Test 2 passed!\n",
      "\n",
      "Test 3: n the square of a composite number\n",
      "my_primes(100) returned the correct value\n",
      "Test 3 passed!\n",
      "\n",
      "Test 4: n the square of a prime\n",
      "my_primes(121) returned the correct value\n",
      "Test 4 passed!\n",
      "\n",
      "Test 5: edge case\n",
      "my_primes(2) returned the correct value\n",
      "Test 5 passed!\n",
      "\n",
      "5 marks out of 5\n"
     ]
    },
    {
     "data": {
      "text/plain": "5"
     },
     "execution_count": 206,
     "metadata": {},
     "output_type": "execute_result"
    }
   ],
   "source": [
    "# 5 Marks\n",
    "# Do not try to delete this cell\n",
    "# Run this cell for grading\n",
    "_globals = globals()\n",
    "question4(_globals)"
   ]
  },
  {
   "cell_type": "markdown",
   "metadata": {
    "deletable": false,
    "editable": false,
    "nbgrader": {
     "cell_type": "markdown",
     "checksum": "47d00a7d6464f8c74707a458971fadbb",
     "grade": false,
     "grade_id": "cell-24b4d32bb87be3a0",
     "locked": true,
     "schema_version": 3,
     "solution": false,
     "task": false
    }
   },
   "source": [
    "## Bonus Questions\n",
    "\n",
    "### Question 1\n",
    "\n",
    "Write a function, `symCheck`, that takes as input a matrix, expressed as a list of lists, and determines whether or not the matrix is symmetric. The function should return the strings `not symmetric` or `symmetric`. You may not use any obvious builtin function."
   ]
  },
  {
   "cell_type": "code",
   "execution_count": 1,
   "metadata": {
    "deletable": false,
    "nbgrader": {
     "cell_type": "code",
     "checksum": "3fd77be4e2a2eea0082a07bbdc76d4a6",
     "grade": false,
     "grade_id": "cell-f3f2aefc41f2911d",
     "locked": false,
     "schema_version": 3,
     "solution": true,
     "task": false
    }
   },
   "outputs": [],
   "source": [
    "# Question 1\n",
    "def symCheck(A):\n",
    "    if len(A[0]) != len(A):\n",
    "        return 'not symmetric'\n",
    "    for row in range(len(A)):\n",
    "        for col in range(len(A)):\n",
    "            if A[row][col] != A[col][row]:\n",
    "                return 'not symmetric'\n",
    "    return 'symmetric'"
   ]
  },
  {
   "cell_type": "code",
   "execution_count": 2,
   "metadata": {
    "deletable": false,
    "editable": false,
    "nbgrader": {
     "cell_type": "code",
     "checksum": "712578770a8794e804920bb18cb3802e",
     "grade": true,
     "grade_id": "cell-0ac2746c8242a091",
     "locked": true,
     "points": 1,
     "schema_version": 3,
     "solution": false,
     "task": false
    }
   },
   "outputs": [
    {
     "name": "stdout",
     "output_type": "stream",
     "text": [
      "Test case passed!!!\n"
     ]
    }
   ],
   "source": [
    "# Run this test cell to check your code\n",
    "# Do not delete this cell\n",
    "# 1 mark\n",
    "# Unit test\n",
    "A = [[1, 2, 3], [2, 1, 3]]\n",
    "assert(symCheck(A) == 'not symmetric')\n",
    "print('Test case passed!!!')"
   ]
  },
  {
   "cell_type": "code",
   "execution_count": 3,
   "metadata": {
    "deletable": false,
    "editable": false,
    "nbgrader": {
     "cell_type": "code",
     "checksum": "a531b5af229718e90470d91a4e58131a",
     "grade": true,
     "grade_id": "cell-af2c44662743c74d",
     "locked": true,
     "points": 1,
     "schema_version": 3,
     "solution": false,
     "task": false
    }
   },
   "outputs": [
    {
     "name": "stdout",
     "output_type": "stream",
     "text": [
      "Test case passed!!!\n"
     ]
    }
   ],
   "source": [
    "# Run this test cell to check your code\n",
    "# Do not delete this cell\n",
    "# 1 mark\n",
    "# Unit test\n",
    "A = [[1, 2, 3], [2, 1, 3], [2, 1, 3]]\n",
    "assert(symCheck(A) == 'not symmetric')\n",
    "print('Test case passed!!!')"
   ]
  },
  {
   "cell_type": "code",
   "execution_count": 4,
   "metadata": {
    "deletable": false,
    "editable": false,
    "nbgrader": {
     "cell_type": "code",
     "checksum": "38b7db735660336c614b53efdf43f783",
     "grade": true,
     "grade_id": "cell-35974a0e424c744f",
     "locked": true,
     "points": 1,
     "schema_version": 3,
     "solution": false,
     "task": false
    }
   },
   "outputs": [
    {
     "name": "stdout",
     "output_type": "stream",
     "text": [
      "Test case passed!!!\n"
     ]
    }
   ],
   "source": [
    "# Run this test cell to check your code\n",
    "# Do not delete this cell\n",
    "# 1 mark\n",
    "# Unit test\n",
    "A = [[1, 2, 3], [2, 1, 3], [3, 3, 3]]\n",
    "assert(symCheck(A) == 'symmetric')\n",
    "print('Test case passed!!!')"
   ]
  },
  {
   "cell_type": "code",
   "execution_count": 5,
   "metadata": {
    "deletable": false,
    "editable": false,
    "nbgrader": {
     "cell_type": "code",
     "checksum": "ce6b8b93ae8c21e8bfa231c0d1a196ab",
     "grade": true,
     "grade_id": "cell-3c74338d7cde78dc",
     "locked": true,
     "points": 1,
     "schema_version": 3,
     "solution": false,
     "task": false
    }
   },
   "outputs": [],
   "source": [
    "# Hidden test\n",
    "# No output will be produced\n",
    "# 1 mark"
   ]
  },
  {
   "cell_type": "code",
   "execution_count": 6,
   "metadata": {
    "deletable": false,
    "editable": false,
    "nbgrader": {
     "cell_type": "code",
     "checksum": "2680b5d0f53a21a363b8ee991ecb8bb2",
     "grade": true,
     "grade_id": "cell-6a3ea90ee9b77c8a",
     "locked": true,
     "points": 1,
     "schema_version": 3,
     "solution": false,
     "task": false
    }
   },
   "outputs": [],
   "source": [
    "# Hidden test\n",
    "# No output will be produced\n",
    "# 1 mark"
   ]
  },
  {
   "cell_type": "markdown",
   "metadata": {
    "deletable": false,
    "editable": false,
    "nbgrader": {
     "cell_type": "markdown",
     "checksum": "2b6a0f96ed9fecf32aef5ef06d81bc9f",
     "grade": false,
     "grade_id": "cell-e892cc5bc7b97e16",
     "locked": true,
     "schema_version": 3,
     "solution": false,
     "task": false
    }
   },
   "source": [
    "### Question 2\n",
    "\n",
    "Write a function that takes in two arrays and finds the number of integers that satisfy the following conditions:\n",
    "\n",
    "* All elements of the first array are factors of the integer under consideration.\n",
    "* The integer under consideration is a factor of all the elements in the second array.\n",
    "    \n",
    "For example, if $a = [2, 6]$ and $b = [24, 36]$, there are 2 numbers between them which satisfy the above, namely 6 and 12. To check, consider the first value 6: 6 % 2 = 0, 6 % 6 = 0, as well as 24 % 6 = 0 and 36 % 6 = 0. Similarly, 12 % 2 = 0, 12 % 6 = 0,  24 % 12 = 0 and 36 % 12 = 0.\n",
    "\n",
    "You may use the `math` function `gcd`, which calculates greatest common divisors."
   ]
  },
  {
   "cell_type": "code",
   "execution_count": 8,
   "metadata": {
    "deletable": false,
    "nbgrader": {
     "cell_type": "code",
     "checksum": "74a94fa4855a1131aad0265502833ccd",
     "grade": false,
     "grade_id": "cell-c1ca2727aaac882f",
     "locked": false,
     "schema_version": 3,
     "solution": true,
     "task": false
    }
   },
   "outputs": [],
   "source": [
    "def setDiff(a, b):\n",
    "    # YOUR CODE HERE\n",
    "\n",
    "    '''Paste from the official solution (I don't wanna do this sh*t'''\n",
    "    from functools import reduce\n",
    "    from math import gcd\n",
    "    counter = 0\n",
    "    lcmNum = reduce(lcm, a)\n",
    "    gcdNum = reduce(gcd, b)\n",
    "    mults  = lcmNum\n",
    "    while mults <= gcdNum:\n",
    "        print(gcdNum, mults, gcdNum % mults)\n",
    "        if gcdNum % mults == 0:\n",
    "            counter += 1\n",
    "        mults += lcmNum\n",
    "    return counter\n",
    "\n",
    "def lcm(a, b):\n",
    "    from math import gcd\n",
    "    return a * b // gcd(a, b)"
   ]
  },
  {
   "cell_type": "code",
   "execution_count": 9,
   "metadata": {
    "deletable": false,
    "editable": false,
    "nbgrader": {
     "cell_type": "code",
     "checksum": "2e379c5e78c9a0021392158246595fd5",
     "grade": true,
     "grade_id": "cell-aca1bbc826cd86df",
     "locked": true,
     "points": 2,
     "schema_version": 3,
     "solution": false,
     "task": false
    }
   },
   "outputs": [
    {
     "ename": "NameError",
     "evalue": "name 'bonus_q2' is not defined",
     "output_type": "error",
     "traceback": [
      "\u001B[1;31m---------------------------------------------------------------------------\u001B[0m",
      "\u001B[1;31mNameError\u001B[0m                                 Traceback (most recent call last)",
      "Cell \u001B[1;32mIn[9], line 5\u001B[0m\n\u001B[0;32m      1\u001B[0m \u001B[38;5;66;03m# Run this test cell to check your code\u001B[39;00m\n\u001B[0;32m      2\u001B[0m \u001B[38;5;66;03m# Do not delete this cell\u001B[39;00m\n\u001B[0;32m      3\u001B[0m \u001B[38;5;66;03m# 2 marks\u001B[39;00m\n\u001B[0;32m      4\u001B[0m \u001B[38;5;66;03m# Unit test\u001B[39;00m\n\u001B[1;32m----> 5\u001B[0m \u001B[43mbonus_q2\u001B[49m(_globals)\n",
      "\u001B[1;31mNameError\u001B[0m: name 'bonus_q2' is not defined"
     ]
    }
   ],
   "source": [
    "# Run this test cell to check your code\n",
    "# Do not delete this cell\n",
    "# 2 marks\n",
    "# Unit test\n",
    "bonus_q2(_globals)"
   ]
  },
  {
   "cell_type": "code",
   "execution_count": null,
   "metadata": {
    "deletable": false,
    "editable": false,
    "nbgrader": {
     "cell_type": "code",
     "checksum": "b352194a4e191249a97bc5cbe847cd2a",
     "grade": true,
     "grade_id": "cell-bb1274933762d2a4",
     "locked": true,
     "points": 1,
     "schema_version": 3,
     "solution": false,
     "task": false
    }
   },
   "outputs": [],
   "source": [
    "# Hidden test\n",
    "# No output will be produced\n",
    "# 1 mark"
   ]
  },
  {
   "cell_type": "code",
   "execution_count": null,
   "metadata": {
    "deletable": false,
    "editable": false,
    "nbgrader": {
     "cell_type": "code",
     "checksum": "75b691b193b09127f775b1bfebb57a2f",
     "grade": true,
     "grade_id": "cell-9f27c0f689941e99",
     "locked": true,
     "points": 1,
     "schema_version": 3,
     "solution": false,
     "task": false
    }
   },
   "outputs": [],
   "source": [
    "# Hidden test\n",
    "# No output will be produced\n",
    "# 1 mark"
   ]
  },
  {
   "cell_type": "code",
   "execution_count": null,
   "metadata": {},
   "outputs": [],
   "source": []
  }
 ],
 "metadata": {
  "kernelspec": {
   "display_name": "Python 3 (ipykernel)",
   "language": "python",
   "name": "python3"
  },
  "language_info": {
   "codemirror_mode": {
    "name": "ipython",
    "version": 3
   },
   "file_extension": ".py",
   "mimetype": "text/x-python",
   "name": "python",
   "nbconvert_exporter": "python",
   "pygments_lexer": "ipython3",
   "version": "3.10.12"
  }
 },
 "nbformat": 4,
 "nbformat_minor": 4
}
