{
 "cells": [
  {
   "cell_type": "code",
   "execution_count": 1,
   "metadata": {},
   "outputs": [
    {
     "name": "stdout",
     "output_type": "stream",
     "text": [
      "Autograder loaded successfully!\n",
      "Remember to always restart and run all from the Kernel menu before submitting!\n"
     ]
    }
   ],
   "source": [
    "from autograder_term1week9 import *\n",
    "_globals = globals()\n",
    "import matplotlib.pyplot as plt\n",
    "%matplotlib inline"
   ]
  },
  {
   "cell_type": "markdown",
   "metadata": {
    "nbgrader": {
     "grade": false,
     "grade_id": "cell-73ddc92749155a5d",
     "locked": true,
     "schema_version": 3,
     "solution": false
    }
   },
   "source": [
    "# <center> Introduction to Mathematical Computing </center>\n",
    "### <center>Phil Ramsden, Matt Woolway, Boumediene Hamzi</center>\n",
    "\n",
    "# <center> Worksheet 5: Functions</center>\n",
    "\n",
    "**NOTE:** When answering a question, remember to remove the `raise NotImplementedError()` line.\n",
    "\n",
    "Don't forget: online Python documentation is at <a href='https://docs.python.org'>docs.python.org</a> and <a href='https://www.w3schools.com/python/'>www.w3schools.com/python/</a>."
   ]
  },
  {
   "cell_type": "markdown",
   "metadata": {
    "nbgrader": {
     "grade": false,
     "grade_id": "cell-3f3d188d2675a1f6",
     "locked": true,
     "schema_version": 3,
     "solution": false,
     "task": false
    }
   },
   "source": [
    "## Question 0: don't miss this bit!\n",
    "\n",
    "In the file called `my_username.txt`, type your <b>short-form College user name</b> (this will usually be one or more letters followed by three or more figures, such as qk4019). Don't use quote marks. Then save the file."
   ]
  },
  {
   "cell_type": "code",
   "execution_count": null,
   "metadata": {
    "nbgrader": {
     "grade": true,
     "grade_id": "cell-46aa21238875aab2",
     "locked": true,
     "points": 5,
     "schema_version": 3,
     "solution": false,
     "task": false
    }
   },
   "outputs": [],
   "source": [
    "# 5 Marks\n",
    "# Do not try to delete this cell\n",
    "# Run this cell for grading of Question 0\n",
    "_globals = globals()\n",
    "question0(_globals)"
   ]
  },
  {
   "cell_type": "markdown",
   "metadata": {
    "nbgrader": {
     "grade": false,
     "grade_id": "cell-0199190a00f56949",
     "locked": true,
     "schema_version": 3,
     "solution": false
    }
   },
   "source": [
    "## Question 1\n",
    "\n",
    "(a) Write and test a function called `xsqdplusone` that takes one argument $x$ (which you can assume to be numerical) and returns the value of $x^2 + 1$. Your function should return a number of the same type as $x$."
   ]
  },
  {
   "cell_type": "code",
   "execution_count": null,
   "metadata": {
    "nbgrader": {
     "grade": false,
     "grade_id": "cell-b00091df7b05694f",
     "locked": false,
     "schema_version": 3,
     "solution": true
    }
   },
   "outputs": [],
   "source": [
    "def xsqdplusone(x):\n",
    "    ### BEGIN SOLUTION\n",
    "    return x**2 + 1\n",
    "    ### END SOLUTION"
   ]
  },
  {
   "cell_type": "code",
   "execution_count": null,
   "metadata": {
    "nbgrader": {
     "grade": true,
     "grade_id": "cell-35116d17e85ec49c",
     "locked": true,
     "points": 0,
     "schema_version": 3,
     "solution": false,
     "task": false
    }
   },
   "outputs": [],
   "source": [
    "# Run this test cell to check your code\n",
    "# Unit test\n",
    "# 0 Marks\n",
    "assert(xsqdplusone(3+2j) == (6+12j))\n",
    "print('Unit test passed! Run some of your own tests, making sure to try a variety of cases.')"
   ]
  },
  {
   "cell_type": "code",
   "execution_count": null,
   "metadata": {
    "nbgrader": {
     "grade": true,
     "grade_id": "cell-9f3ccf3b0dcc3a1a",
     "locked": true,
     "points": 1,
     "schema_version": 3,
     "solution": false
    }
   },
   "outputs": [],
   "source": [
    "# 1 Mark\n",
    "# Do not try to delete this cell\n",
    "# Run this cell for grading\n",
    "_globals = globals()\n",
    "question1a(_globals)"
   ]
  },
  {
   "cell_type": "markdown",
   "metadata": {
    "nbgrader": {
     "grade": false,
     "grade_id": "cell-5156a3ca215ddfb9",
     "locked": true,
     "schema_version": 3,
     "solution": false
    }
   },
   "source": [
    "(b) Write and test a function called <code>hailstone_step</code> that takes one argument $a$ (which you can assume to be a positive integer) and returns an integer equal to $a/2$ if $a$ is even, and $3a+1$ if $a$ is odd."
   ]
  },
  {
   "cell_type": "code",
   "execution_count": null,
   "metadata": {
    "nbgrader": {
     "grade": false,
     "grade_id": "cell-7582dbb0352598f5",
     "locked": false,
     "schema_version": 3,
     "solution": true
    }
   },
   "outputs": [],
   "source": [
    "def hailstone_step(a):\n",
    "    ### BEGIN SOLUTION\n",
    "    if a % 2 == 0:\n",
    "        return a//2\n",
    "    else:\n",
    "        return 3*a+1\n",
    "    ### END SOLUTION"
   ]
  },
  {
   "cell_type": "code",
   "execution_count": null,
   "metadata": {
    "nbgrader": {
     "grade": true,
     "grade_id": "cell-5d58e3855945bf93",
     "locked": true,
     "points": 0,
     "schema_version": 3,
     "solution": false
    }
   },
   "outputs": [],
   "source": [
    "# Run this test cell to check your code\n",
    "# Unit test\n",
    "# 0 Marks\n",
    "assert(hailstone_step(7) == 22)\n",
    "print('Unit test passed! Run some of your own tests, making sure to try a variety of cases.')"
   ]
  },
  {
   "cell_type": "code",
   "execution_count": null,
   "metadata": {
    "nbgrader": {
     "grade": true,
     "grade_id": "cell-03a43bd44d34aae1",
     "locked": true,
     "points": 2,
     "schema_version": 3,
     "solution": false
    }
   },
   "outputs": [],
   "source": [
    "# 2 Marks\n",
    "# Do not try to delete this cell\n",
    "# Run this cell for grading\n",
    "_globals = globals()\n",
    "question1b(_globals)"
   ]
  },
  {
   "cell_type": "markdown",
   "metadata": {
    "nbgrader": {
     "grade": false,
     "grade_id": "cell-4ee22367f40299ff",
     "locked": true,
     "schema_version": 3,
     "solution": false
    }
   },
   "source": [
    "(c) Write a function called <code>my_factorial</code> that takes one argument $n$ (which you can assume to be a non-negative integer) and returns its factorial, $n!$."
   ]
  },
  {
   "cell_type": "code",
   "execution_count": null,
   "metadata": {
    "nbgrader": {
     "grade": false,
     "grade_id": "cell-72ce8a0b51ff800f",
     "locked": false,
     "schema_version": 3,
     "solution": true
    }
   },
   "outputs": [],
   "source": [
    "def my_factorial(n):\n",
    "    ### BEGIN SOLUTION\n",
    "    facn = 1\n",
    "    \n",
    "    # for loop, for r = 2, 3, ... n\n",
    "    for r in range(2,n+1):\n",
    "        facn *= r\n",
    "        \n",
    "    return facn\n",
    "    ### END SOLUTION"
   ]
  },
  {
   "cell_type": "code",
   "execution_count": null,
   "metadata": {
    "nbgrader": {
     "grade": true,
     "grade_id": "cell-3bb5ea38caa35539",
     "locked": true,
     "points": 0,
     "schema_version": 3,
     "solution": false
    }
   },
   "outputs": [],
   "source": [
    "# Run this test cell to check your code\n",
    "# Unit test\n",
    "# 0 Marks\n",
    "assert(my_factorial(5) == 120)\n",
    "print('Unit test passed! Run some of your own tests, making sure to try a variety of cases, including edge cases.')"
   ]
  },
  {
   "cell_type": "code",
   "execution_count": null,
   "metadata": {
    "nbgrader": {
     "grade": true,
     "grade_id": "cell-12fd18ed347a5d4e",
     "locked": true,
     "points": 3,
     "schema_version": 3,
     "solution": false
    }
   },
   "outputs": [],
   "source": [
    "# 3 Marks\n",
    "# Do not try to delete this cell\n",
    "# Run this cell for grading\n",
    "_globals = globals()\n",
    "question1c(_globals)"
   ]
  },
  {
   "cell_type": "markdown",
   "metadata": {
    "nbgrader": {
     "grade": false,
     "grade_id": "cell-248dfe03fb369161",
     "locked": true,
     "schema_version": 3,
     "solution": false
    }
   },
   "source": [
    "(d) Write and test a function called <code>fibonacci</code>, which takes as its argument $n$, which you can assume to be a positive integer, and returns the $n$th Fibonacci number. (Note: the first Fibonacci number can be taken to be 1, the second 1, the third 2, etc, so\n",
    "```python\n",
    "fibonacci(5)\n",
    "```\n",
    "should return 5.)"
   ]
  },
  {
   "cell_type": "code",
   "execution_count": null,
   "metadata": {
    "nbgrader": {
     "grade": false,
     "grade_id": "cell-083814268f826c5d",
     "locked": false,
     "schema_version": 3,
     "solution": true
    }
   },
   "outputs": [],
   "source": [
    "def fibonacci(n):\n",
    "    ### BEGIN SOLUTION\n",
    "    a, b = 1, 1\n",
    "    \n",
    "    for r in range(3,n+1):\n",
    "        a, b = b, a+b\n",
    "    \n",
    "    return b\n",
    "    ### END SOLUTION"
   ]
  },
  {
   "cell_type": "code",
   "execution_count": null,
   "metadata": {
    "nbgrader": {
     "grade": true,
     "grade_id": "cell-0e433bf224e67d1a",
     "locked": true,
     "points": 0,
     "schema_version": 3,
     "solution": false
    }
   },
   "outputs": [],
   "source": [
    "# Run this test cell to check your code\n",
    "# Unit test\n",
    "# 0 Marks\n",
    "assert(fibonacci(5) == 5)\n",
    "print('Unit test passed! Run some of your own tests, making sure to try a variety of cases.')"
   ]
  },
  {
   "cell_type": "code",
   "execution_count": null,
   "metadata": {
    "nbgrader": {
     "grade": true,
     "grade_id": "cell-512e72d91dabe64f",
     "locked": true,
     "points": 2,
     "schema_version": 3,
     "solution": false
    }
   },
   "outputs": [],
   "source": [
    "# 2 Marks\n",
    "# Do not try to delete this cell\n",
    "# Run this cell for grading\n",
    "_globals = globals()\n",
    "question1d(_globals)"
   ]
  },
  {
   "cell_type": "markdown",
   "metadata": {
    "nbgrader": {
     "grade": false,
     "grade_id": "cell-fcf4c095899ed43b",
     "locked": true,
     "schema_version": 3,
     "solution": false
    }
   },
   "source": [
    "(e) Write and test a function called <code>factor_sum</code> that takes as its argument <code>a</code>, which you can assume to be a positive integer, and returns the sum of all its factors including itself. Try to make your function reasonably efficient, without too many unnecessary iterations."
   ]
  },
  {
   "cell_type": "code",
   "execution_count": null,
   "metadata": {
    "nbgrader": {
     "grade": false,
     "grade_id": "cell-ed953a434d1a00e3",
     "locked": false,
     "schema_version": 3,
     "solution": true
    }
   },
   "outputs": [],
   "source": [
    "def factor_sum(a):\n",
    "    ### BEGIN SOLUTION\n",
    "    from math import floor, sqrt\n",
    "    \n",
    "    fsum = 0\n",
    "    \n",
    "    sqrta = floor(sqrt(a))\n",
    "    \n",
    "    for r in range(1,sqrta+1):\n",
    "        if a%r == 0:\n",
    "            fsum += r + a//r\n",
    "            \n",
    "    # adjust for perfect squares\n",
    "    if sqrta ** 2 == a:\n",
    "        fsum -= sqrta\n",
    "        \n",
    "    return fsum\n",
    "    ### END SOLUTION"
   ]
  },
  {
   "cell_type": "code",
   "execution_count": null,
   "metadata": {
    "nbgrader": {
     "grade": true,
     "grade_id": "cell-9124bb3900fcaf38",
     "locked": true,
     "points": 0,
     "schema_version": 3,
     "solution": false
    }
   },
   "outputs": [],
   "source": [
    "# Run this test cell to check your code\n",
    "# Unit test\n",
    "# 0 Marks\n",
    "assert(factor_sum(24) == 60)\n",
    "print('Unit test passed! Run some of your own tests, making sure to try a variety of cases.')"
   ]
  },
  {
   "cell_type": "code",
   "execution_count": null,
   "metadata": {
    "nbgrader": {
     "grade": true,
     "grade_id": "cell-b19e110c9aa2d269",
     "locked": true,
     "points": 4,
     "schema_version": 3,
     "solution": false
    }
   },
   "outputs": [],
   "source": [
    "# 4 Marks\n",
    "# Do not try to delete this cell\n",
    "# Run this cell for grading\n",
    "_globals = globals()\n",
    "question1e(_globals)"
   ]
  },
  {
   "cell_type": "markdown",
   "metadata": {
    "nbgrader": {
     "grade": false,
     "grade_id": "cell-51e283ccf93ae93f",
     "locked": true,
     "schema_version": 3,
     "solution": false
    }
   },
   "source": [
    "(f) Write a function called <code>nest</code>, which takes as its arguments a function <code>f</code>, a starting value <code>x0</code> and a number of iterations <code>n</code>, and returns \n",
    "\n",
    "<center>\n",
    "    <code>f(f(f(...f(x0)...))),</code>\n",
    "</center>\n",
    "\n",
    "the <code>n</code>th iterate of <code>f</code> starting at <code>x0</code>.\n",
    "\n",
    "Test your function. The following code should return the value \n",
    "\n",
    "$$\\cos(\\cos(\\cos(\\cos(\\cos(1.0))))) = 0.7013687736227566,$$ \n",
    "\n",
    "for example (though you should test more than once).\n",
    "\n",
    "```python\n",
    "from math import cos\n",
    "nest(cos, 1.0, 5)\n",
    "```\n",
    "\n",
    "Using your function, calculate the 20th iterate of $f$ starting at $0.3$, where\n",
    "\n",
    "$$f(x) = 4\\,x\\,(1-x).$$\n",
    "\n",
    "Make sure to pass this to the variable <code>x20</code>.\n",
    "\n",
    "(Hint; for the last part, you may wish to use something called a <b>lambda-expression</b>; take a sneak peek at the notes for Term 1, Week 10. A lambda-expression is not required for this question, but you might find it convenient.)"
   ]
  },
  {
   "cell_type": "code",
   "execution_count": null,
   "metadata": {
    "nbgrader": {
     "grade": false,
     "grade_id": "cell-f036c883340009fc",
     "locked": false,
     "schema_version": 3,
     "solution": true
    }
   },
   "outputs": [],
   "source": [
    "def nest(f, x0, n):\n",
    "    ### BEGIN SOLUTION\n",
    "    \n",
    "    x = x0\n",
    "    \n",
    "    for r in range(n):\n",
    "        x = f(x)\n",
    "        \n",
    "    return x\n",
    "\n",
    "x20 = nest(lambda x: 4*x*(1-x), 0.3, 20)\n",
    "    ### END SOLUTION\n",
    "\n",
    "x20 = # delete, and fill in your code\n",
    "print(x20)"
   ]
  },
  {
   "cell_type": "code",
   "execution_count": null,
   "metadata": {
    "nbgrader": {
     "grade": true,
     "grade_id": "cell-eb91dac56e3e4ea7",
     "locked": true,
     "points": 0,
     "schema_version": 3,
     "solution": false
    }
   },
   "outputs": [],
   "source": [
    "# Run this test cell to check your code\n",
    "# Unit test\n",
    "# 0 Marks\n",
    "from math import cos\n",
    "from numpy import isclose\n",
    "assert(isclose(nest(cos, 1.0, 5), 0.7013687736227566))\n",
    "print('Unit test passed! Run some of your own tests, making sure to try a variety of cases.')"
   ]
  },
  {
   "cell_type": "code",
   "execution_count": null,
   "metadata": {
    "nbgrader": {
     "grade": true,
     "grade_id": "cell-8dda4608d9bf0aec",
     "locked": true,
     "points": 4,
     "schema_version": 3,
     "solution": false
    }
   },
   "outputs": [],
   "source": [
    "# 4 Marks\n",
    "# Do not try to delete this cell\n",
    "# Run this cell for grading\n",
    "_globals = globals()\n",
    "question1f(_globals)"
   ]
  },
  {
   "cell_type": "markdown",
   "metadata": {
    "nbgrader": {
     "grade": false,
     "grade_id": "cell-edc4272412831102",
     "locked": true,
     "schema_version": 3,
     "solution": false
    }
   },
   "source": [
    "## Question 2\n",
    "\n",
    "\n",
    "(a) Write and test a function called <code>hailstone_sequence</code> which takes as its arguments a starting value <code>a</code> and a number of iterations <code>n</code>, both assumed to be positive integers. It should then return, as a list, the sequence generated by iterating \"if <code>a</code> is even, halve it; otherwise, multiply it by 3 and add 1\" <code>n</code> times; the list should be of length <code>n+1</code>.\n",
    "\n",
    "(Hint: you may wish to call the function you've already written called <code>hailstone_step</code>.)"
   ]
  },
  {
   "cell_type": "code",
   "execution_count": null,
   "metadata": {
    "nbgrader": {
     "grade": false,
     "grade_id": "cell-bf69a919a8656af0",
     "locked": false,
     "schema_version": 3,
     "solution": true
    }
   },
   "outputs": [],
   "source": [
    "def hailstone_sequence(a, n):\n",
    "    ### BEGIN SOLUTION\n",
    "    alist = [a]\n",
    "    \n",
    "    for r in range(n):\n",
    "        a = hailstone_step(a)\n",
    "        alist.append(a)\n",
    "        \n",
    "    return alist\n",
    "    ### END SOLUTION"
   ]
  },
  {
   "cell_type": "code",
   "execution_count": null,
   "metadata": {
    "nbgrader": {
     "grade": true,
     "grade_id": "cell-bad32cb1372c0531",
     "locked": true,
     "points": 4,
     "schema_version": 3,
     "solution": false
    }
   },
   "outputs": [],
   "source": [
    "# 4 Marks\n",
    "# Do not try to delete this cell\n",
    "# Run this cell for grading\n",
    "_globals = globals()\n",
    "question2a(_globals)"
   ]
  },
  {
   "cell_type": "markdown",
   "metadata": {
    "nbgrader": {
     "grade": false,
     "grade_id": "cell-4478baed838d9fb4",
     "locked": true,
     "schema_version": 3,
     "solution": false
    }
   },
   "source": [
    "(b) Write and test a function called <code>fibonacci_sequence</code> which takes as its argument $n$ (which you can assume to be a positive integer) and returns a list consisting of the Fibonacci sequence up to the $n$th term. The first Fibonacci number should be treated as 1, and the second as 1, so that\n",
    "```python\n",
    "fibonacci_sequence(5)\n",
    "```\n",
    "should return\n",
    "```\n",
    "[1, 1, 2, 3, 5]\n",
    "```"
   ]
  },
  {
   "cell_type": "code",
   "execution_count": null,
   "metadata": {
    "nbgrader": {
     "grade": false,
     "grade_id": "cell-819fd6713dfb2bbd",
     "locked": false,
     "schema_version": 3,
     "solution": true
    }
   },
   "outputs": [],
   "source": [
    "def fibonacci_sequence(n): \n",
    "    ### BEGIN SOLUTION\n",
    "    if n==1:\n",
    "        return [1]\n",
    "    else:\n",
    "        a, b = 1, 1\n",
    "        fiblist = [a, b]\n",
    "        \n",
    "        for r in range(3, n+1):\n",
    "            a, b = b, a + b\n",
    "            fiblist.append(b)\n",
    "            \n",
    "        return fiblist\n",
    "    ### END SOLUTION"
   ]
  },
  {
   "cell_type": "code",
   "execution_count": null,
   "metadata": {
    "nbgrader": {
     "grade": true,
     "grade_id": "cell-3e5dee79d8ab2138",
     "locked": true,
     "points": 2,
     "schema_version": 3,
     "solution": false
    }
   },
   "outputs": [],
   "source": [
    "# 2 Marks\n",
    "# Do not try to delete this cell\n",
    "# Run this cell for grading\n",
    "_globals = globals()\n",
    "question2b(_globals)"
   ]
  },
  {
   "cell_type": "markdown",
   "metadata": {
    "nbgrader": {
     "grade": false,
     "grade_id": "cell-9dae53b3539f8eda",
     "locked": true,
     "schema_version": 3,
     "solution": false
    }
   },
   "source": [
    "(c) Write a function called <code>aliquot_chain</code> which takes as its argument a starting value <code>a</code> and a number of iterations <code>n</code>, both non-negative integers. It should return a list of length <code>n+1</code>, starting with <code>a</code>, where each number in the list (starting from the second) is the sum of the factors of the previous number <em>not including that number itself</em>.\n",
    "\n",
    "Test your function: the code\n",
    "\n",
    "<code>\n",
    "aliquot_chain(24, 5)\n",
    "</code>\n",
    "\n",
    "should return the value <code>[24, 36, 55, 17, 1, 0]</code>, for example."
   ]
  },
  {
   "cell_type": "code",
   "execution_count": null,
   "metadata": {
    "nbgrader": {
     "grade": false,
     "grade_id": "cell-39b4848ed884388d",
     "locked": false,
     "schema_version": 3,
     "solution": true
    }
   },
   "outputs": [],
   "source": [
    "def aliquot_chain(a, n):\n",
    "    ### BEGIN SOLUTION\n",
    "    alist = [a]\n",
    "    \n",
    "    for r in range(n):\n",
    "        a = factor_sum(a) - a\n",
    "        alist.append(a)\n",
    "        \n",
    "    return alist\n",
    "    ### END SOLUTION"
   ]
  },
  {
   "cell_type": "code",
   "execution_count": null,
   "metadata": {
    "nbgrader": {
     "grade": true,
     "grade_id": "cell-4eaaee03a4b30bee",
     "locked": true,
     "points": 2,
     "schema_version": 3,
     "solution": false
    }
   },
   "outputs": [],
   "source": [
    "# 2 Marks\n",
    "# Do not try to delete this cell\n",
    "# Run this cell for grading\n",
    "_globals = globals()\n",
    "question2c(_globals)"
   ]
  },
  {
   "cell_type": "markdown",
   "metadata": {
    "nbgrader": {
     "grade": false,
     "grade_id": "cell-d202e6ec808b6d3f",
     "locked": true,
     "schema_version": 3,
     "solution": false
    }
   },
   "source": [
    "(d) Write and test a function called <code>nest_list</code> which takes as its arguments a function <code>f</code>, a starting value <code>x0</code> and a number of iterations <code>n</code>, and returns the list\n",
    "\n",
    "<center>\n",
    "    <code>[x0, f(x0), f(f(x0)), ..., f(f(f(...f(x0)...)))],</code>\n",
    "</center>\n",
    "\n",
    "(that is, all <code>n+1</code> iterates of <code>f</code>, from the starting value <code>x0</code> to the <code>n</code>th).\n",
    "\n",
    "Use your function to calculate the terms in the sequence generated by 20 iterations of $f$, where\n",
    "\n",
    "$$f(x) = 4\\,x\\,(1-x),$$\n",
    "\n",
    "starting from $x=0.3$. Pass this to the variable <code>xlist20</code>."
   ]
  },
  {
   "cell_type": "code",
   "execution_count": null,
   "metadata": {
    "nbgrader": {
     "grade": false,
     "grade_id": "cell-2ae8066aa476fbc7",
     "locked": false,
     "schema_version": 3,
     "solution": true
    }
   },
   "outputs": [],
   "source": [
    "def nest_list(f, x0, n):\n",
    "    ### BEGIN SOLUTION\n",
    "    x = x0\n",
    "    xlist = [x]\n",
    "    \n",
    "    for r in range(n):\n",
    "        x = f(x)\n",
    "        xlist.append(x)\n",
    "        \n",
    "    return xlist\n",
    "\n",
    "xlist20 = nest_list(lambda x: 4*x*(1-x), 0.3, 20)\n",
    "    ### END SOLUTION"
   ]
  },
  {
   "cell_type": "code",
   "execution_count": null,
   "metadata": {
    "nbgrader": {
     "grade": true,
     "grade_id": "cell-6ecd8661ad6362cf",
     "locked": true,
     "points": 4,
     "schema_version": 3,
     "solution": false
    }
   },
   "outputs": [],
   "source": [
    "# 4 Marks\n",
    "# Do not try to delete this cell\n",
    "# Run this cell for grading\n",
    "_globals = globals()\n",
    "question2d(_globals)"
   ]
  },
  {
   "cell_type": "markdown",
   "metadata": {
    "nbgrader": {
     "grade": false,
     "grade_id": "cell-c8fcc88aff37f938",
     "locked": true,
     "schema_version": 3,
     "solution": false,
     "task": false
    }
   },
   "source": [
    "(e) Write a function called `duffing_iterates` which takes as its arguments two parameters `a` and `b`, two starting values `x0` and `y0`, and a number of iterations `n`, and returns a 2-tuple containing the lists `[x0, x1, x2, ..., xn]` and `[y0, y1, y2, ..., yn]` generated by the Duffing map\n",
    "$$x_{n+1}=y_n,$$\n",
    "$$y_{n+1}=-b\\,x_n+a\\,y_n-{y_n}^3.$$\n",
    "\n",
    "Check your function; check in particular that it is capable of assigning values to two variables simultaneously.\n",
    "\n",
    "Use the `plot` function to generate a 2D point plot of the iterates in the case $a=2.75$, $b=0.2$, $x_0=y_0=0.5$ and $n=100000$."
   ]
  },
  {
   "cell_type": "code",
   "execution_count": null,
   "metadata": {
    "nbgrader": {
     "grade": false,
     "grade_id": "cell-5fa7ae48378128a4",
     "locked": false,
     "schema_version": 3,
     "solution": true,
     "task": false
    }
   },
   "outputs": [],
   "source": [
    "def duffing_iterates(a, b, x0, y0, n):\n",
    "    ### BEGIN SOLUTION\n",
    "    x, y = x0, y0\n",
    "    xlist, ylist = [x], [y]\n",
    "    \n",
    "    for r in range(n):\n",
    "        x, y = y, -b*x + a*y - y**3\n",
    "        xlist.append(x)\n",
    "        ylist.append(y)\n",
    "        \n",
    "    return xlist, ylist\n",
    "\n",
    "its = duffing_iterates(2.75, 0.2, 0.5, 0.5, 100000)\n",
    "plt.plot(its[0], its[1], '.', markersize=0.1)\n",
    "    ### END SOLUTION"
   ]
  },
  {
   "cell_type": "code",
   "execution_count": null,
   "metadata": {
    "nbgrader": {
     "grade": true,
     "grade_id": "cell-5ce51157eb9854dc",
     "locked": true,
     "points": 4,
     "schema_version": 3,
     "solution": false,
     "task": false
    }
   },
   "outputs": [],
   "source": [
    "# 4 Marks\n",
    "# Do not try to delete this cell\n",
    "# Run this cell for grading\n",
    "_globals = globals()\n",
    "question2e(_globals)"
   ]
  },
  {
   "cell_type": "markdown",
   "metadata": {
    "nbgrader": {
     "grade": false,
     "grade_id": "cell-6145c37fd5327ecc",
     "locked": true,
     "schema_version": 3,
     "solution": false
    }
   },
   "source": [
    "## Question 3\n",
    "\n",
    "(a) Write and test a version of your hailstone sequence function, called <code>hailstone_sequence2</code>, which takes only the argument <code>a</code> and which terminates not after a set number of iterations but when the sequence hits the value 1. (You probably want to use a <code>while</code> loop.)"
   ]
  },
  {
   "cell_type": "code",
   "execution_count": null,
   "metadata": {
    "nbgrader": {
     "grade": false,
     "grade_id": "cell-48e58cfbd11e3e3b",
     "locked": false,
     "schema_version": 3,
     "solution": true
    }
   },
   "outputs": [],
   "source": [
    "def hailstone_sequence2(a):\n",
    "    ### BEGIN SOLUTION\n",
    "    alist = [a]\n",
    "    \n",
    "    while a > 1:\n",
    "        a = hailstone_step(a)\n",
    "        alist.append(a)\n",
    "        \n",
    "    return alist\n",
    "    ### END SOLUTION"
   ]
  },
  {
   "cell_type": "code",
   "execution_count": null,
   "metadata": {
    "nbgrader": {
     "grade": true,
     "grade_id": "cell-1c2b062449dc979c",
     "locked": true,
     "points": 5,
     "schema_version": 3,
     "solution": false
    }
   },
   "outputs": [],
   "source": [
    "# 5 Marks\n",
    "# Do not try to delete this cell\n",
    "# Run this cell for grading\n",
    "_globals = globals()\n",
    "question3a(_globals)"
   ]
  },
  {
   "cell_type": "markdown",
   "metadata": {
    "nbgrader": {
     "grade": false,
     "grade_id": "cell-068371e7bafb1c65",
     "locked": true,
     "schema_version": 3,
     "solution": false
    }
   },
   "source": [
    "(b) Write a version of your aliquot chain function, called <code>aliquot_chain2</code>, which takes only the argument <code>a</code> and which terminates not after a set number of iterations but when the sequence encounters a value it has encountered before. \n",
    "\n",
    "Test your function: <code>aliquot_chain2(24)</code> should return <code>[24, 36, 55, 17, 1, 0, 0]</code>, whereas <code>aliquot_chain2(28)</code> should return <code>[28, 28]</code>, and <code>aliquot_chain2(220)</code> should return <code>[220, 284, 220]</code>."
   ]
  },
  {
   "cell_type": "code",
   "execution_count": null,
   "metadata": {
    "nbgrader": {
     "grade": false,
     "grade_id": "cell-1b189024c6e59d88",
     "locked": false,
     "schema_version": 3,
     "solution": true
    }
   },
   "outputs": [],
   "source": [
    "def aliquot_chain2(a):\n",
    "    ### BEGIN SOLUTION\n",
    "    alist = [a]\n",
    "    \n",
    "    while not a in alist[0:-1]:\n",
    "        a = factor_sum(a) - a\n",
    "        alist.append(a)\n",
    "        \n",
    "    return alist\n",
    "    ### END SOLUTION"
   ]
  },
  {
   "cell_type": "code",
   "execution_count": null,
   "metadata": {
    "nbgrader": {
     "grade": true,
     "grade_id": "cell-425a664ab09929e4",
     "locked": true,
     "points": 5,
     "schema_version": 3,
     "solution": false
    }
   },
   "outputs": [],
   "source": [
    "# 5 Marks\n",
    "# Do not try to delete this cell\n",
    "# Run this cell for grading\n",
    "_globals = globals()\n",
    "question3b(_globals)"
   ]
  },
  {
   "cell_type": "markdown",
   "metadata": {
    "nbgrader": {
     "grade": false,
     "grade_id": "cell-c22ee7170f96b520",
     "locked": true,
     "schema_version": 3,
     "solution": false
    }
   },
   "source": [
    "(c) Write and test a function called <code>fixed_point_list</code>, which takes as its input a function <code>f</code>, an initial value <code>x0</code> and a <code>tolerance</code>, and returns a list consisting of \n",
    "\n",
    "<code>[x0, f(x0), f(f(x0)), ...]</code>, \n",
    "\n",
    "which terminates when successive iterates are within <code>tolerance</code> of one another. (Make sure you test it only on iterations that you know converge; later, we'll look at how to build in safeguards to prevent infinite loops when an iteration fails to converge.)"
   ]
  },
  {
   "cell_type": "code",
   "execution_count": null,
   "metadata": {
    "nbgrader": {
     "grade": false,
     "grade_id": "cell-70aad741029c978d",
     "locked": false,
     "schema_version": 3,
     "solution": true
    }
   },
   "outputs": [],
   "source": [
    "def fixed_point_list(f, x0, tolerance):\n",
    "    ### BEGIN SOLUTION\n",
    "    oldx = x0\n",
    "    newx = f(oldx)\n",
    "    xlist = [oldx, newx]\n",
    "    \n",
    "    while abs(oldx-newx) > tolerance:\n",
    "        oldx = newx\n",
    "        newx = f(oldx)\n",
    "        xlist.append(newx)\n",
    "        \n",
    "    return xlist\n",
    "    ### END SOLUTION"
   ]
  },
  {
   "cell_type": "code",
   "execution_count": null,
   "metadata": {
    "nbgrader": {
     "grade": true,
     "grade_id": "cell-753024b1ab5e656d",
     "locked": true,
     "points": 3,
     "schema_version": 3,
     "solution": false
    }
   },
   "outputs": [],
   "source": [
    "# 3 Marks\n",
    "# Do not try to delete this cell\n",
    "# Run this cell for grading\n",
    "_globals = globals()\n",
    "question3c(_globals)"
   ]
  },
  {
   "cell_type": "markdown",
   "metadata": {
    "nbgrader": {
     "grade": false,
     "grade_id": "cell-12e2c746793b6e22",
     "locked": true,
     "schema_version": 3,
     "solution": false,
     "task": false
    }
   },
   "source": [
    "(d) Write and test a function called <code>binary_digits</code>, which takes as its input a non-negative int $a$, and returns its binary digits as a list of ones and zeros. The list should begin with the first non-zero digit, unless $a=0$ in which case the list should contain a single zero."
   ]
  },
  {
   "cell_type": "code",
   "execution_count": 2,
   "metadata": {
    "nbgrader": {
     "grade": false,
     "grade_id": "cell-a11a1e7e8036b571",
     "locked": false,
     "schema_version": 3,
     "solution": true,
     "task": false
    }
   },
   "outputs": [],
   "source": [
    "def binary_digits(a):\n",
    "    ### BEGIN SOLUTION\n",
    "    # edge case\n",
    "    if a==0:\n",
    "        return [0]\n",
    "    \n",
    "    digits = []\n",
    "    \n",
    "    while a>0:\n",
    "        digits.append(a%2)\n",
    "        a //= 2\n",
    "        \n",
    "    digits.reverse()\n",
    "    return digits\n",
    "    ### END SOLUTION"
   ]
  },
  {
   "cell_type": "code",
   "execution_count": 3,
   "metadata": {
    "nbgrader": {
     "grade": true,
     "grade_id": "cell-c6c0d9e08319602c",
     "locked": true,
     "points": 3,
     "schema_version": 3,
     "solution": false,
     "task": false
    }
   },
   "outputs": [
    {
     "name": "stdout",
     "output_type": "stream",
     "text": [
      "Test 1: a is a power of 2\n",
      "\n",
      "binary_digits(2**15) returned the correct list of digits\n",
      "The digits are in the correct order\n",
      "\n",
      "Test 2: a is not a power of 2\n",
      "\n",
      "binary_digits(14827) returned the correct list of digits\n",
      "The digits are in the correct order\n",
      "\n",
      "Test 3: edge cases\n",
      "\n",
      "binary_digits(1) returned the correct list of digits\n",
      "binary_digits(0) returned the correct list of digits\n",
      "\n",
      "3 marks out of 3\n"
     ]
    },
    {
     "data": {
      "text/plain": [
       "3"
      ]
     },
     "execution_count": 3,
     "metadata": {},
     "output_type": "execute_result"
    }
   ],
   "source": [
    "# 3 Marks\n",
    "# Do not try to delete this cell\n",
    "# Run this cell for grading\n",
    "_globals = globals()\n",
    "question3d(_globals)"
   ]
  },
  {
   "cell_type": "markdown",
   "metadata": {
    "nbgrader": {
     "grade": false,
     "grade_id": "cell-447ff5d339d8bda8",
     "locked": true,
     "schema_version": 3,
     "solution": false,
     "task": false
    }
   },
   "source": [
    "(e) Write and test a function called <code>binary_digits_float</code>, which takes as its input a non-negative float $a$, and a non-negative int $n$, and returns its binary digits as two lists of ones and zeros. The first list should consist of the binary expansion of the integer part of $a$, and the second should consist of the binary expansion of its fractional part to $n$ (binary) places (just truncate this list; don't bother with rounding). "
   ]
  },
  {
   "cell_type": "code",
   "execution_count": 12,
   "metadata": {
    "nbgrader": {
     "grade": false,
     "grade_id": "cell-9dc8503d972edd83",
     "locked": false,
     "schema_version": 3,
     "solution": true,
     "task": false
    }
   },
   "outputs": [],
   "source": [
    "def binary_digits_float(a, n):\n",
    "    ### BEGIN SOLUTION\n",
    "    intpart = int(a)\n",
    "    fracpart = a - intpart\n",
    "    \n",
    "    # binary expansion of integer part\n",
    "    list0 = binary_digits(intpart)\n",
    "    # binary expansion of fractional part to n places, truncated\n",
    "    list1 = binary_digits(int(2**n*fracpart))\n",
    "    \n",
    "    # possible bug is that expansion begins with zeros that aren't returned\n",
    "    # by binary_digits, so we pad with zeros at the beginning\n",
    "    list1 = [0 for r in range(n-len(list1))] + list1\n",
    "    \n",
    "    return list0, list1    \n",
    "    ### END SOLUTION"
   ]
  },
  {
   "cell_type": "code",
   "execution_count": 13,
   "metadata": {
    "nbgrader": {
     "grade": true,
     "grade_id": "cell-51cbb375d8c2f076",
     "locked": true,
     "points": 4,
     "schema_version": 3,
     "solution": false,
     "task": false
    }
   },
   "outputs": [
    {
     "name": "stdout",
     "output_type": "stream",
     "text": [
      "Test 1: typical case\n",
      "\n",
      "binary_digits_float(12.8191,10) returned the correct list of digits for the integer part\n",
      "binary_digits_float(12.8191,10) returned the correct list of digits for the fractional part\n",
      "\n",
      "Tests 2: fractional part begins with zeros\n",
      "\n",
      "binary_digits_float(12.2191,10) returned the correct list of digits for the fractional part,\n",
      "including the two leading zeros\n",
      "\n",
      "Test 3: integer part is zero\n",
      "\n",
      "binary_digits_float(0.8191,10) returned the correct list of digits for the integer part\n",
      "binary_digits_float(0.8191,10) returned the correct list of digits for the fractional part\n",
      "\n",
      "Test 4: fractional part is zero\n",
      "\n",
      "binary_digits_float(12.0,10) returned the correct list of digits for the integer part\n",
      "binary_digits_float(12.0,10) returned the correct list of digits for the fractional part\n",
      "\n",
      "4 marks out of 4\n"
     ]
    },
    {
     "data": {
      "text/plain": [
       "4"
      ]
     },
     "execution_count": 13,
     "metadata": {},
     "output_type": "execute_result"
    }
   ],
   "source": [
    "# 4 Marks\n",
    "# Do not try to delete this cell\n",
    "# Run this cell for grading\n",
    "_globals = globals()\n",
    "question3e(_globals)"
   ]
  },
  {
   "cell_type": "markdown",
   "metadata": {
    "nbgrader": {
     "grade": false,
     "grade_id": "cell-4f443f25c507d7b6",
     "locked": true,
     "schema_version": 3,
     "solution": false
    }
   },
   "source": [
    "## Question 4\n",
    "\n",
    "The method of calculating the primes by successive filtering is called the <b>sieve of Eratosthenes</b>; Earlier, you explored an implementation of this based on <em>conditional comprehensions</em>. You started with the integers between 2 and 400 inclusive; you then removed all the multiples of 2 except 2 itself; then all the multiples of 3 except 3 itself; then all the multiples of 5 except 5 itself; and so on, using primes each time.\n",
    "\n",
    "Write and test a function called <code>my_primes</code> that takes as its argument a single <code>n</code>, which you can assume to be an integer greater than 1, and, using the sieve of Eratosthenes, returns a list of all the primes between 2 and <code>n</code> inclusive. Make your function reasonably efficient; don't put in lots of unnecessary iterations."
   ]
  },
  {
   "cell_type": "code",
   "execution_count": null,
   "metadata": {
    "nbgrader": {
     "grade": false,
     "grade_id": "cell-09d7c2ad10004e0e",
     "locked": false,
     "schema_version": 3,
     "solution": true
    }
   },
   "outputs": [],
   "source": [
    "def my_primes(n):\n",
    "    ### BEGIN SOLUTION\n",
    "    ints = list(range(2,n+1))\n",
    "    r = 0\n",
    "    p = ints[r]\n",
    "    \n",
    "    while p**2 <= ints[-1]:\n",
    "        # filter\n",
    "        ints = [a for a in ints if a == p or a % p > 0]\n",
    "        \n",
    "        r += 1\n",
    "        p = ints[r]\n",
    "        \n",
    "    return ints\n",
    "    ### END SOLUTION"
   ]
  },
  {
   "cell_type": "code",
   "execution_count": null,
   "metadata": {
    "nbgrader": {
     "grade": true,
     "grade_id": "cell-c749e7603ceb65e9",
     "locked": true,
     "points": 5,
     "schema_version": 3,
     "solution": false
    }
   },
   "outputs": [],
   "source": [
    "# 5 Marks\n",
    "# Do not try to delete this cell\n",
    "# Run this cell for grading\n",
    "_globals = globals()\n",
    "question4(_globals)"
   ]
  },
  {
   "cell_type": "markdown",
   "metadata": {
    "nbgrader": {
     "grade": false,
     "grade_id": "cell-24b4d32bb87be3a0",
     "locked": true,
     "schema_version": 3,
     "solution": false,
     "task": false
    }
   },
   "source": [
    "## Bonus Questions\n",
    "\n",
    "### Question 1\n",
    "\n",
    "Write a function, `symCheck`, that takes as input a matrix, expressed as a list of lists, and determines whether or not the matrix is symmetric. The function should return the strings `not symmetric` or `symmetric`. You may not use any obvious builtin function."
   ]
  },
  {
   "cell_type": "code",
   "execution_count": 22,
   "metadata": {
    "nbgrader": {
     "grade": false,
     "grade_id": "cell-f3f2aefc41f2911d",
     "locked": false,
     "schema_version": 3,
     "solution": true,
     "task": false
    }
   },
   "outputs": [],
   "source": [
    "# Question 1\n",
    "def symCheck(A):\n",
    "    ### BEGIN SOLUTION\n",
    "    import numpy as np\n",
    "    A    = np.asarray(A)\n",
    "    r, c = A.shape\n",
    "    if r != c:\n",
    "        return 'not symmetric'\n",
    "    for rows in range(r):\n",
    "        if any(A[rows, :] != A[:, rows]):\n",
    "            return 'not symmetric'\n",
    "    else:\n",
    "        return 'symmetric'\n",
    "    ### END SOLUTION"
   ]
  },
  {
   "cell_type": "code",
   "execution_count": 10,
   "metadata": {
    "nbgrader": {
     "grade": true,
     "grade_id": "cell-0ac2746c8242a091",
     "locked": true,
     "points": 1,
     "schema_version": 3,
     "solution": false,
     "task": false
    }
   },
   "outputs": [
    {
     "name": "stdout",
     "output_type": "stream",
     "text": [
      "Test case passed!!!\n"
     ]
    }
   ],
   "source": [
    "# Run this test cell to check your code\n",
    "# Do not delete this cell\n",
    "# 1 mark\n",
    "# Unit test\n",
    "A = [[1, 2, 3], [2, 1, 3]]\n",
    "assert(symCheck(A) == 'not symmetric')\n",
    "print('Test case passed!!!')"
   ]
  },
  {
   "cell_type": "code",
   "execution_count": 11,
   "metadata": {
    "nbgrader": {
     "grade": true,
     "grade_id": "cell-af2c44662743c74d",
     "locked": true,
     "points": 1,
     "schema_version": 3,
     "solution": false,
     "task": false
    }
   },
   "outputs": [
    {
     "name": "stdout",
     "output_type": "stream",
     "text": [
      "Test case passed!!!\n"
     ]
    }
   ],
   "source": [
    "# Run this test cell to check your code\n",
    "# Do not delete this cell\n",
    "# 1 mark\n",
    "# Unit test\n",
    "A = [[1, 2, 3], [2, 1, 3], [2, 1, 3]]\n",
    "assert(symCheck(A) == 'not symmetric')\n",
    "print('Test case passed!!!')"
   ]
  },
  {
   "cell_type": "code",
   "execution_count": 12,
   "metadata": {
    "nbgrader": {
     "grade": true,
     "grade_id": "cell-35974a0e424c744f",
     "locked": true,
     "points": 1,
     "schema_version": 3,
     "solution": false,
     "task": false
    }
   },
   "outputs": [
    {
     "name": "stdout",
     "output_type": "stream",
     "text": [
      "Test case passed!!!\n"
     ]
    }
   ],
   "source": [
    "# Run this test cell to check your code\n",
    "# Do not delete this cell\n",
    "# 1 mark\n",
    "# Unit test\n",
    "A = [[1, 2, 3], [2, 1, 3], [3, 3, 3]]\n",
    "assert(symCheck(A) == 'symmetric')\n",
    "print('Test case passed!!!')"
   ]
  },
  {
   "cell_type": "code",
   "execution_count": 13,
   "metadata": {
    "nbgrader": {
     "grade": true,
     "grade_id": "cell-3c74338d7cde78dc",
     "locked": true,
     "points": 1,
     "schema_version": 3,
     "solution": false,
     "task": false
    }
   },
   "outputs": [
    {
     "name": "stdout",
     "output_type": "stream",
     "text": [
      "Hidden test case passed!!!\n"
     ]
    }
   ],
   "source": [
    "# Hidden test\n",
    "# No output will be produced\n",
    "# 1 mark\n",
    "### BEGIN HIDDEN TESTS\n",
    "import numpy as np\n",
    "b = np.random.randint(-100, 100, size = (10, 10))\n",
    "test = (b + b.T)\n",
    "assert(symCheck(test) == 'symmetric')\n",
    "print('Hidden test case passed!!!')\n",
    "### END HIDDEN TESTS"
   ]
  },
  {
   "cell_type": "code",
   "execution_count": 14,
   "metadata": {
    "nbgrader": {
     "grade": true,
     "grade_id": "cell-6a3ea90ee9b77c8a",
     "locked": true,
     "points": 1,
     "schema_version": 3,
     "solution": false,
     "task": false
    }
   },
   "outputs": [
    {
     "name": "stdout",
     "output_type": "stream",
     "text": [
      "Hidden test case passed!!!\n"
     ]
    }
   ],
   "source": [
    "# Hidden test\n",
    "# No output will be produced\n",
    "# 1 mark\n",
    "### BEGIN HIDDEN TESTS\n",
    "import numpy as np\n",
    "b = np.random.randint(-100, 100, size = (10, 10))\n",
    "assert(symCheck(b) == 'not symmetric')\n",
    "print('Hidden test case passed!!!')\n",
    "### END HIDDEN TESTS"
   ]
  },
  {
   "cell_type": "markdown",
   "metadata": {
    "nbgrader": {
     "grade": false,
     "grade_id": "cell-e892cc5bc7b97e16",
     "locked": true,
     "schema_version": 3,
     "solution": false,
     "task": false
    }
   },
   "source": [
    "### Question 2\n",
    "\n",
    "Write a function that takes in two arrays and finds the number of integers that satisfy the following conditions:\n",
    "\n",
    "* All elements of the first array are factors of the integer under consideration.\n",
    "* The integer under consideration is a factor of all the elements in the second array.\n",
    "    \n",
    "For example, if $a = [2, 6]$ and $b = [24, 36]$, there are 2 numbers between them which satisfy the above, namely 6 and 12. To check, consider the first value 6: 6 % 2 = 0, 6 % 6 = 0, as well as 24 % 6 = 0 and 36 % 6 = 0. Similarly, 12 % 2 = 0, 12 % 6 = 0,  24 % 12 = 0 and 36 % 12 = 0.\n",
    "\n",
    "You may use the `math` function `gcd`, which calculates greatest common divisors."
   ]
  },
  {
   "cell_type": "code",
   "execution_count": 6,
   "metadata": {
    "nbgrader": {
     "grade": false,
     "grade_id": "cell-c1ca2727aaac882f",
     "locked": false,
     "schema_version": 3,
     "solution": true,
     "task": false
    }
   },
   "outputs": [],
   "source": [
    "def setDiff(a, b):\n",
    "    ### BEGIN SOLUTION\n",
    "    from functools import reduce\n",
    "    from math import gcd\n",
    "    counter = 0\n",
    "    lcmNum = reduce(lcm, a)\n",
    "    gcdNum = reduce(gcd, b)\n",
    "    mults  = lcmNum\n",
    "    while mults <= gcdNum:\n",
    "        print(gcdNum, mults, gcdNum % mults)\n",
    "        if gcdNum % mults == 0:\n",
    "            counter += 1\n",
    "        mults += lcmNum\n",
    "    return counter\n",
    "\n",
    "def lcm(a, b):\n",
    "    from math import gcd\n",
    "    return a * b // gcd(a, b)\n",
    "    ### END SOLUTION"
   ]
  },
  {
   "cell_type": "code",
   "execution_count": null,
   "metadata": {
    "nbgrader": {
     "grade": true,
     "grade_id": "cell-aca1bbc826cd86df",
     "locked": true,
     "points": 2,
     "schema_version": 3,
     "solution": false,
     "task": false
    }
   },
   "outputs": [],
   "source": [
    "# Run this test cell to check your code\n",
    "# Do not delete this cell\n",
    "# 2 marks\n",
    "# Unit test\n",
    "bonus_q2(_globals)"
   ]
  },
  {
   "cell_type": "code",
   "execution_count": null,
   "metadata": {
    "nbgrader": {
     "grade": true,
     "grade_id": "cell-bb1274933762d2a4",
     "locked": true,
     "points": 1,
     "schema_version": 3,
     "solution": false,
     "task": false
    }
   },
   "outputs": [],
   "source": [
    "# Hidden test\n",
    "# No output will be produced\n",
    "# 1 mark\n",
    "### BEGIN HIDDEN TESTS\n",
    "a = [2, 4]\n",
    "b = [16, 32, 96]\n",
    "assert(setDiff(a, b) == 3)\n",
    "print('Hidden test case passed!!!')\n",
    "### END HIDDEN TESTS"
   ]
  },
  {
   "cell_type": "code",
   "execution_count": null,
   "metadata": {
    "nbgrader": {
     "grade": true,
     "grade_id": "cell-9f27c0f689941e99",
     "locked": true,
     "points": 1,
     "schema_version": 3,
     "solution": false,
     "task": false
    }
   },
   "outputs": [],
   "source": [
    "# Hidden test\n",
    "# No output will be produced\n",
    "# 1 mark\n",
    "### BEGIN HIDDEN TESTS\n",
    "a = [1]\n",
    "b = [72, 48]\n",
    "assert(setDiff(a, b) == 8)\n",
    "print('Hidden test case passed!!!')\n",
    "### END HIDDEN TESTS"
   ]
  },
  {
   "cell_type": "code",
   "execution_count": null,
   "metadata": {},
   "outputs": [],
   "source": []
  }
 ],
 "metadata": {
  "celltoolbar": "Create Assignment",
  "kernelspec": {
   "display_name": "Python 3 (ipykernel)",
   "language": "python",
   "name": "python3"
  },
  "language_info": {
   "codemirror_mode": {
    "name": "ipython",
    "version": 3
   },
   "file_extension": ".py",
   "mimetype": "text/x-python",
   "name": "python",
   "nbconvert_exporter": "python",
   "pygments_lexer": "ipython3",
   "version": "3.10.12"
  }
 },
 "nbformat": 4,
 "nbformat_minor": 4
}
